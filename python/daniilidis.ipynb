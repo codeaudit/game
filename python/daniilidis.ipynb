{
 "cells": [
  {
   "cell_type": "code",
   "execution_count": 52,
   "metadata": {
    "collapsed": true
   },
   "outputs": [],
   "source": [
    "from __future__ import print_function"
   ]
  },
  {
   "cell_type": "code",
   "execution_count": 53,
   "metadata": {
    "collapsed": true
   },
   "outputs": [],
   "source": [
    "import sys\n",
    "sys.path.append('../build/')"
   ]
  },
  {
   "cell_type": "code",
   "execution_count": 54,
   "metadata": {
    "collapsed": false
   },
   "outputs": [
    {
     "name": "stdout",
     "output_type": "stream",
     "text": [
      "Populating the interactive namespace from numpy and matplotlib\n"
     ]
    }
   ],
   "source": [
    "%pylab inline\n",
    "np.set_printoptions(precision=4, suppress=True)"
   ]
  },
  {
   "cell_type": "code",
   "execution_count": 55,
   "metadata": {
    "collapsed": true
   },
   "outputs": [],
   "source": [
    "import versor as vsr"
   ]
  },
  {
   "cell_type": "markdown",
   "metadata": {},
   "source": [
    "## Dataset generation"
   ]
  },
  {
   "cell_type": "code",
   "execution_count": 56,
   "metadata": {
    "collapsed": false
   },
   "outputs": [],
   "source": [
    "M_object_in_world = vsr.Vec(1.0,1.0,0.1).trs() * vsr.Biv(pi/4.0, 0.0,0.0).exp()\n",
    "M_eye_in_hand = vsr.Vec(-0.1, -0.2, 0.3).trs() * (vsr.Biv(3.0,-1.0,4.0).unit() * (pi/9)).exp()\n",
    "M_eye_in_hand_initial = vsr.Vec(0.11, 0.24, 0.36).trs() * (vsr.Biv(1.0,1.0,0.0).unit() * (np.pi/5.)).exp()"
   ]
  },
  {
   "cell_type": "code",
   "execution_count": 57,
   "metadata": {
    "collapsed": true
   },
   "outputs": [],
   "source": [
    "def hand_eye_pose_pairs(M_object_in_world, M_eye_in_hand, n):\n",
    "    pose_pairs = [\n",
    "            (M_hand_in_world, \n",
    "             (M_eye_in_hand.rev() * M_hand_in_world.rev() * M_object_in_world))\n",
    "            for M_hand_in_world in [vsr.Vec(*np.random.rand(3)).trs() *\n",
    "                                    vsr.Rot(vsr.Biv(*np.random.rand(3)).unit() *\n",
    "                                            np.random.rand() * np.pi)\n",
    "                                    for i in range(n)]]\n",
    "\n",
    "    As = [pose_pair[0] for pose_pair in pose_pairs]\n",
    "    Bs = [pose_pair[1] for pose_pair in pose_pairs]\n",
    "\n",
    "    LAs = []\n",
    "    LBs = []\n",
    "    for i in range(n):\n",
    "        for j in range(i+1,n):\n",
    "            LAs.append(((As[j].rev() * As[i]).log() * 0.5).unit())\n",
    "            LBs.append(((Bs[j] * Bs[i].rev()).log() * 0.5).unit())\n",
    "    return LAs, LBs"
   ]
  },
  {
   "cell_type": "code",
   "execution_count": 58,
   "metadata": {
    "collapsed": false
   },
   "outputs": [
    {
     "name": "stdout",
     "output_type": "stream",
     "text": [
      "45\n"
     ]
    }
   ],
   "source": [
    "n_lines = 10\n",
    "lines_a, lines_b = hand_eye_pose_pairs(M_object_in_world, M_eye_in_hand, n_lines)\n",
    "print(len(lines_a))"
   ]
  },
  {
   "cell_type": "markdown",
   "metadata": {},
   "source": [
    "## Hand-Eye Solver"
   ]
  },
  {
   "cell_type": "code",
   "execution_count": 59,
   "metadata": {
    "collapsed": false
   },
   "outputs": [],
   "source": [
    "def daniilidis_motor(LAs, LBs):\n",
    "    \n",
    "    def Skew(a):\n",
    "        return np.array([[0, -a[2], a[1]],\n",
    "                         [a[2], 0, -a[0]],\n",
    "                         [-a[1], a[0], 0]])\n",
    "    \n",
    "    Ds = []\n",
    "    for LA, LB in zip(LAs, LBs):\n",
    "        D = np.zeros((6,8))\n",
    "        a_ = LA.biv()\n",
    "        ap_ = LA.drv().vec().unduale()\n",
    "        b_ = LB.biv()\n",
    "        bp_ = LB.drv().vec().unduale()\n",
    "        D[:3,0] = np.array(b_ - a_)\n",
    "        D[:3,1:4] = Skew(b_ + a_)\n",
    "        D[3:,0] = np.array(bp_ - ap_)\n",
    "        D[3:,1:4] = Skew(bp_ + ap_)\n",
    "        D[3:,4:] = D[:3,:4]\n",
    "        Ds.append(D[1:7,:].copy())\n",
    "    \n",
    "    Ds = np.array(Ds).reshape(-1,8)\n",
    "    [U, s, Vt] = np.linalg.svd(Ds)\n",
    "\n",
    "    v7 = Vt.T[:,-2].copy()\n",
    "    v8 = Vt.T[:,-1].copy()\n",
    "    \n",
    "    u1 = v7[:4]\n",
    "    v1 = v7[4:]\n",
    "    u2 = v8[:4]\n",
    "    v2 = v8[4:]\n",
    "\n",
    "    a = np.inner(u1,v1)\n",
    "    b = np.inner(u1,v2) + np.inner(u2,v1)\n",
    "    c = np.inner(u2,v2)\n",
    "    [s1, s2] = np.roots([a,b,c])\n",
    "\n",
    "    val1 = (s1**2 * np.inner(u1,u1)) + (2 * s1 * np.inner(u1,u2)) + (np.inner(u2,u2))\n",
    "    val2 = (s2**2 * np.inner(u1,u1)) + (2 * s2 * np.inner(u1,u2)) + (np.inner(u2,u2))\n",
    "    \n",
    "    if val1 > val2:\n",
    "        s = s1\n",
    "        val = val1\n",
    "    else:\n",
    "        s = s2\n",
    "        val = val2\n",
    "\n",
    "    lambda2 = np.sqrt(1.0/val)\n",
    "    lambda1 = s * lambda2\n",
    "    \n",
    "    m = lambda1 * Vt.T[:,-2] + lambda2 * Vt.T[:,-1]\n",
    "    s = m[0]\n",
    "    A = vsr.Biv(m[1], m[2], m[3])\n",
    "    B = vsr.Biv(m[5], m[6], m[7]).duale()\n",
    "    s4 = -m[4]\n",
    "    \n",
    "    mot = vsr.Mot(s, A[0], A[1], A[2], B[0], B[1], B[2], s4)\n",
    "\n",
    "    return mot * -1"
   ]
  },
  {
   "cell_type": "markdown",
   "metadata": {},
   "source": [
    "## Experiments"
   ]
  },
  {
   "cell_type": "code",
   "execution_count": 60,
   "metadata": {
    "collapsed": false
   },
   "outputs": [
    {
     "data": {
      "text/plain": [
       "Mot: [ 0.94 -0.2 0.067 -0.27 0.077 0.044 -0.16 0.01 ]"
      ]
     },
     "execution_count": 60,
     "metadata": {},
     "output_type": "execute_result"
    }
   ],
   "source": [
    "M_eye_in_hand"
   ]
  },
  {
   "cell_type": "code",
   "execution_count": 61,
   "metadata": {
    "collapsed": false
   },
   "outputs": [
    {
     "name": "stdout",
     "output_type": "stream",
     "text": [
      "Mot: [ 0.94 -0.2 0.067 -0.27 0.077 0.044 -0.16 0.01 ]\n",
      "Mot: [ -0.94 0.2 -0.067 0.27 -0.077 -0.044 0.16 -0.01 ]\n"
     ]
    }
   ],
   "source": [
    "m = daniilidis_motor(lines_a, lines_b)\n",
    "print(M_eye_in_hand)\n",
    "print(m)"
   ]
  },
  {
   "cell_type": "code",
   "execution_count": null,
   "metadata": {
    "collapsed": true
   },
   "outputs": [],
   "source": []
  }
 ],
 "metadata": {
  "anaconda-cloud": {},
  "kernelspec": {
   "display_name": "Python [default]",
   "language": "python",
   "name": "python3"
  },
  "language_info": {
   "codemirror_mode": {
    "name": "ipython",
    "version": 3
   },
   "file_extension": ".py",
   "mimetype": "text/x-python",
   "name": "python",
   "nbconvert_exporter": "python",
   "pygments_lexer": "ipython3",
   "version": "3.5.2"
  }
 },
 "nbformat": 4,
 "nbformat_minor": 0
}
