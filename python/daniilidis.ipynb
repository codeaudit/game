{
 "cells": [
  {
   "cell_type": "code",
   "execution_count": 592,
   "metadata": {
    "collapsed": false
   },
   "outputs": [
    {
     "name": "stdout",
     "output_type": "stream",
     "text": [
      "Populating the interactive namespace from numpy and matplotlib\n"
     ]
    },
    {
     "name": "stderr",
     "output_type": "stream",
     "text": [
      "/Users/lars/anaconda3/lib/python3.5/site-packages/IPython/core/magics/pylab.py:161: UserWarning: pylab import has clobbered these variables: ['log', 'inf', 'solve', 'Inf']\n",
      "`%matplotlib` prevents importing * from pylab and numpy\n",
      "  \"\\n`%matplotlib` prevents importing * from pylab and numpy\"\n"
     ]
    }
   ],
   "source": [
    "import sys\n",
    "sys.path.append('../build/')\n",
    "%pylab inline\n",
    "np.set_printoptions(precision=4, suppress=True)\n",
    "import versor as vsr\n",
    "import pandas as pd\n",
    "import seaborn as sns\n",
    "sns.set_style('whitegrid')\n",
    "sns.set_context('paper')\n",
    "from versor.drawing import *\n",
    "from motor_estimation import MotorEstimationSolver\n",
    "from game import VDMotorEstimationSolver\n",
    "from icp import best_fit_transform\n",
    "import pickle"
   ]
  },
  {
   "cell_type": "markdown",
   "metadata": {},
   "source": [
    "## Dataset generation"
   ]
  },
  {
   "cell_type": "code",
   "execution_count": 593,
   "metadata": {
    "collapsed": false
   },
   "outputs": [],
   "source": [
    "M_object_in_world = vsr.Vec(1.0,1.0,0.1).trs() * vsr.Biv(pi/4.0, 0.0,0.0).exp()\n",
    "M_eye_in_hand = vsr.Vec(-0.1, -0.2, 0.3).trs() * (vsr.Biv(3.0,-1.0,4.0).unit() * (pi/9)).exp()\n",
    "M_eye_in_hand_initial = vsr.Vec(0.11, 0.24, 0.36).trs() * (vsr.Biv(1.0,1.0,0.0).unit() * (np.pi/5.)).exp()"
   ]
  },
  {
   "cell_type": "code",
   "execution_count": 594,
   "metadata": {
    "collapsed": true
   },
   "outputs": [],
   "source": [
    "def hand_eye_pose_pairs(M_object_in_world, M_eye_in_hand, n):\n",
    "    pose_pairs = [\n",
    "            (M_hand_in_world, \n",
    "             (M_eye_in_hand.rev() * M_hand_in_world.rev() * M_object_in_world))\n",
    "            for M_hand_in_world in [vsr.Vec(*np.random.rand(3)).trs() *\n",
    "                                    vsr.Rot(vsr.Biv(*np.random.rand(3)).unit() *\n",
    "                                            np.random.rand() * np.pi)\n",
    "                                    for i in range(n)]]\n",
    "\n",
    "    As = [pose_pair[0] for pose_pair in pose_pairs]\n",
    "    Bs = [pose_pair[1] for pose_pair in pose_pairs]\n",
    "\n",
    "    LAs = []\n",
    "    LBs = []\n",
    "    for i in range(n):\n",
    "        for j in range(i+1,n):\n",
    "            LAs.append(((As[j].rev() * As[i]).log() * 0.5).unit())\n",
    "            LBs.append(((Bs[j] * Bs[i].rev()).log() * 0.5).unit())\n",
    "    return LAs, LBs"
   ]
  },
  {
   "cell_type": "code",
   "execution_count": 595,
   "metadata": {
    "collapsed": false
   },
   "outputs": [
    {
     "name": "stdout",
     "output_type": "stream",
     "text": [
      "45\n"
     ]
    }
   ],
   "source": [
    "n_lines = 10\n",
    "lines_a, lines_b = hand_eye_pose_pairs(M_object_in_world, M_eye_in_hand, n_lines)\n",
    "print(len(lines_a))"
   ]
  },
  {
   "cell_type": "code",
   "execution_count": 596,
   "metadata": {
    "collapsed": false
   },
   "outputs": [
    {
     "data": {
      "text/plain": [
       "0.5193235031822228"
      ]
     },
     "execution_count": 596,
     "metadata": {},
     "output_type": "execute_result"
    }
   ],
   "source": [
    "lines_a[0].dir().vec() <= lines_a[0].drv().vec()"
   ]
  },
  {
   "cell_type": "markdown",
   "metadata": {},
   "source": [
    "## Hand-Eye Solver"
   ]
  },
  {
   "cell_type": "code",
   "execution_count": 597,
   "metadata": {
    "collapsed": false
   },
   "outputs": [],
   "source": [
    "def daniilidis_motor(LAs, LBs):\n",
    "    \n",
    "    def Skew(a):\n",
    "        return np.array([[0, -a[2], a[1]],\n",
    "                         [a[2], 0, -a[0]],\n",
    "                         [-a[1], a[0], 0]])\n",
    "    \n",
    "    def solve(L):\n",
    "        Lrr = L[:4, :4]\n",
    "        Lrq = L[:4, 4:]\n",
    "        Lqr = L[4:, :4]\n",
    "        Lqq = L[4:, 4:]\n",
    "        Lp = Lrr - np.dot(Lrq, np.dot(np.linalg.pinv(Lqq), Lqr))\n",
    "#         w, v = np.linalg.eig(Lp)\n",
    "        U,s,Vt = np.linalg.svd(Lp)\n",
    "#         print(Vt.T)\n",
    "        r = Vt.T[:,-1]\n",
    "        print(r)\n",
    "#         r = v[:, np.argmin(w)]\n",
    "        q = np.dot(-np.dot(np.linalg.pinv(Lqq), Lqr), r)\n",
    "        return np.array([r, q]).ravel()\n",
    "    \n",
    "    Ds = []\n",
    "    Ds = np.zeros((8,8))\n",
    "    for LA, LB in zip(LAs, LBs):\n",
    "        D = np.zeros((6,8))\n",
    "        a_ = LA.biv()\n",
    "        ap_ = LA.drv().vec().unduale()\n",
    "        b_ = LB.biv()\n",
    "        bp_ = LB.drv().vec().unduale()\n",
    "        D[:3,0] = np.array(b_ - a_)\n",
    "        D[:3,1:4] = Skew(b_ + a_)\n",
    "        D[3:,0] = np.array(bp_ - ap_)\n",
    "        D[3:,1:4] = Skew(bp_ + ap_)\n",
    "        D[3:,4:] = D[:3,:4]\n",
    "        Ds += np.dot(D.T,D)\n",
    "#         Ds.append(D[1:7,:].copy())\n",
    "    \n",
    "    Ds = np.array(Ds).reshape(-1,8)\n",
    "\n",
    "    [U, s, Vt] = np.linalg.svd(Ds)\n",
    "\n",
    "    v7 = Vt.T[:,-2].copy()\n",
    "    v8 = Vt.T[:,-1].copy()\n",
    "    \n",
    "    u1 = v7[:4]\n",
    "    v1 = v7[4:]\n",
    "    u2 = v8[:4]\n",
    "    v2 = v8[4:]\n",
    "\n",
    "    a = np.inner(u1,v1)\n",
    "    b = np.inner(u1,v2) + np.inner(u2,v1)\n",
    "    c = np.inner(u2,v2)\n",
    "    [s1, s2] = np.roots([a,b,c])\n",
    "\n",
    "    val1 = (s1**2 * np.inner(u1,u1)) + (2 * s1 * np.inner(u1,u2)) + (np.inner(u2,u2))\n",
    "    val2 = (s2**2 * np.inner(u1,u1)) + (2 * s2 * np.inner(u1,u2)) + (np.inner(u2,u2))\n",
    "    \n",
    "    if val1 > val2:\n",
    "        s = s1\n",
    "        val = val1\n",
    "    else:\n",
    "        s = s2\n",
    "        val = val2\n",
    "\n",
    "    lambda2 = np.sqrt(1.0/val)\n",
    "    lambda1 = s * lambda2\n",
    "    \n",
    "    m = lambda1 * Vt.T[:,-2] + lambda2 * Vt.T[:,-1]\n",
    "    \n",
    "    \n",
    "    s = m[0]\n",
    "    A = vsr.Biv(m[1], m[2], m[3])\n",
    "    B = vsr.Biv(m[5], m[6], m[7]).duale()\n",
    "    s4 = -m[4]\n",
    "    \n",
    "    mot = vsr.Mot(s, A[0], A[1], A[2], B[0], B[1], B[2], s4)\n",
    "\n",
    "    return mot * -1"
   ]
  },
  {
   "cell_type": "code",
   "execution_count": 598,
   "metadata": {
    "collapsed": false
   },
   "outputs": [],
   "source": [
    "def daniilidis_motor2(LAs, LBs):\n",
    "    \n",
    "    def Skew(a):\n",
    "        return np.array([[0, -a[2], a[1]],\n",
    "                         [a[2], 0, -a[0]],\n",
    "                         [-a[1], a[0], 0]])\n",
    "    \n",
    "    def solve(L):\n",
    "        Lrr = L[:4, :4]\n",
    "        Lrq = L[:4, 4:]\n",
    "        Lqr = L[4:, :4]\n",
    "        Lqq = L[4:, 4:]\n",
    "        Lp = Lrr - np.dot(Lrq, np.dot(np.linalg.pinv(Lqq), Lqr))\n",
    "#         w, v = np.linalg.eig(Lp)\n",
    "        U,s,Vt = np.linalg.svd(Lp)\n",
    "#         print(Vt.T)\n",
    "        r = Vt.T[:,-1]\n",
    "\n",
    "#         r = v[:, np.argmin(w)]\n",
    "        q = np.dot(-np.dot(np.linalg.pinv(Lqq), Lqr), r)\n",
    "        return np.array([r, q]).ravel()\n",
    "    \n",
    "    Ds = []\n",
    "    Ds = np.zeros((8,8))\n",
    "    for LA, LB in zip(LAs, LBs):\n",
    "        D = np.zeros((6,8))\n",
    "        a_ = LA.biv()\n",
    "        ap_ = LA.drv().vec().unduale()\n",
    "        b_ = LB.biv()\n",
    "        bp_ = LB.drv().vec().unduale()\n",
    "        D[:3,0] = np.array(b_ - a_)\n",
    "        D[:3,1:4] = Skew(b_ + a_)\n",
    "        D[3:,0] = np.array(bp_ - ap_)\n",
    "        D[3:,1:4] = Skew(bp_ + ap_)\n",
    "        D[3:,4:] = D[:3,:4]\n",
    "        Ds += np.dot(D.T,D)\n",
    "#         Ds.append(D[1:7,:].copy())\n",
    "    \n",
    "#     Ds = np.array(Ds).reshape(-1,8)\n",
    "\n",
    "#     [U, s, Vt] = np.linalg.svd(Ds)\n",
    "\n",
    "#     v7 = Vt.T[:,-2].copy()\n",
    "#     v8 = Vt.T[:,-1].copy()\n",
    "    \n",
    "#     u1 = v7[:4]\n",
    "#     v1 = v7[4:]\n",
    "#     u2 = v8[:4]\n",
    "#     v2 = v8[4:]\n",
    "\n",
    "#     a = np.inner(u1,v1)\n",
    "#     b = np.inner(u1,v2) + np.inner(u2,v1)\n",
    "#     c = np.inner(u2,v2)\n",
    "#     [s1, s2] = np.roots([a,b,c])\n",
    "\n",
    "#     val1 = (s1**2 * np.inner(u1,u1)) + (2 * s1 * np.inner(u1,u2)) + (np.inner(u2,u2))\n",
    "#     val2 = (s2**2 * np.inner(u1,u1)) + (2 * s2 * np.inner(u1,u2)) + (np.inner(u2,u2))\n",
    "    \n",
    "#     if val1 > val2:\n",
    "#         s = s1\n",
    "#         val = val1\n",
    "#     else:\n",
    "#         s = s2\n",
    "#         val = val2\n",
    "\n",
    "#     lambda2 = np.sqrt(1.0/val)\n",
    "#     lambda1 = s * lambda2\n",
    "    \n",
    "#     m = lambda1 * Vt.T[:,-2] + lambda2 * Vt.T[:,-1]\n",
    "    \n",
    "    \n",
    "    m = solve(Ds)\n",
    "    s = m[0]\n",
    "    A = vsr.Biv(m[1], m[2], m[3])\n",
    "    B = vsr.Biv(m[5], m[6], m[7]).duale()\n",
    "    s4 = -m[4]\n",
    "    \n",
    "    mot = vsr.Mot(s, A[0], A[1], A[2], B[0], B[1], B[2], s4)\n",
    "\n",
    "    return mot * -1"
   ]
  },
  {
   "cell_type": "markdown",
   "metadata": {},
   "source": [
    "## Experiments"
   ]
  },
  {
   "cell_type": "code",
   "execution_count": 599,
   "metadata": {
    "collapsed": false
   },
   "outputs": [
    {
     "data": {
      "text/plain": [
       "Mot: [ 0.94 -0.2 0.067 -0.27 0.077 0.044 -0.16 0.01 ]"
      ]
     },
     "execution_count": 599,
     "metadata": {},
     "output_type": "execute_result"
    }
   ],
   "source": [
    "M_eye_in_hand"
   ]
  },
  {
   "cell_type": "code",
   "execution_count": 600,
   "metadata": {
    "collapsed": false
   },
   "outputs": [
    {
     "name": "stdout",
     "output_type": "stream",
     "text": [
      "Mot: [ 0.94 -0.2 0.067 -0.27 0.077 0.044 -0.16 0.01 ]\n",
      "Mot: [ 0.94 -0.2 0.067 -0.27 0.077 0.044 -0.16 0.01 ]\n",
      "Mot: [ 0.94 -0.2 0.067 -0.27 0.077 0.044 -0.16 0.01 ]\n"
     ]
    }
   ],
   "source": [
    "m = daniilidis_motor(lines_a, lines_b)\n",
    "m2 = daniilidis_motor2(lines_a, lines_b)\n",
    "print(M_eye_in_hand)\n",
    "print(m)\n",
    "print(m2)"
   ]
  },
  {
   "cell_type": "markdown",
   "metadata": {},
   "source": [
    "# Load dataset"
   ]
  },
  {
   "cell_type": "code",
   "execution_count": 601,
   "metadata": {
    "collapsed": false
   },
   "outputs": [],
   "source": [
    "with np.load('A.npz') as data:\n",
    "    A = data['arr_0']\n",
    "with np.load('B.npz') as data:\n",
    "    B = data['arr_0']"
   ]
  },
  {
   "cell_type": "code",
   "execution_count": 602,
   "metadata": {
    "collapsed": false
   },
   "outputs": [],
   "source": [
    "def log(R):\n",
    "    # Rotation matrix logarithm\n",
    "    theta = np.arccos((R[0,0] + R[1,1] + R[2,2] - 1.0)/2.0)\n",
    "    return np.array([R[2,1] - R[1,2], R[0,2] - R[2,0], R[1,0] - R[0,1]]) * theta / (2*np.sin(theta))"
   ]
  },
  {
   "cell_type": "code",
   "execution_count": 603,
   "metadata": {
    "collapsed": false
   },
   "outputs": [],
   "source": [
    "def matrix_to_motor(T):\n",
    "    R = T[:3,:3]\n",
    "    t = T[:3, 3]\n",
    "    M = vsr.Vec(*t).trs() * vsr.Rot(vsr.Vec(*(log(R) * 0.5)).unduale())\n",
    "    return M"
   ]
  },
  {
   "cell_type": "code",
   "execution_count": 604,
   "metadata": {
    "collapsed": false
   },
   "outputs": [
    {
     "name": "stdout",
     "output_type": "stream",
     "text": [
      "[[ 0.9823  0.1596 -0.0984  0.0665]\n",
      " [-0.1427  0.9767  0.1604 -0.2054]\n",
      " [ 0.1217 -0.1435  0.9821 -0.0237]\n",
      " [ 0.      0.      0.      1.    ]]\n"
     ]
    }
   ],
   "source": [
    "print(A[7])"
   ]
  },
  {
   "cell_type": "code",
   "execution_count": 605,
   "metadata": {
    "collapsed": true
   },
   "outputs": [],
   "source": [
    "As = [matrix_to_motor(T).dll() for T in A]\n",
    "Bs = [matrix_to_motor(T).dll() for T in B]"
   ]
  },
  {
   "cell_type": "code",
   "execution_count": 606,
   "metadata": {
    "collapsed": false
   },
   "outputs": [],
   "source": [
    "Asl = [vsr.Dll(a.loc(vsr.Vec(0,0,0).null()).vec().null(), a.dir().vec()) for a in As]\n",
    "Bsl = [vsr.Dll(b.loc(vsr.Vec(0,0,0).null()).vec().null(), b.dir().vec()) for b in Bs]"
   ]
  },
  {
   "cell_type": "code",
   "execution_count": 607,
   "metadata": {
    "collapsed": false
   },
   "outputs": [],
   "source": [
    "Rpm = np.array([[ 0.11277704, -0.99328245, -0.02590984],\n",
    "       [-0.99345287, -0.11224098, -0.02129233],\n",
    "       [ 0.01824115,  0.02814149, -0.9994375 ]])\n",
    "tpm = np.array([0.03907, 0.10054, 0.14837])"
   ]
  },
  {
   "cell_type": "code",
   "execution_count": 608,
   "metadata": {
    "collapsed": false
   },
   "outputs": [
    {
     "name": "stdout",
     "output_type": "stream",
     "text": [
      "[[ 0.0931 -0.9956  0.0089  0.0497]\n",
      " [-0.9956 -0.0932 -0.0138  0.1086]\n",
      " [ 0.0146 -0.0076 -0.9999  0.1666]\n",
      " [ 0.      0.      0.      1.    ]]\n"
     ]
    }
   ],
   "source": [
    "initial_motor = daniilidis_motor(As, Bs)\n",
    "print(initial_motor.matrix())"
   ]
  },
  {
   "cell_type": "code",
   "execution_count": 609,
   "metadata": {
    "collapsed": false
   },
   "outputs": [
    {
     "name": "stdout",
     "output_type": "stream",
     "text": [
      "[[ 0.0957 -0.9954  0.0093  0.0496]\n",
      " [-0.9953 -0.0958 -0.0147  0.1092]\n",
      " [ 0.0155 -0.0078 -0.9998  0.1645]\n",
      " [ 0.      0.      0.      1.    ]]\n"
     ]
    }
   ],
   "source": [
    "initial_motor = daniilidis_motor2(As, Bs)\n",
    "print(initial_motor.matrix())"
   ]
  },
  {
   "cell_type": "code",
   "execution_count": 610,
   "metadata": {
    "collapsed": false
   },
   "outputs": [
    {
     "name": "stdout",
     "output_type": "stream",
     "text": [
      "\n",
      "Solver Summary (v 1.12.0-eigen-(3.3.1)-lapack-suitesparse-(4.5.3)-cxsparse-(3.1.9)-no_openmp)\n",
      "\n",
      "                                     Original                  Reduced\n",
      "Parameter blocks                            1                        1\n",
      "Parameters                                  8                        8\n",
      "Effective parameters                        6                        6\n",
      "Residual blocks                            20                       20\n",
      "Residual                                  120                      120\n",
      "\n",
      "Minimizer                        TRUST_REGION\n",
      "\n",
      "Dense linear algebra library            EIGEN\n",
      "Trust region strategy     LEVENBERG_MARQUARDT\n",
      "\n",
      "                                        Given                     Used\n",
      "Linear solver                        DENSE_QR                 DENSE_QR\n",
      "Threads                                     1                        1\n",
      "Linear solver threads                       1                        1\n",
      "Linear solver ordering              AUTOMATIC                        1\n",
      "\n",
      "Cost:\n",
      "Initial                          1.000770e-01\n",
      "Final                            9.356986e-02\n",
      "Change                           6.507135e-03\n",
      "\n",
      "Minimizer iterations                        5\n",
      "Successful steps                            5\n",
      "Unsuccessful steps                          0\n",
      "\n",
      "Time (in seconds):\n",
      "Preprocessor                           0.0000\n",
      "\n",
      "  Residual evaluation                  0.0000\n",
      "  Jacobian evaluation                  0.0002\n",
      "  Linear solver                        0.0001\n",
      "Minimizer                              0.0003\n",
      "\n",
      "Postprocessor                          0.0000\n",
      "Total                                  0.0003\n",
      "\n",
      "Termination:                      CONVERGENCE (Function tolerance reached. |cost_change|/cost: 9.768802e-07 <= 1.000000e-06)\n",
      "\n"
     ]
    },
    {
     "data": {
      "text/plain": [
       "array([[-0.0394, -0.9989, -0.0249,  0.0598],\n",
       "       [-0.999 ,  0.0389,  0.0202,  0.0834],\n",
       "       [-0.0192,  0.0257, -0.9995,  0.1554],\n",
       "       [ 0.    ,  0.    ,  0.    ,  1.    ]])"
      ]
     },
     "execution_count": 610,
     "metadata": {},
     "output_type": "execute_result"
    }
   ],
   "source": [
    "mes = MotorEstimationSolver(initial_motor)\n",
    "for (a, b) in zip(As, Bs):\n",
    "#     mes.add_line_angle_distance_residual_block(b,a)\n",
    "    mes.add_line_correspondences_residual_block(b,a)\n",
    "#     mes.add_line_commutator_residual_block(b,a)\n",
    "mes.set_parameterization('BIVECTOR_GENERATOR')\n",
    "# mes.set_parameterization('POLAR_DECOMPOSITION_TANGENT')\n",
    "mes.linear_solver_type = 'DENSE_QR'\n",
    "# mes.function_tolerance = 1e-16\n",
    "(estimated_motor, summary, _) = mes.solve()\n",
    "print(summary['full_report'])\n",
    "estimated_motor.matrix()"
   ]
  },
  {
   "cell_type": "code",
   "execution_count": 611,
   "metadata": {
    "collapsed": false
   },
   "outputs": [
    {
     "data": {
      "text/plain": [
       "[<matplotlib.lines.Line2D at 0x11f489710>]"
      ]
     },
     "execution_count": 611,
     "metadata": {},
     "output_type": "execute_result"
    },
    {
     "data": {
      "image/png": "[encoded data removed]",
      "text/plain": [
       "<matplotlib.figure.Figure at 0x11f43eeb8>"
      ]
     },
     "metadata": {},
     "output_type": "display_data"
    }
   ],
   "source": [
    "plot(pd.DataFrame(summary['iterations'])['cost'])"
   ]
  },
  {
   "cell_type": "code",
   "execution_count": 612,
   "metadata": {
    "collapsed": false
   },
   "outputs": [
    {
     "data": {
      "text/plain": [
       "array([[ 0.1128, -0.9933, -0.0259,  0.0391],\n",
       "       [-0.9935, -0.1122, -0.0213,  0.1005],\n",
       "       [ 0.0182,  0.0281, -0.9994,  0.1484],\n",
       "       [ 0.    ,  0.    ,  0.    ,  1.    ]])"
      ]
     },
     "execution_count": 612,
     "metadata": {},
     "output_type": "execute_result"
    }
   ],
   "source": [
    "from park_martin import calibrate as park_martin_calibration\n",
    "R,t = park_martin_calibration(A,B)\n",
    "T = np.eye(4)\n",
    "T[:3,:3] = R\n",
    "T[:3,3] = t\n",
    "matrix_to_motor(T).matrix()"
   ]
  },
  {
   "cell_type": "code",
   "execution_count": 613,
   "metadata": {
    "collapsed": false
   },
   "outputs": [
    {
     "data": {
      "text/plain": [
       "array([[ 0.0985, -0.9951,  0.0071,  0.    ],\n",
       "       [-0.9951, -0.0985, -0.0008,  0.    ],\n",
       "       [ 0.0015, -0.007 , -1.    ,  0.    ],\n",
       "       [ 0.    ,  0.    ,  0.    ,  1.    ]])"
      ]
     },
     "execution_count": 613,
     "metadata": {},
     "output_type": "execute_result"
    }
   ],
   "source": [
    "vd = VDMotorEstimationSolver()\n",
    "vd.add_dual_line_observations(As,Bs)\n",
    "vd.solve().matrix()"
   ]
  },
  {
   "cell_type": "code",
   "execution_count": 614,
   "metadata": {
    "collapsed": true
   },
   "outputs": [],
   "source": [
    "def Skew(a):\n",
    "        return np.array([[0, -a[2], a[1]],\n",
    "                         [a[2], 0, -a[0]],\n",
    "                         [-a[1], a[0], 0]])"
   ]
  },
  {
   "cell_type": "code",
   "execution_count": 615,
   "metadata": {
    "collapsed": false
   },
   "outputs": [
    {
     "ename": "AttributeError",
     "evalue": "'versor_pybind11.Dll' object has no attribute 'rot'",
     "output_type": "error",
     "traceback": [
      "\u001b[0;31m---------------------------------------------------------------------------\u001b[0m",
      "\u001b[0;31mAttributeError\u001b[0m                            Traceback (most recent call last)",
      "\u001b[0;32m<ipython-input-615-273797ccf297>\u001b[0m in \u001b[0;36m<module>\u001b[0;34m()\u001b[0m\n\u001b[1;32m      3\u001b[0m \u001b[0;31m#     a_ = a.rot().biv().unit() * a.rot().log().norm()\u001b[0m\u001b[0;34m\u001b[0m\u001b[0;34m\u001b[0m\u001b[0m\n\u001b[1;32m      4\u001b[0m \u001b[0;31m#     b_ = b.rot().biv().unit() * b.rot().log().norm()\u001b[0m\u001b[0;34m\u001b[0m\u001b[0;34m\u001b[0m\u001b[0m\n\u001b[0;32m----> 5\u001b[0;31m     \u001b[0ma_\u001b[0m \u001b[0;34m=\u001b[0m \u001b[0ma\u001b[0m\u001b[0;34m.\u001b[0m\u001b[0mrot\u001b[0m\u001b[0;34m(\u001b[0m\u001b[0;34m)\u001b[0m\u001b[0;34m.\u001b[0m\u001b[0mbiv\u001b[0m\u001b[0;34m(\u001b[0m\u001b[0;34m)\u001b[0m\u001b[0;34m\u001b[0m\u001b[0m\n\u001b[0m\u001b[1;32m      6\u001b[0m     \u001b[0mb_\u001b[0m \u001b[0;34m=\u001b[0m \u001b[0mb\u001b[0m\u001b[0;34m.\u001b[0m\u001b[0mrot\u001b[0m\u001b[0;34m(\u001b[0m\u001b[0;34m)\u001b[0m\u001b[0;34m.\u001b[0m\u001b[0mbiv\u001b[0m\u001b[0;34m(\u001b[0m\u001b[0;34m)\u001b[0m\u001b[0;34m\u001b[0m\u001b[0m\n\u001b[1;32m      7\u001b[0m     \u001b[0mD\u001b[0m \u001b[0;34m=\u001b[0m \u001b[0mnp\u001b[0m\u001b[0;34m.\u001b[0m\u001b[0mzeros\u001b[0m\u001b[0;34m(\u001b[0m\u001b[0;34m(\u001b[0m\u001b[0;36m3\u001b[0m\u001b[0;34m,\u001b[0m\u001b[0;36m4\u001b[0m\u001b[0;34m)\u001b[0m\u001b[0;34m)\u001b[0m\u001b[0;34m\u001b[0m\u001b[0m\n",
      "\u001b[0;31mAttributeError\u001b[0m: 'versor_pybind11.Dll' object has no attribute 'rot'"
     ]
    }
   ],
   "source": [
    "Ds = []\n",
    "for a, b in zip(As, Bs):\n",
    "#     a_ = a.rot().biv().unit() * a.rot().log().norm()\n",
    "#     b_ = b.rot().biv().unit() * b.rot().log().norm()\n",
    "    a_ = a.rot().biv()\n",
    "    b_ = b.rot().biv()\n",
    "    D = np.zeros((3,4))\n",
    "    D[:3,0] = np.array(b_ - a_)\n",
    "    D[:3,1:4] = Skew(b_ + a_)\n",
    "    Ds.append(D.copy())\n",
    "Ds = np.array(Ds).reshape(-1,4)\n",
    "[U, s, Vt] = np.linalg.svd(Ds)\n",
    "v = Vt.T[:,-1].copy()\n",
    "M = vsr.Vec(0,0,0).trs() * vsr.Rot(*v)\n",
    "print(M.matrix())\n",
    "print(Rpm)"
   ]
  },
  {
   "cell_type": "code",
   "execution_count": 616,
   "metadata": {
    "collapsed": false
   },
   "outputs": [
    {
     "name": "stdout",
     "output_type": "stream",
     "text": [
      "Rot: [ 0.87 0.13 0.27 0.4 ]\n",
      "Mot: [ -0.87 0.13 0.27 0.4 0 0 0 0 ]\n"
     ]
    }
   ],
   "source": [
    "R = (vsr.Biv(1,2,3).unit() * (-pi/6)).exp()\n",
    "print(R)\n",
    "As = [vsr.Vec(1,0,0).duale(), vsr.Vec(0,1,0).duale(), vsr.Vec(0,0,1).duale()]\n",
    "Bs = [a.spin(R) for a in As]\n",
    "\n",
    "Ds = np.zeros((4,4))\n",
    "# Ds = []\n",
    "for a, b in zip(As, Bs):\n",
    "    a_ = a\n",
    "    b_ = b\n",
    "    D = np.zeros((3,4))\n",
    "    D[:3,0] = np.array(b_ - a_)\n",
    "    D[:3,1:4] = Skew(b_ + a_)\n",
    "    Ds += np.dot(D.T,D)\n",
    "#     Ds.append(D.copy())\n",
    "    \n",
    "Ds = np.array(Ds).reshape(-1,4)\n",
    "[U, s, Vt] = np.linalg.svd(Ds)\n",
    "v = Vt.T[:,-1].copy()\n",
    "M = vsr.Vec(0,0,0).trs() * vsr.Rot(*v)\n",
    "print(M)"
   ]
  },
  {
   "cell_type": "code",
   "execution_count": 617,
   "metadata": {
    "collapsed": false
   },
   "outputs": [
    {
     "data": {
      "text/plain": [
       "array([[-0.5   , -0.    ,  0.    , -0.866 ],\n",
       "       [-0.2315,  0.5963, -0.757 ,  0.1336],\n",
       "       [-0.4629, -0.7454, -0.3984,  0.2673],\n",
       "       [-0.6944,  0.2981,  0.5179,  0.4009]])"
      ]
     },
     "execution_count": 617,
     "metadata": {},
     "output_type": "execute_result"
    }
   ],
   "source": [
    "Vt.T"
   ]
  },
  {
   "cell_type": "code",
   "execution_count": 618,
   "metadata": {
    "collapsed": false
   },
   "outputs": [
    {
     "ename": "NameError",
     "evalue": "name 'LAs' is not defined",
     "output_type": "error",
     "traceback": [
      "\u001b[0;31m---------------------------------------------------------------------------\u001b[0m",
      "\u001b[0;31mNameError\u001b[0m                                 Traceback (most recent call last)",
      "\u001b[0;32m<ipython-input-618-2bb7bccfc162>\u001b[0m in \u001b[0;36m<module>\u001b[0;34m()\u001b[0m\n\u001b[1;32m      1\u001b[0m \u001b[0;34m\u001b[0m\u001b[0m\n\u001b[1;32m      2\u001b[0m \u001b[0mDs\u001b[0m \u001b[0;34m=\u001b[0m \u001b[0;34m[\u001b[0m\u001b[0;34m]\u001b[0m\u001b[0;34m\u001b[0m\u001b[0m\n\u001b[0;32m----> 3\u001b[0;31m \u001b[0;32mfor\u001b[0m \u001b[0mLA\u001b[0m\u001b[0;34m,\u001b[0m \u001b[0mLB\u001b[0m \u001b[0;32min\u001b[0m \u001b[0mzip\u001b[0m\u001b[0;34m(\u001b[0m\u001b[0mLAs\u001b[0m\u001b[0;34m,\u001b[0m \u001b[0mLBs\u001b[0m\u001b[0;34m)\u001b[0m\u001b[0;34m:\u001b[0m\u001b[0;34m\u001b[0m\u001b[0m\n\u001b[0m\u001b[1;32m      4\u001b[0m  \u001b[0mD\u001b[0m \u001b[0;34m=\u001b[0m \u001b[0mnp\u001b[0m\u001b[0;34m.\u001b[0m\u001b[0mzeros\u001b[0m\u001b[0;34m(\u001b[0m\u001b[0;34m(\u001b[0m\u001b[0;36m3\u001b[0m\u001b[0;34m,\u001b[0m\u001b[0;36m8\u001b[0m\u001b[0;34m)\u001b[0m\u001b[0;34m)\u001b[0m\u001b[0;34m\u001b[0m\u001b[0m\n\u001b[1;32m      5\u001b[0m  \u001b[0ma_\u001b[0m \u001b[0;34m=\u001b[0m \u001b[0mLA\u001b[0m\u001b[0;34m.\u001b[0m\u001b[0mbiv\u001b[0m\u001b[0;34m(\u001b[0m\u001b[0;34m)\u001b[0m\u001b[0;34m\u001b[0m\u001b[0m\n",
      "\u001b[0;31mNameError\u001b[0m: name 'LAs' is not defined"
     ]
    }
   ],
   "source": [
    "   \n",
    "Ds = []\n",
    "for LA, LB in zip(LAs, LBs):\n",
    "    D = np.zeros((3,8))\n",
    "    a_ = LA.biv()\n",
    "    ap_ = LA.drv().vec().unduale()\n",
    "    b_ = LB.biv()\n",
    "    bp_ = LB.drv().vec().unduale()\n",
    "    D[:3,0] = np.array(b_ - a_)\n",
    "    D[:3,1:4] = Skew(b_ + a_)\n",
    "    Ds.append(D[1:4,:].copy())"
   ]
  },
  {
   "cell_type": "code",
   "execution_count": null,
   "metadata": {
    "collapsed": true
   },
   "outputs": [],
   "source": []
  },
  {
   "cell_type": "code",
   "execution_count": 619,
   "metadata": {
    "collapsed": false
   },
   "outputs": [
    {
     "data": {
      "text/plain": [
       "array([[-0.9994,  0.0213, -0.0259,  0.    ],\n",
       "       [-0.0281, -0.1122,  0.9933,  0.    ],\n",
       "       [ 0.0182,  0.9935,  0.1128,  0.    ],\n",
       "       [ 0.    ,  0.    ,  0.    ,  1.    ]])"
      ]
     },
     "execution_count": 619,
     "metadata": {},
     "output_type": "execute_result"
    }
   ],
   "source": [
    "(vsr.Vec(0,0,0).trs() * vsr.Biv(*(log(Rpm) * -0.5)).exp()).matrix()"
   ]
  },
  {
   "cell_type": "code",
   "execution_count": 620,
   "metadata": {
    "collapsed": false
   },
   "outputs": [
    {
     "data": {
      "text/plain": [
       "array([[ 0.1128, -0.9933, -0.0259],\n",
       "       [-0.9935, -0.1122, -0.0213],\n",
       "       [ 0.0182,  0.0281, -0.9994]])"
      ]
     },
     "execution_count": 620,
     "metadata": {},
     "output_type": "execute_result"
    }
   ],
   "source": [
    "Rpm"
   ]
  },
  {
   "cell_type": "code",
   "execution_count": 621,
   "metadata": {
    "collapsed": true
   },
   "outputs": [],
   "source": [
    "Rpm = np.array([[ 0.11277704, -0.99328245, -0.02590984],\n",
    "       [-0.99345287, -0.11224098, -0.02129233],\n",
    "       [ 0.01824115,  0.02814149, -0.9994375 ]])\n",
    "tpm = np.array([0.03907, 0.10054, 0.14837])"
   ]
  },
  {
   "cell_type": "code",
   "execution_count": 622,
   "metadata": {
    "collapsed": false
   },
   "outputs": [
    {
     "data": {
      "text/plain": [
       "CGA: [ 1 0 0 0 0 0 0 6.9e-18 0 0 0 0 -0.46 -0.27 -1.8 0 0 0 0 0 0 0 0 0 0 0 0 1.1e-16 0 0 0 0 ]"
      ]
     },
     "execution_count": 622,
     "metadata": {},
     "output_type": "execute_result"
    }
   ],
   "source": [
    "a = vsr.Vec(1,2,3)\n",
    "a1 = vsr.CGA((a.trs() * vsr.Rot(1,0,0,0))).spin(vsr.CGA(M_eye_in_hand))\n",
    "a1"
   ]
  },
  {
   "cell_type": "code",
   "execution_count": 623,
   "metadata": {
    "collapsed": true
   },
   "outputs": [],
   "source": [
    "def daniilidis_motor(LAs, LBs):\n",
    "    Ds = []\n",
    "    for LA, LB in zip(LAs, LBs):\n",
    "        D = np.zeros((8,8))\n",
    "        for i in range(8):\n",
    "            ei = vsr.Mot(0,0,0,0,0,0,0,0)\n",
    "            ei[i] = 1.0\n",
    "            D[:,i] = np.array(ei * LA - LB * ei)\n",
    "        Ds.append(D[1:7,:].copy())"
   ]
  },
  {
   "cell_type": "code",
   "execution_count": 624,
   "metadata": {
    "collapsed": false
   },
   "outputs": [
    {
     "data": {
      "text/plain": [
       "CGA: [ 0.94 0 0 0 0 0 -0.2 0.067 -0.27 0 0 0 0.077 0.044 -0.16 0 0 0 0 0 0 0 0 0 0 0 0 0.01 0 0 0 0 ]"
      ]
     },
     "execution_count": 624,
     "metadata": {},
     "output_type": "execute_result"
    }
   ],
   "source": [
    "M = vsr.CGA(M_eye_in_hand)\n",
    "M"
   ]
  },
  {
   "cell_type": "code",
   "execution_count": 625,
   "metadata": {
    "collapsed": false
   },
   "outputs": [
    {
     "name": "stdout",
     "output_type": "stream",
     "text": [
      "CGA: [ 0 0 0 0 0 1 0 0 0 0 0 0 0 0 0 0 0 0 0 0 0 0 0 0 0 0 0 0 0 0 0 0 ]\n"
     ]
    }
   ],
   "source": [
    "inf = vsr.CGA(*[0]*32); inf[5] = 1.0; print(inf)"
   ]
  },
  {
   "cell_type": "code",
   "execution_count": 628,
   "metadata": {
    "collapsed": true
   },
   "outputs": [],
   "source": [
    "def estimate_motors_lars(dataset, noisy=False):\n",
    "    \n",
    "    def solve(L):\n",
    "        Lrr = L[:4, :4]\n",
    "        Lrq = L[:4, 4:]\n",
    "        Lqr = L[4:, :4]\n",
    "        Lqq = L[4:, 4:]\n",
    "        Lp = Lrr - np.dot(Lrq, np.dot(np.linalg.pinv(Lqq), Lqr))\n",
    "        w, v = np.linalg.eig(Lp)\n",
    "        r = v[:, np.argmin(w)]\n",
    "        q = np.dot(-np.dot(np.linalg.pinv(Lqq), Lqr), r)\n",
    "        return vsr.Mot(*np.array([r, q]).ravel())\n",
    "\n",
    "    Q = np.zeros((8,8))\n",
    "        \n",
    "    points_a = []\n",
    "    points_b = []\n",
    "    points_bn = []\n",
    "    for (a,b,bn) in points:\n",
    "        points_a.append(vsr.CGA(a))\n",
    "        points_b.append(vsr.CGA(b))\n",
    "        points_bn.append(vsr.CGA(bn))\n",
    "        \n",
    "    if noisy:\n",
    "        for a,b in zip(points_a, points_bn):\n",
    "            D = np.zeros((32,8))\n",
    "            for i in range(8):\n",
    "                ei = vsr.Mot(0,0,0,0,0,0,0,0)\n",
    "                ei[i] = 1.0\n",
    "                ei = vsr.CGA(ei)\n",
    "                D[:,i] = np.array(a * ei - ei * b)\n",
    "            Q += np.dot(D.T,D)\n",
    "    else:\n",
    "        for a,b in zip(points_a, points_b):\n",
    "            D = np.zeros((32,8))\n",
    "            for i in range(8):\n",
    "                ei = vsr.Mot(0,0,0,0,0,0,0,0)\n",
    "                ei[i] = 1.0\n",
    "                ei = vsr.CGA(ei)\n",
    "                D[:,i] = np.array(ei * b * ei.rev() * a -  a * ei * b * ei.rev())\n",
    "            Q += np.dot(D.T,D)\n",
    "\n",
    "    estimated_motor = solve(Q)\n",
    "    \n",
    "    return (converged, (points, motor, estimated_motor, _))"
   ]
  },
  {
   "cell_type": "code",
   "execution_count": null,
   "metadata": {
    "collapsed": true
   },
   "outputs": [],
   "source": []
  },
  {
   "cell_type": "code",
   "execution_count": 633,
   "metadata": {
    "collapsed": false
   },
   "outputs": [
    {
     "name": "stdout",
     "output_type": "stream",
     "text": [
      "[[ 0.      0.      0.      0.      0.      0.      0.      0.    ]\n",
      " [-0.205  -0.4996 -0.0999 -0.      2.      0.      0.      0.    ]\n",
      " [ 0.4996  1.795   0.     -0.0999  0.      2.      0.      0.    ]\n",
      " [ 0.0999 -0.      1.795   0.4996  0.      0.      2.      0.    ]\n",
      " [ 0.      0.      0.      0.      0.      0.      0.      0.    ]\n",
      " [-0.0542 -0.      0.     -0.      1.795   0.4996  0.0999 -0.    ]\n",
      " [ 0.      0.      0.      0.      0.      0.      0.      0.    ]\n",
      " [ 0.      0.      0.      0.      0.      0.      0.      0.    ]\n",
      " [ 0.      0.      0.      0.      0.      0.      0.      0.    ]\n",
      " [ 0.      0.      0.      0.      0.      0.      0.      0.    ]\n",
      " [ 0.      0.      0.      0.      0.      0.      0.      0.    ]\n",
      " [ 0.      0.      0.      0.      0.      0.      0.      0.    ]\n",
      " [ 0.      0.      0.      0.      0.      0.      0.      0.    ]\n",
      " [ 0.      0.      0.      0.      0.      0.      0.      0.    ]\n",
      " [ 0.      0.      0.      0.      0.      0.      0.      0.    ]\n",
      " [ 0.      0.      0.      0.      0.      0.      0.      0.    ]\n",
      " [ 0.      0.0999 -0.4996 -0.205   0.      0.      0.      2.    ]\n",
      " [ 0.      0.      0.      0.      0.      0.      0.      0.    ]\n",
      " [ 0.      0.      0.      0.      0.      0.      0.      0.    ]\n",
      " [ 0.      0.      0.      0.      0.      0.      0.      0.    ]\n",
      " [ 0.     -0.0542  0.      0.     -0.4996 -0.205   0.      0.0999]\n",
      " [-0.     -0.     -0.0542  0.     -0.0999 -0.     -0.205  -0.4996]\n",
      " [ 0.     -0.     -0.     -0.0542  0.     -0.0999  0.4996  1.795 ]\n",
      " [ 0.      0.      0.      0.     -0.      0.      0.      0.    ]\n",
      " [-0.      0.      0.      0.      0.     -0.      0.      0.    ]\n",
      " [-0.      0.      0.     -0.      0.      0.     -0.      0.    ]\n",
      " [ 0.      0.      0.      0.      0.      0.      0.      0.    ]\n",
      " [ 0.      0.      0.      0.      0.      0.      0.      0.    ]\n",
      " [ 0.      0.      0.      0.      0.      0.      0.      0.    ]\n",
      " [ 0.      0.      0.      0.      0.      0.      0.      0.    ]\n",
      " [ 0.      0.      0.      0.      0.      0.      0.      0.    ]\n",
      " [ 0.     -0.      0.      0.      0.      0.      0.     -0.    ]]\n",
      "[[  -0.       -2.0024   -3.8879   -0.0943    0.        0.        0.        0.    ]\n",
      " [   0.        0.        0.        0.        0.        0.        0.        0.    ]\n",
      " [   0.        0.        0.        0.        0.        0.        0.        0.    ]\n",
      " [   0.        0.        0.        0.        0.        0.        0.        0.    ]\n",
      " [   0.        0.        0.        0.        0.        0.        0.        0.    ]\n",
      " [   0.        0.        0.        0.        0.        0.        0.        0.    ]\n",
      " [   2.0024   -0.        2.0943    2.1121    0.        0.        0.        0.    ]\n",
      " [   3.8879   -2.0943   -0.        4.0024    0.        0.        0.        0.    ]\n",
      " [   0.0943   -2.1121   -4.0024   -0.        0.        0.        0.        0.    ]\n",
      " [   0.        0.        0.        0.        0.        0.        0.        0.    ]\n",
      " [   0.        0.        0.        0.        0.        0.        0.        0.    ]\n",
      " [   0.        0.        0.        0.        0.        0.        0.        0.    ]\n",
      " [  15.5521  188.8944  -96.096     0.       -0.        4.0024   -2.1121\n",
      "    -0.0943]\n",
      " [ -94.8944   11.5521   -0.      -96.096    -4.0024   -0.        2.0943\n",
      "     3.8879]\n",
      " [-189.904     0.       11.5521 -188.8944    2.1121   -2.0943   -0.\n",
      "    -2.0024]\n",
      " [   0.        0.        0.        0.        0.        0.        0.        0.    ]\n",
      " [   0.        0.        0.        0.        0.        0.        0.        0.    ]\n",
      " [   0.        0.        0.        0.        0.        0.        0.        0.    ]\n",
      " [   0.        0.        0.        0.        0.        0.        0.        0.    ]\n",
      " [   0.        0.        0.        0.        0.        0.        0.        0.    ]\n",
      " [   0.        0.        0.        0.        0.        0.        0.        0.    ]\n",
      " [   0.        0.        0.        0.        0.        0.        0.        0.    ]\n",
      " [   0.        0.        0.        0.        0.        0.        0.        0.    ]\n",
      " [   0.        0.        0.        0.        0.        0.        0.        0.    ]\n",
      " [   0.        0.        0.        0.        0.        0.        0.        0.    ]\n",
      " [   0.        0.        0.        0.        0.        0.        0.        0.    ]\n",
      " [   0.        0.        0.        0.        0.        0.        0.        0.    ]\n",
      " [  -0.     -189.904    94.8944   15.5521    0.0943   -3.8879    2.0024\n",
      "    -0.    ]\n",
      " [   0.        0.        0.        0.        0.        0.        0.        0.    ]\n",
      " [   0.        0.        0.        0.        0.        0.        0.        0.    ]\n",
      " [   0.        0.        0.        0.        0.        0.        0.        0.    ]\n",
      " [   0.        0.        0.        0.        0.        0.        0.        0.    ]]\n",
      "[[ 0.      0.      0.      0.      0.      0.      0.      0.    ]\n",
      " [-0.005  -0.0996  0.0001  0.      0.      0.      0.      0.    ]\n",
      " [ 0.0996  1.995   0.      0.0001  0.      0.      0.      0.    ]\n",
      " [-0.0001  0.      1.995   0.0996  0.      0.      0.      0.    ]\n",
      " [ 0.      0.      0.      0.      0.      0.      0.      0.    ]\n",
      " [-0.1592 -0.      0.     -0.      1.995   0.0996 -0.0001  0.    ]\n",
      " [ 0.      0.      0.      0.      0.      0.      0.      0.    ]\n",
      " [ 0.      0.      0.      0.      0.      0.      0.      0.    ]\n",
      " [ 0.      0.      0.      0.      0.      0.      0.      0.    ]\n",
      " [ 0.      0.      0.      0.      0.      0.      0.      0.    ]\n",
      " [ 0.      0.      0.      0.      0.      0.      0.      0.    ]\n",
      " [ 0.      0.      0.      0.      0.      0.      0.      0.    ]\n",
      " [ 0.      0.      0.      0.      0.      0.      0.      0.    ]\n",
      " [ 0.      0.      0.      0.      0.      0.      0.      0.    ]\n",
      " [ 0.      0.      0.      0.      0.      0.      0.      0.    ]\n",
      " [ 0.      0.      0.      0.      0.      0.      0.      0.    ]\n",
      " [ 0.     -0.0001 -0.0996 -0.005   0.      0.      0.      0.    ]\n",
      " [ 0.      0.      0.      0.      0.      0.      0.      0.    ]\n",
      " [ 0.      0.      0.      0.      0.      0.      0.      0.    ]\n",
      " [ 0.      0.      0.      0.      0.      0.      0.      0.    ]\n",
      " [ 0.     -0.1592  0.      0.     -0.0996 -0.005   0.     -0.0001]\n",
      " [ 0.     -0.     -0.1592  0.      0.0001  0.     -0.005  -0.0996]\n",
      " [ 0.      0.     -0.     -0.1592  0.      0.0001  0.0996  1.995 ]\n",
      " [ 0.      0.      0.      0.      0.      0.      0.      0.    ]\n",
      " [ 0.      0.      0.      0.      0.      0.      0.      0.    ]\n",
      " [ 0.      0.      0.      0.      0.      0.      0.      0.    ]\n",
      " [ 0.      0.      0.      0.      0.      0.      0.      0.    ]\n",
      " [ 0.      0.      0.      0.      0.      0.      0.      0.    ]\n",
      " [ 0.      0.      0.      0.      0.      0.      0.      0.    ]\n",
      " [ 0.      0.      0.      0.      0.      0.      0.      0.    ]\n",
      " [ 0.      0.      0.      0.      0.      0.      0.      0.    ]\n",
      " [ 0.      0.      0.      0.      0.      0.      0.      0.    ]]\n",
      "[[ 0.     -0.8822 -0.5726  0.0155  0.      0.      0.      0.    ]\n",
      " [ 0.      0.      0.      0.      0.      0.      0.      0.    ]\n",
      " [ 0.      0.      0.      0.      0.      0.      0.      0.    ]\n",
      " [ 0.      0.      0.      0.      0.      0.      0.      0.    ]\n",
      " [ 0.      0.      0.      0.      0.      0.      0.      0.    ]\n",
      " [ 0.      0.      0.      0.      0.      0.      0.      0.    ]\n",
      " [ 0.8822  0.      0.2787  0.8983  0.      0.      0.      0.    ]\n",
      " [ 0.5726 -0.2787  0.      0.588   0.      0.      0.      0.    ]\n",
      " [-0.0155 -0.8983 -0.588   0.      0.      0.      0.      0.    ]\n",
      " [ 0.      0.      0.      0.      0.      0.      0.      0.    ]\n",
      " [ 0.      0.      0.      0.      0.      0.      0.      0.    ]\n",
      " [ 0.      0.      0.      0.      0.      0.      0.      0.    ]\n",
      " [ 0.2112 -0.3949  1.1841  0.      0.      0.588  -0.8983  0.0155]\n",
      " [ 1.0961 -2.9342 -0.      1.1841 -0.588   0.      0.2787  0.5726]\n",
      " [ 0.3091  0.     -2.9342  0.3949  0.8983 -0.2787  0.     -0.8822]\n",
      " [ 0.      0.      0.      0.      0.      0.      0.      0.    ]\n",
      " [ 0.      0.      0.      0.      0.      0.      0.      0.    ]\n",
      " [ 0.      0.      0.      0.      0.      0.      0.      0.    ]\n",
      " [ 0.      0.      0.      0.      0.      0.      0.      0.    ]\n",
      " [ 0.      0.      0.      0.      0.      0.      0.      0.    ]\n",
      " [ 0.      0.      0.      0.      0.      0.      0.      0.    ]\n",
      " [ 0.      0.      0.      0.      0.      0.      0.      0.    ]\n",
      " [ 0.      0.      0.      0.      0.      0.      0.      0.    ]\n",
      " [ 0.      0.      0.      0.      0.      0.      0.      0.    ]\n",
      " [ 0.      0.      0.      0.      0.      0.      0.      0.    ]\n",
      " [ 0.      0.      0.      0.      0.      0.      0.      0.    ]\n",
      " [ 0.      0.      0.      0.      0.      0.      0.      0.    ]\n",
      " [-0.      0.3091 -1.0961  0.2112 -0.0155 -0.5726  0.8822  0.    ]\n",
      " [ 0.      0.      0.      0.      0.      0.      0.      0.    ]\n",
      " [ 0.      0.      0.      0.      0.      0.      0.      0.    ]\n",
      " [ 0.      0.      0.      0.      0.      0.      0.      0.    ]\n",
      " [ 0.      0.      0.      0.      0.      0.      0.      0.    ]]\n",
      "Mot: [ -0.71 0.035 -0.035 0.71 -0.065 0.18 -0.11 0.062 ]\n",
      "Mot: [ 0.71 -0.035 0.035 -0.71 0.065 -0.18 0.11 -0.062 ]\n",
      "Mot: [ -1 7e-15 -2.1e-14 -2.1e-15 -2.6e-15 -8.7e-15 3.8e-15 -3.5e-15 ]\n"
     ]
    }
   ],
   "source": [
    "M = vsr.CGA((vsr.Dll(vsr.Vec(48,1,1).null(), vsr.Vec(1,3,1))*(pi/6)).exp())\n",
    "\n",
    "T = vsr.Vec(-0.2,0.4,0.1).trs()\n",
    "R = (vsr.Biv(1,-1,20).unit() * (pi/4)).exp()\n",
    "M = T * R\n",
    "M = vsr.CGA(M)\n",
    "\n",
    "# As = [vsr.CGA(vsr.Vec(1,0,0).null()),\n",
    "#       vsr.CGA(vsr.Vec(0,1,0).null()),\n",
    "#       vsr.CGA(vsr.Vec(0,0,1).null())]\n",
    "# Bs = [a.spin(M) for a in As]\n",
    "\n",
    "As = [vsr.CGA(vsr.Vec(1,0,0).null()),\n",
    "      vsr.CGA(vsr.Dll(vsr.Vec(48,1,1).null(), vsr.Vec(1,3,1))),\n",
    "      vsr.CGA(vsr.Dlp(1,0,0,9)),\n",
    "      vsr.CGA(vsr.Vec(1,2,3).trs() * vsr.Rot(vsr.Biv(1,5,-1).unit() * 0.87))]\n",
    "Bs = [a.spin(M) for a in As]\n",
    "\n",
    "\n",
    "# Bsn = [b.spin(vsr.CGA(vsr.Vec(0.01, 0.001, 0.001).trs() * vsr.Rot(vsr.Biv(1,2,3).unit() * 0.001))) for b in Bs] \n",
    "\n",
    "# Q = []\n",
    "\n",
    "# n_lines = 10\n",
    "# lines_a, lines_b = hand_eye_pose_pairs(M_object_in_world, M.mot(), n_lines)\n",
    "# As = [vsr.CGA(a) for a in lines_a]\n",
    "# Bs = [vsr.CGA(b) for b in lines_b]\n",
    "def solve(L):\n",
    "    Lrr = L[:4, :4]\n",
    "    Lrq = L[:4, 4:]\n",
    "    Lqr = L[4:, :4]\n",
    "    Lqq = L[4:, 4:]\n",
    "    Lp = Lrr - np.dot(Lrq, np.dot(np.linalg.pinv(Lqq), Lqr))\n",
    "    w, v = np.linalg.eig(Lp)\n",
    "    r = v[:, np.argmin(w)]\n",
    "    q = np.dot(-np.dot(np.linalg.pinv(Lqq), Lqr), r)\n",
    "    return vsr.Mot(*np.array([r, q]).ravel())\n",
    "\n",
    "Q = np.zeros((8,8))\n",
    "for b, a in zip(As[:], Bs[:]):\n",
    "    D = np.zeros((32,8))\n",
    "    for i in range(8):\n",
    "        ei = vsr.Mot(0,0,0,0,0,0,0,0)\n",
    "        ei[i] = 1.0\n",
    "        ei = vsr.CGA(ei)\n",
    "        D[:,i] = np.array(a * ei - ei * b)\n",
    "        \n",
    "    print(D)\n",
    "    Q += np.dot(D.T,D)\n",
    "    \n",
    "M_est = solve(Q)\n",
    "print(M_est)\n",
    "print(M.mot())\n",
    "print(M.mot() * M_est.rev())\n",
    "    \n",
    "# Q = np.array(Q).reshape(-1,8)\n",
    "# U, s, Vt = np.linalg.svd(Q)\n",
    "# M_est = vsr.Mot(*Vt.T[-1]).retract()\n",
    "# print(M_est)\n",
    "# print(M.mot())\n",
    "# print(np.array(M.mot()))\n"
   ]
  },
  {
   "cell_type": "code",
   "execution_count": 582,
   "metadata": {
    "collapsed": false
   },
   "outputs": [
    {
     "data": {
      "text/plain": [
       "Rot: [ -0.64 -0.3 -0.031 0.71 ]"
      ]
     },
     "execution_count": 582,
     "metadata": {},
     "output_type": "execute_result"
    }
   ],
   "source": [
    "Lrr = Q[:4, :4]\n",
    "U, s, Vt = np.linalg.svd(Lrr)\n",
    "R_est = vsr.Rot(*Vt.T[-1])\n",
    "R_est"
   ]
  },
  {
   "cell_type": "code",
   "execution_count": 583,
   "metadata": {
    "collapsed": false
   },
   "outputs": [],
   "source": [
    "def solve(L):\n",
    "    Lrr = L[:4, :4]\n",
    "    Lrq = L[:4, 4:]\n",
    "    Lqr = L[4:, :4]\n",
    "    Lqq = L[4:, 4:]\n",
    "    Lp = Lrr - np.dot(Lrq, np.dot(np.linalg.pinv(Lqq), Lqr))\n",
    "    w, v = np.linalg.eig(Lp)\n",
    "    r = v[:, np.argmin(w)]\n",
    "    q = np.dot(-np.dot(np.linalg.pinv(Lqq), Lqr), r)\n",
    "    return vsr.Mot(*np.array([r, q]).ravel())"
   ]
  },
  {
   "cell_type": "code",
   "execution_count": 584,
   "metadata": {
    "collapsed": false
   },
   "outputs": [
    {
     "data": {
      "text/plain": [
       "Mot: [ 0.71 0.035 -0.035 0.71 -0.065 0.18 -0.11 -0.062 ]"
      ]
     },
     "execution_count": 584,
     "metadata": {},
     "output_type": "execute_result"
    }
   ],
   "source": [
    "solve(Q).rev()*-1"
   ]
  },
  {
   "cell_type": "code",
   "execution_count": 585,
   "metadata": {
    "collapsed": false
   },
   "outputs": [],
   "source": [
    "a = vsr.Vec(1,2,3).null()\n",
    "b = vsr.Vec(4,5,6).null()\n",
    "c = a - b"
   ]
  },
  {
   "cell_type": "code",
   "execution_count": 586,
   "metadata": {
    "collapsed": false
   },
   "outputs": [
    {
     "data": {
      "text/plain": [
       "1019.25"
      ]
     },
     "execution_count": 586,
     "metadata": {},
     "output_type": "execute_result"
    }
   ],
   "source": [
    "np.inner(c,c)"
   ]
  },
  {
   "cell_type": "code",
   "execution_count": 587,
   "metadata": {
    "collapsed": false
   },
   "outputs": [],
   "source": [
    "av = a.vec()\n",
    "bv = b.vec()\n",
    "cv = av - bv"
   ]
  },
  {
   "cell_type": "code",
   "execution_count": 588,
   "metadata": {
    "collapsed": false
   },
   "outputs": [
    {
     "data": {
      "text/plain": [
       "1019.25"
      ]
     },
     "execution_count": 588,
     "metadata": {},
     "output_type": "execute_result"
    }
   ],
   "source": [
    "np.inner(cv, cv) + 0.25 * (np.inner(av, av) - np.inner(bv,bv))**2"
   ]
  },
  {
   "cell_type": "code",
   "execution_count": 589,
   "metadata": {
    "collapsed": true
   },
   "outputs": [],
   "source": [
    "R = (vsr.Biv(1,2,3).unit() * (pi/6)).exp()\n",
    "T = vsr.Vec(0,1,4).trs()"
   ]
  },
  {
   "cell_type": "code",
   "execution_count": 590,
   "metadata": {
    "collapsed": false
   },
   "outputs": [
    {
     "data": {
      "text/plain": [
       "CGA: [ 1 0 0 0 0 0 0 6.9e-18 0 0 0 0 -1.1 -2 -0.58 0 0 0 0 0 0 0 0 0 0 0 0 -1.5e-16 0 0 0 0 ]"
      ]
     },
     "execution_count": 590,
     "metadata": {},
     "output_type": "execute_result"
    }
   ],
   "source": [
    "M = T * R\n",
    "Mr = R.rev() * T\n",
    "a = vsr.Mot(1,0,0,0,1,2,3,0)\n",
    "vsr.CGA(M) * vsr.CGA(a) * vsr.CGA(Mr)"
   ]
  },
  {
   "cell_type": "code",
   "execution_count": 591,
   "metadata": {
    "collapsed": false
   },
   "outputs": [
    {
     "data": {
      "text/plain": [
       "Dls: [ -1.137 0.005503 7.423 1 28.2 ]"
      ]
     },
     "execution_count": 591,
     "metadata": {},
     "output_type": "execute_result"
    }
   ],
   "source": [
    "vsr.Vec(1,2,3).null().spin(T*R)"
   ]
  },
  {
   "cell_type": "code",
   "execution_count": null,
   "metadata": {
    "collapsed": true
   },
   "outputs": [],
   "source": []
  },
  {
   "cell_type": "code",
   "execution_count": null,
   "metadata": {
    "collapsed": true
   },
   "outputs": [],
   "source": []
  },
  {
   "cell_type": "code",
   "execution_count": null,
   "metadata": {
    "collapsed": true
   },
   "outputs": [],
   "source": []
  }
 ],
 "metadata": {
  "anaconda-cloud": {},
  "kernelspec": {
   "display_name": "Python [default]",
   "language": "python",
   "name": "python3"
  },
  "language_info": {
   "codemirror_mode": {
    "name": "ipython",
    "version": 3
   },
   "file_extension": ".py",
   "mimetype": "text/x-python",
   "name": "python",
   "nbconvert_exporter": "python",
   "pygments_lexer": "ipython3",
   "version": "3.5.2"
  }
 },
 "nbformat": 4,
 "nbformat_minor": 0
}
