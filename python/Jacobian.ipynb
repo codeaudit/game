{
 "cells": [
  {
   "cell_type": "code",
   "execution_count": 1,
   "metadata": {
    "collapsed": false
   },
   "outputs": [
    {
     "name": "stdout",
     "output_type": "stream",
     "text": [
      "Populating the interactive namespace from numpy and matplotlib\n"
     ]
    }
   ],
   "source": [
    "from __future__ import print_function\n",
    "import sys\n",
    "sys.path.append('../build/')\n",
    "%pylab inline\n",
    "np.set_printoptions(precision=6, suppress=True)\n",
    "import versor as vsr\n",
    "import motor_jacobian"
   ]
  },
  {
   "cell_type": "code",
   "execution_count": 2,
   "metadata": {
    "collapsed": false
   },
   "outputs": [
    {
     "name": "stdout",
     "output_type": "stream",
     "text": [
      "Mot: [ 0.87 0.13 0.27 0.4 0.1 -0.33 -1.8 -0.13 ]\n"
     ]
    }
   ],
   "source": [
    "m = vsr.Vec(1,2,3).trs() * (vsr.Biv(1,2,3).unit() * (-pi/6)).exp(); print(m)\n",
    "# m = vsr.Mot(0,2,0,0,0,0,0,0)\n",
    "b = vsr.Dll(0,0,0,0,0,0)"
   ]
  },
  {
   "cell_type": "code",
   "execution_count": 3,
   "metadata": {
    "collapsed": false
   },
   "outputs": [
    {
     "data": {
      "text/plain": [
       "[<matplotlib.lines.Line2D at 0x10d5ec2e8>]"
      ]
     },
     "execution_count": 3,
     "metadata": {},
     "output_type": "execute_result"
    },
    {
     "data": {
      "image/png": "[encoded data removed]",
      "text/plain": [
       "<matplotlib.figure.Figure at 0x10493a978>"
      ]
     },
     "metadata": {},
     "output_type": "display_data"
    }
   ],
   "source": [
    "t = 0\n",
    "plot([1.0 / (sqrt((t + h)**2 * 6 + 1.0)) for h in np.linspace(1,0)])"
   ]
  },
  {
   "cell_type": "code",
   "execution_count": 4,
   "metadata": {
    "collapsed": false
   },
   "outputs": [
    {
     "data": {
      "text/plain": [
       "array([[-0.133631, -0.267261, -0.400892,  0.      ,  0.      ,  0.      ],\n",
       "       [ 0.866025, -0.400892,  0.267261,  0.      ,  0.      ,  0.      ],\n",
       "       [ 0.400892,  0.866025, -0.133631,  0.      ,  0.      ,  0.      ],\n",
       "       [-0.267261,  0.133631,  0.866025,  0.      ,  0.      ,  0.      ],\n",
       "       [-0.331503, -1.833561,  0.133631,  0.866025, -0.133631, -0.267261],\n",
       "       [-0.10151 , -0.133631, -1.833561,  0.133631,  0.866025, -0.400892],\n",
       "       [ 0.133631, -0.10151 ,  0.331503,  0.267261,  0.400892,  0.866025],\n",
       "       [-1.833561,  0.331503,  0.10151 ,  0.400892, -0.267261,  0.133631]])"
      ]
     },
     "execution_count": 4,
     "metadata": {},
     "output_type": "execute_result"
    }
   ],
   "source": [
    "pm = motor_jacobian.jacobian_polar(m); pm"
   ]
  },
  {
   "cell_type": "code",
   "execution_count": 5,
   "metadata": {
    "collapsed": false
   },
   "outputs": [
    {
     "data": {
      "text/plain": [
       "array([[-0.133631, -0.267261, -0.400892,  0.      ,  0.      ,  0.      ],\n",
       "       [ 0.866025, -0.400892,  0.267261,  0.      ,  0.      ,  0.      ],\n",
       "       [ 0.400892,  0.866025, -0.133631,  0.      ,  0.      ,  0.      ],\n",
       "       [-0.267261,  0.133631,  0.866025,  0.      ,  0.      ,  0.      ],\n",
       "       [-0.331503, -1.833561,  0.133631,  0.866025, -0.133631, -0.267261],\n",
       "       [-0.10151 , -0.133631, -1.833561,  0.133631,  0.866025, -0.400892],\n",
       "       [ 0.133631, -0.10151 ,  0.331503,  0.267261,  0.400892,  0.866025],\n",
       "       [-1.833561,  0.331503,  0.10151 ,  0.400892, -0.267261,  0.133631]])"
      ]
     },
     "execution_count": 5,
     "metadata": {},
     "output_type": "execute_result"
    }
   ],
   "source": [
    "em = motor_jacobian.jacobian_exp(m); em"
   ]
  },
  {
   "cell_type": "code",
   "execution_count": 6,
   "metadata": {
    "collapsed": false
   },
   "outputs": [
    {
     "data": {
      "text/plain": [
       "array([[-0.267261, -0.534522, -0.801784,  0.      ,  0.      ,  0.      ],\n",
       "       [ 1.732051, -0.801784,  0.534522,  0.      ,  0.      ,  0.      ],\n",
       "       [ 0.801784,  1.732051, -0.267261,  0.      ,  0.      ,  0.      ],\n",
       "       [-0.534522,  0.267261,  1.732051,  0.      ,  0.      ,  0.      ],\n",
       "       [-0.663006, -3.667121,  0.267261,  1.732051, -0.267261, -0.534522],\n",
       "       [-0.20302 , -0.267261, -3.667121,  0.267261,  1.732051, -0.801784],\n",
       "       [ 0.267261, -0.20302 ,  0.663006,  0.534522,  0.801784,  1.732051],\n",
       "       [-3.667121,  0.663006,  0.20302 ,  0.801784, -0.534522,  0.267261]])"
      ]
     },
     "execution_count": 6,
     "metadata": {},
     "output_type": "execute_result"
    }
   ],
   "source": [
    "cm = motor_jacobian.jacobian_cayley(m); cm"
   ]
  },
  {
   "cell_type": "code",
   "execution_count": 11,
   "metadata": {
    "collapsed": false
   },
   "outputs": [
    {
     "data": {
      "text/plain": [
       "array([[-0.133631, -0.267261, -0.400892,  0.      ,  0.      ,  0.      ],\n",
       "       [ 0.866025, -0.400892,  0.267261,  0.      ,  0.      ,  0.      ],\n",
       "       [ 0.400892,  0.866025, -0.133631,  0.      ,  0.      ,  0.      ],\n",
       "       [-0.267261,  0.133631,  0.866025,  0.      ,  0.      ,  0.      ],\n",
       "       [-0.331503, -1.833561,  0.133631,  0.866025, -0.133631, -0.267261],\n",
       "       [-0.10151 , -0.133631, -1.833561,  0.133631,  0.866025, -0.400892],\n",
       "       [ 0.133631, -0.10151 ,  0.331503,  0.267261,  0.400892,  0.866025],\n",
       "       [-1.833561,  0.331503,  0.10151 ,  0.400892, -0.267261,  0.133631]])"
      ]
     },
     "execution_count": 11,
     "metadata": {},
     "output_type": "execute_result"
    }
   ],
   "source": [
    "om = motor_jacobian.jacobian_oexp(m); om"
   ]
  },
  {
   "cell_type": "code",
   "execution_count": 12,
   "metadata": {
    "collapsed": false
   },
   "outputs": [
    {
     "data": {
      "text/plain": [
       "False"
      ]
     },
     "execution_count": 12,
     "metadata": {},
     "output_type": "execute_result"
    }
   ],
   "source": [
    "np.allclose(pm,em)"
   ]
  },
  {
   "cell_type": "code",
   "execution_count": 13,
   "metadata": {
    "collapsed": false
   },
   "outputs": [
    {
     "data": {
      "text/plain": [
       "True"
      ]
     },
     "execution_count": 13,
     "metadata": {},
     "output_type": "execute_result"
    }
   ],
   "source": [
    "np.allclose(pm,cm)"
   ]
  },
  {
   "cell_type": "code",
   "execution_count": 14,
   "metadata": {
    "collapsed": false
   },
   "outputs": [
    {
     "data": {
      "text/plain": [
       "True"
      ]
     },
     "execution_count": 14,
     "metadata": {},
     "output_type": "execute_result"
    }
   ],
   "source": [
    "np.allclose(pm,om)"
   ]
  },
  {
   "cell_type": "code",
   "execution_count": 13,
   "metadata": {
    "collapsed": false
   },
   "outputs": [
    {
     "data": {
      "text/plain": [
       "array([[-2., -3., -4.,  0.,  0.,  0.],\n",
       "       [ 1., -4.,  3.,  0.,  0.,  0.],\n",
       "       [ 4.,  1., -2.,  0.,  0.,  0.],\n",
       "       [-3.,  2.,  1.,  0.,  0.,  0.],\n",
       "       [ 6.,  7., -8.,  1., -2., -3.],\n",
       "       [-5.,  8.,  7.,  2.,  1., -4.],\n",
       "       [-8., -5., -6.,  3.,  4.,  1.],\n",
       "       [ 7., -6.,  5.,  4., -3.,  2.]])"
      ]
     },
     "execution_count": 13,
     "metadata": {},
     "output_type": "execute_result"
    }
   ],
   "source": [
    "m = vsr.Mot(1,2,3,4,5,6,7,8)\n",
    "b1 = vsr.Dll(1,0,0,0,0,0)\n",
    "b2 = vsr.Dll(0,1,0,0,0,0)\n",
    "b3 = vsr.Dll(0,0,1,0,0,0)\n",
    "b4 = vsr.Dll(0,0,0,1,0,0)\n",
    "b5 = vsr.Dll(0,0,0,0,1,0)\n",
    "b6 = vsr.Dll(0,0,0,0,0,1)\n",
    "np.array([\n",
    "        np.array(b1*m),\n",
    "        np.array(b2*m),\n",
    "        np.array(b3*m),\n",
    "        np.array(b4*m),\n",
    "        np.array(b5*m),\n",
    "        np.array(b6*m)]).T"
   ]
  },
  {
   "cell_type": "code",
   "execution_count": 14,
   "metadata": {
    "collapsed": false
   },
   "outputs": [
    {
     "data": {
      "text/plain": [
       "array([[-0.129099, -0.258199, -0.387298,  0.182574,  0.182574,  0.182574],\n",
       "       [ 0.387298, -0.258199,  0.645497,  0.365148,  0.365148,  0.365148],\n",
       "       [ 0.903696,  0.516398,  0.129099,  0.547723,  0.547723,  0.547723],\n",
       "       [ 0.129099,  0.774597,  0.645497,  0.730297,  0.730297,  0.730297],\n",
       "       [ 1.385667,  1.342634, -0.559431,  0.900699,  0.352977,  0.170403],\n",
       "       [ 0.370085,  1.945098,  1.712719,  1.606653,  1.424079,  0.511208],\n",
       "       [-0.232379,  0.327052, -0.043033,  1.728369,  1.910943,  1.363221],\n",
       "       [ 1.902065,  0.189346,  1.575013,  2.239577,  0.961557,  1.874428]])"
      ]
     },
     "execution_count": 14,
     "metadata": {},
     "output_type": "execute_result"
    }
   ],
   "source": [
    "np.array([\n",
    "        np.array((m + b1*m).retract()),\n",
    "        np.array((m + b2*m).retract()),\n",
    "        np.array((m + b3*m).retract()),\n",
    "        np.array((m + b4*m).retract()),\n",
    "        np.array((m + b5*m).retract()),\n",
    "        np.array((m + b6*m).retract())]).T"
   ]
  },
  {
   "cell_type": "code",
   "execution_count": 11,
   "metadata": {
    "collapsed": true
   },
   "outputs": [],
   "source": [
    "p = vsr.Vec(1,0,0).null()\n",
    "m = vsr.Vec(1,2,3).trs() * vsr.Biv(pi/6,0,0).exp()\n",
    "b = vsr.Dll(1,0,0,0,0,0)"
   ]
  },
  {
   "cell_type": "code",
   "execution_count": 12,
   "metadata": {
    "collapsed": false
   },
   "outputs": [
    {
     "data": {
      "text/plain": [
       "Dlp: [ -5.732 3 0 0 ]"
      ]
     },
     "execution_count": 12,
     "metadata": {},
     "output_type": "execute_result"
    }
   ],
   "source": [
    "p.spin(m).comm(b) - b.comm(p.spin(m))"
   ]
  },
  {
   "cell_type": "markdown",
   "metadata": {},
   "source": [
    "b.comm(p.spin(m)) - p.spin(m).comm(b)"
   ]
  },
  {
   "cell_type": "code",
   "execution_count": 13,
   "metadata": {
    "collapsed": false
   },
   "outputs": [
    {
     "data": {
      "text/plain": [
       "Pnt: [ 2.866 -1.5 0 0 0 ]"
      ]
     },
     "execution_count": 13,
     "metadata": {},
     "output_type": "execute_result"
    }
   ],
   "source": [
    "b.comm(p.spin(m))"
   ]
  },
  {
   "cell_type": "code",
   "execution_count": 14,
   "metadata": {
    "collapsed": false
   },
   "outputs": [
    {
     "data": {
      "text/plain": [
       "Mot: [ 0.5 -0.87 0 0 0.62 -0.93 0.75 -1.3 ]"
      ]
     },
     "execution_count": 14,
     "metadata": {},
     "output_type": "execute_result"
    }
   ],
   "source": [
    "m.rev() * b.rev()"
   ]
  },
  {
   "cell_type": "code",
   "execution_count": 15,
   "metadata": {
    "collapsed": false
   },
   "outputs": [
    {
     "data": {
      "text/plain": [
       "Mot: [ 0.5 -0.87 0 0 -0.62 0.93 0.75 -1.3 ]"
      ]
     },
     "execution_count": 15,
     "metadata": {},
     "output_type": "execute_result"
    }
   ],
   "source": [
    "b.rev() * m.rev()"
   ]
  },
  {
   "cell_type": "code",
   "execution_count": 16,
   "metadata": {
    "collapsed": false
   },
   "outputs": [
    {
     "data": {
      "text/plain": [
       "Mot: [ -0.25 -0.43 0 0 0.31 -0.47 0.37 0.65 ]"
      ]
     },
     "execution_count": 16,
     "metadata": {},
     "output_type": "execute_result"
    }
   ],
   "source": [
    "vsr.Dll(-0.5,0,0,0,0,0) * m"
   ]
  },
  {
   "cell_type": "code",
   "execution_count": 17,
   "metadata": {
    "collapsed": false
   },
   "outputs": [
    {
     "data": {
      "text/plain": [
       "Mot: [ -0.83 0.15 0.3 0.45 1.8 -0.016 1.3 -1.2 ]"
      ]
     },
     "execution_count": 17,
     "metadata": {},
     "output_type": "execute_result"
    }
   ],
   "source": [
    "vsr.Dll(-1,-2,-3,-4,-5,-6).exp() "
   ]
  },
  {
   "cell_type": "code",
   "execution_count": 18,
   "metadata": {
    "collapsed": false
   },
   "outputs": [
    {
     "data": {
      "text/plain": [
       "Mot: [ -0.83 0.15 0.3 0.45 1.8 -0.016 1.3 -1.2 ]"
      ]
     },
     "execution_count": 18,
     "metadata": {},
     "output_type": "execute_result"
    }
   ],
   "source": [
    "vsr.Dll(1,2,3,4,5,6).exp().rev() "
   ]
  },
  {
   "cell_type": "code",
   "execution_count": 19,
   "metadata": {
    "collapsed": false
   },
   "outputs": [
    {
     "data": {
      "text/plain": [
       "Mot: [ 0.5 -0.87 -0.23 -3.6 -1.9 -11 -0.73 -5.9 ]"
      ]
     },
     "execution_count": 19,
     "metadata": {},
     "output_type": "execute_result"
    }
   ],
   "source": [
    "vsr.Dll(1,2,3,4,5,6).rev() * m.rev()"
   ]
  },
  {
   "cell_type": "code",
   "execution_count": 20,
   "metadata": {
    "collapsed": false
   },
   "outputs": [
    {
     "data": {
      "text/plain": [
       "Mot: [ 0 0 0 0 0 0 0 0 ]"
      ]
     },
     "execution_count": 20,
     "metadata": {},
     "output_type": "execute_result"
    }
   ],
   "source": [
    "m.rev() * vsr.Dll(0,0,0,0,0,0)"
   ]
  },
  {
   "cell_type": "code",
   "execution_count": 21,
   "metadata": {
    "collapsed": false
   },
   "outputs": [],
   "source": [
    "m2 = vsr.Vec(1,2,3).trs() * vsr.Biv(pi/6,0,0).exp()\n",
    "l2 = m2.log()"
   ]
  },
  {
   "cell_type": "code",
   "execution_count": 22,
   "metadata": {
    "collapsed": false
   },
   "outputs": [
    {
     "data": {
      "text/plain": [
       "Mot: [ -0.26 0.45 0 0 0.85 0.56 0.91 1.4 ]"
      ]
     },
     "execution_count": 22,
     "metadata": {},
     "output_type": "execute_result"
    }
   ],
   "source": [
    "m.rev() * l2.rev()"
   ]
  },
  {
   "cell_type": "code",
   "execution_count": 23,
   "metadata": {
    "collapsed": false
   },
   "outputs": [
    {
     "data": {
      "text/plain": [
       "Mot: [ -0.26 0.45 0 0 0.85 0.56 0.91 1.4 ]"
      ]
     },
     "execution_count": 23,
     "metadata": {},
     "output_type": "execute_result"
    }
   ],
   "source": [
    "l2.rev() * m.rev()"
   ]
  },
  {
   "cell_type": "code",
   "execution_count": 24,
   "metadata": {
    "collapsed": false
   },
   "outputs": [
    {
     "data": {
      "text/plain": [
       "Pnt: [ 0.5236 -1.43 -1.5 0 -7.814 ]"
      ]
     },
     "execution_count": 24,
     "metadata": {},
     "output_type": "execute_result"
    }
   ],
   "source": [
    "p.spin(m).comm(l2)"
   ]
  },
  {
   "cell_type": "code",
   "execution_count": 25,
   "metadata": {
    "collapsed": false
   },
   "outputs": [
    {
     "data": {
      "text/plain": [
       "Pnt: [ -0.5236 1.43 1.5 0 7.814 ]"
      ]
     },
     "execution_count": 25,
     "metadata": {},
     "output_type": "execute_result"
    }
   ],
   "source": [
    "l2.comm(p.spin(m))"
   ]
  },
  {
   "cell_type": "code",
   "execution_count": 26,
   "metadata": {
    "collapsed": true
   },
   "outputs": [],
   "source": [
    "B = vsr.EGA(vsr.Biv(1,2,3))\n",
    "A = vsr.EGA(vsr.Vec(1,2,3))\n",
    "R = vsr.EGA(vsr.Biv(pi/6,0,0).exp())"
   ]
  },
  {
   "cell_type": "code",
   "execution_count": null,
   "metadata": {
    "collapsed": true
   },
   "outputs": [],
   "source": []
  },
  {
   "cell_type": "code",
   "execution_count": 27,
   "metadata": {
    "collapsed": false
   },
   "outputs": [
    {
     "data": {
      "text/plain": [
       "EGA: [ 0 16 20 -6.3 0 0 0 0 ]"
      ]
     },
     "execution_count": 27,
     "metadata": {},
     "output_type": "execute_result"
    }
   ],
   "source": [
    "B * R * A * R.rev() + R * A * (B * R).rev()"
   ]
  },
  {
   "cell_type": "code",
   "execution_count": 28,
   "metadata": {
    "collapsed": false
   },
   "outputs": [
    {
     "data": {
      "text/plain": [
       "EGA: [ 0 16 20 -6.3 0 0 0 0 ]"
      ]
     },
     "execution_count": 28,
     "metadata": {},
     "output_type": "execute_result"
    }
   ],
   "source": [
    "B * R * A * R.rev() + R * A * R.rev() * B.rev()"
   ]
  },
  {
   "cell_type": "code",
   "execution_count": 29,
   "metadata": {
    "collapsed": false
   },
   "outputs": [
    {
     "data": {
      "text/plain": [
       "EGA: [ 0 16 20 -6.3 0 0 0 0 ]"
      ]
     },
     "execution_count": 29,
     "metadata": {},
     "output_type": "execute_result"
    }
   ],
   "source": [
    "B * R * A * R.rev() - R * A * R.rev() * B"
   ]
  },
  {
   "cell_type": "code",
   "execution_count": 30,
   "metadata": {
    "collapsed": true
   },
   "outputs": [],
   "source": [
    "B = vsr.CGA(vsr.Dll(1,2,3,4,5,6))\n",
    "M = vsr.CGA(vsr.Vec(1,2,3).trs() * vsr.Biv(pi/6,0,0).exp())\n",
    "A = vsr.CGA(vsr.Vec(1,2,3).null())"
   ]
  },
  {
   "cell_type": "code",
   "execution_count": 31,
   "metadata": {
    "collapsed": false
   },
   "outputs": [
    {
     "data": {
      "text/plain": [
       "CGA: [ 0 0 0 0 0 0 0 0 0 0 0 0 0 0 0 0 -4.9 2 4 6 18 51 1.4e+02 -8 -10 -12 0 0 0 0 0 -3.3e-16 ]"
      ]
     },
     "execution_count": 31,
     "metadata": {},
     "output_type": "execute_result"
    }
   ],
   "source": [
    "B * M * A * M.rev() - M * A * (B * M).rev()"
   ]
  },
  {
   "cell_type": "code",
   "execution_count": 32,
   "metadata": {
    "collapsed": false
   },
   "outputs": [
    {
     "data": {
      "text/plain": [
       "CGA: [ 0 24 26 -34 0 -1.1e+02 0 0 0 0 0 0 0 0 0 0 -1.8e-15 0 0 0 1.8e-15 3.6e-15 0 0 0 0 0 0 0 0 0 1.1e-16 ]"
      ]
     },
     "execution_count": 32,
     "metadata": {},
     "output_type": "execute_result"
    }
   ],
   "source": [
    "B * M * A * M.rev() + M * A * M.rev() * B.rev()"
   ]
  },
  {
   "cell_type": "code",
   "execution_count": 33,
   "metadata": {
    "collapsed": false
   },
   "outputs": [
    {
     "data": {
      "text/plain": [
       "CGA: [ 0 24 26 -34 0 -1.1e+02 0 0 0 0 0 0 0 0 0 0 -1.8e-15 0 0 0 1.8e-15 3.6e-15 0 0 0 0 0 0 0 0 0 1.1e-16 ]"
      ]
     },
     "execution_count": 33,
     "metadata": {},
     "output_type": "execute_result"
    }
   ],
   "source": [
    "B * M * A * M.rev() - M * A * M.rev() * B"
   ]
  },
  {
   "cell_type": "code",
   "execution_count": 34,
   "metadata": {
    "collapsed": false
   },
   "outputs": [
    {
     "data": {
      "text/plain": [
       "CGA: [ 0 24 26 -34 0 -1.1e+02 0 0 0 0 0 0 0 0 0 0 -4.4e-16 0 0 0 7.1e-15 -3.6e-15 0 0 0 0 0 0 0 0 0 0 ]"
      ]
     },
     "execution_count": 34,
     "metadata": {},
     "output_type": "execute_result"
    }
   ],
   "source": [
    "2. * B.comm(A.spin(M))"
   ]
  },
  {
   "cell_type": "code",
   "execution_count": 35,
   "metadata": {
    "collapsed": false
   },
   "outputs": [
    {
     "ename": "TypeError",
     "evalue": "unsupported operand type(s) for /: 'versor_pybind11.Biv' and 'float'",
     "output_type": "error",
     "traceback": [
      "\u001b[0;31m---------------------------------------------------------------------------\u001b[0m",
      "\u001b[0;31mTypeError\u001b[0m                                 Traceback (most recent call last)",
      "\u001b[0;32m<ipython-input-35-a71a702ece4b>\u001b[0m in \u001b[0;36m<module>\u001b[0;34m()\u001b[0m\n\u001b[0;32m----> 1\u001b[0;31m \u001b[0mB\u001b[0m \u001b[0;34m=\u001b[0m \u001b[0mvsr\u001b[0m\u001b[0;34m.\u001b[0m\u001b[0mBiv\u001b[0m\u001b[0;34m(\u001b[0m\u001b[0;34m-\u001b[0m\u001b[0;36m1.0\u001b[0m\u001b[0;34m,\u001b[0m \u001b[0;36m0.0\u001b[0m\u001b[0;34m,\u001b[0m \u001b[0;36m0.0\u001b[0m\u001b[0;34m)\u001b[0m\u001b[0;34m.\u001b[0m\u001b[0munit\u001b[0m\u001b[0;34m(\u001b[0m\u001b[0;34m)\u001b[0m \u001b[0;34m*\u001b[0m \u001b[0mpi\u001b[0m\u001b[0;34m/\u001b[0m\u001b[0;36m6.\u001b[0m\u001b[0;34m\u001b[0m\u001b[0m\n\u001b[0m\u001b[1;32m      2\u001b[0m \u001b[0mR\u001b[0m \u001b[0;34m=\u001b[0m \u001b[0mB\u001b[0m\u001b[0;34m.\u001b[0m\u001b[0mexp\u001b[0m\u001b[0;34m(\u001b[0m\u001b[0;34m)\u001b[0m\u001b[0;34m\u001b[0m\u001b[0m\n\u001b[1;32m      3\u001b[0m \u001b[0mprint\u001b[0m\u001b[0;34m(\u001b[0m\u001b[0mR\u001b[0m\u001b[0;34m)\u001b[0m\u001b[0;34m\u001b[0m\u001b[0m\n",
      "\u001b[0;31mTypeError\u001b[0m: unsupported operand type(s) for /: 'versor_pybind11.Biv' and 'float'"
     ]
    }
   ],
   "source": [
    "B = vsr.Biv(-1.0, 0.0, 0.0).unit() * pi/6.\n",
    "R = B.exp()\n",
    "print(R)"
   ]
  },
  {
   "cell_type": "code",
   "execution_count": null,
   "metadata": {
    "collapsed": false
   },
   "outputs": [],
   "source": [
    "f, J_f = motor_jacobian.diff_rotor_cost(vsr.Rot(1.0,2.0,3.0,4.0), \n",
    "                                        vsr.Vec(0.0,1.0,0.0), \n",
    "                                        vsr.Vec(1.0,1.0,3.0))\n",
    "f = vsr.Vec(*f)\n",
    "print(f)\n",
    "print(J_f)"
   ]
  },
  {
   "cell_type": "code",
   "execution_count": null,
   "metadata": {
    "collapsed": false
   },
   "outputs": [],
   "source": [
    "J_f2 = motor_jacobian.analytic_diff_rotor_cost(vsr.Rot(1.0,2.0,3.0,4.0), \n",
    "                                        vsr.Vec(0.0,1.0,0.0), \n",
    "                                        vsr.Vec(1.0,1.0,3.0))\n",
    "print(J_f2 * -1.)"
   ]
  },
  {
   "cell_type": "code",
   "execution_count": null,
   "metadata": {
    "collapsed": false
   },
   "outputs": [],
   "source": [
    "B = vsr.Biv(1.0, 1.0, 1.0).unit() * pi/6.\n",
    "R = B.exp()\n",
    "a = vsr.Vec(1.0, 1.0, 1.0)\n",
    "b = vsr.Vec(0.0, 1.0, 3)\n",
    "print(R)\n",
    "f, J_f = motor_jacobian.diff_rotor_cost(R, a, b)\n",
    "print(J_f)"
   ]
  },
  {
   "cell_type": "code",
   "execution_count": null,
   "metadata": {
    "collapsed": false
   },
   "outputs": [],
   "source": [
    "J_f3 = 2.* np.array([np.array((vsr.Vec(1,0,0) * a) * R.rev()),\n",
    "                     np.array((vsr.Vec(0,1,0) * a) * R.rev()),\n",
    "                     np.array((vsr.Vec(0,0,1) * a) * R.rev())]).copy()\n",
    "print(J_f3)"
   ]
  },
  {
   "cell_type": "code",
   "execution_count": null,
   "metadata": {
    "collapsed": false
   },
   "outputs": [],
   "source": [
    "a = vsr.Biv(*np.array(  (vsr.Vec(1,0,0) * a) * R.rev())[1:]).duale().unit()"
   ]
  },
  {
   "cell_type": "code",
   "execution_count": null,
   "metadata": {
    "collapsed": false
   },
   "outputs": [],
   "source": [
    "b = vsr.Biv(*np.array(J_f[0,1:])).duale().unit()"
   ]
  },
  {
   "cell_type": "code",
   "execution_count": null,
   "metadata": {
    "collapsed": false
   },
   "outputs": [],
   "source": [
    "a <= b"
   ]
  },
  {
   "cell_type": "code",
   "execution_count": null,
   "metadata": {
    "collapsed": true
   },
   "outputs": [],
   "source": []
  },
  {
   "cell_type": "code",
   "execution_count": null,
   "metadata": {
    "collapsed": false
   },
   "outputs": [],
   "source": [
    "(vsr.Vec(0,1,0) * a)"
   ]
  },
  {
   "cell_type": "code",
   "execution_count": null,
   "metadata": {
    "collapsed": false
   },
   "outputs": [],
   "source": [
    "(vsr.Dll(0,0,1,0,0,0).rev() * vsr.Dll(vsr.Vec(1,2,3).null(), vsr.Vec(1,0,0)))[0]"
   ]
  },
  {
   "cell_type": "code",
   "execution_count": null,
   "metadata": {
    "collapsed": true
   },
   "outputs": [],
   "source": [
    "# p1 = vsr.Vec(1,0,1).null()\n",
    "p2 = vsr.Vec(0,1,1).null()\n",
    "p3 = vsr.Vec(1,1,1).null()\n",
    "p4 = vsr.Vec(0,0,1.5).null()\n",
    "cir = vsr.Cir(p2, p3, p4)\n"
   ]
  },
  {
   "cell_type": "code",
   "execution_count": null,
   "metadata": {
    "collapsed": false
   },
   "outputs": [],
   "source": [
    "(vsr.Vec(1,0,0) * a)"
   ]
  },
  {
   "cell_type": "code",
   "execution_count": null,
   "metadata": {
    "collapsed": false
   },
   "outputs": [],
   "source": [
    "(vsr.Vec(1,0,0) * a) * R.rev() * 2."
   ]
  },
  {
   "cell_type": "code",
   "execution_count": null,
   "metadata": {
    "collapsed": false
   },
   "outputs": [],
   "source": [
    "np.allclose(J_f, J_f3)"
   ]
  },
  {
   "cell_type": "code",
   "execution_count": null,
   "metadata": {
    "collapsed": false
   },
   "outputs": [],
   "source": [
    "J_f - J_f3"
   ]
  },
  {
   "cell_type": "code",
   "execution_count": null,
   "metadata": {
    "collapsed": false
   },
   "outputs": [],
   "source": [
    "J_f3"
   ]
  },
  {
   "cell_type": "code",
   "execution_count": null,
   "metadata": {
    "collapsed": false
   },
   "outputs": [],
   "source": [
    "(vsr.Vec(1,0,0) * a) * vsr.Rot(1.0,2.0,3.0,4.0).rev()"
   ]
  },
  {
   "cell_type": "code",
   "execution_count": null,
   "metadata": {
    "collapsed": false
   },
   "outputs": [],
   "source": [
    "print(R)\n",
    "def J_x(x):\n",
    "    return np.array([[-x[1], -x[2], -x[3]],\n",
    "                     [x[0], -x[3],  x[2]],\n",
    "                     [ x[3],   x[0], -x[1]],\n",
    "                     [-x[2],  x[1],   x[0]]])\n",
    "print(J_x(R))"
   ]
  },
  {
   "cell_type": "code",
   "execution_count": null,
   "metadata": {
    "collapsed": false
   },
   "outputs": [],
   "source": [
    "J_l = motor_jacobian.rotor_local_parameterization(R)\n",
    "print(J_l)"
   ]
  },
  {
   "cell_type": "code",
   "execution_count": null,
   "metadata": {
    "collapsed": false
   },
   "outputs": [],
   "source": [
    "np.array([np.array(vsr.Rot(1,0,0,0) * R),\n",
    "          np.array(vsr.Rot(0.0,1.0,0.0,0.0) * R),\n",
    "          np.array(vsr.Rot(0.0,0.0,1.0,0.0) * R),\n",
    "          np.array(vsr.Rot(0.0,0.0,0.0,1.0) * R)\n",
    "         ])"
   ]
  },
  {
   "cell_type": "code",
   "execution_count": null,
   "metadata": {
    "collapsed": false
   },
   "outputs": [],
   "source": [
    "np.array([np.array(vsr.Rot(0.0,1.0,0.0,0.0) * R),\n",
    "          np.array(vsr.Rot(0.0,0.0,1.0,0.0) * R),\n",
    "          np.array(vsr.Rot(0.0,0.0,0.0,1.0) * R),\n",
    "         ])\n",
    "print(R.log())\n",
    "print(R * vsr.valkenburg2(vsr.Biv(-2,0,0), R.log()*2.))\n",
    "print(R * vsr.valkenburg2(vsr.Biv(0,-2,0), R.log()*2.))\n",
    "print(R * vsr.valkenburg2(vsr.Biv(0,0,-2), R.log()*2.))"
   ]
  },
  {
   "cell_type": "code",
   "execution_count": null,
   "metadata": {
    "collapsed": false
   },
   "outputs": [],
   "source": [
    "(B * B).inv()"
   ]
  },
  {
   "cell_type": "code",
   "execution_count": null,
   "metadata": {
    "collapsed": false
   },
   "outputs": [],
   "source": [
    "vsr.Biv(1,0,0) * R.log()"
   ]
  },
  {
   "cell_type": "code",
   "execution_count": null,
   "metadata": {
    "collapsed": false
   },
   "outputs": [],
   "source": [
    "print(J_f3)\n",
    "print(J_x(R))\n",
    "np.dot(-J_f3.copy(), J_x(R).copy())"
   ]
  },
  {
   "cell_type": "code",
   "execution_count": null,
   "metadata": {
    "collapsed": false
   },
   "outputs": [],
   "source": [
    "np.dot(J_f, J_l)"
   ]
  },
  {
   "cell_type": "code",
   "execution_count": null,
   "metadata": {
    "collapsed": false
   },
   "outputs": [],
   "source": [
    "a = vsr.Vec(1.,2.,3.)\n",
    "print(a)\n",
    "B = vsr.Biv(1.0, 2.0, 3.0).unit() * pi/6.\n",
    "print(B)\n",
    "R = B.exp()\n",
    "print(R)\n",
    "D = vsr.Biv(1.0,0.0,0.0)\n",
    "D * B * B.exp()"
   ]
  },
  {
   "cell_type": "code",
   "execution_count": null,
   "metadata": {
    "collapsed": false
   },
   "outputs": [],
   "source": [
    "np.array([vsr.diff_rotor(R,vsr.Biv(1.0,0.0,0.0),vsr.Vec(1.0,0.0,0.0)),\n",
    "          vsr.diff_rotor(R,vsr.Biv(1.0,0.0,0.0),vsr.Vec(0.0,1.0,0.0)),\n",
    "          vsr.diff_rotor(R,vsr.Biv(1.0,0.0,0.0),vsr.Vec(0.0,0.0,1.0)),\n",
    "          vsr.diff_rotor(R,vsr.Biv(0.0,1.0,0.0),vsr.Vec(1.0,0.0,0.0)),\n",
    "          vsr.diff_rotor(R,vsr.Biv(0.0,1.0,0.0),vsr.Vec(0.0,1.0,0.0)),\n",
    "          vsr.diff_rotor(R,vsr.Biv(0.0,1.0,0.0),vsr.Vec(0.0,0.0,1.0)),\n",
    "          vsr.diff_rotor(R,vsr.Biv(0.0,0.0,1.0),vsr.Vec(1.0,0.0,0.0)),\n",
    "          vsr.diff_rotor(R,vsr.Biv(0.0,0.0,1.0),vsr.Vec(0.0,1.0,0.0)),\n",
    "          vsr.diff_rotor(R,vsr.Biv(0.0,0.0,1.0),vsr.Vec(0.0,0.0,1.0))]).reshape(3,3)"
   ]
  },
  {
   "cell_type": "code",
   "execution_count": null,
   "metadata": {
    "collapsed": false
   },
   "outputs": [],
   "source": [
    "print(R)\n",
    "vsr.Biv(1.0,0.0,0.0) * vsr.Rot(0, 12, 13, 23)"
   ]
  },
  {
   "cell_type": "code",
   "execution_count": null,
   "metadata": {
    "collapsed": false
   },
   "outputs": [],
   "source": [
    "j = np.zeros((4,3))\n",
    "for i in range(3):\n",
    "    biv = vsr.Biv(0.0, 0.0, 0.0)\n",
    "    biv[i] = 1.0 \n",
    "    j[:,i] = biv * vsr.Rot(1, 12, 13, 23)\n",
    "print(j)"
   ]
  },
  {
   "cell_type": "code",
   "execution_count": null,
   "metadata": {
    "collapsed": false
   },
   "outputs": [],
   "source": [
    "vsr.Biv(1,0,0) * R"
   ]
  },
  {
   "cell_type": "code",
   "execution_count": null,
   "metadata": {
    "collapsed": false
   },
   "outputs": [],
   "source": [
    "R.log().exp()"
   ]
  },
  {
   "cell_type": "code",
   "execution_count": null,
   "metadata": {
    "collapsed": false
   },
   "outputs": [],
   "source": [
    "vsr.Rot(1,0,0,0)* R.log() * R * 2."
   ]
  },
  {
   "cell_type": "code",
   "execution_count": null,
   "metadata": {
    "collapsed": false
   },
   "outputs": [],
   "source": [
    " def jacrot(a, rot):\n",
    "    j = np.zeros((3,3))\n",
    "    for i in range(3):\n",
    "        biv = vsr.Biv(0.0, 0.0, 0.0)\n",
    "        biv[i] = 1.0\n",
    "        j[:,i] = -np.array(biv.comm(a.spin(rot)))\n",
    "    return j"
   ]
  },
  {
   "cell_type": "code",
   "execution_count": null,
   "metadata": {
    "collapsed": false
   },
   "outputs": [],
   "source": [
    "B = vsr.Biv(1.0, 0.0, 0.0).unit() * pi/6.\n",
    "R = B.exp()\n",
    "print(R)\n",
    "a = vsr.Vec(0.0, 1.0, 0.0)\n",
    "b = vsr.Vec(1.0, 1.0, 1.0)"
   ]
  },
  {
   "cell_type": "code",
   "execution_count": null,
   "metadata": {
    "collapsed": false
   },
   "outputs": [],
   "source": [
    "jacrot(a, R)"
   ]
  },
  {
   "cell_type": "markdown",
   "metadata": {},
   "source": [
    "# Compute Jacobian"
   ]
  },
  {
   "cell_type": "code",
   "execution_count": null,
   "metadata": {
    "collapsed": false
   },
   "outputs": [],
   "source": [
    "mot = vsr.Vec(1,1,1).trs() * vsr.Rot(vsr.Biv(0,1,0) * np.pi/6.0)\n",
    "print(mot.log())"
   ]
  },
  {
   "cell_type": "code",
   "execution_count": null,
   "metadata": {
    "collapsed": false
   },
   "outputs": [],
   "source": [
    "p = vsr.Vec(0,0,0).null()\n",
    "p.comm(vsr.Lin(vsr.Vec(0,1,0).null(), vsr.Vec(-1,0,0)).dual())"
   ]
  },
  {
   "cell_type": "code",
   "execution_count": null,
   "metadata": {
    "collapsed": true
   },
   "outputs": [],
   "source": [
    "mot = vsr.Mot(1.0, 2.0, 3.0, 4.0, 5.0, 6.0, 7.0, 8.0)"
   ]
  },
  {
   "cell_type": "code",
   "execution_count": null,
   "metadata": {
    "collapsed": false
   },
   "outputs": [],
   "source": [
    "dll = vsr.Dll(1.0, 0.0, 0.0, 0.0, 0.0, 0.0)\n",
    "mot0 = vsr.Mot(1.0, 0.0, 0.0, 0.0, 0.0, 0.0, 0.0, 0.0)"
   ]
  },
  {
   "cell_type": "code",
   "execution_count": null,
   "metadata": {
    "collapsed": false
   },
   "outputs": [],
   "source": [
    "mot.comm(dll)"
   ]
  },
  {
   "cell_type": "code",
   "execution_count": null,
   "metadata": {
    "collapsed": false
   },
   "outputs": [],
   "source": [
    "mot.acomm(dll)"
   ]
  },
  {
   "cell_type": "code",
   "execution_count": null,
   "metadata": {
    "collapsed": false
   },
   "outputs": [],
   "source": [
    "mot.acomm(mot0)"
   ]
  },
  {
   "cell_type": "code",
   "execution_count": null,
   "metadata": {
    "collapsed": false
   },
   "outputs": [],
   "source": [
    "mot.acomm(dll) - mot.comm(dll) "
   ]
  },
  {
   "cell_type": "code",
   "execution_count": null,
   "metadata": {
    "collapsed": true
   },
   "outputs": [],
   "source": [
    "mot = vsr.Mot(1.0, -2.0, -3.0, -4.0, 5.0, 6.0, 7.0, 8.0)"
   ]
  },
  {
   "cell_type": "code",
   "execution_count": null,
   "metadata": {
    "collapsed": false,
    "scrolled": true
   },
   "outputs": [],
   "source": [
    "j = np.zeros((8,6))\n",
    "idxs = np.array([-1,-1,-1,1,1,1])\n",
    "for i in range(6):\n",
    "    dll = vsr.Dll(0.0, 0.0, 0.0, 0.0, 0.0, 0.0)\n",
    "    dll[i] = idxs[i]\n",
    "#     j[:,i] = np.array(mot.acomm(dll)) - np.array(mot.comm(dll)) \n",
    "    j[:,i] = dll * mot \n",
    "print(j)"
   ]
  },
  {
   "cell_type": "code",
   "execution_count": null,
   "metadata": {
    "collapsed": false
   },
   "outputs": [],
   "source": [
    "a = vsr.Dll(0.0, 0.0, 1.0, 0.0, 0.0, 0.0)\n",
    "b = mot.log()\n",
    "print(a)\n",
    "print(b)\n",
    "mot * vsr.valkenburg(a, mot.log())"
   ]
  },
  {
   "cell_type": "code",
   "execution_count": null,
   "metadata": {
    "collapsed": false
   },
   "outputs": [],
   "source": [
    "b * a"
   ]
  },
  {
   "cell_type": "code",
   "execution_count": null,
   "metadata": {
    "collapsed": false
   },
   "outputs": [],
   "source": [
    "a + mot * "
   ]
  },
  {
   "cell_type": "code",
   "execution_count": null,
   "metadata": {
    "collapsed": false
   },
   "outputs": [],
   "source": [
    "np.array(b * a)"
   ]
  },
  {
   "cell_type": "code",
   "execution_count": null,
   "metadata": {
    "collapsed": false
   },
   "outputs": [],
   "source": [
    "vsr.Dll(*np.array(b * a)[1:7])"
   ]
  },
  {
   "cell_type": "code",
   "execution_count": null,
   "metadata": {
    "collapsed": false
   },
   "outputs": [],
   "source": [
    "vsr.Mot(0.0, 1.0, 0.0, 0.0, 0.0, 0.0, 0.0, 0.0) + ((-b * 2.)\n",
    "                                                   + vsr.Mot(1.0, 0.0, 0.0, 0.0, 0.0, 0.0, 0.0, 0.0)\n",
    "                                                   + (b.exp() * -1.) * (b_inv * b_inv)) * vsr.Dll(*np.array(b * a)[1:7])"
   ]
  },
  {
   "cell_type": "code",
   "execution_count": null,
   "metadata": {
    "collapsed": false
   },
   "outputs": [],
   "source": [
    "j = np.zeros((8,6))\n",
    "for i in range(6):\n",
    "    dll = vsr.Dll(0.0, 0.0, 0.0, 0.0, 0.0, 0.0)\n",
    "    dll[i] = 1.0\n",
    "#     print(dll)\n",
    "    j[:,i] = np.array(dll.comm(mot)) + np.array(dll.acomm(mot)) \n",
    "print(j)"
   ]
  },
  {
   "cell_type": "code",
   "execution_count": null,
   "metadata": {
    "collapsed": false
   },
   "outputs": [],
   "source": [
    "dll = vsr.Dll(1.0, 0.0, 0.0, 0.0, 0.0, 0.0)\n",
    "dll * mot"
   ]
  },
  {
   "cell_type": "code",
   "execution_count": null,
   "metadata": {
    "collapsed": false
   },
   "outputs": [],
   "source": [
    "dll = vsr.Dll(0.0, 0.0, 0.0, 0.0, 0.0, 0.0)\n",
    "jac_exp = motor_jacobian.jacobian_exp(mot, dll)\n",
    "print(jac_exp)\n",
    "print(jac_exp.shape)"
   ]
  },
  {
   "cell_type": "code",
   "execution_count": null,
   "metadata": {
    "collapsed": false
   },
   "outputs": [],
   "source": [
    "np.allclose(j, jac_exp)"
   ]
  },
  {
   "cell_type": "code",
   "execution_count": null,
   "metadata": {
    "collapsed": false
   },
   "outputs": [],
   "source": [
    "\n",
    "jac_polar = motor_jacobian.jacobian_polar(mot0, mot0)\n",
    "print(jac_polar)\n",
    "print(jac_polar.shape)"
   ]
  },
  {
   "cell_type": "code",
   "execution_count": null,
   "metadata": {
    "collapsed": false
   },
   "outputs": [],
   "source": [
    "dll.exp()"
   ]
  },
  {
   "cell_type": "code",
   "execution_count": null,
   "metadata": {
    "collapsed": false
   },
   "outputs": [],
   "source": [
    "mot = vsr.Lin(vsr.Vec(0,1,0).null(), vsr.Vec(-1,0,0)).dual().exp()\n",
    "print(mot)\n",
    "p = vsr.Vec(0,0,0).null()"
   ]
  },
  {
   "cell_type": "code",
   "execution_count": null,
   "metadata": {
    "collapsed": false
   },
   "outputs": [],
   "source": [
    "print(motor_jacobian.diff_point(mot,p))"
   ]
  },
  {
   "cell_type": "code",
   "execution_count": null,
   "metadata": {
    "collapsed": false
   },
   "outputs": [],
   "source": [
    "p = vsr.Vec(0,0,0).null()\n",
    "p.comm(vsr.Lin(vsr.Vec(0,1,0).null(), vsr.Vec(-1,0,0)).dual())"
   ]
  },
  {
   "cell_type": "code",
   "execution_count": null,
   "metadata": {
    "collapsed": false
   },
   "outputs": [],
   "source": [
    "p.comm(mot)"
   ]
  },
  {
   "cell_type": "code",
   "execution_count": null,
   "metadata": {
    "collapsed": false
   },
   "outputs": [],
   "source": [
    "p.acomm(mot)"
   ]
  },
  {
   "cell_type": "code",
   "execution_count": null,
   "metadata": {
    "collapsed": false
   },
   "outputs": [],
   "source": [
    "a = vsr.Vec(1,0,0).null()\n",
    "b = a.spin(vsr.Rot(vsr.Biv(1,0,0) * pi/4))\n",
    "print(a)\n",
    "print(b)\n",
    "m = vsr.Vec(1,2,3).trs() * vsr.Rot(vsr.Biv(1,2,3).unit() * pi/6)\n",
    "print(m)\n",
    "c = a.spin(m)\n",
    "print(c)\n",
    "points_a = [a]\n",
    "points_b = [b]"
   ]
  },
  {
   "cell_type": "code",
   "execution_count": null,
   "metadata": {
    "collapsed": false
   },
   "outputs": [],
   "source": [
    "c.vec() - b.vec()"
   ]
  },
  {
   "cell_type": "code",
   "execution_count": null,
   "metadata": {
    "collapsed": false
   },
   "outputs": [],
   "source": [
    "# m = vsr.Mot(1,0,0,0,0,0,0,0)\n",
    "dll = vsr.Dll(0.0, 0.0, 0.0, 0.0, 0.0, 0.0)\n",
    "m = vsr.Dll(*np.random.rand(6)).exp()\n",
    "jac_exp = motor_jacobian.jacobian_exp(m, dll)\n",
    "print(jac_exp)\n",
    "print(a)\n",
    "print(b)\n",
    "print(m)\n",
    "jac_s = motor_jacobian.diff_cost(m, a, b)\n",
    "print(jac_s)\n",
    "np.dot(jac_s, jac_exp)"
   ]
  },
  {
   "cell_type": "code",
   "execution_count": null,
   "metadata": {
    "collapsed": false
   },
   "outputs": [],
   "source": [
    "vsr.Dll(0,0,1,0,0,0).comm(a.spin(m))"
   ]
  },
  {
   "cell_type": "code",
   "execution_count": null,
   "metadata": {
    "collapsed": false
   },
   "outputs": [],
   "source": [
    "def jac2(arg):\n",
    "    j = np.zeros((5,6))\n",
    "    for i in range(6):\n",
    "        dll = vsr.Dll(0.0, 0.0, 0.0, 0.0, 0.0, 0.0)\n",
    "        dll[i] = 1.0\n",
    "        j[:,i] = 2. * np.array(dll.comm(a.spin(arg)))\n",
    "    return j"
   ]
  },
  {
   "cell_type": "code",
   "execution_count": null,
   "metadata": {
    "collapsed": false
   },
   "outputs": [],
   "source": [
    "J = jac2(m)\n",
    "tmp = J[:,0].copy()\n",
    "# J[:,0] = J[:,2]\n",
    "# J[:,2] = tmp\n",
    "# J[:,1] *= -1.\n",
    "print(J)"
   ]
  },
  {
   "cell_type": "code",
   "execution_count": null,
   "metadata": {
    "collapsed": false
   },
   "outputs": [],
   "source": [
    "np.array(a.spin(m)) * 2."
   ]
  },
  {
   "cell_type": "code",
   "execution_count": null,
   "metadata": {
    "collapsed": true
   },
   "outputs": [],
   "source": [
    "def skew(v):\n",
    "    if len(v) == 4: v = v[:3]/v[3]\n",
    "    skv = roll(roll(diag(v.flatten()), 1, 1), -1, 0)\n",
    "    return skv - skv.T"
   ]
  },
  {
   "cell_type": "code",
   "execution_count": null,
   "metadata": {
    "collapsed": false
   },
   "outputs": [],
   "source": [
    "skew(np.array(a.spin(m).vec()) * 2.)"
   ]
  },
  {
   "cell_type": "code",
   "execution_count": null,
   "metadata": {
    "collapsed": false
   },
   "outputs": [],
   "source": [
    "dll = vsr.Dll(0,0,0,0,0,1)\n",
    "a.spin(m).comm(dll)"
   ]
  },
  {
   "cell_type": "code",
   "execution_count": null,
   "metadata": {
    "collapsed": true
   },
   "outputs": [],
   "source": [
    "import scipy.sparse as sparse"
   ]
  },
  {
   "cell_type": "code",
   "execution_count": null,
   "metadata": {
    "collapsed": false
   },
   "outputs": [],
   "source": [
    "spjacs = [np.loadtxt('/Users/lars/devel/game/dump/ceres_solver_iteration_00{}_A.txt'.format(i)) for i in range(4)]"
   ]
  },
  {
   "cell_type": "code",
   "execution_count": null,
   "metadata": {
    "collapsed": false
   },
   "outputs": [],
   "source": [
    "D = np.loadtxt('/Users/lars/devel/game/dump/ceres_solver_iteration_000_D.txt')\n",
    "D"
   ]
  },
  {
   "cell_type": "code",
   "execution_count": null,
   "metadata": {
    "collapsed": false
   },
   "outputs": [],
   "source": [
    "-2. / 0.008635"
   ]
  },
  {
   "cell_type": "code",
   "execution_count": null,
   "metadata": {
    "collapsed": false
   },
   "outputs": [],
   "source": [
    "0.27 / 2."
   ]
  },
  {
   "cell_type": "code",
   "execution_count": null,
   "metadata": {
    "collapsed": false
   },
   "outputs": [],
   "source": [
    "np.loadtxt('/Users/lars/devel/game/dump/ceres_solver_iteration_000_b.txt')"
   ]
  },
  {
   "cell_type": "code",
   "execution_count": null,
   "metadata": {
    "collapsed": false
   },
   "outputs": [],
   "source": [
    "[np.loadtxt('/Users/lars/devel/game/dump/ceres_solver_iteration_00{}_x.txt'.format(i)) for i in range(4)]"
   ]
  },
  {
   "cell_type": "code",
   "execution_count": null,
   "metadata": {
    "collapsed": false
   },
   "outputs": [],
   "source": [
    "j = 3\n",
    "x, y, d = spjacs[j][:,0],  spjacs[j][:,1],  spjacs[j][:,2]\n",
    "npsparse = sparse.csc_matrix((d,(x,y)))\n",
    "J = npsparse.todense()\n",
    "JTJ = np.dot(J.T, J)\n",
    "print(JTJ)\n",
    "D2 = np.diag(JTJ)\n",
    "print(D2)"
   ]
  },
  {
   "cell_type": "code",
   "execution_count": null,
   "metadata": {
    "collapsed": false
   },
   "outputs": [],
   "source": [
    "D"
   ]
  },
  {
   "cell_type": "code",
   "execution_count": null,
   "metadata": {
    "collapsed": false
   },
   "outputs": [],
   "source": [
    "D / D2"
   ]
  },
  {
   "cell_type": "code",
   "execution_count": null,
   "metadata": {
    "collapsed": true
   },
   "outputs": [],
   "source": []
  },
  {
   "cell_type": "code",
   "execution_count": null,
   "metadata": {
    "collapsed": false
   },
   "outputs": [],
   "source": [
    "np.array(c.vec() - b.vec())"
   ]
  },
  {
   "cell_type": "code",
   "execution_count": null,
   "metadata": {
    "collapsed": true
   },
   "outputs": [],
   "source": [
    "import scipy.optimize as opt"
   ]
  },
  {
   "cell_type": "code",
   "execution_count": null,
   "metadata": {
    "collapsed": false
   },
   "outputs": [],
   "source": [
    "motor = vsr.Vec(1,2,3).trs() * vsr.Rot(vsr.Biv(1,2,3).unit() * np.pi/6.0)\n",
    "print(motor)"
   ]
  },
  {
   "cell_type": "code",
   "execution_count": null,
   "metadata": {
    "collapsed": false
   },
   "outputs": [],
   "source": [
    "n_points = 10\n",
    "sigma = 0.09\n",
    "points_a = [vsr.Vec(*np.random.normal(0.0, 0.9, 3)).null() \n",
    "            for i in range(n_points)]\n",
    "points_b = [point.spin(motor) for point in points_a]\n",
    "points_b_noisy = [vsr.Vec(*(np.array(point)[:3] \n",
    "                            + sigma * np.random.randn(3))).null() \n",
    "                  for point in points_b]"
   ]
  },
  {
   "cell_type": "code",
   "execution_count": null,
   "metadata": {
    "collapsed": true
   },
   "outputs": [],
   "source": [
    "def func(arr):\n",
    "    return np.array([np.array(a.spin(vsr.Dll(*arr).exp()).vec() - b.vec()) \n",
    "                     for a, b in zip(points_a, points_b)]).ravel()"
   ]
  },
  {
   "cell_type": "code",
   "execution_count": null,
   "metadata": {
    "collapsed": false
   },
   "outputs": [],
   "source": [
    "init_dll = np.array([0,0,0,0,0,0]).reshape(6,1)\n",
    "current_mot = np.array([1,0,0,0,0,0,0,0]).reshape(8,1)"
   ]
  },
  {
   "cell_type": "code",
   "execution_count": null,
   "metadata": {
    "collapsed": false
   },
   "outputs": [],
   "source": []
  },
  {
   "cell_type": "code",
   "execution_count": null,
   "metadata": {
    "collapsed": true
   },
   "outputs": [],
   "source": [
    "its = 0"
   ]
  },
  {
   "cell_type": "code",
   "execution_count": null,
   "metadata": {
    "collapsed": false
   },
   "outputs": [],
   "source": [
    "def jac(arg):\n",
    "    global its\n",
    "    global current_mot\n",
    "    current_mot = np.array(vsr.Dll(*arg).exp() * vsr.Mot(*current_mot))\n",
    "    dll = vsr.Dll(0.0, 0.0, 0.0, 0.0, 0.0, 0.0)\n",
    "    \n",
    "    jac_exp = motor_jacobian.jacobian_exp(vsr.Mot(*current_mot), dll)\n",
    "#     print(jac_exp)\n",
    "\n",
    "    js_ = np.array([motor_jacobian.diff_cost(vsr.Mot(*current_mot), a, b)\n",
    "                   for a, b in zip(points_a, points_b)])\n",
    "    \n",
    "#     print(js_)\n",
    "    \n",
    "    js = np.array([np.dot(motor_jacobian.diff_cost(vsr.Mot(*current_mot), a, b), jac_exp)\n",
    "                   for a, b in zip(points_a, points_b)])\n",
    "    \n",
    "#     print(js)\n",
    "    \n",
    "    js = js.reshape(-1,6)\n",
    "    return js"
   ]
  },
  {
   "cell_type": "code",
   "execution_count": null,
   "metadata": {
    "collapsed": false
   },
   "outputs": [],
   "source": [
    "def __jac(m,a,b):  \n",
    "    j = np.zeros((3,6))\n",
    "    for i in range(6):\n",
    "        dll = vsr.Dll(0.0, 0.0, 0.0, 0.0, 0.0, 0.0)\n",
    "        dll[i] = 1.0\n",
    "        j[:,i] = 2. * np.array(dll.comm(a.spin(vsr.Mot(*m))).vec()).copy()\n",
    "    return j\n",
    "\n",
    "def jac3(arg):\n",
    "    global current_mot\n",
    "    current_mot = np.array(vsr.Dll(*arg).exp() * vsr.Mot(*current_mot)).copy()\n",
    "    \n",
    "    js_ = np.array([__jac(current_mot,a,b) for a, b in zip(points_a, points_b)]).reshape(-1,6)\n",
    "    \n",
    "    return js_"
   ]
  },
  {
   "cell_type": "code",
   "execution_count": null,
   "metadata": {
    "collapsed": false
   },
   "outputs": [],
   "source": [
    "# dll_ = np.random.rand(6)\n",
    "# print(jac3(dll_))"
   ]
  },
  {
   "cell_type": "code",
   "execution_count": null,
   "metadata": {
    "collapsed": false
   },
   "outputs": [],
   "source": [
    "# print(jac3(dll_))"
   ]
  },
  {
   "cell_type": "code",
   "execution_count": null,
   "metadata": {
    "collapsed": false
   },
   "outputs": [],
   "source": [
    "# print(func(init_dll))\n",
    "# jac(init_dll)"
   ]
  },
  {
   "cell_type": "code",
   "execution_count": null,
   "metadata": {
    "collapsed": false
   },
   "outputs": [],
   "source": [
    "# dll = vsr.Dll(0.0, 0.0, 0.0, 0.0, 0.0, 0.0)\n",
    "# dll[1] = 1.0\n",
    "# 2. * np.array(dll.comm(a.spin(m)).vec())"
   ]
  },
  {
   "cell_type": "code",
   "execution_count": null,
   "metadata": {
    "collapsed": false
   },
   "outputs": [],
   "source": [
    "out = opt.leastsq(func, init_dll, Dfun=jac3, full_output=False)\n",
    "print(out)"
   ]
  },
  {
   "cell_type": "code",
   "execution_count": null,
   "metadata": {
    "collapsed": false
   },
   "outputs": [],
   "source": [
    "estimated_motor = vsr.Dll(*out[0]).exp()\n",
    "print(estimated_motor)"
   ]
  },
  {
   "cell_type": "code",
   "execution_count": null,
   "metadata": {
    "collapsed": false
   },
   "outputs": [],
   "source": [
    "print(motor)"
   ]
  },
  {
   "cell_type": "code",
   "execution_count": null,
   "metadata": {
    "collapsed": false
   },
   "outputs": [],
   "source": [
    "# jac(init_dll)"
   ]
  },
  {
   "cell_type": "code",
   "execution_count": null,
   "metadata": {
    "collapsed": true
   },
   "outputs": [],
   "source": []
  }
 ],
 "metadata": {
  "anaconda-cloud": {},
  "kernelspec": {
   "display_name": "Python [default]",
   "language": "python",
   "name": "python3"
  },
  "language_info": {
   "codemirror_mode": {
    "name": "ipython",
    "version": 3
   },
   "file_extension": ".py",
   "mimetype": "text/x-python",
   "name": "python",
   "nbconvert_exporter": "python",
   "pygments_lexer": "ipython3",
   "version": "3.5.2"
  }
 },
 "nbformat": 4,
 "nbformat_minor": 0
}
