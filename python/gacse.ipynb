{
 "cells": [
  {
   "cell_type": "markdown",
   "metadata": {
    "slideshow": {
     "slide_type": "-"
    }
   },
   "source": [
    "# GACSE Workshop"
   ]
  },
  {
   "cell_type": "code",
   "execution_count": 1,
   "metadata": {
    "collapsed": true
   },
   "outputs": [],
   "source": [
    "from __future__ import print_function"
   ]
  },
  {
   "cell_type": "code",
   "execution_count": 2,
   "metadata": {
    "collapsed": false
   },
   "outputs": [],
   "source": [
    "import sys\n",
    "sys.path.append('../build/')"
   ]
  },
  {
   "cell_type": "code",
   "execution_count": 3,
   "metadata": {
    "collapsed": false
   },
   "outputs": [
    {
     "name": "stdout",
     "output_type": "stream",
     "text": [
      "Populating the interactive namespace from numpy and matplotlib\n"
     ]
    }
   ],
   "source": [
    "%pylab inline\n",
    "np.set_printoptions(precision=4, suppress=True)"
   ]
  },
  {
   "cell_type": "code",
   "execution_count": 4,
   "metadata": {
    "collapsed": false
   },
   "outputs": [],
   "source": [
    "import versor as vsr"
   ]
  },
  {
   "cell_type": "code",
   "execution_count": 5,
   "metadata": {
    "collapsed": false
   },
   "outputs": [],
   "source": [
    "from motor_estimation import MotorEstimationSolver"
   ]
  },
  {
   "cell_type": "code",
   "execution_count": 6,
   "metadata": {
    "collapsed": true
   },
   "outputs": [],
   "source": [
    "fig_width_pt =  332.89726               # Get this from LaTeX using \\showthe\\columnwidth\n",
    "inches_per_pt = 1.0/72.27               # Convert pt to inches\n",
    "golden_mean = (sqrt(5.0)-1.0)/2.0       # Aesthetic ratio\n",
    "fig_width = fig_width_pt*inches_per_pt  # width in inches\n",
    "fig_height = fig_width*golden_mean      # height in inches\n",
    "fig_size = [fig_width,fig_height]\n",
    "params = {\n",
    "    'axes.labelsize': 9,\n",
    "    'font.size': 9,\n",
    "    \"font.family\": \"serif\",\n",
    "    \"font.serif\": [],\n",
    "    'legend.fontsize': 9,\n",
    "    'xtick.labelsize': 8,\n",
    "    'ytick.labelsize': 8,\n",
    "    'text.usetex': True,\n",
    "    'text.latex.preamble':[r'\\usepackage{amsmath}', r'\\usepackage{bm}'],\n",
    "    'figure.figsize': fig_size,\n",
    "    'axes.linewidth': 0.5\n",
    "}\n",
    "matplotlib.rcParams.update(params)"
   ]
  },
  {
   "cell_type": "markdown",
   "metadata": {},
   "source": [
    "## Ground truth motor"
   ]
  },
  {
   "cell_type": "code",
   "execution_count": 8,
   "metadata": {
    "collapsed": false
   },
   "outputs": [
    {
     "name": "stdout",
     "output_type": "stream",
     "text": [
      "Mot: [ 0.87 0 -0.5 0 -0.68 -0.43 -0.18 -0.25 ]\n"
     ]
    }
   ],
   "source": [
    "motor = vsr.Vec(1,1,1).trs() * vsr.Rot(vsr.Biv(0,1,0) * np.pi/6.0)\n",
    "print(motor)"
   ]
  },
  {
   "cell_type": "markdown",
   "metadata": {},
   "source": [
    "## Motor Estimation from Points"
   ]
  },
  {
   "cell_type": "markdown",
   "metadata": {},
   "source": [
    "### Dataset generation"
   ]
  },
  {
   "cell_type": "code",
   "execution_count": 9,
   "metadata": {
    "collapsed": false
   },
   "outputs": [],
   "source": [
    "n_points = 10\n",
    "sigma = 0.09\n",
    "points_a = [vsr.Vec(*np.random.normal(0.0, 0.8, 3)).null() \n",
    "            for i in range(n_points)]\n",
    "points_b = [point.spin(motor) for point in points_a]\n",
    "points_b_noisy = [vsr.Vec(*(np.array(point)[:3] \n",
    "                            + sigma * np.random.randn(3))).null() \n",
    "                  for point in points_b]"
   ]
  },
  {
   "cell_type": "markdown",
   "metadata": {},
   "source": [
    "### Estimate motor"
   ]
  },
  {
   "cell_type": "code",
   "execution_count": 11,
   "metadata": {
    "collapsed": false
   },
   "outputs": [
    {
     "name": "stdout",
     "output_type": "stream",
     "text": [
      "\n",
      "Solver Summary (v 1.11.0-eigen-(3.2.92)-lapack-suitesparse-(4.4.6)-openmp)\n",
      "\n",
      "                                     Original                  Reduced\n",
      "Parameter blocks                            1                        1\n",
      "Parameters                                  8                        8\n",
      "Effective parameters                        6                        6\n",
      "Residual blocks                            10                       10\n",
      "Residual                                   30                       30\n",
      "\n",
      "Minimizer                        TRUST_REGION\n",
      "\n",
      "Dense linear algebra library            EIGEN\n",
      "Trust region strategy     LEVENBERG_MARQUARDT\n",
      "\n",
      "                                        Given                     Used\n",
      "Linear solver                        DENSE_QR                 DENSE_QR\n",
      "Threads                                     1                        1\n",
      "Linear solver threads                       1                        1\n",
      "\n",
      "Cost:\n",
      "Initial                          1.874806e+01\n",
      "Final                            4.775016e-19\n",
      "Change                           1.874806e+01\n",
      "\n",
      "Minimizer iterations                        4\n",
      "Successful steps                            4\n",
      "Unsuccessful steps                          0\n",
      "\n",
      "Time (in seconds):\n",
      "Preprocessor                           0.0000\n",
      "\n",
      "  Residual evaluation                  0.0001\n",
      "  Jacobian evaluation                  0.0003\n",
      "  Linear solver                        0.0001\n",
      "Minimizer                              0.0007\n",
      "\n",
      "Postprocessor                          0.0000\n",
      "Total                                  0.0008\n",
      "\n",
      "Termination:                      CONVERGENCE (Parameter tolerance reached. Relative step_norm: 1.820926e-10 <= 1.000000e-08.)\n",
      "\n"
     ]
    }
   ],
   "source": [
    "initial_motor = vsr.Mot(1.0, 0.0, 0.0, 0.0, 0.0, 0.0, 0.0, 0.0)\n",
    "mes = MotorEstimationSolver(initial_motor)\n",
    "for a, b in zip(points_a, points_b):\n",
    "    mes.add_point_correspondences_residual_block(a,b)\n",
    "mes.set_parameterization('BIVECTOR_GENERATOR')\n",
    "mes.linear_solver_type = 'DENSE_QR'\n",
    "(estimated_motor, summary, motors) = mes.solve()\n",
    "print(summary['full_report'])"
   ]
  },
  {
   "cell_type": "markdown",
   "metadata": {
    "collapsed": false
   },
   "source": [
    "#### Check solution"
   ]
  },
  {
   "cell_type": "code",
   "execution_count": 10,
   "metadata": {
    "collapsed": false,
    "scrolled": true
   },
   "outputs": [
    {
     "name": "stdout",
     "output_type": "stream",
     "text": [
      "[ 0.866  0.    -0.5    0.    -0.683 -0.433 -0.183 -0.25 ]\n",
      "[ 0.866 -0.    -0.5    0.    -0.683 -0.433 -0.183 -0.25 ]\n",
      "True\n"
     ]
    }
   ],
   "source": [
    "print(np.array(motor))\n",
    "print(np.array(estimated_motor))\n",
    "print(np.allclose(np.array(motor), np.array(estimated_motor)))"
   ]
  },
  {
   "cell_type": "code",
   "execution_count": 11,
   "metadata": {
    "collapsed": false
   },
   "outputs": [
    {
     "name": "stdout",
     "output_type": "stream",
     "text": [
      "[True, True, True, True, True, True, True, True]\n"
     ]
    },
    {
     "data": {
      "text/plain": [
       "[2.9472757567816643e-11,\n",
       " 1.7898130946855794e-10,\n",
       " 5.1048554272625779e-11,\n",
       " 1.6821200562398775e-13,\n",
       " 1.5138990061558388e-10,\n",
       " 1.5928436347678598e-10,\n",
       " 6.5177419017459215e-11,\n",
       " 9.5621011109159326e-11]"
      ]
     },
     "execution_count": 11,
     "metadata": {},
     "output_type": "execute_result"
    }
   ],
   "source": [
    "rtol = 1e-1\n",
    "atol = 1e-9\n",
    "print([np.abs(a - b) <= atol + rtol * np.abs(b) for a, b in zip(np.array(motor), np.array(estimated_motor))])\n",
    "[np.abs(a - b) for a, b in zip(np.array(motor), np.array(estimated_motor))]"
   ]
  },
  {
   "cell_type": "markdown",
   "metadata": {},
   "source": [
    "## Motor Estimation from Lines"
   ]
  },
  {
   "cell_type": "markdown",
   "metadata": {},
   "source": [
    "### Dataset generation"
   ]
  },
  {
   "cell_type": "code",
   "execution_count": 12,
   "metadata": {
    "collapsed": false
   },
   "outputs": [],
   "source": [
    "lines_a = [vsr.Dll(vsr.Vec(*np.random.normal(0.0,0.8,3)),\n",
    "                   vsr.Vec(*np.random.normal(0.0,0.8,3)))\n",
    "          for i in range(10)]\n",
    "lines_b = [line.spin(motor) for line in lines_a]"
   ]
  },
  {
   "cell_type": "markdown",
   "metadata": {
    "collapsed": false
   },
   "source": [
    "### Estimate motor using 6 residuals"
   ]
  },
  {
   "cell_type": "markdown",
   "metadata": {},
   "source": [
    "$$ \\arg \\min_M \\frac{1}{2} \\sum_{i=1}^n \\left| M \\varLambda_{b_i} \\tilde{M} - \\varLambda_{a_i}  \\right| $$"
   ]
  },
  {
   "cell_type": "code",
   "execution_count": 13,
   "metadata": {
    "collapsed": false
   },
   "outputs": [
    {
     "name": "stdout",
     "output_type": "stream",
     "text": [
      "Ceres Solver Report: Iterations: 6, Initial cost: 3.649315e+01, Final cost: 1.073785e-23, Termination: CONVERGENCE\n"
     ]
    }
   ],
   "source": [
    "initial_motor = vsr.Mot(1.0, 0.0, 0.0, 0.0, 0.0, 0.0, 0.0, 0.0)\n",
    "mes = MotorEstimationSolver(initial_motor)\n",
    "for a, b in zip(lines_a, lines_b):\n",
    "    mes.add_line_correspondences_residual_block(a,b)\n",
    "mes.set_parameterization('BIVECTOR_GENERATOR')\n",
    "mes.linear_solver_type = \"DENSE_QR\"\n",
    "estimated_motor, lin_summary_1 = mes.solve()\n",
    "print(lin_summary_1['brief_report'])"
   ]
  },
  {
   "cell_type": "markdown",
   "metadata": {
    "collapsed": false
   },
   "source": [
    "#### Check solution"
   ]
  },
  {
   "cell_type": "code",
   "execution_count": 14,
   "metadata": {
    "collapsed": false
   },
   "outputs": [
    {
     "name": "stdout",
     "output_type": "stream",
     "text": [
      "[ 0.866  0.    -0.5    0.    -0.683 -0.433 -0.183 -0.25 ]\n",
      "[ 0.866  0.    -0.5   -0.    -0.683 -0.433 -0.183 -0.25 ]\n",
      "True\n"
     ]
    }
   ],
   "source": [
    "print(np.array(motor))\n",
    "print(np.array(estimated_motor))\n",
    "print(np.allclose(np.array(motor), np.array(estimated_motor)))"
   ]
  },
  {
   "cell_type": "markdown",
   "metadata": {},
   "source": [
    "### Estimate motor using 4 residuals"
   ]
  },
  {
   "cell_type": "code",
   "execution_count": 15,
   "metadata": {
    "collapsed": false
   },
   "outputs": [
    {
     "name": "stdout",
     "output_type": "stream",
     "text": [
      "\n",
      "Solver Summary (v 1.12.0-eigen-(3.2.92)-lapack-suitesparse-(4.4.6)-openmp)\n",
      "\n",
      "                                     Original                  Reduced\n",
      "Parameter blocks                            1                        1\n",
      "Parameters                                  8                        8\n",
      "Effective parameters                        6                        6\n",
      "Residual blocks                            10                       10\n",
      "Residual                                   40                       40\n",
      "\n",
      "Minimizer                        TRUST_REGION\n",
      "\n",
      "Dense linear algebra library            EIGEN\n",
      "Trust region strategy     LEVENBERG_MARQUARDT\n",
      "\n",
      "                                        Given                     Used\n",
      "Linear solver                        DENSE_QR                 DENSE_QR\n",
      "Threads                                     1                        1\n",
      "Linear solver threads                       1                        1\n",
      "\n",
      "Cost:\n",
      "Initial                          3.541096e+01\n",
      "Final                            1.250001e+00\n",
      "Change                           3.416096e+01\n",
      "\n",
      "Minimizer iterations                       12\n",
      "Successful steps                            7\n",
      "Unsuccessful steps                          5\n",
      "\n",
      "Time (in seconds):\n",
      "Preprocessor                           0.0000\n",
      "\n",
      "  Residual evaluation                  0.0002\n",
      "  Jacobian evaluation                  0.0009\n",
      "  Linear solver                        0.0001\n",
      "Minimizer                              0.0016\n",
      "\n",
      "Postprocessor                          0.0000\n",
      "Total                                  0.0016\n",
      "\n",
      "Termination:                      CONVERGENCE (Function tolerance reached. |cost_change|/cost: 2.644236e-07 <= 1.000000e-06)\n",
      "\n"
     ]
    }
   ],
   "source": [
    "initial_motor = vsr.Mot(1.0, 0.0, 0.0, 0.0, 0.0, 0.0, 0.0, 0.0)\n",
    "mes = MotorEstimationSolver(initial_motor)\n",
    "for a, b in zip(lines_a, lines_b):\n",
    "    mes.add_line_angle_distance_residual_block(a,b)\n",
    "mes.set_parameterization('BIVECTOR_GENERATOR')\n",
    "mes.linear_solver_type = \"DENSE_QR\"\n",
    "estimated_motor, lin_summary_2 = mes.solve()\n",
    "print(lin_summary_2['full_report'])"
   ]
  },
  {
   "cell_type": "markdown",
   "metadata": {},
   "source": [
    "#### Check solution"
   ]
  },
  {
   "cell_type": "code",
   "execution_count": 16,
   "metadata": {
    "collapsed": false
   },
   "outputs": [
    {
     "name": "stdout",
     "output_type": "stream",
     "text": [
      "[ 0.866  0.    -0.5    0.    -0.683 -0.433 -0.183 -0.25 ]\n",
      "[ 0.8661 -0.0002 -0.4998  0.0002 -0.6831 -0.4328 -0.1833 -0.2499]\n",
      "False\n",
      "True\n"
     ]
    }
   ],
   "source": [
    "print(np.array(motor))\n",
    "print(np.array(estimated_motor))\n",
    "print(np.allclose(np.array(motor), np.array(estimated_motor)))\n",
    "print(np.allclose(np.array(motor), np.array(estimated_motor), \n",
    "                  rtol=1e-05, atol=1e-03))"
   ]
  },
  {
   "cell_type": "code",
   "execution_count": 17,
   "metadata": {
    "collapsed": false
   },
   "outputs": [
    {
     "data": {
      "text/plain": [
       "[True, True, True, True, True, True, True, True]"
      ]
     },
     "execution_count": 17,
     "metadata": {},
     "output_type": "execute_result"
    }
   ],
   "source": [
    "rtol = 1e-5\n",
    "atol = 1e-3\n",
    "[np.abs(a - b) <= atol + rtol * np.abs(b) for a, b in zip(np.array(motor), np.array(estimated_motor))]"
   ]
  },
  {
   "cell_type": "markdown",
   "metadata": {
    "collapsed": false
   },
   "source": [
    "### Estimate motor using 2 residuals"
   ]
  },
  {
   "cell_type": "code",
   "execution_count": 18,
   "metadata": {
    "collapsed": false
   },
   "outputs": [
    {
     "name": "stdout",
     "output_type": "stream",
     "text": [
      "\n",
      "Solver Summary (v 1.12.0-eigen-(3.2.92)-lapack-suitesparse-(4.4.6)-openmp)\n",
      "\n",
      "                                     Original                  Reduced\n",
      "Parameter blocks                            1                        1\n",
      "Parameters                                  8                        8\n",
      "Effective parameters                        6                        6\n",
      "Residual blocks                            10                       10\n",
      "Residual                                   20                       20\n",
      "\n",
      "Minimizer                        TRUST_REGION\n",
      "\n",
      "Dense linear algebra library            EIGEN\n",
      "Trust region strategy     LEVENBERG_MARQUARDT\n",
      "\n",
      "                                        Given                     Used\n",
      "Linear solver                        DENSE_QR                 DENSE_QR\n",
      "Threads                                     1                        1\n",
      "Linear solver threads                       1                        1\n",
      "\n",
      "Cost:\n",
      "Initial                          3.541096e+01\n",
      "Final                            1.250000e+00\n",
      "Change                           3.416096e+01\n",
      "\n",
      "Minimizer iterations                       15\n",
      "Successful steps                           11\n",
      "Unsuccessful steps                          4\n",
      "\n",
      "Time (in seconds):\n",
      "Preprocessor                           0.0000\n",
      "\n",
      "  Residual evaluation                  0.0002\n",
      "  Jacobian evaluation                  0.0014\n",
      "  Linear solver                        0.0001\n",
      "Minimizer                              0.0023\n",
      "\n",
      "Postprocessor                          0.0000\n",
      "Total                                  0.0023\n",
      "\n",
      "Termination:                      CONVERGENCE (Function tolerance reached. |cost_change|/cost: 1.910506e-07 <= 1.000000e-06)\n",
      "\n"
     ]
    }
   ],
   "source": [
    "initial_motor = vsr.Mot(1.0, 0.0, 0.0, 0.0, 0.0, 0.0, 0.0, 0.0)\n",
    "mes = MotorEstimationSolver(initial_motor)\n",
    "for a, b in zip(lines_a, lines_b):\n",
    "    mes.add_line_angle_distance_norm_residual_block(a,b)\n",
    "mes.set_parameterization('BIVECTOR_GENERATOR')\n",
    "mes.linear_solver_type = \"DENSE_QR\"\n",
    "estimated_motor, lin_summary_3 = mes.solve()\n",
    "print(lin_summary_3['full_report'])"
   ]
  },
  {
   "cell_type": "markdown",
   "metadata": {},
   "source": [
    "#### Check solution"
   ]
  },
  {
   "cell_type": "code",
   "execution_count": 19,
   "metadata": {
    "collapsed": false
   },
   "outputs": [
    {
     "name": "stdout",
     "output_type": "stream",
     "text": [
      "[ 0.866  0.    -0.5    0.    -0.683 -0.433 -0.183 -0.25 ]\n",
      "[ 0.866   0.0001 -0.5001 -0.     -0.683  -0.4333 -0.1825 -0.2503]\n",
      "False\n",
      "True\n"
     ]
    }
   ],
   "source": [
    "print(np.array(motor))\n",
    "print(np.array(estimated_motor))\n",
    "print(np.allclose(np.array(motor), np.array(estimated_motor)))\n",
    "print(np.allclose(np.array(motor), np.array(estimated_motor), \n",
    "                  rtol=1e-05, atol=1e-03))"
   ]
  },
  {
   "cell_type": "markdown",
   "metadata": {},
   "source": [
    "### Plots"
   ]
  },
  {
   "cell_type": "code",
   "execution_count": 20,
   "metadata": {
    "collapsed": false
   },
   "outputs": [
    {
     "data": {
      "text/plain": [
       "<matplotlib.text.Text at 0x7fbf9a380910>"
      ]
     },
     "execution_count": 20,
     "metadata": {},
     "output_type": "execute_result"
    },
    {
     "data": {
      "image/png": "[encoded data removed]",
      "text/plain": [
       "<matplotlib.figure.Figure at 0x7fbf9a3bb510>"
      ]
     },
     "metadata": {},
     "output_type": "display_data"
    }
   ],
   "source": [
    "fig, ax = plt.subplots(1)\n",
    "\n",
    "# ax.set_aspect('equal')\n",
    "plt.set_cmap('gray')\n",
    "\n",
    "almost_black = '#262626'\n",
    "spines_to_remove = ['top', 'right']\n",
    "for spine in spines_to_remove:\n",
    "    ax.spines[spine].set_visible(False)\n",
    "ax.xaxis.set_ticks_position('none')\n",
    "ax.yaxis.set_ticks_position('none')\n",
    "\n",
    "spines_to_keep = ['bottom', 'left']\n",
    "for spine in spines_to_keep:\n",
    "    ax.spines[spine].set_linewidth(0.5)\n",
    "    ax.spines[spine].set_color(almost_black)\n",
    "ax.xaxis.label.set_color(almost_black)\n",
    "ax.yaxis.label.set_color(almost_black)\n",
    "\n",
    "ax.plot([it['cost'] for it in lin_summary_3['iterations'] ], label=r\"$2$-residuals\")\n",
    "ax.plot([it['cost'] for it in lin_summary_2['iterations'] ], label=r\"$4$-residuals\")\n",
    "\n",
    "ax.plot([it['cost'] for it in lin_summary_1['iterations'] ], label=r\"$6$-residuals\")\n",
    "\n",
    "ax.title.set_color(almost_black)\n",
    "ax.axhline(0, color=almost_black, linewidth=0.15)\n",
    "ax.axvline(0, color=almost_black, linewidth=0.15)\n",
    "\n",
    "# Remove the line around the legend box, and instead fill it with a light grey\n",
    "# Also only use one point for the scatterplot legend because the user will \n",
    "# get the idea after just one, they don't need three.\n",
    "light_grey = np.array([float(248)/float(255)]*3)\n",
    "legend = ax.legend(frameon=True, scatterpoints=1)\n",
    "rect = legend.get_frame()\n",
    "rect.set_facecolor(light_grey)\n",
    "rect.set_linewidth(0.0)\n",
    "\n",
    "plt.xlabel(r'Iteration $k$')\n",
    "plt.ylabel(r'Cost')\n",
    "\n",
    "\n",
    "# plt.savefig('/Users/lars/Dropbox/Apps/ShareLaTeX/2016-gacse/figures/cost_lines.pdf')"
   ]
  },
  {
   "cell_type": "code",
   "execution_count": null,
   "metadata": {
    "collapsed": false
   },
   "outputs": [],
   "source": []
  },
  {
   "cell_type": "code",
   "execution_count": 21,
   "metadata": {
    "collapsed": false
   },
   "outputs": [
    {
     "ename": "IOError",
     "evalue": "[Errno 2] No such file or directory: '/Users/lars/Dropbox/Apps/ShareLaTeX/2016-gacse/figures/cost_lines.pdf'",
     "output_type": "error",
     "traceback": [
      "\u001b[1;31m---------------------------------------------------------------------------\u001b[0m",
      "\u001b[1;31mIOError\u001b[0m                                   Traceback (most recent call last)",
      "\u001b[1;32m<ipython-input-21-1de733e93cb1>\u001b[0m in \u001b[0;36m<module>\u001b[1;34m()\u001b[0m\n\u001b[0;32m      8\u001b[0m \u001b[1;31m# plt.subplot(313)\u001b[0m\u001b[1;33m\u001b[0m\u001b[1;33m\u001b[0m\u001b[0m\n\u001b[0;32m      9\u001b[0m \u001b[0mplt\u001b[0m\u001b[1;33m.\u001b[0m\u001b[0mplot\u001b[0m\u001b[1;33m(\u001b[0m\u001b[1;33m[\u001b[0m\u001b[0mit\u001b[0m\u001b[1;33m[\u001b[0m\u001b[1;34m'cost'\u001b[0m\u001b[1;33m]\u001b[0m \u001b[1;32mfor\u001b[0m \u001b[0mit\u001b[0m \u001b[1;32min\u001b[0m \u001b[0mlin_summary_3\u001b[0m\u001b[1;33m[\u001b[0m\u001b[1;34m'iterations'\u001b[0m\u001b[1;33m]\u001b[0m \u001b[1;33m]\u001b[0m\u001b[1;33m)\u001b[0m\u001b[1;33m\u001b[0m\u001b[0m\n\u001b[1;32m---> 10\u001b[1;33m \u001b[0mplt\u001b[0m\u001b[1;33m.\u001b[0m\u001b[0msavefig\u001b[0m\u001b[1;33m(\u001b[0m\u001b[1;34m'/Users/lars/Dropbox/Apps/ShareLaTeX/2016-gacse/figures/cost_lines.pdf'\u001b[0m\u001b[1;33m)\u001b[0m\u001b[1;33m\u001b[0m\u001b[0m\n\u001b[0m",
      "\u001b[1;32m/usr/lib/python2.7/dist-packages/matplotlib/pyplot.pyc\u001b[0m in \u001b[0;36msavefig\u001b[1;34m(*args, **kwargs)\u001b[0m\n\u001b[0;32m    686\u001b[0m \u001b[1;32mdef\u001b[0m \u001b[0msavefig\u001b[0m\u001b[1;33m(\u001b[0m\u001b[1;33m*\u001b[0m\u001b[0margs\u001b[0m\u001b[1;33m,\u001b[0m \u001b[1;33m**\u001b[0m\u001b[0mkwargs\u001b[0m\u001b[1;33m)\u001b[0m\u001b[1;33m:\u001b[0m\u001b[1;33m\u001b[0m\u001b[0m\n\u001b[0;32m    687\u001b[0m     \u001b[0mfig\u001b[0m \u001b[1;33m=\u001b[0m \u001b[0mgcf\u001b[0m\u001b[1;33m(\u001b[0m\u001b[1;33m)\u001b[0m\u001b[1;33m\u001b[0m\u001b[0m\n\u001b[1;32m--> 688\u001b[1;33m     \u001b[0mres\u001b[0m \u001b[1;33m=\u001b[0m \u001b[0mfig\u001b[0m\u001b[1;33m.\u001b[0m\u001b[0msavefig\u001b[0m\u001b[1;33m(\u001b[0m\u001b[1;33m*\u001b[0m\u001b[0margs\u001b[0m\u001b[1;33m,\u001b[0m \u001b[1;33m**\u001b[0m\u001b[0mkwargs\u001b[0m\u001b[1;33m)\u001b[0m\u001b[1;33m\u001b[0m\u001b[0m\n\u001b[0m\u001b[0;32m    689\u001b[0m     \u001b[0mfig\u001b[0m\u001b[1;33m.\u001b[0m\u001b[0mcanvas\u001b[0m\u001b[1;33m.\u001b[0m\u001b[0mdraw_idle\u001b[0m\u001b[1;33m(\u001b[0m\u001b[1;33m)\u001b[0m   \u001b[1;31m# need this if 'transparent=True' to reset colors\u001b[0m\u001b[1;33m\u001b[0m\u001b[0m\n\u001b[0;32m    690\u001b[0m     \u001b[1;32mreturn\u001b[0m \u001b[0mres\u001b[0m\u001b[1;33m\u001b[0m\u001b[0m\n",
      "\u001b[1;32m/usr/lib/python2.7/dist-packages/matplotlib/figure.pyc\u001b[0m in \u001b[0;36msavefig\u001b[1;34m(self, *args, **kwargs)\u001b[0m\n\u001b[0;32m   1563\u001b[0m             \u001b[0mself\u001b[0m\u001b[1;33m.\u001b[0m\u001b[0mset_frameon\u001b[0m\u001b[1;33m(\u001b[0m\u001b[0mframeon\u001b[0m\u001b[1;33m)\u001b[0m\u001b[1;33m\u001b[0m\u001b[0m\n\u001b[0;32m   1564\u001b[0m \u001b[1;33m\u001b[0m\u001b[0m\n\u001b[1;32m-> 1565\u001b[1;33m         \u001b[0mself\u001b[0m\u001b[1;33m.\u001b[0m\u001b[0mcanvas\u001b[0m\u001b[1;33m.\u001b[0m\u001b[0mprint_figure\u001b[0m\u001b[1;33m(\u001b[0m\u001b[1;33m*\u001b[0m\u001b[0margs\u001b[0m\u001b[1;33m,\u001b[0m \u001b[1;33m**\u001b[0m\u001b[0mkwargs\u001b[0m\u001b[1;33m)\u001b[0m\u001b[1;33m\u001b[0m\u001b[0m\n\u001b[0m\u001b[0;32m   1566\u001b[0m \u001b[1;33m\u001b[0m\u001b[0m\n\u001b[0;32m   1567\u001b[0m         \u001b[1;32mif\u001b[0m \u001b[0mframeon\u001b[0m\u001b[1;33m:\u001b[0m\u001b[1;33m\u001b[0m\u001b[0m\n",
      "\u001b[1;32m/usr/lib/python2.7/dist-packages/matplotlib/backend_bases.pyc\u001b[0m in \u001b[0;36mprint_figure\u001b[1;34m(self, filename, dpi, facecolor, edgecolor, orientation, format, **kwargs)\u001b[0m\n\u001b[0;32m   2230\u001b[0m                 \u001b[0morientation\u001b[0m\u001b[1;33m=\u001b[0m\u001b[0morientation\u001b[0m\u001b[1;33m,\u001b[0m\u001b[1;33m\u001b[0m\u001b[0m\n\u001b[0;32m   2231\u001b[0m                 \u001b[0mbbox_inches_restore\u001b[0m\u001b[1;33m=\u001b[0m\u001b[0m_bbox_inches_restore\u001b[0m\u001b[1;33m,\u001b[0m\u001b[1;33m\u001b[0m\u001b[0m\n\u001b[1;32m-> 2232\u001b[1;33m                 **kwargs)\n\u001b[0m\u001b[0;32m   2233\u001b[0m         \u001b[1;32mfinally\u001b[0m\u001b[1;33m:\u001b[0m\u001b[1;33m\u001b[0m\u001b[0m\n\u001b[0;32m   2234\u001b[0m             \u001b[1;32mif\u001b[0m \u001b[0mbbox_inches\u001b[0m \u001b[1;32mand\u001b[0m \u001b[0mrestore_bbox\u001b[0m\u001b[1;33m:\u001b[0m\u001b[1;33m\u001b[0m\u001b[0m\n",
      "\u001b[1;32m/usr/lib/python2.7/dist-packages/matplotlib/backends/backend_pdf.pyc\u001b[0m in \u001b[0;36mprint_pdf\u001b[1;34m(self, filename, **kwargs)\u001b[0m\n\u001b[0;32m   2526\u001b[0m             \u001b[0mfile\u001b[0m \u001b[1;33m=\u001b[0m \u001b[0mfilename\u001b[0m\u001b[1;33m.\u001b[0m\u001b[0m_file\u001b[0m\u001b[1;33m\u001b[0m\u001b[0m\n\u001b[0;32m   2527\u001b[0m         \u001b[1;32melse\u001b[0m\u001b[1;33m:\u001b[0m\u001b[1;33m\u001b[0m\u001b[0m\n\u001b[1;32m-> 2528\u001b[1;33m             \u001b[0mfile\u001b[0m \u001b[1;33m=\u001b[0m \u001b[0mPdfFile\u001b[0m\u001b[1;33m(\u001b[0m\u001b[0mfilename\u001b[0m\u001b[1;33m)\u001b[0m\u001b[1;33m\u001b[0m\u001b[0m\n\u001b[0m\u001b[0;32m   2529\u001b[0m         \u001b[1;32mtry\u001b[0m\u001b[1;33m:\u001b[0m\u001b[1;33m\u001b[0m\u001b[0m\n\u001b[0;32m   2530\u001b[0m             \u001b[0mfile\u001b[0m\u001b[1;33m.\u001b[0m\u001b[0mnewPage\u001b[0m\u001b[1;33m(\u001b[0m\u001b[0mwidth\u001b[0m\u001b[1;33m,\u001b[0m \u001b[0mheight\u001b[0m\u001b[1;33m)\u001b[0m\u001b[1;33m\u001b[0m\u001b[0m\n",
      "\u001b[1;32m/usr/lib/python2.7/dist-packages/matplotlib/backends/backend_pdf.pyc\u001b[0m in \u001b[0;36m__init__\u001b[1;34m(self, filename)\u001b[0m\n\u001b[0;32m    420\u001b[0m         \u001b[0mself\u001b[0m\u001b[1;33m.\u001b[0m\u001b[0mtell_base\u001b[0m \u001b[1;33m=\u001b[0m \u001b[1;36m0\u001b[0m\u001b[1;33m\u001b[0m\u001b[0m\n\u001b[0;32m    421\u001b[0m         \u001b[1;32mif\u001b[0m \u001b[0mis_string_like\u001b[0m\u001b[1;33m(\u001b[0m\u001b[0mfilename\u001b[0m\u001b[1;33m)\u001b[0m\u001b[1;33m:\u001b[0m\u001b[1;33m\u001b[0m\u001b[0m\n\u001b[1;32m--> 422\u001b[1;33m             \u001b[0mfh\u001b[0m \u001b[1;33m=\u001b[0m \u001b[0mopen\u001b[0m\u001b[1;33m(\u001b[0m\u001b[0mfilename\u001b[0m\u001b[1;33m,\u001b[0m \u001b[1;34m'wb'\u001b[0m\u001b[1;33m)\u001b[0m\u001b[1;33m\u001b[0m\u001b[0m\n\u001b[0m\u001b[0;32m    423\u001b[0m         \u001b[1;32melif\u001b[0m \u001b[0mis_writable_file_like\u001b[0m\u001b[1;33m(\u001b[0m\u001b[0mfilename\u001b[0m\u001b[1;33m)\u001b[0m\u001b[1;33m:\u001b[0m\u001b[1;33m\u001b[0m\u001b[0m\n\u001b[0;32m    424\u001b[0m             \u001b[1;32mtry\u001b[0m\u001b[1;33m:\u001b[0m\u001b[1;33m\u001b[0m\u001b[0m\n",
      "\u001b[1;31mIOError\u001b[0m: [Errno 2] No such file or directory: '/Users/lars/Dropbox/Apps/ShareLaTeX/2016-gacse/figures/cost_lines.pdf'"
     ]
    },
    {
     "data": {
      "image/png": "[encoded data removed]",
      "text/plain": [
       "<matplotlib.figure.Figure at 0x7fbf9318c850>"
      ]
     },
     "metadata": {},
     "output_type": "display_data"
    }
   ],
   "source": [
    "plt.figure(1)\n",
    "# plt.subplot(311)\n",
    "plt.plot([it['cost'] for it in lin_summary_1['iterations'] ])\n",
    "\n",
    "# plt.subplot(312)\n",
    "plt.plot([it['cost'] for it in lin_summary_2['iterations'] ])\n",
    "\n",
    "# plt.subplot(313)\n",
    "plt.plot([it['cost'] for it in lin_summary_3['iterations'] ])\n",
    "plt.savefig('/Users/lars/Dropbox/Apps/ShareLaTeX/2016-gacse/figures/cost_lines.pdf')"
   ]
  },
  {
   "cell_type": "code",
   "execution_count": null,
   "metadata": {
    "collapsed": false
   },
   "outputs": [],
   "source": [
    "fig, ax = plt.subplots(1)\n",
    "ax.plot([it['gradient_max_norm'] for it in lin_summary_1['iterations'] ])\n",
    "ax.plot([it['gradient_max_norm'] for it in lin_summary_2['iterations'] ])\n",
    "ax.plot([it['gradient_max_norm'] for it in lin_summary_3['iterations'] ])"
   ]
  },
  {
   "cell_type": "markdown",
   "metadata": {},
   "source": [
    "## Motor Estimation from planes"
   ]
  },
  {
   "cell_type": "markdown",
   "metadata": {},
   "source": [
    "### Dataset generation"
   ]
  },
  {
   "cell_type": "code",
   "execution_count": null,
   "metadata": {
    "collapsed": false
   },
   "outputs": [],
   "source": [
    "n_planes = 10\n",
    "planes_a = []\n",
    "for i in range(10):\n",
    "    dir_vec = np.random.normal(0.0, 0.8, 4)\n",
    "    dir_vec = dir_vec / np.linalg.norm(dir_vec)\n",
    "    distance = np.random.normal(0.0, 0.8,1)\n",
    "    arr = dir_vec + distance\n",
    "    planes_a.append(vsr.Dlp(dir_vec[0],dir_vec[1],dir_vec[2],distance[0]))\n",
    "planes_b = [plane.spin(motor) for plane in planes_a]"
   ]
  },
  {
   "cell_type": "markdown",
   "metadata": {},
   "source": [
    "### Estimate motor using 2 residuals"
   ]
  },
  {
   "cell_type": "code",
   "execution_count": null,
   "metadata": {
    "collapsed": false
   },
   "outputs": [],
   "source": [
    "motor = vsr.Vec(1,1,1).trs() * vsr.Rot(vsr.Biv(0,1,0) * np.pi/6.0)\n",
    "noise_motor_plane = vsr.Vec(0.1,0.1,0.1).trs() * vsr.Rot(vsr.Biv(1,0,0) * np.pi/24)\n",
    "initial_motor = vsr.Mot(1.0, 0.0, 0.0, 0.0, 0.0, 0.0, 0.0, 0.0)\n",
    "mes = MotorEstimationSolver(initial_motor)\n",
    "for a, b in zip(planes_a, planes_b):\n",
    "#     mes.add_dual_plane_angle_error_residual_block(a,b.spin(noise_motor_plane))\n",
    "    mes.add_dual_plane_angle_error_residual_block(a,b)\n",
    "\n",
    "mes.set_parameterization('BIVECTOR_GENERATOR')\n",
    "mes.linear_solver_type = \"DENSE_QR\"\n",
    "mes.function_tolerance = 1e-8\n",
    "mes.max_num_iterations = 100\n",
    "estimated_motor, pln_summary_1 = mes.solve()\n",
    "print(pln_summary_1['brief_report'])"
   ]
  },
  {
   "cell_type": "code",
   "execution_count": null,
   "metadata": {
    "collapsed": false
   },
   "outputs": [],
   "source": [
    "print(np.array(motor))\n",
    "print(np.array(estimated_motor))\n",
    "print(np.allclose(np.array(motor), np.array(estimated_motor)))\n",
    "print(np.allclose(np.array(motor), np.array(estimated_motor), \n",
    "                  rtol=1e-05, atol=1e-03))"
   ]
  },
  {
   "cell_type": "code",
   "execution_count": null,
   "metadata": {
    "collapsed": false
   },
   "outputs": [],
   "source": [
    "fig, ax = plt.subplots(1)\n",
    "\n",
    "# ax.set_aspect('equal')\n",
    "plt.set_cmap('gray')\n",
    "\n",
    "almost_black = '#262626'\n",
    "spines_to_remove = ['top', 'right']\n",
    "for spine in spines_to_remove:\n",
    "    ax.spines[spine].set_visible(False)\n",
    "ax.xaxis.set_ticks_position('none')\n",
    "ax.yaxis.set_ticks_position('none')\n",
    "\n",
    "spines_to_keep = ['bottom', 'left']\n",
    "for spine in spines_to_keep:\n",
    "    ax.spines[spine].set_linewidth(0.5)\n",
    "    ax.spines[spine].set_color(almost_black)\n",
    "ax.xaxis.label.set_color(almost_black)\n",
    "ax.yaxis.label.set_color(almost_black)\n",
    "\n",
    "ax.plot([it['cost'] for it in pln_summary_1['iterations'] ])\n",
    "\n",
    "ax.title.set_color(almost_black)\n",
    "ax.axhline(0, color=almost_black, linewidth=0.15)\n",
    "ax.axvline(0, color=almost_black, linewidth=0.15)\n",
    "\n",
    "# Remove the line around the legend box, and instead fill it with a light grey\n",
    "# Also only use one point for the scatterplot legend because the user will \n",
    "# get the idea after just one, they don't need three.\n",
    "\n",
    "# light_grey = np.array([float(248)/float(255)]*3)\n",
    "# legend = ax.legend(frameon=True, scatterpoints=1)\n",
    "# rect = legend.get_frame()\n",
    "# rect.set_facecolor(light_grey)\n",
    "# rect.set_linewidth(0.0)\n",
    "\n",
    "plt.xlabel(r'Iteration $k$')\n",
    "plt.ylabel(r'Cost')\n",
    "\n",
    "\n",
    "# plt.savefig('/Users/lars/Dropbox/Apps/ShareLaTeX/2016-gacse/figures/cost_planes.pdf')"
   ]
  },
  {
   "cell_type": "markdown",
   "metadata": {},
   "source": [
    "## Motor Estimation from tangents"
   ]
  },
  {
   "cell_type": "markdown",
   "metadata": {},
   "source": [
    "### Dataset generation"
   ]
  },
  {
   "cell_type": "code",
   "execution_count": null,
   "metadata": {
    "collapsed": false
   },
   "outputs": [],
   "source": [
    "n_tangents = 10\n",
    "tangents_a = []\n",
    "for i in range(n_tangents):\n",
    "    dir_vec = np.random.normal(0.0, 0.8, 3)\n",
    "    dir_vec = dir_vec / np.linalg.norm(dir_vec)\n",
    "    pos = np.random.normal(0.0, 0.8, 3)\n",
    "    tangents_a.append(vsr.Tnv(vsr.Vec(*dir_vec)).spin(vsr.Vec(*pos).trs() * \n",
    "                                             vsr.Rot(1,0,0,0)))\n",
    "\n",
    "tangents_b = [tangent.spin(motor) for tangent in tangents_a]"
   ]
  },
  {
   "cell_type": "markdown",
   "metadata": {},
   "source": [
    "### Estimate motors using flags"
   ]
  },
  {
   "cell_type": "code",
   "execution_count": null,
   "metadata": {
    "collapsed": false
   },
   "outputs": [],
   "source": [
    "motor = vsr.Vec(1,1,1).trs() * vsr.Rot(vsr.Biv(0,1,0) * np.pi/6.0)\n",
    "initial_motor = vsr.Mot(1.0, 0.0, 0.0, 0.0, 0.0, 0.0, 0.0, 0.0)\n",
    "mes = MotorEstimationSolver(initial_motor)\n",
    "for a, b in zip(tangents_a, tangents_b):\n",
    "    dir_vec = np.random.normal(0.0, 0.8, 3)\n",
    "    dir_vec = dir_vec / np.linalg.norm(dir_vec)\n",
    "    pos = np.random.normal(0.0, 0.01, 3)\n",
    "    angle = np.random.normal(0.0, pi/1000., 1)\n",
    "    noise_motor_tangent = vsr.Vec(*pos).trs() * vsr.Rot(vsr.Vec(*dir_vec).unduale() * angle[0])\n",
    "    b = b.spin(noise_motor_tangent)\n",
    "    mes.add_point_correspondences_residual_block(a.pnt(), b.pnt())\n",
    "    mes.add_line_correspondences_residual_block(a.lin().dual(), b.lin().dual())\n",
    "#     mes.add_tangent_vector_point_angle_error_residual_block(a,b)\n",
    "\n",
    "mes.set_parameterization('BIVECTOR_GENERATOR')\n",
    "mes.linear_solver_type = \"DENSE_QR\"\n",
    "mes.function_tolerance = 1e-8\n",
    "mes.max_num_iterations = 200\n",
    "em, summary = mes.solve()\n",
    "print(motor)\n",
    "print(em)\n",
    "print(summary['brief_report'])"
   ]
  },
  {
   "cell_type": "markdown",
   "metadata": {},
   "source": [
    "### Estimate motor"
   ]
  },
  {
   "cell_type": "code",
   "execution_count": null,
   "metadata": {
    "collapsed": false
   },
   "outputs": [],
   "source": [
    "motor = vsr.Vec(1,1,1).trs() * vsr.Rot(vsr.Biv(0,1,0) * np.pi/6.0)\n",
    "initial_motor = vsr.Mot(1.0, 0.0, 0.0, 0.0, 0.0, 0.0, 0.0, 0.0)\n",
    "mes = MotorEstimationSolver(initial_motor)\n",
    "for a, b in zip(tangents_a, tangents_b):\n",
    "    mes.add_tangent_vector_point_angle_error_residual_block(a,b)\n",
    "\n",
    "mes.set_parameterization('BIVECTOR_GENERATOR')\n",
    "mes.linear_solver_type = \"DENSE_QR\"\n",
    "mes.function_tolerance = 1e-8\n",
    "mes.max_num_iterations = 2000\n",
    "em, summary = mes.solve()\n",
    "print(initial_motor)\n",
    "print(motor)\n",
    "print(em)\n",
    "print(summary['full_report'])"
   ]
  },
  {
   "cell_type": "markdown",
   "metadata": {},
   "source": [
    "## Motor Estimation from Circles"
   ]
  },
  {
   "cell_type": "markdown",
   "metadata": {},
   "source": [
    "### Dataset generation"
   ]
  },
  {
   "cell_type": "code",
   "execution_count": null,
   "metadata": {
    "collapsed": false
   },
   "outputs": [],
   "source": [
    "n_circles = 5\n",
    "circles_a = []\n",
    "for i in range(n_circles):\n",
    "    dir_vec = np.random.normal(0.0, 0.8, 3)\n",
    "    dir_vec = dir_vec / np.linalg.norm(dir_vec)\n",
    "    pos = np.random.normal(0.0, 0.8, 3)\n",
    "    radius = np.random.normal(0.0, 0.8, 1)\n",
    "    circles_a.append(vsr.Cir(vsr.Vec(*pos).null(), radius[0], \n",
    "                             vsr.Vec(*(dir_vec)).unduale()))\n",
    "\n",
    "circles_b = [circle.spin(motor) for circle in circles_a]"
   ]
  },
  {
   "cell_type": "markdown",
   "metadata": {},
   "source": [
    "### Estimate motor"
   ]
  },
  {
   "cell_type": "code",
   "execution_count": null,
   "metadata": {
    "collapsed": false
   },
   "outputs": [],
   "source": [
    "motor = vsr.Vec(1,1,1).trs() * vsr.Rot(vsr.Biv(0,1,0) * np.pi/6.0)\n",
    "initial_motor = vsr.Mot(1.0, 0.0, 0.0, 0.0, 0.0, 0.0, 0.0, 0.0)\n",
    "mes = MotorEstimationSolver(initial_motor)\n",
    "for a, b in zip(circles_a, circles_b):\n",
    "#     mes.add_point_correspondences_residual_block(a.pnt(), b.pnt())\n",
    "    mes.add_dual_plane_angle_error_residual_block(a.pln().dual(), b.pln().dual())\n",
    "\n",
    "mes.set_parameterization('BIVECTOR_GENERATOR')\n",
    "mes.linear_solver_type = \"DENSE_QR\"\n",
    "mes.function_tolerance = 1e-6\n",
    "mes.max_num_iterations = 2000\n",
    "em, summary = mes.solve()\n",
    "print(initial_motor)\n",
    "print(motor)\n",
    "print(em)\n",
    "print(summary['full_report'])"
   ]
  },
  {
   "cell_type": "markdown",
   "metadata": {},
   "source": [
    "## Motor Estimation from Spheres"
   ]
  },
  {
   "cell_type": "markdown",
   "metadata": {},
   "source": [
    "### Dataset generation"
   ]
  },
  {
   "cell_type": "code",
   "execution_count": null,
   "metadata": {
    "collapsed": false
   },
   "outputs": [],
   "source": [
    "n_spheres = 5\n",
    "spheres_a = []\n",
    "for i in range(n_spheres):\n",
    "    pos = np.random.normal(0.0, 0.8, 3)\n",
    "    radius = np.random.normal(0.0, 0.8, 1)\n",
    "    spheres_a.append(vsr.Sph(vsr.Vec(*pos).null(), radius[0]))\n",
    "spheres_b = [sphere.spin(motor) for sphere in spheres_a]"
   ]
  },
  {
   "cell_type": "markdown",
   "metadata": {},
   "source": [
    "### Estimate motor"
   ]
  },
  {
   "cell_type": "code",
   "execution_count": null,
   "metadata": {
    "collapsed": false
   },
   "outputs": [],
   "source": [
    "motor = vsr.Vec(1,1,1).trs() * vsr.Rot(vsr.Biv(0,1,0) * np.pi/6.0)\n",
    "initial_motor = vsr.Mot(1.0, 0.0, 0.0, 0.0, 0.0, 0.0, 0.0, 0.0)\n",
    "mes = MotorEstimationSolver(initial_motor)\n",
    "for a, b in zip(spheres_a, spheres_b):\n",
    "    mes.add_point_correspondences_residual_block(a.pnt(),b.pnt())\n",
    "mes.set_parameterization('BIVECTOR_GENERATOR')\n",
    "mes.linear_solver_type = 'DENSE_QR'\n",
    "(estimated_motor, summary) = mes.solve()\n",
    "print(summary['brief_report'])"
   ]
  },
  {
   "cell_type": "markdown",
   "metadata": {},
   "source": [
    "## Motor Estimation from heterogeneous conformal objects"
   ]
  },
  {
   "cell_type": "code",
   "execution_count": null,
   "metadata": {
    "collapsed": false
   },
   "outputs": [],
   "source": [
    "motor = vsr.Vec(1,1,1).trs() * vsr.Rot(vsr.Biv(0,1,0) * np.pi/6.0)\n",
    "noise_motor = vsr.Vec(0.1,0.1,0.1).trs() * vsr.Rot(vsr.Biv(1,0,0) * np.pi/100)\n",
    "\n",
    "noise_motor_plane = vsr.Vec(0.05,0.05,0.05).trs() * vsr.Rot(vsr.Biv(1,0,0) * np.pi/100)\n",
    "noise_motor_lines = vsr.Vec(-0.01,-0.01,-0.01).trs() * vsr.Rot(vsr.Biv(0,1,0) * (-np.pi/100))\n",
    "noise_motor_points = vsr.Vec(0.1,0.1,0.1).trs() * vsr.Rot(vsr.Biv(0,0,1) * (np.pi/100))\n",
    "\n",
    "initial_motor = vsr.Mot(1.0, 0.0, 0.0, 0.0, 0.0, 0.0, 0.0, 0.0)\n",
    "mes = MotorEstimationSolver(initial_motor)\n",
    "for a, b in zip(planes_a, planes_b):\n",
    "    mes.add_dual_plane_angle_error_residual_block(a,b)\n",
    "for a, b in zip(lines_a, lines_b):\n",
    "    mes.add_line_correspondences_residual_block(a,b)\n",
    "for a, b in zip(points_a, points_b):\n",
    "    mes.add_point_correspondences_residual_block(a,b)\n",
    "    \n",
    "    \n",
    "\n",
    "mes.set_parameterization('BIVECTOR_GENERATOR')\n",
    "mes.linear_solver_type = \"DENSE_QR\"\n",
    "# mes.function_tolerance = 1e-8\n",
    "mes.max_num_iterations = 100\n",
    "em, summary_het = mes.solve()\n",
    "print(initial_motor)\n",
    "print(motor)\n",
    "print(em)\n",
    "print(np.array(motor))\n",
    "print(np.array(estimated_motor))\n",
    "print(np.allclose(np.array(motor), np.array(estimated_motor)))\n",
    "print(np.allclose(np.array(motor), np.array(estimated_motor), \n",
    "                  rtol=1e-05, atol=1e-5))\n",
    "print(summary_het['full_report'])"
   ]
  },
  {
   "cell_type": "code",
   "execution_count": null,
   "metadata": {
    "collapsed": false
   },
   "outputs": [],
   "source": [
    "motor = vsr.Vec(1,1,1).trs() * vsr.Rot(vsr.Biv(0,1,0) * np.pi/6.0)\n",
    "noise_motor = vsr.Vec(0.1,0.1,0.1).trs() * vsr.Rot(vsr.Biv(1,0,0) * np.pi/100)\n",
    "\n",
    "noise_motor_planes = vsr.Vec(0.05,0.05,0.05).trs() * vsr.Rot(vsr.Biv(1,0,0) * np.pi/100)\n",
    "noise_motor_lines = vsr.Vec(-0.01,-0.01,-0.01).trs() * vsr.Rot(vsr.Biv(0,1,0) * (-np.pi/100))\n",
    "noise_motor_points = vsr.Vec(0.1,0.1,0.1).trs() * vsr.Rot(vsr.Biv(0,0,1) * (np.pi/100))\n",
    "\n",
    "initial_motor = vsr.Mot(1.0, 0.0, 0.0, 0.0, 0.0, 0.0, 0.0, 0.0)\n",
    "mes = MotorEstimationSolver(initial_motor)\n",
    "for a, b in zip(planes_a, planes_b):\n",
    "    mes.add_dual_plane_angle_error_residual_block(a,b.spin(noise_motor_plane))\n",
    "for a, b in zip(lines_a, lines_b):\n",
    "    mes.add_line_correspondences_residual_block(a,b.spin(noise_motor_lines))\n",
    "for a, b in zip(points_a, points_b):\n",
    "    mes.add_point_correspondences_residual_block(a,b.spin(noise_motor_points))\n",
    "    \n",
    "    \n",
    "\n",
    "mes.set_parameterization('BIVECTOR_GENERATOR')\n",
    "mes.linear_solver_type = \"DENSE_QR\"\n",
    "# mes.function_tolerance = 1e-8\n",
    "mes.max_num_iterations = 100\n",
    "em, summary_het_noise = mes.solve()\n",
    "print(initial_motor)\n",
    "print(motor)\n",
    "print(em)\n",
    "print(summary_het_noise['full_report'])"
   ]
  },
  {
   "cell_type": "code",
   "execution_count": null,
   "metadata": {
    "collapsed": false
   },
   "outputs": [],
   "source": [
    "fig, ax = plt.subplots(1)\n",
    "\n",
    "# ax.set_aspect('equal')\n",
    "plt.set_cmap('gray')\n",
    "\n",
    "almost_black = '#262626'\n",
    "spines_to_remove = ['top', 'right']\n",
    "for spine in spines_to_remove:\n",
    "    ax.spines[spine].set_visible(False)\n",
    "ax.xaxis.set_ticks_position('none')\n",
    "ax.yaxis.set_ticks_position('none')\n",
    "\n",
    "spines_to_keep = ['bottom', 'left']\n",
    "for spine in spines_to_keep:\n",
    "    ax.spines[spine].set_linewidth(0.5)\n",
    "    ax.spines[spine].set_color(almost_black)\n",
    "ax.xaxis.label.set_color(almost_black)\n",
    "ax.yaxis.label.set_color(almost_black)\n",
    "\n",
    "ax.plot([it['cost'] for it in summary_het['iterations'] ], label=\"Without noise\")\n",
    "ax.plot([it['cost'] for it in summary_het_noise['iterations']], label=\"With noise\")\n",
    "\n",
    "\n",
    "ax.title.set_color(almost_black)\n",
    "ax.axhline(0, color=almost_black, linewidth=0.15)\n",
    "ax.axvline(0, color=almost_black, linewidth=0.15)\n",
    "\n",
    "# Remove the line around the legend box, and instead fill it with a light grey\n",
    "# Also only use one point for the scatterplot legend because the user will \n",
    "# get the idea after just one, they don't need three.\n",
    "\n",
    "light_grey = np.array([float(248)/float(255)]*3)\n",
    "legend = ax.legend(frameon=True, scatterpoints=1)\n",
    "rect = legend.get_frame()\n",
    "rect.set_facecolor(light_grey)\n",
    "rect.set_linewidth(0.0)\n",
    "\n",
    "plt.xlabel(r'Iteration $k$')\n",
    "plt.ylabel(r'Cost')\n",
    "\n",
    "\n",
    "plt.savefig('/Users/lars/Dropbox/Apps/ShareLaTeX/2016-gacse/figures/cost_heterogeneous.pdf')"
   ]
  },
  {
   "cell_type": "markdown",
   "metadata": {},
   "source": [
    "## Hand Eye Calibration"
   ]
  },
  {
   "cell_type": "markdown",
   "metadata": {},
   "source": [
    "### Set up motors"
   ]
  },
  {
   "cell_type": "code",
   "execution_count": null,
   "metadata": {
    "collapsed": false
   },
   "outputs": [],
   "source": [
    "M_object_in_world = vsr.Vec(1.0,1.0,0.1).trs() * vsr.Biv(pi/4.0, 0.0,0.0).exp()\n",
    "M_eye_in_hand = vsr.Vec(0.1, 0.2, 0.3).trs() * vsr.Biv(0.0,1.0,0.0).exp()\n",
    "M_eye_in_hand_initial = vsr.Vec(0.11, 0.24, 0.36).trs() * (vsr.Biv(1.0,1.0,0.0).unit() * (np.pi/5.)).exp()"
   ]
  },
  {
   "cell_type": "markdown",
   "metadata": {},
   "source": [
    "### Dataset generation"
   ]
  },
  {
   "cell_type": "code",
   "execution_count": null,
   "metadata": {
    "collapsed": true
   },
   "outputs": [],
   "source": [
    "def hand_eye_pose_pairs(M_object_in_world, M_eye_in_hand, n):\n",
    "    pose_pairs = [\n",
    "            (M_hand_in_world, \n",
    "             (M_eye_in_hand.rev() * M_hand_in_world.rev() * M_object_in_world))\n",
    "            for M_hand_in_world in [vsr.Vec(*np.random.rand(3)).trs() *\n",
    "                                    vsr.Rot(vsr.Biv(*np.random.rand(3)).unit() *\n",
    "                                            np.random.rand() * np.pi)\n",
    "                                    for i in range(n)]]\n",
    "\n",
    "    As = [pose_pair[0] for pose_pair in pose_pairs]\n",
    "    Bs = [pose_pair[1] for pose_pair in pose_pairs]\n",
    "\n",
    "    LAs = []\n",
    "    LBs = []\n",
    "    for i in range(n):\n",
    "        for j in range(i+1,n):\n",
    "            LAs.append(((As[j].rev() * As[i]).log() * 0.5).unit())\n",
    "            LBs.append(((Bs[j] * Bs[i].rev()).log() * 0.5).unit())\n",
    "    return LAs, LBs"
   ]
  },
  {
   "cell_type": "code",
   "execution_count": null,
   "metadata": {
    "collapsed": false
   },
   "outputs": [],
   "source": [
    "n_lines = 10\n",
    "lines_a, lines_b = hand_eye_pose_pairs(M_object_in_world, M_eye_in_hand, n_lines)\n",
    "print(len(lines_a))"
   ]
  },
  {
   "cell_type": "markdown",
   "metadata": {},
   "source": [
    "### Estimate hand-eye motor "
   ]
  },
  {
   "cell_type": "code",
   "execution_count": null,
   "metadata": {
    "collapsed": false
   },
   "outputs": [],
   "source": [
    "mes = MotorEstimationSolver(M_eye_in_hand_initial)\n",
    "for a, b in zip(lines_a, lines_b):\n",
    "    mes.add_line_angle_distance_residual_block(a,b)\n",
    "mes.set_parameterization('BIVECTOR_GENERATOR')\n",
    "mes.linear_solver_type = \"DENSE_QR\"\n",
    "mes.function_tolerance = 1e-16\n",
    "estimated_motor, summary = mes.solve()\n",
    "print(summary['full_report'])"
   ]
  },
  {
   "cell_type": "markdown",
   "metadata": {
    "collapsed": false
   },
   "source": [
    "#### Check solution"
   ]
  },
  {
   "cell_type": "code",
   "execution_count": null,
   "metadata": {
    "collapsed": false
   },
   "outputs": [],
   "source": [
    "print(np.array(M_eye_in_hand))\n",
    "print(np.array(estimated_motor))\n",
    "print(np.allclose(np.array(M_eye_in_hand), np.array(estimated_motor)))"
   ]
  },
  {
   "cell_type": "markdown",
   "metadata": {},
   "source": [
    "### Real Experiment"
   ]
  },
  {
   "cell_type": "code",
   "execution_count": null,
   "metadata": {
    "collapsed": false
   },
   "outputs": [],
   "source": [
    "import cPickle as pickle\n",
    "import math3d as m3d"
   ]
  },
  {
   "cell_type": "markdown",
   "metadata": {},
   "source": [
    "#### Dataset generation"
   ]
  },
  {
   "cell_type": "code",
   "execution_count": null,
   "metadata": {
    "collapsed": true
   },
   "outputs": [],
   "source": [
    "rob_pose_list = pickle.load(open('pose_list.dump'))\n",
    "obj_pose_list = pickle.load(open('obj_pose_list.dump'))\n",
    "a_trfs = pickle.load(open('as.dump'))\n",
    "b_trfs = pickle.load(open('bs.dump'))"
   ]
  },
  {
   "cell_type": "code",
   "execution_count": null,
   "metadata": {
    "collapsed": false
   },
   "outputs": [],
   "source": [
    "rob_motors = [vsr.Vec(*pos).trs() * vsr.Rot(vsr.Vec(*axis).unduale() * angle / 2.)\n",
    "              for pos, (axis, angle) in [(m3d.Transform(pose).pos, \n",
    "                                          m3d.Transform(pose).orient.axis_angle)\n",
    "                                         for pose in rob_pose_list]]\n",
    "obj_motors = [vsr.Vec(*pos).trs() * vsr.Rot(vsr.Vec(*axis).unduale() * angle / 2.)\n",
    "              for pos, (axis, angle) in [(m3d.Transform(pose).pos, \n",
    "                                          m3d.Transform(pose).orient.axis_angle)\n",
    "                                         for pose in obj_pose_list]]"
   ]
  },
  {
   "cell_type": "code",
   "execution_count": null,
   "metadata": {
    "collapsed": false
   },
   "outputs": [],
   "source": [
    "n_lines = len(rob_motors)\n",
    "lines_a = []\n",
    "lines_b = []\n",
    "for i in range(n_lines):\n",
    "    for j in range(i+1,n_lines):\n",
    "        lines_a.append(((rob_motors[j].rev() * rob_motors[i]).log() * 0.5).unit())\n",
    "        lines_b.append(((obj_motors[j].rev() * obj_motors[i]).log() * 0.5).unit())"
   ]
  },
  {
   "cell_type": "code",
   "execution_count": null,
   "metadata": {
    "collapsed": false
   },
   "outputs": [],
   "source": [
    "n_lines = len(a_trfs)\n",
    "motors_a = [vsr.Vec(*pos).trs() * vsr.Rot(vsr.Vec(*axis).unduale() * angle / 2.)\n",
    "              for pos, (axis, angle) in [(m3d.Transform(pose).pos, \n",
    "                                          m3d.Transform(pose).orient.axis_angle)\n",
    "                                         for pose in a_trfs]]\n",
    "motors_b = [vsr.Vec(*pos).trs() * vsr.Rot(vsr.Vec(*axis).unduale() * angle / 2.)\n",
    "              for pos, (axis, angle) in [(m3d.Transform(pose).pos, \n",
    "                                          m3d.Transform(pose).orient.axis_angle)\n",
    "                                         for pose in b_trfs]]\n",
    "lines_a = [motor.log() for motor in motors_a]\n",
    "lines_b = [motor.log() for motor in motors_b]"
   ]
  },
  {
   "cell_type": "markdown",
   "metadata": {},
   "source": [
    "#### Estimate hand-eye motor"
   ]
  },
  {
   "cell_type": "code",
   "execution_count": null,
   "metadata": {
    "collapsed": false
   },
   "outputs": [],
   "source": [
    "mes = MotorEstimationSolver(initial_motor)\n",
    "for a, b in zip(lines_a, lines_b):\n",
    "    mes.add_line_correspondences_residual_block(b,a)\n",
    "#     mes.add_line_angle_distance_residual_block(b,a)\n",
    "mes.set_parameterization('BIVECTOR_GENERATOR')\n",
    "mes.linear_solver_type = \"DENSE_QR\"\n",
    "mes.max_num_iterations = 25\n",
    "mes.function_tolerance = 1e-12\n",
    "estimated_motor, summary = mes.solve()\n",
    "print(summary['full_report'])"
   ]
  },
  {
   "cell_type": "code",
   "execution_count": null,
   "metadata": {
    "collapsed": false
   },
   "outputs": [],
   "source": [
    "print(estimated_motor)\n",
    "print(m3d.Transform(estimated_motor.matrix()))"
   ]
  },
  {
   "cell_type": "markdown",
   "metadata": {
    "collapsed": true
   },
   "source": [
    "#### Combination of estimates"
   ]
  },
  {
   "cell_type": "code",
   "execution_count": null,
   "metadata": {
    "collapsed": false
   },
   "outputs": [],
   "source": [
    "bivectors = [np.array((r * estimated_motor * o.rev()).log()) \n",
    "             for r, o in zip(rob_motors, obj_motors)]\n",
    "m = vsr.Dll(*np.average(bivectors,0)).exp()\n",
    "print(m3d.Transform(m.matrix()))"
   ]
  },
  {
   "cell_type": "markdown",
   "metadata": {},
   "source": [
    "#### Tsai Lenz Solver"
   ]
  },
  {
   "cell_type": "code",
   "execution_count": null,
   "metadata": {
    "collapsed": true
   },
   "outputs": [],
   "source": [
    "from tsai_lens_calibration import TsaiLenzCalibrator"
   ]
  },
  {
   "cell_type": "code",
   "execution_count": null,
   "metadata": {
    "collapsed": false
   },
   "outputs": [],
   "source": [
    "pose_pairs = [(m3d.Transform(A), m3d.Transform(B)) \n",
    "              for (A, B)  in zip(rob_pose_list, obj_pose_list)]\n",
    "tsai_lens = TsaiLenzCalibrator(pose_pairs)\n",
    "tsai_lens.sensor_in_flange"
   ]
  },
  {
   "cell_type": "markdown",
   "metadata": {},
   "source": [
    "#### Park Martin Solver"
   ]
  },
  {
   "cell_type": "code",
   "execution_count": 7,
   "metadata": {
    "collapsed": false
   },
   "outputs": [
    {
     "ename": "ImportError",
     "evalue": "No module named 'park_martin'",
     "output_type": "error",
     "traceback": [
      "\u001b[0;31m---------------------------------------------------------------------------\u001b[0m",
      "\u001b[0;31mImportError\u001b[0m                               Traceback (most recent call last)",
      "\u001b[0;32m<ipython-input-7-5835caa81072>\u001b[0m in \u001b[0;36m<module>\u001b[0;34m()\u001b[0m\n\u001b[0;32m----> 1\u001b[0;31m \u001b[0;32mfrom\u001b[0m \u001b[0mpark_martin\u001b[0m \u001b[0;32mimport\u001b[0m \u001b[0mcalibrate\u001b[0m \u001b[0;32mas\u001b[0m \u001b[0mpark_martin_calibration\u001b[0m\u001b[0;34m\u001b[0m\u001b[0m\n\u001b[0m\u001b[1;32m      2\u001b[0m \u001b[0mA\u001b[0m\u001b[0;34m,\u001b[0m \u001b[0mB\u001b[0m \u001b[0;34m=\u001b[0m \u001b[0;34m[\u001b[0m\u001b[0;34m]\u001b[0m\u001b[0;34m,\u001b[0m \u001b[0;34m[\u001b[0m\u001b[0;34m]\u001b[0m\u001b[0;34m\u001b[0m\u001b[0m\n\u001b[1;32m      3\u001b[0m \u001b[0mn_trfs\u001b[0m \u001b[0;34m=\u001b[0m \u001b[0mlen\u001b[0m\u001b[0;34m(\u001b[0m\u001b[0mrob_pose_list\u001b[0m\u001b[0;34m)\u001b[0m\u001b[0;34m\u001b[0m\u001b[0m\n\u001b[1;32m      4\u001b[0m \u001b[0;32mfor\u001b[0m \u001b[0mi\u001b[0m \u001b[0;32min\u001b[0m \u001b[0mrange\u001b[0m\u001b[0;34m(\u001b[0m\u001b[0mn_trfs\u001b[0m\u001b[0;34m)\u001b[0m\u001b[0;34m:\u001b[0m\u001b[0;34m\u001b[0m\u001b[0m\n\u001b[1;32m      5\u001b[0m     \u001b[0;32mfor\u001b[0m \u001b[0mj\u001b[0m \u001b[0;32min\u001b[0m \u001b[0mrange\u001b[0m\u001b[0;34m(\u001b[0m\u001b[0mi\u001b[0m\u001b[0;34m+\u001b[0m\u001b[0;36m1\u001b[0m\u001b[0;34m,\u001b[0m \u001b[0mn_trfs\u001b[0m\u001b[0;34m)\u001b[0m\u001b[0;34m:\u001b[0m\u001b[0;34m\u001b[0m\u001b[0m\n",
      "\u001b[0;31mImportError\u001b[0m: No module named 'park_martin'"
     ]
    }
   ],
   "source": [
    "from park_martin import calibrate as park_martin_calibration\n",
    "A, B = [], []\n",
    "n_trfs = len(rob_pose_list)\n",
    "for i in range(n_trfs):\n",
    "    for j in range(i+1, n_trfs):\n",
    "        A.append((m3d.Transform(rob_pose_list[j]).inverse * m3d.Transform(rob_pose_list[i])).array)\n",
    "        B.append((m3d.Transform(obj_pose_list[j]).inverse * m3d.Transform(obj_pose_list[i])).array)\n",
    "R,t = park_martin_calibration(A,B)\n",
    "print(m3d.Transform(R,t))"
   ]
  },
  {
   "cell_type": "code",
   "execution_count": null,
   "metadata": {
    "collapsed": false
   },
   "outputs": [],
   "source": [
    "def daniilidis(LAs, LBs):\n",
    "    def skew(v):\n",
    "        skv = roll(roll(diag(v.flatten()), 1, 1), -1, 0)\n",
    "        return skv - skv.T\n",
    "    \n",
    "    Ds = []\n",
    "    for LA, LB in zip(LAs, LBs):\n",
    "        LA = LA.unit()\n",
    "        LB = LB.unit()\n",
    "        D = np.zeros((6,8))\n",
    "        a = np.array(LA).copy()[:3]\n",
    "        a = np.array([a[2], -a[1], a[0]])\n",
    "        b = np.array(LB).copy()[:3]\n",
    "        b = np.array([b[2], -b[1], b[0]])\n",
    "        aprime = np.array(LA).copy()[3:]\n",
    "        bprime = np.array(LB).copy()[3:]\n",
    "        # Upper 3\n",
    "        D[:3,0] = a - b\n",
    "        D[:3,1:4] = skew(a + b)\n",
    "        # Lower 3\n",
    "        D[3:,0] = aprime - bprime\n",
    "        D[3:,1:4] = skew(aprime + bprime)\n",
    "        D[3:,4] = a - b \n",
    "        D[3:,5:8] = skew(a + b)  \n",
    "        Ds.append(D)\n",
    "    Ds = np.array(Ds).reshape(-1,8)\n",
    "    \n",
    "    [U, s, Vt] = np.linalg.svd(Ds)\n",
    "    v7 = Vt.T[:,-2]\n",
    "    v8 = Vt.T[:,-1]\n",
    "    u1 = v7[:4]\n",
    "    v1 = v7[4:]\n",
    "    u2 = v8[:4]\n",
    "    v2 = v8[4:]\n",
    "    \n",
    "    a = np.inner(u1,v1)\n",
    "    b = np.inner(u1,v2) + np.inner(u2,v1)\n",
    "    c = np.inner(u2,v2)\n",
    "    [s1, s2] = np.roots([a,b,c])\n",
    "    \n",
    "    val1 = (s1**2 * np.inner(u1,u1)) + (2 * s1 * np.inner(u1,u2)) + (np.inner(u2,u2))\n",
    "    val2 = (s2**2 * np.inner(u1,u1)) + (2 * s2 * np.inner(u1,u2)) + (np.inner(u2,u2))\n",
    "\n",
    "    if val1 > val2:\n",
    "        s = s1\n",
    "        val = val1\n",
    "    else:\n",
    "        s = s2\n",
    "        val = val2\n",
    "\n",
    "    lambda2 = np.sqrt(1./val)\n",
    "    lambda1 = s * lambda2\n",
    "    \n",
    "    m_arr = lambda1 * v7 + lambda2 * v8\n",
    "    m_arr[1:4] = np.array([m_arr[3], -m_arr[2], m_arr[1]])\n",
    "    m_arr[4:8] = np.roll(m_arr[4:8], -1)\n",
    "    \n",
    "    print(Ds)\n",
    "    \n",
    "    return vsr.Mot(*m_arr)"
   ]
  },
  {
   "cell_type": "code",
   "execution_count": null,
   "metadata": {
    "collapsed": false
   },
   "outputs": [],
   "source": [
    "daniilidis_motor = daniilidis(lines_b, lines_a)"
   ]
  },
  {
   "cell_type": "code",
   "execution_count": null,
   "metadata": {
    "collapsed": false
   },
   "outputs": [],
   "source": [
    "print(m3d.Transform(daniilidis_motor.matrix()))"
   ]
  },
  {
   "cell_type": "code",
   "execution_count": null,
   "metadata": {
    "collapsed": false
   },
   "outputs": [],
   "source": [
    "print(estimated_motor * estimated_motor.rev())\n",
    "print(daniilidis_motor * daniilidis_motor.rev())"
   ]
  },
  {
   "cell_type": "code",
   "execution_count": null,
   "metadata": {
    "collapsed": false
   },
   "outputs": [],
   "source": [
    "bivectors = [np.array((r * daniilidis_motor * o.rev()).log()) \n",
    "             for r, o in zip(rob_motors, obj_motors)]\n",
    "m = vsr.Dll(*np.average(bivectors,0)).exp()\n",
    "print(m3d.Transform(m.matrix()))"
   ]
  },
  {
   "cell_type": "code",
   "execution_count": null,
   "metadata": {
    "collapsed": true
   },
   "outputs": [],
   "source": []
  },
  {
   "cell_type": "code",
   "execution_count": null,
   "metadata": {
    "collapsed": true
   },
   "outputs": [],
   "source": []
  }
 ],
 "metadata": {
  "anaconda-cloud": {},
  "kernelspec": {
   "display_name": "Python [default]",
   "language": "python",
   "name": "python3"
  },
  "language_info": {
   "codemirror_mode": {
    "name": "ipython",
    "version": 3
   },
   "file_extension": ".py",
   "mimetype": "text/x-python",
   "name": "python",
   "nbconvert_exporter": "python",
   "pygments_lexer": "ipython3",
   "version": "3.5.2"
  }
 },
 "nbformat": 4,
 "nbformat_minor": 0
}
