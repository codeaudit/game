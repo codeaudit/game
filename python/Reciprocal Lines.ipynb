{
 "cells": [
  {
   "cell_type": "code",
   "execution_count": 132,
   "metadata": {
    "collapsed": false
   },
   "outputs": [
    {
     "name": "stdout",
     "output_type": "stream",
     "text": [
      "Populating the interactive namespace from numpy and matplotlib\n"
     ]
    },
    {
     "name": "stderr",
     "output_type": "stream",
     "text": [
      "/Users/lars/anaconda3/lib/python3.5/site-packages/IPython/core/magics/pylab.py:161: UserWarning: pylab import has clobbered these variables: ['Inf']\n",
      "`%matplotlib` prevents importing * from pylab and numpy\n",
      "  \"\\n`%matplotlib` prevents importing * from pylab and numpy\"\n"
     ]
    }
   ],
   "source": [
    "from __future__ import print_function\n",
    "import sys\n",
    "sys.path.append('../build/')\n",
    "%pylab inline\n",
    "np.set_printoptions(precision=4, suppress=True)\n",
    "import versor as vsr\n",
    "from versor.drawing import *"
   ]
  },
  {
   "cell_type": "code",
   "execution_count": 177,
   "metadata": {
    "collapsed": false
   },
   "outputs": [],
   "source": [
    "zero = vsr.CGA(*[0]*32)\n",
    "one = vsr.CGA(*[0]*32); one[0] = 1\n",
    "ni = vsr.CGA(*[0]*32); ni[5] = 1\n",
    "no = vsr.CGA(*[0]*32); no[4] = 1\n",
    "E = no ^ ni\n",
    "e1 = vsr.CGA(vsr.Vec(1,0,0))\n",
    "e2 = vsr.CGA(vsr.Vec(0,1,0))\n",
    "e3 = vsr.CGA(vsr.Vec(0,0,1))\n",
    "I3 = e1 * e2 * e3\n",
    "I = no * I3 * ni\n",
    "epsr = I3 * no\n",
    "e1nir= (-1)**1 * (e2 ^ e3 ^ no) <= I.inv()\n",
    "e2nir= (-1)**2 * (e1 ^ e3 ^ no) <= I.inv()\n",
    "e3nir= (-1)**3 * (e1 ^ e2 ^ no) <= I.inv()"
   ]
  },
  {
   "cell_type": "code",
   "execution_count": 180,
   "metadata": {
    "collapsed": false
   },
   "outputs": [
    {
     "data": {
      "text/plain": [
       "CGA: [ 0 1 1 1 -1 -1 0 0 0 0 0 0 0 0 0 0 0 0 0 0 0 0 0 0 0 0 0 0 0 0 0 0 ]"
      ]
     },
     "execution_count": 180,
     "metadata": {},
     "output_type": "execute_result"
    }
   ],
   "source": [
    "e1r = (-1)**0 * (e2 ^ e3 ^ no ^ ni) <= I.inv()\n",
    "e2r = (-1)**1 * (e1 ^ e3 ^ no ^ ni) <= I.inv()\n",
    "e3r = (-1)**2 * (e1 ^ e2 ^ no ^ ni) <= I.inv()\n",
    "nor = (-1)**3 * (e1 ^ e2 ^ e3 ^ ni) <= I.inv()\n",
    "nir = (-1)**4 * (e1 ^ e2 ^ e3 ^ no) <= I.inv()\n",
    "e1r + e2r + e3r + nor + nir"
   ]
  },
  {
   "cell_type": "code",
   "execution_count": 181,
   "metadata": {
    "collapsed": true
   },
   "outputs": [],
   "source": [
    "def cga_reciprocal_line(l):\n",
    "    A = l.biv()\n",
    "    b = l.drv().vec()\n",
    "    return vsr.CGA(A.rev()) + b[0] * e1nir + b[1] * e2nir + b[2] * e3nir"
   ]
  },
  {
   "cell_type": "code",
   "execution_count": 182,
   "metadata": {
    "collapsed": true
   },
   "outputs": [],
   "source": [
    "def cga_reciprocal_motor(m):\n",
    "    s = m[0] * one\n",
    "    A = m[1] * e2 * e1 + m[2] * e3 * e1 + m[3] * e3 * e2\n",
    "    b = m[4] * e1nir + m[5] * e2nir + m[6] * e3nir\n",
    "    ps = m[7] * I3.rev() * no    \n",
    "    mr = s + A + b + ps\n",
    "    return mr"
   ]
  },
  {
   "cell_type": "code",
   "execution_count": 183,
   "metadata": {
    "collapsed": false
   },
   "outputs": [
    {
     "data": {
      "text/plain": [
       "CGA: [ 0.87 0 0 0 0 0 -0.13 -0.27 -0.4 0 0 0 -0.16 -0.22 -0.12 0 0 0 0 0 0 0 0 0 0 0 0 0.021 0 0 0 0 ]"
      ]
     },
     "execution_count": 183,
     "metadata": {},
     "output_type": "execute_result"
    }
   ],
   "source": [
    "cga_motor"
   ]
  },
  {
   "cell_type": "code",
   "execution_count": 184,
   "metadata": {
    "collapsed": false
   },
   "outputs": [
    {
     "data": {
      "text/plain": [
       "CGA: [ 0.87 0 0 0 0 0 0.13 0.27 0.4 -0.16 -0.22 -0.12 0 0 0 0 0 0 0 0 0 0 0 0 0 0 -0.021 0 0 0 0 0 ]"
      ]
     },
     "execution_count": 184,
     "metadata": {},
     "output_type": "execute_result"
    }
   ],
   "source": [
    "cga_reciprocal_motor(motor)"
   ]
  },
  {
   "cell_type": "code",
   "execution_count": 185,
   "metadata": {
    "collapsed": false
   },
   "outputs": [
    {
     "data": {
      "text/plain": [
       "CGA: [ 0 0 0 0 0 0 0.36 -0.45 -0.82 0.17 -0.11 0.54 0 0 0 0 0 0 0 0 0 0 0 0 0 0 0 0 0 0 0 0 ]"
      ]
     },
     "execution_count": 185,
     "metadata": {},
     "output_type": "execute_result"
    }
   ],
   "source": [
    "cga_reciprocal_motor(motor) * cga_l1r * cga_reciprocal_motor(motor).rev()"
   ]
  },
  {
   "cell_type": "code",
   "execution_count": 186,
   "metadata": {
    "collapsed": false
   },
   "outputs": [
    {
     "data": {
      "text/plain": [
       "CGA: [ 0 0 0 0 0 0 0.57 -0.017 0.82 0 0 0 0.17 0.3 -0.26 0 0 0 0 0 0 0 0 0 0 0 0 0 0 0 0 0 ]"
      ]
     },
     "execution_count": 186,
     "metadata": {},
     "output_type": "execute_result"
    }
   ],
   "source": [
    "cga_motor * cga_l1 * cga_motor.rev()"
   ]
  },
  {
   "cell_type": "code",
   "execution_count": null,
   "metadata": {
    "collapsed": true
   },
   "outputs": [],
   "source": []
  },
  {
   "cell_type": "code",
   "execution_count": 187,
   "metadata": {
    "collapsed": true
   },
   "outputs": [],
   "source": [
    "def cga_squared_norm(a,b):\n",
    "    return (a * b)[0]"
   ]
  },
  {
   "cell_type": "code",
   "execution_count": null,
   "metadata": {
    "collapsed": true
   },
   "outputs": [],
   "source": []
  },
  {
   "cell_type": "code",
   "execution_count": 188,
   "metadata": {
    "collapsed": false
   },
   "outputs": [],
   "source": [
    "delta = 0.6\n",
    "theta = pi/6\n",
    "motor = (vsr.Vec(1,2,3).unit() * delta ).trs() * vsr.Rot(vsr.Biv(1,2,3).unit() * theta)\n",
    "cga_motor = vsr.CGA(motor)\n",
    "cga_motor_r = cga_reciprocal_motor(motor)"
   ]
  },
  {
   "cell_type": "code",
   "execution_count": 211,
   "metadata": {
    "collapsed": true
   },
   "outputs": [],
   "source": [
    "l1 = vsr.Dll(vsr.Vec(0,0,0).null(), vsr.Vec(1,0,0).unit())\n",
    "cga_l1r = cga_reciprocal_line(l1)\n",
    "cga_l1 = vsr.CGA(l1)\n",
    "l2 = l1.spin(motor)\n",
    "cga_l2r = cga_reciprocal_line(l2)\n",
    "cga_l2 = vsr.CGA(l2)"
   ]
  },
  {
   "cell_type": "code",
   "execution_count": 221,
   "metadata": {
    "collapsed": true
   },
   "outputs": [],
   "source": [
    "m = motor"
   ]
  },
  {
   "cell_type": "code",
   "execution_count": 222,
   "metadata": {
    "collapsed": false
   },
   "outputs": [
    {
     "ename": "NameError",
     "evalue": "name 'e12' is not defined",
     "output_type": "error",
     "traceback": [
      "\u001b[0;31m---------------------------------------------------------------------------\u001b[0m",
      "\u001b[0;31mNameError\u001b[0m                                 Traceback (most recent call last)",
      "\u001b[0;32m<ipython-input-222-cfc1ffb823f2>\u001b[0m in \u001b[0;36m<module>\u001b[0;34m()\u001b[0m\n\u001b[0;32m----> 1\u001b[0;31m \u001b[0me12\u001b[0m\u001b[0;34m\u001b[0m\u001b[0m\n\u001b[0m",
      "\u001b[0;31mNameError\u001b[0m: name 'e12' is not defined"
     ]
    }
   ],
   "source": [
    "e12"
   ]
  },
  {
   "cell_type": "code",
   "execution_count": 227,
   "metadata": {
    "collapsed": false
   },
   "outputs": [],
   "source": [
    "M = np.array([np.array(vsr.Mot(m[0],0,0,0,0,0,0,0,) * l1),\n",
    "             np.array(vsr.Mot(0,m[1],0,0,0,0,0,0,) * l1),\n",
    "                np.array(vsr.Mot(0,0,m[2],0,0,0,0,0,) * l1),\n",
    "                   np.array(vsr.Mot(0,0,0,m[3],0,0,0,0,) * l1),\n",
    "                      np.array(vsr.Mot(0,0,0,0,m[4],0,0,0,) * l1),\n",
    "                         np.array(vsr.Mot(0,0,0,0,0,m[5],0,0,) * l1),\n",
    "                            np.array(vsr.Mot(0,0,0,0,0,0,m[6],0) * l1),\n",
    "                               np.array(vsr.Mot(0,0,0,0,0,0,0,m[7]) * l1)])"
   ]
  },
  {
   "cell_type": "code",
   "execution_count": 231,
   "metadata": {
    "collapsed": false
   },
   "outputs": [
    {
     "data": {
      "text/plain": [
       "array([ 0.1607,  0.0714, -0.0179,  0.75  , -0.0005,  0.015 , -0.0504,\n",
       "       -0.0241])"
      ]
     },
     "execution_count": 231,
     "metadata": {},
     "output_type": "execute_result"
    }
   ],
   "source": [
    "np.dot(M.T, motor.rev())"
   ]
  },
  {
   "cell_type": "code",
   "execution_count": 232,
   "metadata": {
    "collapsed": false
   },
   "outputs": [
    {
     "data": {
      "text/plain": [
       "Dll: [ 0.5701 -0.01717 0.8214 0.1746 0.3038 -0.2607 ]"
      ]
     },
     "execution_count": 232,
     "metadata": {},
     "output_type": "execute_result"
    }
   ],
   "source": [
    "l2"
   ]
  },
  {
   "cell_type": "code",
   "execution_count": 190,
   "metadata": {
    "collapsed": false
   },
   "outputs": [
    {
     "name": "stdout",
     "output_type": "stream",
     "text": [
      "CGA: [ 0 0 0 0 0 0 0.57 -0.017 -0.18 0 0 0 0.17 0.3 -0.26 0 0 0 0 0 0 0 0 0 0 0 0 0 0 0 0 0 ]\n",
      "CGA: [ 0 0 0 0 0 0 -0.57 0.017 0.18 0.17 0.3 -0.26 0 0 0 0 0 0 0 0 0 0 0 0 0 0 0 0 0 0 0 0 ]\n",
      "CGA: [ 0 0 0 0 0 0 -0.57 0.017 0.18 0.17 0.3 -0.26 0 0 0 0 0 0 0 0 0 0 0 0 0 0 0 0 0 0 0 0 ]\n"
     ]
    }
   ],
   "source": [
    "cga_Sd = cga_l2 - cga_l1; print(cga_S)\n",
    "cga_Sdr = cga_l2r - cga_l1r; print(cga_Sr)\n",
    "print(cga_reciprocal_line(l2 - l1))"
   ]
  },
  {
   "cell_type": "code",
   "execution_count": 192,
   "metadata": {
    "collapsed": false
   },
   "outputs": [
    {
     "name": "stdout",
     "output_type": "stream",
     "text": [
      "CGA: [ 0.82 0 0 0 0 0 0 0 0 0 0 0 0 0 0 0 0 0 0 0 0 0 0 0 0 0 0 0 0 0 0 0 ]\n"
     ]
    }
   ],
   "source": [
    "print(cga_l1 <= cga_l2r)"
   ]
  },
  {
   "cell_type": "code",
   "execution_count": 196,
   "metadata": {
    "collapsed": false
   },
   "outputs": [
    {
     "data": {
      "text/plain": [
       "CGA: [ 1.2 0 0 0 0 0 0 0 0 0 0 0 0 0 0 0 0 0 0 0 0 0 0 0 0 0 0 0 0 0 0 0 ]"
      ]
     },
     "execution_count": 196,
     "metadata": {},
     "output_type": "execute_result"
    }
   ],
   "source": [
    "cga_l2 <= cga_l2r"
   ]
  },
  {
   "cell_type": "code",
   "execution_count": 199,
   "metadata": {
    "collapsed": false
   },
   "outputs": [
    {
     "data": {
      "text/plain": [
       "CGA: [ 0.55 0 0 0 0 0 0 0 0 0 0 0 0 0 0 0 0 0 0 0 0 0 0 0 0 0 0 0 0 0 0 0 ]"
      ]
     },
     "execution_count": 199,
     "metadata": {},
     "output_type": "execute_result"
    }
   ],
   "source": [
    "(cga_l2 - cga_l1)<=(cga_l2r - cga_l1r)"
   ]
  },
  {
   "cell_type": "code",
   "execution_count": 195,
   "metadata": {
    "collapsed": false
   },
   "outputs": [
    {
     "data": {
      "text/plain": [
       "CGA: [ 0.55 0 0 0 0 0 0 0 0 0.18 -0.053 0.057 0.18 -0.053 0.057 0.19 0 0 0 0 0 0 0 0 0 0 -0.17 0.17 0 0 0 0 ]"
      ]
     },
     "execution_count": 195,
     "metadata": {},
     "output_type": "execute_result"
    }
   ],
   "source": [
    "cga_l1 * cga_l1r - cga_l1 * cga_l2r - cga_l2 * cga_l1r + cga_l2 * cga_l2r"
   ]
  },
  {
   "cell_type": "code",
   "execution_count": 201,
   "metadata": {
    "collapsed": false
   },
   "outputs": [
    {
     "data": {
      "text/plain": [
       "CGA: [ 1.2 0 0 0 0 0 0 0 0 0 0 0 0 0 0 0 0 0 0 0 0 0 0 0 0 0 0 0 0 0 0 0 ]"
      ]
     },
     "execution_count": 201,
     "metadata": {},
     "output_type": "execute_result"
    }
   ],
   "source": [
    "cga_l2<=cga_l2r"
   ]
  },
  {
   "cell_type": "code",
   "execution_count": 210,
   "metadata": {
    "collapsed": false
   },
   "outputs": [
    {
     "ename": "TypeError",
     "evalue": "__le__(): incompatible function arguments. The following argument types are supported:\n    1. (self: versor_pybind11.CGA, arg0: versor_pybind11.CGA) -> versor_pybind11.CGA\n\nInvoked with: CGA: [ 0 0 0 0 0 0 0.57 -0.017 0.82 0 0 0 0.17 0.3 -0.26 0 0 0 0 0 0 0 0 0 0 0 0 0 0 0 0 0 ], None",
     "output_type": "error",
     "traceback": [
      "\u001b[0;31m---------------------------------------------------------------------------\u001b[0m",
      "\u001b[0;31mTypeError\u001b[0m                                 Traceback (most recent call last)",
      "\u001b[0;32m<ipython-input-210-30bff46b5fef>\u001b[0m in \u001b[0;36m<module>\u001b[0;34m()\u001b[0m\n\u001b[0;32m----> 1\u001b[0;31m \u001b[0mcga_l2\u001b[0m \u001b[0;34m<=\u001b[0m  \u001b[0mreciprocal_line\u001b[0m\u001b[0;34m(\u001b[0m\u001b[0;34m(\u001b[0m\u001b[0mmotor\u001b[0m \u001b[0;34m*\u001b[0m \u001b[0ml1\u001b[0m \u001b[0;34m*\u001b[0m \u001b[0mmotor\u001b[0m\u001b[0;34m.\u001b[0m\u001b[0mrev\u001b[0m\u001b[0;34m(\u001b[0m\u001b[0;34m)\u001b[0m\u001b[0;34m)\u001b[0m\u001b[0;34m.\u001b[0m\u001b[0mdll\u001b[0m\u001b[0;34m(\u001b[0m\u001b[0;34m)\u001b[0m\u001b[0;34m)\u001b[0m\u001b[0;34m\u001b[0m\u001b[0m\n\u001b[0m",
      "\u001b[0;31mTypeError\u001b[0m: __le__(): incompatible function arguments. The following argument types are supported:\n    1. (self: versor_pybind11.CGA, arg0: versor_pybind11.CGA) -> versor_pybind11.CGA\n\nInvoked with: CGA: [ 0 0 0 0 0 0 0.57 -0.017 0.82 0 0 0 0.17 0.3 -0.26 0 0 0 0 0 0 0 0 0 0 0 0 0 0 0 0 0 ], None"
     ]
    }
   ],
   "source": [
    "cga_l2 <=  reciprocal_line((motor * l1 * motor.rev()).dll())"
   ]
  },
  {
   "cell_type": "code",
   "execution_count": 129,
   "metadata": {
    "collapsed": false
   },
   "outputs": [
    {
     "data": {
      "text/plain": [
       "CGA: [ -1.6 -0 -0 -0 -0 -0 0 0 -0 -0 0.26 0.3 -0 0.26 0.3 -0 -0 -0 -0 -0 -0 -0 -0 -0 -0 -0 -0.17 0.17 -0 -0 -0 -0 ]"
      ]
     },
     "execution_count": 129,
     "metadata": {},
     "output_type": "execute_result"
    }
   ],
   "source": [
    "(cga_l1 * cga_l2r *  -1.0) - cga_l2 * cga_l1r"
   ]
  },
  {
   "cell_type": "code",
   "execution_count": 130,
   "metadata": {
    "collapsed": false
   },
   "outputs": [
    {
     "data": {
      "text/plain": [
       "0.547840622407381"
      ]
     },
     "execution_count": 130,
     "metadata": {},
     "output_type": "execute_result"
    }
   ],
   "source": [
    "(cga_Sd * cga_Sdr)[0]"
   ]
  },
  {
   "cell_type": "code",
   "execution_count": 127,
   "metadata": {
    "collapsed": false
   },
   "outputs": [
    {
     "data": {
      "text/plain": [
       "0.54784062240738096"
      ]
     },
     "execution_count": 127,
     "metadata": {},
     "output_type": "execute_result"
    }
   ],
   "source": [
    "np.inner(cga_Sd, cga_Sd)"
   ]
  },
  {
   "cell_type": "code",
   "execution_count": 128,
   "metadata": {
    "collapsed": false
   },
   "outputs": [
    {
     "data": {
      "text/plain": [
       "0.54784062240738096"
      ]
     },
     "execution_count": 128,
     "metadata": {},
     "output_type": "execute_result"
    }
   ],
   "source": [
    "np.inner(l2-l1, l2-l1)"
   ]
  },
  {
   "cell_type": "code",
   "execution_count": 156,
   "metadata": {
    "collapsed": false
   },
   "outputs": [
    {
     "name": "stdout",
     "output_type": "stream",
     "text": [
      "CGA: [ 0 0 0 0 0 0 -0.017 -0.57 0 0 0 0 0 -0.26 -0.3 0 0 0 0 0 0 0 0 0 0 0 0 0 0 0 0 0 ]\n",
      "CGA: [ 0 0 0 0 0 0 0.017 0.57 0 0 -0.26 -0.3 0 0 0 0 0 0 0 0 0 0 0 0 0 0 0 0 0 0 0 0 ]\n"
     ]
    }
   ],
   "source": [
    "cga_Sc = vsr.CGA(l2.comm(l1.rev())); print(cga_Sc)\n",
    "cga_Scr = cga_reciprocal_line(l2.comm(l1.rev())); print(cga_Scr)"
   ]
  },
  {
   "cell_type": "code",
   "execution_count": 157,
   "metadata": {
    "collapsed": false
   },
   "outputs": [
    {
     "data": {
      "text/plain": [
       "CGA: [ 0.49 0 0 0 0 0 0 0 0 0 0 0 0 0 0 0 0 0 0 0 0 0 0 0 0 0 0 0 0 0 0 0 ]"
      ]
     },
     "execution_count": 157,
     "metadata": {},
     "output_type": "execute_result"
    }
   ],
   "source": [
    "cga_Sc <= cga_Scr"
   ]
  },
  {
   "cell_type": "code",
   "execution_count": 158,
   "metadata": {
    "collapsed": false
   },
   "outputs": [
    {
     "data": {
      "text/plain": [
       "0.48548027261980015"
      ]
     },
     "execution_count": 158,
     "metadata": {},
     "output_type": "execute_result"
    }
   ],
   "source": [
    "np.inner(l2.comm(l1.rev()),l2.comm(l1.rev()))"
   ]
  },
  {
   "cell_type": "code",
   "execution_count": 159,
   "metadata": {
    "collapsed": false
   },
   "outputs": [
    {
     "data": {
      "text/plain": [
       "CGA: [ 1.2 0 0 0 0 0 0 0 0 -0.18 0.31 0.25 -0.18 0.31 0.25 -0.19 0 0 0 0 0 0 0 0 0 0 0 0 0 0 0 0 ]"
      ]
     },
     "execution_count": 159,
     "metadata": {},
     "output_type": "execute_result"
    }
   ],
   "source": [
    "cga_reciprocal_line(l2) * vsr.CGA(l2)"
   ]
  },
  {
   "cell_type": "code",
   "execution_count": 160,
   "metadata": {
    "collapsed": false
   },
   "outputs": [
    {
     "data": {
      "text/plain": [
       "1.1906977652645241"
      ]
     },
     "execution_count": 160,
     "metadata": {},
     "output_type": "execute_result"
    }
   ],
   "source": [
    "np.inner(l2,l2)"
   ]
  },
  {
   "cell_type": "code",
   "execution_count": 161,
   "metadata": {
    "collapsed": false
   },
   "outputs": [
    {
     "data": {
      "text/plain": [
       "CGA: [ 1 0 0 0 0 0 0 0 0 0 0 0 0 0 0 0 0 0 0 0 0 0 0 0 0 0 0 0 0 0 0 0 ]"
      ]
     },
     "execution_count": 161,
     "metadata": {},
     "output_type": "execute_result"
    }
   ],
   "source": [
    "cga_reciprocal_line(l1) * vsr.CGA(l1)"
   ]
  },
  {
   "cell_type": "code",
   "execution_count": 162,
   "metadata": {
    "collapsed": false
   },
   "outputs": [
    {
     "data": {
      "text/plain": [
       "CGA: [ 0 0 0 0 0 0 0.57 -0.017 0.82 0 0 0 0.17 0.3 -0.26 0 0 0 0 0 0 0 0 0 0 0 0 0 0 0 0 0 ]"
      ]
     },
     "execution_count": 162,
     "metadata": {},
     "output_type": "execute_result"
    }
   ],
   "source": [
    "cga_l1.spin(cga_motor)"
   ]
  },
  {
   "cell_type": "code",
   "execution_count": 165,
   "metadata": {
    "collapsed": false
   },
   "outputs": [
    {
     "data": {
      "text/plain": [
       "CGA: [ 0 0 0 0 0 0 0.36 -0.45 -0.82 0.17 -0.11 0.54 0 0 0 0 0 0 0 0 0 0 0 0 0 0 0 0 0 0 0 0 ]"
      ]
     },
     "execution_count": 165,
     "metadata": {},
     "output_type": "execute_result"
    }
   ],
   "source": [
    "cga_l1r.spin(cga_motor_r)"
   ]
  },
  {
   "cell_type": "code",
   "execution_count": null,
   "metadata": {
    "collapsed": true
   },
   "outputs": [],
   "source": []
  }
 ],
 "metadata": {
  "anaconda-cloud": {},
  "kernelspec": {
   "display_name": "Python [default]",
   "language": "python",
   "name": "python3"
  },
  "language_info": {
   "codemirror_mode": {
    "name": "ipython",
    "version": 3
   },
   "file_extension": ".py",
   "mimetype": "text/x-python",
   "name": "python",
   "nbconvert_exporter": "python",
   "pygments_lexer": "ipython3",
   "version": "3.5.2"
  }
 },
 "nbformat": 4,
 "nbformat_minor": 1
}
