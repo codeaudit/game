{
 "cells": [
  {
   "cell_type": "code",
   "execution_count": 1,
   "metadata": {},
   "outputs": [],
   "source": [
    "import sys\n",
    "sys.path.append('../build/')\n",
    "%pylab inline\n",
    "np.set_printoptions(precision=4, suppress=True)\n",
    "from motor_estimation import MotorEstimationSolver\n",
    "import pandas as pd\n",
    "import linear_solver\n",
    "import versor as vsr"
   ]
  },
  {
   "cell_type": "code",
   "execution_count": 65,
   "metadata": {},
   "outputs": [],
   "source": [
    "import autograd.numpy as np\n",
    "\n",
    "from pymanopt.manifolds import manifold\n",
    "from pymanopt.manifolds import Sphere\n",
    "from pymanopt import Problem\n",
    "from pymanopt.solvers import SteepestDescent, TrustRegions, ParticleSwarm, ConjugateGradient, NelderMead\n",
    "from __future__ import division\n",
    "\n",
    "import numpy as np\n",
    "import numpy.linalg as la\n",
    "import numpy.random as rnd\n",
    "\n",
    "from pymanopt.manifolds.manifold import Manifold"
   ]
  },
  {
   "cell_type": "code",
   "execution_count": 66,
   "metadata": {},
   "outputs": [],
   "source": [
    "def create_rotor(th_lims=(0, np.pi/2)):\n",
    "    rotor = vsr.Rot(vsr.Biv(*np.random.uniform(-1, 1, 3)).unit()\n",
    "                      * np.random.uniform(*th_lims) * -0.5)\n",
    "    return rotor"
   ]
  },
  {
   "cell_type": "code",
   "execution_count": 68,
   "metadata": {},
   "outputs": [],
   "source": [
    "class Motor(Manifold):\n",
    "    def __init__(self):\n",
    "        self._shape = 8\n",
    "        self._name = \"Motor manifold\"\n",
    "\n",
    "    def __str__(self):\n",
    "        return self._name\n",
    "\n",
    "    @property\n",
    "    def dim(self):\n",
    "        return 6\n",
    "    \n",
    "    "
   ]
  },
  {
   "cell_type": "code",
   "execution_count": null,
   "metadata": {
    "collapsed": true
   },
   "outputs": [],
   "source": []
  },
  {
   "cell_type": "code",
   "execution_count": 13,
   "metadata": {},
   "outputs": [],
   "source": [
    "n_points=10\n",
    "\n",
    "m0 = create_rotor(th_lims=(0,np.pi/3))\n",
    "points_a = [vsr.Vec(*np.random.normal(0.0, 0.8, 3)) for i in range(n_points)]\n",
    "points_b = [point.spin(m0) for point in points_a]"
   ]
  },
  {
   "cell_type": "code",
   "execution_count": 41,
   "metadata": {},
   "outputs": [],
   "source": [
    "def costk(a, b, X): \n",
    "    a1, a2, a3 = np.array(a)\n",
    "    b1, b2, b3 = np.array(b)\n",
    "    r0, r1, r2, r3 = X\n",
    "    o0 = a1 * r3 * r3 + (2.0 * a3 * r1 - 2.0 * a2 * r2) * r3 - a1 * r2 * r2 + 2.0 * a3 * r0 * r2 - a1 * r1 * r1 + 2.0 * a2 * r0 * r1 + a1 * r0 * r0 - b1\n",
    "    o1 = (-a2) * r3 * r3 + (2.0 * a3 * r0 - 2.0 * a1 * r2) * r3 + a2 * r2 * r2 - 2.0 * a3 * r1 * r2 - a2 * r1 * r1 - 2.0 * a1 * r0 * r1 + a2 * r0 * r0 - b2\n",
    "    o2 = (-a3) * r3 * r3 + (2.0 * a1 * r1 - 2.0 * a2 * r0) * r3 - a3 * r2 * r2 + (-2.0 * a2 * r1 - 2.0 * a1 * r0) * r2 + a3 * r1 * r1 + a3 * r0 * r0 - b3\n",
    "    return o0 * o0 + o1 * o1 + o2 * o2\n",
    "\n",
    "def costk2(a, b, X):\n",
    "    a1, a2, a3 = np.array(a)\n",
    "    b1, b2, b3 = np.array(b)\n",
    "    r0, r1, r2, r3 = X\n",
    "    return ((a3 * b3 + a2 * b2 - a1 * b1) * r3 * r3 +\n",
    "            ((2.0 * a1 * b2 + 2.0 * a2 * b1) * r2 + \n",
    "             (-2.0 * a1 * b3 - 2.0 * a3 * b1) * r1 + \n",
    "             (2.0 * a2 * b3 - 2.0 * a3 * b2) * r0) * r3 + \n",
    "            (a3 * b3 - a2 * b2 + a1 * b1) * r2 * r2 + \n",
    "            ((2.0 * a2 * b3 + 2.0 * a3 * b2) * r1 + \n",
    "             (2.0 * a1 * b3 - 2.0 * a3 * b1) * r0) * r2 + \n",
    "            ((-a3) * b3 + a2 * b2 + a1 * b1) * r1 * r1 + \n",
    "            (2.0 * a1 * b2 - 2.0 * a2 * b1) * r0 * r1 + \n",
    "            ((-a3) * b3 - a2 * b2 - a1 * b1) * r0 * r0)\n",
    "\n",
    "# (2) Define the cost function (here using autograd.numpy)\n",
    "def cost(X): \n",
    "    return np.sum([costk(a, b, X) for a, b in zip(points_a, points_b)])\n",
    "\n",
    "\n",
    "def cost2(X): \n",
    "    return np.sum([costk2(a, b, X) for a, b in zip(points_a, points_b)])"
   ]
  },
  {
   "cell_type": "code",
   "execution_count": 42,
   "metadata": {
    "collapsed": true
   },
   "outputs": [],
   "source": [
    "# (1) Instantiate a manifold\n",
    "manifold = Sphere(4)"
   ]
  },
  {
   "cell_type": "code",
   "execution_count": 62,
   "metadata": {},
   "outputs": [
    {
     "name": "stdout",
     "output_type": "stream",
     "text": [
      "Compiling cost function...\n",
      "Computing gradient of cost function...\n",
      "Computing Hessian of cost function...\n",
      "Optimizing...\n",
      "                                            f: +3.687262e+00   |grad|: 1.939151e+01\n",
      "acc TR+   k:     1     num_inner:     0     f: +2.323287e-01   |grad|: 5.177993e+00   exceeded trust region\n",
      "acc       k:     2     num_inner:     1     f: +5.099439e-05   |grad|: 8.009882e-02   reached target residual-kappa (linear)\n",
      "acc       k:     3     num_inner:     1     f: +4.433384e-12   |grad|: 2.516520e-05   reached target residual-theta (superlinear)\n",
      "acc       k:     4     num_inner:     2     f: +5.610234e-31   |grad|: 1.116276e-15   reached target residual-theta (superlinear)\n",
      "Terminated - min grad norm reached after 4 iterations, 0.84 seconds.\n",
      "\n",
      "Rot: [ 0.99 -0.1 -0.033 -0.02 ]\n",
      "Rot: [ 1 -1.4e-17 1.3e-17 -6.9e-18 ]\n"
     ]
    }
   ],
   "source": [
    "problem = Problem(manifold=manifold, cost=cost)\n",
    "\n",
    "# (3) Instantiate a Pymanopt solver\n",
    "# solver = SteepestDescent()\n",
    "solver = TrustRegions()\n",
    "# solver = ParticleSwarm()\n",
    "# solver = ConjugateGradient()\n",
    "# solver = NelderMead()\n",
    "\n",
    "\n",
    "# let Pymanopt do the rest\n",
    "Xopt = solver.solve(problem)\n",
    "\n",
    "print(vsr.Rot(*Xopt))\n",
    "print(vsr.Rot(*Xopt).rev() * m0)"
   ]
  },
  {
   "cell_type": "code",
   "execution_count": 38,
   "metadata": {},
   "outputs": [
    {
     "data": {
      "text/plain": [
       "<pymanopt.tools.autodiff._autograd.AutogradBackend at 0x7f32f54cdda0>"
      ]
     },
     "execution_count": 38,
     "metadata": {},
     "output_type": "execute_result"
    }
   ],
   "source": [
    "problem.backend"
   ]
  },
  {
   "cell_type": "code",
   "execution_count": 40,
   "metadata": {},
   "outputs": [
    {
     "name": "stdout",
     "output_type": "stream",
     "text": [
      "Weights found by pymanopt (top) / closed form solution (bottom)\n",
      "[[ 0.92190915 -1.94600466  0.05992358]]\n",
      "[[ 4.96754547]]\n",
      "[[ 0.92190918 -1.94600472  0.05992357]]\n",
      "[ 4.96754568]\n"
     ]
    }
   ],
   "source": [
    "import tensorflow as tf\n",
    "from pymanopt import Problem\n",
    "from pymanopt.solvers import TrustRegions\n",
    "from pymanopt.manifolds import Euclidean, Product\n",
    "# Generate random data\n",
    "X = np.random.randn(3, 100).astype('float32')\n",
    "Y = (X[0:1, :] - 2*X[1:2, :] + np.random.randn(1, 100) + 5).astype(\n",
    "    'float32')\n",
    "\n",
    "# Cost function is the sqaured test error\n",
    "w = tf.Variable(tf.zeros([3, 1]))\n",
    "b = tf.Variable(tf.zeros([1, 1]))\n",
    "cost = tf.reduce_mean(tf.square(Y - tf.matmul(tf.transpose(w), X) - b))\n",
    "\n",
    "# first-order, second-order\n",
    "solver = TrustRegions()\n",
    "\n",
    "# R^3 x R^1\n",
    "manifold = Product([Euclidean(3, 1), Euclidean(1, 1)])\n",
    "\n",
    "# Solve the problem with pymanopt\n",
    "problem = Problem(manifold=manifold, cost=cost, arg=[w, b], verbosity=0)\n",
    "wopt = solver.solve(problem)\n",
    "\n",
    "print('Weights found by pymanopt (top) / '\n",
    "      'closed form solution (bottom)')\n",
    "\n",
    "print(wopt[0].T)\n",
    "print(wopt[1])\n",
    "\n",
    "X1 = np.concatenate((X, np.ones((1, 100))), axis=0)\n",
    "wclosed = np.linalg.inv(X1.dot(X1.T)).dot(X1).dot(Y.T)\n",
    "print(wclosed[0:3].T)\n",
    "print(wclosed[3])"
   ]
  },
  {
   "cell_type": "code",
   "execution_count": null,
   "metadata": {
    "collapsed": true
   },
   "outputs": [],
   "source": []
  }
 ],
 "metadata": {
  "kernelspec": {
   "display_name": "Python 3",
   "language": "python",
   "name": "python3"
  },
  "language_info": {
   "codemirror_mode": {
    "name": "ipython",
    "version": 3
   },
   "file_extension": ".py",
   "mimetype": "text/x-python",
   "name": "python",
   "nbconvert_exporter": "python",
   "pygments_lexer": "ipython3",
   "version": "3.6.2"
  }
 },
 "nbformat": 4,
 "nbformat_minor": 2
}
