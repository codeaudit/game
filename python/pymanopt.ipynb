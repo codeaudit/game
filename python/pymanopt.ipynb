{
 "cells": [
  {
   "cell_type": "code",
   "execution_count": 1,
   "metadata": {},
   "outputs": [
    {
     "name": "stdout",
     "output_type": "stream",
     "text": [
      "Populating the interactive namespace from numpy and matplotlib\n"
     ]
    }
   ],
   "source": [
    "import sys\n",
    "sys.path.append('../build/')\n",
    "%pylab inline\n",
    "np.set_printoptions(precision=4, suppress=True)\n",
    "import pandas as pd\n",
    "import linear_solver\n",
    "import versor as vsr"
   ]
  },
  {
   "cell_type": "code",
   "execution_count": 2,
   "metadata": {
    "collapsed": true
   },
   "outputs": [],
   "source": [
    "# import autograd.numpy as np\n",
    "\n",
    "from pymanopt.manifolds import manifold\n",
    "from pymanopt.manifolds import Sphere\n",
    "from pymanopt import Problem\n",
    "from pymanopt.solvers import SteepestDescent, TrustRegions, ParticleSwarm, ConjugateGradient, NelderMead\n",
    "from __future__ import division\n",
    "\n",
    "import numpy as np\n",
    "import numpy.linalg as la\n",
    "import numpy.random as rnd\n",
    "\n",
    "from pymanopt.manifolds.manifold import Manifold"
   ]
  },
  {
   "cell_type": "code",
   "execution_count": 102,
   "metadata": {
    "collapsed": true
   },
   "outputs": [],
   "source": [
    "def create_rotor(th_lims=(0, np.pi/2)):\n",
    "    rotor = vsr.Rot(vsr.Biv(*np.random.uniform(-1, 1, 3)).unit()\n",
    "                      * np.random.uniform(*th_lims) * -0.5)\n",
    "    return rotor"
   ]
  },
  {
   "cell_type": "code",
   "execution_count": 104,
   "metadata": {
    "collapsed": true
   },
   "outputs": [],
   "source": [
    "def Hessi(A, B, M):\n",
    "    H = np.zeros((6,6))\n",
    "    \n",
    "    MAM = A.spin(M)\n",
    "    \n",
    "    a0,a1,a2,a3,a4 = np.array(MAM)\n",
    "    b0,b1,b2,b3,b4 = np.array(B)\n",
    "    \n",
    "    H[0,0] = 4.0 * a1 * b1 + 4.0 * a0 * b0\n",
    "    H[0,1] = 2.0 * a1 * b2 + 2.0 * a2 * b1\n",
    "    H[0,2] = -2.0 * a0 * b2 - 2.0 * a2 * b0\n",
    "    H[0,3] = -2.0 * b1 - 2.0 * a1\n",
    "    H[0,4] = 2.0 * b0 + 2.0 * a0\n",
    "    H[1,0] = H[0,1]\n",
    "    H[2,0] = H[0,2]\n",
    "    H[3,0] = H[0,3]\n",
    "    H[4,0] = H[0,4]\n",
    "\n",
    "    \n",
    "    H[1,1] = 4.0 * a2 * b2 + 4.0 * a0 * b0\n",
    "    H[1,2] = 2.0 * a0 * b1 + 2.0 * a1 * b0\n",
    "    H[1,3] = -2.0 * b2 - 2.0 * a2\n",
    "    H[1,5] = 2.0 * b0 + 2.0 * a0\n",
    "    H[2,1] = H[1,2]\n",
    "    H[3,1] = H[1,3]\n",
    "    H[5,1] = H[1,5]\n",
    "    \n",
    "    H[2,2] = 4.0 * a2 * b2 + 4.0 * a1 * b1\n",
    "    H[2,4] = -2.0 * b2 - 2.0 * a2\n",
    "    H[2,5] = 2.0 * b1 + 2.0 * a1\n",
    "    H[4,2] = H[2,4]\n",
    "    H[5,2] = H[2,5]\n",
    "\n",
    "    H[3,3] = 4.0\n",
    "    H[4,4] = 4.0\n",
    "    H[5,5] = 4.0\n",
    "    \n",
    "    return H"
   ]
  },
  {
   "cell_type": "code",
   "execution_count": 105,
   "metadata": {
    "collapsed": true
   },
   "outputs": [],
   "source": [
    "def Hess(points_a, points_b, mot):\n",
    "    H = np.zeros((6,6))\n",
    "    for A, B in zip(points_a, points_b):\n",
    "        H += Hessi(A,B,mot)\n",
    "    return H"
   ]
  },
  {
   "cell_type": "code",
   "execution_count": 273,
   "metadata": {
    "collapsed": true
   },
   "outputs": [],
   "source": [
    "class Motor(Manifold):\n",
    "    def __init__(self):\n",
    "        self._shape = 8\n",
    "        self._name = \"Motor manifold\"\n",
    "\n",
    "    def __str__(self):\n",
    "        return self._name\n",
    "    \n",
    "    @property\n",
    "    def typicaldist(self):\n",
    "        return 0.5\n",
    "    \n",
    "    \n",
    "    def norm(self, X, U):\n",
    "        return la.norm(U)\n",
    "    \n",
    "    def retr(self, X, U):\n",
    "        Y = vsr.Mot(*X) + vsr.Mot(*U)\n",
    "        return np.array(Y.retract())\n",
    "    \n",
    "    def CayleySelig(self, X, U):\n",
    "        M = vsr.Mot(*X)\n",
    "        B = M.rev() * vsr.Mot(*U)\n",
    "        \n",
    "        Rp = vsr.Mot(1.0, B[1], B[2], B[3], 0.0, 0.0, 0.0, 0.0)\n",
    "        Rn = vsr.Mot(1.0, -B[1], -B[2], -B[3], 0.0, 0.0, 0.0, 0.0)\n",
    "        Rninv = Rn.inv()\n",
    "        eps = vsr.Mot(0,0,0,0,0,0,0,-1)\n",
    "        b = vsr.Mot(0.0, B[6], -B[5], B[4], 0.0, 0.0, 0.0, 0.0)\n",
    "        return np.array(M * (Rp * Rninv + eps * Rninv * b * Rninv * 2))\n",
    "\n",
    "    def oexp(self,X,U):\n",
    "\n",
    "        M = vsr.Mot(*X)\n",
    "        B = M.rev() * vsr.Mot(*U)\n",
    "        n = np.sqrt(1 + B[1] * B[1] + B[2] * B[2] + B[3] * B[3])\n",
    "        s = B[1] * B[6] - B[2] * B[5] + B[3] * B[4]\n",
    "        m = vsr.Mot(1.0, B[1], B[2], B[3], B[4], B[5], B[6], s) * (1.0 / n)\n",
    "        return np.array(M * m)\n",
    "\n",
    "    def CayleyLi(self,X, U):        \n",
    "        M = vsr.Mot(*X)\n",
    "        B = M.rev() * vsr.Mot(*U)\n",
    "        B_ = vsr.Mot(0.0, B[1], B[2], B[3], B[4], B[5], B[6], 0.0)\n",
    "        BB = B_ * B_\n",
    "        Rp = vsr.Mot(1.0, B[1], B[2], B[3], B[4], B[5], B[6], 0.0)\n",
    "        R0 = vsr.Mot(1.0 - BB[0], 0.0, 0.0, 0.0, 0.0, 0.0, 0.0, 0.0)\n",
    "        R4 = vsr.Mot(0.0, 0.0, 0.0, 0.0, 0.0, 0.0, 0.0, BB[7])\n",
    "        Rn = R0 + R4\n",
    "        Rden = R0 * R0 \n",
    "        return np.array(M * (Rp * Rp * Rn * Rden.inv()))\n",
    "\n",
    "    def exp(self, X, U):\n",
    "        M = vsr.Mot(*X)\n",
    "        B = M.rev() * vsr.Mot(*U)\n",
    "        return np.array(M * vsr.Dll(B[1], B[2], B[3], B[4], B[5], B[6]).exp())\n",
    "    \n",
    "#     retr = CayleySelig\n",
    "#     retr = oexp\n",
    "#     retr = CayleyLi\n",
    "    retr = exp\n",
    "    \n",
    "    def inner(self, X, U, V):\n",
    "        return float(np.tensordot(U, V, axes=U.ndim))\n",
    "\n",
    "    def norm(self, X, U):\n",
    "#         raise RuntimeError('norm')\n",
    "        return la.norm(U)\n",
    "\n",
    "    def dist(self, U, V):\n",
    "        # Make sure inner product is between -1 and 1\n",
    "        inner = max(min(self.inner(None, U, V), 1), -1)\n",
    "        return np.arccos(inner)\n",
    "\n",
    "    def proj(self, X, H):\n",
    "        M = vsr.Mot(*X)\n",
    "        B = vsr.Mot(*H)\n",
    "        return np.array(vsr.Mot(vsr.CGA(M) * grade2(vsr.CGA(M.rev() * B))))\n",
    "        \n",
    "    egrad2rgrad = proj\n",
    "\n",
    "    def ehess2rhess(self, X, egrad, ehess, U):\n",
    "        return self.proj(X, ehess) - self.inner(None, X, egrad) * U\n",
    "\n",
    "\n",
    "    @property\n",
    "    def dim(self):\n",
    "        return 6"
   ]
  },
  {
   "cell_type": "code",
   "execution_count": 274,
   "metadata": {
    "collapsed": true
   },
   "outputs": [],
   "source": [
    "class Rotator(Sphere):\n",
    "    def __init__(self):\n",
    "        super().__init__(4)\n",
    "        \n",
    "    def exp(self, X, U):\n",
    "        R = vsr.Rot(*X)\n",
    "        g = R.rev() * vsr.Rot(*U)\n",
    "        B = vsr.Biv(g[1], g[2], g[3]) * -1.0\n",
    "        return np.array(R * B.exp())\n",
    "    \n",
    "    def cay(self, X, U):\n",
    "        R = vsr.Rot(*X)\n",
    "        g = R.rev() * vsr.Rot(*U)\n",
    "        Y = vsr.Rot(*self._normalize(np.array([1.0, g[1], g[2], g[3]])))\n",
    "        return np.array(R * Y)\n",
    "    \n",
    "    retr = cay\n",
    "        \n",
    "        "
   ]
  },
  {
   "cell_type": "code",
   "execution_count": 275,
   "metadata": {
    "collapsed": true
   },
   "outputs": [],
   "source": [
    "def create_motor(d_lims=(0, 1), th_lims=(0, np.pi)):\n",
    "    translator = (vsr.Vec(*np.random.random(3)).unit()\n",
    "                  * np.random.uniform(*d_lims)).trs()\n",
    "    rotator = vsr.Rot(vsr.Biv(*np.random.uniform(-1, 1, 3)).unit()\n",
    "                      * np.random.uniform(*th_lims) * -0.5)\n",
    "    motor = translator * rotator\n",
    "    return motor"
   ]
  },
  {
   "cell_type": "code",
   "execution_count": 316,
   "metadata": {
    "collapsed": true
   },
   "outputs": [],
   "source": [
    "n_points=10\n",
    "\n",
    "m0 = create_motor(th_lims=(0,np.pi/3))\n",
    "points_a = [vsr.Vec(*np.random.normal(0.0, 0.8, 3)).null() for i in range(n_points)]\n",
    "points_b = [point.spin(m0) for point in points_a]"
   ]
  },
  {
   "cell_type": "code",
   "execution_count": 317,
   "metadata": {
    "collapsed": true
   },
   "outputs": [],
   "source": [
    "def grade2(Y):\n",
    "    Y[0] = 0.0\n",
    "    Y[26] = 0.0\n",
    "    Y[27] = 0.0\n",
    "    Y[28] = 0.0\n",
    "    Y[29] = 0.0\n",
    "    Y[30] = 0.0\n",
    "    return Y"
   ]
  },
  {
   "cell_type": "code",
   "execution_count": 318,
   "metadata": {
    "collapsed": true
   },
   "outputs": [],
   "source": [
    "def proj(X):\n",
    "    M = vsr.Mot(0,0,0,0,0,0,0,0)\n",
    "    sgns = [1,2,3,7]\n",
    "    for i in range(8):\n",
    "        Ei = vsr.MotRec(0,0,0,0,0,0,0,0)\n",
    "        if i in sgns:\n",
    "            Ei[i] = -1.0\n",
    "        else:\n",
    "            Ei[i] = 1.0\n",
    "            \n",
    "        Ei[i] = 1.0\n",
    "        M[i] = (X * vsr.CGA(Ei))[0]\n",
    "    return vsr.CGA(M)"
   ]
  },
  {
   "cell_type": "code",
   "execution_count": 345,
   "metadata": {
    "collapsed": true
   },
   "outputs": [],
   "source": [
    "def adproj(X):\n",
    "    M = vsr.MotRec(0,0,0,0,0,0,0,0)\n",
    "    sgns = [1,2,3,7]\n",
    "    for i in range(8):\n",
    "        Ei = vsr.Mot(0,0,0,0,0,0,0,0)\n",
    "        if i in sgns:\n",
    "            Ei[i] = -1.0\n",
    "        else:\n",
    "            Ei[i] = 1.0\n",
    "            \n",
    "        M[i] = (vsr.CGA(Ei) * X)[0]\n",
    "    return vsr.CGA(M)"
   ]
  },
  {
   "cell_type": "code",
   "execution_count": 346,
   "metadata": {
    "collapsed": true
   },
   "outputs": [],
   "source": [
    "M = vsr.CGA(create_motor())"
   ]
  },
  {
   "cell_type": "code",
   "execution_count": 352,
   "metadata": {},
   "outputs": [
    {
     "name": "stdout",
     "output_type": "stream",
     "text": [
      "CGA: [ 0 0 0 0 0 0 -0.14 0.11 0.033 0.03 0.18 -0.14 0 0 0 0 0 0 0 0 0 0 0 0 0 0 0 0 0 0 0 0 ]\n"
     ]
    },
    {
     "data": {
      "text/plain": [
       "array([ 0.1369, -0.1119, -0.0327,  0.0296,  0.1777, -0.1393])"
      ]
     },
     "execution_count": 352,
     "metadata": {},
     "output_type": "execute_result"
    }
   ],
   "source": [
    "A = vsr.CGA(points_a[0])\n",
    "B = vsr.CGA(points_b[0])\n",
    "Y = adproj(grade2((A * M.rev() * B + A.rev() * M.rev() * B.rev()) * M.rev()))\n",
    "print(Y)\n",
    "G = np.array([(Y * vsr.CGA(vsr.Mot(0,1,0,0,0,0,0,0)))[0],\n",
    "              (Y * vsr.CGA(vsr.Mot(0,0,1,0,0,0,0,0)))[0],\n",
    "              (Y * vsr.CGA(vsr.Mot(0,0,0,1,0,0,0,0)))[0],\n",
    "              (Y * vsr.CGA(vsr.Mot(0,0,0,0,1,0,0,0)))[0],\n",
    "              (Y * vsr.CGA(vsr.Mot(0,0,0,0,0,1,0,0)))[0],\n",
    "              (Y * vsr.CGA(vsr.Mot(0,0,0,0,0,0,1,0)))[0]]).reshape(6)\n",
    "G"
   ]
  },
  {
   "cell_type": "code",
   "execution_count": 356,
   "metadata": {},
   "outputs": [
    {
     "data": {
      "text/plain": [
       "CGA: [ -0.019 0 0 0 0 0 0.13 -0.11 -0.015 -0.035 -0.18 0.14 0 0 0 0 0 0 0 0 0 0 0 0 0 0 -0.0032 0 0 0 0 0 ]"
      ]
     },
     "execution_count": 356,
     "metadata": {},
     "output_type": "execute_result"
    }
   ],
   "source": [
    "adproj(grade2(A * M.rev() * B * M) * M.rev() * -2)"
   ]
  },
  {
   "cell_type": "code",
   "execution_count": 354,
   "metadata": {},
   "outputs": [
    {
     "data": {
      "text/plain": [
       "Mot: [ -0.0036 -0.13 0.1 -0.0046 -0.045 -0.17 0.14 0.018 ]"
      ]
     },
     "execution_count": 354,
     "metadata": {},
     "output_type": "execute_result"
    }
   ],
   "source": [
    "vsr.Mot(*gradk3(points_a[0], points_b[0], np.array(vsr.Mot(M))))"
   ]
  },
  {
   "cell_type": "code",
   "execution_count": 355,
   "metadata": {},
   "outputs": [
    {
     "data": {
      "text/plain": [
       "array([-0.0036,  0.13  , -0.1023,  0.0046, -0.0451, -0.1714,  0.137 ,\n",
       "       -0.0176])"
      ]
     },
     "execution_count": 355,
     "metadata": {},
     "output_type": "execute_result"
    }
   ],
   "source": [
    "np.array(vsr.Mot(proj((vsr.CGA(vsr.Mot(*gradk3(points_a[0], points_b[0], np.array(vsr.Mot(M)))))))))"
   ]
  },
  {
   "cell_type": "code",
   "execution_count": 283,
   "metadata": {
    "collapsed": true
   },
   "outputs": [],
   "source": [
    "def rotor_rotate_vector(a, X):\n",
    "    a1, a2, a3 = np.array(a)\n",
    "    r0, r1, r2, r3 = np.array(X)\n",
    "    return (a1 * r3 * r3 + (2.0 * a3 * r1 - 2.0 * a2 * r2) * r3 - a1 * r2 * r2 + 2.0 * a3 * r0 * r2 - a1 * r1 * r1 + 2.0 * a2 * r0 * r1 + a1 * r0 * r0,\n",
    "            (-a2) * r3 * r3 + (2.0 * a3 * r0 - 2.0 * a1 * r2) * r3 + a2 * r2 * r2 - 2.0 * a3 * r1 * r2 - a2 * r1 * r1 - 2.0 * a1 * r0 * r1 + a2 * r0 * r0,\n",
    "            (-a3) * r3 * r3 + (2.0 * a1 * r1 - 2.0 * a2 * r0) * r3 - a3 * r2 * r2 + (-2.0 * a2 * r1 - 2.0 * a1 * r0) * r2 + a3 * r1 * r1 + a3 * r0 * r0)"
   ]
  },
  {
   "cell_type": "code",
   "execution_count": 284,
   "metadata": {
    "collapsed": true
   },
   "outputs": [],
   "source": [
    "def gradk(a, b, X):\n",
    "    a1, a2, a3 = np.array(a)\n",
    "    b1, b2, b3 = np.array(b)\n",
    "    r0, r1, r2, r3 = np.array(X)\n",
    "    return np.array(vsr.Rot(r0, r1, r2, r3) * vsr.Biv(\n",
    "        (-2.0 * a1 * b2 - 2.0 * a2 * b1) * r3 * r3 + ((4.0 * a2 * b2 - 4.0 * a1 * b1) * r2 - 4.0 * a2 * b3 * r1 - 4.0 * a1 * b3 * r0) * r3 + (2.0 * a1 * b2 + 2.0 * a2 * b1) * r2 * r2 + (4.0 * a2 * b3 * r0 - 4.0 * a1 * b3 * r1) * r2 + (2.0 * a2 * b1 - 2.0 * a1 * b2) * r1 * r1 + (4.0 * a2 * b2 + 4.0 * a1 * b1) * r0 * r1 + (2.0 * a1 * b2 - 2.0 * a2 * b1) * r0 * r0,\n",
    "        (-2.0 * a1 * b3 - 2.0 * a3 * b1) * r3 * r3 + (4.0 * a3 * b2 * r2 + (4.0 * a1 * b1 - 4.0 * a3 * b3) * r1 + 4.0 * a1 * b2 * r0) * r3 + (2.0 * a3 * b1 - 2.0 * a1 * b3) * r2 * r2 + ((4.0 * a3 * b3 + 4.0 * a1 * b1) * r0 - 4.0 * a1 * b2 * r1) * r2 + (2.0 * a1 * b3 + 2.0 * a3 * b1) * r1 * r1 + 4.0 * a3 * b2 * r0 * r1 + (2.0 * a1 * b3 - 2.0 * a3 * b1) * r0 * r0,\n",
    "        (2.0 * a3 * b2 - 2.0 * a2 * b3) * r3 * r3 + (4.0 * a3 * b1 * r2 + 4.0 * a2 * b1 * r1 + (4.0 * a3 * b3 + 4.0 * a2 * b2) * r0) * r3 + (-2.0 * a2 * b3 - 2.0 * a3 * b2) * r2 * r2 + ((4.0 * a3 * b3 - 4.0 * a2 * b2) * r1 + 4.0 * a2 * b1 * r0) * r2 + (2.0 * a2 * b3 + 2.0 * a3 * b2) * r1 * r1 - 4.0 * a3 * b1 * r0 * r1 + (2.0 * a2 * b3 - 2.0 * a3 * b2) * r0 * r0))"
   ]
  },
  {
   "cell_type": "code",
   "execution_count": 285,
   "metadata": {
    "collapsed": true
   },
   "outputs": [],
   "source": [
    "def grad_explicit(X): \n",
    "    g = np.sum([gradk(a, b, X) for a, b in zip(points_a, points_b)], axis=0) * 2.0\n",
    "    return g"
   ]
  },
  {
   "cell_type": "code",
   "execution_count": 286,
   "metadata": {
    "collapsed": true
   },
   "outputs": [],
   "source": [
    "def costk3(a, b, X):\n",
    "    a1, a2, a3, a4, a5 = np.array(a)\n",
    "    b1, b2, b3, b4, b5 = np.array(b)\n",
    "    m1, m2, m3, m4, m5, m6, m7, m8 = X\n",
    "    return 4.0 * a4 * b4 * m8 * m8 + ((4.0 * a4 * b1 - 4.0 * a1 * b4) * m4 + (4.0 * a2 * b4 - 4.0 * a4 * b2) * m3 + (4.0 * a4 * b3 - 4.0 * a3 * b4) * m2) * m8 + 4.0 * a4 * b4 * m7 * m7 + ((4.0 * a2 * b4 + 4.0 * a4 * b2) * m4 + (4.0 * a1 * b4 + 4.0 * a4 * b1) * m3 + (4.0 * a4 * b3 - 4.0 * a3 * b4) * m1) * m7 + 4.0 * a4 * b4 * m6 * m6 + ((-4.0 * a3 * b4 - 4.0 * a4 * b3) * m4 + (4.0 * a1 * b4 + 4.0 * a4 * b1) * m2 + (4.0 * a4 * b2 - 4.0 * a2 * b4) * m1) * m6 + 4.0 * a4 * b4 * m5 * m5 + ((-4.0 * a3 * b4 - 4.0 * a4 * b3) * m3 + (-4.0 * a2 * b4 - 4.0 * a4 * b2) * m2 + (4.0 * a4 * b1 - 4.0 * a1 * b4) * m1) * m5 + (2.0 * a4 * b5 + 2.0 * a5 * b4 + 2.0 * a3 * b3 + 2.0 * a2 * b2 - 2.0 * a1 * b1) * m4 * m4 + ((4.0 * a1 * b2 + 4.0 * a2 * b1) * m3 + (-4.0 * a1 * b3 - 4.0 * a3 * b1) * m2 + (4.0 * a2 * b3 - 4.0 * a3 * b2) * m1) * m4 + (2.0 * a4 * b5 + 2.0 * a5 * b4 + 2.0 * a3 * b3 - 2.0 * a2 * b2 + 2.0 * a1 * b1) * m3 * m3 + ((4.0 * a2 * b3 + 4.0 * a3 * b2) * m2 + (4.0 * a1 * b3 - 4.0 * a3 * b1) * m1) * m3 + (2.0 * a4 * b5 + 2.0 * a5 * b4 - 2.0 * a3 * b3 + 2.0 * a2 * b2 + 2.0 * a1 * b1) * m2 * m2 + (4.0 * a1 * b2 - 4.0 * a2 * b1) * m1 * m2 + (2.0 * a4 * b5 + 2.0 * a5 * b4 - 2.0 * a3 * b3 - 2.0 * a2 * b2 - 2.0 * a1 * b1) * m1 * m1"
   ]
  },
  {
   "cell_type": "code",
   "execution_count": 287,
   "metadata": {
    "collapsed": true
   },
   "outputs": [],
   "source": [
    "def cost3(X): \n",
    "    return np.sum([costk3(a, b, X) for a, b in zip(points_a, points_b)])"
   ]
  },
  {
   "cell_type": "code",
   "execution_count": 288,
   "metadata": {
    "collapsed": true
   },
   "outputs": [],
   "source": [
    "def gradk3(a,b,X):\n",
    "    a1, a2, a3, a4, a5 = np.array(a)\n",
    "    b1, b2, b3, b4, b5 = np.array(b)\n",
    "    m1, m2, m3, m4, m5, m6, m7, m8 = X\n",
    "    B0 = (-4.0 * a2 * b4 * m4 - 4.0 * a1 * b4 * m3) * m8 + (4.0 * a2 * b4 * m3 - 4.0 * a1 * b4 * m4) * m7 + (4.0 * a2 * b4 * m2 + 4.0 * a1 * b4 * m1) * m6 + (4.0 * a1 * b4 * m2 - 4.0 * a2 * b4 * m1) * m5 + (-2.0 * a1 * b2 - 2.0 * a2 * b1) * m4 * m4 + ((4.0 * a2 * b2 - 4.0 * a1 * b1) * m3 - 4.0 * a2 * b3 * m2 - 4.0 * a1 * b3 * m1) * m4 + (2.0 * a1 * b2 + 2.0 * a2 * b1) * m3 * m3 + (4.0 * a2 * b3 * m1 - 4.0 * a1 * b3 * m2) * m3 + (2.0 * a2 * b1 - 2.0 * a1 * b2) * m2 * m2 + (4.0 * a2 * b2 + 4.0 * a1 * b1) * m1 * m2 + (2.0 * a1 * b2 - 2.0 * a2 * b1) * m1 * m1\n",
    "    B1 = (4.0 * a1 * b4 * m2 - 4.0 * a3 * b4 * m4) * m8 + (4.0 * a3 * b4 * m3 + 4.0 * a1 * b4 * m1) * m7 + (4.0 * a1 * b4 * m4 + 4.0 * a3 * b4 * m2) * m6 + (4.0 * a1 * b4 * m3 - 4.0 * a3 * b4 * m1) * m5 + (-2.0 * a1 * b3 - 2.0 * a3 * b1) * m4 * m4 + (4.0 * a3 * b2 * m3 + (4.0 * a1 * b1 - 4.0 * a3 * b3) * m2 + 4.0 * a1 * b2 * m1) * m4 + (2.0 * a3 * b1 - 2.0 * a1 * b3) * m3 * m3 + ((4.0 * a3 * b3 + 4.0 * a1 * b1) * m1 - 4.0 * a1 * b2 * m2) * m3 + (2.0 * a1 * b3 + 2.0 * a3 * b1) * m2 * m2 + 4.0 * a3 * b2 * m1 * m2 + (2.0 * a1 * b3 - 2.0 * a3 * b1) * m1 * m1\n",
    "    B2 = (4.0 * a3 * b4 * m3 + 4.0 * a2 * b4 * m2) * m8 + (4.0 * a3 * b4 * m4 + 4.0 * a2 * b4 * m1) * m7 + (4.0 * a2 * b4 * m4 - 4.0 * a3 * b4 * m1) * m6 + (4.0 * a2 * b4 * m3 - 4.0 * a3 * b4 * m2) * m5 + (2.0 * a3 * b2 - 2.0 * a2 * b3) * m4 * m4 + (4.0 * a3 * b1 * m3 + 4.0 * a2 * b1 * m2 + (4.0 * a3 * b3 + 4.0 * a2 * b2) * m1) * m4 + (-2.0 * a2 * b3 - 2.0 * a3 * b2) * m3 * m3 + ((4.0 * a3 * b3 - 4.0 * a2 * b2) * m2 + 4.0 * a2 * b1 * m1) * m3 + (2.0 * a2 * b3 + 2.0 * a3 * b2) * m2 * m2 - 4.0 * a3 * b1 * m1 * m2 + (2.0 * a2 * b3 - 2.0 * a3 * b2) * m1 * m1\n",
    "    B3 = 4.0 * a4 * b4 * m4 * m8 - 4.0 * a4 * b4 * m3 * m7 - 4.0 * a4 * b4 * m2 * m6 + 4.0 * a4 * b4 * m1 * m5 + (2.0 * a4 * b1 - 2.0 * a1 * b4) * m4 * m4 + (4.0 * a4 * b3 * m2 - 4.0 * a4 * b2 * m3) * m4 + (-2.0 * a1 * b4 - 2.0 * a4 * b1) * m3 * m3 - 4.0 * a4 * b3 * m1 * m3 + (-2.0 * a1 * b4 - 2.0 * a4 * b1) * m2 * m2 - 4.0 * a4 * b2 * m1 * m2 + (2.0 * a4 * b1 - 2.0 * a1 * b4) * m1 * m1\n",
    "    B4 = -4.0 * a4 * b4 * m3 * m8 - 4.0 * a4 * b4 * m4 * m7 + 4.0 * a4 * b4 * m1 * m6 + 4.0 * a4 * b4 * m2 * m5 + (-2.0 * a2 * b4 - 2.0 * a4 * b2) * m4 * m4 + (-4.0 * a4 * b1 * m3 - 4.0 * a4 * b3 * m1) * m4 + (2.0 * a4 * b2 - 2.0 * a2 * b4) * m3 * m3 - 4.0 * a4 * b3 * m2 * m3 + (-2.0 * a2 * b4 - 2.0 * a4 * b2) * m2 * m2 + 4.0 * a4 * b1 * m1 * m2 + (2.0 * a4 * b2 - 2.0 * a2 * b4) * m1 * m1\n",
    "    B5 = 4.0 * a4 * b4 * m2 * m8 + 4.0 * a4 * b4 * m1 * m7 + 4.0 * a4 * b4 * m4 * m6 + 4.0 * a4 * b4 * m3 * m5 + (-2.0 * a3 * b4 - 2.0 * a4 * b3) * m4 * m4 + (4.0 * a4 * b1 * m2 + 4.0 * a4 * b2 * m1) * m4 + (-2.0 * a3 * b4 - 2.0 * a4 * b3) * m3 * m3 + (4.0 * a4 * b1 * m1 - 4.0 * a4 * b2 * m2) * m3 + (2.0 * a4 * b3 - 2.0 * a3 * b4) * m2 * m2 + (2.0 * a4 * b3 - 2.0 * a3 * b4) * m1 * m1\n",
    "    return np.array(vsr.Mot(m1, m2, m3, m4, m5, m6, m7, m8) * vsr.Dll(B0, B1, B2, B3, B4, B5))"
   ]
  },
  {
   "cell_type": "code",
   "execution_count": 289,
   "metadata": {
    "collapsed": true
   },
   "outputs": [],
   "source": [
    "def grad_explicit3(X): \n",
    "    g = np.sum([gradk3(a, b, X) for a, b in zip(points_a, points_b)], axis=0) * 2.0\n",
    "    return g"
   ]
  },
  {
   "cell_type": "code",
   "execution_count": null,
   "metadata": {
    "collapsed": true
   },
   "outputs": [],
   "source": []
  },
  {
   "cell_type": "code",
   "execution_count": 290,
   "metadata": {
    "collapsed": true
   },
   "outputs": [],
   "source": [
    "def costk(a, b, X): \n",
    "    a1, a2, a3 = np.array(a)\n",
    "    b1, b2, b3 = np.array(b)\n",
    "    r0, r1, r2, r3 = X\n",
    "    o0 = a1 * r3 * r3 + (2.0 * a3 * r1 - 2.0 * a2 * r2) * r3 - a1 * r2 * r2 + 2.0 * a3 * r0 * r2 - a1 * r1 * r1 + 2.0 * a2 * r0 * r1 + a1 * r0 * r0 - b1\n",
    "    o1 = (-a2) * r3 * r3 + (2.0 * a3 * r0 - 2.0 * a1 * r2) * r3 + a2 * r2 * r2 - 2.0 * a3 * r1 * r2 - a2 * r1 * r1 - 2.0 * a1 * r0 * r1 + a2 * r0 * r0 - b2\n",
    "    o2 = (-a3) * r3 * r3 + (2.0 * a1 * r1 - 2.0 * a2 * r0) * r3 - a3 * r2 * r2 + (-2.0 * a2 * r1 - 2.0 * a1 * r0) * r2 + a3 * r1 * r1 + a3 * r0 * r0 - b3\n",
    "    return o0 * o0 + o1 * o1 + o2 * o2\n",
    "\n",
    "def costk2(a, b, X):\n",
    "    a1, a2, a3 = np.array(a)\n",
    "    b1, b2, b3 = np.array(b)\n",
    "    r0, r1, r2, r3 = X\n",
    "    return ((a3 * b3 + a2 * b2 - a1 * b1) * r3 * r3 +\n",
    "            ((2.0 * a1 * b2 + 2.0 * a2 * b1) * r2 + \n",
    "             (-2.0 * a1 * b3 - 2.0 * a3 * b1) * r1 + \n",
    "             (2.0 * a2 * b3 - 2.0 * a3 * b2) * r0) * r3 + \n",
    "            (a3 * b3 - a2 * b2 + a1 * b1) * r2 * r2 + \n",
    "            ((2.0 * a2 * b3 + 2.0 * a3 * b2) * r1 + \n",
    "             (2.0 * a1 * b3 - 2.0 * a3 * b1) * r0) * r2 + \n",
    "            ((-a3) * b3 + a2 * b2 + a1 * b1) * r1 * r1 + \n",
    "            (2.0 * a1 * b2 - 2.0 * a2 * b1) * r0 * r1 + \n",
    "            ((-a3) * b3 - a2 * b2 - a1 * b1) * r0 * r0)\n",
    "\n",
    "# (2) Define the cost function (here using autograd.numpy)\n",
    "def cost(X): \n",
    "    return np.sum([costk(a, b, X) for a, b in zip(points_a, points_b)])\n",
    "\n",
    "def cost2(X): \n",
    "    return np.sum([costk2(a, b, X) for a, b in zip(points_a, points_b)])"
   ]
  },
  {
   "cell_type": "code",
   "execution_count": 291,
   "metadata": {},
   "outputs": [
    {
     "name": "stdout",
     "output_type": "stream",
     "text": [
      "Compiling cost function...\n",
      "Optimizing...\n",
      " +++ Detected many consecutive TR- (radius decreases).\n",
      " +++ Consider decreasing options.Delta_bar by an order of magnitude.\n",
      " +++ Current values: Delta_bar = 0.5 and Delta0 = 0.0625\n",
      "Terminated - max iterations reached after 0.38 seconds.\n",
      "\n",
      "Mot: [ 0.82 -0.38 -0.4 -0.16 -0.15 -0.015 0.022 0.011 ]\n",
      "Mot: [ 0.82 -0.38 -0.4 -0.16 -0.15 -0.014 0.021 0.011 ]\n",
      "1.00000045196\n"
     ]
    }
   ],
   "source": [
    "n_points=3\n",
    "\n",
    "m0 = create_motor()\n",
    "points_a = [vsr.Vec(*np.random.normal(0.0, 0.8, 3)).null() for i in range(n_points)]\n",
    "points_b = [point.spin(m0) for point in points_a]\n",
    "manifold = Motor()\n",
    "manifold.retr = manifold.exp\n",
    "problem = Problem(manifold=manifold, cost=cost3, grad=grad_explicit3, hess=hess_explicit, verbosity=1)\n",
    "# problem = Problem(manifold=manifold, cost=cost3, verbosity=1)\n",
    "\n",
    "# (3) Instantiate a Pymanopt solver\n",
    "# solver = SteepestDescent()\n",
    "solver = TrustRegions()\n",
    "# solver = ConjugateGradient()\n",
    "\n",
    "\n",
    "# let Pymanopt do the rest\n",
    "Xopt = solver.solve(problem, x=np.array(create_motor()))\n",
    "print(m0)\n",
    "print(vsr.Mot(*Xopt))\n",
    "print(la.norm(vsr.Mot(*Xopt).rev() * m0))"
   ]
  },
  {
   "cell_type": "code",
   "execution_count": 292,
   "metadata": {
    "collapsed": true
   },
   "outputs": [],
   "source": [
    "def jaci2(a, mot):\n",
    "    j = np.zeros((3,6))\n",
    "    a = a.spin(mot)\n",
    "    \n",
    "    j[0,0] = -2 * a[1]\n",
    "    j[1,0] = 2 * a[0]\n",
    "    \n",
    "    j[0,1] = -2 * a[2]\n",
    "    j[2,1] =  2 * a[0]\n",
    "    \n",
    "    j[1,2] = -2 * a[2]\n",
    "    j[2,2] = 2 * a[1]\n",
    "    \n",
    "    j[0,3] = 2\n",
    "    j[1,4] = 2\n",
    "    j[2,5] = 2\n",
    "     \n",
    "    return j"
   ]
  },
  {
   "cell_type": "code",
   "execution_count": 293,
   "metadata": {
    "collapsed": true
   },
   "outputs": [],
   "source": [
    "def hess_explicit(X,G):\n",
    "    mot = vsr.Mot(*X)\n",
    "    J = np.array([jaci2(a, mot) for a in points_a]).reshape(-1,6)\n",
    "    \n",
    "    mot = vsr.Mot(*X)\n",
    "    g = mot.rev() * vsr.Mot(*G)\n",
    "    g = vsr.Dll(g[1], g[2], g[3], g[4], g[5], g[6])\n",
    "    H = Hess(points_a, points_b, mot)\n",
    "    B = linear_solver.solve(H,g)\n",
    "    return np.array(mot * vsr.Dll(*B))\n",
    "    "
   ]
  },
  {
   "cell_type": "code",
   "execution_count": 294,
   "metadata": {
    "collapsed": true
   },
   "outputs": [],
   "source": [
    "def precon_explicit(X,G):\n",
    "    mot = vsr.Mot(*X)\n",
    "    g = mot.rev() * vsr.Mot(*G)\n",
    "    g = vsr.Dll(g[1], g[2], g[3], g[4], g[5], g[6])\n",
    "#     H = Hess(points_a, points_b, mot)\n",
    "    J = np.array([jaci2(a, mot) for a in points_a]).reshape(-1,6)\n",
    "    H = J.T.dot(J)\n",
    "    B = linear_solver.solve(H,g)\n",
    "    return np.array(mot * vsr.Dll(*B))"
   ]
  },
  {
   "cell_type": "code",
   "execution_count": 357,
   "metadata": {},
   "outputs": [
    {
     "name": "stdout",
     "output_type": "stream",
     "text": [
      "Compiling cost function...\n",
      "Optimizing...\n"
     ]
    },
    {
     "ename": "TypeError",
     "evalue": "__init__(): incompatible constructor arguments. The following argument types are supported:\n    1. versor_pybind11.Mot(arg0: float, arg1: float, arg2: float, arg3: float, arg4: float, arg5: float, arg6: float, arg7: float)\n    2. versor_pybind11.Mot(arg0: vsr::Multivector<vsr::algebra<vsr::metric<4, 1, true>, double>, vsr::Basis<(short)0, (short)1, (short)2, (short)4, (short)8, (short)16, (short)3, (short)5, (short)6, (short)9, (short)10, (short)12, (short)17, (short)18, (short)20, (short)24, (short)7, (short)11, (short)13, (short)14, (short)19, (short)21, (short)22, (short)25, (short)26, (short)28, (short)15, (short)23, (short)27, (short)29, (short)30, (short)31> >)\n\nInvoked with: 1.0, 0.0, 0.0, 0.0",
     "output_type": "error",
     "traceback": [
      "\u001b[0;31m---------------------------------------------------------------------------\u001b[0m",
      "\u001b[0;31mTypeError\u001b[0m                                 Traceback (most recent call last)",
      "\u001b[0;32m<ipython-input-357-19e6cda6b0b3>\u001b[0m in \u001b[0;36m<module>\u001b[0;34m()\u001b[0m\n\u001b[1;32m     17\u001b[0m \u001b[0;34m\u001b[0m\u001b[0m\n\u001b[1;32m     18\u001b[0m \u001b[0;31m# let Pymanopt do the rest\u001b[0m\u001b[0;34m\u001b[0m\u001b[0;34m\u001b[0m\u001b[0m\n\u001b[0;32m---> 19\u001b[0;31m \u001b[0mXopt\u001b[0m \u001b[0;34m=\u001b[0m \u001b[0msolver\u001b[0m\u001b[0;34m.\u001b[0m\u001b[0msolve\u001b[0m\u001b[0;34m(\u001b[0m\u001b[0mproblem\u001b[0m\u001b[0;34m,\u001b[0m \u001b[0mx\u001b[0m\u001b[0;34m=\u001b[0m\u001b[0mnp\u001b[0m\u001b[0;34m.\u001b[0m\u001b[0marray\u001b[0m\u001b[0;34m(\u001b[0m\u001b[0;34m[\u001b[0m\u001b[0;36m1.\u001b[0m\u001b[0;34m,\u001b[0m\u001b[0;36m0.\u001b[0m\u001b[0;34m,\u001b[0m\u001b[0;36m0.\u001b[0m\u001b[0;34m,\u001b[0m\u001b[0;36m0.\u001b[0m\u001b[0;34m]\u001b[0m\u001b[0;34m)\u001b[0m\u001b[0;34m)\u001b[0m\u001b[0;34m\u001b[0m\u001b[0m\n\u001b[0m\u001b[1;32m     20\u001b[0m \u001b[0mprint\u001b[0m\u001b[0;34m(\u001b[0m\u001b[0mvsr\u001b[0m\u001b[0;34m.\u001b[0m\u001b[0mRot\u001b[0m\u001b[0;34m(\u001b[0m\u001b[0;34m*\u001b[0m\u001b[0mXopt\u001b[0m\u001b[0;34m)\u001b[0m\u001b[0;34m)\u001b[0m\u001b[0;34m\u001b[0m\u001b[0m\n\u001b[1;32m     21\u001b[0m \u001b[0mprint\u001b[0m\u001b[0;34m(\u001b[0m\u001b[0mvsr\u001b[0m\u001b[0;34m.\u001b[0m\u001b[0mRot\u001b[0m\u001b[0;34m(\u001b[0m\u001b[0;34m*\u001b[0m\u001b[0mXopt\u001b[0m\u001b[0;34m)\u001b[0m\u001b[0;34m.\u001b[0m\u001b[0mrev\u001b[0m\u001b[0;34m(\u001b[0m\u001b[0;34m)\u001b[0m \u001b[0;34m*\u001b[0m \u001b[0mm0\u001b[0m\u001b[0;34m)\u001b[0m\u001b[0;34m\u001b[0m\u001b[0m\n",
      "\u001b[0;32m/home/lars/.local/lib/python3.6/site-packages/pymanopt/solvers/trust_regions.py\u001b[0m in \u001b[0;36msolve\u001b[0;34m(self, problem, x, mininner, maxinner, Delta_bar, Delta0)\u001b[0m\n\u001b[1;32m    170\u001b[0m             eta, Heta, numit, stop_inner = self._truncated_conjugate_gradient(\n\u001b[1;32m    171\u001b[0m                 \u001b[0mproblem\u001b[0m\u001b[0;34m,\u001b[0m \u001b[0mx\u001b[0m\u001b[0;34m,\u001b[0m \u001b[0mfgradx\u001b[0m\u001b[0;34m,\u001b[0m \u001b[0meta\u001b[0m\u001b[0;34m,\u001b[0m \u001b[0mDelta\u001b[0m\u001b[0;34m,\u001b[0m \u001b[0mself\u001b[0m\u001b[0;34m.\u001b[0m\u001b[0mtheta\u001b[0m\u001b[0;34m,\u001b[0m \u001b[0mself\u001b[0m\u001b[0;34m.\u001b[0m\u001b[0mkappa\u001b[0m\u001b[0;34m,\u001b[0m\u001b[0;34m\u001b[0m\u001b[0m\n\u001b[0;32m--> 172\u001b[0;31m                 mininner, maxinner)\n\u001b[0m\u001b[1;32m    173\u001b[0m \u001b[0;34m\u001b[0m\u001b[0m\n\u001b[1;32m    174\u001b[0m             \u001b[0msrstr\u001b[0m \u001b[0;34m=\u001b[0m \u001b[0mself\u001b[0m\u001b[0;34m.\u001b[0m\u001b[0mTCG_STOP_REASONS\u001b[0m\u001b[0;34m[\u001b[0m\u001b[0mstop_inner\u001b[0m\u001b[0;34m]\u001b[0m\u001b[0;34m\u001b[0m\u001b[0m\n",
      "\u001b[0;32m/home/lars/.local/lib/python3.6/site-packages/pymanopt/solvers/trust_regions.py\u001b[0m in \u001b[0;36m_truncated_conjugate_gradient\u001b[0;34m(self, problem, x, fgradx, eta, Delta, theta, kappa, mininner, maxinner)\u001b[0m\n\u001b[1;32m    444\u001b[0m         \u001b[0;32mfor\u001b[0m \u001b[0mj\u001b[0m \u001b[0;32min\u001b[0m \u001b[0mxrange\u001b[0m\u001b[0;34m(\u001b[0m\u001b[0;36m0\u001b[0m\u001b[0;34m,\u001b[0m \u001b[0mint\u001b[0m\u001b[0;34m(\u001b[0m\u001b[0mmaxinner\u001b[0m\u001b[0;34m)\u001b[0m\u001b[0;34m)\u001b[0m\u001b[0;34m:\u001b[0m\u001b[0;34m\u001b[0m\u001b[0m\n\u001b[1;32m    445\u001b[0m             \u001b[0;31m# This call is the computationally intensive step\u001b[0m\u001b[0;34m\u001b[0m\u001b[0;34m\u001b[0m\u001b[0m\n\u001b[0;32m--> 446\u001b[0;31m             \u001b[0mHdelta\u001b[0m \u001b[0;34m=\u001b[0m \u001b[0mhess\u001b[0m\u001b[0;34m(\u001b[0m\u001b[0mx\u001b[0m\u001b[0;34m,\u001b[0m \u001b[0mdelta\u001b[0m\u001b[0;34m)\u001b[0m\u001b[0;34m\u001b[0m\u001b[0m\n\u001b[0m\u001b[1;32m    447\u001b[0m \u001b[0;34m\u001b[0m\u001b[0m\n\u001b[1;32m    448\u001b[0m             \u001b[0;31m# Compute curvature (often called kappa)\u001b[0m\u001b[0;34m\u001b[0m\u001b[0;34m\u001b[0m\u001b[0m\n",
      "\u001b[0;32m<ipython-input-293-94fa7f4e28cb>\u001b[0m in \u001b[0;36mhess_explicit\u001b[0;34m(X, G)\u001b[0m\n\u001b[1;32m      1\u001b[0m \u001b[0;32mdef\u001b[0m \u001b[0mhess_explicit\u001b[0m\u001b[0;34m(\u001b[0m\u001b[0mX\u001b[0m\u001b[0;34m,\u001b[0m\u001b[0mG\u001b[0m\u001b[0;34m)\u001b[0m\u001b[0;34m:\u001b[0m\u001b[0;34m\u001b[0m\u001b[0m\n\u001b[0;32m----> 2\u001b[0;31m     \u001b[0mmot\u001b[0m \u001b[0;34m=\u001b[0m \u001b[0mvsr\u001b[0m\u001b[0;34m.\u001b[0m\u001b[0mMot\u001b[0m\u001b[0;34m(\u001b[0m\u001b[0;34m*\u001b[0m\u001b[0mX\u001b[0m\u001b[0;34m)\u001b[0m\u001b[0;34m\u001b[0m\u001b[0m\n\u001b[0m\u001b[1;32m      3\u001b[0m     \u001b[0mJ\u001b[0m \u001b[0;34m=\u001b[0m \u001b[0mnp\u001b[0m\u001b[0;34m.\u001b[0m\u001b[0marray\u001b[0m\u001b[0;34m(\u001b[0m\u001b[0;34m[\u001b[0m\u001b[0mjaci2\u001b[0m\u001b[0;34m(\u001b[0m\u001b[0ma\u001b[0m\u001b[0;34m,\u001b[0m \u001b[0mmot\u001b[0m\u001b[0;34m)\u001b[0m \u001b[0;32mfor\u001b[0m \u001b[0ma\u001b[0m \u001b[0;32min\u001b[0m \u001b[0mpoints_a\u001b[0m\u001b[0;34m]\u001b[0m\u001b[0;34m)\u001b[0m\u001b[0;34m.\u001b[0m\u001b[0mreshape\u001b[0m\u001b[0;34m(\u001b[0m\u001b[0;34m-\u001b[0m\u001b[0;36m1\u001b[0m\u001b[0;34m,\u001b[0m\u001b[0;36m6\u001b[0m\u001b[0;34m)\u001b[0m\u001b[0;34m\u001b[0m\u001b[0m\n\u001b[1;32m      4\u001b[0m \u001b[0;34m\u001b[0m\u001b[0m\n\u001b[1;32m      5\u001b[0m     \u001b[0mmot\u001b[0m \u001b[0;34m=\u001b[0m \u001b[0mvsr\u001b[0m\u001b[0;34m.\u001b[0m\u001b[0mMot\u001b[0m\u001b[0;34m(\u001b[0m\u001b[0;34m*\u001b[0m\u001b[0mX\u001b[0m\u001b[0;34m)\u001b[0m\u001b[0;34m\u001b[0m\u001b[0m\n",
      "\u001b[0;31mTypeError\u001b[0m: __init__(): incompatible constructor arguments. The following argument types are supported:\n    1. versor_pybind11.Mot(arg0: float, arg1: float, arg2: float, arg3: float, arg4: float, arg5: float, arg6: float, arg7: float)\n    2. versor_pybind11.Mot(arg0: vsr::Multivector<vsr::algebra<vsr::metric<4, 1, true>, double>, vsr::Basis<(short)0, (short)1, (short)2, (short)4, (short)8, (short)16, (short)3, (short)5, (short)6, (short)9, (short)10, (short)12, (short)17, (short)18, (short)20, (short)24, (short)7, (short)11, (short)13, (short)14, (short)19, (short)21, (short)22, (short)25, (short)26, (short)28, (short)15, (short)23, (short)27, (short)29, (short)30, (short)31> >)\n\nInvoked with: 1.0, 0.0, 0.0, 0.0"
     ]
    }
   ],
   "source": [
    "n_points=3\n",
    "\n",
    "m0 = create_rotor()\n",
    "points_a = [vsr.Vec(*np.random.normal(0.0, 0.8, 3)) for i in range(n_points)]\n",
    "points_b = [point.spin(m0) for point in points_a]\n",
    "\n",
    "manifold = Sphere(4)\n",
    "problem = Problem(manifold=manifold, cost=cost, grad=grad_explicit, hess=hess_explicit, verbosity=1)\n",
    "\n",
    "# (3) Instantiate a Pymanopt solver\n",
    "# solver = SteepestDescent()\n",
    "# solver = TrustRegions()\n",
    "# solver = ParticleSwarm()\n",
    "# solver = ConjugateGradient()\n",
    "# solver = NelderMead()\n",
    "\n",
    "\n",
    "# let Pymanopt do the rest\n",
    "Xopt = solver.solve(problem, x=np.array([1.,0.,0.,0.]))\n",
    "print(vsr.Rot(*Xopt))\n",
    "print(vsr.Rot(*Xopt).rev() * m0)"
   ]
  },
  {
   "cell_type": "code",
   "execution_count": 550,
   "metadata": {},
   "outputs": [],
   "source": [
    "m0 = create_motor()\n",
    "points_a = [vsr.Vec(*np.random.normal(0.0, 0.8, 3)).null() for i in range(n_points)]\n",
    "points_b = [point.spin(m0) for point in points_a]"
   ]
  },
  {
   "cell_type": "code",
   "execution_count": 551,
   "metadata": {},
   "outputs": [],
   "source": [
    "R = create_motor()\n",
    "A = points_a[0]\n",
    "B = points_b[0]"
   ]
  },
  {
   "cell_type": "code",
   "execution_count": 510,
   "metadata": {
    "collapsed": true
   },
   "outputs": [],
   "source": [
    "def df(R,U,A,B):\n",
    "    A = vsr.EGA(A)\n",
    "    B = vsr.EGA(B)\n",
    "    R = vsr.EGA(R)\n",
    "    U = vsr.EGA(U)\n",
    "    X = R * U\n",
    "    return -(((X * A * R.rev() + R * A * X.rev()) * B))[0]"
   ]
  },
  {
   "cell_type": "code",
   "execution_count": 552,
   "metadata": {
    "collapsed": true
   },
   "outputs": [],
   "source": [
    "def df(R,U,A,B):\n",
    "    A = vsr.CGA(A)\n",
    "    B = vsr.CGA(B)\n",
    "    R = vsr.CGA(R)\n",
    "#     U = vsr.CGA(U)\n",
    "    X = R * U\n",
    "    return -(((X * A * R.rev() + R * A * X.rev()) * B))[0]"
   ]
  },
  {
   "cell_type": "code",
   "execution_count": 523,
   "metadata": {},
   "outputs": [],
   "source": [
    "e12 = vsr.EGA(vsr.Rot(0,1,0,0))\n",
    "e13 = vsr.EGA(vsr.Rot(0,0,1,0))\n",
    "e23 = vsr.EGA(vsr.Rot(0,0,0,1))\n",
    "Y = vsr.Rot(0.0, df(R, e12, A, B), df(R, e13, A, B), df(R, e23, A, B)) * R.rev()"
   ]
  },
  {
   "cell_type": "code",
   "execution_count": 553,
   "metadata": {},
   "outputs": [
    {
     "data": {
      "text/plain": [
       "array([ 0.1575, -0.3595,  1.0046,  1.966 , -0.0256,  0.8427, -3.0495,\n",
       "        1.2663])"
      ]
     },
     "execution_count": 553,
     "metadata": {},
     "output_type": "execute_result"
    }
   ],
   "source": [
    "e12 = vsr.CGA(vsr.Mot(0,1,0,0,0,0,0,0))\n",
    "e13 = vsr.CGA(vsr.Mot(0,0,1,0,0,0,0,0))\n",
    "e23 = vsr.CGA(vsr.Mot(0,0,0,1,0,0,0,0))\n",
    "e1i = vsr.CGA(vsr.Mot(0,0,0,0,1,0,0,0))\n",
    "e2i = vsr.CGA(vsr.Mot(0,0,0,0,0,1,0,0))\n",
    "e3i = vsr.CGA(vsr.Mot(0,0,0,0,0,0,1,0))\n",
    "np.array(vsr.Mot(0.0, df(R, e12, A, B), df(R, e13, A, B), df(R, e23, A, B),\n",
    "                df(R, e1i, A, B), df(R, e2i, A, B), df(R, e3i, A, B), 0.0) * R.rev())"
   ]
  },
  {
   "cell_type": "code",
   "execution_count": 554,
   "metadata": {},
   "outputs": [
    {
     "data": {
      "text/plain": [
       "array([-0.1575, -0.3595,  1.0046,  1.966 , -0.0256,  0.8427, -3.0495,\n",
       "       -1.2663])"
      ]
     },
     "execution_count": 554,
     "metadata": {},
     "output_type": "execute_result"
    }
   ],
   "source": [
    "gradk3(A,B,np.array(R))"
   ]
  },
  {
   "cell_type": "code",
   "execution_count": 546,
   "metadata": {
    "collapsed": true
   },
   "outputs": [],
   "source": [
    "def g(R,A,B):\n",
    "    \n",
    "    \n",
    "    \n",
    "    A = vsr.EGA(A)\n",
    "    B = vsr.EGA(B)\n",
    "    R = vsr.EGA(R)\n",
    "    \n",
    "    Y = (A * R.rev() * B * R) \n",
    "    Y[0] = 0.0 # project onto grade 2\n",
    "    Y = Y * R.rev() * -2.0\n",
    "    \n",
    "    s = vsr.EGA(vsr.Rot(1,0,0,0))\n",
    "    sr = s.rev()\n",
    "    e12 = vsr.EGA(vsr.Rot(0,1,0,0))\n",
    "    e13 = vsr.EGA(vsr.Rot(0,0,1,0))\n",
    "    e23 = vsr.EGA(vsr.Rot(0,0,0,1))\n",
    "    e12r = e12.rev()\n",
    "    e13r = e13.rev()\n",
    "    e23r = e23.rev()\n",
    "    \n",
    "    X0 = sr * (s * Y)[0]\n",
    "    X1 = e12r * (e12 * Y)[0]\n",
    "    X2 = e13r * (e13 * Y)[0]\n",
    "    X3 = e23r * (e23 * Y)[0]\n",
    "    \n",
    "    return X0 + X1 + X2 + X3\n",
    "\n",
    "    "
   ]
  },
  {
   "cell_type": "code",
   "execution_count": 559,
   "metadata": {
    "collapsed": true
   },
   "outputs": [],
   "source": [
    "def g2(R,A,B):\n",
    "    \n",
    "    \n",
    "    \n",
    "    A = vsr.CGA(A)\n",
    "    B = vsr.CGA(B)\n",
    "    R = vsr.CGA(R)\n",
    "    \n",
    "    Y = (A * R.rev() * B * R) \n",
    "    Y[0] = 0.0 # project onto grade 2\n",
    "    Y[26] = 0.0\n",
    "    Y[27] = 0.0\n",
    "    Y[28] = 0.0\n",
    "    Y[29] = 0.0\n",
    "    Y[30] = 0.0    \n",
    "\n",
    "    Y = Y * R.rev() * -2.0\n",
    "    \n",
    "    s = vsr.CGA(vsr.Mot(1,0,0,0,0,0,0,0))\n",
    "    sr = e12r = vsr.CGA(vsr.MotRec(1,0,0,0,0,0,0,0))\n",
    "    \n",
    "    e12 =     vsr.CGA(vsr.Mot(0, 1,0,0,0,0,0,0))\n",
    "    e12r = vsr.CGA(vsr.MotRec(0,-1,0,0,0,0,0,0))\n",
    "    \n",
    "    e13 =      vsr.CGA(vsr.Mot(0,0,1,0,0,0,0,0))\n",
    "    e13r = vsr.CGA(vsr.MotRec(0,0,-1,0,0,0,0,0))\n",
    "    \n",
    "    e23 =     vsr.CGA(vsr.Mot(0,0,0, 1,0,0,0,0))\n",
    "    e23r = vsr.CGA(vsr.MotRec(0,0,0,-1,0,0,0,0))\n",
    "    \n",
    "        e1i = vsr.CGA(vsr.Mot(0,0,0,0,1,0,0,0))\n",
    "    e1ir = vsr.CGA(vsr.MotRec(0,0,0,0,1,0,0,0))\n",
    "    \n",
    "    e2i =     vsr.CGA(vsr.Mot(0,0,0,0,0,1,0,0))\n",
    "    e2ir = vsr.CGA(vsr.MotRec(0,0,0,0,0,1,0,0))\n",
    "    \n",
    "    e3i =     vsr.CGA(vsr.Mot(0,0,0,0,0,0,1,0))\n",
    "    e3ir = vsr.CGA(vsr.MotRec(0,0,0,0,0,0,1,0))\n",
    "    \n",
    "    e123i = vsr.CGA(vsr.Mot(0,0,0,0,0,0,0,1))\n",
    "    e123ir = vsr.CGA(vsr.MotRec(0,0,0,0,0,0,0,-1))\n",
    "\n",
    "\n",
    "    X0 = sr * (s * Y)[0]\n",
    "    X1 = e12r * (e12 * Y)[0]\n",
    "    X2 = e13r * (e13 * Y)[0]\n",
    "    X3 = e23r * (e23 * Y)[0]\n",
    "    X4 = e1ir * (e1i * Y)[0]\n",
    "    X5 = e2ir * (e2i * Y)[0]\n",
    "    X6 = e3ir * (e3i * Y)[0]\n",
    "    X7 = e123ir * (e123i * Y)[0]\n",
    "    \n",
    "    return X0 + X1 + X2 + X3 + X4 + X5 + X6 + X7"
   ]
  },
  {
   "cell_type": "code",
   "execution_count": 572,
   "metadata": {},
   "outputs": [
    {
     "name": "stdout",
     "output_type": "stream",
     "text": [
      "CGA: [ -0.88 0 0 0 0 0 0.72 -1.2 -1.2 -0.25 0.2 -2.6 0 0 0 0 0 0 0 0 0 0 0 0 0 0 1.5 0 0 0 0 0 ]\n"
     ]
    }
   ],
   "source": [
    "G = g2(R,A,B)\n",
    "print(G)"
   ]
  },
  {
   "cell_type": "code",
   "execution_count": 573,
   "metadata": {},
   "outputs": [
    {
     "data": {
      "text/plain": [
       "array([-0.1575, -0.3595,  1.0046,  1.966 , -0.0256,  0.8427, -3.0495,\n",
       "       -1.2663])"
      ]
     },
     "execution_count": 573,
     "metadata": {},
     "output_type": "execute_result"
    }
   ],
   "source": [
    "gradk3(A,B,np.array(R))"
   ]
  },
  {
   "cell_type": "code",
   "execution_count": 583,
   "metadata": {
    "collapsed": true
   },
   "outputs": [],
   "source": [
    "U = vsr.CGA(vsr.Mot(0,1,2,3,4,5,6,0))"
   ]
  },
  {
   "cell_type": "code",
   "execution_count": 584,
   "metadata": {},
   "outputs": [
    {
     "data": {
      "text/plain": [
       "-15.214316598325281"
      ]
     },
     "execution_count": 584,
     "metadata": {},
     "output_type": "execute_result"
    }
   ],
   "source": [
    "(G * (vsr.CGA(R) * U))[0]"
   ]
  },
  {
   "cell_type": "code",
   "execution_count": 585,
   "metadata": {},
   "outputs": [
    {
     "data": {
      "text/plain": [
       "-15.214316598325283"
      ]
     },
     "execution_count": 585,
     "metadata": {},
     "output_type": "execute_result"
    }
   ],
   "source": [
    "df(R,U,A,B)"
   ]
  },
  {
   "cell_type": "code",
   "execution_count": 385,
   "metadata": {
    "collapsed": true
   },
   "outputs": [],
   "source": [
    "solver = TrustRegions"
   ]
  },
  {
   "cell_type": "code",
   "execution_count": null,
   "metadata": {
    "collapsed": true
   },
   "outputs": [],
   "source": [
    "solver = TrustRegions"
   ]
  },
  {
   "cell_type": "code",
   "execution_count": null,
   "metadata": {
    "collapsed": true
   },
   "outputs": [],
   "source": [
    "r = create_rotor()\n",
    "grad_explicit(r)"
   ]
  },
  {
   "cell_type": "code",
   "execution_count": 214,
   "metadata": {},
   "outputs": [
    {
     "data": {
      "text/plain": [
       "Rot: [ -0.69 -1.8 -1.2 0.6 ]"
      ]
     },
     "execution_count": 214,
     "metadata": {},
     "output_type": "execute_result"
    }
   ],
   "source": [
    "Y  = R.rev() * vsr.Biv(*np.sum([np.array(b ^ a.spin(R)) for a,b in zip(points_a, points_b)],axis=1))\n",
    "Y"
   ]
  },
  {
   "cell_type": "code",
   "execution_count": 215,
   "metadata": {},
   "outputs": [
    {
     "data": {
      "text/plain": [
       "array([ 0.2791, -1.6261, -0.6981,  0.9759])"
      ]
     },
     "execution_count": 215,
     "metadata": {},
     "output_type": "execute_result"
    }
   ],
   "source": [
    "manifold.proj(np.array(R), np.array(Y))"
   ]
  },
  {
   "cell_type": "code",
   "execution_count": 358,
   "metadata": {},
   "outputs": [
    {
     "name": "stdout",
     "output_type": "stream",
     "text": [
      "Compiling cost function...\n",
      "Computing gradient of cost function...\n",
      "Optimizing...\n"
     ]
    },
    {
     "ename": "ValueError",
     "evalue": "too many values to unpack (expected 3)",
     "output_type": "error",
     "traceback": [
      "\u001b[0;31m---------------------------------------------------------------------------\u001b[0m",
      "\u001b[0;31mValueError\u001b[0m                                Traceback (most recent call last)",
      "\u001b[0;32m<ipython-input-358-0fd32243617c>\u001b[0m in \u001b[0;36m<module>\u001b[0;34m()\u001b[0m\n\u001b[1;32m     11\u001b[0m \u001b[0;34m\u001b[0m\u001b[0m\n\u001b[1;32m     12\u001b[0m \u001b[0;31m# let Pymanopt do the rest\u001b[0m\u001b[0;34m\u001b[0m\u001b[0;34m\u001b[0m\u001b[0m\n\u001b[0;32m---> 13\u001b[0;31m \u001b[0mXopt\u001b[0m \u001b[0;34m=\u001b[0m \u001b[0msolver\u001b[0m\u001b[0;34m.\u001b[0m\u001b[0msolve\u001b[0m\u001b[0;34m(\u001b[0m\u001b[0mproblem\u001b[0m\u001b[0;34m,\u001b[0m \u001b[0mx\u001b[0m\u001b[0;34m=\u001b[0m\u001b[0mnp\u001b[0m\u001b[0;34m.\u001b[0m\u001b[0marray\u001b[0m\u001b[0;34m(\u001b[0m\u001b[0;34m[\u001b[0m\u001b[0;36m1.\u001b[0m\u001b[0;34m,\u001b[0m\u001b[0;36m0.\u001b[0m\u001b[0;34m,\u001b[0m\u001b[0;36m0.\u001b[0m\u001b[0;34m,\u001b[0m\u001b[0;36m0.\u001b[0m\u001b[0;34m]\u001b[0m\u001b[0;34m)\u001b[0m\u001b[0;34m)\u001b[0m\u001b[0;34m\u001b[0m\u001b[0m\n\u001b[0m\u001b[1;32m     14\u001b[0m \u001b[0mprint\u001b[0m\u001b[0;34m(\u001b[0m\u001b[0mvsr\u001b[0m\u001b[0;34m.\u001b[0m\u001b[0mRot\u001b[0m\u001b[0;34m(\u001b[0m\u001b[0;34m*\u001b[0m\u001b[0mXopt\u001b[0m\u001b[0;34m)\u001b[0m\u001b[0;34m)\u001b[0m\u001b[0;34m\u001b[0m\u001b[0m\n\u001b[1;32m     15\u001b[0m \u001b[0mprint\u001b[0m\u001b[0;34m(\u001b[0m\u001b[0mvsr\u001b[0m\u001b[0;34m.\u001b[0m\u001b[0mRot\u001b[0m\u001b[0;34m(\u001b[0m\u001b[0;34m*\u001b[0m\u001b[0mXopt\u001b[0m\u001b[0;34m)\u001b[0m\u001b[0;34m.\u001b[0m\u001b[0mrev\u001b[0m\u001b[0;34m(\u001b[0m\u001b[0;34m)\u001b[0m \u001b[0;34m*\u001b[0m \u001b[0mm0\u001b[0m\u001b[0;34m)\u001b[0m\u001b[0;34m\u001b[0m\u001b[0m\n",
      "\u001b[0;32m/home/lars/.local/lib/python3.6/site-packages/pymanopt/solvers/conjugate_gradient.py\u001b[0m in \u001b[0;36msolve\u001b[0;34m(self, problem, x, reuselinesearch)\u001b[0m\n\u001b[1;32m     96\u001b[0m \u001b[0;34m\u001b[0m\u001b[0m\n\u001b[1;32m     97\u001b[0m         \u001b[0;31m# Calculate initial cost-related quantities\u001b[0m\u001b[0;34m\u001b[0m\u001b[0;34m\u001b[0m\u001b[0m\n\u001b[0;32m---> 98\u001b[0;31m         \u001b[0mcost\u001b[0m \u001b[0;34m=\u001b[0m \u001b[0mobjective\u001b[0m\u001b[0;34m(\u001b[0m\u001b[0mx\u001b[0m\u001b[0;34m)\u001b[0m\u001b[0;34m\u001b[0m\u001b[0m\n\u001b[0m\u001b[1;32m     99\u001b[0m         \u001b[0mgrad\u001b[0m \u001b[0;34m=\u001b[0m \u001b[0mgradient\u001b[0m\u001b[0;34m(\u001b[0m\u001b[0mx\u001b[0m\u001b[0;34m)\u001b[0m\u001b[0;34m\u001b[0m\u001b[0m\n\u001b[1;32m    100\u001b[0m         \u001b[0mgradnorm\u001b[0m \u001b[0;34m=\u001b[0m \u001b[0mman\u001b[0m\u001b[0;34m.\u001b[0m\u001b[0mnorm\u001b[0m\u001b[0;34m(\u001b[0m\u001b[0mx\u001b[0m\u001b[0;34m,\u001b[0m \u001b[0mgrad\u001b[0m\u001b[0;34m)\u001b[0m\u001b[0;34m\u001b[0m\u001b[0m\n",
      "\u001b[0;32m/home/lars/.local/lib/python3.6/site-packages/pymanopt/tools/autodiff/_autograd.py\u001b[0m in \u001b[0;36mfunc\u001b[0;34m(x)\u001b[0m\n\u001b[1;32m     29\u001b[0m                 \u001b[0;32mreturn\u001b[0m \u001b[0mobjective\u001b[0m\u001b[0;34m(\u001b[0m\u001b[0;34m[\u001b[0m\u001b[0mnp\u001b[0m\u001b[0;34m.\u001b[0m\u001b[0marray\u001b[0m\u001b[0;34m(\u001b[0m\u001b[0mxi\u001b[0m\u001b[0;34m)\u001b[0m \u001b[0;32mfor\u001b[0m \u001b[0mxi\u001b[0m \u001b[0;32min\u001b[0m \u001b[0mx\u001b[0m\u001b[0;34m]\u001b[0m\u001b[0;34m)\u001b[0m\u001b[0;34m\u001b[0m\u001b[0m\n\u001b[1;32m     30\u001b[0m             \u001b[0;32melse\u001b[0m\u001b[0;34m:\u001b[0m\u001b[0;34m\u001b[0m\u001b[0m\n\u001b[0;32m---> 31\u001b[0;31m                 \u001b[0;32mreturn\u001b[0m \u001b[0mobjective\u001b[0m\u001b[0;34m(\u001b[0m\u001b[0mnp\u001b[0m\u001b[0;34m.\u001b[0m\u001b[0marray\u001b[0m\u001b[0;34m(\u001b[0m\u001b[0mx\u001b[0m\u001b[0;34m)\u001b[0m\u001b[0;34m)\u001b[0m\u001b[0;34m\u001b[0m\u001b[0m\n\u001b[0m\u001b[1;32m     32\u001b[0m \u001b[0;34m\u001b[0m\u001b[0m\n\u001b[1;32m     33\u001b[0m         \u001b[0;32mreturn\u001b[0m \u001b[0mfunc\u001b[0m\u001b[0;34m\u001b[0m\u001b[0m\n",
      "\u001b[0;32m<ipython-input-345-1c865bca7da4>\u001b[0m in \u001b[0;36mcost\u001b[0;34m(X)\u001b[0m\n\u001b[1;32m     25\u001b[0m \u001b[0;31m# (2) Define the cost function (here using autograd.numpy)\u001b[0m\u001b[0;34m\u001b[0m\u001b[0;34m\u001b[0m\u001b[0m\n\u001b[1;32m     26\u001b[0m \u001b[0;32mdef\u001b[0m \u001b[0mcost\u001b[0m\u001b[0;34m(\u001b[0m\u001b[0mX\u001b[0m\u001b[0;34m)\u001b[0m\u001b[0;34m:\u001b[0m\u001b[0;34m\u001b[0m\u001b[0m\n\u001b[0;32m---> 27\u001b[0;31m     \u001b[0;32mreturn\u001b[0m \u001b[0mnp\u001b[0m\u001b[0;34m.\u001b[0m\u001b[0msum\u001b[0m\u001b[0;34m(\u001b[0m\u001b[0;34m[\u001b[0m\u001b[0mcostk\u001b[0m\u001b[0;34m(\u001b[0m\u001b[0ma\u001b[0m\u001b[0;34m,\u001b[0m \u001b[0mb\u001b[0m\u001b[0;34m,\u001b[0m \u001b[0mX\u001b[0m\u001b[0;34m)\u001b[0m \u001b[0;32mfor\u001b[0m \u001b[0ma\u001b[0m\u001b[0;34m,\u001b[0m \u001b[0mb\u001b[0m \u001b[0;32min\u001b[0m \u001b[0mzip\u001b[0m\u001b[0;34m(\u001b[0m\u001b[0mpoints_a\u001b[0m\u001b[0;34m,\u001b[0m \u001b[0mpoints_b\u001b[0m\u001b[0;34m)\u001b[0m\u001b[0;34m]\u001b[0m\u001b[0;34m)\u001b[0m\u001b[0;34m\u001b[0m\u001b[0m\n\u001b[0m\u001b[1;32m     28\u001b[0m \u001b[0;34m\u001b[0m\u001b[0m\n\u001b[1;32m     29\u001b[0m \u001b[0;32mdef\u001b[0m \u001b[0mcost2\u001b[0m\u001b[0;34m(\u001b[0m\u001b[0mX\u001b[0m\u001b[0;34m)\u001b[0m\u001b[0;34m:\u001b[0m\u001b[0;34m\u001b[0m\u001b[0m\n",
      "\u001b[0;32m<ipython-input-345-1c865bca7da4>\u001b[0m in \u001b[0;36m<listcomp>\u001b[0;34m(.0)\u001b[0m\n\u001b[1;32m     25\u001b[0m \u001b[0;31m# (2) Define the cost function (here using autograd.numpy)\u001b[0m\u001b[0;34m\u001b[0m\u001b[0;34m\u001b[0m\u001b[0m\n\u001b[1;32m     26\u001b[0m \u001b[0;32mdef\u001b[0m \u001b[0mcost\u001b[0m\u001b[0;34m(\u001b[0m\u001b[0mX\u001b[0m\u001b[0;34m)\u001b[0m\u001b[0;34m:\u001b[0m\u001b[0;34m\u001b[0m\u001b[0m\n\u001b[0;32m---> 27\u001b[0;31m     \u001b[0;32mreturn\u001b[0m \u001b[0mnp\u001b[0m\u001b[0;34m.\u001b[0m\u001b[0msum\u001b[0m\u001b[0;34m(\u001b[0m\u001b[0;34m[\u001b[0m\u001b[0mcostk\u001b[0m\u001b[0;34m(\u001b[0m\u001b[0ma\u001b[0m\u001b[0;34m,\u001b[0m \u001b[0mb\u001b[0m\u001b[0;34m,\u001b[0m \u001b[0mX\u001b[0m\u001b[0;34m)\u001b[0m \u001b[0;32mfor\u001b[0m \u001b[0ma\u001b[0m\u001b[0;34m,\u001b[0m \u001b[0mb\u001b[0m \u001b[0;32min\u001b[0m \u001b[0mzip\u001b[0m\u001b[0;34m(\u001b[0m\u001b[0mpoints_a\u001b[0m\u001b[0;34m,\u001b[0m \u001b[0mpoints_b\u001b[0m\u001b[0;34m)\u001b[0m\u001b[0;34m]\u001b[0m\u001b[0;34m)\u001b[0m\u001b[0;34m\u001b[0m\u001b[0m\n\u001b[0m\u001b[1;32m     28\u001b[0m \u001b[0;34m\u001b[0m\u001b[0m\n\u001b[1;32m     29\u001b[0m \u001b[0;32mdef\u001b[0m \u001b[0mcost2\u001b[0m\u001b[0;34m(\u001b[0m\u001b[0mX\u001b[0m\u001b[0;34m)\u001b[0m\u001b[0;34m:\u001b[0m\u001b[0;34m\u001b[0m\u001b[0m\n",
      "\u001b[0;32m<ipython-input-345-1c865bca7da4>\u001b[0m in \u001b[0;36mcostk\u001b[0;34m(a, b, X)\u001b[0m\n\u001b[1;32m      1\u001b[0m \u001b[0;32mdef\u001b[0m \u001b[0mcostk\u001b[0m\u001b[0;34m(\u001b[0m\u001b[0ma\u001b[0m\u001b[0;34m,\u001b[0m \u001b[0mb\u001b[0m\u001b[0;34m,\u001b[0m \u001b[0mX\u001b[0m\u001b[0;34m)\u001b[0m\u001b[0;34m:\u001b[0m\u001b[0;34m\u001b[0m\u001b[0m\n\u001b[0;32m----> 2\u001b[0;31m     \u001b[0ma1\u001b[0m\u001b[0;34m,\u001b[0m \u001b[0ma2\u001b[0m\u001b[0;34m,\u001b[0m \u001b[0ma3\u001b[0m \u001b[0;34m=\u001b[0m \u001b[0mnp\u001b[0m\u001b[0;34m.\u001b[0m\u001b[0marray\u001b[0m\u001b[0;34m(\u001b[0m\u001b[0ma\u001b[0m\u001b[0;34m)\u001b[0m\u001b[0;34m\u001b[0m\u001b[0m\n\u001b[0m\u001b[1;32m      3\u001b[0m     \u001b[0mb1\u001b[0m\u001b[0;34m,\u001b[0m \u001b[0mb2\u001b[0m\u001b[0;34m,\u001b[0m \u001b[0mb3\u001b[0m \u001b[0;34m=\u001b[0m \u001b[0mnp\u001b[0m\u001b[0;34m.\u001b[0m\u001b[0marray\u001b[0m\u001b[0;34m(\u001b[0m\u001b[0mb\u001b[0m\u001b[0;34m)\u001b[0m\u001b[0;34m\u001b[0m\u001b[0m\n\u001b[1;32m      4\u001b[0m     \u001b[0mr0\u001b[0m\u001b[0;34m,\u001b[0m \u001b[0mr1\u001b[0m\u001b[0;34m,\u001b[0m \u001b[0mr2\u001b[0m\u001b[0;34m,\u001b[0m \u001b[0mr3\u001b[0m \u001b[0;34m=\u001b[0m \u001b[0mX\u001b[0m\u001b[0;34m\u001b[0m\u001b[0m\n\u001b[1;32m      5\u001b[0m     \u001b[0mo0\u001b[0m \u001b[0;34m=\u001b[0m \u001b[0ma1\u001b[0m \u001b[0;34m*\u001b[0m \u001b[0mr3\u001b[0m \u001b[0;34m*\u001b[0m \u001b[0mr3\u001b[0m \u001b[0;34m+\u001b[0m \u001b[0;34m(\u001b[0m\u001b[0;36m2.0\u001b[0m \u001b[0;34m*\u001b[0m \u001b[0ma3\u001b[0m \u001b[0;34m*\u001b[0m \u001b[0mr1\u001b[0m \u001b[0;34m-\u001b[0m \u001b[0;36m2.0\u001b[0m \u001b[0;34m*\u001b[0m \u001b[0ma2\u001b[0m \u001b[0;34m*\u001b[0m \u001b[0mr2\u001b[0m\u001b[0;34m)\u001b[0m \u001b[0;34m*\u001b[0m \u001b[0mr3\u001b[0m \u001b[0;34m-\u001b[0m \u001b[0ma1\u001b[0m \u001b[0;34m*\u001b[0m \u001b[0mr2\u001b[0m \u001b[0;34m*\u001b[0m \u001b[0mr2\u001b[0m \u001b[0;34m+\u001b[0m \u001b[0;36m2.0\u001b[0m \u001b[0;34m*\u001b[0m \u001b[0ma3\u001b[0m \u001b[0;34m*\u001b[0m \u001b[0mr0\u001b[0m \u001b[0;34m*\u001b[0m \u001b[0mr2\u001b[0m \u001b[0;34m-\u001b[0m \u001b[0ma1\u001b[0m \u001b[0;34m*\u001b[0m \u001b[0mr1\u001b[0m \u001b[0;34m*\u001b[0m \u001b[0mr1\u001b[0m \u001b[0;34m+\u001b[0m \u001b[0;36m2.0\u001b[0m \u001b[0;34m*\u001b[0m \u001b[0ma2\u001b[0m \u001b[0;34m*\u001b[0m \u001b[0mr0\u001b[0m \u001b[0;34m*\u001b[0m \u001b[0mr1\u001b[0m \u001b[0;34m+\u001b[0m \u001b[0ma1\u001b[0m \u001b[0;34m*\u001b[0m \u001b[0mr0\u001b[0m \u001b[0;34m*\u001b[0m \u001b[0mr0\u001b[0m \u001b[0;34m-\u001b[0m \u001b[0mb1\u001b[0m\u001b[0;34m\u001b[0m\u001b[0m\n",
      "\u001b[0;31mValueError\u001b[0m: too many values to unpack (expected 3)"
     ]
    }
   ],
   "source": [
    "manifold = Sphere(4)\n",
    "problem = Problem(manifold=manifold, cost=cost, verbosity=1)\n",
    "\n",
    "# (3) Instantiate a Pymanopt solver\n",
    "# solver = SteepestDescent()\n",
    "# solver = TrustRegions()\n",
    "# solver = ParticleSwarm()\n",
    "solver = ConjugateGradient()\n",
    "# solver = NelderMead()\n",
    "\n",
    "\n",
    "# let Pymanopt do the rest\n",
    "Xopt = solver.solve(problem, x=np.array([1.,0.,0.,0.]))\n",
    "print(vsr.Rot(*Xopt))\n",
    "print(vsr.Rot(*Xopt).rev() * m0)"
   ]
  },
  {
   "cell_type": "code",
   "execution_count": null,
   "metadata": {
    "collapsed": true
   },
   "outputs": [],
   "source": []
  },
  {
   "cell_type": "code",
   "execution_count": 217,
   "metadata": {
    "collapsed": true
   },
   "outputs": [],
   "source": [
    "Rtest = create_rotor()\n"
   ]
  },
  {
   "cell_type": "code",
   "execution_count": 60,
   "metadata": {},
   "outputs": [
    {
     "data": {
      "text/plain": [
       "array([-1.6031, -4.8323,  2.0965, -0.8448])"
      ]
     },
     "execution_count": 60,
     "metadata": {},
     "output_type": "execute_result"
    }
   ],
   "source": [
    "grad_explicit(np.array(Rtest))"
   ]
  },
  {
   "cell_type": "code",
   "execution_count": 61,
   "metadata": {},
   "outputs": [
    {
     "ename": "ValueError",
     "evalue": "shapes (4,) and (8,) not aligned: 4 (dim 0) != 8 (dim 0)",
     "output_type": "error",
     "traceback": [
      "\u001b[0;31m---------------------------------------------------------------------------\u001b[0m",
      "\u001b[0;31mValueError\u001b[0m                                Traceback (most recent call last)",
      "\u001b[0;32m<ipython-input-61-577ac3e4cc24>\u001b[0m in \u001b[0;36m<module>\u001b[0;34m()\u001b[0m\n\u001b[0;32m----> 1\u001b[0;31m \u001b[0mnp\u001b[0m\u001b[0;34m.\u001b[0m\u001b[0mdot\u001b[0m\u001b[0;34m(\u001b[0m\u001b[0mnp\u001b[0m\u001b[0;34m.\u001b[0m\u001b[0marray\u001b[0m\u001b[0;34m(\u001b[0m\u001b[0mR\u001b[0m\u001b[0;34m)\u001b[0m\u001b[0;34m.\u001b[0m\u001b[0mT\u001b[0m\u001b[0;34m,\u001b[0m \u001b[0mG\u001b[0m\u001b[0;34m)\u001b[0m\u001b[0;34m\u001b[0m\u001b[0m\n\u001b[0m",
      "\u001b[0;31mValueError\u001b[0m: shapes (4,) and (8,) not aligned: 4 (dim 0) != 8 (dim 0)"
     ]
    }
   ],
   "source": [
    "np.dot(np.array(R).T, G)"
   ]
  },
  {
   "cell_type": "code",
   "execution_count": 62,
   "metadata": {
    "collapsed": true
   },
   "outputs": [],
   "source": [
    "Y = vsr.EGA(*np.sum([np.array(vsr.EGA(a) * vsr.EGA(Rtest).rev() * vsr.EGA(b) +\n",
    " vsr.EGA(a).rev() * vsr.EGA(Rtest.rev()) * vsr.EGA(b).rev()) for a, b in zip(points_a, points_b)], axis=0))"
   ]
  },
  {
   "cell_type": "code",
   "execution_count": 63,
   "metadata": {
    "collapsed": true
   },
   "outputs": [],
   "source": [
    "Y_ = Y * vsr.EGA(Rtest)\n",
    "Y_[0] = 0\n",
    "G = Y_ * vsr.EGA(Rtest.rev()) * -2\n",
    "# G[1] * -1\n",
    "# G[2] * -1\n",
    "# G[3] * -1"
   ]
  },
  {
   "cell_type": "code",
   "execution_count": 64,
   "metadata": {},
   "outputs": [
    {
     "data": {
      "text/plain": [
       "array([-1.6031, -0.    , -0.    , -0.    , -4.8323,  2.0965, -0.8448,  0.    ])"
      ]
     },
     "execution_count": 64,
     "metadata": {},
     "output_type": "execute_result"
    }
   ],
   "source": [
    "np.array(G.rev())"
   ]
  },
  {
   "cell_type": "code",
   "execution_count": 66,
   "metadata": {},
   "outputs": [
    {
     "data": {
      "text/plain": [
       "-2.7755575615628914e-17"
      ]
     },
     "execution_count": 66,
     "metadata": {},
     "output_type": "execute_result"
    }
   ],
   "source": [
    "np.dot(np.array(G.rev()), np.array(vsr.EGA(Rtest)))"
   ]
  },
  {
   "cell_type": "code",
   "execution_count": null,
   "metadata": {
    "collapsed": true
   },
   "outputs": [],
   "source": []
  }
 ],
 "metadata": {
  "kernelspec": {
   "display_name": "Python 3",
   "language": "python",
   "name": "python3"
  },
  "language_info": {
   "codemirror_mode": {
    "name": "ipython",
    "version": 3
   },
   "file_extension": ".py",
   "mimetype": "text/x-python",
   "name": "python",
   "nbconvert_exporter": "python",
   "pygments_lexer": "ipython3",
   "version": "3.6.2"
  }
 },
 "nbformat": 4,
 "nbformat_minor": 2
}
