{
 "cells": [
  {
   "cell_type": "code",
   "execution_count": 11,
   "metadata": {},
   "outputs": [
    {
     "name": "stdout",
     "output_type": "stream",
     "text": [
      "Populating the interactive namespace from numpy and matplotlib\n"
     ]
    }
   ],
   "source": [
    "import sys\n",
    "sys.path.append('../build/')\n",
    "%pylab inline\n",
    "np.set_printoptions(precision=4, suppress=True)\n",
    "import pandas as pd\n",
    "import linear_solver\n",
    "import versor as vsr"
   ]
  },
  {
   "cell_type": "code",
   "execution_count": 12,
   "metadata": {},
   "outputs": [],
   "source": [
    "# import autograd.numpy as np\n",
    "\n",
    "from pymanopt.manifolds import manifold\n",
    "from pymanopt.manifolds import Sphere\n",
    "from pymanopt import Problem\n",
    "from pymanopt.solvers import SteepestDescent, TrustRegions, ParticleSwarm, ConjugateGradient, NelderMead\n",
    "from __future__ import division\n",
    "\n",
    "import numpy as np\n",
    "import numpy.linalg as la\n",
    "import numpy.random as rnd\n",
    "\n",
    "from pymanopt.manifolds.manifold import Manifold"
   ]
  },
  {
   "cell_type": "code",
   "execution_count": 13,
   "metadata": {},
   "outputs": [],
   "source": [
    "def create_rotor(th_lims=(0, np.pi/2)):\n",
    "    rotor = vsr.Rot(vsr.Biv(*np.random.uniform(-1, 1, 3)).unit()\n",
    "                      * np.random.uniform(*th_lims) * -0.5)\n",
    "    return rotor"
   ]
  },
  {
   "cell_type": "code",
   "execution_count": 14,
   "metadata": {},
   "outputs": [],
   "source": [
    "class Motor(Manifold):\n",
    "    def __init__(self):\n",
    "        self._shape = 8\n",
    "        self._name = \"Motor manifold\"\n",
    "\n",
    "    def __str__(self):\n",
    "        return self._name\n",
    "    \n",
    "    def norm(self, X, U):\n",
    "        return la.norm(U)\n",
    "    \n",
    "    def retr(self, X, U):\n",
    "        Y = vsr.Mot(*X) + vsr.Mot(*U)\n",
    "        return np.array(Y.retract())\n",
    "    \n",
    "    def CayleySelig(self, X, U):\n",
    "        M = vsr.Mot(*X)\n",
    "        B = M.rev() * vsr.Mot(*U)\n",
    "        \n",
    "        Rp = vsr.Mot(1.0, B[1], B[2], B[3], 0.0, 0.0, 0.0, 0.0)\n",
    "        Rn = vsr.Mot(1.0, -B[1], -B[2], -B[3], 0.0, 0.0, 0.0, 0.0)\n",
    "        Rninv = Rn.inv()\n",
    "        eps = vsr.Mot(0,0,0,0,0,0,0,-1)\n",
    "        b = vsr.Mot(0.0, B[6], -B[5], B[4], 0.0, 0.0, 0.0, 0.0)\n",
    "        return np.array(M * (Rp * Rninv + eps * Rninv * b * Rninv * 2))\n",
    "\n",
    "    def oexp(self,X,U):\n",
    "\n",
    "        M = vsr.Mot(*X)\n",
    "        B = M.rev() * vsr.Mot(*U)\n",
    "        n = np.sqrt(1 + B[1] * B[1] + B[2] * B[2] + B[3] * B[3])\n",
    "        s = B[1] * B[6] - B[2] * B[5] + B[3] * B[4]\n",
    "        m = vsr.Mot(1.0, B[1], B[2], B[3], B[4], B[5], B[6], s) * (1.0 / n)\n",
    "        return np.array(M * m)\n",
    "\n",
    "    def CayleyLi(self,X, U):        \n",
    "        M = vsr.Mot(*X)\n",
    "        B = M.rev() * vsr.Mot(*U)\n",
    "        B_ = vsr.Mot(0.0, B[1], B[2], B[3], B[4], B[5], B[6], 0.0)\n",
    "        BB = B_ * B_\n",
    "        Rp = vsr.Mot(1.0, B[1], B[2], B[3], B[4], B[5], B[6], 0.0)\n",
    "        R0 = vsr.Mot(1.0 - BB[0], 0.0, 0.0, 0.0, 0.0, 0.0, 0.0, 0.0)\n",
    "        R4 = vsr.Mot(0.0, 0.0, 0.0, 0.0, 0.0, 0.0, 0.0, BB[7])\n",
    "        Rn = R0 + R4\n",
    "        Rden = R0 * R0 \n",
    "        return np.array(M * (Rp * Rp * Rn * Rden.inv()))\n",
    "\n",
    "    def exp(self, X, U):\n",
    "        M = vsr.Mot(*X)\n",
    "        B = M.rev() * vsr.Mot(*U)\n",
    "        return np.array(M * vsr.Dll(B[1], B[2], B[3], B[4], B[5], B[6]).exp())\n",
    "    \n",
    "#     retr = CayleySelig\n",
    "#     retr = oexp\n",
    "#     retr = CayleyLi\n",
    "    retr = exp\n",
    "\n",
    "    @property\n",
    "    def dim(self):\n",
    "        return 6"
   ]
  },
  {
   "cell_type": "code",
   "execution_count": 15,
   "metadata": {},
   "outputs": [],
   "source": [
    "class Rotator(Sphere):\n",
    "    def __init__(self):\n",
    "        super().__init__(4)\n",
    "        \n",
    "    def exp(self, X, U):\n",
    "        R = vsr.Rot(*X)\n",
    "        g = R.rev() * vsr.Rot(*U)\n",
    "        B = vsr.Biv(g[1], g[2], g[3]) * -1.0\n",
    "        return np.array(R * B.exp())\n",
    "    \n",
    "    def cay(self, X, U):\n",
    "        R = vsr.Rot(*X)\n",
    "        g = R.rev() * vsr.Rot(*U)\n",
    "        Y = vsr.Rot(*self._normalize(np.array([1.0, g[1], g[2], g[3]])))\n",
    "        return np.array(R * Y)\n",
    "    \n",
    "    retr = cay\n",
    "        \n",
    "        "
   ]
  },
  {
   "cell_type": "code",
   "execution_count": 16,
   "metadata": {
    "collapsed": true
   },
   "outputs": [],
   "source": [
    "def create_motor(d_lims=(0, 1), th_lims=(0, np.pi)):\n",
    "    translator = (vsr.Vec(*np.random.random(3)).unit()\n",
    "                  * np.random.uniform(*d_lims)).trs()\n",
    "    rotator = vsr.Rot(vsr.Biv(*np.random.uniform(-1, 1, 3)).unit()\n",
    "                      * np.random.uniform(*th_lims) * -0.5)\n",
    "    motor = translator * rotator\n",
    "    return motor"
   ]
  },
  {
   "cell_type": "code",
   "execution_count": 395,
   "metadata": {},
   "outputs": [],
   "source": [
    "n_points=10\n",
    "\n",
    "m0 = create_motor(th_lims=(0,np.pi/3))\n",
    "points_a = [vsr.Vec(*np.random.normal(0.0, 0.8, 3)).null() for i in range(n_points)]\n",
    "points_b = [point.spin(m0) for point in points_a]"
   ]
  },
  {
   "cell_type": "code",
   "execution_count": 396,
   "metadata": {
    "collapsed": true
   },
   "outputs": [],
   "source": [
    "def grade2(Y, M):\n",
    "    YM2 = Y * M\n",
    "#     print(YM2)\n",
    "    YM2[0] = 0.0\n",
    "    YM2[26] = 0.0\n",
    "    YM2[27] = 0.0\n",
    "    YM2[28] = 0.0\n",
    "    YM2[29] = 0.0\n",
    "    YM2[30] = 0.0\n",
    "    return YM2"
   ]
  },
  {
   "cell_type": "code",
   "execution_count": 397,
   "metadata": {
    "collapsed": true
   },
   "outputs": [],
   "source": [
    "M = vsr.CGA(create_motor())"
   ]
  },
  {
   "cell_type": "code",
   "execution_count": 398,
   "metadata": {},
   "outputs": [],
   "source": [
    "def proj(X):\n",
    "    M = vsr.Mot(0,0,0,0,0,0,0,0)\n",
    "    sgns = [1,2,3,7]\n",
    "    for i in range(8):\n",
    "        Ei = vsr.MotRec(0,0,0,0,0,0,0,0)\n",
    "        if i in sgns:\n",
    "            Ei[i] = -1.0\n",
    "        else:\n",
    "            Ei[i] = 1.0\n",
    "            \n",
    "        Ei[i] = 1.0\n",
    "        M[i] = (X * vsr.CGA(Ei))[0]\n",
    "    return vsr.CGA(M)"
   ]
  },
  {
   "cell_type": "code",
   "execution_count": 399,
   "metadata": {
    "collapsed": true
   },
   "outputs": [],
   "source": [
    "def adproj(X):\n",
    "    M = vsr.MotRec(0,0,0,0,0,0,0,0)\n",
    "    sgns = [1,2,3,7]\n",
    "    for i in range(8):\n",
    "        Ei = vsr.Mot(0,0,0,0,0,0,0,0)\n",
    "        if i in sgns:\n",
    "            Ei[i] = -1.0\n",
    "        else:\n",
    "            Ei[i] = 1.0\n",
    "            \n",
    "        M[i] = (vsr.CGA(Ei) * X)[0]\n",
    "    return vsr.CGA(M)"
   ]
  },
  {
   "cell_type": "code",
   "execution_count": 400,
   "metadata": {},
   "outputs": [
    {
     "data": {
      "text/plain": [
       "CGA: [ 0 0 0 0 0 0 -0.31 -0.22 -0.45 0.16 0.61 0.2 0.16 0.24 -0.068 0.2 0 0 0 0 0 0 0 0 0 0 0 0 0 0 0 0 ]"
      ]
     },
     "execution_count": 400,
     "metadata": {},
     "output_type": "execute_result"
    }
   ],
   "source": [
    "A = vsr.CGA(points_a[0])\n",
    "B = vsr.CGA(points_b[0])\n",
    "Y = grade2(A * M.rev() * B + A.rev() * M.rev() * B.rev(), M)\n",
    "Y"
   ]
  },
  {
   "cell_type": "code",
   "execution_count": 401,
   "metadata": {},
   "outputs": [
    {
     "data": {
      "text/plain": [
       "CGA: [ 0 0 0 0 0 0 0.31 0.22 0.45 0 0 0 0.16 0.24 -0.068 0 0 0 0 0 0 0 0 0 0 0 0 0 0 0 0 0 ]"
      ]
     },
     "execution_count": 401,
     "metadata": {},
     "output_type": "execute_result"
    }
   ],
   "source": [
    "proj(Y)"
   ]
  },
  {
   "cell_type": "code",
   "execution_count": 411,
   "metadata": {},
   "outputs": [
    {
     "data": {
      "text/plain": [
       "CGA: [ 0.17 0 0 0 0 0 -0.39 -0.2 -0.38 0.14 0.62 0.19 0 0 0 0 0 0 0 0 0 0 0 0 0 0 -0.012 0 0 0 0 0 ]"
      ]
     },
     "execution_count": 411,
     "metadata": {},
     "output_type": "execute_result"
    }
   ],
   "source": [
    "adproj(Y * M.rev())"
   ]
  },
  {
   "cell_type": "code",
   "execution_count": 406,
   "metadata": {},
   "outputs": [
    {
     "data": {
      "text/plain": [
       "CGA: [ 0.0016 0 0 0 0 0 -0.32 -0.2 -0.45 0 0 0 -0.23 -0.65 -0.08 0 0 0 0 0 0 0 0 0 0 0 0 -0.07 0 0 0 0 ]"
      ]
     },
     "execution_count": 406,
     "metadata": {},
     "output_type": "execute_result"
    }
   ],
   "source": [
    "(M.rev() * vsr.CGA(vsr.Mot(*gradk3(points_a[0], points_b[0], np.array(vsr.Mot(M)))))) * M.rev()"
   ]
  },
  {
   "cell_type": "code",
   "execution_count": 380,
   "metadata": {
    "collapsed": true
   },
   "outputs": [],
   "source": [
    "def rotor_rotate_vector(a, X):\n",
    "    a1, a2, a3 = np.array(a)\n",
    "    r0, r1, r2, r3 = np.array(X)\n",
    "    return (a1 * r3 * r3 + (2.0 * a3 * r1 - 2.0 * a2 * r2) * r3 - a1 * r2 * r2 + 2.0 * a3 * r0 * r2 - a1 * r1 * r1 + 2.0 * a2 * r0 * r1 + a1 * r0 * r0,\n",
    "            (-a2) * r3 * r3 + (2.0 * a3 * r0 - 2.0 * a1 * r2) * r3 + a2 * r2 * r2 - 2.0 * a3 * r1 * r2 - a2 * r1 * r1 - 2.0 * a1 * r0 * r1 + a2 * r0 * r0,\n",
    "            (-a3) * r3 * r3 + (2.0 * a1 * r1 - 2.0 * a2 * r0) * r3 - a3 * r2 * r2 + (-2.0 * a2 * r1 - 2.0 * a1 * r0) * r2 + a3 * r1 * r1 + a3 * r0 * r0)"
   ]
  },
  {
   "cell_type": "code",
   "execution_count": 19,
   "metadata": {},
   "outputs": [],
   "source": [
    "def gradk(a, b, X):\n",
    "    a1, a2, a3 = np.array(a)\n",
    "    b1, b2, b3 = np.array(b)\n",
    "    r0, r1, r2, r3 = np.array(X)\n",
    "    return np.array(vsr.Rot(r0, r1, r2, r3) * vsr.Biv(\n",
    "        (-2.0 * a1 * b2 - 2.0 * a2 * b1) * r3 * r3 + ((4.0 * a2 * b2 - 4.0 * a1 * b1) * r2 - 4.0 * a2 * b3 * r1 - 4.0 * a1 * b3 * r0) * r3 + (2.0 * a1 * b2 + 2.0 * a2 * b1) * r2 * r2 + (4.0 * a2 * b3 * r0 - 4.0 * a1 * b3 * r1) * r2 + (2.0 * a2 * b1 - 2.0 * a1 * b2) * r1 * r1 + (4.0 * a2 * b2 + 4.0 * a1 * b1) * r0 * r1 + (2.0 * a1 * b2 - 2.0 * a2 * b1) * r0 * r0,\n",
    "        (-2.0 * a1 * b3 - 2.0 * a3 * b1) * r3 * r3 + (4.0 * a3 * b2 * r2 + (4.0 * a1 * b1 - 4.0 * a3 * b3) * r1 + 4.0 * a1 * b2 * r0) * r3 + (2.0 * a3 * b1 - 2.0 * a1 * b3) * r2 * r2 + ((4.0 * a3 * b3 + 4.0 * a1 * b1) * r0 - 4.0 * a1 * b2 * r1) * r2 + (2.0 * a1 * b3 + 2.0 * a3 * b1) * r1 * r1 + 4.0 * a3 * b2 * r0 * r1 + (2.0 * a1 * b3 - 2.0 * a3 * b1) * r0 * r0,\n",
    "        (2.0 * a3 * b2 - 2.0 * a2 * b3) * r3 * r3 + (4.0 * a3 * b1 * r2 + 4.0 * a2 * b1 * r1 + (4.0 * a3 * b3 + 4.0 * a2 * b2) * r0) * r3 + (-2.0 * a2 * b3 - 2.0 * a3 * b2) * r2 * r2 + ((4.0 * a3 * b3 - 4.0 * a2 * b2) * r1 + 4.0 * a2 * b1 * r0) * r2 + (2.0 * a2 * b3 + 2.0 * a3 * b2) * r1 * r1 - 4.0 * a3 * b1 * r0 * r1 + (2.0 * a2 * b3 - 2.0 * a3 * b2) * r0 * r0))"
   ]
  },
  {
   "cell_type": "code",
   "execution_count": 20,
   "metadata": {},
   "outputs": [],
   "source": [
    "def grad_explicit(X): \n",
    "    g = np.sum([gradk(a, b, X) for a, b in zip(points_a, points_b)], axis=0) * 2.0\n",
    "    return g"
   ]
  },
  {
   "cell_type": "code",
   "execution_count": 21,
   "metadata": {
    "collapsed": true
   },
   "outputs": [],
   "source": [
    "def costk3(a, b, X):\n",
    "    a1, a2, a3, a4, a5 = np.array(a)\n",
    "    b1, b2, b3, b4, b5 = np.array(b)\n",
    "    m1, m2, m3, m4, m5, m6, m7, m8 = X\n",
    "    return 4.0 * a4 * b4 * m8 * m8 + ((4.0 * a4 * b1 - 4.0 * a1 * b4) * m4 + (4.0 * a2 * b4 - 4.0 * a4 * b2) * m3 + (4.0 * a4 * b3 - 4.0 * a3 * b4) * m2) * m8 + 4.0 * a4 * b4 * m7 * m7 + ((4.0 * a2 * b4 + 4.0 * a4 * b2) * m4 + (4.0 * a1 * b4 + 4.0 * a4 * b1) * m3 + (4.0 * a4 * b3 - 4.0 * a3 * b4) * m1) * m7 + 4.0 * a4 * b4 * m6 * m6 + ((-4.0 * a3 * b4 - 4.0 * a4 * b3) * m4 + (4.0 * a1 * b4 + 4.0 * a4 * b1) * m2 + (4.0 * a4 * b2 - 4.0 * a2 * b4) * m1) * m6 + 4.0 * a4 * b4 * m5 * m5 + ((-4.0 * a3 * b4 - 4.0 * a4 * b3) * m3 + (-4.0 * a2 * b4 - 4.0 * a4 * b2) * m2 + (4.0 * a4 * b1 - 4.0 * a1 * b4) * m1) * m5 + (2.0 * a4 * b5 + 2.0 * a5 * b4 + 2.0 * a3 * b3 + 2.0 * a2 * b2 - 2.0 * a1 * b1) * m4 * m4 + ((4.0 * a1 * b2 + 4.0 * a2 * b1) * m3 + (-4.0 * a1 * b3 - 4.0 * a3 * b1) * m2 + (4.0 * a2 * b3 - 4.0 * a3 * b2) * m1) * m4 + (2.0 * a4 * b5 + 2.0 * a5 * b4 + 2.0 * a3 * b3 - 2.0 * a2 * b2 + 2.0 * a1 * b1) * m3 * m3 + ((4.0 * a2 * b3 + 4.0 * a3 * b2) * m2 + (4.0 * a1 * b3 - 4.0 * a3 * b1) * m1) * m3 + (2.0 * a4 * b5 + 2.0 * a5 * b4 - 2.0 * a3 * b3 + 2.0 * a2 * b2 + 2.0 * a1 * b1) * m2 * m2 + (4.0 * a1 * b2 - 4.0 * a2 * b1) * m1 * m2 + (2.0 * a4 * b5 + 2.0 * a5 * b4 - 2.0 * a3 * b3 - 2.0 * a2 * b2 - 2.0 * a1 * b1) * m1 * m1"
   ]
  },
  {
   "cell_type": "code",
   "execution_count": 22,
   "metadata": {
    "collapsed": true
   },
   "outputs": [],
   "source": [
    "def cost3(X): \n",
    "    return np.sum([costk3(a, b, X) for a, b in zip(points_a, points_b)])"
   ]
  },
  {
   "cell_type": "code",
   "execution_count": 23,
   "metadata": {
    "collapsed": true
   },
   "outputs": [],
   "source": [
    "def gradk3(a,b,X):\n",
    "    a1, a2, a3, a4, a5 = np.array(a)\n",
    "    b1, b2, b3, b4, b5 = np.array(b)\n",
    "    m1, m2, m3, m4, m5, m6, m7, m8 = X\n",
    "    B0 = (-4.0 * a2 * b4 * m4 - 4.0 * a1 * b4 * m3) * m8 + (4.0 * a2 * b4 * m3 - 4.0 * a1 * b4 * m4) * m7 + (4.0 * a2 * b4 * m2 + 4.0 * a1 * b4 * m1) * m6 + (4.0 * a1 * b4 * m2 - 4.0 * a2 * b4 * m1) * m5 + (-2.0 * a1 * b2 - 2.0 * a2 * b1) * m4 * m4 + ((4.0 * a2 * b2 - 4.0 * a1 * b1) * m3 - 4.0 * a2 * b3 * m2 - 4.0 * a1 * b3 * m1) * m4 + (2.0 * a1 * b2 + 2.0 * a2 * b1) * m3 * m3 + (4.0 * a2 * b3 * m1 - 4.0 * a1 * b3 * m2) * m3 + (2.0 * a2 * b1 - 2.0 * a1 * b2) * m2 * m2 + (4.0 * a2 * b2 + 4.0 * a1 * b1) * m1 * m2 + (2.0 * a1 * b2 - 2.0 * a2 * b1) * m1 * m1\n",
    "    B1 = (4.0 * a1 * b4 * m2 - 4.0 * a3 * b4 * m4) * m8 + (4.0 * a3 * b4 * m3 + 4.0 * a1 * b4 * m1) * m7 + (4.0 * a1 * b4 * m4 + 4.0 * a3 * b4 * m2) * m6 + (4.0 * a1 * b4 * m3 - 4.0 * a3 * b4 * m1) * m5 + (-2.0 * a1 * b3 - 2.0 * a3 * b1) * m4 * m4 + (4.0 * a3 * b2 * m3 + (4.0 * a1 * b1 - 4.0 * a3 * b3) * m2 + 4.0 * a1 * b2 * m1) * m4 + (2.0 * a3 * b1 - 2.0 * a1 * b3) * m3 * m3 + ((4.0 * a3 * b3 + 4.0 * a1 * b1) * m1 - 4.0 * a1 * b2 * m2) * m3 + (2.0 * a1 * b3 + 2.0 * a3 * b1) * m2 * m2 + 4.0 * a3 * b2 * m1 * m2 + (2.0 * a1 * b3 - 2.0 * a3 * b1) * m1 * m1\n",
    "    B2 = (4.0 * a3 * b4 * m3 + 4.0 * a2 * b4 * m2) * m8 + (4.0 * a3 * b4 * m4 + 4.0 * a2 * b4 * m1) * m7 + (4.0 * a2 * b4 * m4 - 4.0 * a3 * b4 * m1) * m6 + (4.0 * a2 * b4 * m3 - 4.0 * a3 * b4 * m2) * m5 + (2.0 * a3 * b2 - 2.0 * a2 * b3) * m4 * m4 + (4.0 * a3 * b1 * m3 + 4.0 * a2 * b1 * m2 + (4.0 * a3 * b3 + 4.0 * a2 * b2) * m1) * m4 + (-2.0 * a2 * b3 - 2.0 * a3 * b2) * m3 * m3 + ((4.0 * a3 * b3 - 4.0 * a2 * b2) * m2 + 4.0 * a2 * b1 * m1) * m3 + (2.0 * a2 * b3 + 2.0 * a3 * b2) * m2 * m2 - 4.0 * a3 * b1 * m1 * m2 + (2.0 * a2 * b3 - 2.0 * a3 * b2) * m1 * m1\n",
    "    B3 = 4.0 * a4 * b4 * m4 * m8 - 4.0 * a4 * b4 * m3 * m7 - 4.0 * a4 * b4 * m2 * m6 + 4.0 * a4 * b4 * m1 * m5 + (2.0 * a4 * b1 - 2.0 * a1 * b4) * m4 * m4 + (4.0 * a4 * b3 * m2 - 4.0 * a4 * b2 * m3) * m4 + (-2.0 * a1 * b4 - 2.0 * a4 * b1) * m3 * m3 - 4.0 * a4 * b3 * m1 * m3 + (-2.0 * a1 * b4 - 2.0 * a4 * b1) * m2 * m2 - 4.0 * a4 * b2 * m1 * m2 + (2.0 * a4 * b1 - 2.0 * a1 * b4) * m1 * m1\n",
    "    B4 = -4.0 * a4 * b4 * m3 * m8 - 4.0 * a4 * b4 * m4 * m7 + 4.0 * a4 * b4 * m1 * m6 + 4.0 * a4 * b4 * m2 * m5 + (-2.0 * a2 * b4 - 2.0 * a4 * b2) * m4 * m4 + (-4.0 * a4 * b1 * m3 - 4.0 * a4 * b3 * m1) * m4 + (2.0 * a4 * b2 - 2.0 * a2 * b4) * m3 * m3 - 4.0 * a4 * b3 * m2 * m3 + (-2.0 * a2 * b4 - 2.0 * a4 * b2) * m2 * m2 + 4.0 * a4 * b1 * m1 * m2 + (2.0 * a4 * b2 - 2.0 * a2 * b4) * m1 * m1\n",
    "    B5 = 4.0 * a4 * b4 * m2 * m8 + 4.0 * a4 * b4 * m1 * m7 + 4.0 * a4 * b4 * m4 * m6 + 4.0 * a4 * b4 * m3 * m5 + (-2.0 * a3 * b4 - 2.0 * a4 * b3) * m4 * m4 + (4.0 * a4 * b1 * m2 + 4.0 * a4 * b2 * m1) * m4 + (-2.0 * a3 * b4 - 2.0 * a4 * b3) * m3 * m3 + (4.0 * a4 * b1 * m1 - 4.0 * a4 * b2 * m2) * m3 + (2.0 * a4 * b3 - 2.0 * a3 * b4) * m2 * m2 + (2.0 * a4 * b3 - 2.0 * a3 * b4) * m1 * m1\n",
    "    return np.array(vsr.Mot(m1, m2, m3, m4, m5, m6, m7, m8) * vsr.Dll(B0, B1, B2, B3, B4, B5))"
   ]
  },
  {
   "cell_type": "code",
   "execution_count": 24,
   "metadata": {
    "collapsed": true
   },
   "outputs": [],
   "source": [
    "def grad_explicit3(X): \n",
    "    g = np.sum([gradk3(a, b, X) for a, b in zip(points_a, points_b)], axis=0) * 2.0\n",
    "    return g"
   ]
  },
  {
   "cell_type": "code",
   "execution_count": null,
   "metadata": {
    "collapsed": true
   },
   "outputs": [],
   "source": []
  },
  {
   "cell_type": "code",
   "execution_count": 66,
   "metadata": {},
   "outputs": [],
   "source": [
    "def costk(a, b, X): \n",
    "    a1, a2, a3 = np.array(a)\n",
    "    b1, b2, b3 = np.array(b)\n",
    "    r0, r1, r2, r3 = X\n",
    "    o0 = a1 * r3 * r3 + (2.0 * a3 * r1 - 2.0 * a2 * r2) * r3 - a1 * r2 * r2 + 2.0 * a3 * r0 * r2 - a1 * r1 * r1 + 2.0 * a2 * r0 * r1 + a1 * r0 * r0 - b1\n",
    "    o1 = (-a2) * r3 * r3 + (2.0 * a3 * r0 - 2.0 * a1 * r2) * r3 + a2 * r2 * r2 - 2.0 * a3 * r1 * r2 - a2 * r1 * r1 - 2.0 * a1 * r0 * r1 + a2 * r0 * r0 - b2\n",
    "    o2 = (-a3) * r3 * r3 + (2.0 * a1 * r1 - 2.0 * a2 * r0) * r3 - a3 * r2 * r2 + (-2.0 * a2 * r1 - 2.0 * a1 * r0) * r2 + a3 * r1 * r1 + a3 * r0 * r0 - b3\n",
    "    return o0 * o0 + o1 * o1 + o2 * o2\n",
    "\n",
    "def costk2(a, b, X):\n",
    "    a1, a2, a3 = np.array(a)\n",
    "    b1, b2, b3 = np.array(b)\n",
    "    r0, r1, r2, r3 = X\n",
    "    return ((a3 * b3 + a2 * b2 - a1 * b1) * r3 * r3 +\n",
    "            ((2.0 * a1 * b2 + 2.0 * a2 * b1) * r2 + \n",
    "             (-2.0 * a1 * b3 - 2.0 * a3 * b1) * r1 + \n",
    "             (2.0 * a2 * b3 - 2.0 * a3 * b2) * r0) * r3 + \n",
    "            (a3 * b3 - a2 * b2 + a1 * b1) * r2 * r2 + \n",
    "            ((2.0 * a2 * b3 + 2.0 * a3 * b2) * r1 + \n",
    "             (2.0 * a1 * b3 - 2.0 * a3 * b1) * r0) * r2 + \n",
    "            ((-a3) * b3 + a2 * b2 + a1 * b1) * r1 * r1 + \n",
    "            (2.0 * a1 * b2 - 2.0 * a2 * b1) * r0 * r1 + \n",
    "            ((-a3) * b3 - a2 * b2 - a1 * b1) * r0 * r0)\n",
    "\n",
    "# (2) Define the cost function (here using autograd.numpy)\n",
    "def cost(X): \n",
    "    return np.sum([costk(a, b, X) for a, b in zip(points_a, points_b)])\n",
    "\n",
    "def cost2(X): \n",
    "    return np.sum([costk2(a, b, X) for a, b in zip(points_a, points_b)])"
   ]
  },
  {
   "cell_type": "code",
   "execution_count": 184,
   "metadata": {},
   "outputs": [
    {
     "name": "stdout",
     "output_type": "stream",
     "text": [
      "Mot: [ 0.2 -0.36 -0.73 -0.55 -0.093 -0.032 0.11 -0.059 ]\n",
      "1.00000771417\n"
     ]
    }
   ],
   "source": [
    "n_points=3\n",
    "\n",
    "m0 = create_motor()\n",
    "points_a = [vsr.Vec(*np.random.normal(0.0, 0.8, 3)).null() for i in range(n_points)]\n",
    "points_b = [point.spin(m0) for point in points_a]\n",
    "manifold = Motor()\n",
    "problem = Problem(manifold=manifold, cost=cost3, grad=grad_explicit3, verbosity=0)\n",
    "\n",
    "\n",
    "# (3) Instantiate a Pymanopt solver\n",
    "solver = SteepestDescent()\n",
    "\n",
    "\n",
    "# let Pymanopt do the rest\n",
    "Xopt = solver.solve(problem, x=np.array([1.,0.,0.,0.,0.,0.,0.,0.]))\n",
    "print(vsr.Mot(*Xopt))\n",
    "print(la.norm(vsr.Mot(*Xopt).rev() * m0))"
   ]
  },
  {
   "cell_type": "code",
   "execution_count": 65,
   "metadata": {},
   "outputs": [
    {
     "name": "stdout",
     "output_type": "stream",
     "text": [
      "Compiling cost function...\n",
      "Computing gradient of cost function...\n",
      " iter\t\t   cost val\t    grad. norm\n"
     ]
    },
    {
     "ename": "ValueError",
     "evalue": "too many values to unpack (expected 3)",
     "output_type": "error",
     "traceback": [
      "\u001b[0;31m---------------------------------------------------------------------------\u001b[0m",
      "\u001b[0;31mValueError\u001b[0m                                Traceback (most recent call last)",
      "\u001b[0;32m<ipython-input-65-7a76f51ffcab>\u001b[0m in \u001b[0;36m<module>\u001b[0;34m()\u001b[0m\n\u001b[1;32m     11\u001b[0m \u001b[0;34m\u001b[0m\u001b[0m\n\u001b[1;32m     12\u001b[0m \u001b[0;31m# let Pymanopt do the rest\u001b[0m\u001b[0;34m\u001b[0m\u001b[0;34m\u001b[0m\u001b[0m\n\u001b[0;32m---> 13\u001b[0;31m \u001b[0mXopt\u001b[0m \u001b[0;34m=\u001b[0m \u001b[0msolver\u001b[0m\u001b[0;34m.\u001b[0m\u001b[0msolve\u001b[0m\u001b[0;34m(\u001b[0m\u001b[0mproblem\u001b[0m\u001b[0;34m,\u001b[0m \u001b[0mx\u001b[0m\u001b[0;34m=\u001b[0m\u001b[0mnp\u001b[0m\u001b[0;34m.\u001b[0m\u001b[0marray\u001b[0m\u001b[0;34m(\u001b[0m\u001b[0;34m[\u001b[0m\u001b[0;36m1.\u001b[0m\u001b[0;34m,\u001b[0m\u001b[0;36m0.\u001b[0m\u001b[0;34m,\u001b[0m\u001b[0;36m0.\u001b[0m\u001b[0;34m,\u001b[0m\u001b[0;36m0.\u001b[0m\u001b[0;34m]\u001b[0m\u001b[0;34m)\u001b[0m\u001b[0;34m)\u001b[0m\u001b[0;34m\u001b[0m\u001b[0m\n\u001b[0m\u001b[1;32m     14\u001b[0m \u001b[0mprint\u001b[0m\u001b[0;34m(\u001b[0m\u001b[0mvsr\u001b[0m\u001b[0;34m.\u001b[0m\u001b[0mRot\u001b[0m\u001b[0;34m(\u001b[0m\u001b[0;34m*\u001b[0m\u001b[0mXopt\u001b[0m\u001b[0;34m)\u001b[0m\u001b[0;34m)\u001b[0m\u001b[0;34m\u001b[0m\u001b[0m\n\u001b[1;32m     15\u001b[0m \u001b[0mprint\u001b[0m\u001b[0;34m(\u001b[0m\u001b[0mvsr\u001b[0m\u001b[0;34m.\u001b[0m\u001b[0mRot\u001b[0m\u001b[0;34m(\u001b[0m\u001b[0;34m*\u001b[0m\u001b[0mXopt\u001b[0m\u001b[0;34m)\u001b[0m\u001b[0;34m.\u001b[0m\u001b[0mrev\u001b[0m\u001b[0;34m(\u001b[0m\u001b[0;34m)\u001b[0m \u001b[0;34m*\u001b[0m \u001b[0mm0\u001b[0m\u001b[0;34m)\u001b[0m\u001b[0;34m\u001b[0m\u001b[0m\n",
      "\u001b[0;32m/home/lars/.local/lib/python3.6/site-packages/pymanopt/solvers/steepest_descent.py\u001b[0m in \u001b[0;36msolve\u001b[0;34m(self, problem, x, reuselinesearch)\u001b[0m\n\u001b[1;32m     72\u001b[0m         \u001b[0;32mwhile\u001b[0m \u001b[0;32mTrue\u001b[0m\u001b[0;34m:\u001b[0m\u001b[0;34m\u001b[0m\u001b[0m\n\u001b[1;32m     73\u001b[0m             \u001b[0;31m# Calculate new cost, grad and gradnorm\u001b[0m\u001b[0;34m\u001b[0m\u001b[0;34m\u001b[0m\u001b[0m\n\u001b[0;32m---> 74\u001b[0;31m             \u001b[0mcost\u001b[0m \u001b[0;34m=\u001b[0m \u001b[0mobjective\u001b[0m\u001b[0;34m(\u001b[0m\u001b[0mx\u001b[0m\u001b[0;34m)\u001b[0m\u001b[0;34m\u001b[0m\u001b[0m\n\u001b[0m\u001b[1;32m     75\u001b[0m             \u001b[0mgrad\u001b[0m \u001b[0;34m=\u001b[0m \u001b[0mgradient\u001b[0m\u001b[0;34m(\u001b[0m\u001b[0mx\u001b[0m\u001b[0;34m)\u001b[0m\u001b[0;34m\u001b[0m\u001b[0m\n\u001b[1;32m     76\u001b[0m             \u001b[0mgradnorm\u001b[0m \u001b[0;34m=\u001b[0m \u001b[0mman\u001b[0m\u001b[0;34m.\u001b[0m\u001b[0mnorm\u001b[0m\u001b[0;34m(\u001b[0m\u001b[0mx\u001b[0m\u001b[0;34m,\u001b[0m \u001b[0mgrad\u001b[0m\u001b[0;34m)\u001b[0m\u001b[0;34m\u001b[0m\u001b[0m\n",
      "\u001b[0;32m/home/lars/.local/lib/python3.6/site-packages/pymanopt/tools/autodiff/_autograd.py\u001b[0m in \u001b[0;36mfunc\u001b[0;34m(x)\u001b[0m\n\u001b[1;32m     29\u001b[0m                 \u001b[0;32mreturn\u001b[0m \u001b[0mobjective\u001b[0m\u001b[0;34m(\u001b[0m\u001b[0;34m[\u001b[0m\u001b[0mnp\u001b[0m\u001b[0;34m.\u001b[0m\u001b[0marray\u001b[0m\u001b[0;34m(\u001b[0m\u001b[0mxi\u001b[0m\u001b[0;34m)\u001b[0m \u001b[0;32mfor\u001b[0m \u001b[0mxi\u001b[0m \u001b[0;32min\u001b[0m \u001b[0mx\u001b[0m\u001b[0;34m]\u001b[0m\u001b[0;34m)\u001b[0m\u001b[0;34m\u001b[0m\u001b[0m\n\u001b[1;32m     30\u001b[0m             \u001b[0;32melse\u001b[0m\u001b[0;34m:\u001b[0m\u001b[0;34m\u001b[0m\u001b[0m\n\u001b[0;32m---> 31\u001b[0;31m                 \u001b[0;32mreturn\u001b[0m \u001b[0mobjective\u001b[0m\u001b[0;34m(\u001b[0m\u001b[0mnp\u001b[0m\u001b[0;34m.\u001b[0m\u001b[0marray\u001b[0m\u001b[0;34m(\u001b[0m\u001b[0mx\u001b[0m\u001b[0;34m)\u001b[0m\u001b[0;34m)\u001b[0m\u001b[0;34m\u001b[0m\u001b[0m\n\u001b[0m\u001b[1;32m     32\u001b[0m \u001b[0;34m\u001b[0m\u001b[0m\n\u001b[1;32m     33\u001b[0m         \u001b[0;32mreturn\u001b[0m \u001b[0mfunc\u001b[0m\u001b[0;34m\u001b[0m\u001b[0m\n",
      "\u001b[0;32m<ipython-input-25-abef435378c0>\u001b[0m in \u001b[0;36mcost\u001b[0;34m(X)\u001b[0m\n\u001b[1;32m     25\u001b[0m \u001b[0;31m# (2) Define the cost function (here using autograd.numpy)\u001b[0m\u001b[0;34m\u001b[0m\u001b[0;34m\u001b[0m\u001b[0m\n\u001b[1;32m     26\u001b[0m \u001b[0;32mdef\u001b[0m \u001b[0mcost\u001b[0m\u001b[0;34m(\u001b[0m\u001b[0mX\u001b[0m\u001b[0;34m)\u001b[0m\u001b[0;34m:\u001b[0m\u001b[0;34m\u001b[0m\u001b[0m\n\u001b[0;32m---> 27\u001b[0;31m     \u001b[0;32mreturn\u001b[0m \u001b[0mnp\u001b[0m\u001b[0;34m.\u001b[0m\u001b[0msum\u001b[0m\u001b[0;34m(\u001b[0m\u001b[0;34m[\u001b[0m\u001b[0mcostk\u001b[0m\u001b[0;34m(\u001b[0m\u001b[0ma\u001b[0m\u001b[0;34m,\u001b[0m \u001b[0mb\u001b[0m\u001b[0;34m,\u001b[0m \u001b[0mX\u001b[0m\u001b[0;34m)\u001b[0m \u001b[0;32mfor\u001b[0m \u001b[0ma\u001b[0m\u001b[0;34m,\u001b[0m \u001b[0mb\u001b[0m \u001b[0;32min\u001b[0m \u001b[0mzip\u001b[0m\u001b[0;34m(\u001b[0m\u001b[0mpoints_a\u001b[0m\u001b[0;34m,\u001b[0m \u001b[0mpoints_b\u001b[0m\u001b[0;34m)\u001b[0m\u001b[0;34m]\u001b[0m\u001b[0;34m)\u001b[0m\u001b[0;34m\u001b[0m\u001b[0m\n\u001b[0m\u001b[1;32m     28\u001b[0m \u001b[0;34m\u001b[0m\u001b[0m\n\u001b[1;32m     29\u001b[0m \u001b[0;34m\u001b[0m\u001b[0m\n",
      "\u001b[0;32m<ipython-input-25-abef435378c0>\u001b[0m in \u001b[0;36m<listcomp>\u001b[0;34m(.0)\u001b[0m\n\u001b[1;32m     25\u001b[0m \u001b[0;31m# (2) Define the cost function (here using autograd.numpy)\u001b[0m\u001b[0;34m\u001b[0m\u001b[0;34m\u001b[0m\u001b[0m\n\u001b[1;32m     26\u001b[0m \u001b[0;32mdef\u001b[0m \u001b[0mcost\u001b[0m\u001b[0;34m(\u001b[0m\u001b[0mX\u001b[0m\u001b[0;34m)\u001b[0m\u001b[0;34m:\u001b[0m\u001b[0;34m\u001b[0m\u001b[0m\n\u001b[0;32m---> 27\u001b[0;31m     \u001b[0;32mreturn\u001b[0m \u001b[0mnp\u001b[0m\u001b[0;34m.\u001b[0m\u001b[0msum\u001b[0m\u001b[0;34m(\u001b[0m\u001b[0;34m[\u001b[0m\u001b[0mcostk\u001b[0m\u001b[0;34m(\u001b[0m\u001b[0ma\u001b[0m\u001b[0;34m,\u001b[0m \u001b[0mb\u001b[0m\u001b[0;34m,\u001b[0m \u001b[0mX\u001b[0m\u001b[0;34m)\u001b[0m \u001b[0;32mfor\u001b[0m \u001b[0ma\u001b[0m\u001b[0;34m,\u001b[0m \u001b[0mb\u001b[0m \u001b[0;32min\u001b[0m \u001b[0mzip\u001b[0m\u001b[0;34m(\u001b[0m\u001b[0mpoints_a\u001b[0m\u001b[0;34m,\u001b[0m \u001b[0mpoints_b\u001b[0m\u001b[0;34m)\u001b[0m\u001b[0;34m]\u001b[0m\u001b[0;34m)\u001b[0m\u001b[0;34m\u001b[0m\u001b[0m\n\u001b[0m\u001b[1;32m     28\u001b[0m \u001b[0;34m\u001b[0m\u001b[0m\n\u001b[1;32m     29\u001b[0m \u001b[0;34m\u001b[0m\u001b[0m\n",
      "\u001b[0;32m<ipython-input-25-abef435378c0>\u001b[0m in \u001b[0;36mcostk\u001b[0;34m(a, b, X)\u001b[0m\n\u001b[1;32m      1\u001b[0m \u001b[0;32mdef\u001b[0m \u001b[0mcostk\u001b[0m\u001b[0;34m(\u001b[0m\u001b[0ma\u001b[0m\u001b[0;34m,\u001b[0m \u001b[0mb\u001b[0m\u001b[0;34m,\u001b[0m \u001b[0mX\u001b[0m\u001b[0;34m)\u001b[0m\u001b[0;34m:\u001b[0m\u001b[0;34m\u001b[0m\u001b[0m\n\u001b[0;32m----> 2\u001b[0;31m     \u001b[0ma1\u001b[0m\u001b[0;34m,\u001b[0m \u001b[0ma2\u001b[0m\u001b[0;34m,\u001b[0m \u001b[0ma3\u001b[0m \u001b[0;34m=\u001b[0m \u001b[0mnp\u001b[0m\u001b[0;34m.\u001b[0m\u001b[0marray\u001b[0m\u001b[0;34m(\u001b[0m\u001b[0ma\u001b[0m\u001b[0;34m)\u001b[0m\u001b[0;34m\u001b[0m\u001b[0m\n\u001b[0m\u001b[1;32m      3\u001b[0m     \u001b[0mb1\u001b[0m\u001b[0;34m,\u001b[0m \u001b[0mb2\u001b[0m\u001b[0;34m,\u001b[0m \u001b[0mb3\u001b[0m \u001b[0;34m=\u001b[0m \u001b[0mnp\u001b[0m\u001b[0;34m.\u001b[0m\u001b[0marray\u001b[0m\u001b[0;34m(\u001b[0m\u001b[0mb\u001b[0m\u001b[0;34m)\u001b[0m\u001b[0;34m\u001b[0m\u001b[0m\n\u001b[1;32m      4\u001b[0m     \u001b[0mr0\u001b[0m\u001b[0;34m,\u001b[0m \u001b[0mr1\u001b[0m\u001b[0;34m,\u001b[0m \u001b[0mr2\u001b[0m\u001b[0;34m,\u001b[0m \u001b[0mr3\u001b[0m \u001b[0;34m=\u001b[0m \u001b[0mX\u001b[0m\u001b[0;34m\u001b[0m\u001b[0m\n\u001b[1;32m      5\u001b[0m     \u001b[0mo0\u001b[0m \u001b[0;34m=\u001b[0m \u001b[0ma1\u001b[0m \u001b[0;34m*\u001b[0m \u001b[0mr3\u001b[0m \u001b[0;34m*\u001b[0m \u001b[0mr3\u001b[0m \u001b[0;34m+\u001b[0m \u001b[0;34m(\u001b[0m\u001b[0;36m2.0\u001b[0m \u001b[0;34m*\u001b[0m \u001b[0ma3\u001b[0m \u001b[0;34m*\u001b[0m \u001b[0mr1\u001b[0m \u001b[0;34m-\u001b[0m \u001b[0;36m2.0\u001b[0m \u001b[0;34m*\u001b[0m \u001b[0ma2\u001b[0m \u001b[0;34m*\u001b[0m \u001b[0mr2\u001b[0m\u001b[0;34m)\u001b[0m \u001b[0;34m*\u001b[0m \u001b[0mr3\u001b[0m \u001b[0;34m-\u001b[0m \u001b[0ma1\u001b[0m \u001b[0;34m*\u001b[0m \u001b[0mr2\u001b[0m \u001b[0;34m*\u001b[0m \u001b[0mr2\u001b[0m \u001b[0;34m+\u001b[0m \u001b[0;36m2.0\u001b[0m \u001b[0;34m*\u001b[0m \u001b[0ma3\u001b[0m \u001b[0;34m*\u001b[0m \u001b[0mr0\u001b[0m \u001b[0;34m*\u001b[0m \u001b[0mr2\u001b[0m \u001b[0;34m-\u001b[0m \u001b[0ma1\u001b[0m \u001b[0;34m*\u001b[0m \u001b[0mr1\u001b[0m \u001b[0;34m*\u001b[0m \u001b[0mr1\u001b[0m \u001b[0;34m+\u001b[0m \u001b[0;36m2.0\u001b[0m \u001b[0;34m*\u001b[0m \u001b[0ma2\u001b[0m \u001b[0;34m*\u001b[0m \u001b[0mr0\u001b[0m \u001b[0;34m*\u001b[0m \u001b[0mr1\u001b[0m \u001b[0;34m+\u001b[0m \u001b[0ma1\u001b[0m \u001b[0;34m*\u001b[0m \u001b[0mr0\u001b[0m \u001b[0;34m*\u001b[0m \u001b[0mr0\u001b[0m \u001b[0;34m-\u001b[0m \u001b[0mb1\u001b[0m\u001b[0;34m\u001b[0m\u001b[0m\n",
      "\u001b[0;31mValueError\u001b[0m: too many values to unpack (expected 3)"
     ]
    }
   ],
   "source": [
    "manifold = Sphere(4)\n",
    "problem = Problem(manifold=manifold, cost=cost, verbosity=3)\n",
    "\n",
    "# (3) Instantiate a Pymanopt solver\n",
    "solver = SteepestDescent()\n",
    "# solver = TrustRegions()\n",
    "# solver = ParticleSwarm()\n",
    "# solver = ConjugateGradient()\n",
    "# solver = NelderMead()\n",
    "\n",
    "\n",
    "# let Pymanopt do the rest\n",
    "Xopt = solver.solve(problem, x=np.array([1.,0.,0.,0.]))\n",
    "print(vsr.Rot(*Xopt))\n",
    "print(vsr.Rot(*Xopt).rev() * m0)"
   ]
  },
  {
   "cell_type": "code",
   "execution_count": null,
   "metadata": {
    "collapsed": true
   },
   "outputs": [],
   "source": []
  }
 ],
 "metadata": {
  "kernelspec": {
   "display_name": "Python 3",
   "language": "python",
   "name": "python3"
  },
  "language_info": {
   "codemirror_mode": {
    "name": "ipython",
    "version": 3
   },
   "file_extension": ".py",
   "mimetype": "text/x-python",
   "name": "python",
   "nbconvert_exporter": "python",
   "pygments_lexer": "ipython3",
   "version": "3.6.2"
  }
 },
 "nbformat": 4,
 "nbformat_minor": 2
}
