{
 "cells": [
  {
   "cell_type": "code",
   "execution_count": 1,
   "metadata": {},
   "outputs": [
    {
     "name": "stdout",
     "output_type": "stream",
     "text": [
      "Populating the interactive namespace from numpy and matplotlib\n"
     ]
    }
   ],
   "source": [
    "import sys\n",
    "sys.path.append('../build/')\n",
    "%pylab inline\n",
    "np.set_printoptions(precision=4, suppress=True)\n",
    "import pandas as pd\n",
    "import linear_solver\n",
    "import versor as vsr"
   ]
  },
  {
   "cell_type": "code",
   "execution_count": 2,
   "metadata": {
    "collapsed": true
   },
   "outputs": [],
   "source": [
    "# import autograd.numpy as np\n",
    "\n",
    "from pymanopt.manifolds import manifold\n",
    "from pymanopt.manifolds import Sphere\n",
    "from pymanopt import Problem\n",
    "from pymanopt.solvers import SteepestDescent, TrustRegions, ParticleSwarm, ConjugateGradient, NelderMead\n",
    "from __future__ import division\n",
    "\n",
    "import numpy as np\n",
    "import numpy.linalg as la\n",
    "import numpy.random as rnd\n",
    "\n",
    "from pymanopt.manifolds.manifold import Manifold"
   ]
  },
  {
   "cell_type": "code",
   "execution_count": 3,
   "metadata": {
    "collapsed": true
   },
   "outputs": [],
   "source": [
    "def create_rotor(th_lims=(0, np.pi/2)):\n",
    "    rotor = vsr.Rot(vsr.Biv(*np.random.uniform(-1, 1, 3)).unit()\n",
    "                      * np.random.uniform(*th_lims) * -0.5)\n",
    "    return rotor"
   ]
  },
  {
   "cell_type": "code",
   "execution_count": 4,
   "metadata": {
    "collapsed": true
   },
   "outputs": [],
   "source": [
    "class Motor(Manifold):\n",
    "    def __init__(self):\n",
    "        self._shape = 8\n",
    "        self._name = \"Motor manifold\"\n",
    "\n",
    "    def __str__(self):\n",
    "        return self._name\n",
    "    \n",
    "    @property\n",
    "    def typicaldist(self):\n",
    "        return np.pi\n",
    "    \n",
    "    \n",
    "    def norm(self, X, U):\n",
    "        return la.norm(U)\n",
    "    \n",
    "    def retr(self, X, U):\n",
    "        Y = vsr.Mot(*X) + vsr.Mot(*U)\n",
    "        return np.array(Y.retract())\n",
    "    \n",
    "    def CayleySelig(self, X, U):\n",
    "        M = vsr.Mot(*X)\n",
    "        B = M.rev() * vsr.Mot(*U)\n",
    "        \n",
    "        Rp = vsr.Mot(1.0, B[1], B[2], B[3], 0.0, 0.0, 0.0, 0.0)\n",
    "        Rn = vsr.Mot(1.0, -B[1], -B[2], -B[3], 0.0, 0.0, 0.0, 0.0)\n",
    "        Rninv = Rn.inv()\n",
    "        eps = vsr.Mot(0,0,0,0,0,0,0,-1)\n",
    "        b = vsr.Mot(0.0, B[6], -B[5], B[4], 0.0, 0.0, 0.0, 0.0)\n",
    "        return np.array(M * (Rp * Rninv + eps * Rninv * b * Rninv * 2))\n",
    "\n",
    "    def oexp(self,X,U):\n",
    "\n",
    "        M = vsr.Mot(*X)\n",
    "        B = M.rev() * vsr.Mot(*U)\n",
    "        n = np.sqrt(1 + B[1] * B[1] + B[2] * B[2] + B[3] * B[3])\n",
    "        s = B[1] * B[6] - B[2] * B[5] + B[3] * B[4]\n",
    "        m = vsr.Mot(1.0, B[1], B[2], B[3], B[4], B[5], B[6], s) * (1.0 / n)\n",
    "        return np.array(M * m)\n",
    "\n",
    "    def CayleyLi(self,X, U):        \n",
    "        M = vsr.Mot(*X)\n",
    "        B = M.rev() * vsr.Mot(*U)\n",
    "        B_ = vsr.Mot(0.0, B[1], B[2], B[3], B[4], B[5], B[6], 0.0)\n",
    "        BB = B_ * B_\n",
    "        Rp = vsr.Mot(1.0, B[1], B[2], B[3], B[4], B[5], B[6], 0.0)\n",
    "        R0 = vsr.Mot(1.0 - BB[0], 0.0, 0.0, 0.0, 0.0, 0.0, 0.0, 0.0)\n",
    "        R4 = vsr.Mot(0.0, 0.0, 0.0, 0.0, 0.0, 0.0, 0.0, BB[7])\n",
    "        Rn = R0 + R4\n",
    "        Rden = R0 * R0 \n",
    "        return np.array(M * (Rp * Rp * Rn * Rden.inv()))\n",
    "\n",
    "    def exp(self, X, U):\n",
    "        M = vsr.Mot(*X)\n",
    "        B = M.rev() * vsr.Mot(*U)\n",
    "        return np.array(M * vsr.Dll(B[1], B[2], B[3], B[4], B[5], B[6]).exp())\n",
    "    \n",
    "#     retr = CayleySelig\n",
    "#     retr = oexp\n",
    "#     retr = CayleyLi\n",
    "    retr = exp\n",
    "    \n",
    "    def inner(self, X, U, V):\n",
    "        return float(np.tensordot(U, V, axes=U.ndim))\n",
    "\n",
    "    def norm(self, X, U):\n",
    "        return la.norm(U)\n",
    "\n",
    "    def dist(self, U, V):\n",
    "        # Make sure inner product is between -1 and 1\n",
    "        inner = max(min(self.inner(None, U, V), 1), -1)\n",
    "        return np.arccos(inner)\n",
    "\n",
    "    def proj(self, X, H):\n",
    "        return H - self.inner(None, X, H) * X\n",
    "\n",
    "    egrad2rgrad = proj\n",
    "\n",
    "    def ehess2rhess(self, X, egrad, ehess, U):\n",
    "        return self.proj(X, ehess) - self.inner(None, X, egrad) * U\n",
    "\n",
    "\n",
    "    @property\n",
    "    def dim(self):\n",
    "        return 6"
   ]
  },
  {
   "cell_type": "code",
   "execution_count": 5,
   "metadata": {
    "collapsed": true
   },
   "outputs": [],
   "source": [
    "class Rotator(Sphere):\n",
    "    def __init__(self):\n",
    "        super().__init__(4)\n",
    "        \n",
    "    def exp(self, X, U):\n",
    "        R = vsr.Rot(*X)\n",
    "        g = R.rev() * vsr.Rot(*U)\n",
    "        B = vsr.Biv(g[1], g[2], g[3]) * -1.0\n",
    "        return np.array(R * B.exp())\n",
    "    \n",
    "    def cay(self, X, U):\n",
    "        R = vsr.Rot(*X)\n",
    "        g = R.rev() * vsr.Rot(*U)\n",
    "        Y = vsr.Rot(*self._normalize(np.array([1.0, g[1], g[2], g[3]])))\n",
    "        return np.array(R * Y)\n",
    "    \n",
    "    retr = cay\n",
    "        \n",
    "        "
   ]
  },
  {
   "cell_type": "code",
   "execution_count": 6,
   "metadata": {
    "collapsed": true
   },
   "outputs": [],
   "source": [
    "def create_motor(d_lims=(0, 1), th_lims=(0, np.pi)):\n",
    "    translator = (vsr.Vec(*np.random.random(3)).unit()\n",
    "                  * np.random.uniform(*d_lims)).trs()\n",
    "    rotator = vsr.Rot(vsr.Biv(*np.random.uniform(-1, 1, 3)).unit()\n",
    "                      * np.random.uniform(*th_lims) * -0.5)\n",
    "    motor = translator * rotator\n",
    "    return motor"
   ]
  },
  {
   "cell_type": "code",
   "execution_count": 7,
   "metadata": {
    "collapsed": true
   },
   "outputs": [],
   "source": [
    "n_points=10\n",
    "\n",
    "m0 = create_motor(th_lims=(0,np.pi/3))\n",
    "points_a = [vsr.Vec(*np.random.normal(0.0, 0.8, 3)).null() for i in range(n_points)]\n",
    "points_b = [point.spin(m0) for point in points_a]"
   ]
  },
  {
   "cell_type": "code",
   "execution_count": 8,
   "metadata": {
    "collapsed": true
   },
   "outputs": [],
   "source": [
    "def grade2(Y):\n",
    "    Y[0] = 0.0\n",
    "    Y[26] = 0.0\n",
    "    Y[27] = 0.0\n",
    "    Y[28] = 0.0\n",
    "    Y[29] = 0.0\n",
    "    Y[30] = 0.0\n",
    "    return Y"
   ]
  },
  {
   "cell_type": "code",
   "execution_count": 9,
   "metadata": {
    "collapsed": true
   },
   "outputs": [],
   "source": [
    "def proj(X):\n",
    "    M = vsr.Mot(0,0,0,0,0,0,0,0)\n",
    "    sgns = [1,2,3,7]\n",
    "    for i in range(8):\n",
    "        Ei = vsr.MotRec(0,0,0,0,0,0,0,0)\n",
    "        if i in sgns:\n",
    "            Ei[i] = -1.0\n",
    "        else:\n",
    "            Ei[i] = 1.0\n",
    "            \n",
    "        Ei[i] = 1.0\n",
    "        M[i] = (X * vsr.CGA(Ei))[0]\n",
    "    return vsr.CGA(M)"
   ]
  },
  {
   "cell_type": "code",
   "execution_count": 10,
   "metadata": {
    "collapsed": true
   },
   "outputs": [],
   "source": [
    "def adproj(X):\n",
    "    M = vsr.MotRec(0,0,0,0,0,0,0,0)\n",
    "    sgns = [1,2,3,7]\n",
    "    for i in range(8):\n",
    "        Ei = vsr.Mot(0,0,0,0,0,0,0,0)\n",
    "        if i in sgns:\n",
    "            Ei[i] = -1.0\n",
    "        else:\n",
    "            Ei[i] = 1.0\n",
    "            \n",
    "        M[i] = (vsr.CGA(Ei) * X)[0]\n",
    "    return vsr.CGA(M)"
   ]
  },
  {
   "cell_type": "code",
   "execution_count": null,
   "metadata": {
    "collapsed": true
   },
   "outputs": [],
   "source": []
  },
  {
   "cell_type": "code",
   "execution_count": 11,
   "metadata": {},
   "outputs": [
    {
     "ename": "NameError",
     "evalue": "name 'M' is not defined",
     "output_type": "error",
     "traceback": [
      "\u001b[0;31m---------------------------------------------------------------------------\u001b[0m",
      "\u001b[0;31mNameError\u001b[0m                                 Traceback (most recent call last)",
      "\u001b[0;32m<ipython-input-11-64b8916a77f9>\u001b[0m in \u001b[0;36m<module>\u001b[0;34m()\u001b[0m\n\u001b[1;32m      1\u001b[0m \u001b[0mA\u001b[0m \u001b[0;34m=\u001b[0m \u001b[0mvsr\u001b[0m\u001b[0;34m.\u001b[0m\u001b[0mCGA\u001b[0m\u001b[0;34m(\u001b[0m\u001b[0mpoints_a\u001b[0m\u001b[0;34m[\u001b[0m\u001b[0;36m0\u001b[0m\u001b[0;34m]\u001b[0m\u001b[0;34m)\u001b[0m\u001b[0;34m\u001b[0m\u001b[0m\n\u001b[1;32m      2\u001b[0m \u001b[0mB\u001b[0m \u001b[0;34m=\u001b[0m \u001b[0mvsr\u001b[0m\u001b[0;34m.\u001b[0m\u001b[0mCGA\u001b[0m\u001b[0;34m(\u001b[0m\u001b[0mpoints_b\u001b[0m\u001b[0;34m[\u001b[0m\u001b[0;36m0\u001b[0m\u001b[0;34m]\u001b[0m\u001b[0;34m)\u001b[0m\u001b[0;34m\u001b[0m\u001b[0m\n\u001b[0;32m----> 3\u001b[0;31m \u001b[0mY\u001b[0m \u001b[0;34m=\u001b[0m \u001b[0madproj\u001b[0m\u001b[0;34m(\u001b[0m\u001b[0mgrade2\u001b[0m\u001b[0;34m(\u001b[0m\u001b[0;34m(\u001b[0m\u001b[0mA\u001b[0m \u001b[0;34m*\u001b[0m \u001b[0mM\u001b[0m\u001b[0;34m.\u001b[0m\u001b[0mrev\u001b[0m\u001b[0;34m(\u001b[0m\u001b[0;34m)\u001b[0m \u001b[0;34m*\u001b[0m \u001b[0mB\u001b[0m \u001b[0;34m+\u001b[0m \u001b[0mA\u001b[0m\u001b[0;34m.\u001b[0m\u001b[0mrev\u001b[0m\u001b[0;34m(\u001b[0m\u001b[0;34m)\u001b[0m \u001b[0;34m*\u001b[0m \u001b[0mM\u001b[0m\u001b[0;34m.\u001b[0m\u001b[0mrev\u001b[0m\u001b[0;34m(\u001b[0m\u001b[0;34m)\u001b[0m \u001b[0;34m*\u001b[0m \u001b[0mB\u001b[0m\u001b[0;34m.\u001b[0m\u001b[0mrev\u001b[0m\u001b[0;34m(\u001b[0m\u001b[0;34m)\u001b[0m\u001b[0;34m)\u001b[0m \u001b[0;34m*\u001b[0m \u001b[0mM\u001b[0m\u001b[0;34m)\u001b[0m\u001b[0;34m)\u001b[0m\u001b[0;34m\u001b[0m\u001b[0m\n\u001b[0m\u001b[1;32m      4\u001b[0m G = np.array([(Y * vsr.CGA(vsr.Mot(0,1,0,0,0,0,0,0)))[0],\n\u001b[1;32m      5\u001b[0m \u001b[0;34m(\u001b[0m\u001b[0mY\u001b[0m \u001b[0;34m*\u001b[0m \u001b[0mvsr\u001b[0m\u001b[0;34m.\u001b[0m\u001b[0mCGA\u001b[0m\u001b[0;34m(\u001b[0m\u001b[0mvsr\u001b[0m\u001b[0;34m.\u001b[0m\u001b[0mMot\u001b[0m\u001b[0;34m(\u001b[0m\u001b[0;36m0\u001b[0m\u001b[0;34m,\u001b[0m\u001b[0;36m0\u001b[0m\u001b[0;34m,\u001b[0m\u001b[0;36m1\u001b[0m\u001b[0;34m,\u001b[0m\u001b[0;36m0\u001b[0m\u001b[0;34m,\u001b[0m\u001b[0;36m0\u001b[0m\u001b[0;34m,\u001b[0m\u001b[0;36m0\u001b[0m\u001b[0;34m,\u001b[0m\u001b[0;36m0\u001b[0m\u001b[0;34m,\u001b[0m\u001b[0;36m0\u001b[0m\u001b[0;34m)\u001b[0m\u001b[0;34m)\u001b[0m\u001b[0;34m)\u001b[0m\u001b[0;34m[\u001b[0m\u001b[0;36m0\u001b[0m\u001b[0;34m]\u001b[0m\u001b[0;34m,\u001b[0m\u001b[0;34m\u001b[0m\u001b[0m\n",
      "\u001b[0;31mNameError\u001b[0m: name 'M' is not defined"
     ]
    }
   ],
   "source": [
    "A = vsr.CGA(points_a[0])\n",
    "B = vsr.CGA(points_b[0])\n",
    "Y = adproj(grade2((A * M.rev() * B + A.rev() * M.rev() * B.rev()) * M))\n",
    "G = np.array([(Y * vsr.CGA(vsr.Mot(0,1,0,0,0,0,0,0)))[0],\n",
    "(Y * vsr.CGA(vsr.Mot(0,0,1,0,0,0,0,0)))[0],\n",
    "(Y * vsr.CGA(vsr.Mot(0,0,0,1,0,0,0,0)))[0],\n",
    "(Y * vsr.CGA(vsr.Mot(0,0,0,0,1,0,0,0)))[0],\n",
    "(Y * vsr.CGA(vsr.Mot(0,0,0,0,0,1,0,0)))[0],\n",
    "(Y * vsr.CGA(vsr.Mot(0,0,0,0,0,0,1,0)))[0]]).reshape(6)\n",
    "G"
   ]
  },
  {
   "cell_type": "code",
   "execution_count": 12,
   "metadata": {},
   "outputs": [],
   "source": [
    "man = Sphere(4)"
   ]
  },
  {
   "cell_type": "code",
   "execution_count": 13,
   "metadata": {
    "collapsed": true
   },
   "outputs": [],
   "source": [
    "R = create_rotor()"
   ]
  },
  {
   "cell_type": "code",
   "execution_count": 14,
   "metadata": {},
   "outputs": [],
   "source": [
    "G = vsr.Rot(1,2,3,4)"
   ]
  },
  {
   "cell_type": "code",
   "execution_count": 15,
   "metadata": {},
   "outputs": [
    {
     "data": {
      "text/plain": [
       "array([ 0.1317,  2.3905,  3.3176,  3.4585])"
      ]
     },
     "execution_count": 15,
     "metadata": {},
     "output_type": "execute_result"
    }
   ],
   "source": [
    "man.proj(np.array(R), np.array(G))"
   ]
  },
  {
   "cell_type": "code",
   "execution_count": 16,
   "metadata": {},
   "outputs": [
    {
     "data": {
      "text/plain": [
       "Rot: [ 0.71 1.9 2.9 4.2 ]"
      ]
     },
     "execution_count": 16,
     "metadata": {},
     "output_type": "execute_result"
    }
   ],
   "source": [
    "Y = (G * R).biv() * R.rev()\n",
    "Y"
   ]
  },
  {
   "cell_type": "code",
   "execution_count": 17,
   "metadata": {},
   "outputs": [
    {
     "data": {
      "text/plain": [
       "array([ 0.1317,  2.3905,  3.3176,  3.4585])"
      ]
     },
     "execution_count": 17,
     "metadata": {},
     "output_type": "execute_result"
    }
   ],
   "source": [
    "Y = R * (R.rev() * G).biv()\n",
    "np.array(Y)"
   ]
  },
  {
   "cell_type": "code",
   "execution_count": 18,
   "metadata": {},
   "outputs": [
    {
     "ename": "NameError",
     "evalue": "name 'M' is not defined",
     "output_type": "error",
     "traceback": [
      "\u001b[0;31m---------------------------------------------------------------------------\u001b[0m",
      "\u001b[0;31mNameError\u001b[0m                                 Traceback (most recent call last)",
      "\u001b[0;32m<ipython-input-18-fe32c3418873>\u001b[0m in \u001b[0;36m<module>\u001b[0;34m()\u001b[0m\n\u001b[0;32m----> 1\u001b[0;31m \u001b[0mY\u001b[0m \u001b[0;34m=\u001b[0m \u001b[0madproj\u001b[0m\u001b[0;34m(\u001b[0m\u001b[0mM\u001b[0m \u001b[0;34m*\u001b[0m  \u001b[0mgrade2\u001b[0m\u001b[0;34m(\u001b[0m\u001b[0mM\u001b[0m\u001b[0;34m.\u001b[0m\u001b[0mrev\u001b[0m\u001b[0;34m(\u001b[0m\u001b[0;34m)\u001b[0m \u001b[0;34m*\u001b[0m \u001b[0;34m(\u001b[0m\u001b[0mA\u001b[0m \u001b[0;34m*\u001b[0m \u001b[0mM\u001b[0m\u001b[0;34m.\u001b[0m\u001b[0mrev\u001b[0m\u001b[0;34m(\u001b[0m\u001b[0;34m)\u001b[0m \u001b[0;34m*\u001b[0m \u001b[0mB\u001b[0m \u001b[0;34m+\u001b[0m \u001b[0mA\u001b[0m\u001b[0;34m.\u001b[0m\u001b[0mrev\u001b[0m\u001b[0;34m(\u001b[0m\u001b[0;34m)\u001b[0m \u001b[0;34m*\u001b[0m \u001b[0mM\u001b[0m\u001b[0;34m.\u001b[0m\u001b[0mrev\u001b[0m\u001b[0;34m(\u001b[0m\u001b[0;34m)\u001b[0m \u001b[0;34m*\u001b[0m \u001b[0mB\u001b[0m\u001b[0;34m.\u001b[0m\u001b[0mrev\u001b[0m\u001b[0;34m(\u001b[0m\u001b[0;34m)\u001b[0m\u001b[0;34m)\u001b[0m\u001b[0;34m)\u001b[0m\u001b[0;34m)\u001b[0m\u001b[0;34m\u001b[0m\u001b[0m\n\u001b[0m\u001b[1;32m      2\u001b[0m \u001b[0mY\u001b[0m\u001b[0;34m\u001b[0m\u001b[0m\n",
      "\u001b[0;31mNameError\u001b[0m: name 'M' is not defined"
     ]
    }
   ],
   "source": [
    "Y = adproj(M *  grade2(M.rev() * (A * M.rev() * B + A.rev() * M.rev() * B.rev())))\n",
    "Y"
   ]
  },
  {
   "cell_type": "code",
   "execution_count": null,
   "metadata": {
    "collapsed": true
   },
   "outputs": [],
   "source": []
  },
  {
   "cell_type": "code",
   "execution_count": 19,
   "metadata": {},
   "outputs": [
    {
     "ename": "TypeError",
     "evalue": "__mul__(): incompatible function arguments. The following argument types are supported:\n    1. (self: versor_pybind11.Rot, arg0: float) -> versor_pybind11.Rot\n    2. (self: versor_pybind11.Rot, arg0: versor_pybind11.Biv) -> versor_pybind11.Rot\n    3. (self: versor_pybind11.Rot, arg0: vsr::Multivector<vsr::algebra<vsr::metric<4, 1, true>, double>, vsr::Basis<(short)0, (short)17, (short)18, (short)20> >) -> vsr::Multivector<vsr::algebra<vsr::metric<4, 1, true>, double>, vsr::Basis<(short)0, (short)3, (short)5, (short)6, (short)17, (short)18, (short)20, (short)23> >\n    4. (self: versor_pybind11.Rot, arg0: versor_pybind11.Rot) -> versor_pybind11.Rot\n\nInvoked with: Rot: [ 0.13 2.4 3.3 3.5 ], CGA: [ 1 0 0 0 0 0 0 0 0 0 0 0 0 0 0 0 0 0 0 0 0 0 0 0 0 0 0 0 0 0 0 0 ]",
     "output_type": "error",
     "traceback": [
      "\u001b[0;31m---------------------------------------------------------------------------\u001b[0m",
      "\u001b[0;31mTypeError\u001b[0m                                 Traceback (most recent call last)",
      "\u001b[0;32m<ipython-input-19-8054413fd128>\u001b[0m in \u001b[0;36m<module>\u001b[0;34m()\u001b[0m\n\u001b[0;32m----> 1\u001b[0;31m \u001b[0mproj\u001b[0m\u001b[0;34m(\u001b[0m\u001b[0mY\u001b[0m\u001b[0;34m)\u001b[0m\u001b[0;34m\u001b[0m\u001b[0m\n\u001b[0m",
      "\u001b[0;32m<ipython-input-9-f61985e7cf90>\u001b[0m in \u001b[0;36mproj\u001b[0;34m(X)\u001b[0m\n\u001b[1;32m     10\u001b[0m \u001b[0;34m\u001b[0m\u001b[0m\n\u001b[1;32m     11\u001b[0m         \u001b[0mEi\u001b[0m\u001b[0;34m[\u001b[0m\u001b[0mi\u001b[0m\u001b[0;34m]\u001b[0m \u001b[0;34m=\u001b[0m \u001b[0;36m1.0\u001b[0m\u001b[0;34m\u001b[0m\u001b[0m\n\u001b[0;32m---> 12\u001b[0;31m         \u001b[0mM\u001b[0m\u001b[0;34m[\u001b[0m\u001b[0mi\u001b[0m\u001b[0;34m]\u001b[0m \u001b[0;34m=\u001b[0m \u001b[0;34m(\u001b[0m\u001b[0mX\u001b[0m \u001b[0;34m*\u001b[0m \u001b[0mvsr\u001b[0m\u001b[0;34m.\u001b[0m\u001b[0mCGA\u001b[0m\u001b[0;34m(\u001b[0m\u001b[0mEi\u001b[0m\u001b[0;34m)\u001b[0m\u001b[0;34m)\u001b[0m\u001b[0;34m[\u001b[0m\u001b[0;36m0\u001b[0m\u001b[0;34m]\u001b[0m\u001b[0;34m\u001b[0m\u001b[0m\n\u001b[0m\u001b[1;32m     13\u001b[0m     \u001b[0;32mreturn\u001b[0m \u001b[0mvsr\u001b[0m\u001b[0;34m.\u001b[0m\u001b[0mCGA\u001b[0m\u001b[0;34m(\u001b[0m\u001b[0mM\u001b[0m\u001b[0;34m)\u001b[0m\u001b[0;34m\u001b[0m\u001b[0m\n",
      "\u001b[0;31mTypeError\u001b[0m: __mul__(): incompatible function arguments. The following argument types are supported:\n    1. (self: versor_pybind11.Rot, arg0: float) -> versor_pybind11.Rot\n    2. (self: versor_pybind11.Rot, arg0: versor_pybind11.Biv) -> versor_pybind11.Rot\n    3. (self: versor_pybind11.Rot, arg0: vsr::Multivector<vsr::algebra<vsr::metric<4, 1, true>, double>, vsr::Basis<(short)0, (short)17, (short)18, (short)20> >) -> vsr::Multivector<vsr::algebra<vsr::metric<4, 1, true>, double>, vsr::Basis<(short)0, (short)3, (short)5, (short)6, (short)17, (short)18, (short)20, (short)23> >\n    4. (self: versor_pybind11.Rot, arg0: versor_pybind11.Rot) -> versor_pybind11.Rot\n\nInvoked with: Rot: [ 0.13 2.4 3.3 3.5 ], CGA: [ 1 0 0 0 0 0 0 0 0 0 0 0 0 0 0 0 0 0 0 0 0 0 0 0 0 0 0 0 0 0 0 0 ]"
     ]
    }
   ],
   "source": [
    "proj(Y)"
   ]
  },
  {
   "cell_type": "code",
   "execution_count": 20,
   "metadata": {},
   "outputs": [
    {
     "ename": "TypeError",
     "evalue": "__mul__(): incompatible function arguments. The following argument types are supported:\n    1. (self: versor_pybind11.CGA, arg0: float) -> versor_pybind11.CGA\n    2. (self: versor_pybind11.CGA, arg0: versor_pybind11.CGA) -> versor_pybind11.CGA\n\nInvoked with: CGA: [ 1 0 0 0 0 0 0 0 0 0 0 0 0 0 0 0 0 0 0 0 0 0 0 0 0 0 0 0 0 0 0 0 ], Rot: [ 0.13 2.4 3.3 3.5 ]",
     "output_type": "error",
     "traceback": [
      "\u001b[0;31m---------------------------------------------------------------------------\u001b[0m",
      "\u001b[0;31mTypeError\u001b[0m                                 Traceback (most recent call last)",
      "\u001b[0;32m<ipython-input-20-34bec7afa358>\u001b[0m in \u001b[0;36m<module>\u001b[0;34m()\u001b[0m\n\u001b[0;32m----> 1\u001b[0;31m \u001b[0madproj\u001b[0m\u001b[0;34m(\u001b[0m\u001b[0mY\u001b[0m\u001b[0;34m)\u001b[0m\u001b[0;34m\u001b[0m\u001b[0m\n\u001b[0m",
      "\u001b[0;32m<ipython-input-10-6fc96c70eb6f>\u001b[0m in \u001b[0;36madproj\u001b[0;34m(X)\u001b[0m\n\u001b[1;32m      9\u001b[0m             \u001b[0mEi\u001b[0m\u001b[0;34m[\u001b[0m\u001b[0mi\u001b[0m\u001b[0;34m]\u001b[0m \u001b[0;34m=\u001b[0m \u001b[0;36m1.0\u001b[0m\u001b[0;34m\u001b[0m\u001b[0m\n\u001b[1;32m     10\u001b[0m \u001b[0;34m\u001b[0m\u001b[0m\n\u001b[0;32m---> 11\u001b[0;31m         \u001b[0mM\u001b[0m\u001b[0;34m[\u001b[0m\u001b[0mi\u001b[0m\u001b[0;34m]\u001b[0m \u001b[0;34m=\u001b[0m \u001b[0;34m(\u001b[0m\u001b[0mvsr\u001b[0m\u001b[0;34m.\u001b[0m\u001b[0mCGA\u001b[0m\u001b[0;34m(\u001b[0m\u001b[0mEi\u001b[0m\u001b[0;34m)\u001b[0m \u001b[0;34m*\u001b[0m \u001b[0mX\u001b[0m\u001b[0;34m)\u001b[0m\u001b[0;34m[\u001b[0m\u001b[0;36m0\u001b[0m\u001b[0;34m]\u001b[0m\u001b[0;34m\u001b[0m\u001b[0m\n\u001b[0m\u001b[1;32m     12\u001b[0m     \u001b[0;32mreturn\u001b[0m \u001b[0mvsr\u001b[0m\u001b[0;34m.\u001b[0m\u001b[0mCGA\u001b[0m\u001b[0;34m(\u001b[0m\u001b[0mM\u001b[0m\u001b[0;34m)\u001b[0m\u001b[0;34m\u001b[0m\u001b[0m\n",
      "\u001b[0;31mTypeError\u001b[0m: __mul__(): incompatible function arguments. The following argument types are supported:\n    1. (self: versor_pybind11.CGA, arg0: float) -> versor_pybind11.CGA\n    2. (self: versor_pybind11.CGA, arg0: versor_pybind11.CGA) -> versor_pybind11.CGA\n\nInvoked with: CGA: [ 1 0 0 0 0 0 0 0 0 0 0 0 0 0 0 0 0 0 0 0 0 0 0 0 0 0 0 0 0 0 0 0 ], Rot: [ 0.13 2.4 3.3 3.5 ]"
     ]
    }
   ],
   "source": [
    "adproj(Y)"
   ]
  },
  {
   "cell_type": "code",
   "execution_count": 21,
   "metadata": {},
   "outputs": [
    {
     "ename": "NameError",
     "evalue": "name 'M' is not defined",
     "output_type": "error",
     "traceback": [
      "\u001b[0;31m---------------------------------------------------------------------------\u001b[0m",
      "\u001b[0;31mNameError\u001b[0m                                 Traceback (most recent call last)",
      "\u001b[0;32m<ipython-input-21-fa11d6b12470>\u001b[0m in \u001b[0;36m<module>\u001b[0;34m()\u001b[0m\n\u001b[0;32m----> 1\u001b[0;31m \u001b[0mnp\u001b[0m\u001b[0;34m.\u001b[0m\u001b[0marray\u001b[0m\u001b[0;34m(\u001b[0m\u001b[0mvsr\u001b[0m\u001b[0;34m.\u001b[0m\u001b[0mMot\u001b[0m\u001b[0;34m(\u001b[0m\u001b[0mproj\u001b[0m\u001b[0;34m(\u001b[0m\u001b[0;34m(\u001b[0m\u001b[0mM\u001b[0m\u001b[0;34m.\u001b[0m\u001b[0mrev\u001b[0m\u001b[0;34m(\u001b[0m\u001b[0;34m)\u001b[0m \u001b[0;34m*\u001b[0m \u001b[0mvsr\u001b[0m\u001b[0;34m.\u001b[0m\u001b[0mCGA\u001b[0m\u001b[0;34m(\u001b[0m\u001b[0mvsr\u001b[0m\u001b[0;34m.\u001b[0m\u001b[0mMot\u001b[0m\u001b[0;34m(\u001b[0m\u001b[0;34m*\u001b[0m\u001b[0mgradk3\u001b[0m\u001b[0;34m(\u001b[0m\u001b[0mpoints_a\u001b[0m\u001b[0;34m[\u001b[0m\u001b[0;36m0\u001b[0m\u001b[0;34m]\u001b[0m\u001b[0;34m,\u001b[0m \u001b[0mpoints_b\u001b[0m\u001b[0;34m[\u001b[0m\u001b[0;36m0\u001b[0m\u001b[0;34m]\u001b[0m\u001b[0;34m,\u001b[0m \u001b[0mnp\u001b[0m\u001b[0;34m.\u001b[0m\u001b[0marray\u001b[0m\u001b[0;34m(\u001b[0m\u001b[0mvsr\u001b[0m\u001b[0;34m.\u001b[0m\u001b[0mMot\u001b[0m\u001b[0;34m(\u001b[0m\u001b[0mM\u001b[0m\u001b[0;34m)\u001b[0m\u001b[0;34m)\u001b[0m\u001b[0;34m)\u001b[0m\u001b[0;34m)\u001b[0m\u001b[0;34m)\u001b[0m\u001b[0;34m)\u001b[0m\u001b[0;34m)\u001b[0m\u001b[0;34m)\u001b[0m\u001b[0;34m.\u001b[0m\u001b[0mdll\u001b[0m\u001b[0;34m(\u001b[0m\u001b[0;34m)\u001b[0m\u001b[0;34m)\u001b[0m\u001b[0;34m\u001b[0m\u001b[0m\n\u001b[0m",
      "\u001b[0;31mNameError\u001b[0m: name 'M' is not defined"
     ]
    }
   ],
   "source": [
    "np.array(vsr.Mot(proj((M.rev() * vsr.CGA(vsr.Mot(*gradk3(points_a[0], points_b[0], np.array(vsr.Mot(M)))))))).dll())"
   ]
  },
  {
   "cell_type": "code",
   "execution_count": 22,
   "metadata": {
    "collapsed": true
   },
   "outputs": [],
   "source": [
    "def rotor_rotate_vector(a, X):\n",
    "    a1, a2, a3 = np.array(a)\n",
    "    r0, r1, r2, r3 = np.array(X)\n",
    "    return (a1 * r3 * r3 + (2.0 * a3 * r1 - 2.0 * a2 * r2) * r3 - a1 * r2 * r2 + 2.0 * a3 * r0 * r2 - a1 * r1 * r1 + 2.0 * a2 * r0 * r1 + a1 * r0 * r0,\n",
    "            (-a2) * r3 * r3 + (2.0 * a3 * r0 - 2.0 * a1 * r2) * r3 + a2 * r2 * r2 - 2.0 * a3 * r1 * r2 - a2 * r1 * r1 - 2.0 * a1 * r0 * r1 + a2 * r0 * r0,\n",
    "            (-a3) * r3 * r3 + (2.0 * a1 * r1 - 2.0 * a2 * r0) * r3 - a3 * r2 * r2 + (-2.0 * a2 * r1 - 2.0 * a1 * r0) * r2 + a3 * r1 * r1 + a3 * r0 * r0)"
   ]
  },
  {
   "cell_type": "code",
   "execution_count": 23,
   "metadata": {
    "collapsed": true
   },
   "outputs": [],
   "source": [
    "def gradk(a, b, X):\n",
    "    a1, a2, a3 = np.array(a)\n",
    "    b1, b2, b3 = np.array(b)\n",
    "    r0, r1, r2, r3 = np.array(X)\n",
    "    return np.array(vsr.Rot(r0, r1, r2, r3) * vsr.Biv(\n",
    "        (-2.0 * a1 * b2 - 2.0 * a2 * b1) * r3 * r3 + ((4.0 * a2 * b2 - 4.0 * a1 * b1) * r2 - 4.0 * a2 * b3 * r1 - 4.0 * a1 * b3 * r0) * r3 + (2.0 * a1 * b2 + 2.0 * a2 * b1) * r2 * r2 + (4.0 * a2 * b3 * r0 - 4.0 * a1 * b3 * r1) * r2 + (2.0 * a2 * b1 - 2.0 * a1 * b2) * r1 * r1 + (4.0 * a2 * b2 + 4.0 * a1 * b1) * r0 * r1 + (2.0 * a1 * b2 - 2.0 * a2 * b1) * r0 * r0,\n",
    "        (-2.0 * a1 * b3 - 2.0 * a3 * b1) * r3 * r3 + (4.0 * a3 * b2 * r2 + (4.0 * a1 * b1 - 4.0 * a3 * b3) * r1 + 4.0 * a1 * b2 * r0) * r3 + (2.0 * a3 * b1 - 2.0 * a1 * b3) * r2 * r2 + ((4.0 * a3 * b3 + 4.0 * a1 * b1) * r0 - 4.0 * a1 * b2 * r1) * r2 + (2.0 * a1 * b3 + 2.0 * a3 * b1) * r1 * r1 + 4.0 * a3 * b2 * r0 * r1 + (2.0 * a1 * b3 - 2.0 * a3 * b1) * r0 * r0,\n",
    "        (2.0 * a3 * b2 - 2.0 * a2 * b3) * r3 * r3 + (4.0 * a3 * b1 * r2 + 4.0 * a2 * b1 * r1 + (4.0 * a3 * b3 + 4.0 * a2 * b2) * r0) * r3 + (-2.0 * a2 * b3 - 2.0 * a3 * b2) * r2 * r2 + ((4.0 * a3 * b3 - 4.0 * a2 * b2) * r1 + 4.0 * a2 * b1 * r0) * r2 + (2.0 * a2 * b3 + 2.0 * a3 * b2) * r1 * r1 - 4.0 * a3 * b1 * r0 * r1 + (2.0 * a2 * b3 - 2.0 * a3 * b2) * r0 * r0))"
   ]
  },
  {
   "cell_type": "code",
   "execution_count": 24,
   "metadata": {
    "collapsed": true
   },
   "outputs": [],
   "source": [
    "def grad_explicit(X): \n",
    "    g = np.sum([gradk(a, b, X) for a, b in zip(points_a, points_b)], axis=0) * 2.0\n",
    "    return g"
   ]
  },
  {
   "cell_type": "code",
   "execution_count": 25,
   "metadata": {
    "collapsed": true
   },
   "outputs": [],
   "source": [
    "def costk3(a, b, X):\n",
    "    a1, a2, a3, a4, a5 = np.array(a)\n",
    "    b1, b2, b3, b4, b5 = np.array(b)\n",
    "    m1, m2, m3, m4, m5, m6, m7, m8 = X\n",
    "    return 4.0 * a4 * b4 * m8 * m8 + ((4.0 * a4 * b1 - 4.0 * a1 * b4) * m4 + (4.0 * a2 * b4 - 4.0 * a4 * b2) * m3 + (4.0 * a4 * b3 - 4.0 * a3 * b4) * m2) * m8 + 4.0 * a4 * b4 * m7 * m7 + ((4.0 * a2 * b4 + 4.0 * a4 * b2) * m4 + (4.0 * a1 * b4 + 4.0 * a4 * b1) * m3 + (4.0 * a4 * b3 - 4.0 * a3 * b4) * m1) * m7 + 4.0 * a4 * b4 * m6 * m6 + ((-4.0 * a3 * b4 - 4.0 * a4 * b3) * m4 + (4.0 * a1 * b4 + 4.0 * a4 * b1) * m2 + (4.0 * a4 * b2 - 4.0 * a2 * b4) * m1) * m6 + 4.0 * a4 * b4 * m5 * m5 + ((-4.0 * a3 * b4 - 4.0 * a4 * b3) * m3 + (-4.0 * a2 * b4 - 4.0 * a4 * b2) * m2 + (4.0 * a4 * b1 - 4.0 * a1 * b4) * m1) * m5 + (2.0 * a4 * b5 + 2.0 * a5 * b4 + 2.0 * a3 * b3 + 2.0 * a2 * b2 - 2.0 * a1 * b1) * m4 * m4 + ((4.0 * a1 * b2 + 4.0 * a2 * b1) * m3 + (-4.0 * a1 * b3 - 4.0 * a3 * b1) * m2 + (4.0 * a2 * b3 - 4.0 * a3 * b2) * m1) * m4 + (2.0 * a4 * b5 + 2.0 * a5 * b4 + 2.0 * a3 * b3 - 2.0 * a2 * b2 + 2.0 * a1 * b1) * m3 * m3 + ((4.0 * a2 * b3 + 4.0 * a3 * b2) * m2 + (4.0 * a1 * b3 - 4.0 * a3 * b1) * m1) * m3 + (2.0 * a4 * b5 + 2.0 * a5 * b4 - 2.0 * a3 * b3 + 2.0 * a2 * b2 + 2.0 * a1 * b1) * m2 * m2 + (4.0 * a1 * b2 - 4.0 * a2 * b1) * m1 * m2 + (2.0 * a4 * b5 + 2.0 * a5 * b4 - 2.0 * a3 * b3 - 2.0 * a2 * b2 - 2.0 * a1 * b1) * m1 * m1"
   ]
  },
  {
   "cell_type": "code",
   "execution_count": 26,
   "metadata": {
    "collapsed": true
   },
   "outputs": [],
   "source": [
    "def cost3(X): \n",
    "    return np.sum([costk3(a, b, X) for a, b in zip(points_a, points_b)])"
   ]
  },
  {
   "cell_type": "code",
   "execution_count": 27,
   "metadata": {
    "collapsed": true
   },
   "outputs": [],
   "source": [
    "def gradk3(a,b,X):\n",
    "    a1, a2, a3, a4, a5 = np.array(a)\n",
    "    b1, b2, b3, b4, b5 = np.array(b)\n",
    "    m1, m2, m3, m4, m5, m6, m7, m8 = X\n",
    "    B0 = (-4.0 * a2 * b4 * m4 - 4.0 * a1 * b4 * m3) * m8 + (4.0 * a2 * b4 * m3 - 4.0 * a1 * b4 * m4) * m7 + (4.0 * a2 * b4 * m2 + 4.0 * a1 * b4 * m1) * m6 + (4.0 * a1 * b4 * m2 - 4.0 * a2 * b4 * m1) * m5 + (-2.0 * a1 * b2 - 2.0 * a2 * b1) * m4 * m4 + ((4.0 * a2 * b2 - 4.0 * a1 * b1) * m3 - 4.0 * a2 * b3 * m2 - 4.0 * a1 * b3 * m1) * m4 + (2.0 * a1 * b2 + 2.0 * a2 * b1) * m3 * m3 + (4.0 * a2 * b3 * m1 - 4.0 * a1 * b3 * m2) * m3 + (2.0 * a2 * b1 - 2.0 * a1 * b2) * m2 * m2 + (4.0 * a2 * b2 + 4.0 * a1 * b1) * m1 * m2 + (2.0 * a1 * b2 - 2.0 * a2 * b1) * m1 * m1\n",
    "    B1 = (4.0 * a1 * b4 * m2 - 4.0 * a3 * b4 * m4) * m8 + (4.0 * a3 * b4 * m3 + 4.0 * a1 * b4 * m1) * m7 + (4.0 * a1 * b4 * m4 + 4.0 * a3 * b4 * m2) * m6 + (4.0 * a1 * b4 * m3 - 4.0 * a3 * b4 * m1) * m5 + (-2.0 * a1 * b3 - 2.0 * a3 * b1) * m4 * m4 + (4.0 * a3 * b2 * m3 + (4.0 * a1 * b1 - 4.0 * a3 * b3) * m2 + 4.0 * a1 * b2 * m1) * m4 + (2.0 * a3 * b1 - 2.0 * a1 * b3) * m3 * m3 + ((4.0 * a3 * b3 + 4.0 * a1 * b1) * m1 - 4.0 * a1 * b2 * m2) * m3 + (2.0 * a1 * b3 + 2.0 * a3 * b1) * m2 * m2 + 4.0 * a3 * b2 * m1 * m2 + (2.0 * a1 * b3 - 2.0 * a3 * b1) * m1 * m1\n",
    "    B2 = (4.0 * a3 * b4 * m3 + 4.0 * a2 * b4 * m2) * m8 + (4.0 * a3 * b4 * m4 + 4.0 * a2 * b4 * m1) * m7 + (4.0 * a2 * b4 * m4 - 4.0 * a3 * b4 * m1) * m6 + (4.0 * a2 * b4 * m3 - 4.0 * a3 * b4 * m2) * m5 + (2.0 * a3 * b2 - 2.0 * a2 * b3) * m4 * m4 + (4.0 * a3 * b1 * m3 + 4.0 * a2 * b1 * m2 + (4.0 * a3 * b3 + 4.0 * a2 * b2) * m1) * m4 + (-2.0 * a2 * b3 - 2.0 * a3 * b2) * m3 * m3 + ((4.0 * a3 * b3 - 4.0 * a2 * b2) * m2 + 4.0 * a2 * b1 * m1) * m3 + (2.0 * a2 * b3 + 2.0 * a3 * b2) * m2 * m2 - 4.0 * a3 * b1 * m1 * m2 + (2.0 * a2 * b3 - 2.0 * a3 * b2) * m1 * m1\n",
    "    B3 = 4.0 * a4 * b4 * m4 * m8 - 4.0 * a4 * b4 * m3 * m7 - 4.0 * a4 * b4 * m2 * m6 + 4.0 * a4 * b4 * m1 * m5 + (2.0 * a4 * b1 - 2.0 * a1 * b4) * m4 * m4 + (4.0 * a4 * b3 * m2 - 4.0 * a4 * b2 * m3) * m4 + (-2.0 * a1 * b4 - 2.0 * a4 * b1) * m3 * m3 - 4.0 * a4 * b3 * m1 * m3 + (-2.0 * a1 * b4 - 2.0 * a4 * b1) * m2 * m2 - 4.0 * a4 * b2 * m1 * m2 + (2.0 * a4 * b1 - 2.0 * a1 * b4) * m1 * m1\n",
    "    B4 = -4.0 * a4 * b4 * m3 * m8 - 4.0 * a4 * b4 * m4 * m7 + 4.0 * a4 * b4 * m1 * m6 + 4.0 * a4 * b4 * m2 * m5 + (-2.0 * a2 * b4 - 2.0 * a4 * b2) * m4 * m4 + (-4.0 * a4 * b1 * m3 - 4.0 * a4 * b3 * m1) * m4 + (2.0 * a4 * b2 - 2.0 * a2 * b4) * m3 * m3 - 4.0 * a4 * b3 * m2 * m3 + (-2.0 * a2 * b4 - 2.0 * a4 * b2) * m2 * m2 + 4.0 * a4 * b1 * m1 * m2 + (2.0 * a4 * b2 - 2.0 * a2 * b4) * m1 * m1\n",
    "    B5 = 4.0 * a4 * b4 * m2 * m8 + 4.0 * a4 * b4 * m1 * m7 + 4.0 * a4 * b4 * m4 * m6 + 4.0 * a4 * b4 * m3 * m5 + (-2.0 * a3 * b4 - 2.0 * a4 * b3) * m4 * m4 + (4.0 * a4 * b1 * m2 + 4.0 * a4 * b2 * m1) * m4 + (-2.0 * a3 * b4 - 2.0 * a4 * b3) * m3 * m3 + (4.0 * a4 * b1 * m1 - 4.0 * a4 * b2 * m2) * m3 + (2.0 * a4 * b3 - 2.0 * a3 * b4) * m2 * m2 + (2.0 * a4 * b3 - 2.0 * a3 * b4) * m1 * m1\n",
    "    return np.array(vsr.Mot(m1, m2, m3, m4, m5, m6, m7, m8) * vsr.Dll(B0, B1, B2, B3, B4, B5))"
   ]
  },
  {
   "cell_type": "code",
   "execution_count": 28,
   "metadata": {
    "collapsed": true
   },
   "outputs": [],
   "source": [
    "def grad_explicit3(X): \n",
    "    g = np.sum([gradk3(a, b, X) for a, b in zip(points_a, points_b)], axis=0) * 2.0\n",
    "    return g"
   ]
  },
  {
   "cell_type": "code",
   "execution_count": null,
   "metadata": {
    "collapsed": true
   },
   "outputs": [],
   "source": []
  },
  {
   "cell_type": "code",
   "execution_count": 29,
   "metadata": {
    "collapsed": true
   },
   "outputs": [],
   "source": [
    "def costk(a, b, X): \n",
    "    a1, a2, a3 = np.array(a)\n",
    "    b1, b2, b3 = np.array(b)\n",
    "    r0, r1, r2, r3 = X\n",
    "    o0 = a1 * r3 * r3 + (2.0 * a3 * r1 - 2.0 * a2 * r2) * r3 - a1 * r2 * r2 + 2.0 * a3 * r0 * r2 - a1 * r1 * r1 + 2.0 * a2 * r0 * r1 + a1 * r0 * r0 - b1\n",
    "    o1 = (-a2) * r3 * r3 + (2.0 * a3 * r0 - 2.0 * a1 * r2) * r3 + a2 * r2 * r2 - 2.0 * a3 * r1 * r2 - a2 * r1 * r1 - 2.0 * a1 * r0 * r1 + a2 * r0 * r0 - b2\n",
    "    o2 = (-a3) * r3 * r3 + (2.0 * a1 * r1 - 2.0 * a2 * r0) * r3 - a3 * r2 * r2 + (-2.0 * a2 * r1 - 2.0 * a1 * r0) * r2 + a3 * r1 * r1 + a3 * r0 * r0 - b3\n",
    "    return o0 * o0 + o1 * o1 + o2 * o2\n",
    "\n",
    "def costk2(a, b, X):\n",
    "    a1, a2, a3 = np.array(a)\n",
    "    b1, b2, b3 = np.array(b)\n",
    "    r0, r1, r2, r3 = X\n",
    "    return ((a3 * b3 + a2 * b2 - a1 * b1) * r3 * r3 +\n",
    "            ((2.0 * a1 * b2 + 2.0 * a2 * b1) * r2 + \n",
    "             (-2.0 * a1 * b3 - 2.0 * a3 * b1) * r1 + \n",
    "             (2.0 * a2 * b3 - 2.0 * a3 * b2) * r0) * r3 + \n",
    "            (a3 * b3 - a2 * b2 + a1 * b1) * r2 * r2 + \n",
    "            ((2.0 * a2 * b3 + 2.0 * a3 * b2) * r1 + \n",
    "             (2.0 * a1 * b3 - 2.0 * a3 * b1) * r0) * r2 + \n",
    "            ((-a3) * b3 + a2 * b2 + a1 * b1) * r1 * r1 + \n",
    "            (2.0 * a1 * b2 - 2.0 * a2 * b1) * r0 * r1 + \n",
    "            ((-a3) * b3 - a2 * b2 - a1 * b1) * r0 * r0)\n",
    "\n",
    "# (2) Define the cost function (here using autograd.numpy)\n",
    "def cost(X): \n",
    "    return np.sum([costk(a, b, X) for a, b in zip(points_a, points_b)])\n",
    "\n",
    "def cost2(X): \n",
    "    return np.sum([costk2(a, b, X) for a, b in zip(points_a, points_b)])"
   ]
  },
  {
   "cell_type": "code",
   "execution_count": 31,
   "metadata": {},
   "outputs": [
    {
     "name": "stdout",
     "output_type": "stream",
     "text": [
      "6\n",
      "Compiling cost function...\n",
      " iter\t\t   cost val\t    grad. norm\n",
      "    1\t+4.8836278962018032e-01\t5.32552964e+00\n",
      "    2\t+2.0732824363512045e-01\t3.33158094e+00\n",
      "    3\t+1.2028010993209523e-01\t2.58408853e+00\n",
      "    4\t+7.6998686717022868e-02\t2.08019689e+00\n",
      "    5\t+1.8662359429796160e-02\t8.66444439e-01\n",
      "    6\t+7.2113992563322682e-03\t3.67252423e-01\n",
      "    7\t+7.2043334816684346e-03\t5.72656285e-01\n",
      "    8\t+7.1809206418221583e-03\t5.71445034e-01\n",
      "    9\t+7.1035205905779497e-03\t5.67423250e-01\n",
      "   10\t+6.7881963593107442e-03\t5.49443350e-01\n",
      "   11\t+5.5729898469919770e-03\t4.74272540e-01\n",
      "   12\t+2.3109303561692218e-03\t1.66555694e-01\n",
      "   13\t+1.5895376953105611e-03\t1.50977198e-01\n",
      "   14\t+1.2177931319753421e-03\t1.58729843e-01\n",
      "   15\t+9.8636666358856151e-04\t1.61150675e-01\n",
      "   16\t+5.6385570450614986e-04\t6.17597174e-02\n",
      "   17\t+4.5642581712684871e-04\t1.08985575e-01\n",
      "   18\t+2.6765586650676076e-04\t4.14215447e-02\n",
      "   19\t+2.3481692546897803e-04\t7.89167637e-02\n",
      "   20\t+1.4595185859900273e-04\t3.08002178e-02\n",
      "   21\t+1.2173996606354431e-04\t4.84866843e-02\n",
      "   22\t+8.3030828560204384e-05\t2.60917688e-02\n",
      "   23\t+6.6149315645636086e-05\t2.41415446e-02\n",
      "   24\t+5.3031402866082766e-05\t2.36321526e-02\n",
      "   25\t+4.1271772512924132e-05\t1.70844623e-02\n",
      "   26\t+3.4642916270533064e-05\t2.43946617e-02\n",
      "   27\t+2.5014673686929445e-05\t1.51255380e-02\n",
      "   28\t+2.3816205574789251e-05\t2.46782708e-02\n",
      "   29\t+1.9558013196835367e-05\t1.86680262e-02\n",
      "   30\t+1.4572281115260433e-05\t1.35941759e-02\n",
      "   31\t+1.1552522617142014e-05\t1.21413854e-02\n",
      "   32\t+8.6976291981122333e-06\t7.08405725e-03\n",
      "   33\t+7.5318765493936901e-06\t1.38280975e-02\n",
      "   34\t+4.6162660120863119e-06\t4.61321472e-03\n",
      "   35\t+3.2287684831322494e-06\t8.00081331e-03\n",
      "   36\t+2.2248996142115729e-06\t4.71765081e-03\n",
      "   37\t+1.7373598324432749e-06\t3.27362955e-03\n",
      "   38\t+1.4386310440706040e-06\t5.12742088e-03\n",
      "   39\t+1.0340497068883625e-06\t3.26116445e-03\n",
      "   40\t+9.5878854758368881e-07\t4.75901779e-03\n",
      "   41\t+8.2348296703838031e-07\t3.63477128e-03\n",
      "   42\t+5.9328657084356529e-07\t1.97398438e-03\n",
      "   43\t+5.5719756322791802e-07\t1.96582937e-03\n",
      "   44\t+5.4964649065514237e-07\t1.67101910e-03\n",
      "   45\t+5.4960955403471345e-07\t1.66497751e-03\n",
      "   46\t+5.4960943945969731e-07\t1.66495582e-03\n",
      "   47\t+5.4960943912663041e-07\t1.66495575e-03\n",
      "Terminated - min stepsize reached after 47 iterations, 0.02 seconds.\n",
      "\n",
      "Mot: [ 1 -0.029 0.061 0.028 -0.075 -0.1 -0.19 0.0097 ]\n",
      "1.0000000344\n"
     ]
    }
   ],
   "source": [
    "n_points=3\n",
    "\n",
    "m0 = create_motor()\n",
    "points_a = [vsr.Vec(*np.random.normal(0.0, 0.8, 3)).null() for i in range(n_points)]\n",
    "points_b = [point.spin(m0) for point in points_a]\n",
    "manifold = Motor()\n",
    "print(manifold.dim)\n",
    "problem = Problem(manifold=manifold, cost=cost3, grad=grad_explicit3, verbosity=3)\n",
    "\n",
    "\n",
    "# (3) Instantiate a Pymanopt solver\n",
    "solver = SteepestDescent()\n",
    "# solver = TrustRegions()\n",
    "\n",
    "\n",
    "# let Pymanopt do the rest\n",
    "Xopt = solver.solve(problem, x=np.array([1.,0.,0.,0.,0.,0.,0.,0.]))\n",
    "print(vsr.Mot(*Xopt))\n",
    "print(la.norm(vsr.Mot(*Xopt).rev() * m0))"
   ]
  },
  {
   "cell_type": "code",
   "execution_count": 33,
   "metadata": {},
   "outputs": [
    {
     "name": "stdout",
     "output_type": "stream",
     "text": [
      "Compiling cost function...\n",
      "Computing Hessian of cost function...\n",
      "Optimizing...\n",
      "Computing gradient of cost function...\n",
      "[ -8.9904 -26.8566 -83.9793  51.1651]\n",
      "[-0.0954  8.6664 -2.248  -0.734 ]\n",
      "[ 0.0735 -3.1659  3.1651  2.3594]\n",
      "[ 0.0004  1.4385  0.2334  0.3157]\n",
      "[-0.0573 -0.175  -0.4718  0.3998]\n",
      "[-0.      0.0001 -0.0001 -0.0001]\n",
      "[ 0.     -0.0002  0.0001 -0.    ]\n",
      "[ 0.  0.  0. -0.]\n",
      "Terminated - min grad norm reached after 3 iterations, 0.25 seconds.\n",
      "\n",
      "Rot: [ 1 -0.0021 -0.07 0.06 ]\n",
      "Rot: [ 1 -1.5e-17 4e-18 -1.4e-17 ]\n"
     ]
    }
   ],
   "source": [
    "n_points=3\n",
    "\n",
    "m0 = create_rotor()\n",
    "points_a = [vsr.Vec(*np.random.normal(0.0, 0.8, 3)) for i in range(n_points)]\n",
    "points_b = [point.spin(m0) for point in points_a]\n",
    "\n",
    "manifold = Sphere(4)\n",
    "problem = Problem(manifold=manifold, cost=cost, grad=grad_explicit, verbosity=1)\n",
    "\n",
    "# (3) Instantiate a Pymanopt solver\n",
    "# solver = SteepestDescent()\n",
    "solver = TrustRegions()\n",
    "# solver = ParticleSwarm()\n",
    "# solver = ConjugateGradient()\n",
    "# solver = NelderMead()\n",
    "\n",
    "\n",
    "# let Pymanopt do the rest\n",
    "Xopt = solver.solve(problem, x=np.array([1.,0.,0.,0.]))\n",
    "print(vsr.Rot(*Xopt))\n",
    "print(vsr.Rot(*Xopt).rev() * m0)"
   ]
  },
  {
   "cell_type": "code",
   "execution_count": null,
   "metadata": {
    "collapsed": true
   },
   "outputs": [],
   "source": []
  },
  {
   "cell_type": "code",
   "execution_count": 52,
   "metadata": {},
   "outputs": [
    {
     "name": "stdout",
     "output_type": "stream",
     "text": [
      "Compiling cost function...\n",
      "Computing gradient of cost function...\n",
      "Optimizing...\n",
      "Terminated - min grad norm reached after 27 iterations, 0.18 seconds.\n",
      "\n",
      "Rot: [ 0.92 0.35 0.18 -0.08 ]\n",
      "Rot: [ 1 2.7e-08 3.4e-08 -2.5e-08 ]\n"
     ]
    }
   ],
   "source": [
    "manifold = Sphere(4)\n",
    "problem = Problem(manifold=manifold, cost=cost, verbosity=1)\n",
    "\n",
    "# (3) Instantiate a Pymanopt solver\n",
    "# solver = SteepestDescent()\n",
    "# solver = TrustRegions()\n",
    "# solver = ParticleSwarm()\n",
    "solver = ConjugateGradient()\n",
    "# solver = NelderMead()\n",
    "\n",
    "\n",
    "# let Pymanopt do the rest\n",
    "Xopt = solver.solve(problem, x=np.array([1.,0.,0.,0.]))\n",
    "print(vsr.Rot(*Xopt))\n",
    "print(vsr.Rot(*Xopt).rev() * m0)"
   ]
  },
  {
   "cell_type": "code",
   "execution_count": 33,
   "metadata": {},
   "outputs": [],
   "source": [
    "Rtest = create_rotor()\n"
   ]
  },
  {
   "cell_type": "code",
   "execution_count": 60,
   "metadata": {},
   "outputs": [
    {
     "data": {
      "text/plain": [
       "array([-1.6031, -4.8323,  2.0965, -0.8448])"
      ]
     },
     "execution_count": 60,
     "metadata": {},
     "output_type": "execute_result"
    }
   ],
   "source": [
    "grad_explicit(np.array(Rtest))"
   ]
  },
  {
   "cell_type": "code",
   "execution_count": 61,
   "metadata": {},
   "outputs": [
    {
     "ename": "ValueError",
     "evalue": "shapes (4,) and (8,) not aligned: 4 (dim 0) != 8 (dim 0)",
     "output_type": "error",
     "traceback": [
      "\u001b[0;31m---------------------------------------------------------------------------\u001b[0m",
      "\u001b[0;31mValueError\u001b[0m                                Traceback (most recent call last)",
      "\u001b[0;32m<ipython-input-61-577ac3e4cc24>\u001b[0m in \u001b[0;36m<module>\u001b[0;34m()\u001b[0m\n\u001b[0;32m----> 1\u001b[0;31m \u001b[0mnp\u001b[0m\u001b[0;34m.\u001b[0m\u001b[0mdot\u001b[0m\u001b[0;34m(\u001b[0m\u001b[0mnp\u001b[0m\u001b[0;34m.\u001b[0m\u001b[0marray\u001b[0m\u001b[0;34m(\u001b[0m\u001b[0mR\u001b[0m\u001b[0;34m)\u001b[0m\u001b[0;34m.\u001b[0m\u001b[0mT\u001b[0m\u001b[0;34m,\u001b[0m \u001b[0mG\u001b[0m\u001b[0;34m)\u001b[0m\u001b[0;34m\u001b[0m\u001b[0m\n\u001b[0m",
      "\u001b[0;31mValueError\u001b[0m: shapes (4,) and (8,) not aligned: 4 (dim 0) != 8 (dim 0)"
     ]
    }
   ],
   "source": [
    "np.dot(np.array(R).T, G)"
   ]
  },
  {
   "cell_type": "code",
   "execution_count": 62,
   "metadata": {},
   "outputs": [],
   "source": [
    "Y = vsr.EGA(*np.sum([np.array(vsr.EGA(a) * vsr.EGA(Rtest).rev() * vsr.EGA(b) +\n",
    " vsr.EGA(a).rev() * vsr.EGA(Rtest.rev()) * vsr.EGA(b).rev()) for a, b in zip(points_a, points_b)], axis=0))"
   ]
  },
  {
   "cell_type": "code",
   "execution_count": 63,
   "metadata": {},
   "outputs": [],
   "source": [
    "Y_ = Y * vsr.EGA(Rtest)\n",
    "Y_[0] = 0\n",
    "G = Y_ * vsr.EGA(Rtest.rev()) * -2\n",
    "# G[1] * -1\n",
    "# G[2] * -1\n",
    "# G[3] * -1"
   ]
  },
  {
   "cell_type": "code",
   "execution_count": 64,
   "metadata": {},
   "outputs": [
    {
     "data": {
      "text/plain": [
       "array([-1.6031, -0.    , -0.    , -0.    , -4.8323,  2.0965, -0.8448,  0.    ])"
      ]
     },
     "execution_count": 64,
     "metadata": {},
     "output_type": "execute_result"
    }
   ],
   "source": [
    "np.array(G.rev())"
   ]
  },
  {
   "cell_type": "code",
   "execution_count": 66,
   "metadata": {},
   "outputs": [
    {
     "data": {
      "text/plain": [
       "-2.7755575615628914e-17"
      ]
     },
     "execution_count": 66,
     "metadata": {},
     "output_type": "execute_result"
    }
   ],
   "source": [
    "np.dot(np.array(G.rev()), np.array(vsr.EGA(Rtest)))"
   ]
  },
  {
   "cell_type": "code",
   "execution_count": null,
   "metadata": {
    "collapsed": true
   },
   "outputs": [],
   "source": []
  }
 ],
 "metadata": {
  "kernelspec": {
   "display_name": "Python 3",
   "language": "python",
   "name": "python3"
  },
  "language_info": {
   "codemirror_mode": {
    "name": "ipython",
    "version": 3
   },
   "file_extension": ".py",
   "mimetype": "text/x-python",
   "name": "python",
   "nbconvert_exporter": "python",
   "pygments_lexer": "ipython3",
   "version": "3.6.2"
  }
 },
 "nbformat": 4,
 "nbformat_minor": 2
}
