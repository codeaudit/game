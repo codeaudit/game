{
 "cells": [
  {
   "cell_type": "code",
   "execution_count": 16,
   "metadata": {},
   "outputs": [
    {
     "name": "stdout",
     "output_type": "stream",
     "text": [
      "Populating the interactive namespace from numpy and matplotlib\n"
     ]
    }
   ],
   "source": [
    "import sys\n",
    "sys.path.append('../build/')\n",
    "%pylab inline\n",
    "np.set_printoptions(precision=4, suppress=True)\n",
    "from motor_estimation import MotorEstimationSolver\n",
    "import pandas as pd\n",
    "import linear_solver\n",
    "from linear_solver import expm, logm\n",
    "import versor as vsr"
   ]
  },
  {
   "cell_type": "code",
   "execution_count": 17,
   "metadata": {
    "collapsed": true
   },
   "outputs": [],
   "source": [
    "def S(v):\n",
    "    return np.array([[0,-v[2],v[1]],\n",
    "                     [v[2], 0, -v[0]], \n",
    "                     [-v[1],v[0], 0]])"
   ]
  },
  {
   "cell_type": "code",
   "execution_count": 18,
   "metadata": {},
   "outputs": [],
   "source": [
    "E1 = S([1,0,0])\n",
    "E2 = S([0,1,0])\n",
    "E3 = S([0,0,1])"
   ]
  },
  {
   "cell_type": "code",
   "execution_count": 71,
   "metadata": {},
   "outputs": [],
   "source": [
    "n_vs = 10\n",
    "vs = [(lambda x: x / np.linalg.norm(x))(np.random.random((3,1))) for i in range(n_vs)]\n",
    "us = [R0 @ v for v in vs]\n",
    "# us = [(lambda x: x / np.linalg.norm(x))(np.dot(R0,v) + \n",
    "#                                         np.random.normal(loc=0.0,\n",
    "#                                                          scale=0.01,\n",
    "#                                                          size=(3,1)))  for v in vs]"
   ]
  },
  {
   "cell_type": "code",
   "execution_count": 72,
   "metadata": {
    "collapsed": true
   },
   "outputs": [],
   "source": [
    "def df_R(u, v, B,R):\n",
    "    return (2 * (u.T @ R @ B @ v) * (u.T @ R @ v)).ravel()"
   ]
  },
  {
   "cell_type": "code",
   "execution_count": 73,
   "metadata": {},
   "outputs": [],
   "source": [
    "def grad(us,vs,R):\n",
    "    g = np.sum([np.array([df_R(u,v,E1,R), \n",
    "                          df_R(u,v,E2,R), \n",
    "                          df_R(u,v,E3,R)]) for u,v in zip(us,vs)],axis=0)\n",
    "    return g"
   ]
  },
  {
   "cell_type": "code",
   "execution_count": 74,
   "metadata": {
    "collapsed": true
   },
   "outputs": [],
   "source": [
    "def Hessij(us, vs, Bi, Bj, R):\n",
    "    X = R @ Bi\n",
    "    Y = R @ Bj\n",
    "    return np.sum([2 * u.T @ X @ v @ u.T @ Y @ v +\n",
    "                   u.T @ R @ v @ u.T @ X @ R.T @ Y @ v +\n",
    "                   u.T @ R @ v @ u.T @ Y @ R.T @ X @ v\n",
    "                   for u, v in zip(us, vs)])"
   ]
  },
  {
   "cell_type": "code",
   "execution_count": 75,
   "metadata": {},
   "outputs": [],
   "source": [
    "def Hess(us, vs, R):\n",
    "    H = np.zeros((3,3))\n",
    "    H[0,0] = Hessij(us, vs, E1, E1, R)\n",
    "    H[0,1] = H[1,0] = Hessij(us, vs, E1, E2, R)\n",
    "    H[0,2] = H[2,0] = Hessij(us, vs, E1, E3, R)\n",
    "    H[1,1] = Hessij(us, vs, E2, E2, R)\n",
    "    H[1,2] = H[2,1] = Hessij(us, vs, E2, E3, R)\n",
    "    H[2,2] = Hessij(us, vs, E3, E3, R)\n",
    "    return H"
   ]
  },
  {
   "cell_type": "code",
   "execution_count": 76,
   "metadata": {},
   "outputs": [],
   "source": [
    "def cost(us, vs, R):\n",
    "    x = [(np.dot(np.dot(u.T,R),v))**2 for u,v in zip(us, vs)]\n",
    "    return np.sum(x)"
   ]
  },
  {
   "cell_type": "code",
   "execution_count": 77,
   "metadata": {},
   "outputs": [],
   "source": [
    "def update(us, vs, R):\n",
    "    H = Hess(us, vs, R)\n",
    "    g = grad(us, vs, R) \n",
    "    B = -linear_solver.solve(H,g)    \n",
    "    R = R @ expm(S(B))\n",
    "    c = cost(us, vs, R)\n",
    "    return R, c, norm(B)"
   ]
  },
  {
   "cell_type": "code",
   "execution_count": 78,
   "metadata": {},
   "outputs": [
    {
     "name": "stdout",
     "output_type": "stream",
     "text": [
      "[[ 1.  0. -0.]\n",
      " [-0.  1.  0.]\n",
      " [ 0. -0.  1.]]\n"
     ]
    }
   ],
   "source": [
    "ns = []\n",
    "cs = []\n",
    "Rstart = np.eye(3)\n",
    "R, c, n = update(us, vs, Rstart)\n",
    "ns.append(n)\n",
    "cs.append(c)\n",
    "# for i in range(100):\n",
    "while n > 1e-3:\n",
    "    R, c, n = update(us, vs, R)\n",
    "    ns.append(n)\n",
    "    cs.append(c)\n",
    "\n",
    "print(R0.T @ R)"
   ]
  },
  {
   "cell_type": "code",
   "execution_count": 79,
   "metadata": {},
   "outputs": [
    {
     "data": {
      "text/plain": [
       "[<matplotlib.lines.Line2D at 0x7efffd606be0>]"
      ]
     },
     "execution_count": 79,
     "metadata": {},
     "output_type": "execute_result"
    },
    {
     "data": {
      "image/png": "[encoded data removed]",
      "text/plain": [
       "<matplotlib.figure.Figure at 0x7efffd56ca58>"
      ]
     },
     "metadata": {},
     "output_type": "display_data"
    }
   ],
   "source": [
    "plot(cs)"
   ]
  },
  {
   "cell_type": "code",
   "execution_count": 80,
   "metadata": {},
   "outputs": [
    {
     "data": {
      "text/plain": [
       "[<matplotlib.lines.Line2D at 0x7efffd445eb8>]"
      ]
     },
     "execution_count": 80,
     "metadata": {},
     "output_type": "execute_result"
    },
    {
     "data": {
      "image/png": "[encoded data removed]",
      "text/plain": [
       "<matplotlib.figure.Figure at 0x7efffd936828>"
      ]
     },
     "metadata": {},
     "output_type": "display_data"
    }
   ],
   "source": [
    "semilogy(ns)"
   ]
  },
  {
   "cell_type": "code",
   "execution_count": null,
   "metadata": {
    "collapsed": true
   },
   "outputs": [],
   "source": []
  },
  {
   "cell_type": "code",
   "execution_count": null,
   "metadata": {
    "collapsed": true
   },
   "outputs": [],
   "source": []
  },
  {
   "cell_type": "code",
   "execution_count": null,
   "metadata": {
    "collapsed": true
   },
   "outputs": [],
   "source": []
  }
 ],
 "metadata": {
  "kernelspec": {
   "display_name": "Python 3",
   "language": "python",
   "name": "python3"
  },
  "language_info": {
   "codemirror_mode": {
    "name": "ipython",
    "version": 3
   },
   "file_extension": ".py",
   "mimetype": "text/x-python",
   "name": "python",
   "nbconvert_exporter": "python",
   "pygments_lexer": "ipython3",
   "version": "3.6.2"
  }
 },
 "nbformat": 4,
 "nbformat_minor": 2
}
