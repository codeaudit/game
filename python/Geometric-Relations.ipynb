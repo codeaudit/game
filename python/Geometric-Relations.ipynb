{
 "cells": [
  {
   "cell_type": "code",
   "execution_count": 1,
   "metadata": {
    "collapsed": false
   },
   "outputs": [
    {
     "name": "stdout",
     "output_type": "stream",
     "text": [
      "Populating the interactive namespace from numpy and matplotlib\n"
     ]
    }
   ],
   "source": [
    "from __future__ import print_function\n",
    "import sys\n",
    "sys.path.append('../build/')\n",
    "%pylab inline\n",
    "np.set_printoptions(precision=4, suppress=True)"
   ]
  },
  {
   "cell_type": "code",
   "execution_count": 2,
   "metadata": {
    "collapsed": true
   },
   "outputs": [],
   "source": [
    "import versor as vsr\n",
    "from versor.drawing import *"
   ]
  },
  {
   "cell_type": "markdown",
   "metadata": {},
   "source": [
    "# Points and Spheres"
   ]
  },
  {
   "cell_type": "code",
   "execution_count": 3,
   "metadata": {
    "collapsed": false
   },
   "outputs": [],
   "source": [
    "motor = vsr.Vec(1,1,1).trs() * vsr.Rot(vsr.Biv(0,1,0) * (np.pi/6.0))\n",
    "points_a = [vsr.Vec(*np.random.rand(3) * 2.).null() for i in range(3)]\n",
    "points_b = [point.spin(motor) for point in points_a]\n",
    "vectors = [b - a for a,b in zip(points_a, points_b)]\n",
    "spheres_a = [vsr.Sph(point, np.random.rand(1) * 0.4 + 0.2) for point in points_a]\n",
    "spheres_b = [sphere.spin(motor) for sphere in spheres_a]"
   ]
  },
  {
   "cell_type": "markdown",
   "metadata": {},
   "source": [
    "## Points"
   ]
  },
  {
   "cell_type": "code",
   "execution_count": 4,
   "metadata": {
    "collapsed": false
   },
   "outputs": [
    {
     "name": "stderr",
     "output_type": "stream",
     "text": [
      "Widget Javascript not detected.  It may not be installed properly. Did you enable the widgetsnbextension? If not, then run \"jupyter nbextension enable --py --sys-prefix widgetsnbextension\"\n"
     ]
    }
   ],
   "source": [
    "scene = Scene(children=\n",
    "              [point_mesh(point,color=Colors.HOTPINK) for point in points_a] +\\\n",
    "              [point_mesh(point,color=Colors.LIGHTSKYBLUE) for point in points_b] +\\\n",
    "              [vector_mesh((b-a).vec(), position=a, arrow=True, color=Colors.GRAY) for a,b in zip(points_a, points_b)] +\\\n",
    "              [frame_mesh(),AmbientLight(color='#cccccc')])\n",
    "\n",
    "camera = PerspectiveCamera(position=[3, -3, 3])\n",
    "renderer = Renderer(camera=camera, \n",
    "                    scene=scene, \n",
    "                    controls=[TrackballControls(controlling=camera)],\n",
    "                    background = 'white',\n",
    "                    width='960',\n",
    "                    height='512')\n",
    "display(renderer)"
   ]
  },
  {
   "cell_type": "code",
   "execution_count": 5,
   "metadata": {
    "collapsed": false
   },
   "outputs": [
    {
     "name": "stderr",
     "output_type": "stream",
     "text": [
      "Widget Javascript not detected.  It may not be installed properly. Did you enable the widgetsnbextension? If not, then run \"jupyter nbextension enable --py --sys-prefix widgetsnbextension\"\n"
     ]
    }
   ],
   "source": [
    "scene = Scene(children=\n",
    "              [point_mesh(point,color=Colors.HOTPINK) for point in points_a] +\\\n",
    "              [point_mesh(point,color=Colors.LIGHTSKYBLUE) for point in points_b] +\\\n",
    "              [vector_mesh((b-a).vec(), position=a, arrow=True, color=Colors.GRAY) for a,b in zip(points_a, points_b)] +\\\n",
    "              [plane_mesh((b-a), position=(a.vec() + (b-a).vec() * 0.5),height=1, width=1, color=Colors.LIGHTGRAY) for a,b in zip(points_a, points_b)] +\\\n",
    "              [plane_mesh((b-a).unit(), height=10, width=10, color=Colors.LIGHTSKYBLUE) for a,b in zip(points_a, points_b)] +\\\n",
    "              [frame_mesh(),AmbientLight(color='#cccccc')])\n",
    "\n",
    "camera = PerspectiveCamera(position=[3, -3, 3])\n",
    "renderer = Renderer(camera=camera, \n",
    "                    scene=scene, \n",
    "                    controls=[TrackballControls(controlling=camera)],\n",
    "                    background = 'white',\n",
    "                    width='960',\n",
    "                    height='512')\n",
    "width='1024'\n",
    "height='768'\n",
    "display(renderer)"
   ]
  },
  {
   "cell_type": "code",
   "execution_count": 6,
   "metadata": {
    "collapsed": false
   },
   "outputs": [
    {
     "data": {
      "text/plain": [
       "24.924880586812449"
      ]
     },
     "execution_count": 6,
     "metadata": {},
     "output_type": "execute_result"
    }
   ],
   "source": [
    "a = points_a[0]\n",
    "b = points_b[0]\n",
    "c = b - a\n",
    "np.inner(c,c)"
   ]
  },
  {
   "cell_type": "code",
   "execution_count": 7,
   "metadata": {
    "collapsed": false
   },
   "outputs": [
    {
     "data": {
      "text/plain": [
       "Pnt: [ 1.993 0.1386 0.4694 1 2.107 ]"
      ]
     },
     "execution_count": 7,
     "metadata": {},
     "output_type": "execute_result"
    }
   ],
   "source": [
    "a"
   ]
  },
  {
   "cell_type": "code",
   "execution_count": 8,
   "metadata": {
    "collapsed": false
   },
   "outputs": [
    {
     "data": {
      "text/plain": [
       "Dls: [ 1.59 1.139 2.961 1 6.296 ]"
      ]
     },
     "execution_count": 8,
     "metadata": {},
     "output_type": "execute_result"
    }
   ],
   "source": [
    "b"
   ]
  },
  {
   "cell_type": "code",
   "execution_count": 9,
   "metadata": {
    "collapsed": false
   },
   "outputs": [
    {
     "data": {
      "text/plain": [
       "Dlp: [ -0.4032 1 2.492 4.19 ]"
      ]
     },
     "execution_count": 9,
     "metadata": {},
     "output_type": "execute_result"
    }
   ],
   "source": [
    "c"
   ]
  },
  {
   "cell_type": "code",
   "execution_count": 10,
   "metadata": {
    "collapsed": false
   },
   "outputs": [
    {
     "data": {
      "text/plain": [
       "4.1897715430431974"
      ]
     },
     "execution_count": 10,
     "metadata": {},
     "output_type": "execute_result"
    }
   ],
   "source": [
    "v = np.array(c)[:3]\n",
    "0.5 * (np.inner(np.array(b)[:3],np.array(b)[:3]) - np.inner(np.array(a)[:3],np.array(a)[:3]))"
   ]
  },
  {
   "cell_type": "code",
   "execution_count": 11,
   "metadata": {
    "collapsed": false
   },
   "outputs": [
    {
     "data": {
      "text/plain": [
       "2.1065178568818217"
      ]
     },
     "execution_count": 11,
     "metadata": {},
     "output_type": "execute_result"
    }
   ],
   "source": [
    "0.5 * np.inner(np.array(a)[:3],np.array(a)[:3])"
   ]
  },
  {
   "cell_type": "code",
   "execution_count": 12,
   "metadata": {
    "collapsed": false
   },
   "outputs": [
    {
     "data": {
      "text/plain": [
       "7.3706950039178878"
      ]
     },
     "execution_count": 12,
     "metadata": {},
     "output_type": "execute_result"
    }
   ],
   "source": [
    "np.inner(v,v)"
   ]
  },
  {
   "cell_type": "markdown",
   "metadata": {},
   "source": [
    "## Spheres"
   ]
  },
  {
   "cell_type": "code",
   "execution_count": 13,
   "metadata": {
    "collapsed": false
   },
   "outputs": [],
   "source": [
    "scene = Scene(children=\n",
    "              [sphere_mesh(sphere,color=Colors.HOTPINK) for sphere in spheres_a] +\\\n",
    "              [sphere_mesh(sphere,color=Colors.LIGHTSKYBLUE) for sphere in spheres_b] +\\\n",
    "              [point_mesh(point,color=Colors.RED) for point in points_a] +\\\n",
    "              [point_mesh(point,color=Colors.BLUE) for point in points_b] +\\\n",
    "              [vector_mesh((b-a).vec(), position=a, arrow=True, color=Colors.BLACK) for a,b in zip(points_a, points_b)] +\\\n",
    "              [frame_mesh(),AmbientLight(color='#cccccc')])\n",
    "\n",
    "camera = PerspectiveCamera(position=[3, -3, 3])\n",
    "renderer = Renderer(camera=camera, \n",
    "                    scene=scene, \n",
    "                    controls=[TrackballControls(controlling=camera)],\n",
    "                    background = 'white')\n",
    "renderer.width = '800'\n",
    "renderer.height = '600'\n",
    "\n",
    "display(renderer)"
   ]
  },
  {
   "cell_type": "markdown",
   "metadata": {
    "collapsed": false
   },
   "source": [
    "# Lines and Planes"
   ]
  },
  {
   "cell_type": "markdown",
   "metadata": {
    "collapsed": true
   },
   "source": [
    "## Lines"
   ]
  },
  {
   "cell_type": "code",
   "execution_count": 14,
   "metadata": {
    "collapsed": true
   },
   "outputs": [],
   "source": [
    "def line_intersection(l1,l2):\n",
    "    return(l1.loc(l1.comm(l2).unit().loc(vsr.Vec(0,0,0).null()))) "
   ]
  },
  {
   "cell_type": "code",
   "execution_count": 15,
   "metadata": {
    "collapsed": false,
    "scrolled": true
   },
   "outputs": [
    {
     "ename": "TypeError",
     "evalue": "unsupported operand type(s) for /: 'versor_pybind11.Biv' and 'float'",
     "output_type": "error",
     "traceback": [
      "\u001b[0;31m---------------------------------------------------------------------------\u001b[0m",
      "\u001b[0;31mTypeError\u001b[0m                                 Traceback (most recent call last)",
      "\u001b[0;32m<ipython-input-15-4b419dce9fc7>\u001b[0m in \u001b[0;36m<module>\u001b[0;34m()\u001b[0m\n\u001b[0;32m----> 1\u001b[0;31m \u001b[0mmotor\u001b[0m \u001b[0;34m=\u001b[0m \u001b[0mvsr\u001b[0m\u001b[0;34m.\u001b[0m\u001b[0mVec\u001b[0m\u001b[0;34m(\u001b[0m\u001b[0;36m1\u001b[0m\u001b[0;34m,\u001b[0m\u001b[0;36m0\u001b[0m\u001b[0;34m,\u001b[0m\u001b[0;36m1\u001b[0m\u001b[0;34m)\u001b[0m\u001b[0;34m.\u001b[0m\u001b[0mtrs\u001b[0m\u001b[0;34m(\u001b[0m\u001b[0;34m)\u001b[0m \u001b[0;34m*\u001b[0m \u001b[0mvsr\u001b[0m\u001b[0;34m.\u001b[0m\u001b[0mRot\u001b[0m\u001b[0;34m(\u001b[0m\u001b[0mvsr\u001b[0m\u001b[0;34m.\u001b[0m\u001b[0mBiv\u001b[0m\u001b[0;34m(\u001b[0m\u001b[0;36m1\u001b[0m\u001b[0;34m,\u001b[0m\u001b[0;36m0\u001b[0m\u001b[0;34m,\u001b[0m\u001b[0;36m0\u001b[0m\u001b[0;34m)\u001b[0m \u001b[0;34m*\u001b[0m \u001b[0mnp\u001b[0m\u001b[0;34m.\u001b[0m\u001b[0mpi\u001b[0m\u001b[0;34m/\u001b[0m\u001b[0;36m6.0\u001b[0m\u001b[0;34m)\u001b[0m\u001b[0;34m\u001b[0m\u001b[0m\n\u001b[0m\u001b[1;32m      2\u001b[0m \u001b[0;34m\u001b[0m\u001b[0m\n\u001b[1;32m      3\u001b[0m \u001b[0ml1\u001b[0m \u001b[0;34m=\u001b[0m \u001b[0mvsr\u001b[0m\u001b[0;34m.\u001b[0m\u001b[0mDll\u001b[0m\u001b[0;34m(\u001b[0m\u001b[0mvsr\u001b[0m\u001b[0;34m.\u001b[0m\u001b[0mVec\u001b[0m\u001b[0;34m(\u001b[0m\u001b[0;36m0\u001b[0m\u001b[0;34m,\u001b[0m\u001b[0;34m-\u001b[0m\u001b[0;36m1\u001b[0m\u001b[0;34m,\u001b[0m\u001b[0;36m0\u001b[0m\u001b[0;34m)\u001b[0m\u001b[0;34m.\u001b[0m\u001b[0mnull\u001b[0m\u001b[0;34m(\u001b[0m\u001b[0;34m)\u001b[0m\u001b[0;34m,\u001b[0m \u001b[0mvsr\u001b[0m\u001b[0;34m.\u001b[0m\u001b[0mVec\u001b[0m\u001b[0;34m(\u001b[0m\u001b[0;36m1\u001b[0m\u001b[0;34m,\u001b[0m\u001b[0;36m0\u001b[0m\u001b[0;34m,\u001b[0m\u001b[0;36m0\u001b[0m\u001b[0;34m)\u001b[0m\u001b[0;34m.\u001b[0m\u001b[0mnull\u001b[0m\u001b[0;34m(\u001b[0m\u001b[0;34m)\u001b[0m\u001b[0;34m)\u001b[0m\u001b[0;34m.\u001b[0m\u001b[0munit\u001b[0m\u001b[0;34m(\u001b[0m\u001b[0;34m)\u001b[0m\u001b[0;34m\u001b[0m\u001b[0m\n\u001b[1;32m      4\u001b[0m \u001b[0ml2\u001b[0m \u001b[0;34m=\u001b[0m \u001b[0ml1\u001b[0m\u001b[0;34m.\u001b[0m\u001b[0mspin\u001b[0m\u001b[0;34m(\u001b[0m\u001b[0mmotor\u001b[0m\u001b[0;34m)\u001b[0m\u001b[0;34m\u001b[0m\u001b[0m\n\u001b[1;32m      5\u001b[0m \u001b[0ml22\u001b[0m \u001b[0;34m=\u001b[0m \u001b[0ml2\u001b[0m\u001b[0;34m.\u001b[0m\u001b[0mspin\u001b[0m\u001b[0;34m(\u001b[0m\u001b[0mvsr\u001b[0m\u001b[0;34m.\u001b[0m\u001b[0mVec\u001b[0m\u001b[0;34m(\u001b[0m\u001b[0;36m0\u001b[0m\u001b[0;34m,\u001b[0m\u001b[0;36m0\u001b[0m\u001b[0;34m,\u001b[0m\u001b[0;34m-\u001b[0m\u001b[0;36m1\u001b[0m\u001b[0;34m)\u001b[0m\u001b[0;34m.\u001b[0m\u001b[0mtrs\u001b[0m\u001b[0;34m(\u001b[0m\u001b[0;34m)\u001b[0m \u001b[0;34m*\u001b[0m \u001b[0mvsr\u001b[0m\u001b[0;34m.\u001b[0m\u001b[0mRot\u001b[0m\u001b[0;34m(\u001b[0m\u001b[0;36m1\u001b[0m\u001b[0;34m,\u001b[0m\u001b[0;36m0\u001b[0m\u001b[0;34m,\u001b[0m\u001b[0;36m0\u001b[0m\u001b[0;34m,\u001b[0m\u001b[0;36m0\u001b[0m\u001b[0;34m)\u001b[0m\u001b[0;34m)\u001b[0m\u001b[0;34m\u001b[0m\u001b[0m\n",
      "\u001b[0;31mTypeError\u001b[0m: unsupported operand type(s) for /: 'versor_pybind11.Biv' and 'float'"
     ]
    }
   ],
   "source": [
    "motor = vsr.Vec(1,0,1).trs() * vsr.Rot(vsr.Biv(1,0,0) * np.pi/6.0)\n",
    "\n",
    "l1 = vsr.Dll(vsr.Vec(0,-1,0).null(), vsr.Vec(1,0,0).null()).unit()\n",
    "l2 = l1.spin(motor)\n",
    "l22 = l2.spin(vsr.Vec(0,0,-1).trs() * vsr.Rot(1,0,0,0))\n",
    "\n",
    "m = ((l2 * l1.inv()).log() * 0.5 ).exp()\n",
    "w = m.trs().reject_from(m.rot().log().unit())\n",
    "v = m.trs().project_onto(m.rot().log().unit())\n",
    "l11 = l1.spin(w.trs() * vsr.Rot(vsr.Biv(0,0,0)))\n",
    "l22 = l2.spin((w).trs().rev() * vsr.Rot(1,0,0,0))\n",
    "\n",
    "scene = Scene(children=[\n",
    "        frame_mesh(),\n",
    "        vector_mesh(w, position=l1.undual().meet(l22.undual()), color=Colors.GRAY),\n",
    "        line_mesh(l1, color=Colors.HOTPINK, length=100),\n",
    "        line_mesh(l22, color=Colors.LIGHTGRAY, length=100),\n",
    "        line_mesh(l11, color=Colors.LIGHTGRAY, length=100),\n",
    "        line_mesh(l1.comm(l2),color=Colors.GRAY),\n",
    "        point_mesh(line_intersection(l1,l2)),\n",
    "        point_mesh(line_intersection(l2,l1)),\n",
    "        line_mesh(l2, color=Colors.LIGHTSKYBLUE, length=100),       \n",
    "        AmbientLight(color='#cccccc')])\n",
    "camera = PerspectiveCamera(position=[3, -3, 3])\n",
    "renderer = Renderer(camera=camera, \n",
    "                    scene=scene, \n",
    "                    controls=[TrackballControls(controlling=camera)],\n",
    "                    background = 'white')\n",
    "renderer.width = '960'\n",
    "renderer.height = '512'\n",
    "display(renderer)"
   ]
  },
  {
   "cell_type": "code",
   "execution_count": 16,
   "metadata": {
    "collapsed": false
   },
   "outputs": [],
   "source": [
    "motor = vsr.Vec(1,0,1).trs() * vsr.Rot(vsr.Biv(1,0,0) * (np.pi/6.0))\n",
    "lines_a = [vsr.Dll(vsr.Vec(*np.random.normal(0.0,0.8,3)).null(),\n",
    "                   vsr.Vec(*np.random.normal(0.0,0.8,3)).null())\n",
    "          for i in range(2)]\n",
    "lines_b = [line.spin(motor) for line in lines_a]\n",
    "\n",
    "ms = [((l2 * l1.inv()).log() * 0.5 ).exp() for l1, l2 in zip(lines_a, lines_b)]\n",
    "ws = [m.trs().reject_from(m.rot().log().unit()) for m in ms]\n",
    "ps = [line_intersection(l1,l2) for l1,l2 in zip(lines_a, lines_b)]\n",
    "\n",
    "\n",
    "scene = Scene(children=\n",
    "              [line_mesh(l1, color=Colors.HOTPINK, length=100) for l1 in lines_a] +\\\n",
    "              [line_mesh(l2, color=Colors.LIGHTSKYBLUE, length=100) for l2 in lines_b] +\\\n",
    "              [line_mesh(l1.comm(l2), color=Colors.GRAY, length=100) for l1,l2 in zip(lines_a,lines_b)] +\\\n",
    "#               [line_mesh(l2 - l1, color=Colors.GRAY, length=100) for l1,l2 in zip(lines_a,lines_b)] +\\\n",
    "#               [vector_mesh(w, arrow=True, position=p,color=Colors.GRAY) for w,p in zip(ws,ps)] +\\\n",
    "              [frame_mesh(),AmbientLight(color='#cccccc')])\n",
    "camera = PerspectiveCamera(position=[3, -3, 3])\n",
    "renderer = Renderer(camera=camera, \n",
    "                    scene=scene, \n",
    "                    controls=[TrackballControls(controlling=camera)],\n",
    "                    background = 'white')\n",
    "renderer.width = '960'\n",
    "renderer.height = '512'\n",
    "display(renderer)"
   ]
  },
  {
   "cell_type": "markdown",
   "metadata": {},
   "source": [
    "## Planes"
   ]
  },
  {
   "cell_type": "code",
   "execution_count": 17,
   "metadata": {
    "collapsed": true
   },
   "outputs": [],
   "source": [
    "n_planes = 2\n",
    "planes_a = []\n",
    "for i in range(n_planes):\n",
    "    dir_vec = np.random.normal(0.0, 0.8, 4)\n",
    "    dir_vec = dir_vec / np.linalg.norm(dir_vec)\n",
    "    distance = np.random.normal(0.0, 0.8,1)\n",
    "    arr = dir_vec + distance\n",
    "    planes_a.append(vsr.Dlp(dir_vec[0],dir_vec[1],dir_vec[2],distance[0]))\n",
    "planes_b = [plane.spin(motor) for plane in planes_a]"
   ]
  },
  {
   "cell_type": "code",
   "execution_count": 29,
   "metadata": {
    "collapsed": false
   },
   "outputs": [],
   "source": [
    "motor = vsr.Vec(0,0.25,0).unit().trs() * vsr.Rot(vsr.Biv(1,0,0) * (np.pi/6.0))\n",
    "p1 = vsr.Dlp(vsr.Vec(0,0,1).unit(),0).spin(motor)\n",
    "p2 = vsr.Dlp(vsr.Vec(1,0,1).unit(),0.25).spin(motor)\n",
    "m = ((p2 * p1.inv()).log() * 0.5 ).exp()\n",
    "v = m.trs().project_onto(m.rot().log().unit())\n",
    "\n",
    "\n",
    "\n",
    "scene = Scene(children=[plane_mesh(p1,width=3, height=3,color=Colors.HOTPINK),\n",
    "                        plane_mesh(p2,width=3, height=3,color=Colors.LIGHTSKYBLUE),\n",
    "#                         vector_mesh(v, position=p1.loc(vsr.Vec(0,0,0).null()), arrow=True, color=Colors.GRAY),\n",
    "#                         bivector_mesh(m.rot().biv(),color=Colors.LIGHTGRAY),\n",
    "                        line_mesh(m.dll(), color=Colors.GRAY, arrow=True),\n",
    "#                         point_mesh(p1.loc(vsr.Vec(0,0,0).null())),\n",
    "#                         point_mesh(p2.loc(vsr.Vec(0,0,0).null())),\n",
    "#                         vector_mesh(p1.vec() * 0.5, color=Colors.HOTPINK),\n",
    "#                         vector_mesh(p2.vec() * 0.5, color=Colors.LIGHTSKYBLUE),\n",
    "#                         vector_mesh(m.dll().drv().vec()),\n",
    "                        \n",
    "\n",
    "#                         frame_mesh(),\n",
    "                        AmbientLight(color='#cccccc')])\n",
    "\n",
    "\n",
    "camera = PerspectiveCamera(position=[-3, 3, 3], up=[0, 0, 1],\n",
    "                      children=[DirectionalLight(color='white', \n",
    "                                                 position=[3, 5, 1], \n",
    "                                                 intensity=0.2)])\n",
    "renderer = Renderer(camera=camera, \n",
    "                    scene=scene, \n",
    "                    controls=[TrackballControls(controlling=camera)],\n",
    "                    background = 'white')\n",
    "renderer.width = '1024'\n",
    "renderer.height = '768'\n",
    "display(renderer)"
   ]
  },
  {
   "cell_type": "markdown",
   "metadata": {},
   "source": [
    "## Direction vectors"
   ]
  },
  {
   "cell_type": "code",
   "execution_count": 19,
   "metadata": {
    "collapsed": false
   },
   "outputs": [],
   "source": [
    "vectors_a = [vsr.Vec(1,1,1).unit()]\n",
    "vectors_b = [a.spin(motor.rot()) for a in vectors_a]\n",
    "lines_a = [vsr.Dll(vsr.Vec(0,0,0).null(), vector.null()) for vector in vectors_a]\n",
    "lines_b = [vsr.Dll(vsr.Vec(0,0,0).null(), vector.null()) for vector in vectors_b]"
   ]
  },
  {
   "cell_type": "code",
   "execution_count": 20,
   "metadata": {
    "collapsed": true
   },
   "outputs": [],
   "source": [
    "scene = Scene(children=\n",
    "\n",
    "              [line_mesh(a,arrow=False,color=Colors.LIGHTGRAY) for a in lines_a] +\\\n",
    "              [line_mesh(b,arrow=False,color=Colors.LIGHTGRAY) for b in lines_b] +\\\n",
    "            [vector_mesh(a,arrow=True,color=Colors.HOTPINK) for a in vectors_a] +\\\n",
    "              [vector_mesh(b,arrow=True,color=Colors.LIGHTSKYBLUE) for b in vectors_b] +\\\n",
    "              [frame_mesh(),AmbientLight(color='#cccccc')])\n",
    "\n",
    "camera = PerspectiveCamera(position=[3, -3, 3])\n",
    "renderer = Renderer(camera=camera, \n",
    "                    scene=scene, \n",
    "                    controls=[TrackballControls(controlling=camera)],\n",
    "                    background = 'white')\n",
    "renderer.width = '960'\n",
    "renderer.height = '512'\n",
    "display(renderer)"
   ]
  },
  {
   "cell_type": "markdown",
   "metadata": {},
   "source": [
    "## Circles"
   ]
  },
  {
   "cell_type": "code",
   "execution_count": 21,
   "metadata": {
    "collapsed": false
   },
   "outputs": [],
   "source": [
    "n_circles = 10\n",
    "sigma = 0.09\n",
    "points_a = [vsr.Vec(*np.random.normal(0.0, 0.3, 3)).null() \n",
    "            for i in range(n_circles)]\n",
    "points_b = [point.spin(motor) for point in points_a]\n",
    "points_b_noisy = [vsr.Vec(*(np.array(point)[:3] \n",
    "                            + sigma * np.random.randn(3))).null() \n",
    "                  for point in points_b]\n",
    "\n",
    "radiuss = [np.random.rand() for i in range(n_circles)]\n",
    "bivs = [vsr.Vec(*np.random.normal(0.0, 0.3, 3)).unit().unduale()\n",
    "            for i in range(n_circles)]\n",
    "\n",
    "circs_a = [vsr.Cir(p,r,b) for p,r,b in zip(points_a, radiuss, bivs)]\n",
    "# circs_b = [vsr.Cir(p,r,b) for p,r,b in zip(points_b_noisy, radiuss, bivs)]\n",
    "circs_b = [circle.spin(motor) for circle in circs_a]"
   ]
  },
  {
   "cell_type": "code",
   "execution_count": 31,
   "metadata": {
    "collapsed": false
   },
   "outputs": [],
   "source": [
    "c1 = vsr.Cir(vsr.Vec(1,0,1).null(), 0.5, vsr.Biv(-1,2,3).unit())\n",
    "c2 = vsr.Cir(vsr.Vec(0,1,0.5).null(), 0.5, vsr.Biv(2,4,1).unit())\n",
    "\n",
    "C1 = vsr.CGA(c1)\n",
    "C2 = vsr.CGA(c2)\n",
    "\n",
    "cm = (C2 * C1.rev())\n",
    "c3 = C1.spin(cm).cir()\n",
    "\n",
    "\n",
    "scene = Scene(children=[circle_mesh(c1, color=Colors.HOTPINK),\n",
    "                        circle_mesh(c2, color=Colors.LIGHTSKYBLUE),\n",
    "                        circle_mesh(c3, color=Colors.RED),\n",
    "#                         line_mesh(c1.axis(), arrow=False, color=Colors.HOTPINK),\n",
    "#                         line_mesh(c2.axis(), arrow=False, color=Colors.LIGHTSKYBLUE),\n",
    "                        point_mesh(c1.pnt(), color=Colors.HOTPINK),\n",
    "                        point_mesh(c2.pnt(), color=Colors.LIGHTSKYBLUE),\n",
    "#                         point_mesh(c3.pnt(), color=Colors.RED),\n",
    "                        frame_mesh(),AmbientLight(color='#cccccc')])\n",
    "\n",
    "camera = PerspectiveCamera(position=[3, -3, 3])\n",
    "renderer = Renderer(camera=camera, \n",
    "                    scene=scene, \n",
    "                    controls=[TrackballControls(controlling=camera)],\n",
    "                    background = 'white')\n",
    "renderer.width = '960'\n",
    "renderer.height = '512' \n",
    "display(renderer)"
   ]
  },
  {
   "cell_type": "code",
   "execution_count": 23,
   "metadata": {
    "collapsed": false
   },
   "outputs": [
    {
     "data": {
      "text/plain": [
       "Cir: [ -0.6547 0.4364 0.8729 0.2182 -0.5455 0.2182 -0.1091 -0.8729 -0.1091 0.2182 ]"
      ]
     },
     "execution_count": 23,
     "metadata": {},
     "output_type": "execute_result"
    }
   ],
   "source": [
    "c2"
   ]
  },
  {
   "cell_type": "code",
   "execution_count": 24,
   "metadata": {
    "collapsed": false
   },
   "outputs": [
    {
     "data": {
      "text/plain": [
       "Cir: [ nan nan nan nan nan nan nan nan nan nan ]"
      ]
     },
     "execution_count": 24,
     "metadata": {},
     "output_type": "execute_result"
    }
   ],
   "source": [
    "c1.spin(m)"
   ]
  },
  {
   "cell_type": "code",
   "execution_count": 25,
   "metadata": {
    "collapsed": false
   },
   "outputs": [
    {
     "data": {
      "text/plain": [
       "CGA: [ 1 0 0 0 0 0 -4.4e-16 1.7e-16 8.9e-16 4.4e-16 -2.6e-15 1.8e-15 4.4e-16 -2.7e-15 -2.7e-15 1.8e-15 0 0 0 0 0 0 0 0 0 0 -5.3e-15 -4.4e-15 -1.2e-14 -3.6e-15 -7.1e-15 0 ]"
      ]
     },
     "execution_count": 25,
     "metadata": {},
     "output_type": "execute_result"
    }
   ],
   "source": [
    "m = ((C2.unit() * C1.unit().rev()))\n",
    "m * m.rev()"
   ]
  },
  {
   "cell_type": "code",
   "execution_count": 26,
   "metadata": {
    "collapsed": false
   },
   "outputs": [
    {
     "data": {
      "text/plain": [
       "CGA: [ 0 -1.6e-15 -3.3e-15 -1.3e-14 -7.8e-15 -3.1e-15 0 0 0 0 0 0 0 0 0 0 -10 0.38 9.3 0.46 -4.6 4.9 -0.9 -4.4 -0.17 1 0 0 0 0 0 -3.5e-15 ]"
      ]
     },
     "execution_count": 26,
     "metadata": {},
     "output_type": "execute_result"
    }
   ],
   "source": [
    "C1.spin(m)"
   ]
  },
  {
   "cell_type": "code",
   "execution_count": 44,
   "metadata": {
    "collapsed": false
   },
   "outputs": [
    {
     "data": {
      "text/plain": [
       "CGA: [ 0 0 0 0 0 0 0 0 0 0 0 0 0 0 0 0 -0.65 0.44 0.87 0.22 -0.55 0.22 -0.11 -0.87 -0.11 0.22 0 0 0 0 0 0 ]"
      ]
     },
     "execution_count": 44,
     "metadata": {},
     "output_type": "execute_result"
    }
   ],
   "source": [
    "C2"
   ]
  },
  {
   "cell_type": "markdown",
   "metadata": {
    "collapsed": true
   },
   "source": [
    "## Tangents"
   ]
  },
  {
   "cell_type": "code",
   "execution_count": 23,
   "metadata": {
    "collapsed": false
   },
   "outputs": [],
   "source": [
    "p1 = vsr.Vec(1,1,1).null()\n",
    "p2 = p1.spin(motor)\n",
    "v1 = p1.vec().unit()\n",
    "v2 = p2.vec().unit()\n",
    "l1 = vsr.Dll(p1,v1)\n",
    "l2 = vsr.Dll(p2,v2)\n",
    "\n",
    "scene = Scene(children=[point_mesh(p1,color=Colors.HOTPINK),\n",
    "                        point_mesh(p2, color=Colors.LIGHTSKYBLUE),\n",
    "                        vector_mesh(v1,position=p1.vec(), arrow=True, color=Colors.HOTPINK),\n",
    "                        vector_mesh(v2,position=p2.vec(), arrow=True, color=Colors.LIGHTSKYBLUE),\n",
    "                        line_mesh(l1, arrow=False, color=Colors.LIGHTGRAY),\n",
    "                        line_mesh(l2, arrow=False, color=Colors.LIGHTGRAY),\n",
    "                        frame_mesh(),AmbientLight(color='#cccccc')])\n",
    "\n",
    "camera = PerspectiveCamera(position=[3, -3, 3])\n",
    "renderer = Renderer(camera=camera, \n",
    "                    scene=scene, \n",
    "                    controls=[TrackballControls(controlling=camera)],\n",
    "                    background = 'white')\n",
    "renderer.width = '960'\n",
    "renderer.height = '512' \n",
    "display(renderer)"
   ]
  },
  {
   "cell_type": "markdown",
   "metadata": {},
   "source": [
    "## Point Pairs"
   ]
  },
  {
   "cell_type": "code",
   "execution_count": 24,
   "metadata": {
    "collapsed": false
   },
   "outputs": [],
   "source": [
    "p11 = vsr.Vec(1,1,1).null()\n",
    "p12 = vsr.Vec(1,-1,1).null()\n",
    "\n",
    "p21 = p11.spin(motor)\n",
    "p22 = p12.spin(motor)\n",
    "\n",
    "scene = Scene(children=[point_mesh(p11,color=Colors.HOTPINK),\n",
    "                        point_mesh(p12,color=Colors.HOTPINK),\n",
    "                        point_mesh(p21, color=Colors.RED),\n",
    "                        point_mesh(p22, color=Colors.LIGHTSKYBLUE),\n",
    "                        vector_mesh((p12.vec()-p11.vec()), position=p11.vec(), color=Colors.LIGHTGRAY),\n",
    "                        vector_mesh((p22.vec()-p21.vec()), position=p21.vec(), color=Colors.LIGHTGRAY),\n",
    "\n",
    "                        frame_mesh(),AmbientLight(color='#cccccc')])\n",
    "\n",
    "camera = PerspectiveCamera(position=[3, -3, 3])\n",
    "renderer = Renderer(camera=camera, \n",
    "                    scene=scene, \n",
    "                    controls=[TrackballControls(controlling=camera)],\n",
    "                    background = 'white')\n",
    "renderer.width = '960'\n",
    "renderer.height = '512' \n",
    "display(renderer)"
   ]
  },
  {
   "cell_type": "markdown",
   "metadata": {
    "collapsed": true
   },
   "source": [
    "# Heterogeneous Sets of Objects"
   ]
  },
  {
   "cell_type": "code",
   "execution_count": 27,
   "metadata": {
    "collapsed": true
   },
   "outputs": [],
   "source": [
    "pnt = vsr.Vec(0,1,1).null()\n",
    "dlp = vsr.Dlp(vsr.Vec(1,1,1).unit(), 1)\n",
    "p1 = vsr.Vec(1,0,1).null()\n",
    "p2 = vsr.Vec(2,1,1).null()\n",
    "dll = vsr.Dll(p1,p2).unit()\n",
    "\n",
    "scene = Scene(children=[\n",
    "        frame_mesh(),\n",
    "        point_mesh(points_a[0],color=Colors.HOTPINK),\n",
    "        point_mesh(points_a[0].spin(motor),color=Colors.LIGHTSKYBLUE),\n",
    "        line_mesh(lines_a[0],color=Colors.HOTPINK),\n",
    "        line_mesh(lines_a[0].spin(motor),color=Colors.LIGHTSKYBLUE),\n",
    "        circle_mesh(circs_a[1], color=Colors.HOTPINK),\n",
    "        circle_mesh(circs_a[1].spin(motor), color=Colors.LIGHTSKYBLUE),\n",
    "        plane_mesh(planes_a[1],width=1,height=1, color=Colors.HOTPINK),\n",
    "        plane_mesh(planes_a[1].spin(motor),width=1,height=1, color=Colors.LIGHTSKYBLUE),\n",
    "        AmbientLight(color='#cccccc')])\n",
    "\n",
    "camera = PerspectiveCamera(position=[3, -3, 3])\n",
    "renderer = Renderer(camera=camera, \n",
    "                    scene=scene, \n",
    "                    controls=[TrackballControls(controlling=camera)],\n",
    "                    background = 'white')\n",
    "renderer.width = '1024'\n",
    "renderer.height = '768'\n",
    "display(renderer)"
   ]
  },
  {
   "cell_type": "code",
   "execution_count": 28,
   "metadata": {
    "collapsed": true
   },
   "outputs": [],
   "source": [
    "a = np.array([1,1,1,1,1,1])"
   ]
  },
  {
   "cell_type": "code",
   "execution_count": null,
   "metadata": {
    "collapsed": true
   },
   "outputs": [],
   "source": []
  },
  {
   "cell_type": "code",
   "execution_count": null,
   "metadata": {
    "collapsed": true
   },
   "outputs": [],
   "source": []
  },
  {
   "cell_type": "code",
   "execution_count": null,
   "metadata": {
    "collapsed": true
   },
   "outputs": [],
   "source": [
    "\n",
    "\n",
    "\n",
    "\n",
    "\n",
    "\n",
    "\n",
    "\n",
    "\n",
    "\n",
    "\n",
    "\n",
    "\n",
    "\n",
    "\n",
    "\n"
   ]
  },
  {
   "cell_type": "code",
   "execution_count": null,
   "metadata": {
    "collapsed": true
   },
   "outputs": [],
   "source": []
  },
  {
   "cell_type": "code",
   "execution_count": null,
   "metadata": {
    "collapsed": true
   },
   "outputs": [],
   "source": []
  },
  {
   "cell_type": "code",
   "execution_count": null,
   "metadata": {
    "collapsed": true
   },
   "outputs": [],
   "source": []
  },
  {
   "cell_type": "code",
   "execution_count": null,
   "metadata": {
    "collapsed": true
   },
   "outputs": [],
   "source": []
  },
  {
   "cell_type": "code",
   "execution_count": null,
   "metadata": {
    "collapsed": true
   },
   "outputs": [],
   "source": []
  },
  {
   "cell_type": "code",
   "execution_count": null,
   "metadata": {
    "collapsed": true
   },
   "outputs": [],
   "source": []
  },
  {
   "cell_type": "code",
   "execution_count": null,
   "metadata": {
    "collapsed": true
   },
   "outputs": [],
   "source": []
  },
  {
   "cell_type": "code",
   "execution_count": null,
   "metadata": {
    "collapsed": true
   },
   "outputs": [],
   "source": []
  },
  {
   "cell_type": "code",
   "execution_count": null,
   "metadata": {
    "collapsed": true
   },
   "outputs": [],
   "source": []
  },
  {
   "cell_type": "code",
   "execution_count": null,
   "metadata": {
    "collapsed": true
   },
   "outputs": [],
   "source": []
  },
  {
   "cell_type": "code",
   "execution_count": null,
   "metadata": {
    "collapsed": true
   },
   "outputs": [],
   "source": []
  },
  {
   "cell_type": "code",
   "execution_count": null,
   "metadata": {
    "collapsed": true
   },
   "outputs": [],
   "source": []
  },
  {
   "cell_type": "code",
   "execution_count": null,
   "metadata": {
    "collapsed": true
   },
   "outputs": [],
   "source": []
  },
  {
   "cell_type": "code",
   "execution_count": null,
   "metadata": {
    "collapsed": true
   },
   "outputs": [],
   "source": []
  },
  {
   "cell_type": "code",
   "execution_count": null,
   "metadata": {
    "collapsed": true
   },
   "outputs": [],
   "source": []
  },
  {
   "cell_type": "code",
   "execution_count": null,
   "metadata": {
    "collapsed": true
   },
   "outputs": [],
   "source": []
  },
  {
   "cell_type": "code",
   "execution_count": null,
   "metadata": {
    "collapsed": true
   },
   "outputs": [],
   "source": []
  },
  {
   "cell_type": "code",
   "execution_count": null,
   "metadata": {
    "collapsed": true
   },
   "outputs": [],
   "source": []
  },
  {
   "cell_type": "code",
   "execution_count": null,
   "metadata": {
    "collapsed": true
   },
   "outputs": [],
   "source": []
  },
  {
   "cell_type": "code",
   "execution_count": null,
   "metadata": {
    "collapsed": true
   },
   "outputs": [],
   "source": []
  },
  {
   "cell_type": "code",
   "execution_count": null,
   "metadata": {
    "collapsed": true
   },
   "outputs": [],
   "source": []
  },
  {
   "cell_type": "code",
   "execution_count": null,
   "metadata": {
    "collapsed": true
   },
   "outputs": [],
   "source": []
  },
  {
   "cell_type": "code",
   "execution_count": null,
   "metadata": {
    "collapsed": true
   },
   "outputs": [],
   "source": []
  },
  {
   "cell_type": "code",
   "execution_count": null,
   "metadata": {
    "collapsed": true
   },
   "outputs": [],
   "source": []
  },
  {
   "cell_type": "code",
   "execution_count": null,
   "metadata": {
    "collapsed": true
   },
   "outputs": [],
   "source": []
  },
  {
   "cell_type": "code",
   "execution_count": null,
   "metadata": {
    "collapsed": true
   },
   "outputs": [],
   "source": []
  }
 ],
 "metadata": {
  "anaconda-cloud": {},
  "kernelspec": {
   "display_name": "Python [default]",
   "language": "python",
   "name": "python3"
  },
  "language_info": {
   "codemirror_mode": {
    "name": "ipython",
    "version": 3
   },
   "file_extension": ".py",
   "mimetype": "text/x-python",
   "name": "python",
   "nbconvert_exporter": "python",
   "pygments_lexer": "ipython3",
   "version": "3.5.2"
  },
  "widgets": {
   "state": {
    "46b18ea92390421eaeed5b15071e4ed6": {
     "views": [
      {
       "cell_index": 20
      }
     ]
    },
    "cd1a0d97dffb45a6a39d8429018a3086": {
     "views": [
      {
       "cell_index": 15
      }
     ]
    },
    "f8f126a0ccef472ba0dac3a89d1f1f52": {
     "views": [
      {
       "cell_index": 23
      }
     ]
    }
   },
   "version": "1.2.0"
  }
 },
 "nbformat": 4,
 "nbformat_minor": 0
}
