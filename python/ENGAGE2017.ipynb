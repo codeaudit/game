{
 "cells": [
  {
   "cell_type": "code",
   "execution_count": 1,
   "metadata": {
    "collapsed": false
   },
   "outputs": [
    {
     "name": "stdout",
     "output_type": "stream",
     "text": [
      "Populating the interactive namespace from numpy and matplotlib\n"
     ]
    }
   ],
   "source": [
    "from __future__ import print_function\n",
    "import sys\n",
    "sys.path.append('../build/')\n",
    "%pylab inline\n",
    "np.set_printoptions(precision=4, suppress=True)\n",
    "import versor as vsr\n",
    "from versor.drawing import *\n",
    "from motor_estimation import MotorEstimationSolver"
   ]
  },
  {
   "cell_type": "code",
   "execution_count": 2,
   "metadata": {
    "collapsed": false
   },
   "outputs": [],
   "source": [
    "p1 = vsr.Vec(1,0,1).null()\n",
    "p2 = vsr.Vec(2,0.2,1).null()\n",
    "\n",
    "l1 = vsr.Dll(vsr.Vec(0,0,0).null(), vsr.Vec(1,0,0).null()).unit()\n",
    "\n",
    "theta = pi/6\n",
    "delta = 0.6\n",
    "\n",
    "\n",
    "m = vsr.Vec(1,1,delta).trs() * vsr.Biv(theta/2,0,0).exp()\n",
    "\n",
    "l1 = l1.spin(m)\n",
    "l2 = l1.spin(m)\n",
    "l3 = l2.comm(l1.rev())\n",
    "\n",
    "l1_dir = l1.dir().vec().unit()\n",
    "l1_loc = l1.loc(vsr.Vec(0,0,0).null()).vec()\n",
    "l2_dir = l2.dir().vec().unit()\n",
    "l2_loc = l2.loc(vsr.Vec(0,0,0).null()).vec()\n",
    "\n",
    "l4 = vsr.Dll(l3.loc(vsr.Vec(0,0,0).null()), l3.biv().duale().unit())\n",
    "\n",
    "p1 = l1.loc(l4.loc(vsr.Vec(0,0,0).null()))\n",
    "p2 = l2.loc(l4.loc(vsr.Vec(0,0,0).null()))\n",
    "\n",
    "p = ((p2.vec() + p1.vec()) * 0.5).null()\n",
    "\n",
    "# bisector\n",
    "\n",
    "lv = vsr.Dll(p, (l2_dir + l1_dir).unit())\n",
    "lw = vsr.Dll(p, (l2_dir-l1_dir).unit())\n",
    "\n",
    "\n",
    "l5 = l2 - l1\n",
    "\n",
    "scene = Scene(children=[\n",
    "        frame_mesh(),\n",
    "        line_mesh(l1, color=Colors.DEEPSKYBLUE),\n",
    "        point_mesh(p1,color=Colors.DEEPSKYBLUE),\n",
    "\n",
    "        line_mesh(l2, color=Colors.DEEPPINK),\n",
    "        point_mesh(p2,color=Colors.DEEPPINK),\n",
    "        \n",
    "        line_mesh(l3, color=Colors.BLACK),\n",
    "        \n",
    "        line_mesh(l5, color='lightgreen'),\n",
    "        \n",
    "        # midpoint\n",
    "        point_mesh(p, color='lightgreen'),\n",
    "\n",
    "        \n",
    "#         bivector_mesh(l3.biv(), color='red'),\n",
    "#         vector_mesh(B1.comm(bn.comm(B2) * delta), color='red'),\n",
    "        \n",
    "        line_mesh(lv, color='lightgreen'),\n",
    "\n",
    "        \n",
    "        AmbientLight(color='#777777')])\n",
    "\n",
    "camera = PerspectiveCamera(position=[0, 5, 5], up=[0, 0, 1],\n",
    "                      children=[DirectionalLight(color='white', \n",
    "                                                 position=[3, 5, 1], \n",
    "                                                 intensity=0.5)])\n",
    "# camera.children = []\n",
    "\n",
    "renderer = Renderer(camera=camera, \n",
    "                    scene=scene, \n",
    "                    controls=[TrackballControls(controlling=camera)],\n",
    "                    background = 'white')\n",
    "renderer.width = '950'\n",
    "renderer.height = '713'\n",
    "# display(renderer)"
   ]
  },
  {
   "cell_type": "markdown",
   "metadata": {},
   "source": [
    "# Ground truth motor"
   ]
  },
  {
   "cell_type": "code",
   "execution_count": 3,
   "metadata": {
    "collapsed": false
   },
   "outputs": [
    {
     "name": "stdout",
     "output_type": "stream",
     "text": [
      "Mot: [ 0.87 -0.5 0 0 0 0 -3.9 2.2 ]\n",
      "Mot: [ -0.31 -0.2 0 -0.93 0.85 2.9 -3.4 0.4 ]\n",
      "Mot: [ 0.87 0.36 0.29 -0.19 -5.3 -1.8 1.3 2.2 ]\n"
     ]
    }
   ],
   "source": [
    "delta = 9\n",
    "delta2 = -9\n",
    "theta = pi/6\n",
    "theta2 = -pi*1.4\n",
    "motor = (vsr.Vec(0,0,1).unit() * delta ).trs() * vsr.Rot(vsr.Biv(1,0,0).unit() * theta)\n",
    "motor2 = (vsr.Vec(-1,2,3).unit() * delta2 ).trs() * vsr.Rot(vsr.Biv(9,0,42).unit() * theta2)\n",
    "motor3 = vsr.CGA(motor).spin(vsr.CGA(motor2)).mot()\n",
    "print(motor)\n",
    "print(motor2)\n",
    "print(motor3)"
   ]
  },
  {
   "cell_type": "markdown",
   "metadata": {},
   "source": [
    "# Dataset"
   ]
  },
  {
   "cell_type": "code",
   "execution_count": 4,
   "metadata": {
    "collapsed": true
   },
   "outputs": [],
   "source": [
    "n_points = 100\n",
    "sigma = 0.09\n",
    "points_a = [(vsr.Vec(0,0,0).null(),\n",
    "             vsr.Vec(*np.random.normal(0.0, 0.8, 3)).null()  )\n",
    "            for i in range(n_points)]\n",
    "\n",
    "points_a_noisy = [(vsr.Vec(*(np.array(a)[:3] + sigma * np.random.randn(3))).null(),\n",
    "                   vsr.Vec(*(np.array(b)[:3] + sigma * np.random.randn(3))).null()) \n",
    "                  for a,b in points_a]\n",
    "\n",
    "lines_a = [vsr.Dll(a,b).unit() for (a,b) in points_a]\n",
    "lines_b = [line.spin(motor) for line in lines_a]"
   ]
  },
  {
   "cell_type": "code",
   "execution_count": 5,
   "metadata": {
    "collapsed": true
   },
   "outputs": [],
   "source": [
    "lines_a2 = [line.spin(motor2) for line in lines_a]\n",
    "lines_b2 = [line.spin(motor2) for line in lines_b]"
   ]
  },
  {
   "cell_type": "markdown",
   "metadata": {},
   "source": [
    "# Estimate motor"
   ]
  },
  {
   "cell_type": "code",
   "execution_count": 6,
   "metadata": {
    "collapsed": false
   },
   "outputs": [
    {
     "name": "stdout",
     "output_type": "stream",
     "text": [
      "Vec: [ 1.1 -6.8 -4.7 ]\n",
      "Dll: [ -0.6318 -0.4977 0.321 8.299 1.79 -0.5418 ]\n",
      "Dll: [ -0.6318 -0.4977 0.321 1.668 2.586 -3.283 ]\n",
      "Dll: [ -0.6318 -0.4977 0.321 1.668 2.586 -3.283 ]\n",
      "4.5000000000000036\n"
     ]
    }
   ],
   "source": [
    "def ln(a,b):\n",
    "    C = a.comm(b.rev())\n",
    "\n",
    "    A = C.biv().unit()\n",
    "    a = np.array(A.duale())\n",
    "#     print(a)\n",
    "    f = C.drv().vec()\n",
    "    \n",
    "    #     print(f)\n",
    "#     print(np.inner(a,f)*a)\n",
    "    g = f.reject_from(A)\n",
    "    h = f.project_onto(A)\n",
    "    p = C.loc(vsr.Vec(0,0,0).null()).vec()\n",
    "    print(p)\n",
    "    hn = h * (1.0 / C.biv().norm())\n",
    "    return (C,  \n",
    "            vsr.Dll(C[0],C[1],C[2],g[0],g[1],g[2]),\n",
    "            C.spin((p.trs() * vsr.Rot(1,0,0,0)).rev()))\n",
    "C = ln(vsr.Dll(0,0,1,0,0,0).spin(motor2), \n",
    "       vsr.Dll(0,0,1,0,0,0).spin(motor).spin(motor2))\n",
    "print(C[0])\n",
    "print(C[1])\n",
    "print(C[2])\n",
    "print(C[1].drv().vec().norm())"
   ]
  },
  {
   "cell_type": "code",
   "execution_count": 7,
   "metadata": {
    "collapsed": false
   },
   "outputs": [
    {
     "data": {
      "text/plain": [
       "4.5000000000000009"
      ]
     },
     "execution_count": 7,
     "metadata": {},
     "output_type": "execute_result"
    }
   ],
   "source": [
    "delta * cos(theta*2)"
   ]
  },
  {
   "cell_type": "code",
   "execution_count": 8,
   "metadata": {
    "collapsed": false
   },
   "outputs": [
    {
     "data": {
      "text/plain": [
       "0.8660254037844386"
      ]
     },
     "execution_count": 8,
     "metadata": {},
     "output_type": "execute_result"
    }
   ],
   "source": [
    "sin(theta*2)"
   ]
  },
  {
   "cell_type": "code",
   "execution_count": 9,
   "metadata": {
    "collapsed": false
   },
   "outputs": [
    {
     "name": "stdout",
     "output_type": "stream",
     "text": [
      "Ceres Solver Report: Iterations: 6, Initial cost: 8.652250e+03, Final cost: 7.572018e-21, Termination: CONVERGENCE\n",
      "True\n",
      "ground truth:  [ 0.866   0.3648  0.2874 -0.1853 -5.273  -1.7801  1.2606  2.25  ]\n",
      "estimated:     [ 0.866   0.3648  0.2874 -0.1853 -5.273  -1.7801  1.2606  2.25  ]\n",
      "M_err = M_t * ~M_est:\n",
      "\t       Mot: [ 1 2.8e-13 1.9e-13 1.5e-14 -3.2e-13 -2.5e-12 -1.6e-12 0 ]\n",
      "1 - || M_err ||:  -2.22044604925e-16\n"
     ]
    },
    {
     "data": {
      "image/png": "[encoded data removed]",
      "text/plain": [
       "<matplotlib.figure.Figure at 0x10adbbf60>"
      ]
     },
     "metadata": {},
     "output_type": "display_data"
    }
   ],
   "source": [
    "initial_motor = vsr.Mot(1.0, 0.0, 0.0, 0.0, 0.0, 0.0, 0.0, 0.0)\n",
    "mes = MotorEstimationSolver(initial_motor)\n",
    "for a, b in zip(lines_a2, lines_b2):\n",
    "#     mes.add_line_correspondences_residual_block(a,b)\n",
    "#     mes.add_line_commutator_residual_block(a,b)\n",
    "#     mes.add_line_dual_angle_residual_block(a,b)\n",
    "    mes.add_line_projected_commutator_residual_block(a,b)\n",
    "#     mes.add_line_inner_product_residual_block(a,b)\n",
    "#     mes.add_line_anticommutator_residual_block(a,b)\n",
    "mes.set_parameterization('BIVECTOR_GENERATOR')\n",
    "# mes.set_parameterization('POLAR_DECOMPOSITION_TANGENT')\n",
    "mes.linear_solver_type = 'DENSE_QR'\n",
    "\n",
    "mes.gradient_tolerance = 1e-16\n",
    "(em_lines_6_res, summary_lines_6_res, _) = mes.solve()\n",
    "print(summary_lines_6_res['brief_report'])\n",
    "\n",
    "semilogy([it['cost'] for it in summary_lines_6_res['iterations']])\n",
    "print(np.allclose(motor3, em_lines_6_res, rtol=1e-4))\n",
    "print('ground truth: ', np.array(motor3))\n",
    "print('estimated:    ', np.array(em_lines_6_res))\n",
    "print('M_err = M_t * ~M_est:\\n\\t      ',motor3 * em_lines_6_res.rev())\n",
    "print('1 - || M_err ||: ', 1.0 - np.linalg.norm(np.array(motor3 * em_lines_6_res.rev())))"
   ]
  },
  {
   "cell_type": "code",
   "execution_count": 10,
   "metadata": {
    "collapsed": false
   },
   "outputs": [],
   "source": [
    "def daniilidis_motor(LAs, LBs):\n",
    "    \n",
    "    Ds = []#     print(s1)\n",
    "#     print(s2)\n",
    "    for LA, LB in zip(LAs, LBs):\n",
    "        D = np.zeros((8,8))\n",
    "        for i in range(8):\n",
    "            ei = vsr.Mot(0,0,0,0,0,0,0,0)\n",
    "            ei[i] = 1.0\n",
    "            D[:,i] = np.array(LA * ei - ei * LB)\n",
    "        Ds.append(D[1:7,:].copy())\n",
    "    \n",
    "    Ds = np.array(Ds).reshape(-1,8)\n",
    "    [U, s, Vt] = np.linalg.svd(Ds)\n",
    "\n",
    "    v7 = Vt.T[:,-2].copy()\n",
    "    v8 = Vt.T[:,-1].copy()\n",
    "    \n",
    "    v7 = np.array([v7[0], v7[3], -v7[2], v7[1], -v7[7],v7[4], v7[5], v7[6]])\n",
    "    v8 = np.array([v8[0], v8[3], -v8[2], v8[1], -v8[7],v8[4], v8[5], v8[6]])\n",
    "    \n",
    "    u1 = v7[:4]\n",
    "    v1 = v7[4:]\n",
    "    u2 = v8[:4]\n",
    "    v2 = v8[4:]\n",
    "\n",
    "    a = np.inner(u1,v1)\n",
    "    b = np.inner(u1,v2) + np.inner(u2,v1)\n",
    "    c = np.inner(u2,v2)\n",
    "    [s1, s2] = np.roots([a,b,c])\n",
    "\n",
    "    val1 = (s1**2 * np.inner(u1,u1)) + (2 * s1 * np.inner(u1,u2)) + (np.inner(u2,u2))\n",
    "    val2 = (s2**2 * np.inner(u1,u1)) + (2 * s2 * np.inner(u1,u2)) + (np.inner(u2,u2))\n",
    "    \n",
    "    if val1 > val2:\n",
    "        s = s1\n",
    "        val = val1\n",
    "    else:\n",
    "        s = s2\n",
    "        val = val2\n",
    "\n",
    "    lambda2 = np.sqrt(1./val)\n",
    "    lambda1 = s * lambda2\n",
    "    \n",
    "    m_arr = lambda1 * Vt.T[:,-2] + lambda2 * Vt.T[:,-1]\n",
    "\n",
    "    return vsr.Mot(*m_arr), lambda1, lambda2, v7, v8"
   ]
  },
  {
   "cell_type": "code",
   "execution_count": 11,
   "metadata": {
    "collapsed": false
   },
   "outputs": [
    {
     "name": "stdout",
     "output_type": "stream",
     "text": [
      "[ 0.866   0.3648  0.2874 -0.1853 -5.273  -1.7801  1.2606  2.25  ]\n"
     ]
    }
   ],
   "source": [
    "print(np.array(motor3))"
   ]
  },
  {
   "cell_type": "code",
   "execution_count": 12,
   "metadata": {
    "collapsed": false
   },
   "outputs": [
    {
     "name": "stdout",
     "output_type": "stream",
     "text": [
      "[-0.866  -0.3648 -0.2874  0.1853  5.273   1.7801 -1.2606 -2.25  ]\n"
     ]
    }
   ],
   "source": [
    "mdan, _, _, _, _ = daniilidis_motor(lines_a2, lines_b2)\n",
    "print(np.array(mdan.rev()))"
   ]
  },
  {
   "cell_type": "code",
   "execution_count": 13,
   "metadata": {
    "collapsed": false
   },
   "outputs": [
    {
     "data": {
      "text/plain": [
       "Mot: [ -1 -5.3e-16 2.8e-16 -5.3e-16 -3.9e-16 3.7e-15 -2.2e-16 6.7e-16 ]"
      ]
     },
     "execution_count": 13,
     "metadata": {},
     "output_type": "execute_result"
    }
   ],
   "source": [
    "motor3 * mdan"
   ]
  },
  {
   "cell_type": "code",
   "execution_count": 14,
   "metadata": {
    "collapsed": false
   },
   "outputs": [
    {
     "name": "stdout",
     "output_type": "stream",
     "text": [
      "Mot: [ 1 2.8e-13 1.9e-13 1.5e-14 -3.2e-13 -2.5e-12 -1.6e-12 0 ]\n",
      "-2.22044604925e-16\n"
     ]
    }
   ],
   "source": [
    "print(motor3 * em_lines_6_res.rev())\n",
    "print(1.0 - np.linalg.norm(np.array(motor3 * em_lines_6_res.rev())))"
   ]
  },
  {
   "cell_type": "code",
   "execution_count": 15,
   "metadata": {
    "collapsed": false
   },
   "outputs": [
    {
     "name": "stdout",
     "output_type": "stream",
     "text": [
      "\n",
      "Solver Summary (v 1.12.0-eigen-(3.3.1)-lapack-suitesparse-(4.5.3)-cxsparse-(3.1.9)-no_openmp)\n",
      "\n",
      "                                     Original                  Reduced\n",
      "Parameter blocks                            1                        1\n",
      "Parameters                                  8                        8\n",
      "Effective parameters                        6                        6\n",
      "Residual blocks                           100                      100\n",
      "Residual                                  600                      600\n",
      "\n",
      "Minimizer                        TRUST_REGION\n",
      "\n",
      "Dense linear algebra library            EIGEN\n",
      "Trust region strategy     LEVENBERG_MARQUARDT\n",
      "\n",
      "                                        Given                     Used\n",
      "Linear solver                        DENSE_QR                 DENSE_QR\n",
      "Threads                                     1                        1\n",
      "Linear solver threads                       1                        1\n",
      "Linear solver ordering              AUTOMATIC                        1\n",
      "\n",
      "Cost:\n",
      "Initial                          2.869827e+03\n",
      "Final                            1.108753e-18\n",
      "Change                           2.869827e+03\n",
      "\n",
      "Minimizer iterations                        6\n",
      "Successful steps                            6\n",
      "Unsuccessful steps                          0\n",
      "\n",
      "Time (in seconds):\n",
      "Preprocessor                           0.0000\n",
      "\n",
      "  Residual evaluation                  0.0002\n",
      "  Jacobian evaluation                  0.0022\n",
      "  Linear solver                        0.0003\n",
      "Minimizer                              0.0029\n",
      "\n",
      "Postprocessor                          0.0000\n",
      "Total                                  0.0030\n",
      "\n",
      "Termination:                      CONVERGENCE (Parameter tolerance reached. Relative step_norm: 1.390080e-11 <= 1.000000e-08.)\n",
      "\n",
      "Mot: [ 0.87 -0.5 0 0 0 0 -3.9 2.2 ]\n",
      "Mot: [ 0.87 0.36 0.29 -0.19 -5.3 -1.8 1.3 2.2 ]\n",
      "Mot: [ 0.87 0.36 0.29 -0.19 -5.3 -1.8 1.3 2.2 ]\n"
     ]
    }
   ],
   "source": [
    "initial_motor = vsr.Mot(1.0, 0.0, 0.0, 0.0, 0.0,0.0, 0.0, 0.0)\n",
    "mes = MotorEstimationSolver(initial_motor)\n",
    "for a, b in zip(lines_a2, lines_b2):\n",
    "#     mes.add_line_correspondences_residual_block(a,b)\n",
    "    mes.add_line_commutator_residual_block(a,b)\n",
    "mes.set_parameterization('BIVECTOR_GENERATOR')\n",
    "# mes.set_parameterization('POLAR_DECOMPOSITION_TANGENT')\n",
    "mes.linear_solver_type = 'DENSE_QR'\n",
    "(em_lines_6_res2, summary_lines_6_res2, _) = mes.solve()\n",
    "print(summary_lines_6_res2['full_report'])\n",
    "print(motor)\n",
    "print(em_lines_6_res2)\n",
    "print(motor3)"
   ]
  },
  {
   "cell_type": "code",
   "execution_count": 16,
   "metadata": {
    "collapsed": false
   },
   "outputs": [
    {
     "name": "stdout",
     "output_type": "stream",
     "text": [
      "Mot: [ 1 7.4e-12 2.5e-12 -8.7e-13 -1.2e-12 1.7e-11 4.8e-11 -6.7e-16 ]\n"
     ]
    }
   ],
   "source": [
    "print(motor3 * em_lines_6_res2.rev())"
   ]
  },
  {
   "cell_type": "code",
   "execution_count": 17,
   "metadata": {
    "collapsed": false
   },
   "outputs": [
    {
     "data": {
      "text/plain": [
       "1.1102230246251565e-16"
      ]
     },
     "execution_count": 17,
     "metadata": {},
     "output_type": "execute_result"
    }
   ],
   "source": [
    "1. - np.linalg.norm(motor3 * em_lines_6_res2.rev())"
   ]
  },
  {
   "cell_type": "markdown",
   "metadata": {},
   "source": [
    "## Difference"
   ]
  },
  {
   "cell_type": "code",
   "execution_count": 18,
   "metadata": {
    "collapsed": false
   },
   "outputs": [
    {
     "name": "stdout",
     "output_type": "stream",
     "text": [
      "Mot: [ 0.87 -0.5 -8.5e-12 -1.1e-11 2.3e-10 -1.5e-10 -3.9 2.2 ]\n"
     ]
    }
   ],
   "source": [
    "initial_motor = vsr.Mot(1.0, 0.0, 0.0, 0.0, 0.0, 0.0, 0.0, 0.0)\n",
    "mes = MotorEstimationSolver(initial_motor)\n",
    "for a, b in zip(lines_a, lines_b):\n",
    "    mes.add_line_correspondences_residual_block(a,b)\n",
    "mes.gradient_tolerance = 1e-12\n",
    "mes.set_parameterization('BIVECTOR_GENERATOR')\n",
    "mes.linear_solver_type = 'DENSE_QR'\n",
    "(em_lines_6_res, summary_lines_6_res, _) = mes.solve()\n",
    "# print(summary_lines_6_res['full_report'])\n",
    "print(em_lines_6_res)"
   ]
  },
  {
   "cell_type": "code",
   "execution_count": null,
   "metadata": {
    "collapsed": true
   },
   "outputs": [],
   "source": []
  },
  {
   "cell_type": "markdown",
   "metadata": {},
   "source": [
    "# Gauss-Newton"
   ]
  },
  {
   "cell_type": "markdown",
   "metadata": {},
   "source": [
    "## Commutator"
   ]
  },
  {
   "cell_type": "code",
   "execution_count": 19,
   "metadata": {
    "collapsed": true
   },
   "outputs": [],
   "source": [
    "Jci = lambda ei, M, l1, l2 : np.array((ei.comm(l1.spin(M))).comm(l2)) * 2"
   ]
  },
  {
   "cell_type": "code",
   "execution_count": 20,
   "metadata": {
    "collapsed": false
   },
   "outputs": [],
   "source": [
    "fci = lambda M, l1, l2 : np.array(l1.spin(M).comm(l2)).reshape(6,1)"
   ]
  },
  {
   "cell_type": "code",
   "execution_count": 21,
   "metadata": {
    "collapsed": false
   },
   "outputs": [
    {
     "name": "stdout",
     "output_type": "stream",
     "text": [
      "r:  5.24118398226e-07\n",
      "5\n",
      "Mot: [ 0.87 -0.5 5.6e-07 -7.8e-06 7.3e-06 1.6e-06 -3.9 2.2 ]\n"
     ]
    }
   ],
   "source": [
    "M = initial_motor\n",
    "eps1 = 1e-6\n",
    "eps2 = 1e-6\n",
    "rsc = []\n",
    "for i in range(50):\n",
    "    k = len(rsc)\n",
    "    Jc = np.array([np.array([Jci(ei, M, a, b) for ei in [vsr.Dll(1,0,0,0,0,0), \n",
    "                                                         vsr.Dll(0,1,0,0,0,0),\n",
    "                                                         vsr.Dll(0,0,1,0,0,0),\n",
    "                                                         vsr.Dll(0,0,0,1,0,0),\n",
    "                                                         vsr.Dll(0,0,0,0,1,0),\n",
    "                                                         vsr.Dll(0,0,0,0,0,1)]]).reshape(6,6).T \n",
    "                for a, b in zip(lines_a, lines_b)]).reshape(-1,6)\n",
    "#     print(Jc)\n",
    "    fc = np.array([fci(M,a,b) for a, b in zip(lines_a, lines_b)]).reshape(-1,1)\n",
    "    A = np.dot(Jc.T,Jc)\n",
    "    g = np.dot(Jc.T, fc)\n",
    "    r = np.dot(fc.T,fc)[0][0] / 2\n",
    "    rsc.append(r)\n",
    "    if r < 1e-6:\n",
    "        break\n",
    "    h = np.dot(np.linalg.pinv(A), -g)\n",
    "#     h = -g\n",
    "    B = vsr.Dll(*h)\n",
    "    M = B.exp() * M\n",
    "print('r: ', r)\n",
    "print(k)    \n",
    "print(M)"
   ]
  },
  {
   "cell_type": "code",
   "execution_count": 22,
   "metadata": {
    "collapsed": false
   },
   "outputs": [
    {
     "name": "stdout",
     "output_type": "stream",
     "text": [
      "r:  4.12993212168e-08\n",
      "3\n",
      "Mot: [ 0.87 -0.5 0 0 0 0 -3.9 2.3 ]\n"
     ]
    }
   ],
   "source": [
    "lines_a = [vsr.Dll(0,0,1,0,0,0), vsr.Dll(0,-1,0,0,0,0)]\n",
    "lines_b = [a.spin(motor) for a in lines_a]\n",
    "\n",
    "Jci = lambda ei, M, l1, l2 : np.array(((ei.comm(l1.spin(M))).comm(l2)).mot().dll()) * 2\n",
    "fci = lambda M, l1, l2 : np.array((l1.spin(M).comm(l2)).mot().dll()).reshape(6,1)\n",
    "M = initial_motor\n",
    "eps1 = 1e-6\n",
    "eps2 = 1e-6\n",
    "rsc = []\n",
    "for i in range(10):\n",
    "    k = len(rsc)\n",
    "    Jc = np.array([np.array([Jci(vsr.CGA(ei), \n",
    "                                 vsr.CGA(M), \n",
    "                                 vsr.CGA(a.undual()),\n",
    "                                 vsr.CGA(b.undual())) for ei in [vsr.Dll(1,0,0,0,0,0), \n",
    "                                                      vsr.Dll(0,1,0,0,0,0),\n",
    "                                                      vsr.Dll(0,0,1,0,0,0),\n",
    "                                                      vsr.Dll(0,0,0,1,0,0),\n",
    "                                                      vsr.Dll(0,0,0,0,1,0),\n",
    "                                                      vsr.Dll(0,0,0,0,0,1)]]).reshape(6,6).T \n",
    "                for a, b in zip(lines_a, lines_b)]).reshape(-1,6)\n",
    "#     print(Jc)\n",
    "    fc = np.array([fci(vsr.CGA(M),\n",
    "                       vsr.CGA(a.undual()),\n",
    "                       vsr.CGA(b.undual())) for a, b in zip(lines_a, lines_b)]).reshape(-1,1)\n",
    "    \n",
    "    \n",
    "    A = np.dot(Jc.T,Jc)\n",
    "    g = np.dot(Jc.T,fc)\n",
    "    r = np.dot(fc.T,fc)[0][0] / 2\n",
    "    rsc.append(r)\n",
    "    if r < 1e-6:\n",
    "        break\n",
    "    h = np.dot(np.linalg.pinv(A), -g)\n",
    "    B = vsr.Dll(*h)\n",
    "#     M = B.exp() * M\n",
    "    M = (M + B*M)\n",
    "    M = M.retract()\n",
    "print('r: ', r)\n",
    "print(k)    \n",
    "print(M)"
   ]
  },
  {
   "cell_type": "code",
   "execution_count": 23,
   "metadata": {
    "collapsed": false
   },
   "outputs": [
    {
     "data": {
      "text/plain": [
       "[<matplotlib.lines.Line2D at 0x10adbbbe0>]"
      ]
     },
     "execution_count": 23,
     "metadata": {},
     "output_type": "execute_result"
    },
    {
     "data": {
      "image/png": "[encoded data removed]",
      "text/plain": [
       "<matplotlib.figure.Figure at 0x10d93b160>"
      ]
     },
     "metadata": {},
     "output_type": "display_data"
    }
   ],
   "source": [
    "semilogy(rsc)"
   ]
  },
  {
   "cell_type": "markdown",
   "metadata": {},
   "source": [
    "## Difference"
   ]
  },
  {
   "cell_type": "code",
   "execution_count": 24,
   "metadata": {
    "collapsed": true
   },
   "outputs": [],
   "source": [
    "Jdi = lambda ei, M, l1, l2 : np.array((ei.comm(l1.spin(M)))) * 2"
   ]
  },
  {
   "cell_type": "code",
   "execution_count": 25,
   "metadata": {
    "collapsed": true
   },
   "outputs": [],
   "source": [
    "fdi = lambda M, l1, l2 : np.array(l1.spin(M) - l2).reshape(6,1)"
   ]
  },
  {
   "cell_type": "code",
   "execution_count": 26,
   "metadata": {
    "collapsed": false
   },
   "outputs": [
    {
     "name": "stdout",
     "output_type": "stream",
     "text": [
      "r:  6.73414137495e-08\n",
      "4\n",
      "Mot: [ 0.87 -0.5 0 0 0 0 -3.9 2.3 ]\n"
     ]
    }
   ],
   "source": [
    "M = initial_motor\n",
    "rsd = []\n",
    "for i in range(10):\n",
    "    k = len(rsd)\n",
    "    Jd = np.array([np.array([Jdi(ei, M, a, b) for ei in [vsr.Dll(1,0,0,0,0,0), \n",
    "                                                      vsr.Dll(0,1,0,0,0,0),\n",
    "                                                      vsr.Dll(0,0,1,0,0,0),\n",
    "                                                      vsr.Dll(0,0,0,1,0,0),\n",
    "                                                      vsr.Dll(0,0,0,0,1,0),\n",
    "                                                      vsr.Dll(0,0,0,0,0,1)]]).reshape(6,6).T \n",
    "                for a, b in zip(lines_a, lines_b)]).reshape(-1,6)\n",
    "    fd = np.array([fdi(M,a,b) for a, b in zip(lines_a, lines_b)]).reshape(-1,1)\n",
    "    A = np.dot(Jd.T,Jd)\n",
    "    g = np.dot(Jd.T, fd)\n",
    "    r = np.dot(fd.T,fd)[0][0] / 2\n",
    "    rsd.append(r)\n",
    "    if r < 1e-6:\n",
    "        print('r: ', r)\n",
    "        break\n",
    "    h = np.dot(np.linalg.pinv(A), -g)\n",
    "    B = vsr.Dll(*h)\n",
    "    M = B.exp() * M\n",
    "print(k)\n",
    "print(M)"
   ]
  },
  {
   "cell_type": "code",
   "execution_count": 27,
   "metadata": {
    "collapsed": false
   },
   "outputs": [
    {
     "data": {
      "text/plain": [
       "<matplotlib.text.Text at 0x10df29898>"
      ]
     },
     "execution_count": 27,
     "metadata": {},
     "output_type": "execute_result"
    },
    {
     "data": {
      "image/png": "[encoded data removed]",
      "text/plain": [
       "<matplotlib.figure.Figure at 0x10b522da0>"
      ]
     },
     "metadata": {},
     "output_type": "display_data"
    }
   ],
   "source": [
    "fig, ax = plt.subplots(1)\n",
    "ax.plot(rsc, label=r'Commutator')\n",
    "ax.plot(rsd, label=r'Difference')\n",
    "ax.semilogy()\n",
    "legend = ax.legend(frameon=False)\n",
    "ax.xaxis.set_major_locator(MaxNLocator(integer=True))\n",
    "plt.xlabel(r'Iteration k')\n",
    "plt.ylabel(r'Cost')\n",
    "# plt.savefig('lines-cost-engage.eps')"
   ]
  },
  {
   "cell_type": "markdown",
   "metadata": {},
   "source": [
    "## Planes"
   ]
  },
  {
   "cell_type": "code",
   "execution_count": 28,
   "metadata": {
    "collapsed": true
   },
   "outputs": [],
   "source": [
    "n_planes = 10\n",
    "planes_a = []\n",
    "for i in range(10):\n",
    "    dir_vec = np.random.normal(0.0, 0.8, 4)\n",
    "    dir_vec = dir_vec / np.linalg.norm(dir_vec)\n",
    "    distance = np.random.normal(0.0, 0.8,1)\n",
    "    arr = dir_vec + distance\n",
    "    planes_a.append(vsr.Dlp(dir_vec[0],dir_vec[1],dir_vec[2],distance[0]))\n",
    "planes_b = [plane.spin(motor3) for plane in planes_a]"
   ]
  },
  {
   "cell_type": "code",
   "execution_count": 29,
   "metadata": {
    "collapsed": false
   },
   "outputs": [
    {
     "name": "stdout",
     "output_type": "stream",
     "text": [
      "Mot: [ 0.87 0.36 0.29 -0.19 -5.3 -1.8 1.3 2.2 ]\n"
     ]
    }
   ],
   "source": [
    "initial_motor = vsr.Mot(1.0, 0.0, 0.0, 0.0, 0.0, 0.0, 0.0, 0.0)\n",
    "mes = MotorEstimationSolver(initial_motor)\n",
    "for a, b in zip(planes_a, planes_b):\n",
    "    mes.add_dual_plane_commutator_residual_block(a,b)\n",
    "# mes.gradient_tolerance = 1e-12\n",
    "mes.set_parameterization('BIVECTOR_GENERATOR')\n",
    "mes.linear_solver_type = 'DENSE_QR'\n",
    "(em_lines_6_res, summary_lines_6_res, _) = mes.solve()\n",
    "# print(summary_lines_6_res['full_report'])\n",
    "print(em_lines_6_res)"
   ]
  },
  {
   "cell_type": "code",
   "execution_count": 30,
   "metadata": {
    "collapsed": false
   },
   "outputs": [
    {
     "name": "stdout",
     "output_type": "stream",
     "text": [
      "Mot: [ 1 6e-15 -5.8e-16 -2.9e-15 2.7e-13 -1e-12 7.5e-13 -1.1e-15 ]\n"
     ]
    }
   ],
   "source": [
    "print(motor3 * em_lines_6_res.rev())"
   ]
  },
  {
   "cell_type": "code",
   "execution_count": 31,
   "metadata": {
    "collapsed": false
   },
   "outputs": [
    {
     "data": {
      "text/plain": [
       "Mot: [ -0.31 -0.2 0 -0.93 0.85 2.9 -3.4 0.4 ]"
      ]
     },
     "execution_count": 31,
     "metadata": {},
     "output_type": "execute_result"
    }
   ],
   "source": [
    "motor2"
   ]
  },
  {
   "cell_type": "code",
   "execution_count": null,
   "metadata": {
    "collapsed": true
   },
   "outputs": [],
   "source": [
    "Jci = lambda ei, M, l1, l2 : np.array(((ei.comm(l1.spin(M))).comm(l2)).mot().dll()) * 2\n",
    "fci = lambda M, l1, l2 : np.array((l1.spin(M).comm(l2)).mot().dll()).reshape(6,1)"
   ]
  },
  {
   "cell_type": "code",
   "execution_count": null,
   "metadata": {
    "collapsed": false
   },
   "outputs": [],
   "source": [
    "M = initial_motor\n",
    "eps1 = 1e-6\n",
    "eps2 = 1e-6\n",
    "rsc = []\n",
    "for i in range(10):\n",
    "    k = len(rsc)\n",
    "    Jc = np.array([np.array([Jci(vsr.CGA(ei), \n",
    "                                 vsr.CGA(M), \n",
    "                                 vsr.CGA(a),\n",
    "                                 vsr.CGA(b)) for ei in [vsr.Dll(1,0,0,0,0,0), \n",
    "                                                      vsr.Dll(0,1,0,0,0,0),\n",
    "                                                      vsr.Dll(0,0,1,0,0,0),\n",
    "                                                      vsr.Dll(0,0,0,1,0,0),\n",
    "                                                      vsr.Dll(0,0,0,0,1,0),\n",
    "                                                      vsr.Dll(0,0,0,0,0,1)]]).reshape(6,6).T \n",
    "                for a, b in zip(planes_a, planes_b)]).reshape(-1,6)\n",
    "    fc = np.array([fci(vsr.CGA(M),\n",
    "                       vsr.CGA(a),\n",
    "                       vsr.CGA(b)) for a, b in zip(planes_a, planes_b)]).reshape(-1,1)\n",
    "\n",
    "    print(Jc)\n",
    "    A = np.dot(Jc.T,Jc)\n",
    "    g = np.dot(Jc.T,fc)\n",
    "    r = np.dot(fc.T,fc)[0][0] / 2\n",
    "    rsc.append(r)\n",
    "    if r < 1e-6:\n",
    "        break\n",
    "    h = np.dot(np.linalg.pinv(A), -g)\n",
    "    B = vsr.Dll(*h)\n",
    "    M = B.exp() * M\n",
    "print('r: ', r)\n",
    "print(k)    \n",
    "print(M)"
   ]
  },
  {
   "cell_type": "code",
   "execution_count": null,
   "metadata": {
    "collapsed": false
   },
   "outputs": [],
   "source": [
    "fig, ax = plt.subplots(1)\n",
    "ax.plot(rsc, label=r'planes')\n",
    "ax.semilogy()\n",
    "legend = ax.legend(frameon=False)\n",
    "ax.xaxis.set_major_locator(MaxNLocator(integer=True))\n",
    "plt.xlabel(r'Iteration k')\n",
    "plt.ylabel(r'Cost')\n",
    "# plt.savefig('lines-cost-engage.eps')"
   ]
  },
  {
   "cell_type": "markdown",
   "metadata": {},
   "source": [
    "## Points"
   ]
  },
  {
   "cell_type": "code",
   "execution_count": null,
   "metadata": {
    "collapsed": false
   },
   "outputs": [],
   "source": [
    "one = vsr.CGA(*[0]*32); one[0] = 1; print('one :', one)\n",
    "ni = vsr.CGA(*[0]*32); ni[5] = 1; print('ni :', ni)\n",
    "no = vsr.CGA(*[0]*32); no[4] = 1; print('no: ', no)\n",
    "E = no ^ ni; print('E :', E)\n",
    "a = vsr.CGA(vsr.Vec(1,2,3)); print('a: ', a)\n",
    "b = vsr.CGA(vsr.Vec(-2,3,-4)); print('b: ',b)\n",
    "p = (a^ni) + E; print('p: ', p)\n",
    "q = (b^ni) + E; print('q: ', q)"
   ]
  },
  {
   "cell_type": "code",
   "execution_count": null,
   "metadata": {
    "collapsed": false
   },
   "outputs": [],
   "source": [
    "q.acomm(p)"
   ]
  },
  {
   "cell_type": "code",
   "execution_count": null,
   "metadata": {
    "collapsed": false
   },
   "outputs": [],
   "source": [
    "q.comm(p)"
   ]
  },
  {
   "cell_type": "code",
   "execution_count": null,
   "metadata": {
    "collapsed": false
   },
   "outputs": [],
   "source": [
    "q <= p.inv()"
   ]
  },
  {
   "cell_type": "code",
   "execution_count": null,
   "metadata": {
    "collapsed": false
   },
   "outputs": [],
   "source": [
    "dlp = vsr.CGA(vsr.Dlp(vsr.Vec(1,2,3).unit(), 5)); print(dlp)"
   ]
  },
  {
   "cell_type": "code",
   "execution_count": null,
   "metadata": {
    "collapsed": false
   },
   "outputs": [],
   "source": [
    "e1 = vsr.CGA(vsr.Vec(1,0,0))\n",
    "e2 = vsr.CGA(vsr.Vec(0,1,0))\n",
    "e3 = vsr.CGA(vsr.Vec(0,0,1))\n",
    "I3 = e1 * e2 * e3\n",
    "I = no * I3 * ni"
   ]
  },
  {
   "cell_type": "code",
   "execution_count": null,
   "metadata": {
    "collapsed": false
   },
   "outputs": [],
   "source": [
    "e1r = (-1)**0 * (e2 ^ e3 ^ no ^ ni) <= I.inv()\n",
    "e2r = (-1)**1 * (e1 ^ e3 ^ no ^ ni) <= I.inv()\n",
    "e3r = (-1)**2 * (e1 ^ e2 ^ no ^ ni) <= I.inv()\n",
    "nor = (-1)**3 * (e1 ^ e2 ^ e3 ^ ni) <= I.inv()\n",
    "nir = (-1)**4 * (e1 ^ e2 ^ e3 ^ no) <= I.inv()"
   ]
  },
  {
   "cell_type": "code",
   "execution_count": null,
   "metadata": {
    "collapsed": false
   },
   "outputs": [],
   "source": [
    "print((e1 * e1r)[0])\n",
    "print((e2 * e2r)[0])\n",
    "print((e3 * e3r)[0])\n",
    "print((no * nor)[0])\n",
    "print((ni * nir)[0])"
   ]
  },
  {
   "cell_type": "code",
   "execution_count": null,
   "metadata": {
    "collapsed": false
   },
   "outputs": [],
   "source": [
    "e1nir= (-1)**1 * (e2 ^ e3 ^ no) <= I.inv()\n",
    "e2nir= (-1)**2 * (e1 ^ e3 ^ no) <= I.inv()\n",
    "e3nir= (-1)**3 * (e1 ^ e2 ^ no) <= I.inv()"
   ]
  },
  {
   "cell_type": "code",
   "execution_count": null,
   "metadata": {
    "collapsed": true
   },
   "outputs": [],
   "source": [
    "A = e1 ^ e2\n",
    "B = e1 ^ e2"
   ]
  },
  {
   "cell_type": "code",
   "execution_count": null,
   "metadata": {
    "collapsed": false
   },
   "outputs": [],
   "source": [
    "A * (epsr * A.rev())"
   ]
  },
  {
   "cell_type": "code",
   "execution_count": null,
   "metadata": {
    "collapsed": false
   },
   "outputs": [],
   "source": [
    "(eps * B) * (epsr * B.rev())"
   ]
  },
  {
   "cell_type": "code",
   "execution_count": null,
   "metadata": {
    "collapsed": false
   },
   "outputs": [],
   "source": [
    "l = vsr.Dll(vsr.Vec(1,2,3).null(), vsr.Vec(3,2,1).unit()); l\n",
    "ls = vsr."
   ]
  },
  {
   "cell_type": "code",
   "execution_count": null,
   "metadata": {
    "collapsed": false
   },
   "outputs": [],
   "source": [
    "A = l.biv(); A"
   ]
  },
  {
   "cell_type": "code",
   "execution_count": null,
   "metadata": {
    "collapsed": false
   },
   "outputs": [],
   "source": [
    "B = l.drv().vec().unduale(); B"
   ]
  },
  {
   "cell_type": "code",
   "execution_count": null,
   "metadata": {
    "collapsed": false
   },
   "outputs": [],
   "source": [
    "lc = vsr.CGA(A) + eps * vsr.CGA(B); lc"
   ]
  },
  {
   "cell_type": "code",
   "execution_count": null,
   "metadata": {
    "collapsed": false
   },
   "outputs": [],
   "source": [
    "lcr = vsr.CGA(A.rev()) + vsr.CGA(B.rev()) * epsr; lcr"
   ]
  },
  {
   "cell_type": "code",
   "execution_count": null,
   "metadata": {
    "collapsed": false
   },
   "outputs": [],
   "source": [
    "l * l.rev()"
   ]
  },
  {
   "cell_type": "code",
   "execution_count": null,
   "metadata": {
    "collapsed": false
   },
   "outputs": [],
   "source": [
    "l * l.rev()"
   ]
  },
  {
   "cell_type": "code",
   "execution_count": null,
   "metadata": {
    "collapsed": false
   },
   "outputs": [],
   "source": [
    "(gr0)"
   ]
  },
  {
   "cell_type": "code",
   "execution_count": null,
   "metadata": {
    "collapsed": false
   },
   "outputs": [],
   "source": [
    "(lc * lcr)[0]"
   ]
  },
  {
   "cell_type": "code",
   "execution_count": null,
   "metadata": {
    "collapsed": false
   },
   "outputs": [],
   "source": [
    "np.inner(lc,lc)"
   ]
  },
  {
   "cell_type": "code",
   "execution_count": null,
   "metadata": {
    "collapsed": false
   },
   "outputs": [],
   "source": [
    "B.duale()"
   ]
  },
  {
   "cell_type": "code",
   "execution_count": null,
   "metadata": {
    "collapsed": true
   },
   "outputs": [],
   "source": [
    "epsr = I3 * no"
   ]
  },
  {
   "cell_type": "code",
   "execution_count": null,
   "metadata": {
    "collapsed": false
   },
   "outputs": [],
   "source": [
    "epsr<=eps"
   ]
  },
  {
   "cell_type": "code",
   "execution_count": null,
   "metadata": {
    "collapsed": false
   },
   "outputs": [],
   "source": [
    "e1ni = vsr.CGA(vsr.Dll(0,0,0,1,0,0))\n",
    "e2ni = vsr.CGA(vsr.Dll(0,0,0,0,1,0))\n",
    "e3ni = vsr.CGA(vsr.Dll(0,0,0,0,0,1))"
   ]
  },
  {
   "cell_type": "code",
   "execution_count": null,
   "metadata": {
    "collapsed": false
   },
   "outputs": [],
   "source": [
    "print(e1ni<=e1nir)\n",
    "print(e2ni<=e2nir)\n",
    "print(e3ni<=e3nir)"
   ]
  },
  {
   "cell_type": "code",
   "execution_count": null,
   "metadata": {
    "collapsed": false
   },
   "outputs": [],
   "source": [
    "(-1)**5"
   ]
  },
  {
   "cell_type": "code",
   "execution_count": null,
   "metadata": {
    "collapsed": false
   },
   "outputs": [],
   "source": [
    "(-1)**(4)"
   ]
  },
  {
   "cell_type": "code",
   "execution_count": null,
   "metadata": {
    "collapsed": false
   },
   "outputs": [],
   "source": [
    "ni\n",
    "nir"
   ]
  },
  {
   "cell_type": "code",
   "execution_count": null,
   "metadata": {
    "collapsed": false
   },
   "outputs": [],
   "source": [
    "ni <= nir"
   ]
  },
  {
   "cell_type": "code",
   "execution_count": null,
   "metadata": {
    "collapsed": false
   },
   "outputs": [],
   "source": [
    "s = vsr.CGA(*[0]*32); s[0]=1; s "
   ]
  },
  {
   "cell_type": "code",
   "execution_count": null,
   "metadata": {
    "collapsed": false
   },
   "outputs": [],
   "source": [
    "s.dual()"
   ]
  },
  {
   "cell_type": "code",
   "execution_count": null,
   "metadata": {
    "collapsed": false
   },
   "outputs": [],
   "source": [
    "pln = dlp.undual(); pln"
   ]
  },
  {
   "cell_type": "code",
   "execution_count": null,
   "metadata": {
    "collapsed": false
   },
   "outputs": [],
   "source": [
    "pln * I.inv()"
   ]
  },
  {
   "cell_type": "code",
   "execution_count": null,
   "metadata": {
    "collapsed": false
   },
   "outputs": [],
   "source": [
    "print(dlp.undual() <= I.inv())"
   ]
  },
  {
   "cell_type": "code",
   "execution_count": null,
   "metadata": {
    "collapsed": false
   },
   "outputs": [],
   "source": [
    "print(dlp <= I)"
   ]
  },
  {
   "cell_type": "code",
   "execution_count": null,
   "metadata": {
    "collapsed": false
   },
   "outputs": [],
   "source": [
    "q - p"
   ]
  },
  {
   "cell_type": "code",
   "execution_count": null,
   "metadata": {
    "collapsed": false
   },
   "outputs": [],
   "source": [
    "q.comm(p).rev()"
   ]
  },
  {
   "cell_type": "markdown",
   "metadata": {
    "collapsed": false
   },
   "source": [
    " (b - a)^ ni"
   ]
  },
  {
   "cell_type": "code",
   "execution_count": null,
   "metadata": {
    "collapsed": false
   },
   "outputs": [],
   "source": [
    "q.inv()"
   ]
  },
  {
   "cell_type": "code",
   "execution_count": null,
   "metadata": {
    "collapsed": false
   },
   "outputs": [],
   "source": [
    "E.inv()"
   ]
  },
  {
   "cell_type": "code",
   "execution_count": null,
   "metadata": {
    "collapsed": false
   },
   "outputs": [],
   "source": [
    "no.conj()"
   ]
  },
  {
   "cell_type": "code",
   "execution_count": null,
   "metadata": {
    "collapsed": false
   },
   "outputs": [],
   "source": [
    "q.inv()"
   ]
  },
  {
   "cell_type": "code",
   "execution_count": null,
   "metadata": {
    "collapsed": false
   },
   "outputs": [],
   "source": [
    "q * q.rev()"
   ]
  },
  {
   "cell_type": "code",
   "execution_count": null,
   "metadata": {
    "collapsed": false
   },
   "outputs": [],
   "source": [
    "q * p.inv()"
   ]
  },
  {
   "cell_type": "code",
   "execution_count": null,
   "metadata": {
    "collapsed": false
   },
   "outputs": [],
   "source": [
    "q * (q * q.conj())"
   ]
  },
  {
   "cell_type": "code",
   "execution_count": null,
   "metadata": {
    "collapsed": false
   },
   "outputs": [],
   "source": [
    "q"
   ]
  },
  {
   "cell_type": "code",
   "execution_count": null,
   "metadata": {
    "collapsed": false
   },
   "outputs": [],
   "source": [
    "T * q"
   ]
  },
  {
   "cell_type": "code",
   "execution_count": null,
   "metadata": {
    "collapsed": false
   },
   "outputs": [],
   "source": [
    "q - p"
   ]
  },
  {
   "cell_type": "code",
   "execution_count": null,
   "metadata": {
    "collapsed": false
   },
   "outputs": [],
   "source": [
    "((a^ni) - (b^ni)) * -1"
   ]
  },
  {
   "cell_type": "code",
   "execution_count": null,
   "metadata": {
    "collapsed": false
   },
   "outputs": [],
   "source": [
    "((b^ni) - (a^ni)) "
   ]
  },
  {
   "cell_type": "code",
   "execution_count": null,
   "metadata": {
    "collapsed": false
   },
   "outputs": [],
   "source": [
    "(b.comm(ni)).comm(E)"
   ]
  },
  {
   "cell_type": "code",
   "execution_count": null,
   "metadata": {
    "collapsed": false
   },
   "outputs": [],
   "source": [
    "E * (a ^ ni)"
   ]
  },
  {
   "cell_type": "code",
   "execution_count": null,
   "metadata": {
    "collapsed": false
   },
   "outputs": [],
   "source": [
    "(a ^ ni).comm(b ^ ni)"
   ]
  },
  {
   "cell_type": "code",
   "execution_count": null,
   "metadata": {
    "collapsed": true
   },
   "outputs": [],
   "source": []
  },
  {
   "cell_type": "code",
   "execution_count": null,
   "metadata": {
    "collapsed": false
   },
   "outputs": [],
   "source": [
    "(b ^ ni) * E"
   ]
  },
  {
   "cell_type": "code",
   "execution_count": null,
   "metadata": {
    "collapsed": false
   },
   "outputs": [],
   "source": [
    "E * E"
   ]
  },
  {
   "cell_type": "markdown",
   "metadata": {},
   "source": [
    "## Planes"
   ]
  },
  {
   "cell_type": "code",
   "execution_count": null,
   "metadata": {
    "collapsed": false
   },
   "outputs": [],
   "source": [
    "a = vsr.CGA(vsr.Vec(0,0,1).unit())\n",
    "print(a.norm())\n",
    "alpha = 1.0\n",
    "P = a; print(P)\n",
    "theta = pi/7\n",
    "b = a.spin(vsr.CGA(vsr.Biv(0,0,-theta/2).exp()))\n",
    "print(b.norm())\n",
    "beta = 2.0\n",
    "Q = b; print(Q)"
   ]
  },
  {
   "cell_type": "code",
   "execution_count": null,
   "metadata": {
    "collapsed": false
   },
   "outputs": [],
   "source": [
    "T = vsr.CGA(vsr.Vec(1,2,3).trs() * vsr.Rot(1,0,0,0))\n",
    "T"
   ]
  },
  {
   "cell_type": "code",
   "execution_count": null,
   "metadata": {
    "collapsed": true
   },
   "outputs": [],
   "source": [
    "eps = vsr.CGA(vsr.Mot(0,0,0,0,0,0,0,-1))"
   ]
  },
  {
   "cell_type": "code",
   "execution_count": null,
   "metadata": {
    "collapsed": false
   },
   "outputs": [],
   "source": [
    "T = vsr.CGA(vsr.Vec(1,2,3))\n",
    "print(T)\n",
    "trs = one - eps * T * 0.5\n",
    "trs = vsr.CGA(vsr.Vec(1,2,3).trs() * vsr.Rot(1,0,0,0)); print(trs)"
   ]
  },
  {
   "cell_type": "code",
   "execution_count": null,
   "metadata": {
    "collapsed": false
   },
   "outputs": [],
   "source": [
    "Pp = a.spin(trs)"
   ]
  },
  {
   "cell_type": "code",
   "execution_count": null,
   "metadata": {
    "collapsed": false
   },
   "outputs": [],
   "source": [
    "Qp = b.spin(trs)"
   ]
  },
  {
   "cell_type": "code",
   "execution_count": null,
   "metadata": {
    "collapsed": false
   },
   "outputs": [],
   "source": [
    "Qp * Pp"
   ]
  },
  {
   "cell_type": "code",
   "execution_count": null,
   "metadata": {
    "collapsed": false
   },
   "outputs": [],
   "source": [
    "B = (a ^ b).unit()\n",
    "B"
   ]
  },
  {
   "cell_type": "code",
   "execution_count": null,
   "metadata": {
    "collapsed": false
   },
   "outputs": [],
   "source": [
    "B.spin(trs)"
   ]
  },
  {
   "cell_type": "code",
   "execution_count": null,
   "metadata": {
    "collapsed": false
   },
   "outputs": [],
   "source": [
    "t = vsr.CGA(vsr.Vec(1,2,3))\n",
    "(a<=t)*b - (b<=t)*a"
   ]
  },
  {
   "cell_type": "code",
   "execution_count": null,
   "metadata": {
    "collapsed": false
   },
   "outputs": [],
   "source": [
    "(t <= (b ^ a ))"
   ]
  },
  {
   "cell_type": "code",
   "execution_count": null,
   "metadata": {
    "collapsed": false
   },
   "outputs": [],
   "source": [
    "t <= (a^b) * -1"
   ]
  },
  {
   "cell_type": "code",
   "execution_count": null,
   "metadata": {
    "collapsed": false
   },
   "outputs": [],
   "source": [
    "(t ^ (a^b).dual()) * eps"
   ]
  },
  {
   "cell_type": "code",
   "execution_count": null,
   "metadata": {
    "collapsed": false
   },
   "outputs": [],
   "source": [
    "(Qp - Pp)"
   ]
  },
  {
   "cell_type": "code",
   "execution_count": null,
   "metadata": {
    "collapsed": false
   },
   "outputs": [],
   "source": [
    "(Qp - Pp).unit()"
   ]
  },
  {
   "cell_type": "code",
   "execution_count": null,
   "metadata": {
    "collapsed": false
   },
   "outputs": [],
   "source": [
    "(b -a).norm()"
   ]
  },
  {
   "cell_type": "code",
   "execution_count": null,
   "metadata": {
    "collapsed": false
   },
   "outputs": [],
   "source": [
    "(b-a)<=t"
   ]
  },
  {
   "cell_type": "code",
   "execution_count": null,
   "metadata": {
    "collapsed": false
   },
   "outputs": [],
   "source": [
    "vsr.CGA(vsr.EGA(0,0,0,0,0,0,0,1))"
   ]
  },
  {
   "cell_type": "code",
   "execution_count": null,
   "metadata": {
    "collapsed": false
   },
   "outputs": [],
   "source": [
    "vsr.Biv(0,0,-theta/2).exp()"
   ]
  },
  {
   "cell_type": "code",
   "execution_count": null,
   "metadata": {
    "collapsed": false
   },
   "outputs": [],
   "source": [
    "a ^ b"
   ]
  },
  {
   "cell_type": "code",
   "execution_count": null,
   "metadata": {
    "collapsed": false
   },
   "outputs": [],
   "source": [
    "sin(theta)"
   ]
  },
  {
   "cell_type": "code",
   "execution_count": null,
   "metadata": {
    "collapsed": false
   },
   "outputs": [],
   "source": [
    "((a ^ b) * sin(2 * theta)).spin(trs)"
   ]
  },
  {
   "cell_type": "code",
   "execution_count": null,
   "metadata": {
    "collapsed": true
   },
   "outputs": [],
   "source": [
    "B = (a ^ b).unit()"
   ]
  },
  {
   "cell_type": "code",
   "execution_count": null,
   "metadata": {
    "collapsed": false
   },
   "outputs": [],
   "source": [
    "B.spin(trs) * 2 * sin(theta)"
   ]
  },
  {
   "cell_type": "code",
   "execution_count": null,
   "metadata": {
    "collapsed": false
   },
   "outputs": [],
   "source": [
    "Qp * Pp"
   ]
  },
  {
   "cell_type": "code",
   "execution_count": null,
   "metadata": {
    "collapsed": false
   },
   "outputs": [],
   "source": [
    "arccos((a <= b)[0])"
   ]
  },
  {
   "cell_type": "code",
   "execution_count": null,
   "metadata": {
    "collapsed": false
   },
   "outputs": [],
   "source": [
    "pi/3"
   ]
  },
  {
   "cell_type": "code",
   "execution_count": null,
   "metadata": {
    "collapsed": false
   },
   "outputs": [],
   "source": [
    "b * a"
   ]
  },
  {
   "cell_type": "code",
   "execution_count": null,
   "metadata": {
    "collapsed": true
   },
   "outputs": [],
   "source": []
  },
  {
   "cell_type": "code",
   "execution_count": null,
   "metadata": {
    "collapsed": false
   },
   "outputs": [],
   "source": [
    "Q.inv()"
   ]
  },
  {
   "cell_type": "code",
   "execution_count": null,
   "metadata": {
    "collapsed": true
   },
   "outputs": [],
   "source": [
    "e1 = vsr.CGA(vsr.Vec(1,0,0))\n",
    "e2 = vsr.CGA(vsr.Vec(0,0,0))\n",
    "e3 = vsr.CGA(vsr.Vec(0,0,1))\n",
    "I3 = e1 * e2 * e3\n",
    "I = no * I3 * ni"
   ]
  },
  {
   "cell_type": "code",
   "execution_count": null,
   "metadata": {
    "collapsed": true
   },
   "outputs": [],
   "source": []
  },
  {
   "cell_type": "code",
   "execution_count": null,
   "metadata": {
    "collapsed": false
   },
   "outputs": [],
   "source": [
    "Q"
   ]
  },
  {
   "cell_type": "code",
   "execution_count": null,
   "metadata": {
    "collapsed": false
   },
   "outputs": [],
   "source": [
    "print(P.comm(Q))"
   ]
  },
  {
   "cell_type": "code",
   "execution_count": null,
   "metadata": {
    "collapsed": false
   },
   "outputs": [],
   "source": [
    "a.comm(b)"
   ]
  },
  {
   "cell_type": "code",
   "execution_count": null,
   "metadata": {
    "collapsed": false
   },
   "outputs": [],
   "source": [
    "S = P.comm(Q); print(S)"
   ]
  },
  {
   "cell_type": "code",
   "execution_count": null,
   "metadata": {
    "collapsed": false
   },
   "outputs": [],
   "source": [
    "s = S.mot().dll()"
   ]
  },
  {
   "cell_type": "code",
   "execution_count": null,
   "metadata": {
    "collapsed": false
   },
   "outputs": [],
   "source": [
    "l = s.biv().duale()"
   ]
  },
  {
   "cell_type": "code",
   "execution_count": null,
   "metadata": {
    "collapsed": false
   },
   "outputs": [],
   "source": [
    "lb = s.drv().vec()"
   ]
  },
  {
   "cell_type": "code",
   "execution_count": null,
   "metadata": {
    "collapsed": false
   },
   "outputs": [],
   "source": [
    "np.inner(l,lb)"
   ]
  },
  {
   "cell_type": "code",
   "execution_count": null,
   "metadata": {
    "collapsed": false
   },
   "outputs": [],
   "source": [
    "np.inner(l,l) + np.inner(lb,lb)"
   ]
  },
  {
   "cell_type": "code",
   "execution_count": null,
   "metadata": {
    "collapsed": false
   },
   "outputs": [],
   "source": [
    "np.inner(s,s)"
   ]
  },
  {
   "cell_type": "code",
   "execution_count": null,
   "metadata": {
    "collapsed": false
   },
   "outputs": [],
   "source": [
    "beta * a - alpha * b"
   ]
  },
  {
   "cell_type": "code",
   "execution_count": null,
   "metadata": {
    "collapsed": false
   },
   "outputs": [],
   "source": [
    "np.inner(l,l) + (beta**2) + (alpha**2) - alpha * beta * np.inner(a,b) * 2.0"
   ]
  },
  {
   "cell_type": "code",
   "execution_count": null,
   "metadata": {
    "collapsed": false
   },
   "outputs": [],
   "source": [
    "th2 = np.arctan2(l.norm(), (a <= b).norm())"
   ]
  },
  {
   "cell_type": "code",
   "execution_count": null,
   "metadata": {
    "collapsed": false
   },
   "outputs": [],
   "source": [
    "pi/3"
   ]
  },
  {
   "cell_type": "code",
   "execution_count": null,
   "metadata": {
    "collapsed": false
   },
   "outputs": [],
   "source": [
    "np.inner(a,b)"
   ]
  },
  {
   "cell_type": "code",
   "execution_count": null,
   "metadata": {
    "collapsed": false
   },
   "outputs": [],
   "source": [
    "cos(pi/3)"
   ]
  },
  {
   "cell_type": "code",
   "execution_count": null,
   "metadata": {
    "collapsed": false
   },
   "outputs": [],
   "source": [
    "np.inner(a,a)"
   ]
  },
  {
   "cell_type": "code",
   "execution_count": null,
   "metadata": {
    "collapsed": false
   },
   "outputs": [],
   "source": [
    "np.inner(b,b)"
   ]
  },
  {
   "cell_type": "code",
   "execution_count": null,
   "metadata": {
    "collapsed": false
   },
   "outputs": [],
   "source": [
    "cos(theta)"
   ]
  },
  {
   "cell_type": "code",
   "execution_count": null,
   "metadata": {
    "collapsed": false
   },
   "outputs": [],
   "source": [
    "print(a)\n",
    "print(b)"
   ]
  },
  {
   "cell_type": "code",
   "execution_count": null,
   "metadata": {
    "collapsed": false
   },
   "outputs": [],
   "source": [
    "a <= b"
   ]
  },
  {
   "cell_type": "code",
   "execution_count": null,
   "metadata": {
    "collapsed": false
   },
   "outputs": [],
   "source": []
  },
  {
   "cell_type": "code",
   "execution_count": null,
   "metadata": {
    "collapsed": false
   },
   "outputs": [],
   "source": [
    "sin(theta)"
   ]
  },
  {
   "cell_type": "code",
   "execution_count": null,
   "metadata": {
    "collapsed": false
   },
   "outputs": [],
   "source": [
    "np.inner(S,S)"
   ]
  },
  {
   "cell_type": "code",
   "execution_count": null,
   "metadata": {
    "collapsed": false
   },
   "outputs": [],
   "source": [
    "sin(theta)**2 "
   ]
  },
  {
   "cell_type": "code",
   "execution_count": null,
   "metadata": {
    "collapsed": false
   },
   "outputs": [],
   "source": [
    "print(np.inner(s,s))\n",
    "print(sin(th2)**2 + alpha**2 + beta**2 - 2 * alpha * beta * cos(th2))"
   ]
  },
  {
   "cell_type": "code",
   "execution_count": null,
   "metadata": {
    "collapsed": false
   },
   "outputs": [],
   "source": [
    "R = P - Q "
   ]
  },
  {
   "cell_type": "code",
   "execution_count": null,
   "metadata": {
    "collapsed": false
   },
   "outputs": [],
   "source": [
    "np.inner(R,R)"
   ]
  },
  {
   "cell_type": "code",
   "execution_count": null,
   "metadata": {
    "collapsed": false
   },
   "outputs": [],
   "source": [
    "2 * (1 - cos(th2) - alpha * beta) + beta**2 + alpha**2"
   ]
  },
  {
   "cell_type": "code",
   "execution_count": null,
   "metadata": {
    "collapsed": false
   },
   "outputs": [],
   "source": [
    "1 - cos(th2)"
   ]
  },
  {
   "cell_type": "code",
   "execution_count": null,
   "metadata": {
    "collapsed": true
   },
   "outputs": [],
   "source": []
  },
  {
   "cell_type": "code",
   "execution_count": null,
   "metadata": {
    "collapsed": false
   },
   "outputs": [],
   "source": [
    "(alpha - beta)**2 + 4 * sin(th2/2)**2"
   ]
  },
  {
   "cell_type": "code",
   "execution_count": null,
   "metadata": {
    "collapsed": true
   },
   "outputs": [],
   "source": [
    "n_points=10\n",
    "points_a = [vsr.CGA(vsr.Vec(*np.random.normal(0.0, 0.8, 3)).null()) ^ ni for i in range(n_points)]\n",
    "points_b = [point.spin(vsr.CGA(motor)) for point in points_a]"
   ]
  },
  {
   "cell_type": "code",
   "execution_count": null,
   "metadata": {
    "collapsed": false
   },
   "outputs": [],
   "source": [
    "n_points=10\n",
    "points_a = [vsr.CGA(vsr.Vec(*np.random.normal(0.0, 0.8, 3)).null()) for i in range(n_points)]\n",
    "points_ani = [a ^ ni for a in points_a]\n",
    "points_b = [point.spin(vsr.CGA(motor)) for point in points_a]\n",
    "points_bni = [b ^ ni for b in points_b]"
   ]
  },
  {
   "cell_type": "code",
   "execution_count": null,
   "metadata": {
    "collapsed": false
   },
   "outputs": [],
   "source": [
    "print(points_a[0])\n",
    "print(points_ani[0])\n",
    "print(points_b[0]);\n",
    "print(points_bni[0]);"
   ]
  },
  {
   "cell_type": "code",
   "execution_count": null,
   "metadata": {
    "collapsed": false
   },
   "outputs": [],
   "source": [
    "points_ani[0] * points_bni[0]"
   ]
  },
  {
   "cell_type": "code",
   "execution_count": null,
   "metadata": {
    "collapsed": false
   },
   "outputs": [],
   "source": [
    "points_ani[0] * points_bni[0]"
   ]
  },
  {
   "cell_type": "code",
   "execution_count": null,
   "metadata": {
    "collapsed": false
   },
   "outputs": [],
   "source": [
    "points_bni[0] - points_ani[0]"
   ]
  },
  {
   "cell_type": "code",
   "execution_count": null,
   "metadata": {
    "collapsed": false
   },
   "outputs": [],
   "source": [
    "M = initial_motor\n",
    "eps1 = 1e-6\n",
    "eps2 = 1e-6\n",
    "rsc = []\n",
    "for i in range(10):\n",
    "    k = len(rsc)\n",
    "    Jc = np.array([np.array([Jci(vsr.CGA(ei), \n",
    "                                 vsr.CGA(M), \n",
    "                                 (a),\n",
    "                                 (b)) for ei in [vsr.Dll(1,0,0,0,0,0), \n",
    "                                                      vsr.Dll(0,1,0,0,0,0),\n",
    "                                                      vsr.Dll(0,0,1,0,0,0),\n",
    "                                                      vsr.Dll(0,0,0,1,0,0),\n",
    "                                                      vsr.Dll(0,0,0,0,1,0),\n",
    "                                                      vsr.Dll(0,0,0,0,0,1)]]).reshape(6,6).T \n",
    "                for a, b in zip(points_a, points_b)]).reshape(-1,6)\n",
    "    fc = np.array([fci(vsr.CGA(M),\n",
    "                       (a),\n",
    "                       (b)) for a, b in zip(points_a, points_b)]).reshape(-1,1)\n",
    "\n",
    "#     print(Jc)\n",
    "    A = np.dot(Jc.T,Jc)\n",
    "#     print(A)\n",
    "    g = np.dot(Jc.T,fc)\n",
    "    r = np.dot(fc.T,fc)[0][0] / 2\n",
    "    rsc.append(r)\n",
    "    if r < 1e-6:\n",
    "        break\n",
    "#     h = np.dot(np.linalg.pinv(A), -g)\n",
    "    h = np.linalg.solve(A,-g)\n",
    "    B = vsr.Dll(*h)\n",
    "    M = B.exp() * M\n",
    "print('r: ', r)\n",
    "print(k)    \n",
    "print(M)"
   ]
  },
  {
   "cell_type": "code",
   "execution_count": null,
   "metadata": {
    "collapsed": false
   },
   "outputs": [],
   "source": [
    "print(Jc[:6,:])"
   ]
  },
  {
   "cell_type": "code",
   "execution_count": null,
   "metadata": {
    "collapsed": false
   },
   "outputs": [],
   "source": [
    "fig, ax = plt.subplots(1)\n",
    "ax.plot(rsc, label=r'points')\n",
    "ax.semilogy()\n",
    "legend = ax.legend(frameon=False)\n",
    "ax.xaxis.set_major_locator(MaxNLocator(integer=True))\n",
    "plt.xlabel(r'Iteration k')\n",
    "plt.ylabel(r'Cost')\n",
    "# plt.savefig('lines-cost-engage.eps')"
   ]
  },
  {
   "cell_type": "markdown",
   "metadata": {},
   "source": [
    "# Points, Lines, and Planes"
   ]
  },
  {
   "cell_type": "code",
   "execution_count": null,
   "metadata": {
    "collapsed": false
   },
   "outputs": [],
   "source": [
    "Jci = lambda ei, M, l1, l2 : np.array(((ei.comm(l1.spin(M))).comm(l2)).mot().dll()) * 2\n",
    "fci = lambda M, l1, l2 : np.array((l1.spin(M).comm(l2)).mot().dll()).reshape(6,1)\n",
    "M = initial_motor\n",
    "eps1 = 1e-6\n",
    "eps2 = 1e-6\n",
    "rsc = []\n",
    "for i in range(10):\n",
    "    k = len(rsc)\n",
    "    Jlin = np.array([np.array([Jci(vsr.CGA(ei), \n",
    "                                 vsr.CGA(M), \n",
    "                                 vsr.CGA(a.undual()),\n",
    "                                 vsr.CGA(b.undual())) for ei in [vsr.Dll(1,0,0,0,0,0), \n",
    "                                                      vsr.Dll(0,1,0,0,0,0),\n",
    "                                                      vsr.Dll(0,0,1,0,0,0),\n",
    "                                                      vsr.Dll(0,0,0,1,0,0),\n",
    "                                                      vsr.Dll(0,0,0,0,1,0),\n",
    "                                                      vsr.Dll(0,0,0,0,0,1)]]).reshape(6,6).T \n",
    "                for a, b in zip(lines_a, lines_b)]).reshape(-1,6)\n",
    "    flin = np.array([fci(vsr.CGA(M),\n",
    "                       vsr.CGA(a.undual()),\n",
    "                       vsr.CGA(b.undual())) for a, b in zip(lines_a, lines_b)]).reshape(-1,1)\n",
    "    Jpln = np.array([np.array([Jci(vsr.CGA(ei), \n",
    "                                 vsr.CGA(M), \n",
    "                                 vsr.CGA(a.undual()),\n",
    "                                 vsr.CGA(b.undual())) for ei in [vsr.Dll(1,0,0,0,0,0), \n",
    "                                                      vsr.Dll(0,1,0,0,0,0),\n",
    "                                                      vsr.Dll(0,0,1,0,0,0),\n",
    "                                                      vsr.Dll(0,0,0,1,0,0),\n",
    "                                                      vsr.Dll(0,0,0,0,1,0),\n",
    "                                                      vsr.Dll(0,0,0,0,0,1)]]).reshape(6,6).T \n",
    "                for a, b in zip(planes_a, planes_b)]).reshape(-1,6)\n",
    "    fpln = np.array([fci(vsr.CGA(M),\n",
    "                       vsr.CGA(a.undual()),\n",
    "                       vsr.CGA(b.undual())) for a, b in zip(planes_a, planes_b)]).reshape(-1,1)\n",
    "    \n",
    "    Jpnt = np.array([np.array([Jci(vsr.CGA(ei), \n",
    "                                 vsr.CGA(M), \n",
    "                                 (a),\n",
    "                                 (b)) for ei in [vsr.Dll(1,0,0,0,0,0), \n",
    "                                                      vsr.Dll(0,1,0,0,0,0),\n",
    "                                                      vsr.Dll(0,0,1,0,0,0),\n",
    "                                                      vsr.Dll(0,0,0,1,0,0),\n",
    "                                                      vsr.Dll(0,0,0,0,1,0),\n",
    "                                                      vsr.Dll(0,0,0,0,0,1)]]).reshape(6,6).T \n",
    "                for a, b in zip(points_a, points_b)]).reshape(-1,6)\n",
    "    fpnt = np.array([fci(vsr.CGA(M),\n",
    "                       (a),\n",
    "                       (b)) for a, b in zip(points_a, points_b)]).reshape(-1,1)\n",
    "    \n",
    "    Jc = np.vstack((Jlin, Jpln, Jpnt))\n",
    "    fc = np.vstack((flin, fpln, fpnt))\n",
    "\n",
    "    A = np.dot(Jc.T,Jc)\n",
    "    print(A)\n",
    "    g = np.dot(Jc.T,fc)\n",
    "    r = np.dot(fc.T,fc)[0][0] / 2\n",
    "    rsc.append(r)\n",
    "    if r < 1e-3:\n",
    "        break\n",
    "#     h = np.dot(np.linalg.pinv(A), -g)\n",
    "    h = np.linalg.solve(A,-g)\n",
    "    B = vsr.Dll(*h)\n",
    "    M = B.exp() * M\n",
    "print('r: ', r)\n",
    "print(k)    \n",
    "print(M)"
   ]
  },
  {
   "cell_type": "code",
   "execution_count": null,
   "metadata": {
    "collapsed": false
   },
   "outputs": [],
   "source": [
    "semilogy(rsc)"
   ]
  },
  {
   "cell_type": "code",
   "execution_count": null,
   "metadata": {
    "collapsed": false
   },
   "outputs": [],
   "source": [
    "planes_a[0].undual()"
   ]
  },
  {
   "cell_type": "code",
   "execution_count": null,
   "metadata": {
    "collapsed": true
   },
   "outputs": [],
   "source": [
    "## Spheres"
   ]
  },
  {
   "cell_type": "code",
   "execution_count": null,
   "metadata": {
    "collapsed": true
   },
   "outputs": [],
   "source": [
    "sph1 = vsr.Sph(vsr.Vec(1,-1,1).null(), 0.3)\n",
    "sph2 = vsr.Sph(vsr.Vec(2,-3,5).null(), 0.7)"
   ]
  },
  {
   "cell_type": "code",
   "execution_count": null,
   "metadata": {
    "collapsed": false
   },
   "outputs": [],
   "source": [
    "(vsr.CGA(sph1) ^ ni )* (vsr.CGA(sph2) ^ ni).inv()"
   ]
  },
  {
   "cell_type": "code",
   "execution_count": null,
   "metadata": {
    "collapsed": false
   },
   "outputs": [],
   "source": [
    "vsr.CGA(sph.dual()) ^ ni"
   ]
  },
  {
   "cell_type": "code",
   "execution_count": null,
   "metadata": {
    "collapsed": false
   },
   "outputs": [],
   "source": [
    "sph.dual()"
   ]
  },
  {
   "cell_type": "code",
   "execution_count": null,
   "metadata": {
    "collapsed": true
   },
   "outputs": [],
   "source": [
    "l1 = lines_a[0]\n",
    "l2 = lines_b[0]"
   ]
  },
  {
   "cell_type": "code",
   "execution_count": null,
   "metadata": {
    "collapsed": false
   },
   "outputs": [],
   "source": [
    "M = l2 * l1\n",
    "print(l2)"
   ]
  },
  {
   "cell_type": "code",
   "execution_count": null,
   "metadata": {
    "collapsed": false
   },
   "outputs": [],
   "source": [
    "print(M * l1)"
   ]
  },
  {
   "cell_type": "code",
   "execution_count": null,
   "metadata": {
    "collapsed": false
   },
   "outputs": [],
   "source": [
    "pl1 = planes_a[0] \n",
    "pl2 = planes_b[0]\n",
    "print(pl2)\n",
    "Mp = pl2 * pl1.inv()\n",
    "print(Mp)"
   ]
  },
  {
   "cell_type": "code",
   "execution_count": null,
   "metadata": {
    "collapsed": false
   },
   "outputs": [],
   "source": [
    "vsr.CGA(Mp) * vsr.CGA(pl1)"
   ]
  },
  {
   "cell_type": "code",
   "execution_count": null,
   "metadata": {
    "collapsed": false
   },
   "outputs": [],
   "source": [
    "R = (vsr.Biv(1,2,3).exp() * (-pi/6) ); print(R)\n",
    "R = R * vsr.Vec(0,0,0).trs()\n",
    "t = vsr.Vec(1,2,3); print(t)\n",
    "T = t.unduale()\n",
    "p = t.null(); print(p)\n",
    "trs = vsr.Rot(1,0,0,0) * t.trs(); print(Trs)"
   ]
  },
  {
   "cell_type": "code",
   "execution_count": null,
   "metadata": {
    "collapsed": false
   },
   "outputs": [],
   "source": [
    "trs * R * trs.rev()"
   ]
  },
  {
   "cell_type": "code",
   "execution_count": null,
   "metadata": {
    "collapsed": true
   },
   "outputs": [],
   "source": [
    "motor = (vsr.Vec(1,2,3).unit() * delta ).trs() * vsr.Rot(vsr.Biv(1,2,3).unit() * theta)"
   ]
  },
  {
   "cell_type": "code",
   "execution_count": null,
   "metadata": {
    "collapsed": false
   },
   "outputs": [],
   "source": [
    "R = R * vsr.Vec(0,0,0).trs()\n",
    "a = vsr.Vec(1,2,3).unit()\n",
    "p1 = vsr.Dlp(a,0)\n",
    "p2 = p1.spin(R)"
   ]
  },
  {
   "cell_type": "code",
   "execution_count": null,
   "metadata": {
    "collapsed": false
   },
   "outputs": [],
   "source": [
    "p2 * p1"
   ]
  },
  {
   "cell_type": "code",
   "execution_count": null,
   "metadata": {
    "collapsed": false
   },
   "outputs": [],
   "source": [
    "p1 = p1.spin(trs); print(p1)\n",
    "print(vsr.Dlp(a,(t<=a)))"
   ]
  },
  {
   "cell_type": "code",
   "execution_count": null,
   "metadata": {
    "collapsed": false
   },
   "outputs": [],
   "source": [
    "p2 = p2.spin(trs); print(p2)\n",
    "print(vsr.Dlp(b,(t<=b)))"
   ]
  },
  {
   "cell_type": "code",
   "execution_count": null,
   "metadata": {
    "collapsed": false
   },
   "outputs": [],
   "source": [
    "vsr.EGA(vsr.Biv(1,2,3)).acomm(vsr.EGA(vsr.Vec(1,2,3)))"
   ]
  },
  {
   "cell_type": "code",
   "execution_count": null,
   "metadata": {
    "collapsed": true
   },
   "outputs": [],
   "source": [
    "a = p1.vec()\n",
    "b = p2.vec()"
   ]
  },
  {
   "cell_type": "code",
   "execution_count": null,
   "metadata": {
    "collapsed": false
   },
   "outputs": [],
   "source": [
    "(a * (t<=b))"
   ]
  },
  {
   "cell_type": "code",
   "execution_count": null,
   "metadata": {
    "collapsed": false
   },
   "outputs": [],
   "source": [
    " - (b * (t<=a))"
   ]
  },
  {
   "cell_type": "code",
   "execution_count": null,
   "metadata": {
    "collapsed": false
   },
   "outputs": [],
   "source": [
    "p2 * p1"
   ]
  },
  {
   "cell_type": "code",
   "execution_count": null,
   "metadata": {
    "collapsed": false
   },
   "outputs": [],
   "source": [
    "b * a"
   ]
  },
  {
   "cell_type": "code",
   "execution_count": null,
   "metadata": {
    "collapsed": false
   },
   "outputs": [],
   "source": [
    "(p2 * p1).dll().drv().vec()"
   ]
  },
  {
   "cell_type": "code",
   "execution_count": null,
   "metadata": {
    "collapsed": false
   },
   "outputs": [],
   "source": [
    "b * a"
   ]
  },
  {
   "cell_type": "code",
   "execution_count": null,
   "metadata": {
    "collapsed": true
   },
   "outputs": [],
   "source": [
    "alpha = a <= t\n",
    "beta =  b <= t"
   ]
  },
  {
   "cell_type": "code",
   "execution_count": null,
   "metadata": {
    "collapsed": false
   },
   "outputs": [],
   "source": [
    "(beta * a) - (alpha * b) "
   ]
  },
  {
   "cell_type": "code",
   "execution_count": null,
   "metadata": {
    "collapsed": false
   },
   "outputs": [],
   "source": [
    "alpha * b - beta * a"
   ]
  },
  {
   "cell_type": "code",
   "execution_count": null,
   "metadata": {
    "collapsed": false
   },
   "outputs": [],
   "source": [
    "(b * (a<=t)) - (a * (b <=t))"
   ]
  },
  {
   "cell_type": "code",
   "execution_count": null,
   "metadata": {
    "collapsed": false
   },
   "outputs": [],
   "source": [
    "(t <= (a ^ b)) * 2 + (a * (t<=b)) - (b*(t<=a))"
   ]
  },
  {
   "cell_type": "markdown",
   "metadata": {
    "collapsed": true
   },
   "source": [
    "# Tangents"
   ]
  },
  {
   "cell_type": "code",
   "execution_count": null,
   "metadata": {
    "collapsed": false
   },
   "outputs": [],
   "source": [
    "p1 = vsr.CGA(vsr.Vec(1,2,3).null()); print(p1)\n",
    "p2 = vsr.CGA(vsr.Vec(1,2,3).null().spin(vsr.Vec(0,0,1).trs() * vsr.Biv(-pi/6,0,0).exp())); print(p2)\n",
    "a = vsr.CGA(vsr.Vec(0,0,1)); print(a)\n",
    "b = vsr.CGA(vsr.Vec(0,1,0)); print(b)"
   ]
  },
  {
   "cell_type": "code",
   "execution_count": null,
   "metadata": {
    "collapsed": false
   },
   "outputs": [],
   "source": [
    "t1 = p1 ^ (p1 <= (a ^ ni) * (-1))\n",
    "t2 = p2 ^ (p2 <= (b ^ ni) * (-1))"
   ]
  },
  {
   "cell_type": "code",
   "execution_count": null,
   "metadata": {
    "collapsed": false
   },
   "outputs": [],
   "source": [
    "t1"
   ]
  },
  {
   "cell_type": "code",
   "execution_count": null,
   "metadata": {
    "collapsed": false
   },
   "outputs": [],
   "source": [
    "t1.rev()"
   ]
  },
  {
   "cell_type": "code",
   "execution_count": null,
   "metadata": {
    "collapsed": false
   },
   "outputs": [],
   "source": [
    "t1.inv()"
   ]
  },
  {
   "cell_type": "code",
   "execution_count": null,
   "metadata": {
    "collapsed": false
   },
   "outputs": [],
   "source": [
    "t2 * t1.inv()"
   ]
  },
  {
   "cell_type": "code",
   "execution_count": null,
   "metadata": {
    "collapsed": false
   },
   "outputs": [],
   "source": [
    "t2.comm(t1.inv()).mot()"
   ]
  },
  {
   "cell_type": "code",
   "execution_count": null,
   "metadata": {
    "collapsed": false
   },
   "outputs": [],
   "source": [
    "t2.acomm(t1.inv())"
   ]
  },
  {
   "cell_type": "code",
   "execution_count": null,
   "metadata": {
    "collapsed": false
   },
   "outputs": [],
   "source": [
    "a = vsr.CGA(vsr.Vec(1,2,3)).unit()"
   ]
  },
  {
   "cell_type": "code",
   "execution_count": null,
   "metadata": {
    "collapsed": false
   },
   "outputs": [],
   "source": [
    "a * ni * a * -1"
   ]
  },
  {
   "cell_type": "code",
   "execution_count": null,
   "metadata": {
    "collapsed": false
   },
   "outputs": [],
   "source": [
    "a * no * a * -1"
   ]
  },
  {
   "cell_type": "code",
   "execution_count": null,
   "metadata": {
    "collapsed": true
   },
   "outputs": [],
   "source": []
  }
 ],
 "metadata": {
  "anaconda-cloud": {},
  "kernelspec": {
   "display_name": "Python [default]",
   "language": "python",
   "name": "python3"
  },
  "language_info": {
   "codemirror_mode": {
    "name": "ipython",
    "version": 3
   },
   "file_extension": ".py",
   "mimetype": "text/x-python",
   "name": "python",
   "nbconvert_exporter": "python",
   "pygments_lexer": "ipython3",
   "version": "3.5.2"
  }
 },
 "nbformat": 4,
 "nbformat_minor": 1
}
