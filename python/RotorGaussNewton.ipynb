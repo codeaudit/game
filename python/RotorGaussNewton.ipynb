{
 "cells": [
  {
   "cell_type": "code",
   "execution_count": 1,
   "metadata": {},
   "outputs": [
    {
     "name": "stdout",
     "output_type": "stream",
     "text": [
      "Populating the interactive namespace from numpy and matplotlib\n"
     ]
    }
   ],
   "source": [
    "from __future__ import print_function\n",
    "import sys\n",
    "sys.path.append('../build/')\n",
    "%pylab inline\n",
    "np.set_printoptions(precision=4, suppress=True)\n",
    "import versor as vsr\n",
    "import motor_jacobian"
   ]
  },
  {
   "cell_type": "code",
   "execution_count": 2,
   "metadata": {},
   "outputs": [
    {
     "name": "stdout",
     "output_type": "stream",
     "text": [
      "Rot: [ 0.87 -0.5 0 0 ]\n"
     ]
    }
   ],
   "source": [
    "rotor = (vsr.Biv(1,0,0).unit() * pi/6).exp()\n",
    "rotor0 = vsr.Biv(pi/2, 0.0, 0.0).exp()\n",
    "print(rotor)"
   ]
  },
  {
   "cell_type": "code",
   "execution_count": 3,
   "metadata": {},
   "outputs": [],
   "source": [
    "vectors_a = [vsr.Vec(1,0,0), vsr.Vec(0,1,0), vsr.Vec(0,0,1)]\n",
    "vectors_b = [a.spin(rotor) for a in vectors_a]"
   ]
  },
  {
   "cell_type": "code",
   "execution_count": 4,
   "metadata": {},
   "outputs": [],
   "source": [
    "n_points=10\n",
    "vectors_a = [vsr.Vec(*np.random.normal(0.0, 0.8, 3)) for i in range(n_points)]\n",
    "vectors_b = [vector.spin(rotor) for vector in vectors_a]"
   ]
  },
  {
   "cell_type": "code",
   "execution_count": 5,
   "metadata": {},
   "outputs": [],
   "source": [
    " def jacrot(a, rot):\n",
    "    j = np.zeros((3,3))\n",
    "    for i in range(3):\n",
    "        biv = vsr.Biv(0.0, 0.0, 0.0)\n",
    "        biv[i] = 1.0\n",
    "        j[:,i] = 2.0 * np.array(biv.comm(a.spin(rot))) # Wrong sign?\n",
    "    return j\n"
   ]
  },
  {
   "cell_type": "code",
   "execution_count": 6,
   "metadata": {},
   "outputs": [],
   "source": [
    "# motor_jacobian.diff_rotor_cost(rotor, a, b)"
   ]
  },
  {
   "cell_type": "code",
   "execution_count": 7,
   "metadata": {},
   "outputs": [
    {
     "data": {
      "text/plain": [
       "array([[ 0.5343, -2.946 ,  0.    ],\n",
       "       [-1.1358,  0.    , -2.946 ],\n",
       "       [ 0.    , -1.1358, -0.5343]])"
      ]
     },
     "execution_count": 7,
     "metadata": {},
     "output_type": "execute_result"
    }
   ],
   "source": [
    "J = jacrot(vectors_a[0], rotor)\n",
    "J"
   ]
  },
  {
   "cell_type": "code",
   "execution_count": 8,
   "metadata": {},
   "outputs": [],
   "source": [
    "def make_skew(a):\n",
    "    temp = a[:,2].copy()\n",
    "    a[:,2] = a[:,0].copy()\n",
    "    a[:,0] = temp\n",
    "    a[:,1] *= -1.0\n",
    "#     a\n",
    "#     a = np.roll(a,1)\n",
    "    return a"
   ]
  },
  {
   "cell_type": "code",
   "execution_count": 9,
   "metadata": {},
   "outputs": [
    {
     "data": {
      "text/plain": [
       "array([[ 0.    ,  1.473 ,  0.2672],\n",
       "       [-1.473 , -0.    , -0.5679],\n",
       "       [-0.2672,  0.5679,  0.    ]])"
      ]
     },
     "execution_count": 9,
     "metadata": {},
     "output_type": "execute_result"
    }
   ],
   "source": [
    "make_skew(J) * 0.5"
   ]
  },
  {
   "cell_type": "code",
   "execution_count": 10,
   "metadata": {},
   "outputs": [],
   "source": [
    "temp = J[:,2]"
   ]
  },
  {
   "cell_type": "code",
   "execution_count": 11,
   "metadata": {},
   "outputs": [
    {
     "data": {
      "text/plain": [
       "array([[ 0.    ,  2.946 ,  0.    ],\n",
       "       [-2.946 , -0.    , -2.946 ],\n",
       "       [-0.5343,  1.1358, -0.5343]])"
      ]
     },
     "execution_count": 11,
     "metadata": {},
     "output_type": "execute_result"
    }
   ],
   "source": [
    "J[:,2] = J[:,0]\n",
    "J[:,0] = temp\n",
    "J"
   ]
  },
  {
   "cell_type": "code",
   "execution_count": 12,
   "metadata": {
    "collapsed": true
   },
   "outputs": [],
   "source": [
    "def resrot(a,b,rot):\n",
    "    return np.array(b - a.spin(rot)).reshape(-1,1)"
   ]
  },
  {
   "cell_type": "code",
   "execution_count": 13,
   "metadata": {},
   "outputs": [
    {
     "name": "stdout",
     "output_type": "stream",
     "text": [
      "[[ 0.7165 -2.946   0.    ]\n",
      " [ 1.0306  0.     -2.946 ]\n",
      " [ 0.      1.0306 -0.7165]]\n"
     ]
    }
   ],
   "source": [
    "a = vectors_a[0]\n",
    "b = vectors_b[0]\n",
    "J = jacrot(a, rotor0)\n",
    "print(J)"
   ]
  },
  {
   "cell_type": "code",
   "execution_count": 14,
   "metadata": {},
   "outputs": [
    {
     "data": {
      "text/plain": [
       "Biv: [ -0.6822 3.191 -0.2684 ]"
      ]
     },
     "execution_count": 14,
     "metadata": {},
     "output_type": "execute_result"
    }
   ],
   "source": [
    "a.spin(rotor0) ^ b * 2"
   ]
  },
  {
   "cell_type": "code",
   "execution_count": 15,
   "metadata": {},
   "outputs": [
    {
     "ename": "MemoryError",
     "evalue": "std::bad_alloc",
     "output_type": "error",
     "traceback": [
      "\u001b[0;31m---------------------------------------------------------------------------\u001b[0m",
      "\u001b[0;31mMemoryError\u001b[0m                               Traceback (most recent call last)",
      "\u001b[0;32m<ipython-input-15-6b2fbd13e3fb>\u001b[0m in \u001b[0;36m<module>\u001b[0;34m()\u001b[0m\n\u001b[0;32m----> 1\u001b[0;31m \u001b[0mmotor_jacobian\u001b[0m\u001b[0;34m.\u001b[0m\u001b[0mouter_product\u001b[0m\u001b[0;34m(\u001b[0m\u001b[0ma\u001b[0m\u001b[0;34m,\u001b[0m\u001b[0mb\u001b[0m\u001b[0;34m,\u001b[0m\u001b[0mrotor\u001b[0m\u001b[0;34m)\u001b[0m\u001b[0;34m\u001b[0m\u001b[0m\n\u001b[0m",
      "\u001b[0;31mMemoryError\u001b[0m: std::bad_alloc"
     ]
    }
   ],
   "source": [
    "motor_jacobian.outer_product(a,b,rotor)"
   ]
  },
  {
   "cell_type": "code",
   "execution_count": 16,
   "metadata": {},
   "outputs": [
    {
     "name": "stdout",
     "output_type": "stream",
     "text": [
      "[[ 1.0832]\n",
      " [-0.0911]\n",
      " [ 0.    ]]\n"
     ]
    }
   ],
   "source": [
    "f = resrot(a,b,rotor0)\n",
    "print(f)"
   ]
  },
  {
   "cell_type": "code",
   "execution_count": 17,
   "metadata": {},
   "outputs": [
    {
     "data": {
      "text/plain": [
       "array([[ 0.6822],\n",
       "       [-3.1912],\n",
       "       [ 0.2684]])"
      ]
     },
     "execution_count": 17,
     "metadata": {},
     "output_type": "execute_result"
    }
   ],
   "source": [
    "np.dot(J.T,f)"
   ]
  },
  {
   "cell_type": "code",
   "execution_count": 18,
   "metadata": {},
   "outputs": [
    {
     "data": {
      "text/plain": [
       "Biv: [ -0.3411 1.596 -0.1342 ]"
      ]
     },
     "execution_count": 18,
     "metadata": {},
     "output_type": "execute_result"
    }
   ],
   "source": [
    "a.spin(rotor0) ^ b"
   ]
  },
  {
   "cell_type": "code",
   "execution_count": 19,
   "metadata": {},
   "outputs": [
    {
     "data": {
      "text/plain": [
       "Biv: [ 0.3411 0.07747 0.9212 ]"
      ]
     },
     "execution_count": 19,
     "metadata": {},
     "output_type": "execute_result"
    }
   ],
   "source": [
    "a ^ b"
   ]
  },
  {
   "cell_type": "code",
   "execution_count": 20,
   "metadata": {},
   "outputs": [
    {
     "ename": "TypeError",
     "evalue": "Required argument 'a' (pos 1) not found",
     "output_type": "error",
     "traceback": [
      "\u001b[0;31m---------------------------------------------------------------------------\u001b[0m",
      "\u001b[0;31mTypeError\u001b[0m                                 Traceback (most recent call last)",
      "\u001b[0;32m<ipython-input-20-e2ac952a0daf>\u001b[0m in \u001b[0;36m<module>\u001b[0;34m()\u001b[0m\n\u001b[0;32m----> 1\u001b[0;31m \u001b[0mnp\u001b[0m\u001b[0;34m.\u001b[0m\u001b[0mdot\u001b[0m\u001b[0;34m(\u001b[0m\u001b[0;34m)\u001b[0m\u001b[0;34m\u001b[0m\u001b[0m\n\u001b[0m",
      "\u001b[0;31mTypeError\u001b[0m: Required argument 'a' (pos 1) not found"
     ]
    }
   ],
   "source": [
    "np.dot()"
   ]
  },
  {
   "cell_type": "code",
   "execution_count": 21,
   "metadata": {},
   "outputs": [
    {
     "data": {
      "text/plain": [
       "array([[ 1.5756, -2.1108, -3.0362],\n",
       "       [-2.1108,  9.741 , -0.7385],\n",
       "       [-3.0362, -0.7385,  9.1921]])"
      ]
     },
     "execution_count": 21,
     "metadata": {},
     "output_type": "execute_result"
    }
   ],
   "source": [
    "np.dot(J.T, J)"
   ]
  },
  {
   "cell_type": "code",
   "execution_count": 22,
   "metadata": {},
   "outputs": [
    {
     "ename": "NameError",
     "evalue": "name 'B' is not defined",
     "output_type": "error",
     "traceback": [
      "\u001b[0;31m---------------------------------------------------------------------------\u001b[0m",
      "\u001b[0;31mNameError\u001b[0m                                 Traceback (most recent call last)",
      "\u001b[0;32m<ipython-input-22-30cf3d7d133b>\u001b[0m in \u001b[0;36m<module>\u001b[0;34m()\u001b[0m\n\u001b[0;32m----> 1\u001b[0;31m \u001b[0mB\u001b[0m\u001b[0;34m\u001b[0m\u001b[0m\n\u001b[0m",
      "\u001b[0;31mNameError\u001b[0m: name 'B' is not defined"
     ]
    }
   ],
   "source": [
    "B"
   ]
  },
  {
   "cell_type": "code",
   "execution_count": 23,
   "metadata": {},
   "outputs": [
    {
     "data": {
      "text/plain": [
       "array([[ 0.    ,  0.1342,  1.5956],\n",
       "       [-0.1342,  0.    ,  0.3411],\n",
       "       [-1.5956, -0.3411,  0.    ]])"
      ]
     },
     "execution_count": 23,
     "metadata": {},
     "output_type": "execute_result"
    }
   ],
   "source": [
    "def Hess2(a,b,rot):\n",
    "    H = np.zeros((3,3))\n",
    "    B = a.spin(rot) ^ b\n",
    "    for i in range(3):\n",
    "        ei = vsr.Biv(0.0, 0.0, 0.0)\n",
    "        ei[i] = 1.0\n",
    "        H[:,i] = ei.comm(B)\n",
    "    return H\n",
    "Hess2(a,b,rotor0)"
   ]
  },
  {
   "cell_type": "code",
   "execution_count": 24,
   "metadata": {},
   "outputs": [
    {
     "data": {
      "text/plain": [
       "Vec: [ 0.52 -0.36 -1.5 ]"
      ]
     },
     "execution_count": 24,
     "metadata": {},
     "output_type": "execute_result"
    }
   ],
   "source": [
    "a"
   ]
  },
  {
   "cell_type": "code",
   "execution_count": 5,
   "metadata": {},
   "outputs": [
    {
     "data": {
      "text/plain": [
       "array([[-3.4641, -0.    , -0.    ],\n",
       "       [-0.    , -3.4641,  2.    ],\n",
       "       [-0.    , -2.    , -3.4641]])"
      ]
     },
     "execution_count": 5,
     "metadata": {},
     "output_type": "execute_result"
    }
   ],
   "source": [
    " def Hess(a,b, rot):\n",
    "    j = np.zeros((3,3))\n",
    "    R = vsr.EGA(rot)\n",
    "    a = vsr.EGA(a)\n",
    "    b = vsr.EGA(b)\n",
    "    for i in range(3):\n",
    "        ei = vsr.Biv(0.0, 0.0, 0.0)\n",
    "        ei[i] = 1.0\n",
    "        ei = vsr.EGA(ei)\n",
    "        j[:,i] = -2.0 * np.array(((ei * a * R.rev() * b - b * R * a * ei.rev())))[4:7]\n",
    "    return j\n",
    "rotor = (vsr.Biv(1,0,0).unit() * pi/6).exp()\n",
    "a = vsr.Vec(1,0,0)\n",
    "b = a.spin(rotor)\n",
    "Hess(a,b,rotor)\n",
    "# np.sum([Hess(a,b,rotor0) for a,b in zip(vectors_a, vectors_b)], axis=0)"
   ]
  },
  {
   "cell_type": "code",
   "execution_count": 18,
   "metadata": {},
   "outputs": [
    {
     "data": {
      "text/plain": [
       "EGA: [ 0 0 0 0 0 0 1 0 ]"
      ]
     },
     "execution_count": 18,
     "metadata": {},
     "output_type": "execute_result"
    }
   ],
   "source": [
    "ei"
   ]
  },
  {
   "cell_type": "code",
   "execution_count": 19,
   "metadata": {},
   "outputs": [
    {
     "data": {
      "text/plain": [
       "Rot: [ 6.1e-17 -1 0 0 ]"
      ]
     },
     "execution_count": 19,
     "metadata": {},
     "output_type": "execute_result"
    }
   ],
   "source": [
    "rotor0"
   ]
  },
  {
   "cell_type": "code",
   "execution_count": 75,
   "metadata": {},
   "outputs": [
    {
     "data": {
      "text/plain": [
       "array([[-1.7321, -1.7321,  1.    ],\n",
       "       [-0.    , -1.7321, -0.    ],\n",
       "       [-0.    , -3.    , -0.    ]])"
      ]
     },
     "execution_count": 75,
     "metadata": {},
     "output_type": "execute_result"
    }
   ],
   "source": [
    "j = np.zeros((3,3))\n",
    "R = vsr.EGA(vsr.Biv(0,pi/6,0).exp())\n",
    "a = vsr.EGA(vsr.Vec(1,0,0))\n",
    "b = a.spin(vsr.EGA(rotor))\n",
    "for i in range(3):\n",
    "    ei = vsr.Biv(0.0, 0.0, 0.0)\n",
    "    ei[i] = 1.0\n",
    "    ei = vsr.EGA(ei)\n",
    "#     print(((R * a * ei.rev()) ^ b)  + ((ei * a * R.rev()) ^ b) )\n",
    "    j[:,i] = -2.0 * np.array(((R * a * ei.rev() + ei * a * R.rev()) ^ b))[4:7]\n",
    "j"
   ]
  },
  {
   "cell_type": "code",
   "execution_count": 80,
   "metadata": {},
   "outputs": [
    {
     "data": {
      "text/plain": [
       "EGA: [ 0 0 0 0 0.87 -0.87 -1.5 0 ]"
      ]
     },
     "execution_count": 80,
     "metadata": {},
     "output_type": "execute_result"
    }
   ],
   "source": [
    "a.spin(R) ^ b * 2"
   ]
  },
  {
   "cell_type": "code",
   "execution_count": 82,
   "metadata": {
    "collapsed": true
   },
   "outputs": [],
   "source": [
    "B = vsr.EGA(vsr.Biv(1,0,0))"
   ]
  },
  {
   "cell_type": "code",
   "execution_count": 87,
   "metadata": {},
   "outputs": [
    {
     "data": {
      "text/plain": [
       "EGA: [ 0.87 -0 -0 -0 0.5 -0 -0 -0 ]"
      ]
     },
     "execution_count": 87,
     "metadata": {},
     "output_type": "execute_result"
    }
   ],
   "source": [
    "(b * R * B * a * R.rev() + b * R * a * B.rev() * R.rev()) * -0.5"
   ]
  },
  {
   "cell_type": "code",
   "execution_count": null,
   "metadata": {
    "collapsed": true
   },
   "outputs": [],
   "source": [
    "(b * R * B * a * R.rev() + b * R * a * B.rev() * R.rev()) * -0.5"
   ]
  },
  {
   "cell_type": "code",
   "execution_count": 76,
   "metadata": {},
   "outputs": [
    {
     "data": {
      "text/plain": [
       "EGA: [ 0.43 0 0 0 1.5 -0.75 -0.87 0 ]"
      ]
     },
     "execution_count": 76,
     "metadata": {},
     "output_type": "execute_result"
    }
   ],
   "source": [
    "(R.rev() * R) *( (a * R.rev() * b) - (R.rev() * (b * R * a) * R.rev()))"
   ]
  },
  {
   "cell_type": "code",
   "execution_count": 63,
   "metadata": {},
   "outputs": [
    {
     "data": {
      "text/plain": [
       "EGA: [ 0 0 0 0 0.87 0 0.5 0 ]"
      ]
     },
     "execution_count": 63,
     "metadata": {},
     "output_type": "execute_result"
    }
   ],
   "source": [
    "X = vsr.EGA(vsr.Biv(1,0,0)) * R\n",
    "X"
   ]
  },
  {
   "cell_type": "code",
   "execution_count": 65,
   "metadata": {},
   "outputs": [
    {
     "data": {
      "text/plain": [
       "EGA: [ 0.87 0 0 0 0 -0.5 0 0 ]"
      ]
     },
     "execution_count": 65,
     "metadata": {},
     "output_type": "execute_result"
    }
   ],
   "source": [
    "R"
   ]
  },
  {
   "cell_type": "code",
   "execution_count": 71,
   "metadata": {},
   "outputs": [
    {
     "data": {
      "text/plain": [
       "EGA: [ 0 0 0 0 0 -1.5 0.87 0 ]"
      ]
     },
     "execution_count": 71,
     "metadata": {},
     "output_type": "execute_result"
    }
   ],
   "source": [
    "X = vsr.EGA(vsr.Biv(1,0,0)) * R\n",
    "b * X * a * R.rev() + b * R * a * X"
   ]
  },
  {
   "cell_type": "code",
   "execution_count": 72,
   "metadata": {},
   "outputs": [
    {
     "data": {
      "text/plain": [
       "EGA: [ 0.43 0 0 0 -0.75 0.25 0.43 0 ]"
      ]
     },
     "execution_count": 72,
     "metadata": {},
     "output_type": "execute_result"
    }
   ],
   "source": [
    "X = vsr.EGA(vsr.Biv(0,1,0)) * R\n",
    "b * X * a * R.rev() + b * R * a * X"
   ]
  },
  {
   "cell_type": "code",
   "execution_count": 73,
   "metadata": {},
   "outputs": [
    {
     "data": {
      "text/plain": [
       "EGA: [ 0 0 0 0 0 -0.87 0.5 0 ]"
      ]
     },
     "execution_count": 73,
     "metadata": {},
     "output_type": "execute_result"
    }
   ],
   "source": [
    "X = vsr.EGA(vsr.Biv(0,0,1)) * R\n",
    "b * X * a * R.rev() + b * R * a * X"
   ]
  },
  {
   "cell_type": "code",
   "execution_count": null,
   "metadata": {
    "collapsed": true
   },
   "outputs": [],
   "source": []
  },
  {
   "cell_type": "code",
   "execution_count": 48,
   "metadata": {},
   "outputs": [
    {
     "data": {
      "text/plain": [
       "EGA: [ 0.25 0 0 0 0.43 -0.43 -0.75 0 ]"
      ]
     },
     "execution_count": 48,
     "metadata": {},
     "output_type": "execute_result"
    }
   ],
   "source": [
    "(R * a * R.rev() * b)"
   ]
  },
  {
   "cell_type": "code",
   "execution_count": 49,
   "metadata": {},
   "outputs": [
    {
     "data": {
      "text/plain": [
       "EGA: [ 0 0 0 0 0.87 -0.87 -1.5 0 ]"
      ]
     },
     "execution_count": 49,
     "metadata": {},
     "output_type": "execute_result"
    }
   ],
   "source": [
    "(R * ())"
   ]
  },
  {
   "cell_type": "code",
   "execution_count": 50,
   "metadata": {},
   "outputs": [
    {
     "data": {
      "text/plain": [
       "EGA: [ 0 0 0 0 0.87 -0.87 -1.5 0 ]"
      ]
     },
     "execution_count": 50,
     "metadata": {},
     "output_type": "execute_result"
    }
   ],
   "source": [
    "a.spin(R) ^ b * 2.0"
   ]
  },
  {
   "cell_type": "code",
   "execution_count": 52,
   "metadata": {},
   "outputs": [
    {
     "data": {
      "text/plain": [
       "EGA: [ 0 0 0 0 0.87 -0.87 -1.5 0 ]"
      ]
     },
     "execution_count": 52,
     "metadata": {},
     "output_type": "execute_result"
    }
   ],
   "source": [
    "a.spin(R) * b - b * a.spin(R)"
   ]
  },
  {
   "cell_type": "code",
   "execution_count": null,
   "metadata": {
    "collapsed": true
   },
   "outputs": [],
   "source": []
  },
  {
   "cell_type": "code",
   "execution_count": 27,
   "metadata": {},
   "outputs": [],
   "source": [
    "# np.array([motor_jacobian.outer_product(a, b, rotor0)[:,1:] for a,b in zip(vectors_a, vectors_b)]).reshape(1,3)"
   ]
  },
  {
   "cell_type": "code",
   "execution_count": 28,
   "metadata": {},
   "outputs": [],
   "source": [
    "# motor_jacobian.outer_product(a, b, rotor0)"
   ]
  },
  {
   "cell_type": "code",
   "execution_count": 29,
   "metadata": {},
   "outputs": [
    {
     "data": {
      "text/plain": [
       "EGA: [ 0 1.4 2.2 -3.2 0 0 0 -1.1e-16 ]"
      ]
     },
     "execution_count": 29,
     "metadata": {},
     "output_type": "execute_result"
    }
   ],
   "source": [
    "a.spin(b)"
   ]
  },
  {
   "cell_type": "code",
   "execution_count": 30,
   "metadata": {},
   "outputs": [
    {
     "ename": "TypeError",
     "evalue": "Incompatible function arguments. The following argument types are supported:\n    1. (vsr::Multivector<vsr::algebra<vsr::metric<4, 1, true>, double>, vsr::Basis<(short)1, (short)2, (short)4> >, vsr::Multivector<vsr::algebra<vsr::metric<4, 1, true>, double>, vsr::Basis<(short)1, (short)2, (short)4> >, vsr::Multivector<vsr::algebra<vsr::metric<4, 1, true>, double>, vsr::Basis<(short)0, (short)3, (short)5, (short)6> >) -> array_t<double>\n",
     "output_type": "error",
     "traceback": [
      "\u001b[0;31m---------------------------------------------------------------------------\u001b[0m",
      "\u001b[0;31mTypeError\u001b[0m                                 Traceback (most recent call last)",
      "\u001b[0;32m<ipython-input-30-0810c64a1df5>\u001b[0m in \u001b[0;36m<module>\u001b[0;34m()\u001b[0m\n\u001b[0;32m----> 1\u001b[0;31m \u001b[0mnp\u001b[0m\u001b[0;34m.\u001b[0m\u001b[0msum\u001b[0m\u001b[0;34m(\u001b[0m\u001b[0;34m[\u001b[0m\u001b[0mmotor_jacobian\u001b[0m\u001b[0;34m.\u001b[0m\u001b[0mouter_product\u001b[0m\u001b[0;34m(\u001b[0m\u001b[0ma\u001b[0m\u001b[0;34m,\u001b[0m \u001b[0mb\u001b[0m\u001b[0;34m,\u001b[0m \u001b[0mrotor0\u001b[0m\u001b[0;34m)\u001b[0m\u001b[0;34m[\u001b[0m\u001b[0;34m:\u001b[0m\u001b[0;34m,\u001b[0m\u001b[0;36m1\u001b[0m\u001b[0;34m:\u001b[0m\u001b[0;34m]\u001b[0m \u001b[0;32mfor\u001b[0m \u001b[0ma\u001b[0m\u001b[0;34m,\u001b[0m\u001b[0mb\u001b[0m \u001b[0;32min\u001b[0m \u001b[0mzip\u001b[0m\u001b[0;34m(\u001b[0m\u001b[0mvectors_a\u001b[0m\u001b[0;34m,\u001b[0m \u001b[0mvectors_b\u001b[0m\u001b[0;34m)\u001b[0m\u001b[0;34m]\u001b[0m\u001b[0;34m,\u001b[0m \u001b[0maxis\u001b[0m\u001b[0;34m=\u001b[0m\u001b[0;36m0\u001b[0m\u001b[0;34m)\u001b[0m\u001b[0;34m\u001b[0m\u001b[0m\n\u001b[0m",
      "\u001b[0;31mTypeError\u001b[0m: Incompatible function arguments. The following argument types are supported:\n    1. (vsr::Multivector<vsr::algebra<vsr::metric<4, 1, true>, double>, vsr::Basis<(short)1, (short)2, (short)4> >, vsr::Multivector<vsr::algebra<vsr::metric<4, 1, true>, double>, vsr::Basis<(short)1, (short)2, (short)4> >, vsr::Multivector<vsr::algebra<vsr::metric<4, 1, true>, double>, vsr::Basis<(short)0, (short)3, (short)5, (short)6> >) -> array_t<double>\n"
     ]
    }
   ],
   "source": [
    "np.sum([motor_jacobian.outer_product(a, b, rotor0)[:,1:] for a,b in zip(vectors_a, vectors_b)], axis=0)"
   ]
  },
  {
   "cell_type": "code",
   "execution_count": 31,
   "metadata": {},
   "outputs": [
    {
     "ename": "TypeError",
     "evalue": "Incompatible function arguments. The following argument types are supported:\n    1. (vsr::Multivector<vsr::algebra<vsr::metric<4, 1, true>, double>, vsr::Basis<(short)1, (short)2, (short)4> >, vsr::Multivector<vsr::algebra<vsr::metric<4, 1, true>, double>, vsr::Basis<(short)1, (short)2, (short)4> >, vsr::Multivector<vsr::algebra<vsr::metric<4, 1, true>, double>, vsr::Basis<(short)0, (short)3, (short)5, (short)6> >) -> array_t<double>\n",
     "output_type": "error",
     "traceback": [
      "\u001b[0;31m---------------------------------------------------------------------------\u001b[0m",
      "\u001b[0;31mTypeError\u001b[0m                                 Traceback (most recent call last)",
      "\u001b[0;32m<ipython-input-31-6d4ff15eb65b>\u001b[0m in \u001b[0;36m<module>\u001b[0;34m()\u001b[0m\n\u001b[0;32m----> 1\u001b[0;31m \u001b[0mnp\u001b[0m\u001b[0;34m.\u001b[0m\u001b[0marray\u001b[0m\u001b[0;34m(\u001b[0m\u001b[0;34m[\u001b[0m\u001b[0mmotor_jacobian\u001b[0m\u001b[0;34m.\u001b[0m\u001b[0mouter_product\u001b[0m\u001b[0;34m(\u001b[0m\u001b[0ma\u001b[0m\u001b[0;34m,\u001b[0m \u001b[0mb\u001b[0m\u001b[0;34m,\u001b[0m \u001b[0mrotor0\u001b[0m\u001b[0;34m)\u001b[0m\u001b[0;34m[\u001b[0m\u001b[0;34m:\u001b[0m\u001b[0;34m,\u001b[0m\u001b[0;36m1\u001b[0m\u001b[0;34m:\u001b[0m\u001b[0;34m]\u001b[0m \u001b[0;32mfor\u001b[0m \u001b[0ma\u001b[0m\u001b[0;34m,\u001b[0m\u001b[0mb\u001b[0m \u001b[0;32min\u001b[0m \u001b[0mzip\u001b[0m\u001b[0;34m(\u001b[0m\u001b[0mvectors_a\u001b[0m\u001b[0;34m,\u001b[0m \u001b[0mvectors_b\u001b[0m\u001b[0;34m)\u001b[0m\u001b[0;34m]\u001b[0m\u001b[0;34m)\u001b[0m\u001b[0;34m\u001b[0m\u001b[0m\n\u001b[0m",
      "\u001b[0;31mTypeError\u001b[0m: Incompatible function arguments. The following argument types are supported:\n    1. (vsr::Multivector<vsr::algebra<vsr::metric<4, 1, true>, double>, vsr::Basis<(short)1, (short)2, (short)4> >, vsr::Multivector<vsr::algebra<vsr::metric<4, 1, true>, double>, vsr::Basis<(short)1, (short)2, (short)4> >, vsr::Multivector<vsr::algebra<vsr::metric<4, 1, true>, double>, vsr::Basis<(short)0, (short)3, (short)5, (short)6> >) -> array_t<double>\n"
     ]
    }
   ],
   "source": [
    "np.array([motor_jacobian.outer_product(a, b, rotor0)[:,1:] for a,b in zip(vectors_a, vectors_b)])"
   ]
  },
  {
   "cell_type": "code",
   "execution_count": 32,
   "metadata": {},
   "outputs": [
    {
     "data": {
      "text/plain": [
       "array([[ 1.5756, -2.1108, -3.0362],\n",
       "       [-2.1108,  9.741 , -0.7385],\n",
       "       [-3.0362, -0.7385,  9.1921]])"
      ]
     },
     "execution_count": 32,
     "metadata": {},
     "output_type": "execute_result"
    }
   ],
   "source": [
    "np.dot(J.T,J)"
   ]
  },
  {
   "cell_type": "code",
   "execution_count": 33,
   "metadata": {},
   "outputs": [
    {
     "ename": "TypeError",
     "evalue": "__init__(): incompatible constructor arguments. The following argument types are supported:\n    1. versor_pybind11.EGA(arg0: float, arg1: float, arg2: float, arg3: float, arg4: float, arg5: float, arg6: float, arg7: float)\n    2. versor_pybind11.EGA(arg0: versor_pybind11.EGA)\n    3. versor_pybind11.EGA(arg0: versor_pybind11.Vec)\n    4. versor_pybind11.EGA(arg0: versor_pybind11.Biv)\n    5. versor_pybind11.EGA(arg0: versor_pybind11.Tri)\n    6. versor_pybind11.EGA(arg0: versor_pybind11.Rot)\n\nInvoked with: Rot: [ 6.1e-17 -1 0 0 ]",
     "output_type": "error",
     "traceback": [
      "\u001b[0;31m---------------------------------------------------------------------------\u001b[0m",
      "\u001b[0;31mTypeError\u001b[0m                                 Traceback (most recent call last)",
      "\u001b[0;32m<ipython-input-33-65dae98242e6>\u001b[0m in \u001b[0;36m<module>\u001b[0;34m()\u001b[0m\n\u001b[0;32m----> 1\u001b[0;31m \u001b[0mHess\u001b[0m\u001b[0;34m(\u001b[0m\u001b[0mvectors_a\u001b[0m\u001b[0;34m[\u001b[0m\u001b[0;36m0\u001b[0m\u001b[0;34m]\u001b[0m\u001b[0;34m,\u001b[0m \u001b[0mvectors_b\u001b[0m\u001b[0;34m[\u001b[0m\u001b[0;36m0\u001b[0m\u001b[0;34m]\u001b[0m\u001b[0;34m,\u001b[0m \u001b[0mrotor0\u001b[0m\u001b[0;34m)\u001b[0m\u001b[0;34m\u001b[0m\u001b[0m\n\u001b[0m",
      "\u001b[0;32m<ipython-input-25-dbeace93134e>\u001b[0m in \u001b[0;36mHess\u001b[0;34m(a, b, rot)\u001b[0m\n\u001b[1;32m      1\u001b[0m \u001b[0;32mdef\u001b[0m \u001b[0mHess\u001b[0m\u001b[0;34m(\u001b[0m\u001b[0ma\u001b[0m\u001b[0;34m,\u001b[0m\u001b[0mb\u001b[0m\u001b[0;34m,\u001b[0m \u001b[0mrot\u001b[0m\u001b[0;34m)\u001b[0m\u001b[0;34m:\u001b[0m\u001b[0;34m\u001b[0m\u001b[0m\n\u001b[1;32m      2\u001b[0m    \u001b[0mj\u001b[0m \u001b[0;34m=\u001b[0m \u001b[0mnp\u001b[0m\u001b[0;34m.\u001b[0m\u001b[0mzeros\u001b[0m\u001b[0;34m(\u001b[0m\u001b[0;34m(\u001b[0m\u001b[0;36m3\u001b[0m\u001b[0;34m,\u001b[0m\u001b[0;36m3\u001b[0m\u001b[0;34m)\u001b[0m\u001b[0;34m)\u001b[0m\u001b[0;34m\u001b[0m\u001b[0m\n\u001b[0;32m----> 3\u001b[0;31m    \u001b[0mR\u001b[0m \u001b[0;34m=\u001b[0m \u001b[0mvsr\u001b[0m\u001b[0;34m.\u001b[0m\u001b[0mEGA\u001b[0m\u001b[0;34m(\u001b[0m\u001b[0mrot\u001b[0m\u001b[0;34m)\u001b[0m\u001b[0;34m\u001b[0m\u001b[0m\n\u001b[0m\u001b[1;32m      4\u001b[0m    \u001b[0ma\u001b[0m \u001b[0;34m=\u001b[0m \u001b[0mvsr\u001b[0m\u001b[0;34m.\u001b[0m\u001b[0mEGA\u001b[0m\u001b[0;34m(\u001b[0m\u001b[0ma\u001b[0m\u001b[0;34m)\u001b[0m\u001b[0;34m\u001b[0m\u001b[0m\n\u001b[1;32m      5\u001b[0m    \u001b[0mb\u001b[0m \u001b[0;34m=\u001b[0m \u001b[0mvsr\u001b[0m\u001b[0;34m.\u001b[0m\u001b[0mEGA\u001b[0m\u001b[0;34m(\u001b[0m\u001b[0mb\u001b[0m\u001b[0;34m)\u001b[0m\u001b[0;34m\u001b[0m\u001b[0m\n",
      "\u001b[0;31mTypeError\u001b[0m: __init__(): incompatible constructor arguments. The following argument types are supported:\n    1. versor_pybind11.EGA(arg0: float, arg1: float, arg2: float, arg3: float, arg4: float, arg5: float, arg6: float, arg7: float)\n    2. versor_pybind11.EGA(arg0: versor_pybind11.EGA)\n    3. versor_pybind11.EGA(arg0: versor_pybind11.Vec)\n    4. versor_pybind11.EGA(arg0: versor_pybind11.Biv)\n    5. versor_pybind11.EGA(arg0: versor_pybind11.Tri)\n    6. versor_pybind11.EGA(arg0: versor_pybind11.Rot)\n\nInvoked with: Rot: [ 6.1e-17 -1 0 0 ]"
     ]
    }
   ],
   "source": [
    "Hess(vectors_a[0], vectors_b[0], rotor0)"
   ]
  },
  {
   "cell_type": "code",
   "execution_count": null,
   "metadata": {},
   "outputs": [],
   "source": [
    "a_ = vsr.EGA(a.spin(rotor0))\n",
    "b_ = vsr.EGA(b)\n",
    "ei = vsr.Biv(0.0, 0.0, 0.0)\n",
    "ej = vsr.Biv(0.0, 0.0, 0.0)"
   ]
  },
  {
   "cell_type": "code",
   "execution_count": null,
   "metadata": {},
   "outputs": [],
   "source": [
    "rotor0 * a *  vsr.Biv(1,0,0) "
   ]
  },
  {
   "cell_type": "code",
   "execution_count": null,
   "metadata": {},
   "outputs": [],
   "source": [
    "[np.array(-2 * a ^ b)[4:6] for "
   ]
  },
  {
   "cell_type": "code",
   "execution_count": null,
   "metadata": {},
   "outputs": [],
   "source": [
    "(a_ <= ei)"
   ]
  },
  {
   "cell_type": "code",
   "execution_count": null,
   "metadata": {},
   "outputs": [],
   "source": [
    "(a_ <= ei) <= ei"
   ]
  },
  {
   "cell_type": "code",
   "execution_count": null,
   "metadata": {},
   "outputs": [],
   "source": [
    "a_.comm(ei)"
   ]
  },
  {
   "cell_type": "code",
   "execution_count": null,
   "metadata": {},
   "outputs": [],
   "source": [
    "vsr.Biv(1,0,0).rev() * vsr.Biv(1,0,0).rev()"
   ]
  },
  {
   "cell_type": "code",
   "execution_count": null,
   "metadata": {},
   "outputs": [],
   "source": [
    "Hess(a,rotor0);"
   ]
  },
  {
   "cell_type": "code",
   "execution_count": null,
   "metadata": {},
   "outputs": [],
   "source": [
    "J = np.array([jacrot(a, rotor0) for a in vectors_a]).reshape(-1,3)\n",
    "g = np.array([resrot(a,b,rotor0) for a,b in zip(vectors_a, vectors_b)]).reshape(-1,1)\n",
    "np.dot(J.T,g)"
   ]
  },
  {
   "cell_type": "code",
   "execution_count": null,
   "metadata": {},
   "outputs": [],
   "source": [
    "[np.sum(np.array((a.spin(rotor0) ^ b)).reshape(-1,3), axis=0) for a,b in zip(vectors_a, vectors_b)]"
   ]
  },
  {
   "cell_type": "code",
   "execution_count": null,
   "metadata": {},
   "outputs": [],
   "source": [
    "B1 = -2 * np.sum([np.array((a.spin(rotor0) ^ b)).reshape(3,1).T for a,b in zip(vectors_a, vectors_b)], axis=0).flatten()\n",
    "B = vsr.Biv(*B1)\n",
    "B"
   ]
  },
  {
   "cell_type": "code",
   "execution_count": null,
   "metadata": {},
   "outputs": [],
   "source": [
    "np.array((rotor0.rev() * B).biv())"
   ]
  },
  {
   "cell_type": "code",
   "execution_count": null,
   "metadata": {},
   "outputs": [],
   "source": [
    "rotor0.rev() * (vectors_a[1].spin(rotor0) ^ vectors_b[1])"
   ]
  },
  {
   "cell_type": "code",
   "execution_count": null,
   "metadata": {},
   "outputs": [],
   "source": [
    "J = np.array([jac(a, rotor0) for a in vectors_a]).reshape(-1,3)\n",
    "J"
   ]
  },
  {
   "cell_type": "code",
   "execution_count": null,
   "metadata": {},
   "outputs": [],
   "source": [
    "np.dot(J.T,J)"
   ]
  },
  {
   "cell_type": "code",
   "execution_count": null,
   "metadata": {},
   "outputs": [],
   "source": [
    "H = np.sum([Hess(a,b, rotor0) for a,b in zip(vectors_a, vectors_b)], axis=0)\n",
    "H"
   ]
  },
  {
   "cell_type": "code",
   "execution_count": null,
   "metadata": {},
   "outputs": [],
   "source": [
    "H = np.sum([np.array(a.spin(rotor0) ^ b) for a,b in zip(vectors_a, vectors_b)], axis=0)\n",
    "H"
   ]
  },
  {
   "cell_type": "code",
   "execution_count": null,
   "metadata": {},
   "outputs": [],
   "source": [
    "def Hess(a,b, rot):\n",
    "    j = np.zeros((3,3))\n",
    "    R = vsr.EGA(rot)\n",
    "    a = vsr.EGA(a)\n",
    "    b = vsr.EGA(b)\n",
    "    for i in range(3):\n",
    "        ei = vsr.Biv(0.0, 0.0, 0.0)\n",
    "        ei[i] = 1.0\n",
    "        ei = vsr.EGA(ei)\n",
    "        j[:,i] = -2.0 * np.array(((ei * a * R.rev() * b + b * R * a * ei)))[4:7]\n",
    "    return j\n",
    "np.sum([Hess(a,b,rotor0) for a,b in zip(vectors_a, vectors_b)], axis=0)"
   ]
  },
  {
   "cell_type": "code",
   "execution_count": null,
   "metadata": {
    "collapsed": true
   },
   "outputs": [],
   "source": [
    "def Hess3(rot):\n",
    "    rot = vsr.Rot(*rot)\n",
    "    H = np.sum([Hess(a,b,rot) for a,b in zip(vectors_a, vectors_b)], axis=0)\n",
    "    return H"
   ]
  },
  {
   "cell_type": "code",
   "execution_count": null,
   "metadata": {},
   "outputs": [],
   "source": [
    "def Jac3(rot):\n",
    "    rot = vsr.Rot(*rot)\n",
    "    return np.array([jacrot(a, rot) for a in vectors_a]).reshape(-1,3)"
   ]
  },
  {
   "cell_type": "code",
   "execution_count": null,
   "metadata": {
    "collapsed": true
   },
   "outputs": [],
   "source": [
    "J = Jac3(rotor0)"
   ]
  },
  {
   "cell_type": "code",
   "execution_count": null,
   "metadata": {
    "collapsed": true
   },
   "outputs": [],
   "source": [
    "def Res3(rot):\n",
    "    rot = vsr.Rot(*rot)\n",
    "    return np.array([resrot(a,b,rot) for a,b in zip(vectors_a, vectors_b)]).reshape(-1,1)"
   ]
  },
  {
   "cell_type": "code",
   "execution_count": null,
   "metadata": {},
   "outputs": [],
   "source": [
    "def update(vectors_a, vectors_b, rot):\n",
    "#     H = -2 * np.sum([motor_jacobian.outer_product(a, b, rot)[:,1:] for a,b in zip(vectors_a, vectors_b)], axis=0)\n",
    "    J = np.array([jacrot(a, rot) for a in vectors_a]).reshape(-1,3)\n",
    "    g = np.array([resrot(a,b,rot) for a,b in zip(vectors_a, vectors_b)]).reshape(-1,1)\n",
    "    JTg = np.dot(J.T,g)\n",
    "    JTJ = np.dot(J.T,J)\n",
    "#     print(JTJ)\n",
    "    H = -JTJ\n",
    "#     H = np.sum([Hess(a,b,rot) for a,b in zip(vectors_a, vectors_b)], axis=0)\n",
    "    print(H)\n",
    "#     print(rot)\n",
    "#     print(JTg)\n",
    "#     print(H-JTJ)\n",
    "    B = np.dot(np.linalg.pinv(H),JTg)\n",
    "#     print(B)\n",
    "#     B = np.sum([np.array(a.spin(rot) ^ b) for a,b in zip(vectors_a, vectors_b)], axis=0) # steepest descent\n",
    "    r = vsr.Biv(*B).exp() * rot\n",
    "#     grad_norm = np.linalg.norm(JTg)\n",
    "    err = np.dot(g.T,g)[0][0]\n",
    "    return r, err"
   ]
  },
  {
   "cell_type": "code",
   "execution_count": null,
   "metadata": {},
   "outputs": [],
   "source": [
    "r = (vsr.Biv(1,0.001, 0.001).unit() * pi/9).exp()\n",
    "r0 = vsr.Rot(1,0,0,0)\n",
    "r = r0\n",
    "r, err = update(vectors_a, vectors_b, r)\n",
    "rs = [r0, r]\n",
    "n = 1\n",
    "\n",
    "# for i in range(4):\n",
    "while err > 1e-6:\n",
    "    print(n)\n",
    "    r, err = update(vectors_a, vectors_b, r)\n",
    "    rs.append(r)\n",
    "    n += 1\n",
    "\n",
    "print(n)\n",
    "print(r)"
   ]
  },
  {
   "cell_type": "code",
   "execution_count": null,
   "metadata": {
    "collapsed": true
   },
   "outputs": [],
   "source": []
  },
  {
   "cell_type": "code",
   "execution_count": null,
   "metadata": {},
   "outputs": [],
   "source": [
    "from scipy.optimize import minimize"
   ]
  },
  {
   "cell_type": "code",
   "execution_count": null,
   "metadata": {},
   "outputs": [],
   "source": [
    "minimize(Res3, np.array(rotor0))"
   ]
  },
  {
   "cell_type": "markdown",
   "metadata": {},
   "source": [
    "# Motor"
   ]
  },
  {
   "cell_type": "code",
   "execution_count": 3,
   "metadata": {},
   "outputs": [
    {
     "name": "stdout",
     "output_type": "stream",
     "text": [
      "Mot: [ 0.87 0 -0.5 0 -0.68 -0.43 -0.18 -0.25 ]\n"
     ]
    }
   ],
   "source": [
    "m0 = vsr.Mot(1,0,0,0,0,0,0,0)\n",
    "motor = vsr.Vec(1,1,1).trs() * vsr.Rot(vsr.Biv(0,1,0) * np.pi/6.0)\n",
    "print(motor)"
   ]
  },
  {
   "cell_type": "code",
   "execution_count": 4,
   "metadata": {
    "collapsed": true
   },
   "outputs": [],
   "source": [
    "n_points=3\n",
    "points_a = [vsr.Vec(*np.random.normal(0.0, 0.8, 3)).null() for i in range(n_points)]\n",
    "points_b = [point.spin(motor) for point in points_a]"
   ]
  },
  {
   "cell_type": "code",
   "execution_count": 5,
   "metadata": {},
   "outputs": [
    {
     "data": {
      "text/plain": [
       "Pnt: [ -2.098 2 2.366 0 2.268 ]"
      ]
     },
     "execution_count": 5,
     "metadata": {},
     "output_type": "execute_result"
    }
   ],
   "source": [
    "vsr.Pnt(1,2,3,0,0).spin(motor)"
   ]
  },
  {
   "cell_type": "code",
   "execution_count": 6,
   "metadata": {},
   "outputs": [
    {
     "name": "stdout",
     "output_type": "stream",
     "text": [
      "[[-1.  0.  0.]\n",
      " [ 0. -1.  0.]\n",
      " [ 0.  0. -1.]]\n"
     ]
    }
   ],
   "source": [
    "no = vsr.Pnt(0,0,0,1,0)\n",
    "D = np.zeros((3,3))\n",
    "for i in range(3):\n",
    "    B = vsr.Drv(0,0,0)\n",
    "    B[i] = 1\n",
    "    D[:,i] = np.array(B.comm(no))[:3]\n",
    "print(D)"
   ]
  },
  {
   "cell_type": "code",
   "execution_count": 9,
   "metadata": {},
   "outputs": [
    {
     "ename": "MemoryError",
     "evalue": "std::bad_alloc",
     "output_type": "error",
     "traceback": [
      "\u001b[0;31m---------------------------------------------------------------------------\u001b[0m",
      "\u001b[0;31mMemoryError\u001b[0m                               Traceback (most recent call last)",
      "\u001b[0;32m<ipython-input-9-a4a6147c1da9>\u001b[0m in \u001b[0;36m<module>\u001b[0;34m()\u001b[0m\n\u001b[0;32m----> 1\u001b[0;31m \u001b[0mJ1\u001b[0m \u001b[0;34m=\u001b[0m \u001b[0mmotor_jacobian\u001b[0m\u001b[0;34m.\u001b[0m\u001b[0mdiff_point\u001b[0m\u001b[0;34m(\u001b[0m\u001b[0mmotor\u001b[0m\u001b[0;34m,\u001b[0m \u001b[0mpoints_a\u001b[0m\u001b[0;34m[\u001b[0m\u001b[0;36m0\u001b[0m\u001b[0;34m]\u001b[0m\u001b[0;34m)\u001b[0m\u001b[0;34m\u001b[0m\u001b[0m\n\u001b[0m\u001b[1;32m      2\u001b[0m \u001b[0;32mprint\u001b[0m\u001b[0;34m(\u001b[0m\u001b[0mJ1\u001b[0m\u001b[0;34m)\u001b[0m\u001b[0;34m\u001b[0m\u001b[0m\n",
      "\u001b[0;31mMemoryError\u001b[0m: std::bad_alloc"
     ]
    }
   ],
   "source": [
    "#J1 = motor_jacobian.diff_point(motor, points_a[0])\n",
    "print(J1)"
   ]
  },
  {
   "cell_type": "code",
   "execution_count": 10,
   "metadata": {},
   "outputs": [
    {
     "ename": "TypeError",
     "evalue": "__init__(): incompatible constructor arguments. The following argument types are supported:\n    1. versor_pybind11.Dll(arg0: float, arg1: float, arg2: float, arg3: float, arg4: float, arg5: float)\n    2. versor_pybind11.Dll(arg0: versor_pybind11.Pnt, arg1: versor_pybind11.Pnt)\n    3. versor_pybind11.Dll(arg0: versor_pybind11.Pnt, arg1: versor_pybind11.Vec)\n\nInvoked with: 0, 0, 0, 0, 0, 0",
     "output_type": "error",
     "traceback": [
      "\u001b[0;31m---------------------------------------------------------------------------\u001b[0m",
      "\u001b[0;31mTypeError\u001b[0m                                 Traceback (most recent call last)",
      "\u001b[0;32m<ipython-input-10-62de9d02e864>\u001b[0m in \u001b[0;36m<module>\u001b[0;34m()\u001b[0m\n\u001b[0;32m----> 1\u001b[0;31m \u001b[0mJ2\u001b[0m \u001b[0;34m=\u001b[0m \u001b[0mmotor_jacobian\u001b[0m\u001b[0;34m.\u001b[0m\u001b[0mjacobian_exp\u001b[0m\u001b[0;34m(\u001b[0m\u001b[0mmotor\u001b[0m\u001b[0;34m,\u001b[0m \u001b[0mvsr\u001b[0m\u001b[0;34m.\u001b[0m\u001b[0mDll\u001b[0m\u001b[0;34m(\u001b[0m\u001b[0;36m0\u001b[0m\u001b[0;34m,\u001b[0m\u001b[0;36m0\u001b[0m\u001b[0;34m,\u001b[0m\u001b[0;36m0\u001b[0m\u001b[0;34m,\u001b[0m\u001b[0;36m0\u001b[0m\u001b[0;34m,\u001b[0m\u001b[0;36m0\u001b[0m\u001b[0;34m,\u001b[0m\u001b[0;36m0\u001b[0m\u001b[0;34m)\u001b[0m\u001b[0;34m)\u001b[0m\u001b[0;34m\u001b[0m\u001b[0m\n\u001b[0m\u001b[1;32m      2\u001b[0m \u001b[0;32mprint\u001b[0m\u001b[0;34m(\u001b[0m\u001b[0mJ2\u001b[0m\u001b[0;34m)\u001b[0m\u001b[0;34m\u001b[0m\u001b[0m\n",
      "\u001b[0;31mTypeError\u001b[0m: __init__(): incompatible constructor arguments. The following argument types are supported:\n    1. versor_pybind11.Dll(arg0: float, arg1: float, arg2: float, arg3: float, arg4: float, arg5: float)\n    2. versor_pybind11.Dll(arg0: versor_pybind11.Pnt, arg1: versor_pybind11.Pnt)\n    3. versor_pybind11.Dll(arg0: versor_pybind11.Pnt, arg1: versor_pybind11.Vec)\n\nInvoked with: 0, 0, 0, 0, 0, 0"
     ]
    }
   ],
   "source": [
    "# J2 = motor_jacobian.jacobian_exp(motor, vsr.Dll(0,0,0,0,0,0))\n",
    "print(J2)"
   ]
  },
  {
   "cell_type": "code",
   "execution_count": 11,
   "metadata": {},
   "outputs": [
    {
     "ename": "NameError",
     "evalue": "name 'J1' is not defined",
     "output_type": "error",
     "traceback": [
      "\u001b[0;31m---------------------------------------------------------------------------\u001b[0m",
      "\u001b[0;31mNameError\u001b[0m                                 Traceback (most recent call last)",
      "\u001b[0;32m<ipython-input-11-c6a8fb17ba76>\u001b[0m in \u001b[0;36m<module>\u001b[0;34m()\u001b[0m\n\u001b[0;32m----> 1\u001b[0;31m \u001b[0mnp\u001b[0m\u001b[0;34m.\u001b[0m\u001b[0mdot\u001b[0m\u001b[0;34m(\u001b[0m\u001b[0mJ1\u001b[0m\u001b[0;34m,\u001b[0m\u001b[0mJ2\u001b[0m\u001b[0;34m)\u001b[0m\u001b[0;34m\u001b[0m\u001b[0m\n\u001b[0m",
      "\u001b[0;31mNameError\u001b[0m: name 'J1' is not defined"
     ]
    }
   ],
   "source": [
    "np.dot(J1,J2)"
   ]
  },
  {
   "cell_type": "code",
   "execution_count": null,
   "metadata": {},
   "outputs": [],
   "source": [
    "B =  motor.log().biv()"
   ]
  },
  {
   "cell_type": "code",
   "execution_count": 1,
   "metadata": {},
   "outputs": [
    {
     "ename": "NameError",
     "evalue": "name 'points_a' is not defined",
     "output_type": "error",
     "traceback": [
      "\u001b[0;31m---------------------------------------------------------------------------\u001b[0m",
      "\u001b[0;31mNameError\u001b[0m                                 Traceback (most recent call last)",
      "\u001b[0;32m<ipython-input-1-fdd249c69056>\u001b[0m in \u001b[0;36m<module>\u001b[0;34m()\u001b[0m\n\u001b[0;32m----> 1\u001b[0;31m \u001b[0ma\u001b[0m \u001b[0;34m=\u001b[0m \u001b[0mpoints_a\u001b[0m\u001b[0;34m[\u001b[0m\u001b[0;36m0\u001b[0m\u001b[0;34m]\u001b[0m\u001b[0;34m\u001b[0m\u001b[0m\n\u001b[0m\u001b[1;32m      2\u001b[0m \u001b[0ma\u001b[0m\u001b[0;34m\u001b[0m\u001b[0m\n",
      "\u001b[0;31mNameError\u001b[0m: name 'points_a' is not defined"
     ]
    }
   ],
   "source": [
    "a = points_a[0]\n",
    "a"
   ]
  },
  {
   "cell_type": "code",
   "execution_count": null,
   "metadata": {
    "collapsed": true
   },
   "outputs": [],
   "source": [
    "R = motor.rot()"
   ]
  },
  {
   "cell_type": "code",
   "execution_count": null,
   "metadata": {},
   "outputs": [],
   "source": [
    "vsr.Biv(1,0,0).comm(a.spin(R))"
   ]
  },
  {
   "cell_type": "code",
   "execution_count": null,
   "metadata": {},
   "outputs": [],
   "source": [
    "vsr.Dll(1,0,0,0,0,0).comm(a.spin(motor))"
   ]
  },
  {
   "cell_type": "code",
   "execution_count": null,
   "metadata": {},
   "outputs": [],
   "source": [
    "vsr.Vec(1,2,3).null().spin(motor)"
   ]
  },
  {
   "cell_type": "code",
   "execution_count": null,
   "metadata": {},
   "outputs": [],
   "source": [
    "vsr.Vec(1,2,3).spin(motor.rot())"
   ]
  },
  {
   "cell_type": "code",
   "execution_count": null,
   "metadata": {
    "collapsed": true
   },
   "outputs": [],
   "source": [
    "def jac(a, mot):\n",
    "    j = np.zeros((3,6))\n",
    "    for i in range(6):\n",
    "        dll = vsr.Dll(0.0, 0.0, 0.0, 0.0, 0.0, 0.0)\n",
    "        dll[i] = 1.0\n",
    "        j[:,i] = -2.0 * np.array(dll.comm(a.spin(mot)))[:3]\n",
    "    return j"
   ]
  },
  {
   "cell_type": "code",
   "execution_count": null,
   "metadata": {},
   "outputs": [],
   "source": [
    "a = points_a[0]\n",
    "b = points_b[0]\n",
    "jac(a,motor)"
   ]
  },
  {
   "cell_type": "code",
   "execution_count": null,
   "metadata": {
    "collapsed": true
   },
   "outputs": [],
   "source": [
    "def res(a,b,mot):\n",
    "    return np.array(b - a.spin(mot))[:3].reshape(-1,1)"
   ]
  },
  {
   "cell_type": "code",
   "execution_count": null,
   "metadata": {},
   "outputs": [],
   "source": [
    "J = jac(a, m0)\n",
    "r = res(a,b,m0)\n",
    "B = vsr.Dll(*np.dot(J.T,r))"
   ]
  },
  {
   "cell_type": "code",
   "execution_count": null,
   "metadata": {},
   "outputs": [],
   "source": [
    "B"
   ]
  },
  {
   "cell_type": "code",
   "execution_count": null,
   "metadata": {},
   "outputs": [],
   "source": [
    "[vsr.Dll(0,1,0,0,0,0).comm(B) \n",
    " for B in [vsr.Dll(*np.dot(jac(a,m0).T,res(a,b,m0))) \n",
    "           for a,b in zip(points_a, points_b)]]"
   ]
  },
  {
   "cell_type": "code",
   "execution_count": null,
   "metadata": {},
   "outputs": [],
   "source": [
    "a.spin(m) ^ b"
   ]
  },
  {
   "cell_type": "code",
   "execution_count": null,
   "metadata": {},
   "outputs": [],
   "source": [
    "def update(points_a, points_b, mot):\n",
    "    J = np.array([jac(a, mot) for a in points_a]).reshape(-1,6)\n",
    "    g = np.array([res(a,b,mot) for a,b in zip(points_a, points_b)]).reshape(-1,1)\n",
    "    JTg = np.dot(J.T,g)\n",
    "    print(JTg)\n",
    "    print()\n",
    "    H = np.dot(J.T,J)\n",
    "    print(H)\n",
    "    print()\n",
    "    B = -np.dot(np.linalg.pinv(H),JTg)\n",
    "    B = -JTg\n",
    "    r = vsr.Dll(*B).exp() * mot\n",
    "    grad_norm = np.linalg.norm(JTg)\n",
    "    err = np.dot(g.T,g)[0][0]\n",
    "    return r, err, grad_norm"
   ]
  },
  {
   "cell_type": "code",
   "execution_count": null,
   "metadata": {},
   "outputs": [],
   "source": [
    "m = m0\n",
    "res(points_a[0], points_b[0], m)\n",
    "m, err, gnorm = update(points_a, points_b, m)\n",
    "errs = []\n",
    "# for i in range(6):\n",
    "while err > 1e-6:\n",
    "    m, err, gnorm = update(points_a, points_b, m)\n",
    "    errs.append(err)\n",
    "print(m)"
   ]
  },
  {
   "cell_type": "code",
   "execution_count": null,
   "metadata": {},
   "outputs": [],
   "source": [
    "plt.semilogy(errs)"
   ]
  },
  {
   "cell_type": "code",
   "execution_count": null,
   "metadata": {
    "collapsed": true
   },
   "outputs": [],
   "source": []
  }
 ],
 "metadata": {
  "kernelspec": {
   "display_name": "Python 3",
   "language": "python",
   "name": "python3"
  },
  "language_info": {
   "codemirror_mode": {
    "name": "ipython",
    "version": 3
   },
   "file_extension": ".py",
   "mimetype": "text/x-python",
   "name": "python",
   "nbconvert_exporter": "python",
   "pygments_lexer": "ipython3",
   "version": "3.6.2"
  }
 },
 "nbformat": 4,
 "nbformat_minor": 1
}
