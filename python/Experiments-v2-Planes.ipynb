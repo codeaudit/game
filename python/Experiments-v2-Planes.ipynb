{
 "cells": [
  {
   "cell_type": "code",
   "execution_count": 9,
   "metadata": {
    "collapsed": false,
    "deletable": true,
    "editable": true
   },
   "outputs": [
    {
     "name": "stdout",
     "output_type": "stream",
     "text": [
      "Populating the interactive namespace from numpy and matplotlib\n"
     ]
    },
    {
     "name": "stderr",
     "output_type": "stream",
     "text": [
      "/Users/lars/anaconda3/lib/python3.5/site-packages/IPython/core/magics/pylab.py:161: UserWarning: pylab import has clobbered these variables: ['Inf']\n",
      "`%matplotlib` prevents importing * from pylab and numpy\n",
      "  \"\\n`%matplotlib` prevents importing * from pylab and numpy\"\n"
     ]
    }
   ],
   "source": [
    "from __future__ import print_function\n",
    "import sys\n",
    "sys.path.append('../build/')\n",
    "%pylab inline\n",
    "np.set_printoptions(precision=4, suppress=True)\n",
    "import versor as vsr\n",
    "import pandas as pd\n",
    "import seaborn as sns\n",
    "sns.set_style('whitegrid')\n",
    "sns.set_context('paper')\n",
    "from versor.drawing import *\n",
    "from motor_estimation import MotorEstimationSolver\n",
    "from game import VDMotorEstimationSolver\n",
    "from icp import best_fit_transform\n",
    "import pickle"
   ]
  },
  {
   "cell_type": "markdown",
   "metadata": {
    "deletable": true,
    "editable": true
   },
   "source": [
    "# Generate motors"
   ]
  },
  {
   "cell_type": "code",
   "execution_count": 10,
   "metadata": {
    "collapsed": false,
    "deletable": true,
    "editable": true
   },
   "outputs": [],
   "source": [
    "def create_motors(n_motors=10, d_lims=(0,10), th_lims=(-pi,pi)):\n",
    "    motors = [((vsr.Vec(*np.random.random(3)).unit() * np.random.uniform(*d_lims)).trs() * \n",
    "               vsr.Rot(vsr.Biv(*np.random.uniform(-1,1,3)).unit() * np.random.uniform(*th_lims) * -0.5)) \n",
    "              for i in range(n_motors)]\n",
    "    return motors"
   ]
  },
  {
   "cell_type": "markdown",
   "metadata": {
    "collapsed": true,
    "deletable": true,
    "editable": true
   },
   "source": [
    "# Planes"
   ]
  },
  {
   "cell_type": "code",
   "execution_count": 11,
   "metadata": {
    "collapsed": true
   },
   "outputs": [],
   "source": [
    "def rms_motor(results):\n",
    "    rms_rot = []\n",
    "    rms_mot = []\n",
    "    rms_trs = []\n",
    "    for result in results:\n",
    "        (_, m, em, _) = result\n",
    "        \n",
    "#         rot_error = np.min([np.linalg.norm(np.array(m.rot()) - np.array(em.rot())),\n",
    "#                       np.linalg.norm(np.array(m.rot()) + np.array(em.rot()))])\n",
    "#         rot = np.inner(rot_error, rot_error)\n",
    "        \n",
    "        emm = em.rev() * m\n",
    "        angle_error = 2 * np.arccos(np.abs(emm[0]))\n",
    "        rot = angle_error**2\n",
    "        \n",
    "#         angle_error = 2 * np.arccos(np.abs(m[0])) - 2 * np.arccos(np.abs(em[0]))\n",
    "        angle_error2 = 2 * np.arctan2(emm.rot().biv().norm(), emm[0])\n",
    "        rot2 = angle_error2**2\n",
    "    \n",
    "        d1 = np.array(m.trs() - em.trs())\n",
    "        trs2 = np.inner(d1,d1)\n",
    "        d = emm.trs()\n",
    "        trs = np.inner(d,d)\n",
    "        \n",
    "        rms_mot.append(trs2)\n",
    "        rms_rot.append(rot)\n",
    "        rms_trs.append(trs)\n",
    "        \n",
    "#         print('m_during: ', m)\n",
    "        \n",
    "#     print()\n",
    "        \n",
    "\n",
    "    motmean = np.sqrt(np.sum(rms_mot) / len(rms_mot))\n",
    "#     rotmean = np.mean(rms_rot)\n",
    "    rotmean = np.sqrt(np.sum(rms_rot) / len(rms_rot))\n",
    "    trsmean = np.sqrt(np.sum(rms_trs) / len(rms_trs)) \n",
    "    return (motmean, rotmean, trsmean)"
   ]
  },
  {
   "cell_type": "code",
   "execution_count": 12,
   "metadata": {
    "collapsed": true
   },
   "outputs": [],
   "source": [
    "def compare_rms_motor(results, results_vd, results_tin):\n",
    "    RMS = {'Ti': {}, \"VD\": {}, 'Ti2': {}}\n",
    "    our_mot, our_rot, our_trs = rms_motor(results)\n",
    "    Ti = RMS['Ti']\n",
    "    Ti['mot'] = our_mot\n",
    "    Ti['rot'] = our_rot\n",
    "    Ti['trs'] = our_trs\n",
    "    \n",
    "    vd_mot, vd_rot, _ = rms_motor(results_vd)\n",
    "    VD = RMS['VD']\n",
    "    VD['rot'] = vd_rot\n",
    "    VD['mot'] = vd_mot\n",
    "    \n",
    "    our_mot2, our_rot2, our_trs2 = rms_motor(results_tin)\n",
    "    Ti2 = RMS['Ti2']\n",
    "    Ti2['mot'] = our_mot2\n",
    "    Ti2['rot'] = our_rot2\n",
    "    Ti2['trs'] = our_trs2\n",
    "    return pd.DataFrame(RMS)"
   ]
  },
  {
   "cell_type": "code",
   "execution_count": 13,
   "metadata": {
    "collapsed": true
   },
   "outputs": [],
   "source": [
    "def run_planes(n_planes=10, n_sets=10, n_motors=10, \n",
    "               trs_noise_std=0.0,\n",
    "               rot_noise_std=0.0, \n",
    "               noisy=False):\n",
    "    motors = create_motors(n_motors, d_lims=(0, 1), th_lims=(0,pi/2))\n",
    "    results = []\n",
    "    results_vd = []\n",
    "    results_tin = []\n",
    "    for n_set in range(n_sets):\n",
    "        datasets = [create_random_planes(motor, n_planes, \n",
    "                                         rot_noise_std=rot_noise_std,\n",
    "                                         trs_noise_std=trs_noise_std) \n",
    "                    for motor in motors]\n",
    "        for dataset in datasets:\n",
    "            results.append(estimate_motors_planes(dataset, noisy=noisy))\n",
    "            results_vd.append(estimate_motors_planes_vd(dataset, noisy=noisy))\n",
    "            results_tin.append(estimate_motors_planes(dataset, noisy=noisy, commutator=True))\n",
    "    return (results, results_vd, results_tin)"
   ]
  },
  {
   "cell_type": "code",
   "execution_count": 14,
   "metadata": {
    "collapsed": true
   },
   "outputs": [],
   "source": [
    "def create_random_planes(motor, n_planes=10,\n",
    "                        trs_noise_std=0.09, rot_noise_std=0.09):\n",
    "    planes = []\n",
    "    for i in range(n_planes):\n",
    "        dir_vec = vsr.Vec(*np.random.uniform(-1,1,3)).unit()\n",
    "        distance = np.random.uniform(0,1)\n",
    "        a = vsr.Dlp(dir_vec,distance)\n",
    "        b = a.spin(motor)\n",
    "        if trs_noise_std > 0.0:\n",
    "            t = vsr.Vec(*np.random.random(3)).unit() * np.random.normal(0.0,trs_noise_std,1)\n",
    "        else:\n",
    "            t = vsr.Vec(0,0,0)\n",
    "            \n",
    "        if rot_noise_std > 0.0:\n",
    "            R = vsr.Rot(vsr.Biv(*np.random.uniform(-1,1,3)).unit() * \n",
    "                            np.random.normal(0, rot_noise_std) * -0.5)\n",
    "        else:\n",
    "            R = vsr.Rot(1,0,0,0)\n",
    "        noise_motor = t.trs() * R\n",
    "        \n",
    "        bn = a.spin(noise_motor).spin(motor)\n",
    "        planes.append((a,b,bn))\n",
    "    return (planes, motor)"
   ]
  },
  {
   "cell_type": "code",
   "execution_count": 15,
   "metadata": {
    "collapsed": false
   },
   "outputs": [],
   "source": [
    "def estimate_motors_planes(dataset, \n",
    "                           initial_motor = vsr.Mot(1.0, 0.0, 0.0, 0.0, 0.0, 0.0, 0.0, 0.0), \n",
    "                           noisy=False,\n",
    "                          commutator=False):\n",
    "    planes, motor = dataset\n",
    "        \n",
    "    mes = MotorEstimationSolver(initial_motor)\n",
    "    if noisy:\n",
    "        for (a, _, bn) in planes:\n",
    "            if commutator:\n",
    "                mes.add_dual_plane_commutator_residual_block(a,bn)\n",
    "            else:\n",
    "                mes.add_dual_plane_difference_residual_block(a,bn)\n",
    "    else:\n",
    "        for (a, b, _) in planes:\n",
    "            if commutator:\n",
    "                mes.add_dual_plane_commutator_residual_block(a,b)\n",
    "            else:\n",
    "                mes.add_dual_plane_difference_residual_block(a,b)\n",
    "    mes.set_parameterization('BIVECTOR_GENERATOR')\n",
    "    mes.linear_solver_type = 'DENSE_QR'\n",
    "    (estimated_motor, summary, _) = mes.solve()\n",
    "    return (planes, motor, estimated_motor, summary)"
   ]
  },
  {
   "cell_type": "code",
   "execution_count": 16,
   "metadata": {
    "collapsed": true
   },
   "outputs": [],
   "source": [
    "def estimate_motors_planes_lars(dataset, noisy=False):\n",
    "    lines, motor = dataset\n",
    "    \n",
    "    def solve(L):\n",
    "        Lrr = L[:4, :4]\n",
    "        Lrq = L[:4, 4:]\n",
    "        Lqr = L[4:, :4]\n",
    "        Lqq = L[4:, 4:]\n",
    "        Lp = Lrr - np.dot(Lrq, np.dot(np.linalg.pinv(Lqq), Lqr))\n",
    "        w, v = np.linalg.eig(Lp)\n",
    "        r = v[:, np.argmin(w)]\n",
    "        q = np.dot(-np.dot(np.linalg.pinv(Lqq), Lqr), r)\n",
    "        return vsr.Mot(*np.array([r, q]).ravel())\n",
    "\n",
    "    Q = np.zeros((8,8))\n",
    "        \n",
    "    lines_a = []\n",
    "    lines_b = []\n",
    "    lines_bn = []\n",
    "    for (a,b,bn) in lines:\n",
    "        lines_a.append(vsr.CGA(a))\n",
    "        lines_b.append(vsr.CGA(b))\n",
    "        lines_bn.append(vsr.CGA(bn))\n",
    "        \n",
    "    if noisy:\n",
    "        for b,a in zip(lines_a, lines_bn):\n",
    "            D = np.zeros((32,8))\n",
    "            for i in range(8):\n",
    "                ei = vsr.Mot(0,0,0,0,0,0,0,0)\n",
    "                ei[i] = 1.0\n",
    "                ei = vsr.CGA(ei)\n",
    "                D[:,i] = np.array(a * ei - ei * b)\n",
    "            Q += np.dot(D.T,D)\n",
    "    else:\n",
    "        for b,a in zip(lines_a, lines_b):\n",
    "            D = np.zeros((32,8))\n",
    "            for i in range(8):\n",
    "                ei = vsr.Mot(0,0,0,0,0,0,0,0)\n",
    "                ei[i] = 1.0\n",
    "                ei = vsr.CGA(ei)\n",
    "                D[:,i] = np.array(a * ei - ei * b)\n",
    "            Q += np.dot(D.T,D)\n",
    "\n",
    "    estimated_motor = solve(Q)\n",
    "    if np.abs((estimated_motor * estimated_motor.rev())[7])  > 0.0000000001:\n",
    "        print(wrong)\n",
    "              \n",
    "    if np.sign(estimated_motor[0]) != np.sign(motor[0]):\n",
    "        estimated_motor = estimated_motor * -1.0\n",
    "        \n",
    "    return (lines, motor, estimated_motor, _)"
   ]
  },
  {
   "cell_type": "code",
   "execution_count": 17,
   "metadata": {
    "collapsed": true
   },
   "outputs": [],
   "source": [
    "def estimate_motors_planes_vd(dataset, \n",
    "                             initial_motor = vsr.Mot(1.0, 0.0, 0.0, 0.0, 0.0, 0.0, 0.0, 0.0), \n",
    "                             noisy=False):\n",
    "    vd = VDMotorEstimationSolver()\n",
    "    planes, motor = dataset\n",
    "    planes_a = []\n",
    "    planes_b = []\n",
    "    planes_bn = []\n",
    "    for (a,b,bn) in planes:\n",
    "        planes_a.append(a)\n",
    "        planes_b.append(b)\n",
    "        planes_bn.append(bn)\n",
    "    if noisy:\n",
    "        vd.add_dual_plane_observations(planes_a, planes_bn)\n",
    "    else:\n",
    "        vd.add_dual_plane_observations(planes_a, planes_b)\n",
    "\n",
    "    estimated_motor = vd.solve()\n",
    "        \n",
    "    if np.sign(estimated_motor[0]) != np.sign(motor[0]):\n",
    "        estimated_motor = estimated_motor * -1.0\n",
    "    \n",
    "    return (planes, motor, estimated_motor, [])"
   ]
  },
  {
   "cell_type": "markdown",
   "metadata": {},
   "source": [
    "# TRS and ROT SIM"
   ]
  },
  {
   "cell_type": "code",
   "execution_count": 18,
   "metadata": {
    "collapsed": false
   },
   "outputs": [],
   "source": [
    "n_noise_levels = 10\n",
    "noise_levels_rot = np.linspace(0.0001, 0.1,  n_noise_levels)\n",
    "noise_levels_trs = np.linspace(0.0001, 0.01, n_noise_levels)\n",
    "\n",
    "rot_trs_noise_results = [run_planes(32,10,10,\n",
    "                                      trs_noise_std=noise_level_trs,\n",
    "                                      rot_noise_std=noise_level_rot,\n",
    "                                      noisy=True) \n",
    "        for noise_level_rot, noise_level_trs in zip(noise_levels_rot, noise_levels_trs) ]\n",
    "\n",
    "rmss_rot_trs_noise = [compare_rms_motor(*result) for result in rot_trs_noise_results]"
   ]
  },
  {
   "cell_type": "code",
   "execution_count": 19,
   "metadata": {
    "collapsed": false,
    "scrolled": true
   },
   "outputs": [
    {
     "data": {
      "text/plain": [
       "<matplotlib.text.Text at 0x11e8fe898>"
      ]
     },
     "execution_count": 19,
     "metadata": {},
     "output_type": "execute_result"
    },
    {
     "data": {
      "image/png": "[encoded data removed]",
      "text/plain": [
       "<matplotlib.figure.Figure at 0x11e87c6d8>"
      ]
     },
     "metadata": {},
     "output_type": "display_data"
    }
   ],
   "source": [
    "d = pd.concat(rmss_rot_trs_noise)\n",
    "fig, ax = plt.subplots(2)\n",
    "\n",
    "fig.subplots_adjust(hspace=.33)\n",
    "\n",
    "ax0 = ax[0]\n",
    "\n",
    "# ax.plot(noise_levels_rot, d['Ti2']['rot'], label='Ti commutator')\n",
    "ax0.plot(noise_levels_rot, d['Ti']['rot'], marker='*', label='Ti chordal')\n",
    "ax0.plot(noise_levels_rot, d['VD']['rot'], label='VD')\n",
    "ax0.legend(frameon=False, loc=2)\n",
    "ax0.set_ylabel('Error in rotation [rad]')\n",
    "ax0.set_xlabel('Gaussian mean deviation of induced noise in rotation [rad]')\n",
    "\n",
    "# ax0.set_ylabel('Mean geometric error')\n",
    "# ax0.set_xlabel('Gaussian mean deviation of induced noise')\n",
    "\n",
    "ax1 = ax[1]\n",
    "ax1.plot(noise_levels_trs, d['Ti']['trs'], marker='*', label='Ti chordal')\n",
    "\n",
    "ax1.legend(frameon=False, loc=2)\n",
    "ax1.set_xlabel('Gaussian mean deviation of induced noise in translation [m]')\n",
    "ax1.set_ylabel('Error in translation [m]')\n",
    "# plt.savefig('/Users/lars/latex/latex-phd-thesis/Figures/planes-trs-rot-noise.pdf')"
   ]
  },
  {
   "cell_type": "markdown",
   "metadata": {},
   "source": [
    "# ONLY ROT"
   ]
  },
  {
   "cell_type": "code",
   "execution_count": 406,
   "metadata": {
    "collapsed": false
   },
   "outputs": [],
   "source": [
    "n_noise_levels = 10\n",
    "noise_levels_rot = np.linspace(0.0001, 0.1,  n_noise_levels)\n",
    "noise_levels_trs = np.linspace(0.0001, 0.01, n_noise_levels)\n",
    "\n",
    "rot_noise_results = [run_planes(32,10,10,\n",
    "                                      trs_noise_std=0.001,\n",
    "                                      rot_noise_std=noise_level_rot,\n",
    "                                      noisy=True) \n",
    "        for noise_level_rot, noise_level_trs in zip(noise_levels_rot, noise_levels_trs) ]\n",
    "\n",
    "rmss_rot_noise = [compare_rms_motor(*result) for result in rot_noise_results]"
   ]
  },
  {
   "cell_type": "code",
   "execution_count": 407,
   "metadata": {
    "collapsed": false,
    "scrolled": true
   },
   "outputs": [
    {
     "data": {
      "image/png": "[encoded data removed]",
      "text/plain": [
       "<matplotlib.figure.Figure at 0x131bbcd30>"
      ]
     },
     "metadata": {},
     "output_type": "display_data"
    }
   ],
   "source": [
    "d = pd.concat(rmss_rot_noise)\n",
    "\n",
    "fig, ax = plt.subplots(2)\n",
    "\n",
    "fig.subplots_adjust(hspace=.33)\n",
    "\n",
    "ax0 = ax[0]\n",
    "\n",
    "# ax.plot(noise_levels_rot, d['Ti2']['rot'], label='Ti commutator')\n",
    "ax0.plot(noise_levels_rot, d['Ti']['rot'], marker='*', label='Ti chordal')\n",
    "ax0.plot(noise_levels_rot, d['VD']['rot'], label='VD')\n",
    "ax0.legend(frameon=False, loc=2)\n",
    "ax0.set_ylabel('Error in rotation [rad]')\n",
    "ax0.set_xlabel('Gaussian mean deviation of induced noise in rotation [rad]')\n",
    "\n",
    "# ax0.set_ylabel('Mean geometric error')\n",
    "# ax0.set_xlabel('Gaussian mean deviation of induced noise')\n",
    "\n",
    "ax1 = ax[1]\n",
    "ax1.plot(noise_levels_trs, d['Ti']['trs'], marker='*', label='Ti chordal')\n",
    "\n",
    "ax1.legend(frameon=False, loc=2)\n",
    "ax1.set_xlabel('Gaussian mean deviation of induced noise in translation [m]')\n",
    "ax1.set_ylabel('Error in translation [m]')\n",
    "# plt.savefig('/Users/lars/latex/latex-phd-thesis/Figures/planes-rot-noise.pdf')"
   ]
  },
  {
   "cell_type": "markdown",
   "metadata": {},
   "source": [
    "# ONLY TRS"
   ]
  },
  {
   "cell_type": "code",
   "execution_count": 412,
   "metadata": {
    "collapsed": false
   },
   "outputs": [],
   "source": [
    "n_noise_levels = 10\n",
    "noise_levels_rot = np.linspace(0.0001, 0.1,  n_noise_levels)\n",
    "noise_levels_trs = np.linspace(0.0001, 0.01, n_noise_levels)\n",
    "\n",
    "trs_noise_results = [run_planes(32,10,10,\n",
    "                                      trs_noise_std=noise_level_trs,\n",
    "                                      rot_noise_std=0.001,\n",
    "                                      noisy=True) \n",
    "        for noise_level_rot, noise_level_trs in zip(noise_levels_rot, noise_levels_trs) ]\n",
    "\n",
    "rmss_trs_noise = [compare_rms_motor(*result) for result in trs_noise_results]"
   ]
  },
  {
   "cell_type": "code",
   "execution_count": 411,
   "metadata": {
    "collapsed": false,
    "scrolled": true
   },
   "outputs": [
    {
     "data": {
      "image/png": "[encoded data removed]",
      "text/plain": [
       "<matplotlib.figure.Figure at 0x12c5ed710>"
      ]
     },
     "metadata": {},
     "output_type": "display_data"
    }
   ],
   "source": [
    "d = pd.concat(rmss_trs_noise)\n",
    "\n",
    "fig, ax = plt.subplots(2)\n",
    "\n",
    "fig.subplots_adjust(hspace=.33)\n",
    "\n",
    "ax0 = ax[0]\n",
    "\n",
    "# ax.plot(noise_levels_rot, d['Ti2']['rot'], label='Ti commutator')\n",
    "ax0.plot(noise_levels_rot, d['Ti']['rot'], marker='*', label='Ti chordal')\n",
    "ax0.plot(noise_levels_rot, d['VD']['rot'], label='VD')\n",
    "ax0.legend(frameon=False, loc=2)\n",
    "ax0.set_ylabel('Error in rotation [rad]')\n",
    "ax0.set_xlabel('Gaussian mean deviation of induced noise in rotation [rad]')\n",
    "\n",
    "# ax0.set_ylabel('Mean geometric error')\n",
    "# ax0.set_xlabel('Gaussian mean deviation of induced noise')\n",
    "\n",
    "ax1 = ax[1]\n",
    "ax1.plot(noise_levels_trs, d['Ti']['trs'], marker='*', label='Ti chordal')\n",
    "\n",
    "ax1.legend(frameon=False, loc=2)\n",
    "ax1.set_xlabel('Gaussian mean deviation of induced noise in translation [m]')\n",
    "ax1.set_ylabel('Error in translation [m]')\n",
    "# plt.savefig('/Users/lars/latex/latex-phd-thesis/Figures/planes-trs-noise.pdf')"
   ]
  },
  {
   "cell_type": "code",
   "execution_count": 413,
   "metadata": {
    "collapsed": true
   },
   "outputs": [],
   "source": [
    "def analyze_iterations(results):\n",
    "    summaries = [result[3] for result in results]\n",
    "    iteration_numbers = []\n",
    "    for summary in summaries:\n",
    "        iteration_numbers.append(len(pd.DataFrame(summary['iterations'])['cost']))\n",
    "        \n",
    "#     median = np.median(iteration_numbers)\n",
    "#     argmedian = np.where([iteration_numbers == median])[1][0]\n",
    "#     median_costs = pd.DataFrame(summaries[argmedian]['iterations'])['cost']\n",
    "#     median_gradients = pd.DataFrame(summaries[argmedian]['iterations'])['gradient_max_norm']\n",
    "\n",
    "    \n",
    "    argmax = np.argmax(iteration_numbers)\n",
    "    max_ = np.max(iteration_numbers)\n",
    "    max_costs = pd.DataFrame(summaries[argmax]['iterations'])['cost']\n",
    "    max_gradients = pd.DataFrame(summaries[argmax]['iterations'])['gradient_max_norm']\n",
    "\n",
    "    \n",
    "    argmin = np.argmin(iteration_numbers)\n",
    "    min_ = np.min(iteration_numbers)\n",
    "    min_costs = pd.DataFrame(summaries[argmin]['iterations'])['cost']\n",
    "    min_gradients = pd.DataFrame(summaries[argmin]['iterations'])['gradient_max_norm']\n",
    "    return ((max_, argmax, max_costs, max_gradients), \n",
    "            (min_, argmin, min_costs, min_gradients))"
   ]
  },
  {
   "cell_type": "code",
   "execution_count": 415,
   "metadata": {
    "collapsed": false
   },
   "outputs": [
    {
     "data": {
      "image/png": "[encoded data removed]",
      "text/plain": [
       "<matplotlib.figure.Figure at 0x1320114a8>"
      ]
     },
     "metadata": {},
     "output_type": "display_data"
    }
   ],
   "source": [
    "fig, ax = plt.subplots(1)\n",
    "max_, min_ = analyze_iterations(rot_trs_noise_results[0][0])\n",
    "ax0 = ax\n",
    "ax0.semilogy(max_[2], label='max')\n",
    "ax0.semilogy(min_[2], label='min')\n",
    "ax0.legend(frameon=False, loc=1)\n",
    "ax0.set_ylabel('Cost')\n",
    "ax0.set_xlabel('Iteration $k$')\n",
    "ax0.xaxis.set_major_locator(MaxNLocator(integer=True))\n",
    "\n",
    "fig.subplots_adjust(hspace=0.5)\n",
    "\n",
    "\n",
    "plt.savefig('/Users/lars/latex/latex-phd-thesis/Figures/planes-iterations-rot-trs-noise.pdf')"
   ]
  },
  {
   "cell_type": "markdown",
   "metadata": {
    "collapsed": true
   },
   "source": [
    "# Translation invariance"
   ]
  },
  {
   "cell_type": "code",
   "execution_count": 29,
   "metadata": {
    "collapsed": true
   },
   "outputs": [],
   "source": [
    "def transform_dataset(dataset, motor):\n",
    "    lines, original_motor = dataset\n",
    "    transformed_lines = [(a.spin(motor), b.spin(motor), bn.spin(motor)) for a,b,bn in lines]\n",
    "    transformed_motor = vsr.CGA(original_motor).spin(vsr.CGA(motor)).mot()\n",
    "    return (transformed_lines, transformed_motor)\n",
    "\n",
    "n_noise_levels = 10\n",
    "noise_levels_rot = np.linspace(1e-5, 0.1, n_noise_levels)\n",
    "# noise_levels_rot = np.zeros(n_noise_levels)\n",
    "noise_levels_trs = np.linspace(1e-6, 0.01, n_noise_levels)\n",
    "\n",
    "def run_trs_invariance(func):\n",
    "\n",
    "    rotrmsem1t = []\n",
    "    trsrmsem1t = []\n",
    "    rotrmsem1 = []\n",
    "    trsrmsem1 = []\n",
    "    rotrmsem2 = []\n",
    "    trsrmsem2 = []\n",
    "    \n",
    "    def comp_rms(angle_errors, distance_errors):\n",
    "            rot = np.sqrt(np.sum(angle_errors) / len(angle_errors))\n",
    "            if rot is np.NaN:\n",
    "                rot = 0.0\n",
    "            trs = np.sqrt(np.sum(distance_errors) / len(distance_errors))\n",
    "            return rot, trs\n",
    "    \n",
    "    def motor_error(mot1, mot2, angle_errors, distance_errors):\n",
    "        M_err = mot1 * mot2.rev()\n",
    "        angle = 2 * np.arccos(np.abs(M_err[0]))\n",
    "        angle = angle**2\n",
    "        distance = M_err.trs()\n",
    "        distance = np.inner(distance, distance)\n",
    "        if distance < 1.0:\n",
    "            angle_errors.append(angle)\n",
    "            distance_errors.append(distance)\n",
    "\n",
    "    for rot_noise_level, trs_noise_level in zip(noise_levels_rot, noise_levels_trs):\n",
    "        angle_errors_em1t = []\n",
    "        distance_errors_em1t = []\n",
    "        \n",
    "        angle_errors_em1 = []\n",
    "        distance_errors_em1 = []\n",
    "        \n",
    "        angle_errors_em2 = []\n",
    "        distance_errors_em2 = []\n",
    "        \n",
    "        for i in range(100):\n",
    "            n_motors = 1\n",
    "            d_lims = (0,2)\n",
    "            th_lims = (0,pi/2)\n",
    "            motors = create_motors(n_motors, d_lims=d_lims, th_lims=th_lims)\n",
    "#             motors2 = create_motors(1, d_lims=d_lims, th_lims=th_lims)\n",
    "            motor2 = (vsr.Vec(*np.random.uniform(-1,1,3)).unit() * \n",
    "                      np.random.uniform(1,2)).trs() * vsr.Rot(1,0,0,0)\n",
    "            dataset = create_random_planes(motors[0], 32, \n",
    "                                                rot_noise_std=rot_noise_level, \n",
    "                                                trs_noise_std=trs_noise_level,\n",
    "                                                   )\n",
    "            noisy=True\n",
    "            \n",
    "            _, m1, em1 , _ = func(dataset, noisy=noisy)\n",
    "            _, m2, em2 , _ = func(transform_dataset(dataset, motor2), noisy=noisy)\n",
    "\n",
    "            em1_t = vsr.CGA(em1).spin(vsr.CGA(motor2)).mot()\n",
    "            \n",
    "            motor_error(em1_t, em2, angle_errors_em1t, distance_errors_em1t)\n",
    "            \n",
    "            motor_error(em1, m1, angle_errors_em1, distance_errors_em1)\n",
    "            \n",
    "            motor_error(em2, m2, angle_errors_em2, distance_errors_em2)\n",
    "            \n",
    "        rot_em1t, trs_em1t = comp_rms(angle_errors_em1t, distance_errors_em1t)\n",
    "        rot_em1, trs_em1 = comp_rms(angle_errors_em1, distance_errors_em1)\n",
    "        rot_em2, trs_em2 = comp_rms(angle_errors_em2, distance_errors_em2)\n",
    "        \n",
    "        rotrmsem1t.append(rot_em1t)\n",
    "        trsrmsem1t.append(trs_em1t)\n",
    "        rotrmsem1.append(rot_em1)\n",
    "        trsrmsem1.append(trs_em1)\n",
    "        rotrmsem2.append(rot_em2)\n",
    "        trsrmsem2.append(trs_em2)\n",
    "        \n",
    "    return rotrmsem1t, trsrmsem1t, rotrmsem1, trsrmsem1, rotrmsem2, trsrmsem2"
   ]
  },
  {
   "cell_type": "code",
   "execution_count": 30,
   "metadata": {
    "collapsed": false
   },
   "outputs": [],
   "source": [
    "planes_rms = run_trs_invariance(estimate_motors_planes)"
   ]
  },
  {
   "cell_type": "code",
   "execution_count": 31,
   "metadata": {
    "collapsed": false
   },
   "outputs": [],
   "source": [
    "np.save('planes_rot_rms_em1t', planes_rms[0])\n",
    "np.save('planes_trs_rms_em1t', planes_rms[1])\n",
    "np.save('planes_rot_rms_em1',  planes_rms[2])\n",
    "np.save('planes_trs_rms_em1',  planes_rms[3])\n",
    "np.save('planes_rot_rms_em2',  planes_rms[4])\n",
    "np.save('planes_trs_rms_em2',  planes_rms[5])"
   ]
  },
  {
   "cell_type": "code",
   "execution_count": null,
   "metadata": {
    "collapsed": true
   },
   "outputs": [],
   "source": []
  }
 ],
 "metadata": {
  "anaconda-cloud": {},
  "kernelspec": {
   "display_name": "Python [default]",
   "language": "python",
   "name": "python3"
  },
  "language_info": {
   "codemirror_mode": {
    "name": "ipython",
    "version": 3
   },
   "file_extension": ".py",
   "mimetype": "text/x-python",
   "name": "python",
   "nbconvert_exporter": "python",
   "pygments_lexer": "ipython3",
   "version": "3.5.2"
  }
 },
 "nbformat": 4,
 "nbformat_minor": 2
}
