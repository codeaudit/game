{
 "cells": [
  {
   "cell_type": "code",
   "execution_count": 76,
   "metadata": {
    "collapsed": false,
    "deletable": true,
    "editable": true
   },
   "outputs": [
    {
     "name": "stdout",
     "output_type": "stream",
     "text": [
      "Populating the interactive namespace from numpy and matplotlib\n"
     ]
    },
    {
     "name": "stderr",
     "output_type": "stream",
     "text": [
      "/Users/lars/anaconda3/lib/python3.5/site-packages/IPython/core/magics/pylab.py:161: UserWarning: pylab import has clobbered these variables: ['Inf']\n",
      "`%matplotlib` prevents importing * from pylab and numpy\n",
      "  \"\\n`%matplotlib` prevents importing * from pylab and numpy\"\n"
     ]
    }
   ],
   "source": [
    "from __future__ import print_function\n",
    "import sys\n",
    "sys.path.append('../build/')\n",
    "%pylab inline\n",
    "np.set_printoptions(precision=4, suppress=True)\n",
    "import versor as vsr\n",
    "import pandas as pd\n",
    "import seaborn as sns\n",
    "sns.set_style('whitegrid')\n",
    "sns.set_context('paper')\n",
    "from versor.drawing import *\n",
    "from motor_estimation import MotorEstimationSolver\n",
    "from game import VDMotorEstimationSolver\n",
    "from icp import best_fit_transform\n",
    "import pickle"
   ]
  },
  {
   "cell_type": "markdown",
   "metadata": {
    "deletable": true,
    "editable": true
   },
   "source": [
    "# Generate motors"
   ]
  },
  {
   "cell_type": "code",
   "execution_count": 77,
   "metadata": {
    "collapsed": false,
    "deletable": true,
    "editable": true
   },
   "outputs": [],
   "source": [
    "def create_motors(n_motors=10, d_lims=(0,10), th_lims=(-pi,pi)):\n",
    "    motors = [((vsr.Vec(*np.random.random(3)).unit() * np.random.uniform(*d_lims)).trs() * \n",
    "               vsr.Rot(vsr.Biv(*np.random.uniform(-1,1,3)).unit() * np.random.uniform(*th_lims) * -0.5)) \n",
    "              for i in range(n_motors)]\n",
    "    return motors"
   ]
  },
  {
   "cell_type": "markdown",
   "metadata": {
    "collapsed": true,
    "deletable": true,
    "editable": true
   },
   "source": [
    "# Planes"
   ]
  },
  {
   "cell_type": "code",
   "execution_count": 78,
   "metadata": {
    "collapsed": true
   },
   "outputs": [],
   "source": [
    "def rms_motor(results):\n",
    "    rms_rot = []\n",
    "    rms_mot = []\n",
    "    rms_trs = []\n",
    "    for result in results:\n",
    "        (_, m, em, _) = result\n",
    "        if np.sign(em[0]) != np.sign(m[0]):\n",
    "            em = em * (-1.0)\n",
    "        mot = np.linalg.norm(m * em.rev()) - 1.0\n",
    "        rot = np.linalg.norm(np.array(m.rot()) - np.array(em.rot()))\n",
    "        trs = (m.trs() - em.trs()).norm()\n",
    "        rms_mot.append(mot)\n",
    "        rms_rot.append(rot)\n",
    "        rms_trs.append(trs)\n",
    "\n",
    "    motmean = np.mean(rms_mot)\n",
    "    rotmean = np.mean(rms_rot)\n",
    "    trsmean = np.mean(rms_trs)\n",
    "    return (motmean, rotmean, trsmean)"
   ]
  },
  {
   "cell_type": "code",
   "execution_count": 79,
   "metadata": {
    "collapsed": true
   },
   "outputs": [],
   "source": [
    "def compare_rms_motor(results, results_vd):\n",
    "    RMS = {'Ti': {}, \"VD\": {}}\n",
    "    our_mot, our_rot, our_trs = rms_motor(results)\n",
    "    Ti = RMS['Ti']\n",
    "    Ti['mot'] = our_mot\n",
    "    Ti['rot'] = our_rot\n",
    "    Ti['trs'] = our_trs\n",
    "    _, vd_rot, _ = rms_motor(results_vd)\n",
    "    VD = RMS['VD']\n",
    "    VD['rot'] = vd_rot\n",
    "    return pd.DataFrame(RMS)"
   ]
  },
  {
   "cell_type": "code",
   "execution_count": 80,
   "metadata": {
    "collapsed": true
   },
   "outputs": [],
   "source": [
    "def run_planes(n_planes=10, n_sets=10, n_motors=10, \n",
    "               trs_noise_std=0.0,\n",
    "               rot_noise_std=0.0, \n",
    "               noisy=False):\n",
    "    motors = create_motors(n_motors, d_lims=(-1,1), th_lims=(-pi/2,pi/2))\n",
    "    results = []\n",
    "    results_vd = []\n",
    "    for n_set in range(n_sets):\n",
    "        datasets = [create_random_planes(motor, n_planes, \n",
    "                                         rot_noise_std=rot_noise_std,\n",
    "                                         trs_noise_std=trs_noise_std) \n",
    "                    for motor in motors]\n",
    "        for dataset in datasets:\n",
    "            results.append(estimate_motors_planes(dataset, noisy=noisy))\n",
    "            results_vd.append(estimate_motors_planes_vd(dataset, noisy=noisy))\n",
    "    return (results, results_vd)"
   ]
  },
  {
   "cell_type": "code",
   "execution_count": 81,
   "metadata": {
    "collapsed": true
   },
   "outputs": [],
   "source": [
    "def create_random_planes(motor, n_planes=10,\n",
    "                        trs_noise_std=0.09, rot_noise_std=0.09):\n",
    "    planes = []\n",
    "    for i in range(n_planes):\n",
    "        dir_vec = vsr.Vec(*np.random.uniform(-1,1,3)).unit()\n",
    "        distance = np.random.uniform(0,1)\n",
    "        a = vsr.Dlp(dir_vec,distance)\n",
    "        b = a.spin(motor)\n",
    "        if trs_noise_std > 0.0:\n",
    "            t = vsr.Vec(*np.random.random(3)).unit() * np.random.normal(0.0,trs_noise_std,1)\n",
    "        else:\n",
    "            t = vsr.Vec(0,0,0)\n",
    "            \n",
    "        if rot_noise_std > 0.0:\n",
    "            R = vsr.Rot(vsr.Biv(*np.random.uniform(-1,1,3)).unit() * \n",
    "                            np.random.normal(0, rot_noise_std) * -0.5)\n",
    "        else:\n",
    "            R = vsr.Rot(1,0,0,0)\n",
    "        noise_motor = t.trs() * R\n",
    "        \n",
    "        bn = b.spin(noise_motor)\n",
    "        planes.append((a,b,bn))\n",
    "    return (planes, motor)"
   ]
  },
  {
   "cell_type": "code",
   "execution_count": 82,
   "metadata": {
    "collapsed": true
   },
   "outputs": [],
   "source": [
    "def estimate_motors_planes(dataset, \n",
    "                           initial_motor = vsr.Mot(1.0, 0.0, 0.0, 0.0, 0.0, 0.0, 0.0, 0.0), \n",
    "                           noisy=False):\n",
    "    planes, motor = dataset\n",
    "    mes = MotorEstimationSolver(initial_motor)\n",
    "    if noisy:\n",
    "        for (a, _, bn) in planes:\n",
    "            mes.add_dual_plane_difference_residual_block(a,bn)\n",
    "#             mes.add_dual_plane_angle_error_residual_block(a,bn)\n",
    "    else:\n",
    "        for (a, b, _) in planes:\n",
    "#             mes.add_dual_plane_angle_error_residual_block(a,b)\n",
    "            mes.add_dual_plane_difference_residual_block(a,b)\n",
    "    mes.set_parameterization('BIVECTOR_GENERATOR')\n",
    "    mes.linear_solver_type = 'DENSE_QR'\n",
    "    (estimated_motor, summary, _) = mes.solve()\n",
    "    return (planes, motor, estimated_motor, summary)"
   ]
  },
  {
   "cell_type": "code",
   "execution_count": 83,
   "metadata": {
    "collapsed": true
   },
   "outputs": [],
   "source": [
    "def estimate_motors_planes_vd(dataset, \n",
    "                             initial_motor = vsr.Mot(1.0, 0.0, 0.0, 0.0, 0.0, 0.0, 0.0, 0.0), \n",
    "                             noisy=False):\n",
    "    vd = VDMotorEstimationSolver()\n",
    "    planes, motor = dataset\n",
    "    planes_a = []\n",
    "    planes_b = []\n",
    "    planes_bn = []\n",
    "    for (a,b,bn) in planes:\n",
    "        planes_a.append(a)\n",
    "        planes_b.append(b)\n",
    "        planes_bn.append(bn)\n",
    "    if noisy:\n",
    "        vd.add_dual_plane_observations(planes_a, planes_bn)\n",
    "    else:\n",
    "        vd.add_dual_plane_observations(planes_a, planes_b)\n",
    "    estimated_motor = vd.solve()\n",
    "    return (planes, motor, estimated_motor, [])"
   ]
  },
  {
   "cell_type": "code",
   "execution_count": 84,
   "metadata": {
    "collapsed": false
   },
   "outputs": [],
   "source": [
    "noise_levels = np.linspace(0.1,1.0,10)\n",
    "rmss = [compare_rms_motor(*run_planes(100,32,32,\n",
    "                                      trs_noise_std=noise_level,\n",
    "                                      rot_noise_std=noise_level,\n",
    "                                      noisy=True)) \n",
    "        for noise_level in noise_levels]"
   ]
  },
  {
   "cell_type": "code",
   "execution_count": 73,
   "metadata": {
    "collapsed": false
   },
   "outputs": [
    {
     "data": {
      "text/html": [
       "<div>\n",
       "<table border=\"1\" class=\"dataframe\">\n",
       "  <thead>\n",
       "    <tr style=\"text-align: right;\">\n",
       "      <th></th>\n",
       "      <th>mot</th>\n",
       "      <th>rot</th>\n",
       "      <th>trs</th>\n",
       "      <th>mot</th>\n",
       "      <th>rot</th>\n",
       "      <th>trs</th>\n",
       "      <th>mot</th>\n",
       "      <th>rot</th>\n",
       "      <th>trs</th>\n",
       "      <th>mot</th>\n",
       "      <th>...</th>\n",
       "      <th>trs</th>\n",
       "      <th>mot</th>\n",
       "      <th>rot</th>\n",
       "      <th>trs</th>\n",
       "      <th>mot</th>\n",
       "      <th>rot</th>\n",
       "      <th>trs</th>\n",
       "      <th>mot</th>\n",
       "      <th>rot</th>\n",
       "      <th>trs</th>\n",
       "    </tr>\n",
       "  </thead>\n",
       "  <tbody>\n",
       "    <tr>\n",
       "      <th>Ti</th>\n",
       "      <td>0.000038</td>\n",
       "      <td>0.005658</td>\n",
       "      <td>0.017019</td>\n",
       "      <td>0.000152</td>\n",
       "      <td>0.011527</td>\n",
       "      <td>0.033612</td>\n",
       "      <td>0.000367</td>\n",
       "      <td>0.017072</td>\n",
       "      <td>0.051431</td>\n",
       "      <td>0.000605</td>\n",
       "      <td>...</td>\n",
       "      <td>0.117222</td>\n",
       "      <td>0.002455</td>\n",
       "      <td>0.044304</td>\n",
       "      <td>0.136364</td>\n",
       "      <td>0.003143</td>\n",
       "      <td>0.049254</td>\n",
       "      <td>0.152974</td>\n",
       "      <td>0.003871</td>\n",
       "      <td>0.056038</td>\n",
       "      <td>0.170329</td>\n",
       "    </tr>\n",
       "    <tr>\n",
       "      <th>VD</th>\n",
       "      <td>NaN</td>\n",
       "      <td>0.005659</td>\n",
       "      <td>NaN</td>\n",
       "      <td>NaN</td>\n",
       "      <td>0.011528</td>\n",
       "      <td>NaN</td>\n",
       "      <td>NaN</td>\n",
       "      <td>0.017076</td>\n",
       "      <td>NaN</td>\n",
       "      <td>NaN</td>\n",
       "      <td>...</td>\n",
       "      <td>NaN</td>\n",
       "      <td>NaN</td>\n",
       "      <td>0.044346</td>\n",
       "      <td>NaN</td>\n",
       "      <td>NaN</td>\n",
       "      <td>0.049290</td>\n",
       "      <td>NaN</td>\n",
       "      <td>NaN</td>\n",
       "      <td>0.056136</td>\n",
       "      <td>NaN</td>\n",
       "    </tr>\n",
       "  </tbody>\n",
       "</table>\n",
       "<p>2 rows × 30 columns</p>\n",
       "</div>"
      ],
      "text/plain": [
       "         mot       rot       trs       mot       rot       trs       mot  \\\n",
       "Ti  0.000038  0.005658  0.017019  0.000152  0.011527  0.033612  0.000367   \n",
       "VD       NaN  0.005659       NaN       NaN  0.011528       NaN       NaN   \n",
       "\n",
       "         rot       trs       mot    ...          trs       mot       rot  \\\n",
       "Ti  0.017072  0.051431  0.000605    ...     0.117222  0.002455  0.044304   \n",
       "VD  0.017076       NaN       NaN    ...          NaN       NaN  0.044346   \n",
       "\n",
       "         trs       mot       rot       trs       mot       rot       trs  \n",
       "Ti  0.136364  0.003143  0.049254  0.152974  0.003871  0.056038  0.170329  \n",
       "VD       NaN       NaN  0.049290       NaN       NaN  0.056136       NaN  \n",
       "\n",
       "[2 rows x 30 columns]"
      ]
     },
     "execution_count": 73,
     "metadata": {},
     "output_type": "execute_result"
    }
   ],
   "source": [
    "d = pd.concat(rmss)\n",
    "d.T"
   ]
  },
  {
   "cell_type": "code",
   "execution_count": 87,
   "metadata": {
    "collapsed": false
   },
   "outputs": [
    {
     "data": {
      "text/plain": [
       "<matplotlib.text.Text at 0x11c596860>"
      ]
     },
     "execution_count": 87,
     "metadata": {},
     "output_type": "execute_result"
    },
    {
     "data": {
      "image/png": "[encoded data removed]",
      "text/plain": [
       "<matplotlib.figure.Figure at 0x11bbc80f0>"
      ]
     },
     "metadata": {},
     "output_type": "display_data"
    }
   ],
   "source": [
    "fig, ax = plt.subplots(1)\n",
    "# ax.plot(noise_levels, d['Ti']['trs'], label='Ti trs')\n",
    "# ax.plot(noise_levels, d['Ti']['rot'], label='Ti rot')\n",
    "ax.plot(noise_levels, d['VD']['rot'], label='VD')\n",
    "ax.legend(frameon=False, loc=2)\n",
    "ax.set_ylabel('Mean geometric error')\n",
    "ax.set_xlabel('Gaussian mean deviation of induced noise')\n",
    "# fig.savefig('/Users/lars/latex/latex-phd-thesis/Figures/points-est-deviation.pdf')"
   ]
  },
  {
   "cell_type": "code",
   "execution_count": null,
   "metadata": {
    "collapsed": true
   },
   "outputs": [],
   "source": []
  },
  {
   "cell_type": "code",
   "execution_count": null,
   "metadata": {
    "collapsed": true
   },
   "outputs": [],
   "source": []
  }
 ],
 "metadata": {
  "anaconda-cloud": {},
  "kernelspec": {
   "display_name": "Python [default]",
   "language": "python",
   "name": "python3"
  },
  "language_info": {
   "codemirror_mode": {
    "name": "ipython",
    "version": 3
   },
   "file_extension": ".py",
   "mimetype": "text/x-python",
   "name": "python",
   "nbconvert_exporter": "python",
   "pygments_lexer": "ipython3",
   "version": "3.5.2"
  }
 },
 "nbformat": 4,
 "nbformat_minor": 2
}
