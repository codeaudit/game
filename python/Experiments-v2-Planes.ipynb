{
 "cells": [
  {
   "cell_type": "code",
   "execution_count": 129,
   "metadata": {
    "collapsed": false,
    "deletable": true,
    "editable": true
   },
   "outputs": [
    {
     "name": "stdout",
     "output_type": "stream",
     "text": [
      "Populating the interactive namespace from numpy and matplotlib\n"
     ]
    },
    {
     "name": "stderr",
     "output_type": "stream",
     "text": [
      "/Users/lars/anaconda3/lib/python3.5/site-packages/IPython/core/magics/pylab.py:161: UserWarning: pylab import has clobbered these variables: ['Inf']\n",
      "`%matplotlib` prevents importing * from pylab and numpy\n",
      "  \"\\n`%matplotlib` prevents importing * from pylab and numpy\"\n"
     ]
    }
   ],
   "source": [
    "from __future__ import print_function\n",
    "import sys\n",
    "sys.path.append('../build/')\n",
    "%pylab inline\n",
    "np.set_printoptions(precision=4, suppress=True)\n",
    "import versor as vsr\n",
    "import pandas as pd\n",
    "import seaborn as sns\n",
    "sns.set_style('whitegrid')\n",
    "sns.set_context('paper')\n",
    "from versor.drawing import *\n",
    "from motor_estimation import MotorEstimationSolver\n",
    "from game import VDMotorEstimationSolver\n",
    "from icp import best_fit_transform\n",
    "import pickle"
   ]
  },
  {
   "cell_type": "markdown",
   "metadata": {
    "deletable": true,
    "editable": true
   },
   "source": [
    "# Generate motors"
   ]
  },
  {
   "cell_type": "code",
   "execution_count": 130,
   "metadata": {
    "collapsed": false,
    "deletable": true,
    "editable": true
   },
   "outputs": [],
   "source": [
    "def create_motors(n_motors=10, d_lims=(0,10), th_lims=(-pi,pi)):\n",
    "    motors = [((vsr.Vec(*np.random.random(3)).unit() * np.random.uniform(*d_lims)).trs() * \n",
    "               vsr.Rot(vsr.Biv(*np.random.uniform(-1,1,3)).unit() * np.random.uniform(*th_lims) * -0.5)) \n",
    "              for i in range(n_motors)]\n",
    "    return motors"
   ]
  },
  {
   "cell_type": "markdown",
   "metadata": {
    "collapsed": true,
    "deletable": true,
    "editable": true
   },
   "source": [
    "# Planes"
   ]
  },
  {
   "cell_type": "code",
   "execution_count": 131,
   "metadata": {
    "collapsed": true
   },
   "outputs": [],
   "source": [
    "def rms_motor(results):\n",
    "    rms_rot = []\n",
    "    rms_mot = []\n",
    "    rms_trs = []\n",
    "    for result in results:\n",
    "        (_, m, em, _) = result\n",
    "#         print(m)\n",
    "        \n",
    "#         rot_error = np.min([np.linalg.norm(np.array(m.rot()) - np.array(em.rot())),\n",
    "#                       np.linalg.norm(np.array(m.rot()) + np.array(em.rot()))])\n",
    "#         rot = np.inner(rot_error, rot_error)\n",
    "        \n",
    "#         emm = em.rev() * m\n",
    "#         angle_error = 2 * np.arccos(np.abs(emm[0]))\n",
    "#         rot = angle_error**2\n",
    "#         print('emm: ', rot)\n",
    "        \n",
    "        angle_error = 2 * np.arccos(np.abs(m[0])) - 2 * np.arccos(np.abs(em[0]))\n",
    "        rot = angle_error**2\n",
    "#         print(rot)\n",
    "    \n",
    "#         d = emm.trs()\n",
    "#         print(m)\n",
    "#         print(em)\n",
    "#         print(m.trs())\n",
    "#         print(em.trs())\n",
    "#         print(m.trs() - em.trs())\n",
    "#         print()\n",
    "        d = np.array(m.trs() - em.trs())\n",
    "        trs = np.inner(d,d)\n",
    "        \n",
    "        rl = m.rot()\n",
    "        erl = em.rot()\n",
    "        rerr = np.array((rl * erl.rev()).log())\n",
    "        t = m.trs()\n",
    "        et = em.trs()\n",
    "        terr = np.array(t - et)\n",
    "        \n",
    "#         mot = np.linalg.norm(m * em.rev()) - 1.0\n",
    "        \n",
    "        rms_mot.append(np.inner(rerr,rerr) + np.inner(terr,terr))\n",
    "        rms_rot.append(rot)\n",
    "        rms_trs.append(trs)\n",
    "        \n",
    "#         print('m_during: ', m)\n",
    "        \n",
    "#     print()\n",
    "        \n",
    "\n",
    "    motmean = np.mean(rms_mot)\n",
    "#     rotmean = np.mean(rms_rot)\n",
    "    rotmean = np.sqrt(np.sum(rms_rot) / len(rms_rot))\n",
    "    trsmean = np.sqrt(np.sum(rms_trs) / len(rms_trs)) \n",
    "    return (motmean, rotmean, trsmean)"
   ]
  },
  {
   "cell_type": "code",
   "execution_count": 132,
   "metadata": {
    "collapsed": true
   },
   "outputs": [],
   "source": [
    "def compare_rms_motor(results, results_vd, results_tin):\n",
    "    RMS = {'Ti': {}, \"VD\": {}, 'Ti2': {}}\n",
    "    our_mot, our_rot, our_trs = rms_motor(results)\n",
    "    Ti = RMS['Ti']\n",
    "    Ti['mot'] = our_mot\n",
    "    Ti['rot'] = our_rot\n",
    "    Ti['trs'] = our_trs\n",
    "    _, vd_rot, _ = rms_motor(results_vd)\n",
    "    VD = RMS['VD']\n",
    "    VD['rot'] = vd_rot\n",
    "    our_mot2, our_rot2, our_trs2 = rms_motor(results_tin)\n",
    "    Ti2 = RMS['Ti2']\n",
    "    Ti2['mot'] = our_mot2\n",
    "    Ti2['rot'] = our_rot2\n",
    "    Ti2['trs'] = our_trs2\n",
    "    return pd.DataFrame(RMS)"
   ]
  },
  {
   "cell_type": "code",
   "execution_count": 145,
   "metadata": {
    "collapsed": true
   },
   "outputs": [],
   "source": [
    "def run_planes(n_planes=10, n_sets=10, n_motors=10, \n",
    "               trs_noise_std=0.0,\n",
    "               rot_noise_std=0.0, \n",
    "               noisy=False):\n",
    "    motors = create_motors(n_motors, d_lims=(0, 1), th_lims=(0,pi/2))\n",
    "    results = []\n",
    "    results_vd = []\n",
    "    results_tin = []\n",
    "    for n_set in range(n_sets):\n",
    "        datasets = [create_random_planes(motor, n_planes, \n",
    "                                         rot_noise_std=rot_noise_std,\n",
    "                                         trs_noise_std=trs_noise_std) \n",
    "                    for motor in motors]\n",
    "        for dataset in datasets:\n",
    "            results.append(estimate_motors_planes(dataset, noisy=noisy))\n",
    "            results_vd.append(estimate_motors_planes_vd(dataset, noisy=noisy))\n",
    "            results_tin.append(estimate_motors_planes(dataset, noisy=noisy, commutator=True))\n",
    "    return (results, results_vd, results_tin)"
   ]
  },
  {
   "cell_type": "code",
   "execution_count": 146,
   "metadata": {
    "collapsed": true
   },
   "outputs": [],
   "source": [
    "def create_random_planes(motor, n_planes=10,\n",
    "                        trs_noise_std=0.09, rot_noise_std=0.09):\n",
    "    planes = []\n",
    "    for i in range(n_planes):\n",
    "        dir_vec = vsr.Vec(*np.random.uniform(-1,1,3)).unit()\n",
    "        distance = np.random.uniform(0,1)\n",
    "        a = vsr.Dlp(dir_vec,distance)\n",
    "        b = a.spin(motor)\n",
    "        if trs_noise_std > 0.0:\n",
    "            t = vsr.Vec(*np.random.random(3)).unit() * np.random.normal(0.0,trs_noise_std,1)\n",
    "        else:\n",
    "            t = vsr.Vec(0,0,0)\n",
    "            \n",
    "        if rot_noise_std > 0.0:\n",
    "            R = vsr.Rot(vsr.Biv(*np.random.uniform(-1,1,3)).unit() * \n",
    "                            np.random.normal(0, rot_noise_std) * -0.5)\n",
    "        else:\n",
    "            R = vsr.Rot(1,0,0,0)\n",
    "        noise_motor = t.trs() * R\n",
    "        \n",
    "        bn = a.spin(noise_motor).spin(motor)\n",
    "        planes.append((a,b,bn))\n",
    "    return (planes, motor)"
   ]
  },
  {
   "cell_type": "code",
   "execution_count": 147,
   "metadata": {
    "collapsed": false
   },
   "outputs": [],
   "source": [
    "def estimate_motors_planes(dataset, \n",
    "                           initial_motor = vsr.Mot(1.0, 0.0, 0.0, 0.0, 0.0, 0.0, 0.0, 0.0), \n",
    "                           noisy=False,\n",
    "                          commutator=False):\n",
    "    planes, motor = dataset\n",
    "        \n",
    "    mes = MotorEstimationSolver(initial_motor)\n",
    "    if noisy:\n",
    "        for (a, _, bn) in planes:\n",
    "            if commutator:\n",
    "                mes.add_dual_plane_commutator_residual_block(a,bn)\n",
    "            else:\n",
    "                mes.add_dual_plane_difference_residual_block(a,bn)\n",
    "    else:\n",
    "        for (a, b, _) in planes:\n",
    "            if commutator:\n",
    "                mes.add_dual_plane_commutator_residual_block(a,b)\n",
    "            else:\n",
    "                mes.add_dual_plane_difference_residual_block(a,b)\n",
    "    mes.set_parameterization('BIVECTOR_GENERATOR')\n",
    "    mes.linear_solver_type = 'DENSE_QR'\n",
    "    (estimated_motor, summary, _) = mes.solve()\n",
    "    return (planes, motor, estimated_motor, summary)"
   ]
  },
  {
   "cell_type": "code",
   "execution_count": 148,
   "metadata": {
    "collapsed": true
   },
   "outputs": [],
   "source": [
    "def estimate_motors_planes_lars(dataset, noisy=False):\n",
    "    lines, motor = dataset\n",
    "    \n",
    "    def solve(L):\n",
    "        Lrr = L[:4, :4]\n",
    "        Lrq = L[:4, 4:]\n",
    "        Lqr = L[4:, :4]\n",
    "        Lqq = L[4:, 4:]\n",
    "        Lp = Lrr - np.dot(Lrq, np.dot(np.linalg.pinv(Lqq), Lqr))\n",
    "        w, v = np.linalg.eig(Lp)\n",
    "        r = v[:, np.argmin(w)]\n",
    "        q = np.dot(-np.dot(np.linalg.pinv(Lqq), Lqr), r)\n",
    "        return vsr.Mot(*np.array([r, q]).ravel())\n",
    "\n",
    "    Q = np.zeros((8,8))\n",
    "        \n",
    "    lines_a = []\n",
    "    lines_b = []\n",
    "    lines_bn = []\n",
    "    for (a,b,bn) in lines:\n",
    "        lines_a.append(vsr.CGA(a))\n",
    "        lines_b.append(vsr.CGA(b))\n",
    "        lines_bn.append(vsr.CGA(bn))\n",
    "        \n",
    "    if noisy:\n",
    "        for b,a in zip(lines_a, lines_bn):\n",
    "            D = np.zeros((32,8))\n",
    "            for i in range(8):\n",
    "                ei = vsr.Mot(0,0,0,0,0,0,0,0)\n",
    "                ei[i] = 1.0\n",
    "                ei = vsr.CGA(ei)\n",
    "                D[:,i] = np.array(a * ei - ei * b)\n",
    "            Q += np.dot(D.T,D)\n",
    "    else:\n",
    "        for b,a in zip(lines_a, lines_b):\n",
    "            D = np.zeros((32,8))\n",
    "            for i in range(8):\n",
    "                ei = vsr.Mot(0,0,0,0,0,0,0,0)\n",
    "                ei[i] = 1.0\n",
    "                ei = vsr.CGA(ei)\n",
    "                D[:,i] = np.array(a * ei - ei * b)\n",
    "            Q += np.dot(D.T,D)\n",
    "\n",
    "    estimated_motor = solve(Q)\n",
    "    if np.abs((estimated_motor * estimated_motor.rev())[7])  > 0.0000000001:\n",
    "        print(wrong)\n",
    "              \n",
    "    if np.sign(estimated_motor[0]) != np.sign(motor[0]):\n",
    "        estimated_motor = estimated_motor * -1.0\n",
    "        \n",
    "    return (lines, motor, estimated_motor, _)"
   ]
  },
  {
   "cell_type": "code",
   "execution_count": 149,
   "metadata": {
    "collapsed": true
   },
   "outputs": [],
   "source": [
    "def estimate_motors_planes_vd(dataset, \n",
    "                             initial_motor = vsr.Mot(1.0, 0.0, 0.0, 0.0, 0.0, 0.0, 0.0, 0.0), \n",
    "                             noisy=False):\n",
    "    vd = VDMotorEstimationSolver()\n",
    "    planes, motor = dataset\n",
    "    planes_a = []\n",
    "    planes_b = []\n",
    "    planes_bn = []\n",
    "    for (a,b,bn) in planes:\n",
    "        planes_a.append(a)\n",
    "        planes_b.append(b)\n",
    "        planes_bn.append(bn)\n",
    "    if noisy:\n",
    "        vd.add_dual_plane_observations(planes_a, planes_bn)\n",
    "    else:\n",
    "        vd.add_dual_plane_observations(planes_a, planes_b)\n",
    "\n",
    "    estimated_motor = vd.solve()\n",
    "        \n",
    "    if np.sign(estimated_motor[0]) != np.sign(motor[0]):\n",
    "        estimated_motor = estimated_motor * -1.0\n",
    "    \n",
    "    return (planes, motor, estimated_motor, [])"
   ]
  },
  {
   "cell_type": "code",
   "execution_count": 159,
   "metadata": {
    "collapsed": false
   },
   "outputs": [],
   "source": [
    "n_noise_levels = 10\n",
    "noise_levels_rot = np.linspace(0.0, 0.1, n_noise_levels)\n",
    "noise_levels_trs = np.linspace(0.0, 0.01, n_noise_levels)\n",
    "\n",
    "rmss = [compare_rms_motor(*run_planes(32,32,32,\n",
    "                                      trs_noise_std=noise_level_trs,\n",
    "                                      rot_noise_std=noise_level_rot,\n",
    "                                      noisy=True)) \n",
    "        for noise_level_rot, noise_level_trs in zip(noise_levels_rot, noise_levels_trs) ]"
   ]
  },
  {
   "cell_type": "code",
   "execution_count": 160,
   "metadata": {
    "collapsed": false
   },
   "outputs": [
    {
     "data": {
      "text/html": [
       "<div>\n",
       "<table border=\"1\" class=\"dataframe\">\n",
       "  <thead>\n",
       "    <tr style=\"text-align: right;\">\n",
       "      <th></th>\n",
       "      <th>mot</th>\n",
       "      <th>rot</th>\n",
       "      <th>trs</th>\n",
       "      <th>mot</th>\n",
       "      <th>rot</th>\n",
       "      <th>trs</th>\n",
       "      <th>mot</th>\n",
       "      <th>rot</th>\n",
       "      <th>trs</th>\n",
       "      <th>mot</th>\n",
       "      <th>...</th>\n",
       "      <th>trs</th>\n",
       "      <th>mot</th>\n",
       "      <th>rot</th>\n",
       "      <th>trs</th>\n",
       "      <th>mot</th>\n",
       "      <th>rot</th>\n",
       "      <th>trs</th>\n",
       "      <th>mot</th>\n",
       "      <th>rot</th>\n",
       "      <th>trs</th>\n",
       "    </tr>\n",
       "  </thead>\n",
       "  <tbody>\n",
       "    <tr>\n",
       "      <th>Ti</th>\n",
       "      <td>1.521064e-17</td>\n",
       "      <td>6.541406e-11</td>\n",
       "      <td>3.899194e-09</td>\n",
       "      <td>0.000003</td>\n",
       "      <td>0.001360</td>\n",
       "      <td>0.001335</td>\n",
       "      <td>0.000011</td>\n",
       "      <td>0.002848</td>\n",
       "      <td>0.002336</td>\n",
       "      <td>0.000028</td>\n",
       "      <td>...</td>\n",
       "      <td>0.007509</td>\n",
       "      <td>0.000158</td>\n",
       "      <td>0.009890</td>\n",
       "      <td>0.009160</td>\n",
       "      <td>0.000199</td>\n",
       "      <td>0.011206</td>\n",
       "      <td>0.010254</td>\n",
       "      <td>0.000321</td>\n",
       "      <td>0.012967</td>\n",
       "      <td>0.014049</td>\n",
       "    </tr>\n",
       "    <tr>\n",
       "      <th>Ti2</th>\n",
       "      <td>1.101645e-17</td>\n",
       "      <td>8.950844e-11</td>\n",
       "      <td>3.318250e-09</td>\n",
       "      <td>0.000004</td>\n",
       "      <td>0.001451</td>\n",
       "      <td>0.001496</td>\n",
       "      <td>0.000013</td>\n",
       "      <td>0.002968</td>\n",
       "      <td>0.002584</td>\n",
       "      <td>0.000033</td>\n",
       "      <td>...</td>\n",
       "      <td>0.008515</td>\n",
       "      <td>0.000192</td>\n",
       "      <td>0.010363</td>\n",
       "      <td>0.010518</td>\n",
       "      <td>0.000244</td>\n",
       "      <td>0.011722</td>\n",
       "      <td>0.011881</td>\n",
       "      <td>0.000416</td>\n",
       "      <td>0.014002</td>\n",
       "      <td>0.016578</td>\n",
       "    </tr>\n",
       "    <tr>\n",
       "      <th>VD</th>\n",
       "      <td>NaN</td>\n",
       "      <td>4.299193e-15</td>\n",
       "      <td>NaN</td>\n",
       "      <td>NaN</td>\n",
       "      <td>0.001359</td>\n",
       "      <td>NaN</td>\n",
       "      <td>NaN</td>\n",
       "      <td>0.002848</td>\n",
       "      <td>NaN</td>\n",
       "      <td>NaN</td>\n",
       "      <td>...</td>\n",
       "      <td>NaN</td>\n",
       "      <td>NaN</td>\n",
       "      <td>0.009891</td>\n",
       "      <td>NaN</td>\n",
       "      <td>NaN</td>\n",
       "      <td>0.011207</td>\n",
       "      <td>NaN</td>\n",
       "      <td>NaN</td>\n",
       "      <td>0.012967</td>\n",
       "      <td>NaN</td>\n",
       "    </tr>\n",
       "  </tbody>\n",
       "</table>\n",
       "<p>3 rows × 30 columns</p>\n",
       "</div>"
      ],
      "text/plain": [
       "              mot           rot           trs       mot       rot       trs  \\\n",
       "Ti   1.521064e-17  6.541406e-11  3.899194e-09  0.000003  0.001360  0.001335   \n",
       "Ti2  1.101645e-17  8.950844e-11  3.318250e-09  0.000004  0.001451  0.001496   \n",
       "VD            NaN  4.299193e-15           NaN       NaN  0.001359       NaN   \n",
       "\n",
       "          mot       rot       trs       mot    ...          trs       mot  \\\n",
       "Ti   0.000011  0.002848  0.002336  0.000028    ...     0.007509  0.000158   \n",
       "Ti2  0.000013  0.002968  0.002584  0.000033    ...     0.008515  0.000192   \n",
       "VD        NaN  0.002848       NaN       NaN    ...          NaN       NaN   \n",
       "\n",
       "          rot       trs       mot       rot       trs       mot       rot  \\\n",
       "Ti   0.009890  0.009160  0.000199  0.011206  0.010254  0.000321  0.012967   \n",
       "Ti2  0.010363  0.010518  0.000244  0.011722  0.011881  0.000416  0.014002   \n",
       "VD   0.009891       NaN       NaN  0.011207       NaN       NaN  0.012967   \n",
       "\n",
       "          trs  \n",
       "Ti   0.014049  \n",
       "Ti2  0.016578  \n",
       "VD        NaN  \n",
       "\n",
       "[3 rows x 30 columns]"
      ]
     },
     "execution_count": 160,
     "metadata": {},
     "output_type": "execute_result"
    }
   ],
   "source": [
    "d = pd.concat(rmss)\n",
    "d.T"
   ]
  },
  {
   "cell_type": "code",
   "execution_count": 161,
   "metadata": {
    "collapsed": false
   },
   "outputs": [
    {
     "data": {
      "text/plain": [
       "<matplotlib.text.Text at 0x122e1f898>"
      ]
     },
     "execution_count": 161,
     "metadata": {},
     "output_type": "execute_result"
    },
    {
     "data": {
      "image/png": "[encoded data removed]",
      "text/plain": [
       "<matplotlib.figure.Figure at 0x122cbfdd8>"
      ]
     },
     "metadata": {},
     "output_type": "display_data"
    }
   ],
   "source": [
    "fig, ax = plt.subplots(1)\n",
    "\n",
    "ax.plot(noise_levels_rot, d['Ti2']['rot'], label='TiComm rot')\n",
    "ax.plot(noise_levels_rot, d['Ti']['rot'], label='Ti rot')\n",
    "ax.plot(noise_levels_rot, d['VD']['rot'], label='VD')\n",
    "ax.legend(frameon=False, loc=2)\n",
    "ax.set_ylabel('Mean geometric error')\n",
    "ax.set_xlabel('Gaussian mean deviation of induced noise')\n",
    "# fig.savefig('/Users/lars/latex/latex-phd-thesis/Figures/planes-est-deviation.pdf')"
   ]
  },
  {
   "cell_type": "code",
   "execution_count": 163,
   "metadata": {
    "collapsed": false
   },
   "outputs": [
    {
     "data": {
      "text/plain": [
       "<matplotlib.text.Text at 0x125f9b080>"
      ]
     },
     "execution_count": 163,
     "metadata": {},
     "output_type": "execute_result"
    },
    {
     "data": {
      "image/png": "[encoded data removed]",
      "text/plain": [
       "<matplotlib.figure.Figure at 0x124ed3278>"
      ]
     },
     "metadata": {},
     "output_type": "display_data"
    }
   ],
   "source": [
    "fig, ax = plt.subplots(1)\n",
    "\n",
    "ax.plot(noise_levels, d['VD']['trs'], label='VD trs')\n",
    "ax.plot(noise_levels_trs, d['Ti2']['trs'], label='Ti2 trs')\n",
    "ax.plot(noise_levels_trs, d['Ti']['trs'], label='Ti trs')\n",
    "\n",
    "ax.legend(frameon=False, loc=2)\n",
    "ax.set_ylabel('Mean geometric error')\n",
    "ax.set_xlabel('Gaussian mean deviation of induced noise')"
   ]
  },
  {
   "cell_type": "code",
   "execution_count": null,
   "metadata": {
    "collapsed": true
   },
   "outputs": [],
   "source": []
  }
 ],
 "metadata": {
  "anaconda-cloud": {},
  "kernelspec": {
   "display_name": "Python [default]",
   "language": "python",
   "name": "python3"
  },
  "language_info": {
   "codemirror_mode": {
    "name": "ipython",
    "version": 3
   },
   "file_extension": ".py",
   "mimetype": "text/x-python",
   "name": "python",
   "nbconvert_exporter": "python",
   "pygments_lexer": "ipython3",
   "version": "3.5.2"
  }
 },
 "nbformat": 4,
 "nbformat_minor": 2
}
