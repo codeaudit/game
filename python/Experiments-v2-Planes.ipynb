{
 "cells": [
  {
   "cell_type": "code",
   "execution_count": 129,
   "metadata": {
    "collapsed": false,
    "deletable": true,
    "editable": true
   },
   "outputs": [
    {
     "name": "stdout",
     "output_type": "stream",
     "text": [
      "Populating the interactive namespace from numpy and matplotlib\n"
     ]
    },
    {
     "name": "stderr",
     "output_type": "stream",
     "text": [
      "/Users/lars/anaconda3/lib/python3.5/site-packages/IPython/core/magics/pylab.py:161: UserWarning: pylab import has clobbered these variables: ['Inf']\n",
      "`%matplotlib` prevents importing * from pylab and numpy\n",
      "  \"\\n`%matplotlib` prevents importing * from pylab and numpy\"\n"
     ]
    }
   ],
   "source": [
    "from __future__ import print_function\n",
    "import sys\n",
    "sys.path.append('../build/')\n",
    "%pylab inline\n",
    "np.set_printoptions(precision=4, suppress=True)\n",
    "import versor as vsr\n",
    "import pandas as pd\n",
    "import seaborn as sns\n",
    "sns.set_style('whitegrid')\n",
    "sns.set_context('paper')\n",
    "from versor.drawing import *\n",
    "from motor_estimation import MotorEstimationSolver\n",
    "from game import VDMotorEstimationSolver\n",
    "from icp import best_fit_transform\n",
    "import pickle"
   ]
  },
  {
   "cell_type": "markdown",
   "metadata": {
    "deletable": true,
    "editable": true
   },
   "source": [
    "# Generate motors"
   ]
  },
  {
   "cell_type": "code",
   "execution_count": 130,
   "metadata": {
    "collapsed": false,
    "deletable": true,
    "editable": true
   },
   "outputs": [],
   "source": [
    "def create_motors(n_motors=10, d_lims=(0,10), th_lims=(-pi,pi)):\n",
    "    motors = [((vsr.Vec(*np.random.random(3)).unit() * np.random.uniform(*d_lims)).trs() * \n",
    "               vsr.Rot(vsr.Biv(*np.random.uniform(-1,1,3)).unit() * np.random.uniform(*th_lims) * -0.5)) \n",
    "              for i in range(n_motors)]\n",
    "    return motors"
   ]
  },
  {
   "cell_type": "markdown",
   "metadata": {
    "collapsed": true,
    "deletable": true,
    "editable": true
   },
   "source": [
    "# Planes"
   ]
  },
  {
   "cell_type": "code",
   "execution_count": 353,
   "metadata": {
    "collapsed": true
   },
   "outputs": [],
   "source": [
    "def rms_motor(results):\n",
    "    rms_rot = []\n",
    "    rms_mot = []\n",
    "    rms_trs = []\n",
    "    for result in results:\n",
    "        (_, m, em, _) = result\n",
    "        \n",
    "#         rot_error = np.min([np.linalg.norm(np.array(m.rot()) - np.array(em.rot())),\n",
    "#                       np.linalg.norm(np.array(m.rot()) + np.array(em.rot()))])\n",
    "#         rot = np.inner(rot_error, rot_error)\n",
    "        \n",
    "        emm = em.rev() * m\n",
    "        angle_error = 2 * np.arccos(np.abs(emm[0]))\n",
    "        rot = angle_error**2\n",
    "        \n",
    "#         angle_error = 2 * np.arccos(np.abs(m[0])) - 2 * np.arccos(np.abs(em[0]))\n",
    "        angle_error2 = 2 * np.arctan2(emm.rot().biv().norm(), emm[0])\n",
    "        rot2 = angle_error2**2\n",
    "    \n",
    "        d1 = np.array(m.trs() - em.trs())\n",
    "        trs2 = np.inner(d1,d1)\n",
    "        d = emm.trs()\n",
    "        trs = np.inner(d,d)\n",
    "        \n",
    "        rms_mot.append(trs2)\n",
    "        rms_rot.append(rot)\n",
    "        rms_trs.append(trs)\n",
    "        \n",
    "#         print('m_during: ', m)\n",
    "        \n",
    "#     print()\n",
    "        \n",
    "\n",
    "    motmean = np.sqrt(np.sum(rms_mot) / len(rms_mot))\n",
    "#     rotmean = np.mean(rms_rot)\n",
    "    rotmean = np.sqrt(np.sum(rms_rot) / len(rms_rot))\n",
    "    trsmean = np.sqrt(np.sum(rms_trs) / len(rms_trs)) \n",
    "    return (motmean, rotmean, trsmean)"
   ]
  },
  {
   "cell_type": "code",
   "execution_count": 354,
   "metadata": {
    "collapsed": true
   },
   "outputs": [],
   "source": [
    "def compare_rms_motor(results, results_vd, results_tin):\n",
    "    RMS = {'Ti': {}, \"VD\": {}, 'Ti2': {}}\n",
    "    our_mot, our_rot, our_trs = rms_motor(results)\n",
    "    Ti = RMS['Ti']\n",
    "    Ti['mot'] = our_mot\n",
    "    Ti['rot'] = our_rot\n",
    "    Ti['trs'] = our_trs\n",
    "    \n",
    "    vd_mot, vd_rot, _ = rms_motor(results_vd)\n",
    "    VD = RMS['VD']\n",
    "    VD['rot'] = vd_rot\n",
    "    VD['mot'] = vd_mot\n",
    "    \n",
    "    our_mot2, our_rot2, our_trs2 = rms_motor(results_tin)\n",
    "    Ti2 = RMS['Ti2']\n",
    "    Ti2['mot'] = our_mot2\n",
    "    Ti2['rot'] = our_rot2\n",
    "    Ti2['trs'] = our_trs2\n",
    "    return pd.DataFrame(RMS)"
   ]
  },
  {
   "cell_type": "code",
   "execution_count": 355,
   "metadata": {
    "collapsed": true
   },
   "outputs": [],
   "source": [
    "def run_planes(n_planes=10, n_sets=10, n_motors=10, \n",
    "               trs_noise_std=0.0,\n",
    "               rot_noise_std=0.0, \n",
    "               noisy=False):\n",
    "    motors = create_motors(n_motors, d_lims=(0, 1), th_lims=(0,pi/2))\n",
    "    results = []\n",
    "    results_vd = []\n",
    "    results_tin = []\n",
    "    for n_set in range(n_sets):\n",
    "        datasets = [create_random_planes(motor, n_planes, \n",
    "                                         rot_noise_std=rot_noise_std,\n",
    "                                         trs_noise_std=trs_noise_std) \n",
    "                    for motor in motors]\n",
    "        for dataset in datasets:\n",
    "            results.append(estimate_motors_planes(dataset, noisy=noisy))\n",
    "            results_vd.append(estimate_motors_planes_vd(dataset, noisy=noisy))\n",
    "            results_tin.append(estimate_motors_planes(dataset, noisy=noisy, commutator=True))\n",
    "    return (results, results_vd, results_tin)"
   ]
  },
  {
   "cell_type": "code",
   "execution_count": 356,
   "metadata": {
    "collapsed": true
   },
   "outputs": [],
   "source": [
    "def create_random_planes(motor, n_planes=10,\n",
    "                        trs_noise_std=0.09, rot_noise_std=0.09):\n",
    "    planes = []\n",
    "    for i in range(n_planes):\n",
    "        dir_vec = vsr.Vec(*np.random.uniform(-1,1,3)).unit()\n",
    "        distance = np.random.uniform(0,1)\n",
    "        a = vsr.Dlp(dir_vec,distance)\n",
    "        b = a.spin(motor)\n",
    "        if trs_noise_std > 0.0:\n",
    "            t = vsr.Vec(*np.random.random(3)).unit() * np.random.normal(0.0,trs_noise_std,1)\n",
    "        else:\n",
    "            t = vsr.Vec(0,0,0)\n",
    "            \n",
    "        if rot_noise_std > 0.0:\n",
    "            R = vsr.Rot(vsr.Biv(*np.random.uniform(-1,1,3)).unit() * \n",
    "                            np.random.normal(0, rot_noise_std) * -0.5)\n",
    "        else:\n",
    "            R = vsr.Rot(1,0,0,0)\n",
    "        noise_motor = t.trs() * R\n",
    "        \n",
    "        bn = a.spin(noise_motor).spin(motor)\n",
    "        planes.append((a,b,bn))\n",
    "    return (planes, motor)"
   ]
  },
  {
   "cell_type": "code",
   "execution_count": 357,
   "metadata": {
    "collapsed": false
   },
   "outputs": [],
   "source": [
    "def estimate_motors_planes(dataset, \n",
    "                           initial_motor = vsr.Mot(1.0, 0.0, 0.0, 0.0, 0.0, 0.0, 0.0, 0.0), \n",
    "                           noisy=False,\n",
    "                          commutator=False):\n",
    "    planes, motor = dataset\n",
    "        \n",
    "    mes = MotorEstimationSolver(initial_motor)\n",
    "    if noisy:\n",
    "        for (a, _, bn) in planes:\n",
    "            if commutator:\n",
    "                mes.add_dual_plane_commutator_residual_block(a,bn)\n",
    "            else:\n",
    "                mes.add_dual_plane_difference_residual_block(a,bn)\n",
    "    else:\n",
    "        for (a, b, _) in planes:\n",
    "            if commutator:\n",
    "                mes.add_dual_plane_commutator_residual_block(a,b)\n",
    "            else:\n",
    "                mes.add_dual_plane_difference_residual_block(a,b)\n",
    "    mes.set_parameterization('BIVECTOR_GENERATOR')\n",
    "    mes.linear_solver_type = 'DENSE_QR'\n",
    "    (estimated_motor, summary, _) = mes.solve()\n",
    "    return (planes, motor, estimated_motor, summary)"
   ]
  },
  {
   "cell_type": "code",
   "execution_count": 358,
   "metadata": {
    "collapsed": true
   },
   "outputs": [],
   "source": [
    "def estimate_motors_planes_lars(dataset, noisy=False):\n",
    "    lines, motor = dataset\n",
    "    \n",
    "    def solve(L):\n",
    "        Lrr = L[:4, :4]\n",
    "        Lrq = L[:4, 4:]\n",
    "        Lqr = L[4:, :4]\n",
    "        Lqq = L[4:, 4:]\n",
    "        Lp = Lrr - np.dot(Lrq, np.dot(np.linalg.pinv(Lqq), Lqr))\n",
    "        w, v = np.linalg.eig(Lp)\n",
    "        r = v[:, np.argmin(w)]\n",
    "        q = np.dot(-np.dot(np.linalg.pinv(Lqq), Lqr), r)\n",
    "        return vsr.Mot(*np.array([r, q]).ravel())\n",
    "\n",
    "    Q = np.zeros((8,8))\n",
    "        \n",
    "    lines_a = []\n",
    "    lines_b = []\n",
    "    lines_bn = []\n",
    "    for (a,b,bn) in lines:\n",
    "        lines_a.append(vsr.CGA(a))\n",
    "        lines_b.append(vsr.CGA(b))\n",
    "        lines_bn.append(vsr.CGA(bn))\n",
    "        \n",
    "    if noisy:\n",
    "        for b,a in zip(lines_a, lines_bn):\n",
    "            D = np.zeros((32,8))\n",
    "            for i in range(8):\n",
    "                ei = vsr.Mot(0,0,0,0,0,0,0,0)\n",
    "                ei[i] = 1.0\n",
    "                ei = vsr.CGA(ei)\n",
    "                D[:,i] = np.array(a * ei - ei * b)\n",
    "            Q += np.dot(D.T,D)\n",
    "    else:\n",
    "        for b,a in zip(lines_a, lines_b):\n",
    "            D = np.zeros((32,8))\n",
    "            for i in range(8):\n",
    "                ei = vsr.Mot(0,0,0,0,0,0,0,0)\n",
    "                ei[i] = 1.0\n",
    "                ei = vsr.CGA(ei)\n",
    "                D[:,i] = np.array(a * ei - ei * b)\n",
    "            Q += np.dot(D.T,D)\n",
    "\n",
    "    estimated_motor = solve(Q)\n",
    "    if np.abs((estimated_motor * estimated_motor.rev())[7])  > 0.0000000001:\n",
    "        print(wrong)\n",
    "              \n",
    "    if np.sign(estimated_motor[0]) != np.sign(motor[0]):\n",
    "        estimated_motor = estimated_motor * -1.0\n",
    "        \n",
    "    return (lines, motor, estimated_motor, _)"
   ]
  },
  {
   "cell_type": "code",
   "execution_count": 359,
   "metadata": {
    "collapsed": true
   },
   "outputs": [],
   "source": [
    "def estimate_motors_planes_vd(dataset, \n",
    "                             initial_motor = vsr.Mot(1.0, 0.0, 0.0, 0.0, 0.0, 0.0, 0.0, 0.0), \n",
    "                             noisy=False):\n",
    "    vd = VDMotorEstimationSolver()\n",
    "    planes, motor = dataset\n",
    "    planes_a = []\n",
    "    planes_b = []\n",
    "    planes_bn = []\n",
    "    for (a,b,bn) in planes:\n",
    "        planes_a.append(a)\n",
    "        planes_b.append(b)\n",
    "        planes_bn.append(bn)\n",
    "    if noisy:\n",
    "        vd.add_dual_plane_observations(planes_a, planes_bn)\n",
    "    else:\n",
    "        vd.add_dual_plane_observations(planes_a, planes_b)\n",
    "\n",
    "    estimated_motor = vd.solve()\n",
    "        \n",
    "    if np.sign(estimated_motor[0]) != np.sign(motor[0]):\n",
    "        estimated_motor = estimated_motor * -1.0\n",
    "    \n",
    "    return (planes, motor, estimated_motor, [])"
   ]
  },
  {
   "cell_type": "code",
   "execution_count": 360,
   "metadata": {
    "collapsed": false
   },
   "outputs": [],
   "source": [
    "n_noise_levels = 10\n",
    "noise_levels_rot = np.linspace(0.0001, 0.1, n_noise_levels)\n",
    "noise_levels_trs = np.linspace(0.0001, 0.01, n_noise_levels)\n",
    "\n",
    "rmss = [compare_rms_motor(*run_planes(10,10,10,\n",
    "                                      trs_noise_std=noise_level_trs,\n",
    "                                      rot_noise_std=noise_level_rot,\n",
    "                                      noisy=True)) \n",
    "        for noise_level_rot, noise_level_trs in zip(noise_levels_rot, noise_levels_trs) ]"
   ]
  },
  {
   "cell_type": "code",
   "execution_count": 361,
   "metadata": {
    "collapsed": false
   },
   "outputs": [
    {
     "data": {
      "text/html": [
       "<div>\n",
       "<table border=\"1\" class=\"dataframe\">\n",
       "  <thead>\n",
       "    <tr style=\"text-align: right;\">\n",
       "      <th></th>\n",
       "      <th>mot</th>\n",
       "      <th>rot</th>\n",
       "      <th>trs</th>\n",
       "      <th>mot</th>\n",
       "      <th>rot</th>\n",
       "      <th>trs</th>\n",
       "      <th>mot</th>\n",
       "      <th>rot</th>\n",
       "      <th>trs</th>\n",
       "      <th>mot</th>\n",
       "      <th>...</th>\n",
       "      <th>trs</th>\n",
       "      <th>mot</th>\n",
       "      <th>rot</th>\n",
       "      <th>trs</th>\n",
       "      <th>mot</th>\n",
       "      <th>rot</th>\n",
       "      <th>trs</th>\n",
       "      <th>mot</th>\n",
       "      <th>rot</th>\n",
       "      <th>trs</th>\n",
       "    </tr>\n",
       "  </thead>\n",
       "  <tbody>\n",
       "    <tr>\n",
       "      <th>Ti</th>\n",
       "      <td>0.000069</td>\n",
       "      <td>0.000040</td>\n",
       "      <td>0.000069</td>\n",
       "      <td>0.002687</td>\n",
       "      <td>0.004918</td>\n",
       "      <td>0.002687</td>\n",
       "      <td>0.006834</td>\n",
       "      <td>0.008168</td>\n",
       "      <td>0.006834</td>\n",
       "      <td>0.007817</td>\n",
       "      <td>...</td>\n",
       "      <td>0.012923</td>\n",
       "      <td>0.013172</td>\n",
       "      <td>0.030601</td>\n",
       "      <td>0.013172</td>\n",
       "      <td>0.023528</td>\n",
       "      <td>0.037850</td>\n",
       "      <td>0.023528</td>\n",
       "      <td>0.022038</td>\n",
       "      <td>0.040012</td>\n",
       "      <td>0.022038</td>\n",
       "    </tr>\n",
       "    <tr>\n",
       "      <th>Ti2</th>\n",
       "      <td>0.000071</td>\n",
       "      <td>0.000042</td>\n",
       "      <td>0.000071</td>\n",
       "      <td>0.002936</td>\n",
       "      <td>0.005096</td>\n",
       "      <td>0.002936</td>\n",
       "      <td>0.007342</td>\n",
       "      <td>0.008401</td>\n",
       "      <td>0.007342</td>\n",
       "      <td>0.008283</td>\n",
       "      <td>...</td>\n",
       "      <td>0.014870</td>\n",
       "      <td>0.013915</td>\n",
       "      <td>0.031756</td>\n",
       "      <td>0.013915</td>\n",
       "      <td>0.025123</td>\n",
       "      <td>0.038544</td>\n",
       "      <td>0.025123</td>\n",
       "      <td>0.024045</td>\n",
       "      <td>0.040933</td>\n",
       "      <td>0.024045</td>\n",
       "    </tr>\n",
       "    <tr>\n",
       "      <th>VD</th>\n",
       "      <td>0.700408</td>\n",
       "      <td>0.000040</td>\n",
       "      <td>NaN</td>\n",
       "      <td>0.612773</td>\n",
       "      <td>0.004918</td>\n",
       "      <td>NaN</td>\n",
       "      <td>0.600404</td>\n",
       "      <td>0.008168</td>\n",
       "      <td>NaN</td>\n",
       "      <td>0.544607</td>\n",
       "      <td>...</td>\n",
       "      <td>NaN</td>\n",
       "      <td>0.405962</td>\n",
       "      <td>0.030602</td>\n",
       "      <td>NaN</td>\n",
       "      <td>0.637703</td>\n",
       "      <td>0.037851</td>\n",
       "      <td>NaN</td>\n",
       "      <td>0.554087</td>\n",
       "      <td>0.040014</td>\n",
       "      <td>NaN</td>\n",
       "    </tr>\n",
       "  </tbody>\n",
       "</table>\n",
       "<p>3 rows × 30 columns</p>\n",
       "</div>"
      ],
      "text/plain": [
       "          mot       rot       trs       mot       rot       trs       mot  \\\n",
       "Ti   0.000069  0.000040  0.000069  0.002687  0.004918  0.002687  0.006834   \n",
       "Ti2  0.000071  0.000042  0.000071  0.002936  0.005096  0.002936  0.007342   \n",
       "VD   0.700408  0.000040       NaN  0.612773  0.004918       NaN  0.600404   \n",
       "\n",
       "          rot       trs       mot    ...          trs       mot       rot  \\\n",
       "Ti   0.008168  0.006834  0.007817    ...     0.012923  0.013172  0.030601   \n",
       "Ti2  0.008401  0.007342  0.008283    ...     0.014870  0.013915  0.031756   \n",
       "VD   0.008168       NaN  0.544607    ...          NaN  0.405962  0.030602   \n",
       "\n",
       "          trs       mot       rot       trs       mot       rot       trs  \n",
       "Ti   0.013172  0.023528  0.037850  0.023528  0.022038  0.040012  0.022038  \n",
       "Ti2  0.013915  0.025123  0.038544  0.025123  0.024045  0.040933  0.024045  \n",
       "VD        NaN  0.637703  0.037851       NaN  0.554087  0.040014       NaN  \n",
       "\n",
       "[3 rows x 30 columns]"
      ]
     },
     "execution_count": 361,
     "metadata": {},
     "output_type": "execute_result"
    }
   ],
   "source": [
    "d = pd.concat(rmss)\n",
    "d.T"
   ]
  },
  {
   "cell_type": "code",
   "execution_count": 352,
   "metadata": {
    "collapsed": false
   },
   "outputs": [
    {
     "data": {
      "text/plain": [
       "<matplotlib.text.Text at 0x124595dd8>"
      ]
     },
     "execution_count": 352,
     "metadata": {},
     "output_type": "execute_result"
    },
    {
     "data": {
      "image/png": "[encoded data removed]",
      "text/plain": [
       "<matplotlib.figure.Figure at 0x1246da630>"
      ]
     },
     "metadata": {},
     "output_type": "display_data"
    }
   ],
   "source": [
    "fig, ax = plt.subplots(1)\n",
    "\n",
    "# ax.plot(noise_levels_rot, d['Ti2']['rot'], label='Ti commutator')\n",
    "ax.plot(noise_levels_rot, d['Ti']['rot'], marker='*', label='Ti chordal')\n",
    "ax.plot(noise_levels_rot, d['Ti']['mot'], marker='*', label='Ti chordal')\n",
    "\n",
    "# ax.plot(noise_levels_rot, d['VD']['rot'], label='VD')\n",
    "\n",
    "\n",
    "\n",
    "\n",
    "ax.legend(frameon=False, loc=2)\n",
    "ax.set_ylabel('Mean geometric error')\n",
    "ax.set_xlabel('Gaussian mean deviation of induced noise')\n",
    "# fig.savefig('/Users/lars/latex/latex-phd-thesis/Figures/planes-.pdf')"
   ]
  },
  {
   "cell_type": "code",
   "execution_count": 327,
   "metadata": {
    "collapsed": false
   },
   "outputs": [
    {
     "data": {
      "text/plain": [
       "<matplotlib.text.Text at 0x1236713c8>"
      ]
     },
     "execution_count": 327,
     "metadata": {},
     "output_type": "execute_result"
    },
    {
     "data": {
      "image/png": "[encoded data removed]",
      "text/plain": [
       "<matplotlib.figure.Figure at 0x123640c88>"
      ]
     },
     "metadata": {},
     "output_type": "display_data"
    }
   ],
   "source": [
    "fig, ax = plt.subplots(1)\n",
    "\n",
    "ax.plot(noise_levels_trs, d['VD']['trs'], label='VD trs')\n",
    "ax.plot(noise_levels_trs, d['Ti2']['trs'],marker='o', label='Ti commutator')\n",
    "ax.plot(noise_levels_trs, d['Ti']['trs'], label='Ti chordal')\n",
    "\n",
    "\n",
    "\n",
    "ax.legend(frameon=False, loc=2)\n",
    "ax.set_ylabel('Mean geometric error')\n",
    "ax.set_xlabel('Gaussian mean deviation of induced noise')"
   ]
  },
  {
   "cell_type": "code",
   "execution_count": null,
   "metadata": {
    "collapsed": true
   },
   "outputs": [],
   "source": []
  }
 ],
 "metadata": {
  "anaconda-cloud": {},
  "kernelspec": {
   "display_name": "Python [default]",
   "language": "python",
   "name": "python3"
  },
  "language_info": {
   "codemirror_mode": {
    "name": "ipython",
    "version": 3
   },
   "file_extension": ".py",
   "mimetype": "text/x-python",
   "name": "python",
   "nbconvert_exporter": "python",
   "pygments_lexer": "ipython3",
   "version": "3.5.2"
  }
 },
 "nbformat": 4,
 "nbformat_minor": 2
}
