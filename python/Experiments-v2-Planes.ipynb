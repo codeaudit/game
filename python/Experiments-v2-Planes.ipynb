{
 "cells": [
  {
   "cell_type": "code",
   "execution_count": 1,
   "metadata": {
    "collapsed": false,
    "deletable": true,
    "editable": true
   },
   "outputs": [
    {
     "name": "stdout",
     "output_type": "stream",
     "text": [
      "Populating the interactive namespace from numpy and matplotlib\n"
     ]
    }
   ],
   "source": [
    "from __future__ import print_function\n",
    "import sys\n",
    "sys.path.append('../build/')\n",
    "%pylab inline\n",
    "np.set_printoptions(precision=4, suppress=True)\n",
    "import versor as vsr\n",
    "import pandas as pd\n",
    "import seaborn as sns\n",
    "sns.set_style('whitegrid')\n",
    "# sns.set_context('paper')\n",
    "from versor.drawing import *\n",
    "from motor_estimation import MotorEstimationSolver\n",
    "from game import VDMotorEstimationSolver\n",
    "from icp import best_fit_transform\n",
    "import pickle"
   ]
  },
  {
   "cell_type": "markdown",
   "metadata": {
    "deletable": true,
    "editable": true
   },
   "source": [
    "# Generate motors"
   ]
  },
  {
   "cell_type": "code",
   "execution_count": 2,
   "metadata": {
    "collapsed": false,
    "deletable": true,
    "editable": true
   },
   "outputs": [],
   "source": [
    "def create_motors(n_motors=10, d_lims=(0,10), th_lims=(-pi,pi)):\n",
    "    motors = [((vsr.Vec(*np.random.random(3)).unit() * np.random.uniform(*d_lims)).trs() * \n",
    "               vsr.Rot(vsr.Biv(*np.random.uniform(-1,1,3)).unit() * np.random.uniform(*th_lims) * -0.5)) \n",
    "              for i in range(n_motors)]\n",
    "    return motors"
   ]
  },
  {
   "cell_type": "markdown",
   "metadata": {
    "collapsed": true,
    "deletable": true,
    "editable": true
   },
   "source": [
    "# Planes"
   ]
  },
  {
   "cell_type": "code",
   "execution_count": 3,
   "metadata": {
    "collapsed": true
   },
   "outputs": [],
   "source": [
    "def rms_motor(results):\n",
    "    rms_rot = []\n",
    "    rms_mot = []\n",
    "    rms_trs = []\n",
    "    for result in results:\n",
    "        (_, m, em, _) = result\n",
    "        if np.sign(em[0]) != np.sign(m[0]):\n",
    "            em = em * (-1.0)\n",
    "        mot = np.linalg.norm(m * em.rev()) - 1.0\n",
    "        rot = np.linalg.norm(np.array(m.rot()) - np.array(em.rot()))\n",
    "        trs = (m.trs() - em.trs()).norm()\n",
    "        rms_mot.append(mot)\n",
    "        rms_rot.append(rot)\n",
    "        rms_trs.append(trs)\n",
    "\n",
    "    motmean = np.mean(rms_mot)\n",
    "    rotmean = np.mean(rms_rot)\n",
    "    trsmean = np.mean(rms_trs)\n",
    "    return (motmean, rotmean, trsmean)"
   ]
  },
  {
   "cell_type": "code",
   "execution_count": 4,
   "metadata": {
    "collapsed": true
   },
   "outputs": [],
   "source": [
    "def compare_rms_motor(results, results_vd, results_tin):\n",
    "    RMS = {'Ti': {}, \"VD\": {}, 'Ti2': {}}\n",
    "    our_mot, our_rot, our_trs = rms_motor(results)\n",
    "    Ti = RMS['Ti']\n",
    "    Ti['mot'] = our_mot\n",
    "    Ti['rot'] = our_rot\n",
    "    Ti['trs'] = our_trs\n",
    "    _, vd_rot, _ = rms_motor(results_vd)\n",
    "    VD = RMS['VD']\n",
    "    VD['rot'] = vd_rot\n",
    "    our_mot2, our_rot2, our_trs2 = rms_motor(results_tin)\n",
    "    Ti2 = RMS['Ti2']\n",
    "    Ti2['mot'] = our_mot2\n",
    "    Ti2['rot'] = our_rot2\n",
    "    Ti2['trs'] = our_trs2\n",
    "    return pd.DataFrame(RMS)"
   ]
  },
  {
   "cell_type": "code",
   "execution_count": 5,
   "metadata": {
    "collapsed": true
   },
   "outputs": [],
   "source": [
    "def run_planes(n_planes=10, n_sets=10, n_motors=10, \n",
    "               trs_noise_std=0.0,\n",
    "               rot_noise_std=0.0, \n",
    "               noisy=False):\n",
    "    motors = create_motors(n_motors, d_lims=(-1,1), th_lims=(-pi/2,pi/2))\n",
    "    results = []\n",
    "    results_vd = []\n",
    "    results_tin = []\n",
    "    for n_set in range(n_sets):\n",
    "        datasets = [create_random_planes(motor, n_planes, \n",
    "                                         rot_noise_std=rot_noise_std,\n",
    "                                         trs_noise_std=trs_noise_std) \n",
    "                    for motor in motors]\n",
    "        for dataset in datasets:\n",
    "            results.append(estimate_motors_planes(dataset, noisy=noisy))\n",
    "            results_vd.append(estimate_motors_planes_vd(dataset, noisy=noisy))\n",
    "            results_tin.append(estimate_motors_planes_lars(dataset, noisy=noisy))\n",
    "    return (results, results_vd, results_tin)"
   ]
  },
  {
   "cell_type": "code",
   "execution_count": 6,
   "metadata": {
    "collapsed": true
   },
   "outputs": [],
   "source": [
    "def create_random_planes(motor, n_planes=10,\n",
    "                        trs_noise_std=0.09, rot_noise_std=0.09):\n",
    "    planes = []\n",
    "    for i in range(n_planes):\n",
    "        dir_vec = vsr.Vec(*np.random.uniform(-1,1,3)).unit()\n",
    "        distance = np.random.uniform(0,1)\n",
    "        a = vsr.Dlp(dir_vec,distance)\n",
    "        b = a.spin(motor)\n",
    "        if trs_noise_std > 0.0:\n",
    "            t = vsr.Vec(*np.random.random(3)).unit() * np.random.normal(0.0,trs_noise_std,1)\n",
    "        else:\n",
    "            t = vsr.Vec(0,0,0)\n",
    "            \n",
    "        if rot_noise_std > 0.0:\n",
    "            R = vsr.Rot(vsr.Biv(*np.random.uniform(-1,1,3)).unit() * \n",
    "                            np.random.normal(0, rot_noise_std) * -0.5)\n",
    "        else:\n",
    "            R = vsr.Rot(1,0,0,0)\n",
    "        noise_motor = t.trs() * R\n",
    "        \n",
    "        bn = b.spin(noise_motor)\n",
    "        planes.append((a,b,bn))\n",
    "    return (planes, motor)"
   ]
  },
  {
   "cell_type": "code",
   "execution_count": 89,
   "metadata": {
    "collapsed": false
   },
   "outputs": [],
   "source": [
    "def estimate_motors_planes(dataset, \n",
    "                           initial_motor = vsr.Mot(1.0, 0.0, 0.0, 0.0, 0.0, 0.0, 0.0, 0.0), \n",
    "                           noisy=False):\n",
    "    planes, motor = dataset\n",
    "    \n",
    "#     _, _, initial_motor, _ = estimate_motors_planes_lars(dataset, noisy=noisy)\n",
    "    \n",
    "    mes = MotorEstimationSolver(initial_motor)\n",
    "    if noisy:\n",
    "        for (a, _, bn) in planes:\n",
    "            mes.add_dual_plane_difference_residual_block(a,bn)\n",
    "#             mes.add_dual_plane_angle_error_residual_block(a,bn)\n",
    "    else:\n",
    "        for (a, b, _) in planes:\n",
    "#             mes.add_dual_plane_angle_error_residual_block(a,b)\n",
    "            mes.add_dual_plane_difference_residual_block(a,b)\n",
    "    mes.set_parameterization('BIVECTOR_GENERATOR')\n",
    "    mes.linear_solver_type = 'DENSE_QR'\n",
    "    (estimated_motor, summary, _) = mes.solve()\n",
    "    return (planes, motor, estimated_motor, summary)"
   ]
  },
  {
   "cell_type": "code",
   "execution_count": 90,
   "metadata": {
    "collapsed": true
   },
   "outputs": [],
   "source": [
    "def estimate_motors_planes_lars(dataset, noisy=False):\n",
    "    lines, motor = dataset\n",
    "    \n",
    "    def solve(L):\n",
    "        Lrr = L[:4, :4]\n",
    "        Lrq = L[:4, 4:]\n",
    "        Lqr = L[4:, :4]\n",
    "        Lqq = L[4:, 4:]\n",
    "        Lp = Lrr - np.dot(Lrq, np.dot(np.linalg.pinv(Lqq), Lqr))\n",
    "        w, v = np.linalg.eig(Lp)\n",
    "        r = v[:, np.argmin(w)]\n",
    "        q = np.dot(-np.dot(np.linalg.pinv(Lqq), Lqr), r)\n",
    "        return vsr.Mot(*np.array([r, q]).ravel())\n",
    "\n",
    "    Q = np.zeros((8,8))\n",
    "        \n",
    "    lines_a = []\n",
    "    lines_b = []\n",
    "    lines_bn = []\n",
    "    for (a,b,bn) in lines:\n",
    "        lines_a.append(vsr.CGA(a))\n",
    "        lines_b.append(vsr.CGA(b))\n",
    "        lines_bn.append(vsr.CGA(bn))\n",
    "        \n",
    "    if noisy:\n",
    "        for b,a in zip(lines_a, lines_bn):\n",
    "            D = np.zeros((32,8))\n",
    "            for i in range(8):\n",
    "                ei = vsr.Mot(0,0,0,0,0,0,0,0)\n",
    "                ei[i] = 1.0\n",
    "                ei = vsr.CGA(ei)\n",
    "                D[:,i] = np.array(a * ei - ei * b)\n",
    "            Q += np.dot(D.T,D)\n",
    "    else:\n",
    "        for b,a in zip(lines_a, lines_b):\n",
    "            D = np.zeros((32,8))\n",
    "            for i in range(8):\n",
    "                ei = vsr.Mot(0,0,0,0,0,0,0,0)\n",
    "                ei[i] = 1.0\n",
    "                ei = vsr.CGA(ei)\n",
    "                D[:,i] = np.array(a * ei - ei * b)\n",
    "            Q += np.dot(D.T,D)\n",
    "\n",
    "    estimated_motor = solve(Q)\n",
    "    if np.abs((estimated_motor * estimated_motor.rev())[7])  > 0.0000000001:\n",
    "        print(wrong)\n",
    "              \n",
    "    if np.sign(estimated_motor[0]) != np.sign(motor[0]):\n",
    "        estimated_motor = estimated_motor * -1.0\n",
    "        \n",
    "    return (lines, motor, estimated_motor, _)"
   ]
  },
  {
   "cell_type": "code",
   "execution_count": 91,
   "metadata": {
    "collapsed": true
   },
   "outputs": [],
   "source": [
    "def estimate_motors_planes_vd(dataset, \n",
    "                             initial_motor = vsr.Mot(1.0, 0.0, 0.0, 0.0, 0.0, 0.0, 0.0, 0.0), \n",
    "                             noisy=False):\n",
    "    vd = VDMotorEstimationSolver()\n",
    "    planes, motor = dataset\n",
    "    planes_a = []\n",
    "    planes_b = []\n",
    "    planes_bn = []\n",
    "    for (a,b,bn) in planes:\n",
    "        planes_a.append(a)\n",
    "        planes_b.append(b)\n",
    "        planes_bn.append(bn)\n",
    "    if noisy:\n",
    "        vd.add_dual_plane_observations(planes_a, planes_bn)\n",
    "    else:\n",
    "        vd.add_dual_plane_observations(planes_a, planes_b)\n",
    "\n",
    "    estimated_motor = vd.solve()\n",
    "        \n",
    "    if np.sign(estimated_motor[0]) != np.sign(motor[0]):\n",
    "        estimated_motor = estimated_motor * -1.0\n",
    "    \n",
    "    return (planes, motor, estimated_motor, [])"
   ]
  },
  {
   "cell_type": "code",
   "execution_count": 92,
   "metadata": {
    "collapsed": false
   },
   "outputs": [],
   "source": [
    "noise_levels = np.linspace(0.1,1.0,10)\n",
    "rmss = [compare_rms_motor(*run_planes(10,10,10,\n",
    "                                      trs_noise_std=noise_level,\n",
    "                                      rot_noise_std=noise_level,\n",
    "                                      noisy=True)) \n",
    "        for noise_level in noise_levels]"
   ]
  },
  {
   "cell_type": "code",
   "execution_count": 93,
   "metadata": {
    "collapsed": false
   },
   "outputs": [
    {
     "data": {
      "text/html": [
       "<div>\n",
       "<table border=\"1\" class=\"dataframe\">\n",
       "  <thead>\n",
       "    <tr style=\"text-align: right;\">\n",
       "      <th></th>\n",
       "      <th>mot</th>\n",
       "      <th>rot</th>\n",
       "      <th>trs</th>\n",
       "      <th>mot</th>\n",
       "      <th>rot</th>\n",
       "      <th>trs</th>\n",
       "      <th>mot</th>\n",
       "      <th>rot</th>\n",
       "      <th>trs</th>\n",
       "      <th>mot</th>\n",
       "      <th>...</th>\n",
       "      <th>trs</th>\n",
       "      <th>mot</th>\n",
       "      <th>rot</th>\n",
       "      <th>trs</th>\n",
       "      <th>mot</th>\n",
       "      <th>rot</th>\n",
       "      <th>trs</th>\n",
       "      <th>mot</th>\n",
       "      <th>rot</th>\n",
       "      <th>trs</th>\n",
       "    </tr>\n",
       "  </thead>\n",
       "  <tbody>\n",
       "    <tr>\n",
       "      <th>Ti</th>\n",
       "      <td>0.000420</td>\n",
       "      <td>0.018002</td>\n",
       "      <td>0.054694</td>\n",
       "      <td>0.002357</td>\n",
       "      <td>0.035874</td>\n",
       "      <td>0.127253</td>\n",
       "      <td>0.004345</td>\n",
       "      <td>0.055621</td>\n",
       "      <td>0.173006</td>\n",
       "      <td>0.006780</td>\n",
       "      <td>...</td>\n",
       "      <td>0.411349</td>\n",
       "      <td>0.031270</td>\n",
       "      <td>0.135506</td>\n",
       "      <td>0.460102</td>\n",
       "      <td>0.037520</td>\n",
       "      <td>0.163922</td>\n",
       "      <td>0.539318</td>\n",
       "      <td>0.056443</td>\n",
       "      <td>0.174894</td>\n",
       "      <td>0.636667</td>\n",
       "    </tr>\n",
       "    <tr>\n",
       "      <th>Ti2</th>\n",
       "      <td>0.000435</td>\n",
       "      <td>0.018025</td>\n",
       "      <td>0.055160</td>\n",
       "      <td>0.002326</td>\n",
       "      <td>0.035961</td>\n",
       "      <td>0.128136</td>\n",
       "      <td>0.004217</td>\n",
       "      <td>0.055986</td>\n",
       "      <td>0.170740</td>\n",
       "      <td>0.006379</td>\n",
       "      <td>...</td>\n",
       "      <td>0.366842</td>\n",
       "      <td>0.025082</td>\n",
       "      <td>0.135841</td>\n",
       "      <td>0.416296</td>\n",
       "      <td>0.028049</td>\n",
       "      <td>0.165534</td>\n",
       "      <td>0.460819</td>\n",
       "      <td>0.037342</td>\n",
       "      <td>0.178235</td>\n",
       "      <td>0.531337</td>\n",
       "    </tr>\n",
       "    <tr>\n",
       "      <th>VD</th>\n",
       "      <td>NaN</td>\n",
       "      <td>0.018002</td>\n",
       "      <td>NaN</td>\n",
       "      <td>NaN</td>\n",
       "      <td>0.035877</td>\n",
       "      <td>NaN</td>\n",
       "      <td>NaN</td>\n",
       "      <td>0.055638</td>\n",
       "      <td>NaN</td>\n",
       "      <td>NaN</td>\n",
       "      <td>...</td>\n",
       "      <td>NaN</td>\n",
       "      <td>NaN</td>\n",
       "      <td>0.135606</td>\n",
       "      <td>NaN</td>\n",
       "      <td>NaN</td>\n",
       "      <td>0.164035</td>\n",
       "      <td>NaN</td>\n",
       "      <td>NaN</td>\n",
       "      <td>0.175043</td>\n",
       "      <td>NaN</td>\n",
       "    </tr>\n",
       "  </tbody>\n",
       "</table>\n",
       "<p>3 rows × 30 columns</p>\n",
       "</div>"
      ],
      "text/plain": [
       "          mot       rot       trs       mot       rot       trs       mot  \\\n",
       "Ti   0.000420  0.018002  0.054694  0.002357  0.035874  0.127253  0.004345   \n",
       "Ti2  0.000435  0.018025  0.055160  0.002326  0.035961  0.128136  0.004217   \n",
       "VD        NaN  0.018002       NaN       NaN  0.035877       NaN       NaN   \n",
       "\n",
       "          rot       trs       mot    ...          trs       mot       rot  \\\n",
       "Ti   0.055621  0.173006  0.006780    ...     0.411349  0.031270  0.135506   \n",
       "Ti2  0.055986  0.170740  0.006379    ...     0.366842  0.025082  0.135841   \n",
       "VD   0.055638       NaN       NaN    ...          NaN       NaN  0.135606   \n",
       "\n",
       "          trs       mot       rot       trs       mot       rot       trs  \n",
       "Ti   0.460102  0.037520  0.163922  0.539318  0.056443  0.174894  0.636667  \n",
       "Ti2  0.416296  0.028049  0.165534  0.460819  0.037342  0.178235  0.531337  \n",
       "VD        NaN       NaN  0.164035       NaN       NaN  0.175043       NaN  \n",
       "\n",
       "[3 rows x 30 columns]"
      ]
     },
     "execution_count": 93,
     "metadata": {},
     "output_type": "execute_result"
    }
   ],
   "source": [
    "d = pd.concat(rmss)\n",
    "d.T"
   ]
  },
  {
   "cell_type": "code",
   "execution_count": 94,
   "metadata": {
    "collapsed": false
   },
   "outputs": [
    {
     "data": {
      "text/plain": [
       "<matplotlib.text.Text at 0x1222c0048>"
      ]
     },
     "execution_count": 94,
     "metadata": {},
     "output_type": "execute_result"
    },
    {
     "data": {
      "image/png": "[encoded data removed]",
      "text/plain": [
       "<matplotlib.figure.Figure at 0x1222c01d0>"
      ]
     },
     "metadata": {},
     "output_type": "display_data"
    }
   ],
   "source": [
    "fig, ax = plt.subplots(1)\n",
    "\n",
    "ax.plot(noise_levels, d['Ti2']['rot'], label='Ti2 rot')\n",
    "ax.plot(noise_levels, d['Ti']['rot'], label='Ti rot')\n",
    "ax.plot(noise_levels, d['VD']['rot'], label='VD')\n",
    "ax.legend(frameon=False, loc=2)\n",
    "ax.set_ylabel('Mean geometric error')\n",
    "ax.set_xlabel('Gaussian mean deviation of induced noise')\n",
    "# fig.savefig('/Users/lars/latex/latex-phd-thesis/Figures/points-est-deviation.pdf')"
   ]
  },
  {
   "cell_type": "code",
   "execution_count": 95,
   "metadata": {
    "collapsed": false
   },
   "outputs": [
    {
     "data": {
      "text/plain": [
       "<matplotlib.text.Text at 0x121d9c2e8>"
      ]
     },
     "execution_count": 95,
     "metadata": {},
     "output_type": "execute_result"
    },
    {
     "data": {
      "image/png": "[encoded data removed]",
      "text/plain": [
       "<matplotlib.figure.Figure at 0x1223f0eb8>"
      ]
     },
     "metadata": {},
     "output_type": "display_data"
    }
   ],
   "source": [
    "fig, ax = plt.subplots(1)\n",
    "# ax.plot(noise_levels, d['VD']['trs'], label='VD trs')\n",
    "\n",
    "ax.plot(noise_levels, d['Ti2']['trs'], label='Ti2 trs')\n",
    "ax.plot(noise_levels, d['Ti']['trs'], label='Ti trs')\n",
    "\n",
    "ax.legend(frameon=False, loc=2)\n",
    "ax.set_ylabel('Mean geometric error')\n",
    "ax.set_xlabel('Gaussian mean deviation of induced noise')"
   ]
  },
  {
   "cell_type": "code",
   "execution_count": null,
   "metadata": {
    "collapsed": true
   },
   "outputs": [],
   "source": []
  }
 ],
 "metadata": {
  "anaconda-cloud": {},
  "kernelspec": {
   "display_name": "Python [default]",
   "language": "python",
   "name": "python3"
  },
  "language_info": {
   "codemirror_mode": {
    "name": "ipython",
    "version": 3
   },
   "file_extension": ".py",
   "mimetype": "text/x-python",
   "name": "python",
   "nbconvert_exporter": "python",
   "pygments_lexer": "ipython3",
   "version": "3.5.2"
  }
 },
 "nbformat": 4,
 "nbformat_minor": 2
}
