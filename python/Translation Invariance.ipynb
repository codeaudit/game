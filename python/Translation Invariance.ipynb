{
 "cells": [
  {
   "cell_type": "code",
   "execution_count": 22,
   "metadata": {
    "collapsed": false
   },
   "outputs": [
    {
     "name": "stdout",
     "output_type": "stream",
     "text": [
      "Populating the interactive namespace from numpy and matplotlib\n"
     ]
    },
    {
     "name": "stderr",
     "output_type": "stream",
     "text": [
      "/Users/lars/anaconda3/lib/python3.5/site-packages/IPython/core/magics/pylab.py:161: UserWarning: pylab import has clobbered these variables: ['Inf']\n",
      "`%matplotlib` prevents importing * from pylab and numpy\n",
      "  \"\\n`%matplotlib` prevents importing * from pylab and numpy\"\n"
     ]
    }
   ],
   "source": [
    "import sys\n",
    "sys.path.append('../build/')\n",
    "%pylab inline\n",
    "np.set_printoptions(precision=4, suppress=True)\n",
    "import versor as vsr\n",
    "import pandas as pd\n",
    "import seaborn as sns\n",
    "sns.set_style('whitegrid')\n",
    "# sns.set_context('paper')\n",
    "from versor.drawing import *\n",
    "from motor_estimation import MotorEstimationSolver\n",
    "from game import VDMotorEstimationSolver\n",
    "from icp import best_fit_transform\n",
    "import pickle"
   ]
  },
  {
   "cell_type": "code",
   "execution_count": 23,
   "metadata": {
    "collapsed": true
   },
   "outputs": [],
   "source": [
    "def create_motors(n_motors=10, d_lims=(0,10), th_lims=(0,pi)):\n",
    "    motors = [((vsr.Vec(*np.random.random(3)).unit() * np.random.uniform(*d_lims)).trs() * \n",
    "               vsr.Rot(vsr.Biv(*np.random.uniform(-1,1,3)).unit() * np.random.uniform(*th_lims) * -0.5)) \n",
    "              for i in range(n_motors)]\n",
    "    return motors"
   ]
  },
  {
   "cell_type": "code",
   "execution_count": 24,
   "metadata": {
    "collapsed": true
   },
   "outputs": [],
   "source": [
    "def create_points(motor, gaussian=False, radius=10, n_points=10, points_std=0.8, noise_std=0.09):\n",
    "    points = []\n",
    "    for i in range(n_points):\n",
    "        if gaussian:\n",
    "            a = vsr.Vec(*np.random.normal(0.0, points_std,3)).null()\n",
    "        else:\n",
    "            a = (vsr.Vec(*np.random.uniform(-1,1,3)).unit() * np.random.uniform(0,radius)).null()\n",
    "        b = a.spin(motor)\n",
    "        t = vsr.Vec(*np.random.random(3)).unit() * np.random.normal(0.0,noise_std,1)\n",
    "        noise_motor = t.trs() * vsr.Rot(1,0,0,0)\n",
    "        bn = a.spin(noise_motor).spin(motor)\n",
    "#         bn = vsr.Vec(*(np.array(a)[:3] + np.random.normal(0,noise_std,3))).null().spin(motor)\n",
    "        points.append((a,b,bn))\n",
    "\n",
    "    return (points, motor)"
   ]
  },
  {
   "cell_type": "code",
   "execution_count": 25,
   "metadata": {
    "collapsed": true
   },
   "outputs": [],
   "source": [
    "def create_random_lines(motor, n_lines=10, radius=10, \n",
    "                        trs_noise_std=0.09, rot_noise_std=0.09):\n",
    "    lines = []\n",
    "    for i in range(n_lines):\n",
    "        p = (vsr.Vec(*np.random.uniform(-1,1,3)).unit() * np.random.uniform(0,radius)).null()\n",
    "        v = vsr.Vec(*np.random.uniform(-1,1,3)).unit()\n",
    "        a = vsr.Dll(p,v)\n",
    "#         a = a.spin(\n",
    "#             (vsr.Vec(*np.random.random(3)).unit() * np.random.normal(0.0,0.001,1)).trs() *\n",
    "#             vsr.Rot(vsr.Biv(*np.random.uniform(-1,1,3)).unit() * \n",
    "#                             np.random.normal(0, 0.001) * -0.5))\n",
    "        b = a.spin(motor)\n",
    "        if trs_noise_std > 0.0:\n",
    "            t = vsr.Vec(*np.random.random(3)).unit() * np.random.normal(0.0,trs_noise_std,1)\n",
    "        else:\n",
    "            t = vsr.Vec(0,0,0)\n",
    "            \n",
    "        if rot_noise_std > 0.0:\n",
    "            R = vsr.Rot(vsr.Biv(*np.random.uniform(-1,1,3)).unit() * \n",
    "                            np.random.normal(0, rot_noise_std) * -0.5)\n",
    "        else:\n",
    "            R = vsr.Rot(1,0,0,0)\n",
    "        noise_motor = t.trs() * R\n",
    "        bn = b.spin(noise_motor)\n",
    "        lines.append((a,b,bn))\n",
    "    return (lines, motor)"
   ]
  },
  {
   "cell_type": "code",
   "execution_count": 5,
   "metadata": {
    "collapsed": true
   },
   "outputs": [],
   "source": [
    "def daniilidis_motor(LAs, LBs):\n",
    "    Ds = []\n",
    "    for LA, LB in zip(LAs, LBs):\n",
    "        D = np.zeros((8,8))\n",
    "        for i in range(8):\n",
    "            ei = vsr.Mot(0,0,0,0,0,0,0,0)\n",
    "            ei[i] = 1.0\n",
    "            D[:,i] = np.array(ei * LA - LB * ei)\n",
    "        Ds.append(D[1:7,:].copy())\n",
    "\n",
    "    \n",
    "    Ds = np.array(Ds).reshape(-1,8)\n",
    "    [U, s, Vt] = np.linalg.svd(Ds)\n",
    "\n",
    "    v7 = Vt.T[:,-2].copy()\n",
    "    v8 = Vt.T[:,-1].copy()\n",
    "    \n",
    "    v7 = np.array([v7[0], v7[3], -v7[2], v7[1], -v7[7],v7[4], v7[5], v7[6]])\n",
    "    v8 = np.array([v8[0], v8[3], -v8[2], v8[1], -v8[7],v8[4], v8[5], v8[6]])\n",
    "    \n",
    "    u1 = v7[:4]\n",
    "    v1 = v7[4:]\n",
    "    u2 = v8[:4]\n",
    "    v2 = v8[4:]\n",
    "\n",
    "    a = np.inner(u1,v1)\n",
    "    b = np.inner(u1,v2) + np.inner(u2,v1)\n",
    "    c = np.inner(u2,v2)\n",
    "    [s1, s2] = np.roots([a,b,c])\n",
    "\n",
    "    val1 = (s1**2 * np.inner(u1,u1)) + (2 * s1 * np.inner(u1,u2)) + (np.inner(u2,u2))\n",
    "    val2 = (s2**2 * np.inner(u1,u1)) + (2 * s2 * np.inner(u1,u2)) + (np.inner(u2,u2))\n",
    "    \n",
    "    if val1 > val2:\n",
    "        s = s1\n",
    "        val = val1\n",
    "    else:\n",
    "        s = s2\n",
    "        val = val2\n",
    "\n",
    "    lambda2 = np.sqrt(1./val)\n",
    "    lambda1 = s * lambda2\n",
    "    \n",
    "    m_arr = lambda1 * Vt.T[:,-2] + lambda2 * Vt.T[:,-1]\n",
    "\n",
    "    return vsr.Mot(*m_arr)"
   ]
  },
  {
   "cell_type": "code",
   "execution_count": 6,
   "metadata": {
    "collapsed": true
   },
   "outputs": [],
   "source": [
    "def estimate_motors_lines_daniilidis(dataset, \n",
    "                             initial_motor = vsr.Mot(1.0, 0.0, 0.0, 0.0, 0.0, 0.0, 0.0, 0.0), \n",
    "                             noisy=False):\n",
    "    lines, motor = dataset\n",
    "    lines_a = []\n",
    "    lines_b = []\n",
    "    lines_bn = []\n",
    "    for (a,b,bn) in lines:\n",
    "        lines_a.append(a)\n",
    "        lines_b.append(b)\n",
    "        lines_bn.append(bn)\n",
    "    if noisy:\n",
    "        estimated_motor = daniilidis_motor(lines_a, lines_bn)\n",
    "    else:\n",
    "        estimated_motor = daniilidis_motor(lines_a, lines_b)\n",
    "        \n",
    "    if np.sign(estimated_motor[0]) != np.sign(motor[0]):\n",
    "        estimated_motor = estimated_motor * -1.0\n",
    "    return (lines, motor, estimated_motor, [])"
   ]
  },
  {
   "cell_type": "code",
   "execution_count": 7,
   "metadata": {
    "collapsed": true
   },
   "outputs": [],
   "source": [
    "def estimate_motors_lines(dataset, \n",
    "                          initial_motor = vsr.Mot(1.0, 0.0, 0.0, 0.0, 0.0, 0.0, 0.0, 0.0), \n",
    "                          noisy=False,\n",
    "                          onlyrot=True\n",
    "                         ):\n",
    "#     lines, motor = dataset\n",
    "    \n",
    "    lines, motor, initial_motor, _ = estimate_motors_lines_daniilidis(dataset, noisy=noisy)\n",
    "    \n",
    "    mes = MotorEstimationSolver(initial_motor)\n",
    "    if noisy:\n",
    "        for (a, _, bn) in lines:\n",
    "            if onlyrot:\n",
    "                mes.add_line_correspondences_residual_block(a,bn)\n",
    "            else:\n",
    "                mes.add_line_angle_distance_residual_block(a,bn)\n",
    "    else:\n",
    "        for (a, b, _) in lines:\n",
    "            if onlyrot:\n",
    "                mes.add_line_correspondences_residual_block(a,b)\n",
    "            else:\n",
    "                mes.add_line_angle_distance_residual_block(a,b)\n",
    "    mes.set_parameterization('BIVECTOR_GENERATOR')\n",
    "    mes.linear_solver_type = 'DENSE_QR'\n",
    "    (estimated_motor, summary, _) = mes.solve()\n",
    "    \n",
    "    \n",
    "    \n",
    "\n",
    "#     print(initial_motor)\n",
    "#     print(estimated_motor)\n",
    "#     print(motor)\n",
    "#     print()\n",
    "    \n",
    "    return (lines, motor, estimated_motor, summary)"
   ]
  },
  {
   "cell_type": "code",
   "execution_count": 21,
   "metadata": {
    "collapsed": false
   },
   "outputs": [
    {
     "name": "stdout",
     "output_type": "stream",
     "text": [
      "Mot: [ 0.33 0.64 0.48 0.51 0.098 -0.079 -0.15 -0.02 ]\n",
      "Mot: [ 0.3 0.66 0.48 0.48 0.069 -0.12 -0.15 -0.036 ]\n",
      "Mot: [ 0.32 0.07 -0.9 -0.28 -2.7 -1.1 3.4 -0.017 ]\n",
      "Mot: [ 0.3 -0.42 0.67 -0.53 1.2 1.6 -4.1 -0.036 ]\n"
     ]
    }
   ],
   "source": [
    "motor1 = create_motors(1)[0]\n",
    "dataset = create_random_lines(motor1, n_lines=3)\n",
    "lines, motor, estimated_motor, _ = estimate_motors_lines(dataset, noisy=True, onlyrot=True)\n",
    "print(motor)\n",
    "print(estimated_motor)\n",
    "\n",
    "motor2 = create_motors(1)[0]\n",
    "dataset2 = ([(a.spin(motor2), b.spin(motor2), bn.spin(motor2)) for a,b,bn in lines], \n",
    "            (vsr.CGA(motor1).spin(vsr.CGA(motor2))).mot())\n",
    "\n",
    "lines2, motor2, estimated_motor2, _ = estimate_motors_lines(dataset2, noisy=True, onlyrot=True)\n",
    "# print(motor2)\n",
    "print(estimated_motor2)\n",
    "print(vsr.CGA(estimated_motor).spin(vsr.CGA(motor2)).mot())"
   ]
  },
  {
   "cell_type": "code",
   "execution_count": 38,
   "metadata": {
    "collapsed": false
   },
   "outputs": [
    {
     "data": {
      "text/plain": [
       "[(Dll: [ 0.9422 -0.2285 -0.245 1.11 -1.188 0.5767 ],\n",
       "  Dll: [ 0.9576 -0.2567 -0.1309 8.46 -3.446 2.081 ],\n",
       "  Dll: [ 0.9539 -0.2968 -0.04515 8.302 -3.837 1.587 ]),\n",
       " (Dll: [ -0.1943 0.8033 0.563 4.864 3.536 -0.522 ],\n",
       "  Dll: [ -0.2345 0.8512 0.4695 6.508 5.422 -6.648 ],\n",
       "  Dll: [ -0.2314 0.8484 0.4761 6.457 5.437 -6.652 ]),\n",
       " (Dll: [ -0.1442 -0.5979 0.7885 0.7685 -0.7212 1.212 ],\n",
       "  Dll: [ -0.2297 -0.5251 0.8195 -3.372 2.987 -5.203 ],\n",
       "  Dll: [ -0.2571 -0.4084 0.8758 -3.055 3.204 -5.317 ])]"
      ]
     },
     "execution_count": 38,
     "metadata": {},
     "output_type": "execute_result"
    }
   ],
   "source": [
    "lines"
   ]
  },
  {
   "cell_type": "code",
   "execution_count": 60,
   "metadata": {
    "collapsed": false
   },
   "outputs": [
    {
     "data": {
      "text/plain": [
       "[(Dll: [ -0.8698 -0.2144 -0.4444 -5.199 -1.17 2.368 ],\n",
       "  Dll: [ -0.8275 -0.3242 -0.4585 -9.888 3.734 6.942 ],\n",
       "  Dll: [ -0.7948 -0.4122 -0.4453 -10.27 3.287 7.461 ]),\n",
       " (Dll: [ 0.8434 0.04219 -0.5357 4.388 0.7833 2.826 ],\n",
       "  Dll: [ 0.8388 0.1538 -0.5222 10.32 1.32 6.668 ],\n",
       "  Dll: [ 0.8392 0.1462 -0.5238 10.3 1.276 6.649 ]),\n",
       " (Dll: [ 0.2609 -0.8975 0.3555 -6.661 2.522 0.4025 ],\n",
       "  Dll: [ 0.3701 -0.8572 0.358 1.741 -0.8723 0.3362 ],\n",
       "  Dll: [ 0.4774 -0.8313 0.2847 2.367 -1.182 0.6472 ])]"
      ]
     },
     "execution_count": 60,
     "metadata": {},
     "output_type": "execute_result"
    }
   ],
   "source": [
    "lines2"
   ]
  },
  {
   "cell_type": "code",
   "execution_count": 61,
   "metadata": {
    "collapsed": false
   },
   "outputs": [],
   "source": [
    "def decomp(a,b):\n",
    "    c = a * b.rev()\n",
    "    R = c.rot()\n",
    "    B = R.biv()\n",
    "    Bu = B.unit()\n",
    "    t = c.trs()\n",
    "    w = t.reject_from(Bu)\n",
    "    theta = np.arccos(R[0])\n",
    "    return theta**2, np.inner(w,w)"
   ]
  },
  {
   "cell_type": "code",
   "execution_count": 9,
   "metadata": {
    "collapsed": true
   },
   "outputs": [],
   "source": [
    "def decomp2(a,b):\n",
    "    c = a * b.rev()\n",
    "    d = np.array(a - b)[:3]\n",
    "    e = np.array(a - b)[3:]\n",
    "    R = c.rot()\n",
    "    f = np.array(R)[1:]\n",
    "    B = R.biv()\n",
    "    Bu = B.unit()\n",
    "    t = c.trs()\n",
    "    w = t.reject_from(Bu)\n",
    "    theta = np.arccos(R[0])\n",
    "    g = np.array(a - b)\n",
    "    return theta**2, np.inner(f,f), np.inner(d,d), np.inner(t,t), np.inner(w,w), np.inner(e,e), np.inner(g,g)"
   ]
  },
  {
   "cell_type": "code",
   "execution_count": 12,
   "metadata": {
    "collapsed": false
   },
   "outputs": [],
   "source": [
    "motors=create_motors()"
   ]
  },
  {
   "cell_type": "code",
   "execution_count": 17,
   "metadata": {
    "collapsed": false
   },
   "outputs": [
    {
     "name": "stdout",
     "output_type": "stream",
     "text": [
      "[[  1.0882   0.7465   0.993   25.0585   3.949    5.5072   6.5002]\n",
      " [  1.2933   0.8235   1.1598  22.5865  10.4221   5.521    6.6808]\n",
      " [  0.1725   0.1628   0.17    43.3338  20.5437   8.7194   8.8894]]\n"
     ]
    }
   ],
   "source": [
    "A = np.array([decomp2(a,bn) for a,b,bn  in lines])\n",
    "print(A)"
   ]
  },
  {
   "cell_type": "code",
   "execution_count": 18,
   "metadata": {
    "collapsed": false
   },
   "outputs": [
    {
     "name": "stdout",
     "output_type": "stream",
     "text": [
      "[[   1.0882    0.7465    0.993   135.0546    3.949    26.631    27.6241]\n",
      " [   1.2933    0.8235    1.1598  139.4828   10.4221   28.2343   29.3941]\n",
      " [   0.1725    0.1628    0.17     64.529    20.5437   13.1408   13.3108]]\n"
     ]
    }
   ],
   "source": [
    "B = np.array([decomp2(a,bn) for a,b,bn  in lines2])\n",
    "print(B)"
   ]
  },
  {
   "cell_type": "code",
   "execution_count": 65,
   "metadata": {
    "collapsed": true
   },
   "outputs": [],
   "source": [
    "def distance(a,b):\n",
    "    c = np.array(a) - np.array(b)\n",
    "    return np.inner(c,c)"
   ]
  },
  {
   "cell_type": "code",
   "execution_count": 66,
   "metadata": {
    "collapsed": false
   },
   "outputs": [
    {
     "data": {
      "text/plain": [
       "61.39588451827089"
      ]
     },
     "execution_count": 66,
     "metadata": {},
     "output_type": "execute_result"
    }
   ],
   "source": [
    "a = lines[0][0]\n",
    "b = lines[0][1]\n",
    "c = lines[0][2]\n",
    "distance(a,b)"
   ]
  },
  {
   "cell_type": "code",
   "execution_count": 67,
   "metadata": {
    "collapsed": false
   },
   "outputs": [
    {
     "data": {
      "text/plain": [
       "61.39588451827089"
      ]
     },
     "execution_count": 67,
     "metadata": {},
     "output_type": "execute_result"
    }
   ],
   "source": [
    "distance(a+c,b+c)"
   ]
  },
  {
   "cell_type": "code",
   "execution_count": 68,
   "metadata": {
    "collapsed": true
   },
   "outputs": [],
   "source": [
    "def distance4(a,b):\n",
    "    c = np.array(a)[:4] - np.array(b)[:4]\n",
    "    return np.inner(c,c)"
   ]
  },
  {
   "cell_type": "code",
   "execution_count": 69,
   "metadata": {
    "collapsed": false
   },
   "outputs": [
    {
     "name": "stdout",
     "output_type": "stream",
     "text": [
      "177.260980257 199.387707545\n"
     ]
    }
   ],
   "source": [
    "distlines1 = np.sum([distance(a,b) for a,b,bn  in lines])\n",
    "distlines2 = np.sum([distance(a,b) for a,b,bn  in lines2])\n",
    "print(distlines1, distlines2)"
   ]
  },
  {
   "cell_type": "code",
   "execution_count": 106,
   "metadata": {
    "collapsed": true
   },
   "outputs": [],
   "source": [
    "ds = np.linspace(1,0)\n",
    "Ts = [vsr.Vec(0,0,d).trs() * vsr.Rot(1,0,0,0) for d in ds ]"
   ]
  },
  {
   "cell_type": "code",
   "execution_count": 115,
   "metadata": {
    "collapsed": false
   },
   "outputs": [],
   "source": [
    "ths = np.linspace(1,0)\n",
    "Rs = [vsr.Vec(0,0,d).trs() * vsr.Rot(vsr.Biv(1,0,0) * (th/2)) for d, th in zip(ds, ths) ]"
   ]
  },
  {
   "cell_type": "code",
   "execution_count": 118,
   "metadata": {
    "collapsed": false
   },
   "outputs": [
    {
     "data": {
      "text/plain": [
       "<matplotlib.legend.Legend at 0x122795630>"
      ]
     },
     "execution_count": 118,
     "metadata": {},
     "output_type": "execute_result"
    },
    {
     "data": {
      "image/png": "[encoded data removed]",
      "text/plain": [
       "<matplotlib.figure.Figure at 0x122795358>"
      ]
     },
     "metadata": {},
     "output_type": "display_data"
    }
   ],
   "source": [
    "plot(ths,[np.sum([decomp2(a,b.spin(T))[slice()] for a,b,bn  in lines]) for T in Rs], label='ll')\n",
    "# plot(ths,[np.sum([decomp2(a,b.spin(T))[slice(0)] for a,b,bn  in lines])  for T in Rs], label='kk')\n",
    "legend()"
   ]
  },
  {
   "cell_type": "code",
   "execution_count": null,
   "metadata": {
    "collapsed": false
   },
   "outputs": [],
   "source": []
  },
  {
   "cell_type": "code",
   "execution_count": 22,
   "metadata": {
    "collapsed": true
   },
   "outputs": [],
   "source": [
    "def estimate_motors(dataset, \n",
    "                    noisy=False):\n",
    "    \n",
    "    points, motor = dataset\n",
    "    if noisy:\n",
    "        initial_motor = motor\n",
    "    else:\n",
    "        initial_motor = vsr.Mot(1.0, 0.0, 0.0, 0.0, 0.0, 0.0, 0.0, 0.0)\n",
    "\n",
    "    \n",
    "    mes = MotorEstimationSolver(initial_motor)\n",
    "    if noisy:\n",
    "        for (a, _, bn) in points:\n",
    "            mes.add_point_correspondences_residual_block(a,bn)\n",
    "    else:\n",
    "        for (a, b, _) in points:\n",
    "            mes.add_point_correspondences_residual_block(a,b)\n",
    "#     mes.set_parameterization('BIVECTOR_GENERATOR')\n",
    "    mes.set_parameterization('POLAR_DECOMPOSITION_TANGENT')\n",
    "    mes.linear_solver_type = 'DENSE_QR'\n",
    "    mes.max_num_iterations=20\n",
    "    (estimated_motor, summary, _) = mes.solve()\n",
    "    if len(pd.DataFrame(summary['iterations'])['cost']) > 20:\n",
    "        converged = False\n",
    "    else:\n",
    "        converged = True\n",
    "    return points, motor, estimated_motor, summary"
   ]
  },
  {
   "cell_type": "code",
   "execution_count": 23,
   "metadata": {
    "collapsed": false
   },
   "outputs": [
    {
     "name": "stdout",
     "output_type": "stream",
     "text": [
      "Mot: [ 0.94 0.28 -0.14 0.11 -2.2 -3.8 -0.87 -1.1 ]\n",
      "Mot: [ 0.94 0.28 -0.14 0.11 -2.2 -3.8 -0.87 -1.1 ]\n",
      "Mot: [ 0.94 0.28 0.11 0.13 -2.6 -1 -2.8 -1.1 ]\n",
      "Mot: [ 0.94 0.28 0.11 0.13 -2.6 -1 -2.8 -1.1 ]\n"
     ]
    }
   ],
   "source": [
    "motor1 = create_motors(1)[0]\n",
    "dataset = create_points(motor1)\n",
    "points, motor, estimated_motor, _ = estimate_motors(dataset)\n",
    "print(motor)\n",
    "print(estimated_motor)\n",
    "\n",
    "motor2 = create_motors(1)[0]\n",
    "dataset2 = ([(a.spin(motor2), b.spin(motor2), bn.spin(motor2)) for a,b,bn in points], \n",
    "            (vsr.CGA(motor1).spin(vsr.CGA(motor2))).mot())\n",
    "\n",
    "points2, motor2, estimated_motor2, _ = estimate_motors(dataset2)\n",
    "print(motor2)\n",
    "print(estimated_motor2)"
   ]
  },
  {
   "cell_type": "code",
   "execution_count": 24,
   "metadata": {
    "collapsed": false
   },
   "outputs": [
    {
     "name": "stdout",
     "output_type": "stream",
     "text": [
      "1042.93778826 1042.93778826\n"
     ]
    }
   ],
   "source": [
    "distpoints1 = np.sum([distance(a.vec(),b.vec()) for a,b,bn  in points])\n",
    "distpoints2 = np.sum([distance(a.vec(),b.vec()) for a,b,bn  in points2])\n",
    "print(distpoints1, distpoints2)"
   ]
  },
  {
   "cell_type": "code",
   "execution_count": 25,
   "metadata": {
    "collapsed": false
   },
   "outputs": [],
   "source": [
    "a = vsr.Vec(1,2,3).null()\n",
    "b = vsr.Vec(2,3,4).null()\n",
    "d1 = distance(a.vec(),b.vec())"
   ]
  },
  {
   "cell_type": "code",
   "execution_count": 26,
   "metadata": {
    "collapsed": false
   },
   "outputs": [],
   "source": [
    "d2 = distance(a.spin(motor1).vec(), b.spin(motor1).vec())"
   ]
  },
  {
   "cell_type": "code",
   "execution_count": 27,
   "metadata": {
    "collapsed": false
   },
   "outputs": [
    {
     "data": {
      "text/plain": [
       "True"
      ]
     },
     "execution_count": 27,
     "metadata": {},
     "output_type": "execute_result"
    }
   ],
   "source": [
    "np.allclose(d1,d2)"
   ]
  },
  {
   "cell_type": "code",
   "execution_count": 28,
   "metadata": {
    "collapsed": true
   },
   "outputs": [],
   "source": [
    "def distance_innerprod(a,b):\n",
    "    return a <= b"
   ]
  },
  {
   "cell_type": "code",
   "execution_count": 29,
   "metadata": {
    "collapsed": false
   },
   "outputs": [],
   "source": [
    "ds = np.linspace(0,1)\n",
    "Ts = [vsr.Vec(0,0,d).trs() * vsr.Rot(1,0,0,0) for d in ds ]"
   ]
  },
  {
   "cell_type": "code",
   "execution_count": 30,
   "metadata": {
    "collapsed": false
   },
   "outputs": [],
   "source": [
    "a = vsr.Vec(0,0,0).null()\n",
    "Ps = [a.spin(T) for T in Ts]"
   ]
  },
  {
   "cell_type": "code",
   "execution_count": 31,
   "metadata": {
    "collapsed": false
   },
   "outputs": [
    {
     "data": {
      "text/plain": [
       "[<matplotlib.lines.Line2D at 0x11cb8f160>]"
      ]
     },
     "execution_count": 31,
     "metadata": {},
     "output_type": "execute_result"
    },
    {
     "data": {
      "image/png": "[encoded data removed]",
      "text/plain": [
       "<matplotlib.figure.Figure at 0x11cb1e898>"
      ]
     },
     "metadata": {},
     "output_type": "display_data"
    }
   ],
   "source": [
    "plot(ds,[distance(a.vec(), p.vec()) for p in Ps])\n",
    "plot(ds, [distance(a, p) for p in Ps])\n",
    "plot(ds, [distance_innerprod(a, p) for p in Ps])"
   ]
  },
  {
   "cell_type": "code",
   "execution_count": 32,
   "metadata": {
    "collapsed": false
   },
   "outputs": [
    {
     "data": {
      "text/plain": [
       "[<matplotlib.lines.Line2D at 0x11cb5e2e8>]"
      ]
     },
     "execution_count": 32,
     "metadata": {},
     "output_type": "execute_result"
    },
    {
     "data": {
      "image/png": "[encoded data removed]",
      "text/plain": [
       "<matplotlib.figure.Figure at 0x11cbc8f28>"
      ]
     },
     "metadata": {},
     "output_type": "display_data"
    }
   ],
   "source": [
    "plot(ds,[np.sqrt(distance(a.vec(), p.vec())) for p in Ps])\n",
    "plot(ds, [np.sqrt(distance(a, p)) for p in Ps])"
   ]
  },
  {
   "cell_type": "code",
   "execution_count": 133,
   "metadata": {
    "collapsed": true
   },
   "outputs": [],
   "source": [
    "a = vsr.Dlp(1,0,0,5)\n",
    "b = vsr.Dlp(vsr.Vec(1,2,3).unit(), 9)"
   ]
  },
  {
   "cell_type": "code",
   "execution_count": 134,
   "metadata": {
    "collapsed": false
   },
   "outputs": [
    {
     "data": {
      "text/plain": [
       "Dlp: [ 0.8373 -0.2196 -0.5007 4.881 ]"
      ]
     },
     "execution_count": 134,
     "metadata": {},
     "output_type": "execute_result"
    }
   ],
   "source": [
    "a.spin(motor)"
   ]
  },
  {
   "cell_type": "code",
   "execution_count": 140,
   "metadata": {
    "collapsed": false
   },
   "outputs": [
    {
     "data": {
      "text/plain": [
       "17.465477516175152"
      ]
     },
     "execution_count": 140,
     "metadata": {},
     "output_type": "execute_result"
    }
   ],
   "source": [
    "np.inner(np.array(a) - np.array(b), np.array(a) - np.array(b))"
   ]
  },
  {
   "cell_type": "code",
   "execution_count": 142,
   "metadata": {
    "collapsed": false
   },
   "outputs": [
    {
     "data": {
      "text/plain": [
       "17.465477516175152"
      ]
     },
     "execution_count": 142,
     "metadata": {},
     "output_type": "execute_result"
    }
   ],
   "source": [
    "distance(a,b)"
   ]
  },
  {
   "cell_type": "code",
   "execution_count": 143,
   "metadata": {
    "collapsed": false
   },
   "outputs": [
    {
     "data": {
      "text/plain": [
       "103.2374940037185"
      ]
     },
     "execution_count": 143,
     "metadata": {},
     "output_type": "execute_result"
    }
   ],
   "source": [
    "distance(a.spin(motor), b.spin(motor))"
   ]
  },
  {
   "cell_type": "code",
   "execution_count": 138,
   "metadata": {
    "collapsed": false
   },
   "outputs": [
    {
     "data": {
      "text/plain": [
       "Dlp: [ 0.2673 0.5345 0.8018 9 ]"
      ]
     },
     "execution_count": 138,
     "metadata": {},
     "output_type": "execute_result"
    }
   ],
   "source": [
    "b"
   ]
  },
  {
   "cell_type": "code",
   "execution_count": 139,
   "metadata": {
    "collapsed": false
   },
   "outputs": [
    {
     "data": {
      "text/plain": [
       "Mot: [ 0 0 0 0 0 0 0 0 ]"
      ]
     },
     "execution_count": 139,
     "metadata": {},
     "output_type": "execute_result"
    }
   ],
   "source": [
    "a - b"
   ]
  },
  {
   "cell_type": "code",
   "execution_count": null,
   "metadata": {
    "collapsed": true
   },
   "outputs": [],
   "source": []
  }
 ],
 "metadata": {
  "anaconda-cloud": {},
  "kernelspec": {
   "display_name": "Python [default]",
   "language": "python",
   "name": "python3"
  },
  "language_info": {
   "codemirror_mode": {
    "name": "ipython",
    "version": 3
   },
   "file_extension": ".py",
   "mimetype": "text/x-python",
   "name": "python",
   "nbconvert_exporter": "python",
   "pygments_lexer": "ipython3",
   "version": "3.5.2"
  }
 },
 "nbformat": 4,
 "nbformat_minor": 1
}
