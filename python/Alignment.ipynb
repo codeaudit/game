{
 "cells": [
  {
   "cell_type": "code",
   "execution_count": 335,
   "metadata": {
    "collapsed": false
   },
   "outputs": [
    {
     "name": "stdout",
     "output_type": "stream",
     "text": [
      "Populating the interactive namespace from numpy and matplotlib\n"
     ]
    },
    {
     "name": "stderr",
     "output_type": "stream",
     "text": [
      "/Users/lars/anaconda3/lib/python3.5/site-packages/IPython/core/magics/pylab.py:161: UserWarning: pylab import has clobbered these variables: ['Inf']\n",
      "`%matplotlib` prevents importing * from pylab and numpy\n",
      "  \"\\n`%matplotlib` prevents importing * from pylab and numpy\"\n"
     ]
    }
   ],
   "source": [
    "from __future__ import print_function\n",
    "import sys\n",
    "sys.path.append('../build/')\n",
    "%pylab inline\n",
    "np.set_printoptions(precision=4, suppress=True)\n",
    "import versor as vsr\n",
    "from versor.drawing import *\n",
    "from motor_estimation import MotorEstimationSolver\n",
    "import itertools\n",
    "from copy import deepcopy"
   ]
  },
  {
   "cell_type": "code",
   "execution_count": 336,
   "metadata": {
    "collapsed": true
   },
   "outputs": [],
   "source": [
    "m1 = (vsr.Vec(1,2,3).unit() * 0.1 ).trs() * vsr.Rot(vsr.Biv(1,2,10).unit() * 0.2)\n",
    "m2 = (vsr.Vec(-1,2,3).unit() * 1000 ).trs() * vsr.Rot(vsr.Biv(1,2,10).unit() * (-pi))"
   ]
  },
  {
   "cell_type": "code",
   "execution_count": 337,
   "metadata": {
    "collapsed": false
   },
   "outputs": [
    {
     "data": {
      "text/plain": [
       "Mot: [ 0.98 -0.019 -0.039 -0.19 -0.015 -0.034 -0.034 0.0023 ]"
      ]
     },
     "execution_count": 337,
     "metadata": {},
     "output_type": "execute_result"
    }
   ],
   "source": [
    "m1"
   ]
  },
  {
   "cell_type": "code",
   "execution_count": 339,
   "metadata": {
    "collapsed": false
   },
   "outputs": [],
   "source": [
    "def generate_pointcloud_and_normals(n_samples, motor):\n",
    "    \n",
    "    bunny_xyz_file = join('bunny_data', 'bunny', 'reconstruction', 'bunnynormal.xyz')\n",
    "    f = open(bunny_xyz_file)\n",
    "    data = np.array([f.readline().split() for i in range(35947)]).astype(np.float64).tolist()\n",
    "     = [data.pop(np.random.randint(0,len(points)-i)) for i in range(100)]\n",
    "    f.close()\n",
    "    \n",
    "    sigma = 0.3\n",
    "    points = [vsr.Vec(*np.random.normal(0.0, 0.8, 3)).null() for i in range(n_samples)]\n",
    "    normals = [vsr.Vec(*np.random.normal(0.0, 0.8, 3)).unit() for i in range(n_samples)]\n",
    "    lines = [vsr.Dll(point, normal) for point, normal in zip(points, normals)]\n",
    "    samples_1 = [(point, lines) for point, lines in zip(points, lines)]\n",
    "    samples_2 = [(point.spin(motor), line.spin(motor)) for point, line in samples_1]\n",
    "    \n",
    "    points_noisy = [vsr.Vec(*(np.array(p)[:3] + sigma * np.random.randn(3))).null().spin(motor) \n",
    "                    for p in points]\n",
    "    normals_noisy = [n.spin((vsr.Biv(*np.random.random(3)).unit() * np.random.random(1) * 0.7).exp()) \n",
    "                     for n in normals]\n",
    "    lines_noisy = [vsr.Dll(point, normal)\n",
    "                   for point, normal in zip(points_noisy, normals_noisy)]\n",
    "    samples_3 = [(point, lines) for point, lines in zip(points_noisy, lines_noisy)]       \n",
    "    return (samples_1, samples_2, samples_3)"
   ]
  },
  {
   "cell_type": "code",
   "execution_count": 296,
   "metadata": {
    "collapsed": false
   },
   "outputs": [],
   "source": [
    "A,B,C = generate_pointcloud_and_normals(1000,m1)"
   ]
  },
  {
   "cell_type": "code",
   "execution_count": 297,
   "metadata": {
    "collapsed": false
   },
   "outputs": [],
   "source": [
    "Acp = vsr.Vec(*(np.sum([np.array(p.vec()) for p,_ in A],axis=0) / len(A))).null()\n",
    "Acl = vsr.Dll(*(np.sum([np.array(l) for _,l in A],axis=0) / len(A)))\n",
    "Bcp = vsr.Vec(*(np.sum([np.array(p.vec()) for p,_ in B],axis=0) / len(B))).null()\n",
    "Bcl = vsr.Dll(*(np.sum([np.array(l) for _,l in B],axis=0) / len(B)))\n",
    "Ccp = vsr.Vec(*(np.sum([np.array(p.vec()) for p,_ in C],axis=0) / len(C))).null()\n",
    "Ccl = vsr.Dll(*(np.sum([np.array(l) for _,l in C],axis=0) / len(C)))"
   ]
  },
  {
   "cell_type": "code",
   "execution_count": 298,
   "metadata": {
    "collapsed": false
   },
   "outputs": [
    {
     "name": "stdout",
     "output_type": "stream",
     "text": [
      "Pnt: [ 0.02558 -0.003774 0.06927 1 0.002733 ]\n",
      "Pnt: [ 0.02886 -0.008271 0.07654 1 0.00338 ]\n",
      "Dll: [ -0.013 0.02768 -0.02232 0.02257 -0.01116 0.035 ]\n",
      "Dll: [ -0.02433 0.02113 -0.01988 0.02107 -0.02409 0.03042 ]\n",
      "Dll: [ -0.02945 0.01374 -0.003869 0.01612 -0.0145 0.001906 ]\n"
     ]
    }
   ],
   "source": [
    "print(Bcp)\n",
    "print(Ccp)\n",
    "print(Acl)\n",
    "print(Bcl)\n",
    "print(Ccl)"
   ]
  },
  {
   "cell_type": "code",
   "execution_count": 299,
   "metadata": {
    "collapsed": false
   },
   "outputs": [
    {
     "data": {
      "text/plain": [
       "8.07559275206703e-05"
      ]
     },
     "execution_count": 299,
     "metadata": {},
     "output_type": "execute_result"
    }
   ],
   "source": [
    "Ccl.biv().duale() <= Ccl.drv().vec()"
   ]
  },
  {
   "cell_type": "code",
   "execution_count": 300,
   "metadata": {
    "collapsed": false
   },
   "outputs": [
    {
     "data": {
      "text/plain": [
       "-0.0006499266657411062"
      ]
     },
     "execution_count": 300,
     "metadata": {},
     "output_type": "execute_result"
    }
   ],
   "source": [
    "Bcl.biv().duale() <= Bcl.drv().vec()"
   ]
  },
  {
   "cell_type": "code",
   "execution_count": 301,
   "metadata": {
    "collapsed": false
   },
   "outputs": [
    {
     "data": {
      "text/plain": [
       "-1.3877787807814457e-17"
      ]
     },
     "execution_count": 301,
     "metadata": {},
     "output_type": "execute_result"
    }
   ],
   "source": [
    "A[0][1].biv().duale() <= A[0][1].drv().vec()"
   ]
  },
  {
   "cell_type": "code",
   "execution_count": 317,
   "metadata": {
    "collapsed": false
   },
   "outputs": [
    {
     "name": "stdout",
     "output_type": "stream",
     "text": [
      "Mot: [ 0.98 -0.019 -0.039 -0.19 -0.015 -0.034 -0.034 0.0023 ]\n",
      "Mot: [ -0.98 0.019 0.039 0.19 0.015 0.034 0.034 -0.0023 ]\n",
      "\n",
      "Solver Summary (v 1.12.0-eigen-(3.3.1)-lapack-suitesparse-(4.5.3)-cxsparse-(3.1.9)-no_openmp)\n",
      "\n",
      "                                     Original                  Reduced\n",
      "Parameter blocks                            1                        1\n",
      "Parameters                                  8                        8\n",
      "Effective parameters                        6                        6\n",
      "Residual blocks                             2                        2\n",
      "Residual                                    9                        9\n",
      "\n",
      "Minimizer                        TRUST_REGION\n",
      "\n",
      "Dense linear algebra library            EIGEN\n",
      "Trust region strategy     LEVENBERG_MARQUARDT\n",
      "\n",
      "                                        Given                     Used\n",
      "Linear solver                        DENSE_QR                 DENSE_QR\n",
      "Threads                                     1                        1\n",
      "Linear solver threads                       1                        1\n",
      "Linear solver ordering              AUTOMATIC                        1\n",
      "\n",
      "Cost:\n",
      "Initial                          4.999340e+05\n",
      "Final                            1.290444e-16\n",
      "Change                           4.999340e+05\n",
      "\n",
      "Minimizer iterations                        9\n",
      "Successful steps                            9\n",
      "Unsuccessful steps                          0\n",
      "\n",
      "Time (in seconds):\n",
      "Preprocessor                           0.0000\n",
      "\n",
      "  Residual evaluation                  0.0000\n",
      "  Jacobian evaluation                  0.0001\n",
      "  Linear solver                        0.0000\n",
      "Minimizer                              0.0002\n",
      "\n",
      "Postprocessor                          0.0000\n",
      "Total                                  0.0002\n",
      "\n",
      "Termination:                      CONVERGENCE (Gradient tolerance reached. Gradient max norm: 4.124653e-11 <= 1.000000e-10)\n",
      "\n"
     ]
    }
   ],
   "source": [
    "mes = MotorEstimationSolver(m2)\n",
    "mes.add_point_correspondences_residual_block(Acp, Bcp)\n",
    "mes.add_line_commutator_residual_block(Acl, Bcl)\n",
    "# mes.add_line_correspondences_residual_block(Acl, Bcl)\n",
    "\n",
    "# mes.max_num_iterations = 5\n",
    "mes.set_parameterization('BIVECTOR_GENERATOR')\n",
    "mes.linear_solver_type = 'DENSE_QR'\n",
    "(motor, summary, _) = mes.solve()\n",
    "print(m1)\n",
    "print(motor)\n",
    "print(summary['full_report'])"
   ]
  },
  {
   "cell_type": "code",
   "execution_count": 330,
   "metadata": {
    "collapsed": false
   },
   "outputs": [
    {
     "data": {
      "text/plain": [
       "True"
      ]
     },
     "execution_count": 330,
     "metadata": {},
     "output_type": "execute_result"
    }
   ],
   "source": [
    "np.allclose(m1, motor*-1,rtol=1e-3)"
   ]
  },
  {
   "cell_type": "code",
   "execution_count": 322,
   "metadata": {
    "collapsed": false
   },
   "outputs": [
    {
     "data": {
      "text/plain": [
       "Mot: [ 0.98 -0.019 -0.039 -0.19 -0.015 -0.034 -0.034 0.0023 ]"
      ]
     },
     "execution_count": 322,
     "metadata": {},
     "output_type": "execute_result"
    }
   ],
   "source": [
    "m1"
   ]
  },
  {
   "cell_type": "code",
   "execution_count": 324,
   "metadata": {
    "collapsed": false
   },
   "outputs": [
    {
     "data": {
      "text/plain": [
       "Mot: [ 0.98 -0.019 -0.039 -0.19 -0.015 -0.034 -0.034 0.0023 ]"
      ]
     },
     "execution_count": 324,
     "metadata": {},
     "output_type": "execute_result"
    }
   ],
   "source": [
    "motor*-1"
   ]
  },
  {
   "cell_type": "code",
   "execution_count": 310,
   "metadata": {
    "collapsed": false
   },
   "outputs": [
    {
     "data": {
      "text/plain": [
       "[<matplotlib.lines.Line2D at 0x11267e550>]"
      ]
     },
     "execution_count": 310,
     "metadata": {},
     "output_type": "execute_result"
    },
    {
     "data": {
      "image/png": "[encoded data removed]",
      "text/plain": [
       "<matplotlib.figure.Figure at 0x11117a198>"
      ]
     },
     "metadata": {},
     "output_type": "display_data"
    }
   ],
   "source": [
    "semilogy([it['cost'] for it in summary['iterations']])"
   ]
  },
  {
   "cell_type": "code",
   "execution_count": 311,
   "metadata": {
    "collapsed": false
   },
   "outputs": [
    {
     "data": {
      "text/plain": [
       "Mot: [ -1 3.6e-06 -1.1e-06 5.1e-06 -8.7e-08 2.6e-07 4.6e-08 8.7e-18 ]"
      ]
     },
     "execution_count": 311,
     "metadata": {},
     "output_type": "execute_result"
    }
   ],
   "source": [
    "m1 * motor.rev()"
   ]
  },
  {
   "cell_type": "code",
   "execution_count": 312,
   "metadata": {
    "collapsed": false
   },
   "outputs": [],
   "source": [
    "l1 = vsr.Dll(vsr.Vec(0,0,1).null(), vsr.Vec(1,0,0))\n",
    "l2 = vsr.Dll(vsr.Vec(1,0,0).null(), vsr.Vec(0,1,0))\n",
    "l3 = vsr.Dll(vsr.Vec(0,1,0).null(), vsr.Vec(0,0,1))"
   ]
  },
  {
   "cell_type": "code",
   "execution_count": 274,
   "metadata": {
    "collapsed": false
   },
   "outputs": [],
   "source": [
    "l1mesh = line_mesh(l1, color='red')\n",
    "l2mesh = line_mesh(l2, color='green')\n",
    "l3mesh = line_mesh(l3, color='blue')\n",
    "\n",
    "S1 = line_mesh((l1 + l2)*0.5, color='yellow')\n",
    "S2 = line_mesh(((l1 +l2 + l3) * (1/3) ),color='purple')\n",
    "\n",
    "ls = [l1mesh, l2mesh, l3mesh, S1, S2]\n",
    "scene = Scene(children=[frame_mesh(), AmbientLight(color='#777777')] + ls)\n",
    "\n",
    "camera = PerspectiveCamera(position=[0, 5, 5], up=[0, 0, 1],\n",
    "                      children=[DirectionalLight(color='white', \n",
    "                                                 position=[3, 5, 1], \n",
    "                                                 intensity=0.5)])\n",
    "renderer = Renderer(camera=camera, \n",
    "                    scene=scene, \n",
    "                    controls=[TrackballControls(controlling=camera)],\n",
    "                    background = 'white')\n",
    "renderer.width = '950'\n",
    "renderer.height = '713'\n",
    "display(renderer)"
   ]
  },
  {
   "cell_type": "code",
   "execution_count": 275,
   "metadata": {
    "collapsed": false
   },
   "outputs": [
    {
     "data": {
      "text/plain": [
       "Dll: [ 0 -1 1 0 1 1 ]"
      ]
     },
     "execution_count": 275,
     "metadata": {},
     "output_type": "execute_result"
    }
   ],
   "source": [
    "l1 + l2"
   ]
  },
  {
   "cell_type": "code",
   "execution_count": 280,
   "metadata": {
    "collapsed": false
   },
   "outputs": [
    {
     "data": {
      "text/plain": [
       "Dls: [ 1 1 1 1 1.5 ]"
      ]
     },
     "execution_count": 280,
     "metadata": {},
     "output_type": "execute_result"
    }
   ],
   "source": [
    "vsr.Vec(0,0,0).null().spin(((l1 + l2 + l3) * -0.5).exp())"
   ]
  },
  {
   "cell_type": "code",
   "execution_count": 281,
   "metadata": {
    "collapsed": false
   },
   "outputs": [
    {
     "data": {
      "text/plain": [
       "Pnt: [ 1 1 1 1 1.5 ]"
      ]
     },
     "execution_count": 281,
     "metadata": {},
     "output_type": "execute_result"
    }
   ],
   "source": [
    "vsr.Vec(1,1,1).null()"
   ]
  },
  {
   "cell_type": "code",
   "execution_count": null,
   "metadata": {
    "collapsed": true
   },
   "outputs": [],
   "source": []
  }
 ],
 "metadata": {
  "anaconda-cloud": {},
  "kernelspec": {
   "display_name": "Python [default]",
   "language": "python",
   "name": "python3"
  },
  "language_info": {
   "codemirror_mode": {
    "name": "ipython",
    "version": 3
   },
   "file_extension": ".py",
   "mimetype": "text/x-python",
   "name": "python",
   "nbconvert_exporter": "python",
   "pygments_lexer": "ipython3",
   "version": "3.5.2"
  },
  "widgets": {
   "state": {
    "dc57eee5548548e4b7c55c5a9aa2b89e": {
     "views": [
      {
       "cell_index": 15
      }
     ]
    }
   },
   "version": "1.2.0"
  }
 },
 "nbformat": 4,
 "nbformat_minor": 1
}
