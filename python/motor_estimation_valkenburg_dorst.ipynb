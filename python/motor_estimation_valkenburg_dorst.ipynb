{
 "cells": [
  {
   "cell_type": "markdown",
   "metadata": {},
   "source": [
    "# Estimating Motors from a Variety of Geometric Data in 3D Conformal Geometric Algebra\n",
    "\n",
    "Robert Valkenburg and Leo Dorst"
   ]
  },
  {
   "cell_type": "code",
   "execution_count": 1,
   "metadata": {
    "collapsed": false
   },
   "outputs": [
    {
     "name": "stdout",
     "output_type": "stream",
     "text": [
      "Populating the interactive namespace from numpy and matplotlib\n"
     ]
    }
   ],
   "source": [
    "from __future__ import print_function\n",
    "import sys\n",
    "sys.path.append('../build/')\n",
    "%pylab inline\n",
    "np.set_printoptions(precision=2, suppress=True)\n",
    "import versor as vsr\n",
    "from versor.drawing import *\n",
    "from game import (MotorEstimationSolver, VDMotorEstimationSolver)"
   ]
  },
  {
   "cell_type": "code",
   "execution_count": 2,
   "metadata": {
    "collapsed": false
   },
   "outputs": [],
   "source": [
    "import versor as vsr"
   ]
  },
  {
   "cell_type": "markdown",
   "metadata": {},
   "source": [
    "## Dataset Generation"
   ]
  },
  {
   "cell_type": "code",
   "execution_count": 74,
   "metadata": {
    "collapsed": false
   },
   "outputs": [
    {
     "name": "stdout",
     "output_type": "stream",
     "text": [
      "Mot: [ 0.87 -0.13 -0.27 -0.4 -3.3e+06 -2.9e+06 -5.1e+05 6.9e+05 ]\n"
     ]
    }
   ],
   "source": [
    "delta = 9e6\n",
    "theta = np.pi/6.0\n",
    "motor = (vsr.Vec(1,1,1).unit() * delta).trs() * vsr.Rot(vsr.Biv(1,2,3).unit() * theta )\n",
    "print(motor)"
   ]
  },
  {
   "cell_type": "code",
   "execution_count": 75,
   "metadata": {
    "collapsed": false
   },
   "outputs": [],
   "source": [
    "n_points = 10\n",
    "sigma = 0.09\n",
    "points_a = [vsr.Vec(*np.random.rand(3)).null() \n",
    "            for i in range(n_points)]\n",
    "points_b = [point.spin(motor) for point in points_a]\n",
    "points_b_noisy = [vsr.Vec(*(np.array(point)[:3] \n",
    "                            + sigma * np.random.randn(3))).null() \n",
    "                  for point in points_b]"
   ]
  },
  {
   "cell_type": "code",
   "execution_count": 76,
   "metadata": {
    "collapsed": false
   },
   "outputs": [],
   "source": [
    "lines_a = [vsr.Dll(vsr.Vec(*np.random.normal(0.0,0.8,3)).null(),\n",
    "                   vsr.Vec(*np.random.normal(0.0,0.8,3)).null())\n",
    "          for i in range(10)]\n",
    "lines_b = [line.spin(motor) for line in lines_a]"
   ]
  },
  {
   "cell_type": "code",
   "execution_count": 77,
   "metadata": {
    "collapsed": true
   },
   "outputs": [],
   "source": [
    "n_planes = 100\n",
    "planes_a = []\n",
    "for i in range(10):\n",
    "    dir_vec = vsr.Vec(*np.random.normal(0.0, 0.8, 3)).unit()\n",
    "    distance = np.random.normal(0.0, 0.8,1)\n",
    "    planes_a.append(vsr.Dlp(dir_vec[0],dir_vec[1],dir_vec[2],distance[0]))\n",
    "planes_b = [plane.spin(motor) for plane in planes_a]"
   ]
  },
  {
   "cell_type": "code",
   "execution_count": 78,
   "metadata": {
    "collapsed": false
   },
   "outputs": [],
   "source": [
    "n_drvs = 10\n",
    "drvs_a = [vsr.Vec(*np.random.rand(3)).unit().drv() for i in range(10)]\n",
    "drvs_b = [d.spin(motor) for d in drvs_a]"
   ]
  },
  {
   "cell_type": "code",
   "execution_count": 79,
   "metadata": {
    "collapsed": false,
    "scrolled": false
   },
   "outputs": [
    {
     "name": "stdout",
     "output_type": "stream",
     "text": [
      "[       0.87       -0.15       -0.27       -0.39 -3335905.1  -2888695.24\n",
      "  -532869.76   702301.04]\n",
      "[       0.87       -0.13       -0.27       -0.4  -3291547.61 -2944365.07\n",
      "  -514087.31   694365.07]\n",
      "Mot: [ 1 0.0087 0.0084 -0.011 8.9e+04 -1e+05 1.4e+04 -3.5e-10 ]\n"
     ]
    }
   ],
   "source": [
    "vd = VDMotorEstimationSolver()\n",
    "# vd.add_dual_plane_observations(planes_a, planes_b)\n",
    "# vd.add_dual_line_observations(lines_a, lines_b)\n",
    "vd.add_point_observations(points_a, points_b)\n",
    "vd_estimated_motor = vd.solve()\n",
    "print(np.array(vd_estimated_motor))\n",
    "print(np.array(motor))\n",
    "print(motor * vd_estimated_motor.rev())"
   ]
  },
  {
   "cell_type": "code",
   "execution_count": 10,
   "metadata": {
    "collapsed": false
   },
   "outputs": [
    {
     "name": "stdout",
     "output_type": "stream",
     "text": [
      "Dlp: [ -0.2935 1 1.283 2.802 ]\n",
      "Dlp: [ 0.3598 1 1.251 2.335 ]\n",
      "Dlp: [ 0.5233 1 1.398 2.239 ]\n",
      "Dlp: [ -0.2367 1 1.41 2.865 ]\n",
      "Dlp: [ 0.7605 1 0.9634 2.182 ]\n",
      "Dlp: [ 0.4225 1 1.696 2.779 ]\n",
      "Dlp: [ 0.6947 1 0.8519 1.961 ]\n",
      "Dlp: [ 0.4056 1 1.495 2.456 ]\n",
      "Dlp: [ 0.3746 1 1.345 2.206 ]\n",
      "Dlp: [ 0.382 1 1.451 2.578 ]\n"
     ]
    }
   ],
   "source": [
    "for a, b in zip(points_a, points_b):\n",
    "    print(b - a)"
   ]
  },
  {
   "cell_type": "code",
   "execution_count": 11,
   "metadata": {
    "collapsed": false
   },
   "outputs": [],
   "source": [
    "scene = Scene(children=[point_mesh(points_a[0],color='hotpink'),\n",
    "                        point_mesh(points_b[0],color='hotpink'),\n",
    "#                         plane_mesh(points_b[0] - points_a[0], width=10, height=10,color='lightskyblue'),\n",
    "                       frame_mesh(),AmbientLight(color='#cccccc')])\n",
    "\n",
    "camera = PerspectiveCamera(position=[3, -3, 3])\n",
    "renderer = Renderer(camera=camera, \n",
    "                    scene=scene, \n",
    "                    controls=[TrackballControls(controlling=camera)],\n",
    "                    background = 'white')\n",
    "display(renderer)"
   ]
  },
  {
   "cell_type": "code",
   "execution_count": 12,
   "metadata": {
    "collapsed": false
   },
   "outputs": [
    {
     "name": "stdout",
     "output_type": "stream",
     "text": [
      "\n",
      "Solver Summary (v 1.12.0-eigen-(3.3.1)-lapack-suitesparse-(4.5.3)-cxsparse-(3.1.9)-no_openmp)\n",
      "\n",
      "                                     Original                  Reduced\n",
      "Parameter blocks                            1                        1\n",
      "Parameters                                  8                        8\n",
      "Effective parameters                        6                        6\n",
      "Residual blocks                            10                       10\n",
      "Residual                                   60                       60\n",
      "\n",
      "Minimizer                        TRUST_REGION\n",
      "\n",
      "Dense linear algebra library            EIGEN\n",
      "Trust region strategy     LEVENBERG_MARQUARDT\n",
      "\n",
      "                                        Given                     Used\n",
      "Linear solver                        DENSE_QR                 DENSE_QR\n",
      "Threads                                     1                        1\n",
      "Linear solver threads                       1                        1\n",
      "Linear solver ordering              AUTOMATIC                        1\n",
      "\n",
      "Cost:\n",
      "Initial                          4.481842e+01\n",
      "Final                            4.231525e-25\n",
      "Change                           4.481842e+01\n",
      "\n",
      "Minimizer iterations                        6\n",
      "Successful steps                            6\n",
      "Unsuccessful steps                          0\n",
      "\n",
      "Time (in seconds):\n",
      "Preprocessor                           0.0001\n",
      "\n",
      "  Residual evaluation                  0.0000\n",
      "  Jacobian evaluation                  0.0002\n",
      "  Linear solver                        0.0001\n",
      "Minimizer                              0.0005\n",
      "\n",
      "Postprocessor                          0.0000\n",
      "Total                                  0.0006\n",
      "\n",
      "Termination:                      CONVERGENCE (Gradient tolerance reached. Gradient max norm: 1.198980e-11 <= 1.000000e-10)\n",
      "\n",
      "[ 0.87 -0.   -0.5   0.   -0.68 -0.43 -0.18 -0.25]\n"
     ]
    }
   ],
   "source": [
    "initial_motor = vsr.Mot(1.0, 0.0, 0.0, 0.0, 0.0, 0.0, 0.0, 0.0)\n",
    "mes = MotorEstimationSolver(initial_motor)\n",
    "# for a,b in zip(drvs_a, drvs_b):\n",
    "#     mes.add_direction_vector_inner_product_residual_block(a,b)\n",
    "for a,b in zip(lines_a, lines_b):\n",
    "    mes.add_line_correspondences_residual_block(a,b)\n",
    "#     mes.add_line_commutator_residual_block(a,b) \n",
    "#     mes.add_line_inner_product_residual_block(a,b)\n",
    "#     mes.add_line_angle_distance_norm_residual_block(a,b)\n",
    "    \n",
    "# for a,b in zip(points_a, points_b):\n",
    "#     mes.add_point_distance_residual_block(a,b)\n",
    "#     mes.add_point_correspondences_residual_block(a,b)\n",
    "# for a, b, c, d, e, f in zip(points_a, points_b, lines_a, lines_b, planes_a, planes_b):\n",
    "#     mes.add_point_difference_residual_block(a,b)\n",
    "#     mes.add_line_correspondences_residual_block(c,d)\n",
    "#     mes.add_dual_plane_difference_residual_block(e,f)\n",
    "mes.set_parameterization('BIVECTOR_GENERATOR')\n",
    "mes.linear_solver_type = 'DENSE_QR'\n",
    "# mes.num_linear_solver_threads = 4\n",
    "# mes.num_threads = 4\n",
    "# mes.function_tolerance  = 1e-16\n",
    "\n",
    "mes.max_num_iterations = 1000\n",
    "# mes.minimizer_type = 'LINE_SEARCH'\n",
    "\n",
    "te_estimated_motor, summary, motors = mes.solve()\n",
    "print(summary['full_report'])\n",
    "print(np.array(te_estimated_motor))"
   ]
  },
  {
   "cell_type": "code",
   "execution_count": 13,
   "metadata": {
    "collapsed": false
   },
   "outputs": [
    {
     "name": "stdout",
     "output_type": "stream",
     "text": [
      "[ 0.87  0.   -0.5   0.   -0.68 -0.43 -0.18 -0.25]\n"
     ]
    }
   ],
   "source": [
    "print(np.array(motor))"
   ]
  },
  {
   "cell_type": "code",
   "execution_count": 14,
   "metadata": {
    "collapsed": false
   },
   "outputs": [
    {
     "data": {
      "text/plain": [
       "False"
      ]
     },
     "execution_count": 14,
     "metadata": {},
     "output_type": "execute_result"
    }
   ],
   "source": [
    "np.allclose(vd_estimated_motor, te_estimated_motor, atol=1e-03)"
   ]
  },
  {
   "cell_type": "code",
   "execution_count": 15,
   "metadata": {
    "collapsed": false
   },
   "outputs": [
    {
     "name": "stdout",
     "output_type": "stream",
     "text": [
      "[[  0.73   1.73   2.73   1.     0.     0.     0.     0.  ]\n",
      " [  1.73  -0.73  -1.     2.73   0.     0.     0.     0.  ]\n",
      " [  2.73   1.    -0.73  -1.73   0.     0.     0.     0.  ]\n",
      " [ 11.26   1.    -4.5    1.    -0.73  -1.73  -2.73  -1.  ]]\n"
     ]
    }
   ],
   "source": [
    "dlp = vsr.Dlp(1,1,1,5)\n",
    "Jac = np.zeros((5,8))\n",
    "for i in range(8):\n",
    "    ei = vsr.Mot(0,0,0,0,0,0,0,0)\n",
    "    ei[i] = 1.\n",
    "    Jac[:,i] = np.array((vsr.CGA(motor) * vsr.CGA(dlp) * vsr.CGA(ei.rev()) +\n",
    "                         vsr.CGA(ei) * vsr.CGA(dlp) * vsr.CGA(motor.rev())))[1:6]\n",
    "Jac = np.delete(Jac,3,0)\n",
    "print(Jac)"
   ]
  },
  {
   "cell_type": "code",
   "execution_count": 16,
   "metadata": {
    "collapsed": false
   },
   "outputs": [
    {
     "name": "stdout",
     "output_type": "stream",
     "text": [
      "[[ 0.    0.5   0.    0.    0.    0.  ]\n",
      " [ 0.87  0.   -0.5   0.    0.    0.  ]\n",
      " [ 0.    0.87  0.    0.    0.    0.  ]\n",
      " [ 0.5   0.    0.87  0.    0.    0.  ]\n",
      " [-0.43 -0.18  0.25  0.87  0.    0.5 ]\n",
      " [ 0.68 -0.25 -0.18  0.    0.87  0.  ]\n",
      " [ 0.25  0.68  0.43 -0.5   0.    0.87]\n",
      " [-0.18  0.43 -0.68  0.    0.5   0.  ]]\n"
     ]
    }
   ],
   "source": [
    "Jac3 = np.zeros((8,6))\n",
    "Jac3[:,0] = vsr.Dll(1,0,0,0,0,0) * motor\n",
    "Jac3[:,1] = vsr.Dll(0,1,0,0,0,0) * motor\n",
    "Jac3[:,2] = vsr.Dll(0,0,1,0,0,0) * motor\n",
    "Jac3[:,3] = vsr.Dll(0,0,0,1,0,0) * motor\n",
    "Jac3[:,4] = vsr.Dll(0,0,0,0,1,0) * motor\n",
    "Jac3[:,5] = vsr.Dll(0,0,0,0,0,1) * motor\n",
    "print(Jac3)"
   ]
  },
  {
   "cell_type": "code",
   "execution_count": 17,
   "metadata": {
    "collapsed": false
   },
   "outputs": [
    {
     "data": {
      "text/plain": [
       "array([[ 2.  ,  2.73,  0.  ,  0.  ,  0.  ,  0.  ],\n",
       "       [ 0.73, -0.  ,  2.73,  0.  ,  0.  ,  0.  ],\n",
       "       [-0.  ,  0.73, -2.  ,  0.  ,  0.  ,  0.  ],\n",
       "       [-0.  ,  0.  ,  0.  ,  0.73, -2.  , -2.73]])"
      ]
     },
     "execution_count": 17,
     "metadata": {},
     "output_type": "execute_result"
    }
   ],
   "source": [
    "np.dot(Jac,Jac3)"
   ]
  },
  {
   "cell_type": "code",
   "execution_count": 18,
   "metadata": {
    "collapsed": false
   },
   "outputs": [],
   "source": [
    "p1s = [vsr.Vec(1,0,0).null(), vsr.Vec(0,1,0).null(), vsr.Vec(-1,0,1).null()] \n",
    "p2s = [p1i.spin(motor) for p1i in p1s] \n",
    "p3s = [(p2i.vec() - p1i.vec()).null() for p1i, p2i in zip(p1s,p2s)]\n",
    "c1 = vsr.Cir(*p1s)\n",
    "c2 = vsr.Cir(*p2s)\n",
    "c3 = vsr.Cir(*p3s)"
   ]
  },
  {
   "cell_type": "code",
   "execution_count": 19,
   "metadata": {
    "collapsed": false,
    "scrolled": true
   },
   "outputs": [
    {
     "data": {
      "text/plain": [
       "array([ 1.82, -0.71, -0.11,  0.  ,  0.  ,  0.  ,  0.41, -0.41,  0.41,  0.  ])"
      ]
     },
     "execution_count": 19,
     "metadata": {},
     "output_type": "execute_result"
    }
   ],
   "source": [
    "np.array((vsr.CGA(motor) * vsr.CGA(c1.axis()) * vsr.CGA(vsr.Mot(1,0,0,0,0,0,0,0).rev()) +\n",
    " vsr.CGA(vsr.Mot(1,0,0,0,0,0,0,0)) * vsr.CGA(c1.axis()) * vsr.CGA(motor.rev())))[6:16]"
   ]
  },
  {
   "cell_type": "code",
   "execution_count": 20,
   "metadata": {
    "collapsed": false
   },
   "outputs": [
    {
     "name": "stdout",
     "output_type": "stream",
     "text": [
      "[[ 1.82  0.41  0.11 -0.71  0.    0.    0.    0.  ]\n",
      " [-0.71 -0.11  0.41 -1.82  0.    0.    0.    0.  ]\n",
      " [-0.11  0.71  1.82  0.41  0.    0.    0.    0.  ]\n",
      " [ 0.41 -0.41  0.41 -1.01  0.41 -1.82  0.71  0.11]\n",
      " [-0.41 -0.41  1.01  0.41  1.82  0.41  0.11 -0.71]\n",
      " [ 0.41 -1.01 -0.41  0.41 -0.71 -0.11  0.41 -1.82]]\n"
     ]
    }
   ],
   "source": [
    "JacCircle = np.zeros((6,8))\n",
    "for i in range(8):\n",
    "    ei = vsr.Mot(0,0,0,0,0,0,0,0)\n",
    "    ei[i] = 1.\n",
    "    JacCircle[:,i] = np.delete(np.array((vsr.CGA(motor) * vsr.CGA(c1.axis()) * vsr.CGA(ei.rev()) +\n",
    "                               vsr.CGA(ei) * vsr.CGA(c1.axis()) * vsr.CGA(motor.rev())))[6:16],[3,4,5,9])\n",
    "print(JacCircle)"
   ]
  },
  {
   "cell_type": "code",
   "execution_count": 21,
   "metadata": {
    "collapsed": false
   },
   "outputs": [
    {
     "data": {
      "text/plain": [
       "array([[-0.  ,  1.01, -0.82,  0.  ,  0.  ,  0.  ],\n",
       "       [-1.01,  0.  , -1.52,  0.  ,  0.  ,  0.  ],\n",
       "       [ 0.82,  1.52,  0.  ,  0.  ,  0.  ,  0.  ],\n",
       "       [-2.12,  1.47,  0.  , -0.  , -1.52,  0.82],\n",
       "       [-0.5 , -0.  ,  1.47,  1.52, -0.  ,  1.01],\n",
       "       [ 0.  , -0.5 ,  2.12, -0.82, -1.01,  0.  ],\n",
       "       [-0.  ,  1.01, -0.82,  0.  ,  0.  ,  0.  ],\n",
       "       [-1.01,  0.  , -1.52,  0.  ,  0.  ,  0.  ],\n",
       "       [ 0.82,  1.52,  0.  ,  0.  ,  0.  ,  0.  ],\n",
       "       [-2.12,  1.47,  0.  , -0.  , -1.52,  0.82],\n",
       "       [-0.5 , -0.  ,  1.47,  1.52, -0.  ,  1.01],\n",
       "       [ 0.  , -0.5 ,  2.12, -0.82, -1.01,  0.  ],\n",
       "       [-0.  ,  1.01, -0.82,  0.  ,  0.  ,  0.  ],\n",
       "       [-1.01,  0.  , -1.52,  0.  ,  0.  ,  0.  ],\n",
       "       [ 0.82,  1.52,  0.  ,  0.  ,  0.  ,  0.  ],\n",
       "       [-2.12,  1.47,  0.  , -0.  , -1.52,  0.82],\n",
       "       [-0.5 , -0.  ,  1.47,  1.52, -0.  ,  1.01],\n",
       "       [ 0.  , -0.5 ,  2.12, -0.82, -1.01,  0.  ]])"
      ]
     },
     "execution_count": 21,
     "metadata": {},
     "output_type": "execute_result"
    }
   ],
   "source": [
    "np.dot(np.row_stack((JacCircle,JacCircle,JacCircle)),Jac3)"
   ]
  },
  {
   "cell_type": "code",
   "execution_count": 22,
   "metadata": {
    "collapsed": false
   },
   "outputs": [
    {
     "name": "stdout",
     "output_type": "stream",
     "text": [
      "Mot: [ 0.87 0 -0.5 0 -1.2 -0.87 -1 -0.5 ]\n"
     ]
    }
   ],
   "source": [
    "trs = vsr.Vec(1,2,3).trs() * vsr.Biv(0,pi/6,0).exp()\n",
    "print(trs)\n",
    "cdiff = c1.spin(trs)"
   ]
  },
  {
   "cell_type": "code",
   "execution_count": 23,
   "metadata": {
    "collapsed": false
   },
   "outputs": [],
   "source": [
    "ans = c1.dual().comm(cdiff.dual()).undual()\n",
    "scene = Scene(children=[circle_mesh(c1,color='hotpink'),\n",
    "                        point_mesh(c1.pnt(),color='hotpink'),\n",
    "                        circle_mesh(cdiff,color='lightskyblue'),\n",
    "                        point_mesh(cdiff.pnt(),color='lightskyblue'),\n",
    "                        line_mesh(vsr.Dll(c1.pnt(), cdiff.pnt())),\n",
    "                        bivector_mesh(cdiff.dir().unit()),\n",
    "                        circle_mesh(ans,color='green'),\n",
    "                        point_mesh(ans.pnt(),color='green'),\n",
    "#                         vector_mesh(ans.dual().dir().vec(), arrow=True, position=(ans).pnt()),\n",
    "                        frame_mesh(),\n",
    "                        AmbientLight(color='#cccccc')] +\\\n",
    "             [point_mesh(p, color='red') for p in ans.dual().split()]\n",
    "             )\n",
    "\n",
    "camera = PerspectiveCamera(position=[3, -3, 3])\n",
    "renderer = Renderer(camera=camera, \n",
    "                    scene=scene, \n",
    "                    controls=[TrackballControls(controlling=camera)],\n",
    "                    background = 'white')\n",
    "display(renderer)"
   ]
  },
  {
   "cell_type": "code",
   "execution_count": 24,
   "metadata": {
    "collapsed": false
   },
   "outputs": [
    {
     "data": {
      "text/plain": [
       "Pnt: [ 0 0 0.5 1 0.125 ]"
      ]
     },
     "execution_count": 24,
     "metadata": {},
     "output_type": "execute_result"
    }
   ],
   "source": [
    "c1.pnt()\n"
   ]
  },
  {
   "cell_type": "code",
   "execution_count": 25,
   "metadata": {
    "collapsed": false
   },
   "outputs": [
    {
     "data": {
      "text/plain": [
       "Pnt: [ 0.567 2 3.25 1 7.442 ]"
      ]
     },
     "execution_count": 25,
     "metadata": {},
     "output_type": "execute_result"
    }
   ],
   "source": [
    "cdiff.pnt()"
   ]
  },
  {
   "cell_type": "code",
   "execution_count": 26,
   "metadata": {
    "collapsed": false
   },
   "outputs": [
    {
     "data": {
      "text/plain": [
       "Pnt: [ 0.04788 0.8923 1.848 1 2.108 ]"
      ]
     },
     "execution_count": 26,
     "metadata": {},
     "output_type": "execute_result"
    }
   ],
   "source": [
    "ans.pnt()"
   ]
  },
  {
   "cell_type": "code",
   "execution_count": 27,
   "metadata": {
    "collapsed": false
   },
   "outputs": [
    {
     "data": {
      "text/plain": [
       "Par: [ 1.254 12.67 3.663 5.49 -7.5 -18.29 -5.826 -0.5849 13.19 40.25 ]"
      ]
     },
     "execution_count": 27,
     "metadata": {},
     "output_type": "execute_result"
    }
   ],
   "source": [
    "ans = c1.dual().comm(cdiff.dual())\n",
    "ans"
   ]
  },
  {
   "cell_type": "code",
   "execution_count": 28,
   "metadata": {
    "collapsed": false
   },
   "outputs": [
    {
     "data": {
      "text/plain": [
       "1.4672999095746644"
      ]
     },
     "execution_count": 28,
     "metadata": {},
     "output_type": "execute_result"
    }
   ],
   "source": [
    "ans.radius()"
   ]
  },
  {
   "cell_type": "code",
   "execution_count": 29,
   "metadata": {
    "collapsed": false,
    "scrolled": true
   },
   "outputs": [
    {
     "ename": "TypeError",
     "evalue": "Unable to convert function return value to a Python type! The signature was\n\t(self: versor_pybind11.Drv) -> vsr::Multivector<vsr::algebra<vsr::metric<4, 1, true>, double>, vsr::Basis<(short)19, (short)21, (short)22> >",
     "output_type": "error",
     "traceback": [
      "\u001b[0;31m---------------------------------------------------------------------------\u001b[0m",
      "\u001b[0;31mTypeError\u001b[0m                                 Traceback (most recent call last)",
      "\u001b[0;32m<ipython-input-29-4c2deed60e20>\u001b[0m in \u001b[0;36m<module>\u001b[0;34m()\u001b[0m\n\u001b[0;32m----> 1\u001b[0;31m \u001b[0mans\u001b[0m\u001b[0;34m.\u001b[0m\u001b[0mdir\u001b[0m\u001b[0;34m(\u001b[0m\u001b[0;34m)\u001b[0m\u001b[0;34m.\u001b[0m\u001b[0munit\u001b[0m\u001b[0;34m(\u001b[0m\u001b[0;34m)\u001b[0m\u001b[0;34m.\u001b[0m\u001b[0munduale\u001b[0m\u001b[0;34m(\u001b[0m\u001b[0;34m)\u001b[0m\u001b[0;34m\u001b[0m\u001b[0m\n\u001b[0m",
      "\u001b[0;31mTypeError\u001b[0m: Unable to convert function return value to a Python type! The signature was\n\t(self: versor_pybind11.Drv) -> vsr::Multivector<vsr::algebra<vsr::metric<4, 1, true>, double>, vsr::Basis<(short)19, (short)21, (short)22> >"
     ]
    }
   ],
   "source": [
    "ans.dir().unit().unduale()"
   ]
  },
  {
   "cell_type": "code",
   "execution_count": 30,
   "metadata": {
    "collapsed": false
   },
   "outputs": [
    {
     "data": {
      "text/plain": [
       "Vec: [ 0.5 -0.41 -0.76 ]"
      ]
     },
     "execution_count": 30,
     "metadata": {},
     "output_type": "execute_result"
    }
   ],
   "source": [
    "cdiff.dir().unit().unduale() "
   ]
  },
  {
   "cell_type": "code",
   "execution_count": 31,
   "metadata": {
    "collapsed": false
   },
   "outputs": [
    {
     "data": {
      "text/plain": [
       "Vec: [ -0.41 -0.41 -0.82 ]"
      ]
     },
     "execution_count": 31,
     "metadata": {},
     "output_type": "execute_result"
    }
   ],
   "source": [
    "c1.dir().unit().unduale() "
   ]
  },
  {
   "cell_type": "code",
   "execution_count": 32,
   "metadata": {
    "collapsed": false
   },
   "outputs": [
    {
     "data": {
      "text/plain": [
       "1.118033988749895"
      ]
     },
     "execution_count": 32,
     "metadata": {},
     "output_type": "execute_result"
    }
   ],
   "source": [
    "c1.radius()"
   ]
  },
  {
   "cell_type": "code",
   "execution_count": 33,
   "metadata": {
    "collapsed": false
   },
   "outputs": [
    {
     "data": {
      "text/plain": [
       "1.1180339887498945"
      ]
     },
     "execution_count": 33,
     "metadata": {},
     "output_type": "execute_result"
    }
   ],
   "source": [
    "cdiff.radius()"
   ]
  },
  {
   "cell_type": "code",
   "execution_count": 34,
   "metadata": {
    "collapsed": false
   },
   "outputs": [
    {
     "data": {
      "text/plain": [
       "Vec: [ -0.57 -2 -2.8 ]"
      ]
     },
     "execution_count": 34,
     "metadata": {},
     "output_type": "execute_result"
    }
   ],
   "source": [
    "c1.pnt().vec() - cdiff.pnt().vec()"
   ]
  },
  {
   "cell_type": "code",
   "execution_count": 35,
   "metadata": {
    "collapsed": false
   },
   "outputs": [
    {
     "data": {
      "text/plain": [
       "Vec: [ 2.2 0 0.13 ]"
      ]
     },
     "execution_count": 35,
     "metadata": {},
     "output_type": "execute_result"
    }
   ],
   "source": [
    "(c1 - cdiff).dual().dir().vec()"
   ]
  },
  {
   "cell_type": "code",
   "execution_count": 36,
   "metadata": {
    "collapsed": false
   },
   "outputs": [
    {
     "ename": "TypeError",
     "evalue": "'versor_pybind11.Par' object does not support indexing",
     "output_type": "error",
     "traceback": [
      "\u001b[0;31m---------------------------------------------------------------------------\u001b[0m",
      "\u001b[0;31mTypeError\u001b[0m                                 Traceback (most recent call last)",
      "\u001b[0;32m<ipython-input-36-b919c4245a34>\u001b[0m in \u001b[0;36m<module>\u001b[0;34m()\u001b[0m\n\u001b[0;32m----> 1\u001b[0;31m \u001b[0mans\u001b[0m\u001b[0;34m[\u001b[0m\u001b[0;36m0\u001b[0m\u001b[0;34m]\u001b[0m\u001b[0;34m\u001b[0m\u001b[0m\n\u001b[0m",
      "\u001b[0;31mTypeError\u001b[0m: 'versor_pybind11.Par' object does not support indexing"
     ]
    }
   ],
   "source": [
    "ans[0]"
   ]
  },
  {
   "cell_type": "code",
   "execution_count": 37,
   "metadata": {
    "collapsed": false
   },
   "outputs": [
    {
     "ename": "SyntaxError",
     "evalue": "invalid syntax (<ipython-input-37-3432a68e7cd6>, line 1)",
     "output_type": "error",
     "traceback": [
      "\u001b[0;36m  File \u001b[0;32m\"<ipython-input-37-3432a68e7cd6>\"\u001b[0;36m, line \u001b[0;32m1\u001b[0m\n\u001b[0;31m    - np.outer(l1,l2)ans[1].undual()\u001b[0m\n\u001b[0m                       ^\u001b[0m\n\u001b[0;31mSyntaxError\u001b[0m\u001b[0;31m:\u001b[0m invalid syntax\n"
     ]
    }
   ],
   "source": [
    "- np.outer(l1,l2)ans[1].undual()"
   ]
  },
  {
   "cell_type": "code",
   "execution_count": 38,
   "metadata": {
    "collapsed": false
   },
   "outputs": [],
   "source": [
    "vsr.Lin(c1 - cdiff).__print_debug_info_console()"
   ]
  },
  {
   "cell_type": "code",
   "execution_count": 39,
   "metadata": {
    "collapsed": false
   },
   "outputs": [],
   "source": [
    "c1.__print_debug_info_console()\n",
    "cdiff.__print_debug_info_console()"
   ]
  },
  {
   "cell_type": "code",
   "execution_count": 40,
   "metadata": {
    "collapsed": false
   },
   "outputs": [
    {
     "ename": "AttributeError",
     "evalue": "'versor_pybind11.Mot' object has no attribute 'dir'",
     "output_type": "error",
     "traceback": [
      "\u001b[0;31m---------------------------------------------------------------------------\u001b[0m",
      "\u001b[0;31mAttributeError\u001b[0m                            Traceback (most recent call last)",
      "\u001b[0;32m<ipython-input-40-ec280752663b>\u001b[0m in \u001b[0;36m<module>\u001b[0;34m()\u001b[0m\n\u001b[1;32m      5\u001b[0m         \u001b[0mplane_mesh\u001b[0m\u001b[0;34m(\u001b[0m\u001b[0mdlp\u001b[0m\u001b[0;34m,\u001b[0m\u001b[0mcolor\u001b[0m\u001b[0;34m=\u001b[0m\u001b[0;34m'hotpink'\u001b[0m\u001b[0;34m)\u001b[0m\u001b[0;34m,\u001b[0m\u001b[0;34m\u001b[0m\u001b[0m\n\u001b[1;32m      6\u001b[0m         \u001b[0mplane_mesh\u001b[0m\u001b[0;34m(\u001b[0m\u001b[0mdlp2\u001b[0m\u001b[0;34m,\u001b[0m\u001b[0mcolor\u001b[0m\u001b[0;34m=\u001b[0m\u001b[0;34m'lightskyblue'\u001b[0m\u001b[0;34m)\u001b[0m\u001b[0;34m,\u001b[0m\u001b[0;34m\u001b[0m\u001b[0m\n\u001b[0;32m----> 7\u001b[0;31m         \u001b[0mplane_mesh\u001b[0m\u001b[0;34m(\u001b[0m\u001b[0mdlp2\u001b[0m\u001b[0;34m-\u001b[0m\u001b[0mdlp\u001b[0m\u001b[0;34m,\u001b[0m\u001b[0mcolor\u001b[0m\u001b[0;34m=\u001b[0m\u001b[0;34m'red'\u001b[0m\u001b[0;34m)\u001b[0m\u001b[0;34m,\u001b[0m\u001b[0;34m\u001b[0m\u001b[0m\n\u001b[0m\u001b[1;32m      8\u001b[0m                         \u001b[0mframe_mesh\u001b[0m\u001b[0;34m(\u001b[0m\u001b[0;34m)\u001b[0m\u001b[0;34m,\u001b[0m\u001b[0;34m\u001b[0m\u001b[0m\n\u001b[1;32m      9\u001b[0m                         AmbientLight(color='#cccccc')])\n",
      "\u001b[0;32m/Users/lars/devel/game/python/versor/drawing.py\u001b[0m in \u001b[0;36mplane_mesh\u001b[0;34m(plane, width, height, position, color)\u001b[0m\n\u001b[1;32m    111\u001b[0m         \u001b[0mmesh\u001b[0m\u001b[0;34m.\u001b[0m\u001b[0mquaternion\u001b[0m \u001b[0;34m=\u001b[0m \u001b[0mnp\u001b[0m\u001b[0;34m.\u001b[0m\u001b[0marray\u001b[0m\u001b[0;34m(\u001b[0m\u001b[0mnormal\u001b[0m\u001b[0;34m.\u001b[0m\u001b[0mratio\u001b[0m\u001b[0;34m(\u001b[0m\u001b[0mVec\u001b[0m\u001b[0;34m(\u001b[0m\u001b[0;36m0\u001b[0m\u001b[0;34m,\u001b[0m \u001b[0;36m0\u001b[0m\u001b[0;34m,\u001b[0m \u001b[0;36m1\u001b[0m\u001b[0;34m)\u001b[0m\u001b[0;34m)\u001b[0m\u001b[0;34m.\u001b[0m\u001b[0mquat\u001b[0m\u001b[0;34m(\u001b[0m\u001b[0;34m)\u001b[0m\u001b[0;34m)\u001b[0m\u001b[0;34m.\u001b[0m\u001b[0mtolist\u001b[0m\u001b[0;34m(\u001b[0m\u001b[0;34m)\u001b[0m\u001b[0;34m\u001b[0m\u001b[0m\n\u001b[1;32m    112\u001b[0m     \u001b[0;32melse\u001b[0m\u001b[0;34m:\u001b[0m\u001b[0;34m\u001b[0m\u001b[0m\n\u001b[0;32m--> 113\u001b[0;31m         \u001b[0mnormal\u001b[0m \u001b[0;34m=\u001b[0m \u001b[0mplane\u001b[0m\u001b[0;34m.\u001b[0m\u001b[0mdir\u001b[0m\u001b[0;34m(\u001b[0m\u001b[0;34m)\u001b[0m\u001b[0;34m.\u001b[0m\u001b[0mvec\u001b[0m\u001b[0;34m(\u001b[0m\u001b[0;34m)\u001b[0m\u001b[0;34m\u001b[0m\u001b[0m\n\u001b[0m\u001b[1;32m    114\u001b[0m         \u001b[0mmesh\u001b[0m\u001b[0;34m.\u001b[0m\u001b[0mquaternion\u001b[0m \u001b[0;34m=\u001b[0m \u001b[0mnp\u001b[0m\u001b[0;34m.\u001b[0m\u001b[0marray\u001b[0m\u001b[0;34m(\u001b[0m\u001b[0mnormal\u001b[0m\u001b[0;34m.\u001b[0m\u001b[0mratio\u001b[0m\u001b[0;34m(\u001b[0m\u001b[0mVec\u001b[0m\u001b[0;34m(\u001b[0m\u001b[0;36m0\u001b[0m\u001b[0;34m,\u001b[0m \u001b[0;36m0\u001b[0m\u001b[0;34m,\u001b[0m \u001b[0;36m1\u001b[0m\u001b[0;34m)\u001b[0m\u001b[0;34m)\u001b[0m\u001b[0;34m.\u001b[0m\u001b[0mquat\u001b[0m\u001b[0;34m(\u001b[0m\u001b[0;34m)\u001b[0m\u001b[0;34m)\u001b[0m\u001b[0;34m.\u001b[0m\u001b[0mtolist\u001b[0m\u001b[0;34m(\u001b[0m\u001b[0;34m)\u001b[0m\u001b[0;34m\u001b[0m\u001b[0m\n\u001b[1;32m    115\u001b[0m     \u001b[0;31m# mesh.children = [vector_mesh(Vec(0, 0, 1).spin(normal.ratio(Vec(0, 0, 1))))\u001b[0m\u001b[0;34m\u001b[0m\u001b[0;34m\u001b[0m\u001b[0m\n",
      "\u001b[0;31mAttributeError\u001b[0m: 'versor_pybind11.Mot' object has no attribute 'dir'"
     ]
    }
   ],
   "source": [
    "dlp2 = dlp.spin(motor)\n",
    "pd = dlp2 - dlp\n",
    "scene = Scene(children=[\n",
    "        vector_mesh(dlp.dir().vec(),color='hotpink', arrow=True),\n",
    "        plane_mesh(dlp,color='hotpink'),\n",
    "        plane_mesh(dlp2,color='lightskyblue'),\n",
    "        plane_mesh(dlp2-dlp,color='red'),\n",
    "                        frame_mesh(),\n",
    "                        AmbientLight(color='#cccccc')])\n",
    "\n",
    "camera = PerspectiveCamera(position=[3, -3, 3])\n",
    "renderer = Renderer(camera=camera, \n",
    "                    scene=scene, \n",
    "                    controls=[TrackballControls(controlling=camera)],\n",
    "                    background = 'white')\n",
    "display(renderer)"
   ]
  },
  {
   "cell_type": "code",
   "execution_count": 41,
   "metadata": {
    "collapsed": false
   },
   "outputs": [
    {
     "data": {
      "text/plain": [
       "Drv: [ -0.21 0.58 0.79 ]"
      ]
     },
     "execution_count": 41,
     "metadata": {},
     "output_type": "execute_result"
    }
   ],
   "source": [
    "dlp2.dir()"
   ]
  },
  {
   "cell_type": "code",
   "execution_count": 42,
   "metadata": {
    "collapsed": false
   },
   "outputs": [
    {
     "data": {
      "text/plain": [
       "Dlp: [ 1 1 1 5 ]"
      ]
     },
     "execution_count": 42,
     "metadata": {},
     "output_type": "execute_result"
    }
   ],
   "source": [
    "dlp"
   ]
  },
  {
   "cell_type": "code",
   "execution_count": 43,
   "metadata": {
    "collapsed": false
   },
   "outputs": [
    {
     "data": {
      "text/plain": [
       "Mot: [ 0 0 0 0 0 0 0 0 ]"
      ]
     },
     "execution_count": 43,
     "metadata": {},
     "output_type": "execute_result"
    }
   ],
   "source": [
    "pd"
   ]
  },
  {
   "cell_type": "code",
   "execution_count": 44,
   "metadata": {
    "collapsed": false
   },
   "outputs": [
    {
     "name": "stdout",
     "output_type": "stream",
     "text": [
      "[[ 0.   -1.41  2.54  0.79  0.66 -4.39]\n",
      " [ 1.41  0.   -2.22  1.25 -2.52  5.59]\n",
      " [-2.54  2.22  0.   -3.49  3.5  -3.16]\n",
      " [-0.79 -1.25  3.49  0.    1.99 -7.01]\n",
      " [-0.66  2.52 -3.5  -1.99  0.    5.23]\n",
      " [ 4.39 -5.59  3.16  7.01 -5.23  0.  ]]\n"
     ]
    }
   ],
   "source": [
    "l1 = lines_a[0]\n",
    "l2 = lines_b[0]\n",
    "Z = np.outer(l2,l1) - np.outer(l1,l2)\n",
    "print(Z)"
   ]
  },
  {
   "cell_type": "code",
   "execution_count": 45,
   "metadata": {
    "collapsed": false
   },
   "outputs": [
    {
     "data": {
      "text/plain": [
       "(array([ 0.+13.7j,  0.-13.7j,  0. +0.j ,  0. -0.j , -0. +0.j , -0. -0.j ]),\n",
       " array([[ 0.08+0.27j,  0.08-0.27j,  0.65+0.j  ,  0.65-0.j  , -0.13-0.14j,\n",
       "         -0.13+0.14j],\n",
       "        [ 0.09-0.34j,  0.09+0.34j, -0.12-0.28j, -0.12+0.28j, -0.04-0.3j ,\n",
       "         -0.04+0.3j ],\n",
       "        [-0.29+0.19j, -0.29-0.19j, -0.28-0.2j , -0.28+0.2j ,  0.58+0.j  ,\n",
       "          0.58-0.j  ],\n",
       "        [ 0.02+0.42j,  0.02-0.42j, -0.31-0.36j, -0.31+0.36j, -0.31+0.22j,\n",
       "         -0.31-0.22j],\n",
       "        [-0.19-0.32j, -0.19+0.32j,  0.08-0.31j,  0.08+0.31j, -0.13+0.5j ,\n",
       "         -0.13-0.5j ],\n",
       "        [ 0.60+0.j  ,  0.60-0.j  , -0.17-0.14j, -0.17+0.14j,  0.27+0.21j,\n",
       "          0.27-0.21j]]))"
      ]
     },
     "execution_count": 45,
     "metadata": {},
     "output_type": "execute_result"
    }
   ],
   "source": [
    "np.linalg.eig(Z)"
   ]
  },
  {
   "cell_type": "code",
   "execution_count": 46,
   "metadata": {
    "collapsed": false
   },
   "outputs": [
    {
     "data": {
      "text/plain": [
       "13.462110506950758"
      ]
     },
     "execution_count": 46,
     "metadata": {},
     "output_type": "execute_result"
    }
   ],
   "source": [
    "np.linalg.norm(l2.comm(l1) * 2.) / np.sqrt(2)"
   ]
  },
  {
   "cell_type": "code",
   "execution_count": 47,
   "metadata": {
    "collapsed": false
   },
   "outputs": [],
   "source": [
    "Z = np.zeros(6)\n",
    "for a,b in zip(lines_a, lines_b):\n",
    "    Z = Z + np.outer(a,b)"
   ]
  },
  {
   "cell_type": "code",
   "execution_count": 48,
   "metadata": {
    "collapsed": false
   },
   "outputs": [
    {
     "data": {
      "text/plain": [
       "array([[-0.53,  0.58, -0.55, -0.21, -0.13, -0.12],\n",
       "       [-0.47, -0.57, -0.04, -0.37,  0.46, -0.33],\n",
       "       [ 0.32,  0.27,  0.02,  0.23,  0.25, -0.84],\n",
       "       [ 0.12, -0.03, -0.53,  0.44,  0.63,  0.33],\n",
       "       [-0.45,  0.4 ,  0.63,  0.25,  0.39,  0.15],\n",
       "       [-0.42, -0.33, -0.09,  0.71, -0.41, -0.19]])"
      ]
     },
     "execution_count": 48,
     "metadata": {},
     "output_type": "execute_result"
    }
   ],
   "source": [
    "U,s,Vt = np.linalg.svd(Z)\n",
    "np.dot(U.T,Vt)"
   ]
  },
  {
   "cell_type": "code",
   "execution_count": 49,
   "metadata": {
    "collapsed": false
   },
   "outputs": [
    {
     "data": {
      "text/plain": [
       "array([ 0.87,  0.  , -0.5 ,  0.  , -0.68, -0.43, -0.18, -0.25])"
      ]
     },
     "execution_count": 49,
     "metadata": {},
     "output_type": "execute_result"
    }
   ],
   "source": [
    "np.array(motor)"
   ]
  },
  {
   "cell_type": "code",
   "execution_count": 50,
   "metadata": {
    "collapsed": true
   },
   "outputs": [],
   "source": [
    "n_circles = 10\n",
    "sigma = 0.09\n",
    "points_a = [vsr.Vec(*np.random.normal(0.0, 0.3, 3)).null() \n",
    "            for i in range(n_circles)]\n",
    "points_b = [point.spin(motor) for point in points_a]\n",
    "points_b_noisy = [vsr.Vec(*(np.array(point)[:3] \n",
    "                            + sigma * np.random.randn(3))).null() \n",
    "                  for point in points_b]\n",
    "\n",
    "radiuss = [np.random.rand() for i in range(n_circles)]\n",
    "bivs = [vsr.Vec(*np.random.normal(0.0, 0.3, 3)).unit().unduale()\n",
    "            for i in range(n_circles)]\n",
    "\n",
    "circs_a = [vsr.Cir(p,r,b) for p,r,b in zip(points_a, radiuss, bivs)]\n",
    "# circs_b = [vsr.Cir(p,r,b) for p,r,b in zip(points_b_noisy, radiuss, bivs)]\n",
    "circs_b = [circle.spin(motor) for circle in circs_a]\n"
   ]
  },
  {
   "cell_type": "code",
   "execution_count": 51,
   "metadata": {
    "collapsed": false
   },
   "outputs": [
    {
     "name": "stdout",
     "output_type": "stream",
     "text": [
      "Mot: [ 0.87 -5e-14 -0.5 7e-14 -0.68 -0.43 -0.18 -0.25 ]\n"
     ]
    }
   ],
   "source": [
    "initial_motor = vsr.Mot(1.0, 0.0, 0.0, 0.0, 0.0, 0.0, 0.0, 0.0)\n",
    "# initial_motor = vsr.Vec(2,3,4).trs() * vsr.Rot(vsr.Biv(0,-1,0) * np.pi/6)\n",
    "mes = MotorEstimationSolver(initial_motor)\n",
    "for a, b in zip(circs_a, circs_b):\n",
    "    a1,a2 = a.dual().split()\n",
    "    b1,b2 = b.dual().split()\n",
    "    mes.add_line_correspondences_residual_block(vsr.Dll(a1,a2), vsr.Dll(b1,b2))\n",
    "mes.set_parameterization('BIVECTOR_GENERATOR')\n",
    "mes.linear_solver_type = 'DENSE_QR'\n",
    "(estimated_motor, summary, motors) = mes.solve()\n",
    "# print(summary['full_report'])\n",
    "print(estimated_motor)"
   ]
  },
  {
   "cell_type": "code",
   "execution_count": 52,
   "metadata": {
    "collapsed": false
   },
   "outputs": [
    {
     "name": "stdout",
     "output_type": "stream",
     "text": [
      "\n",
      "Solver Summary (v 1.12.0-eigen-(3.3.1)-lapack-suitesparse-(4.5.3)-cxsparse-(3.1.9)-no_openmp)\n",
      "\n",
      "                                     Original                  Reduced\n",
      "Parameter blocks                            1                        1\n",
      "Parameters                                  8                        8\n",
      "Effective parameters                        6                        6\n",
      "Residual blocks                            10                       10\n",
      "Residual                                  100                      100\n",
      "\n",
      "Minimizer                        TRUST_REGION\n",
      "\n",
      "Dense linear algebra library            EIGEN\n",
      "Trust region strategy     LEVENBERG_MARQUARDT\n",
      "\n",
      "                                        Given                     Used\n",
      "Linear solver                        DENSE_QR                 DENSE_QR\n",
      "Threads                                     1                        1\n",
      "Linear solver threads                       1                        1\n",
      "Linear solver ordering              AUTOMATIC                        1\n",
      "\n",
      "Cost:\n",
      "Initial                          2.425428e+01\n",
      "Final                            1.619158e-15\n",
      "Change                           2.425428e+01\n",
      "\n",
      "Minimizer iterations                        9\n",
      "Successful steps                            9\n",
      "Unsuccessful steps                          0\n",
      "\n",
      "Time (in seconds):\n",
      "Preprocessor                           0.0000\n",
      "\n",
      "  Residual evaluation                  0.0000\n",
      "  Jacobian evaluation                  0.0022\n",
      "  Linear solver                        0.0001\n",
      "Minimizer                              0.0024\n",
      "\n",
      "Postprocessor                          0.0000\n",
      "Total                                  0.0024\n",
      "\n",
      "Termination:                      CONVERGENCE (Parameter tolerance reached. Relative step_norm: 3.870224e-09 <= 1.000000e-08.)\n",
      "\n",
      "Mot: [ 0.87 -8.2e-10 -0.5 -1.3e-09 -0.68 -0.43 -0.18 -0.25 ]\n"
     ]
    }
   ],
   "source": [
    "initial_motor = vsr.Mot(1.0, 0.0, 0.0, 0.0, 0.0, 0.0, 0.0, 0.0)\n",
    "# initial_motor = vsr.Vec(2,3,4).trs() * vsr.Rot(vsr.Biv(0,-1,0) * np.pi/6)\n",
    "mes = MotorEstimationSolver(initial_motor)\n",
    "for a, b in zip(circs_a, circs_b):\n",
    "#     mes.add_circle_difference_residual_block(a,b)\n",
    "    mes.add_circle_commutator_residual_block(a,b)\n",
    "mes.set_parameterization('BIVECTOR_GENERATOR')\n",
    "mes.linear_solver_type = 'DENSE_QR'\n",
    "(estimated_motor, summary, motors2) = mes.solve()\n",
    "print(summary['full_report'])\n",
    "print(estimated_motor)"
   ]
  },
  {
   "cell_type": "code",
   "execution_count": 53,
   "metadata": {
    "collapsed": false
   },
   "outputs": [
    {
     "data": {
      "text/plain": [
       "[True, False, False, False, False, False]"
      ]
     },
     "execution_count": 53,
     "metadata": {},
     "output_type": "execute_result"
    }
   ],
   "source": [
    "[np.allclose(m, m2,atol=1e-05) for m,m2 in zip(motors, motors2)]"
   ]
  },
  {
   "cell_type": "code",
   "execution_count": 54,
   "metadata": {
    "collapsed": false
   },
   "outputs": [
    {
     "ename": "TypeError",
     "evalue": "'zip' object is not subscriptable",
     "output_type": "error",
     "traceback": [
      "\u001b[0;31m---------------------------------------------------------------------------\u001b[0m",
      "\u001b[0;31mTypeError\u001b[0m                                 Traceback (most recent call last)",
      "\u001b[0;32m<ipython-input-54-010465cca3a9>\u001b[0m in \u001b[0;36m<module>\u001b[0;34m()\u001b[0m\n\u001b[0;32m----> 1\u001b[0;31m \u001b[0mprint\u001b[0m\u001b[0;34m(\u001b[0m\u001b[0mzip\u001b[0m\u001b[0;34m(\u001b[0m\u001b[0mmotors\u001b[0m\u001b[0;34m,\u001b[0m \u001b[0mmotors2\u001b[0m\u001b[0;34m)\u001b[0m\u001b[0;34m[\u001b[0m\u001b[0;34m-\u001b[0m\u001b[0;36m1\u001b[0m\u001b[0;34m]\u001b[0m\u001b[0;34m)\u001b[0m\u001b[0;34m\u001b[0m\u001b[0m\n\u001b[0m",
      "\u001b[0;31mTypeError\u001b[0m: 'zip' object is not subscriptable"
     ]
    }
   ],
   "source": [
    "print(zip(motors, motors2)[-1])"
   ]
  },
  {
   "cell_type": "code",
   "execution_count": 55,
   "metadata": {
    "collapsed": false
   },
   "outputs": [],
   "source": [
    "scene = Scene(children=\n",
    "#               [circle_mesh(c,color='hotpink') for c in circs_a] +\\\n",
    "#               [circle_mesh(c,color='lightskyblue') for c in circs_b] +\\\n",
    "              [circle_mesh(c.spin(motors[0]), color='red') for c in circs_a] +\\\n",
    "              [circle_mesh(c.spin(motors[1]), color='yellow') for c in circs_a] +\\\n",
    "              [circle_mesh(c.spin(motors2[1]), color='magenta') for c in circs_a] +\\\n",
    "\n",
    "#               [circle_mesh(c.spin(motors[2]), color='green') for c in circs_a] +\\\n",
    "# #               [circle_mesh(c.spin(motors[3]), color='cyan') for c in circs_a] +\\\n",
    "#               [circle_mesh(c.spin(motors[4]), color='blue') for c in circs_a] +\\\n",
    "\n",
    "#               [circle_mesh(c.spin(motors[-4]), color='green') for c in circs_a] +\\\n",
    "#               [circle_mesh(c.spin(motors2[-4]), color='red') for c in circs_a] +\\\n",
    "              [\n",
    "        \n",
    "                        frame_mesh(),\n",
    "                        AmbientLight(color='#cccccc')])\n",
    "\n",
    "camera = PerspectiveCamera(position=[3, -3, 3])\n",
    "renderer = Renderer(camera=camera, \n",
    "                    scene=scene, \n",
    "                    controls=[TrackballControls(controlling=camera)],\n",
    "                    background = 'white')\n",
    "renderer.width = '1024'\n",
    "renderer.height = '768'\n",
    "display(renderer)"
   ]
  },
  {
   "cell_type": "code",
   "execution_count": null,
   "metadata": {
    "collapsed": true
   },
   "outputs": [],
   "source": []
  },
  {
   "cell_type": "code",
   "execution_count": null,
   "metadata": {
    "collapsed": true
   },
   "outputs": [],
   "source": []
  }
 ],
 "metadata": {
  "anaconda-cloud": {},
  "kernelspec": {
   "display_name": "Python [default]",
   "language": "python",
   "name": "python3"
  },
  "language_info": {
   "codemirror_mode": {
    "name": "ipython",
    "version": 3
   },
   "file_extension": ".py",
   "mimetype": "text/x-python",
   "name": "python",
   "nbconvert_exporter": "python",
   "pygments_lexer": "ipython3",
   "version": "3.5.2"
  },
  "widgets": {
   "state": {
    "31fbc8c03550473cadf3ad33e29b0894": {
     "views": [
      {
       "cell_index": 23
      }
     ]
    },
    "449d512bb130441ba4bdfac91cbb917c": {
     "views": [
      {
       "cell_index": 55
      }
     ]
    },
    "9f65d7610fef407da9236924abef013d": {
     "views": [
      {
       "cell_index": 11
      }
     ]
    }
   },
   "version": "1.2.0"
  }
 },
 "nbformat": 4,
 "nbformat_minor": 0
}
