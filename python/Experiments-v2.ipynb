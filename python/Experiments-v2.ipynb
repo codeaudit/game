{
 "cells": [
  {
   "cell_type": "code",
   "execution_count": 1,
   "metadata": {
    "collapsed": false,
    "deletable": true,
    "editable": true
   },
   "outputs": [
    {
     "name": "stdout",
     "output_type": "stream",
     "text": [
      "Populating the interactive namespace from numpy and matplotlib\n"
     ]
    }
   ],
   "source": [
    "from __future__ import print_function\n",
    "import sys\n",
    "sys.path.append('../build/')\n",
    "%pylab inline\n",
    "np.set_printoptions(precision=4, suppress=True)\n",
    "import versor as vsr\n",
    "import pandas as pd\n",
    "import seaborn as sns\n",
    "sns.set_style('whitegrid')\n",
    "sns.set_context('paper')\n",
    "from versor.drawing import *\n",
    "from motor_estimation import MotorEstimationSolver\n",
    "from game import VDMotorEstimationSolver\n",
    "from icp import best_fit_transform\n",
    "import pickle"
   ]
  },
  {
   "cell_type": "markdown",
   "metadata": {
    "deletable": true,
    "editable": true
   },
   "source": [
    "# Generate motors"
   ]
  },
  {
   "cell_type": "code",
   "execution_count": 2,
   "metadata": {
    "collapsed": false,
    "deletable": true,
    "editable": true
   },
   "outputs": [],
   "source": [
    "def create_motors(n_motors=10, d_lims=(0,2), th_lims=(0,pi)):\n",
    "    motors = [((vsr.Vec(*np.random.random(3)).unit() * np.random.uniform(*d_lims)).trs() * \n",
    "               vsr.Rot(vsr.Biv(*np.random.uniform(-1,1,3)).unit() * np.random.uniform(*th_lims) * -0.5)) \n",
    "              for i in range(n_motors)]\n",
    "    return motors"
   ]
  },
  {
   "cell_type": "code",
   "execution_count": 3,
   "metadata": {
    "collapsed": false
   },
   "outputs": [],
   "source": [
    "def create_points(motor, gaussian=False, radius=10, n_points=10, points_std=0.8, noise_std=0.09):\n",
    "    points = []\n",
    "    for i in range(n_points):\n",
    "        if gaussian:\n",
    "            a = vsr.Vec(*np.random.normal(0.0, points_std,3)).null()\n",
    "        else:\n",
    "            a = (vsr.Vec(*np.random.uniform(-1,1,3)).unit() * np.random.uniform(0,radius)).null()\n",
    "        b = a.spin(motor)\n",
    "        t = vsr.Vec(*np.random.random(3)).unit() * np.random.normal(0.0,noise_std,1)\n",
    "        noise_motor = t.trs() * vsr.Rot(1,0,0,0)\n",
    "        bn = a.spin(noise_motor).spin(motor)\n",
    "#         bn = vsr.Vec(*(np.array(a)[:3] + np.random.normal(0,noise_std,3))).null().spin(motor)\n",
    "        points.append((a,b,bn))\n",
    "\n",
    "    return (points, motor)"
   ]
  },
  {
   "cell_type": "code",
   "execution_count": 4,
   "metadata": {
    "collapsed": false
   },
   "outputs": [],
   "source": [
    "def estimate_motors_lars(dataset, noisy=False):\n",
    "    points, motor = dataset\n",
    "    \n",
    "    def solve(L):\n",
    "        Lrr = L[:4, :4]\n",
    "        Lrq = L[:4, 4:]\n",
    "        Lqr = L[4:, :4]\n",
    "        Lqq = L[4:, 4:]\n",
    "        Lp = Lrr - np.dot(Lrq, np.dot(np.linalg.pinv(Lqq), Lqr))\n",
    "        w, v = np.linalg.eig(Lp)\n",
    "        r = v[:, np.argmin(w)]\n",
    "        q = np.dot(-np.dot(np.linalg.pinv(Lqq), Lqr), r)\n",
    "        return vsr.Mot(*np.array([r, q]).ravel())\n",
    "\n",
    "    Q = np.zeros((8,8))\n",
    "    inf = vsr.CGA(*[0]*32); inf[5] = 1.0\n",
    "        \n",
    "    points_a = []\n",
    "    points_b = []\n",
    "    points_bn = []\n",
    "    for (a,b,bn) in points:\n",
    "        points_a.append(vsr.CGA(a) ^ inf)\n",
    "        points_b.append(vsr.CGA(b) ^ inf)\n",
    "        points_bn.append(vsr.CGA(bn) ^ inf)\n",
    "        \n",
    "#         points_a.append(vsr.CGA(a))\n",
    "#         points_b.append(vsr.CGA(b))\n",
    "#         points_bn.append(vsr.CGA(bn))\n",
    "        \n",
    "    if noisy:\n",
    "        for b,a in zip(points_a, points_bn):\n",
    "            D = np.zeros((32,8))\n",
    "            for i in range(8):\n",
    "                ei = vsr.Mot(0,0,0,0,0,0,0,0)\n",
    "                ei[i] = 1.0\n",
    "                ei = vsr.CGA(ei)\n",
    "                D[:,i] = np.array(a * ei - ei * b)\n",
    "            Q += np.dot(D.T,D)\n",
    "    else:\n",
    "        for b,a in zip(points_a, points_b):\n",
    "            D = np.zeros((32,8))\n",
    "            for i in range(8):\n",
    "                ei = vsr.Mot(0,0,0,0,0,0,0,0)\n",
    "                ei[i] = 1.0\n",
    "                ei = vsr.CGA(ei)\n",
    "                D[:,i] = np.array(a * ei - ei * b)\n",
    "            Q += np.dot(D.T,D)\n",
    "    converged = True\n",
    "    estimated_motor = solve(Q)\n",
    "    \n",
    "    if np.sign(estimated_motor[0]) != np.sign(motor[0]):\n",
    "        estimated_motor = estimated_motor * -1.0\n",
    "        \n",
    "    return (converged, (points, motor, estimated_motor, _))"
   ]
  },
  {
   "cell_type": "markdown",
   "metadata": {},
   "source": [
    "# Translation invariance"
   ]
  },
  {
   "cell_type": "code",
   "execution_count": 5,
   "metadata": {
    "collapsed": false
   },
   "outputs": [
    {
     "data": {
      "text/plain": [
       "161.35494597420265"
      ]
     },
     "execution_count": 5,
     "metadata": {},
     "output_type": "execute_result"
    }
   ],
   "source": [
    "ps, motor = create_points(create_motors(1)[0])\n",
    "m2 = vsr.Vec(1,2,3).trs() * vsr.Rot(1,0,0,0)\n",
    "ds = [np.inner(np.array(a) - np.array(b),np.array(a) - np.array(b)) for a,b,bn in ps]\n",
    "np.sum(ds)"
   ]
  },
  {
   "cell_type": "code",
   "execution_count": 6,
   "metadata": {
    "collapsed": false
   },
   "outputs": [
    {
     "data": {
      "text/plain": [
       "367.05801094164912"
      ]
     },
     "execution_count": 6,
     "metadata": {},
     "output_type": "execute_result"
    }
   ],
   "source": [
    "ds = [np.inner(np.array(a.spin(m2)) - np.array(b.spin(m2)),\n",
    "               np.array(a.spin(m2)) - np.array(b.spin(m2))) for a,b,bn in ps]\n",
    "np.sum(ds)"
   ]
  },
  {
   "cell_type": "code",
   "execution_count": 7,
   "metadata": {
    "collapsed": false
   },
   "outputs": [],
   "source": [
    "def estimate_motors(dataset, \n",
    "                    noisy=False):\n",
    "    \n",
    "    points, motor = dataset\n",
    "#     if noisy:\n",
    "#         initial_motor = motor\n",
    "#     else:\n",
    "#         initial_motor = vsr.Mot(1.0, 0.0, 0.0, 0.0, 0.0, 0.0, 0.0, 0.0)\n",
    "        \n",
    "    _, d = estimate_motors_lars(dataset, noisy)\n",
    "    _, _, initial_motor, _ = d\n",
    "    \n",
    "    mes = MotorEstimationSolver(initial_motor)\n",
    "    if noisy:\n",
    "        for (a, _, bn) in points:\n",
    "            mes.add_point_correspondences_residual_block(a,bn)\n",
    "    else:\n",
    "        for (a, b, _) in points:\n",
    "            mes.add_point_correspondences_residual_block(a,b)\n",
    "#     mes.set_parameterization('BIVECTOR_GENERATOR')\n",
    "    mes.set_parameterization('POLAR_DECOMPOSITION_TANGENT')\n",
    "    mes.linear_solver_type = 'DENSE_QR'\n",
    "    mes.max_num_iterations=20\n",
    "    (estimated_motor, summary, _) = mes.solve()\n",
    "    if len(pd.DataFrame(summary['iterations'])['cost']) > 20:\n",
    "        converged = False\n",
    "    else:\n",
    "        converged = True\n",
    "    return (converged, (points, motor, estimated_motor, summary))"
   ]
  },
  {
   "cell_type": "code",
   "execution_count": 8,
   "metadata": {
    "collapsed": false
   },
   "outputs": [],
   "source": [
    "def estimate_motors_vd(dataset, \n",
    "                       initial_motor = vsr.Mot(1.0, 0.0, 0.0, 0.0, 0.0, 0.0, 0.0, 0.0), \n",
    "                       noisy=False):\n",
    "    vd = VDMotorEstimationSolver()\n",
    "    points, motor = dataset\n",
    "    points_a = []\n",
    "    points_b = []\n",
    "    points_bn = []\n",
    "    for (a,b,bn) in points:\n",
    "        points_a.append(a)\n",
    "        points_b.append(b)\n",
    "        points_bn.append(bn)\n",
    "    if noisy:\n",
    "        vd.add_point_observations(points_a, points_bn)\n",
    "    else:\n",
    "        vd.add_point_observations(points_a, points_b)\n",
    "    estimated_motor = vd.solve()\n",
    "    converged = True\n",
    "    return (converged, (points, motor, estimated_motor, []))"
   ]
  },
  {
   "cell_type": "code",
   "execution_count": 9,
   "metadata": {
    "collapsed": false
   },
   "outputs": [],
   "source": [
    "def estimate_motors_svd(dataset, \n",
    "                        initial_motor = vsr.Mot(1.0, 0.0, 0.0, 0.0, 0.0, 0.0, 0.0, 0.0), \n",
    "                        noisy=False):\n",
    "    def log(R):\n",
    "        # Rotation matrix logarithm\n",
    "        theta = np.arccos((R[0,0] + R[1,1] + R[2,2] - 1.0)/2.0)\n",
    "        return np.array([R[2,1] - R[1,2], R[0,2] - R[2,0], R[1,0] - R[0,1]]) * theta / (2*np.sin(theta))\n",
    "    points, motor = dataset\n",
    "    points_a_np = []\n",
    "    points_b_np = []\n",
    "    points_bn_np = []\n",
    "    for (a,b,bn) in points:\n",
    "        points_a_np.append(np.array(a.vec()))\n",
    "        points_b_np.append(np.array(b.vec()))\n",
    "        points_bn_np.append(np.array(bn.vec()))\n",
    "    points_a_np = np.array(points_a_np)\n",
    "    points_b_np = np.array(points_b_np)\n",
    "    points_bn_np = np.array(points_bn_np)\n",
    "    if noisy:\n",
    "        T, R, t = best_fit_transform(points_a_np, points_bn_np)\n",
    "        estimated_motor = vsr.Vec(*t).trs() * vsr.Rot(vsr.Vec(*(log(R) * 0.5)).unduale())\n",
    "    else:\n",
    "        T, R, t = best_fit_transform(points_a_np, points_b_np)\n",
    "        estimated_motor = vsr.Vec(*t).trs() * vsr.Rot(vsr.Vec(*(log(R) * 0.5)).unduale())\n",
    "    converged = True\n",
    "    return (converged, (points, motor, estimated_motor, []))  "
   ]
  },
  {
   "cell_type": "code",
   "execution_count": 10,
   "metadata": {
    "collapsed": false
   },
   "outputs": [],
   "source": [
    "motors = create_motors(1)\n",
    "datasets = [create_points(motor, n_points=3, radius=1, gaussian=False, noise_std=0.18) for motor in motors]\n",
    "converged, data = estimate_motors(datasets[0], noisy=True)\n",
    "points, motor, estimated_motor, summary = data\n",
    "points_a, points_b, points_b_noisy = points\n",
    "point_radius = 0.04\n",
    "scene = Scene(children=\n",
    "              [point_mesh(point, radius=point_radius,color=Colors.HOTPINK) for point, _,_ in points] +\\\n",
    "              [point_mesh(point, radius=point_radius,color=Colors.LIGHTSKYBLUE) for _,point,_ in points] +\\\n",
    "              [point_mesh(point, radius=point_radius,color=Colors.GRAY) for _,_,point in points] +\\\n",
    "              [point_mesh(point.spin(estimated_motor), radius=point_radius,color=Colors.RED) for point,_,_ in points] +\\\n",
    "              [frame_mesh(size=0.5)] +\\\n",
    "              [AmbientLight(color='#cccccc')])\n",
    "\n",
    "camera = PerspectiveCamera(position=[0, 5, 5], up=[0, 0, 1],\n",
    "                      children=[DirectionalLight(color='white', \n",
    "                                                 position=[3, 5, 1], \n",
    "                                                 intensity=0.5)])\n",
    "\n",
    "\n",
    "renderer = Renderer(camera=camera, \n",
    "                    scene=scene, \n",
    "                    controls=[TrackballControls(controlling=camera)],\n",
    "                    background = 'white',\n",
    "                    width='960',\n",
    "                    height='512')\n",
    "# display(renderer)"
   ]
  },
  {
   "cell_type": "markdown",
   "metadata": {},
   "source": [
    "# Estimate motors using all methods"
   ]
  },
  {
   "cell_type": "code",
   "execution_count": 11,
   "metadata": {
    "collapsed": true
   },
   "outputs": [],
   "source": [
    "def run(n_points, n_sets=10, n_motors=10, noise_std=0.09, points_std=0.08, noisy=False):\n",
    "    motors = create_motors(n_motors)\n",
    "    setofsets = [[create_points(motor, noise_std=noise_std) for i in range(n_sets)] for motor in motors]\n",
    "    results = []\n",
    "    results_vd = []\n",
    "    results_svd = []\n",
    "    \n",
    "    for set_ in setofsets:\n",
    "        for el in set_:\n",
    "            converged, _ = estimate_motors(el, noisy=noisy)\n",
    "            if converged:\n",
    "                results.append(estimate_motors_lars(el, noisy=noisy)[1])\n",
    "                results_vd.append(estimate_motors_vd(el, noisy=noisy)[1])\n",
    "                results_svd.append(estimate_motors_svd(el, noisy=noisy)[1])\n",
    "    return (results, results_vd, results_svd)  "
   ]
  },
  {
   "cell_type": "code",
   "execution_count": 12,
   "metadata": {
    "collapsed": false
   },
   "outputs": [],
   "source": [
    "def rms(results):\n",
    "    rms_dists_true = []\n",
    "    rms_dists_data = []\n",
    "    for result in results:\n",
    "        (ps, m, em, s) = result\n",
    "        dstrue = [b.vec() - a.spin(em).vec() for a,b,bn in ps]\n",
    "#         dstrue = [b.vec() - bn.vec() for a,b,bn in ps]\n",
    "        dsdata = [bn.vec() - a.spin(em).vec() for a,b,bn in ps]\n",
    "        n = len(dstrue)\n",
    "        rms_dists_true.append(np.sqrt(np.sum([np.inner(d,d) for d in dstrue]) / n)) \n",
    "        rms_dists_data.append(np.sqrt(np.sum([np.inner(d,d) for d in dsdata]) / n)) \n",
    "\n",
    "    true = np.mean(rms_dists_true), np.std(rms_dists_true)\n",
    "    data = np.mean(rms_dists_data), np.std(rms_dists_data)\n",
    "    return (true, data)"
   ]
  },
  {
   "cell_type": "code",
   "execution_count": 13,
   "metadata": {
    "collapsed": false
   },
   "outputs": [
    {
     "data": {
      "text/plain": [
       "Vec: [ 0.8 0.79 0.63 ]"
      ]
     },
     "execution_count": 13,
     "metadata": {},
     "output_type": "execute_result"
    }
   ],
   "source": [
    "motor.trs()"
   ]
  },
  {
   "cell_type": "code",
   "execution_count": 14,
   "metadata": {
    "collapsed": false
   },
   "outputs": [],
   "source": [
    "def rms_motor(results):\n",
    "    rms_rot = []\n",
    "    rms_mot = []\n",
    "    rms_trs = []\n",
    "    for result in results:\n",
    "        (_, m, em, _) = result\n",
    "#         print(m)\n",
    "        \n",
    "#         rot_error = np.min([np.linalg.norm(np.array(m.rot()) - np.array(em.rot())),\n",
    "#                       np.linalg.norm(np.array(m.rot()) + np.array(em.rot()))])\n",
    "#         rot = np.inner(rot_error, rot_error)\n",
    "        \n",
    "        emm = em.rev() * m\n",
    "        angle_error = 2 * np.arccos(np.abs(emm[0]))\n",
    "        rot = angle_error**2\n",
    "        \n",
    "#         angle_error = 2 * np.arccos(np.abs(m[0])) - 2 * np.arccos(np.abs(em[0]))\n",
    "#         rot = angle_error**2\n",
    "#         print(rot)\n",
    "    \n",
    "#         d = emm.trs()\n",
    "#         print(m)\n",
    "#         print(em)\n",
    "#         print(m.trs())\n",
    "#         print(em.trs())\n",
    "#         print(m.trs() - em.trs())\n",
    "#         print()\n",
    "        d = emm.trs()\n",
    "#         d = np.array(m.trs() - em.trs())\n",
    "        trs = np.inner(d,d)\n",
    "        \n",
    "        rl = m.rot()\n",
    "        erl = em.rot()\n",
    "        rerr = np.array((rl * erl.rev()).log())\n",
    "        t = m.trs()\n",
    "        et = em.trs()\n",
    "        terr = np.array(t - et)\n",
    "        \n",
    "#         mot = np.linalg.norm(m * em.rev()) - 1.0\n",
    "        \n",
    "        rms_mot.append(np.inner(rerr,rerr) + np.inner(terr,terr))\n",
    "        rms_rot.append(rot)\n",
    "        rms_trs.append(trs)\n",
    "        \n",
    "#         print('m_during: ', m)\n",
    "        \n",
    "#     print()\n",
    "        \n",
    "\n",
    "    motmean = np.mean(rms_mot)\n",
    "#     rotmean = np.mean(rms_rot)\n",
    "    rotmean = np.sqrt(np.sum(rms_rot) / len(rms_rot))\n",
    "    trsmean = np.sqrt(np.sum(rms_trs) / len(rms_trs)) \n",
    "    return (motmean, rotmean, trsmean)"
   ]
  },
  {
   "cell_type": "code",
   "execution_count": 15,
   "metadata": {
    "collapsed": false
   },
   "outputs": [],
   "source": [
    "def compare_rms(results, results_vd, results_svd):\n",
    "    RMS = {'Ti': {}, \"VD\": {}, 'AHB':{}}\n",
    "    our_true, our_data = rms(results)\n",
    "    Ti = RMS['Ti']\n",
    "    Ti['$\\mu_t$'], Ti['$\\sigma_t$'] = our_true\n",
    "    Ti['$\\mu_d$'], Ti['$\\sigma_d$'] = our_data\n",
    "    vd_true, vd_data = rms(results_vd)\n",
    "    VD = RMS['VD']\n",
    "    VD['$\\mu_t$'], VD['$\\sigma_t$'] = vd_true\n",
    "    VD['$\\mu_d$'], VD['$\\sigma_d$'] = vd_data\n",
    "    ahb_true, ahb_data = rms(results_svd)\n",
    "    AHB = RMS['AHB']\n",
    "    AHB['$\\mu_t$'], AHB['$\\sigma_t$'] = ahb_true\n",
    "    AHB['$\\mu_d$'], AHB['$\\sigma_d$'] = ahb_data\n",
    "\n",
    "    return pd.DataFrame(RMS)"
   ]
  },
  {
   "cell_type": "code",
   "execution_count": 16,
   "metadata": {
    "collapsed": false
   },
   "outputs": [],
   "source": [
    "def compare_rms_motor_points(results, results_vd, results_ahb):\n",
    "    RMS = {'Ti': {}, \"VD\": {}, 'AHB':{}}\n",
    "    our_mot, our_rot, our_trs = rms_motor(results)\n",
    "    Ti = RMS['Ti']\n",
    "    Ti['mot'] = our_mot\n",
    "    Ti['rot'] = our_rot\n",
    "    Ti['trs'] = our_trs\n",
    "    vd_mot, vd_rot, vd_trs = rms_motor(results_vd)\n",
    "    VD = RMS['VD']\n",
    "    VD['mot'] = vd_mot\n",
    "    VD['rot'] = vd_rot\n",
    "    VD['trs'] = vd_trs\n",
    "    ahb_mot, ahb_rot, ahb_trs = rms_motor(results_ahb)\n",
    "    AHB = RMS['AHB']\n",
    "    AHB['mot'] = ahb_mot\n",
    "    AHB['rot'] = ahb_rot\n",
    "    AHB['trs'] = ahb_trs\n",
    "    return pd.DataFrame(RMS)"
   ]
  },
  {
   "cell_type": "code",
   "execution_count": 17,
   "metadata": {
    "collapsed": false
   },
   "outputs": [
    {
     "ename": "KeyboardInterrupt",
     "evalue": "",
     "output_type": "error",
     "traceback": [
      "\u001b[0;31m---------------------------------------------------------------------------\u001b[0m",
      "\u001b[0;31mKeyboardInterrupt\u001b[0m                         Traceback (most recent call last)",
      "\u001b[0;32m<ipython-input-17-68c6eaec1093>\u001b[0m in \u001b[0;36m<module>\u001b[0;34m()\u001b[0m\n\u001b[1;32m      2\u001b[0m \u001b[0mnoise_levels\u001b[0m \u001b[0;34m=\u001b[0m \u001b[0;34m[\u001b[0m\u001b[0;36m0.001\u001b[0m\u001b[0;34m,\u001b[0m \u001b[0;36m0.005\u001b[0m\u001b[0;34m,\u001b[0m \u001b[0;36m0.01\u001b[0m\u001b[0;34m]\u001b[0m\u001b[0;34m\u001b[0m\u001b[0m\n\u001b[1;32m      3\u001b[0m rmss = [compare_rms(*run(32,32,32,noise_std=noise_level,noisy=True)) \n\u001b[0;32m----> 4\u001b[0;31m         for noise_level in noise_levels]\n\u001b[0m",
      "\u001b[0;32m<ipython-input-17-68c6eaec1093>\u001b[0m in \u001b[0;36m<listcomp>\u001b[0;34m(.0)\u001b[0m\n\u001b[1;32m      2\u001b[0m \u001b[0mnoise_levels\u001b[0m \u001b[0;34m=\u001b[0m \u001b[0;34m[\u001b[0m\u001b[0;36m0.001\u001b[0m\u001b[0;34m,\u001b[0m \u001b[0;36m0.005\u001b[0m\u001b[0;34m,\u001b[0m \u001b[0;36m0.01\u001b[0m\u001b[0;34m]\u001b[0m\u001b[0;34m\u001b[0m\u001b[0m\n\u001b[1;32m      3\u001b[0m rmss = [compare_rms(*run(32,32,32,noise_std=noise_level,noisy=True)) \n\u001b[0;32m----> 4\u001b[0;31m         for noise_level in noise_levels]\n\u001b[0m",
      "\u001b[0;32m<ipython-input-11-9e036689c493>\u001b[0m in \u001b[0;36mrun\u001b[0;34m(n_points, n_sets, n_motors, noise_std, points_std, noisy)\u001b[0m\n\u001b[1;32m     11\u001b[0m             \u001b[0;32mif\u001b[0m \u001b[0mconverged\u001b[0m\u001b[0;34m:\u001b[0m\u001b[0;34m\u001b[0m\u001b[0m\n\u001b[1;32m     12\u001b[0m                 \u001b[0mresults\u001b[0m\u001b[0;34m.\u001b[0m\u001b[0mappend\u001b[0m\u001b[0;34m(\u001b[0m\u001b[0mestimate_motors_lars\u001b[0m\u001b[0;34m(\u001b[0m\u001b[0mel\u001b[0m\u001b[0;34m,\u001b[0m \u001b[0mnoisy\u001b[0m\u001b[0;34m=\u001b[0m\u001b[0mnoisy\u001b[0m\u001b[0;34m)\u001b[0m\u001b[0;34m[\u001b[0m\u001b[0;36m1\u001b[0m\u001b[0;34m]\u001b[0m\u001b[0;34m)\u001b[0m\u001b[0;34m\u001b[0m\u001b[0m\n\u001b[0;32m---> 13\u001b[0;31m                 \u001b[0mresults_vd\u001b[0m\u001b[0;34m.\u001b[0m\u001b[0mappend\u001b[0m\u001b[0;34m(\u001b[0m\u001b[0mestimate_motors_vd\u001b[0m\u001b[0;34m(\u001b[0m\u001b[0mel\u001b[0m\u001b[0;34m,\u001b[0m \u001b[0mnoisy\u001b[0m\u001b[0;34m=\u001b[0m\u001b[0mnoisy\u001b[0m\u001b[0;34m)\u001b[0m\u001b[0;34m[\u001b[0m\u001b[0;36m1\u001b[0m\u001b[0;34m]\u001b[0m\u001b[0;34m)\u001b[0m\u001b[0;34m\u001b[0m\u001b[0m\n\u001b[0m\u001b[1;32m     14\u001b[0m                 \u001b[0mresults_svd\u001b[0m\u001b[0;34m.\u001b[0m\u001b[0mappend\u001b[0m\u001b[0;34m(\u001b[0m\u001b[0mestimate_motors_svd\u001b[0m\u001b[0;34m(\u001b[0m\u001b[0mel\u001b[0m\u001b[0;34m,\u001b[0m \u001b[0mnoisy\u001b[0m\u001b[0;34m=\u001b[0m\u001b[0mnoisy\u001b[0m\u001b[0;34m)\u001b[0m\u001b[0;34m[\u001b[0m\u001b[0;36m1\u001b[0m\u001b[0;34m]\u001b[0m\u001b[0;34m)\u001b[0m\u001b[0;34m\u001b[0m\u001b[0m\n\u001b[1;32m     15\u001b[0m     \u001b[0;32mreturn\u001b[0m \u001b[0;34m(\u001b[0m\u001b[0mresults\u001b[0m\u001b[0;34m,\u001b[0m \u001b[0mresults_vd\u001b[0m\u001b[0;34m,\u001b[0m \u001b[0mresults_svd\u001b[0m\u001b[0;34m)\u001b[0m\u001b[0;34m\u001b[0m\u001b[0m\n",
      "\u001b[0;32m<ipython-input-8-4d50e07be665>\u001b[0m in \u001b[0;36mestimate_motors_vd\u001b[0;34m(dataset, initial_motor, noisy)\u001b[0m\n\u001b[1;32m     12\u001b[0m         \u001b[0mpoints_bn\u001b[0m\u001b[0;34m.\u001b[0m\u001b[0mappend\u001b[0m\u001b[0;34m(\u001b[0m\u001b[0mbn\u001b[0m\u001b[0;34m)\u001b[0m\u001b[0;34m\u001b[0m\u001b[0m\n\u001b[1;32m     13\u001b[0m     \u001b[0;32mif\u001b[0m \u001b[0mnoisy\u001b[0m\u001b[0;34m:\u001b[0m\u001b[0;34m\u001b[0m\u001b[0m\n\u001b[0;32m---> 14\u001b[0;31m         \u001b[0mvd\u001b[0m\u001b[0;34m.\u001b[0m\u001b[0madd_point_observations\u001b[0m\u001b[0;34m(\u001b[0m\u001b[0mpoints_a\u001b[0m\u001b[0;34m,\u001b[0m \u001b[0mpoints_bn\u001b[0m\u001b[0;34m)\u001b[0m\u001b[0;34m\u001b[0m\u001b[0m\n\u001b[0m\u001b[1;32m     15\u001b[0m     \u001b[0;32melse\u001b[0m\u001b[0;34m:\u001b[0m\u001b[0;34m\u001b[0m\u001b[0m\n\u001b[1;32m     16\u001b[0m         \u001b[0mvd\u001b[0m\u001b[0;34m.\u001b[0m\u001b[0madd_point_observations\u001b[0m\u001b[0;34m(\u001b[0m\u001b[0mpoints_a\u001b[0m\u001b[0;34m,\u001b[0m \u001b[0mpoints_b\u001b[0m\u001b[0;34m)\u001b[0m\u001b[0;34m\u001b[0m\u001b[0m\n",
      "\u001b[0;32m/Users/lars/devel/game/python/game/valkenburg_dorst_motor_estimation_solver.py\u001b[0m in \u001b[0;36madd_point_observations\u001b[0;34m(self, ps, qs)\u001b[0m\n\u001b[1;32m     21\u001b[0m     \u001b[0;32mdef\u001b[0m \u001b[0madd_point_observations\u001b[0m\u001b[0;34m(\u001b[0m\u001b[0mself\u001b[0m\u001b[0;34m,\u001b[0m \u001b[0mps\u001b[0m\u001b[0;34m,\u001b[0m \u001b[0mqs\u001b[0m\u001b[0;34m)\u001b[0m\u001b[0;34m:\u001b[0m\u001b[0;34m\u001b[0m\u001b[0m\n\u001b[1;32m     22\u001b[0m         \u001b[0;32mfor\u001b[0m \u001b[0mp\u001b[0m\u001b[0;34m,\u001b[0m \u001b[0mq\u001b[0m \u001b[0;32min\u001b[0m \u001b[0mzip\u001b[0m\u001b[0;34m(\u001b[0m\u001b[0mps\u001b[0m\u001b[0;34m,\u001b[0m \u001b[0mqs\u001b[0m\u001b[0;34m)\u001b[0m\u001b[0;34m:\u001b[0m\u001b[0;34m\u001b[0m\u001b[0m\n\u001b[0;32m---> 23\u001b[0;31m             \u001b[0mself\u001b[0m\u001b[0;34m.\u001b[0m\u001b[0m_point_matrix\u001b[0m \u001b[0;34m+=\u001b[0m \u001b[0mpoint_matrix\u001b[0m\u001b[0;34m(\u001b[0m\u001b[0mp\u001b[0m\u001b[0;34m,\u001b[0m \u001b[0mq\u001b[0m\u001b[0;34m)\u001b[0m\u001b[0;34m\u001b[0m\u001b[0m\n\u001b[0m\u001b[1;32m     24\u001b[0m \u001b[0;34m\u001b[0m\u001b[0m\n\u001b[1;32m     25\u001b[0m     \u001b[0;32mdef\u001b[0m \u001b[0madd_dual_line_observations\u001b[0m\u001b[0;34m(\u001b[0m\u001b[0mself\u001b[0m\u001b[0;34m,\u001b[0m \u001b[0mps\u001b[0m\u001b[0;34m,\u001b[0m \u001b[0mqs\u001b[0m\u001b[0;34m)\u001b[0m\u001b[0;34m:\u001b[0m\u001b[0;34m\u001b[0m\u001b[0m\n",
      "\u001b[0;32m/Users/lars/anaconda3/lib/python3.5/site-packages/numpy/core/_internal.py\u001b[0m in \u001b[0;36m_dtype_from_pep3118\u001b[0;34m(spec, byteorder, is_subdtype)\u001b[0m\n\u001b[1;32m    421\u001b[0m \u001b[0m_pep3118_standard_typechars\u001b[0m \u001b[0;34m=\u001b[0m \u001b[0;34m''\u001b[0m\u001b[0;34m.\u001b[0m\u001b[0mjoin\u001b[0m\u001b[0;34m(\u001b[0m\u001b[0m_pep3118_standard_map\u001b[0m\u001b[0;34m.\u001b[0m\u001b[0mkeys\u001b[0m\u001b[0;34m(\u001b[0m\u001b[0;34m)\u001b[0m\u001b[0;34m)\u001b[0m\u001b[0;34m\u001b[0m\u001b[0m\n\u001b[1;32m    422\u001b[0m \u001b[0;34m\u001b[0m\u001b[0m\n\u001b[0;32m--> 423\u001b[0;31m \u001b[0;32mdef\u001b[0m \u001b[0m_dtype_from_pep3118\u001b[0m\u001b[0;34m(\u001b[0m\u001b[0mspec\u001b[0m\u001b[0;34m,\u001b[0m \u001b[0mbyteorder\u001b[0m\u001b[0;34m=\u001b[0m\u001b[0;34m'@'\u001b[0m\u001b[0;34m,\u001b[0m \u001b[0mis_subdtype\u001b[0m\u001b[0;34m=\u001b[0m\u001b[0;32mFalse\u001b[0m\u001b[0;34m)\u001b[0m\u001b[0;34m:\u001b[0m\u001b[0;34m\u001b[0m\u001b[0m\n\u001b[0m\u001b[1;32m    424\u001b[0m     \u001b[0mfields\u001b[0m \u001b[0;34m=\u001b[0m \u001b[0;34m{\u001b[0m\u001b[0;34m}\u001b[0m\u001b[0;34m\u001b[0m\u001b[0m\n\u001b[1;32m    425\u001b[0m     \u001b[0moffset\u001b[0m \u001b[0;34m=\u001b[0m \u001b[0;36m0\u001b[0m\u001b[0;34m\u001b[0m\u001b[0m\n",
      "\u001b[0;31mKeyboardInterrupt\u001b[0m: "
     ]
    }
   ],
   "source": [
    "noise_levels = np.linspace(0.0,pi,10)\n",
    "noise_levels = [0.001, 0.005, 0.01]\n",
    "rmss = [compare_rms(*run(32,32,32,noise_std=noise_level,noisy=True)) \n",
    "        for noise_level in noise_levels]"
   ]
  },
  {
   "cell_type": "code",
   "execution_count": 18,
   "metadata": {
    "collapsed": false
   },
   "outputs": [
    {
     "ename": "NameError",
     "evalue": "name 'rmss' is not defined",
     "output_type": "error",
     "traceback": [
      "\u001b[0;31m---------------------------------------------------------------------------\u001b[0m",
      "\u001b[0;31mNameError\u001b[0m                                 Traceback (most recent call last)",
      "\u001b[0;32m<ipython-input-18-58dedf8920f6>\u001b[0m in \u001b[0;36m<module>\u001b[0;34m()\u001b[0m\n\u001b[0;32m----> 1\u001b[0;31m \u001b[0md\u001b[0m \u001b[0;34m=\u001b[0m \u001b[0mpd\u001b[0m\u001b[0;34m.\u001b[0m\u001b[0mconcat\u001b[0m\u001b[0;34m(\u001b[0m\u001b[0mrmss\u001b[0m\u001b[0;34m)\u001b[0m\u001b[0;34m\u001b[0m\u001b[0m\n\u001b[0m\u001b[1;32m      2\u001b[0m \u001b[0md\u001b[0m\u001b[0;34m\u001b[0m\u001b[0m\n",
      "\u001b[0;31mNameError\u001b[0m: name 'rmss' is not defined"
     ]
    }
   ],
   "source": [
    "d = pd.concat(rmss)\n",
    "d"
   ]
  },
  {
   "cell_type": "code",
   "execution_count": null,
   "metadata": {
    "collapsed": false
   },
   "outputs": [],
   "source": [
    "fig, ax = plt.subplots(1)\n",
    "# ax.plot(noise_levels, noise_levels, marker='.')\n",
    "# ax.plot(noise_levels, d['Ti']['rot'], label='Ti rot')\n",
    "# ax.plot(noise_levels, d['Ti']['mot'], label='Ti mot')\n",
    "ax.plot(noise_levels, d['Ti']['trs'], label='Ti trs')\n",
    "# ax.plot(noise_levels, d['VD']['rot'], label='VD rot')\n",
    "# ax.plot(noise_levels, d['VD']['mot'], label='VD mot')\n",
    "ax.plot(noise_levels, d['VD']['trs'], label='VD trs')\n",
    "# ax.plot(noise_levels, d['AHB']['rot'], label='AHB rot')\n",
    "# ax.plot(noise_levels, d['AHB']['mot'], label='AHB mot')\n",
    "ax.plot(noise_levels, d['AHB']['trs'], label='AHB trs')\n",
    "ax.legend(frameon=False, loc=2)\n",
    "ax.set_ylabel('Mean geometric error')\n",
    "ax.set_xlabel('Gaussian mean deviation of induced noise')\n",
    "# fig.savefig('/Users/lars/latex/latex-phd-thesis/Figures/points-est-deviation.pdf')"
   ]
  },
  {
   "cell_type": "code",
   "execution_count": null,
   "metadata": {
    "collapsed": false
   },
   "outputs": [],
   "source": [
    "# pickle.dump(rmss, open('rmss.pickle', 'wb'))"
   ]
  },
  {
   "cell_type": "markdown",
   "metadata": {},
   "source": [
    "# Analyze iterations"
   ]
  },
  {
   "cell_type": "code",
   "execution_count": 17,
   "metadata": {
    "collapsed": false
   },
   "outputs": [
    {
     "ename": "KeyboardInterrupt",
     "evalue": "",
     "output_type": "error",
     "traceback": [
      "\u001b[0;31m---------------------------------------------------------------------------\u001b[0m",
      "\u001b[0;31mKeyboardInterrupt\u001b[0m                         Traceback (most recent call last)",
      "\u001b[0;32m<ipython-input-17-6ad2c28c3120>\u001b[0m in \u001b[0;36m<module>\u001b[0;34m()\u001b[0m\n\u001b[0;32m----> 1\u001b[0;31m \u001b[0mresults\u001b[0m\u001b[0;34m,\u001b[0m \u001b[0mresults_vd_its\u001b[0m\u001b[0;34m,\u001b[0m \u001b[0mresults_svd_its\u001b[0m \u001b[0;34m=\u001b[0m \u001b[0mrun\u001b[0m\u001b[0;34m(\u001b[0m\u001b[0mn_points\u001b[0m\u001b[0;34m=\u001b[0m\u001b[0;36m100\u001b[0m\u001b[0;34m,\u001b[0m \u001b[0mn_sets\u001b[0m\u001b[0;34m=\u001b[0m\u001b[0;36m100\u001b[0m\u001b[0;34m,\u001b[0m \u001b[0mn_motors\u001b[0m\u001b[0;34m=\u001b[0m\u001b[0;36m100\u001b[0m\u001b[0;34m)\u001b[0m\u001b[0;34m\u001b[0m\u001b[0m\n\u001b[0m\u001b[1;32m      2\u001b[0m \u001b[0mresults_noisy\u001b[0m\u001b[0;34m,\u001b[0m \u001b[0mresults_vd_its_noisy\u001b[0m\u001b[0;34m,\u001b[0m \u001b[0mresults_svd_its_noisy\u001b[0m \u001b[0;34m=\u001b[0m \u001b[0mrun\u001b[0m\u001b[0;34m(\u001b[0m\u001b[0mn_points\u001b[0m\u001b[0;34m=\u001b[0m\u001b[0;36m100\u001b[0m\u001b[0;34m,\u001b[0m \u001b[0mn_sets\u001b[0m\u001b[0;34m=\u001b[0m\u001b[0;36m100\u001b[0m\u001b[0;34m,\u001b[0m \u001b[0mn_motors\u001b[0m\u001b[0;34m=\u001b[0m\u001b[0;36m100\u001b[0m\u001b[0;34m,\u001b[0m \u001b[0mnoisy\u001b[0m\u001b[0;34m=\u001b[0m\u001b[0;32mTrue\u001b[0m\u001b[0;34m)\u001b[0m\u001b[0;34m\u001b[0m\u001b[0m\n\u001b[1;32m      3\u001b[0m \u001b[0msummaries\u001b[0m \u001b[0;34m=\u001b[0m \u001b[0;34m[\u001b[0m\u001b[0mresult\u001b[0m\u001b[0;34m[\u001b[0m\u001b[0;36m3\u001b[0m\u001b[0;34m]\u001b[0m \u001b[0;32mfor\u001b[0m \u001b[0mresult\u001b[0m \u001b[0;32min\u001b[0m \u001b[0mresults\u001b[0m\u001b[0;34m]\u001b[0m\u001b[0;34m\u001b[0m\u001b[0m\n\u001b[1;32m      4\u001b[0m \u001b[0msummaries_noisy\u001b[0m \u001b[0;34m=\u001b[0m \u001b[0;34m[\u001b[0m\u001b[0mresult\u001b[0m\u001b[0;34m[\u001b[0m\u001b[0;36m3\u001b[0m\u001b[0;34m]\u001b[0m \u001b[0;32mfor\u001b[0m \u001b[0mresult\u001b[0m \u001b[0;32min\u001b[0m \u001b[0mresults_noisy\u001b[0m\u001b[0;34m]\u001b[0m\u001b[0;34m\u001b[0m\u001b[0m\n\u001b[1;32m      5\u001b[0m \u001b[0miteration_numbers\u001b[0m \u001b[0;34m=\u001b[0m \u001b[0;34m[\u001b[0m\u001b[0;34m]\u001b[0m\u001b[0;34m\u001b[0m\u001b[0m\n",
      "\u001b[0;32m<ipython-input-11-9e036689c493>\u001b[0m in \u001b[0;36mrun\u001b[0;34m(n_points, n_sets, n_motors, noise_std, points_std, noisy)\u001b[0m\n\u001b[1;32m     10\u001b[0m             \u001b[0mconverged\u001b[0m\u001b[0;34m,\u001b[0m \u001b[0m_\u001b[0m \u001b[0;34m=\u001b[0m \u001b[0mestimate_motors\u001b[0m\u001b[0;34m(\u001b[0m\u001b[0mel\u001b[0m\u001b[0;34m,\u001b[0m \u001b[0mnoisy\u001b[0m\u001b[0;34m=\u001b[0m\u001b[0mnoisy\u001b[0m\u001b[0;34m)\u001b[0m\u001b[0;34m\u001b[0m\u001b[0m\n\u001b[1;32m     11\u001b[0m             \u001b[0;32mif\u001b[0m \u001b[0mconverged\u001b[0m\u001b[0;34m:\u001b[0m\u001b[0;34m\u001b[0m\u001b[0m\n\u001b[0;32m---> 12\u001b[0;31m                 \u001b[0mresults\u001b[0m\u001b[0;34m.\u001b[0m\u001b[0mappend\u001b[0m\u001b[0;34m(\u001b[0m\u001b[0mestimate_motors_lars\u001b[0m\u001b[0;34m(\u001b[0m\u001b[0mel\u001b[0m\u001b[0;34m,\u001b[0m \u001b[0mnoisy\u001b[0m\u001b[0;34m=\u001b[0m\u001b[0mnoisy\u001b[0m\u001b[0;34m)\u001b[0m\u001b[0;34m[\u001b[0m\u001b[0;36m1\u001b[0m\u001b[0;34m]\u001b[0m\u001b[0;34m)\u001b[0m\u001b[0;34m\u001b[0m\u001b[0m\n\u001b[0m\u001b[1;32m     13\u001b[0m                 \u001b[0mresults_vd\u001b[0m\u001b[0;34m.\u001b[0m\u001b[0mappend\u001b[0m\u001b[0;34m(\u001b[0m\u001b[0mestimate_motors_vd\u001b[0m\u001b[0;34m(\u001b[0m\u001b[0mel\u001b[0m\u001b[0;34m,\u001b[0m \u001b[0mnoisy\u001b[0m\u001b[0;34m=\u001b[0m\u001b[0mnoisy\u001b[0m\u001b[0;34m)\u001b[0m\u001b[0;34m[\u001b[0m\u001b[0;36m1\u001b[0m\u001b[0;34m]\u001b[0m\u001b[0;34m)\u001b[0m\u001b[0;34m\u001b[0m\u001b[0m\n\u001b[1;32m     14\u001b[0m                 \u001b[0mresults_svd\u001b[0m\u001b[0;34m.\u001b[0m\u001b[0mappend\u001b[0m\u001b[0;34m(\u001b[0m\u001b[0mestimate_motors_svd\u001b[0m\u001b[0;34m(\u001b[0m\u001b[0mel\u001b[0m\u001b[0;34m,\u001b[0m \u001b[0mnoisy\u001b[0m\u001b[0;34m=\u001b[0m\u001b[0mnoisy\u001b[0m\u001b[0;34m)\u001b[0m\u001b[0;34m[\u001b[0m\u001b[0;36m1\u001b[0m\u001b[0;34m]\u001b[0m\u001b[0;34m)\u001b[0m\u001b[0;34m\u001b[0m\u001b[0m\n",
      "\u001b[0;32m<ipython-input-4-23d382576ce4>\u001b[0m in \u001b[0;36mestimate_motors_lars\u001b[0;34m(dataset, noisy)\u001b[0m\n\u001b[1;32m     41\u001b[0m             \u001b[0mD\u001b[0m \u001b[0;34m=\u001b[0m \u001b[0mnp\u001b[0m\u001b[0;34m.\u001b[0m\u001b[0mzeros\u001b[0m\u001b[0;34m(\u001b[0m\u001b[0;34m(\u001b[0m\u001b[0;36m32\u001b[0m\u001b[0;34m,\u001b[0m\u001b[0;36m8\u001b[0m\u001b[0;34m)\u001b[0m\u001b[0;34m)\u001b[0m\u001b[0;34m\u001b[0m\u001b[0m\n\u001b[1;32m     42\u001b[0m             \u001b[0;32mfor\u001b[0m \u001b[0mi\u001b[0m \u001b[0;32min\u001b[0m \u001b[0mrange\u001b[0m\u001b[0;34m(\u001b[0m\u001b[0;36m8\u001b[0m\u001b[0;34m)\u001b[0m\u001b[0;34m:\u001b[0m\u001b[0;34m\u001b[0m\u001b[0m\n\u001b[0;32m---> 43\u001b[0;31m                 \u001b[0mei\u001b[0m \u001b[0;34m=\u001b[0m \u001b[0mvsr\u001b[0m\u001b[0;34m.\u001b[0m\u001b[0mMot\u001b[0m\u001b[0;34m(\u001b[0m\u001b[0;36m0\u001b[0m\u001b[0;34m,\u001b[0m\u001b[0;36m0\u001b[0m\u001b[0;34m,\u001b[0m\u001b[0;36m0\u001b[0m\u001b[0;34m,\u001b[0m\u001b[0;36m0\u001b[0m\u001b[0;34m,\u001b[0m\u001b[0;36m0\u001b[0m\u001b[0;34m,\u001b[0m\u001b[0;36m0\u001b[0m\u001b[0;34m,\u001b[0m\u001b[0;36m0\u001b[0m\u001b[0;34m,\u001b[0m\u001b[0;36m0\u001b[0m\u001b[0;34m)\u001b[0m\u001b[0;34m\u001b[0m\u001b[0m\n\u001b[0m\u001b[1;32m     44\u001b[0m                 \u001b[0mei\u001b[0m\u001b[0;34m[\u001b[0m\u001b[0mi\u001b[0m\u001b[0;34m]\u001b[0m \u001b[0;34m=\u001b[0m \u001b[0;36m1.0\u001b[0m\u001b[0;34m\u001b[0m\u001b[0m\n\u001b[1;32m     45\u001b[0m                 \u001b[0mei\u001b[0m \u001b[0;34m=\u001b[0m \u001b[0mvsr\u001b[0m\u001b[0;34m.\u001b[0m\u001b[0mCGA\u001b[0m\u001b[0;34m(\u001b[0m\u001b[0mei\u001b[0m\u001b[0;34m)\u001b[0m\u001b[0;34m\u001b[0m\u001b[0m\n",
      "\u001b[0;31mKeyboardInterrupt\u001b[0m: "
     ]
    }
   ],
   "source": [
    "results, results_vd_its, results_svd_its = run(n_points=100, n_sets=100, n_motors=100)\n",
    "results_noisy, results_vd_its_noisy, results_svd_its_noisy = run(n_points=100, n_sets=100, n_motors=100, noisy=True)\n",
    "summaries = [result[3] for result in results]\n",
    "summaries_noisy = [result[3] for result in results_noisy]\n",
    "iteration_numbers = []\n",
    "iteration_numbers_noisy = []\n",
    "for summary in summaries:\n",
    "    iteration_numbers.append(len(pd.DataFrame(summary['iterations'])['cost']))\n",
    "for summary in summaries_noisy:\n",
    "    iteration_numbers_noisy.append(len(pd.DataFrame(summary['iterations'])['cost']))"
   ]
  },
  {
   "cell_type": "code",
   "execution_count": 18,
   "metadata": {
    "collapsed": false
   },
   "outputs": [
    {
     "ename": "NameError",
     "evalue": "name 'iteration_numbers' is not defined",
     "output_type": "error",
     "traceback": [
      "\u001b[0;31m---------------------------------------------------------------------------\u001b[0m",
      "\u001b[0;31mNameError\u001b[0m                                 Traceback (most recent call last)",
      "\u001b[0;32m<ipython-input-18-35d54c1d18dd>\u001b[0m in \u001b[0;36m<module>\u001b[0;34m()\u001b[0m\n\u001b[0;32m----> 1\u001b[0;31m \u001b[0mmedian\u001b[0m \u001b[0;34m=\u001b[0m \u001b[0mnp\u001b[0m\u001b[0;34m.\u001b[0m\u001b[0mmedian\u001b[0m\u001b[0;34m(\u001b[0m\u001b[0miteration_numbers\u001b[0m\u001b[0;34m)\u001b[0m\u001b[0;34m\u001b[0m\u001b[0m\n\u001b[0m\u001b[1;32m      2\u001b[0m \u001b[0margmedian\u001b[0m \u001b[0;34m=\u001b[0m \u001b[0mnp\u001b[0m\u001b[0;34m.\u001b[0m\u001b[0mwhere\u001b[0m\u001b[0;34m(\u001b[0m\u001b[0;34m[\u001b[0m\u001b[0miteration_numbers\u001b[0m \u001b[0;34m==\u001b[0m \u001b[0mmedian\u001b[0m\u001b[0;34m]\u001b[0m\u001b[0;34m)\u001b[0m\u001b[0;34m[\u001b[0m\u001b[0;36m1\u001b[0m\u001b[0;34m]\u001b[0m\u001b[0;34m\u001b[0m\u001b[0m\n\u001b[1;32m      3\u001b[0m \u001b[0;31m# print(argmedian)\u001b[0m\u001b[0;34m\u001b[0m\u001b[0;34m\u001b[0m\u001b[0m\n\u001b[1;32m      4\u001b[0m \u001b[0mprint\u001b[0m\u001b[0;34m(\u001b[0m\u001b[0mmedian\u001b[0m\u001b[0;34m)\u001b[0m\u001b[0;34m\u001b[0m\u001b[0m\n\u001b[1;32m      5\u001b[0m \u001b[0margmax\u001b[0m \u001b[0;34m=\u001b[0m \u001b[0mnp\u001b[0m\u001b[0;34m.\u001b[0m\u001b[0margmax\u001b[0m\u001b[0;34m(\u001b[0m\u001b[0miteration_numbers\u001b[0m\u001b[0;34m)\u001b[0m\u001b[0;34m\u001b[0m\u001b[0m\n",
      "\u001b[0;31mNameError\u001b[0m: name 'iteration_numbers' is not defined"
     ]
    }
   ],
   "source": [
    "median = np.median(iteration_numbers)\n",
    "argmedian = np.where([iteration_numbers == median])[1]\n",
    "# print(argmedian)\n",
    "print(median)\n",
    "argmax = np.argmax(iteration_numbers)\n",
    "print(np.max(iteration_numbers))\n",
    "# print(argmax)\n",
    "argmin = np.argmin(iteration_numbers)\n",
    "# print(argmin)\n",
    "print(np.min(iteration_numbers))"
   ]
  },
  {
   "cell_type": "code",
   "execution_count": null,
   "metadata": {
    "collapsed": false
   },
   "outputs": [],
   "source": [
    "median_noisy = np.median(iteration_numbers_noisy)\n",
    "print(median_noisy)\n",
    "argmax_noisy = np.argmax(iteration_numbers_noisy)\n",
    "print(argmax_noisy)\n",
    "print(np.max(iteration_numbers_noisy))\n",
    "argmin_noisy = np.argmin(iteration_numbers_noisy)\n",
    "print(argmin_noisy)\n",
    "print(np.min(iteration_numbers_noisy))"
   ]
  },
  {
   "cell_type": "code",
   "execution_count": null,
   "metadata": {
    "collapsed": false
   },
   "outputs": [],
   "source": [
    "_,argmedian_noisy = np.where([iteration_numbers_noisy == median_noisy])\n",
    "argmedian_noisy = argmedian_noisy[0]\n",
    "print(argmedian_noisy)"
   ]
  },
  {
   "cell_type": "code",
   "execution_count": null,
   "metadata": {
    "collapsed": false
   },
   "outputs": [],
   "source": [
    "print(results_noisy[argmax_noisy][1])\n",
    "print(results_noisy[argmax_noisy][2])"
   ]
  },
  {
   "cell_type": "code",
   "execution_count": null,
   "metadata": {
    "collapsed": false
   },
   "outputs": [],
   "source": [
    "print(results_noisy[argmedian_noisy][1])\n",
    "print(results_noisy[argmedian_noisy][2])"
   ]
  },
  {
   "cell_type": "code",
   "execution_count": null,
   "metadata": {
    "collapsed": false
   },
   "outputs": [],
   "source": [
    "print(results_vd_its_noisy[argmax_noisy][1])\n",
    "print(results_vd_its_noisy[argmax_noisy][2])"
   ]
  },
  {
   "cell_type": "code",
   "execution_count": null,
   "metadata": {
    "collapsed": false
   },
   "outputs": [],
   "source": [
    "print(results_noisy[argmedian_noisy][2])\n",
    "print(results_vd_its_noisy[argmedian_noisy][1])\n",
    "print(results_svd_its_noisy[argmedian_noisy][2])"
   ]
  },
  {
   "cell_type": "code",
   "execution_count": null,
   "metadata": {
    "collapsed": false
   },
   "outputs": [],
   "source": [
    "results_svd_its_noisy[argmax_noisy][2] * results_noisy[argmax_noisy][2].rev()"
   ]
  },
  {
   "cell_type": "code",
   "execution_count": null,
   "metadata": {
    "collapsed": false
   },
   "outputs": [],
   "source": [
    "results_svd_its_noisy[argmax_noisy][2].matrix()"
   ]
  },
  {
   "cell_type": "code",
   "execution_count": null,
   "metadata": {
    "collapsed": false
   },
   "outputs": [],
   "source": [
    "results_noisy[argmax_noisy][2].matrix()"
   ]
  },
  {
   "cell_type": "code",
   "execution_count": null,
   "metadata": {
    "collapsed": false
   },
   "outputs": [],
   "source": [
    "# motors = create_motors(1)\n",
    "# datasets = [create_points(motor, n_points=3, radius=1, gaussian=False, noise_std=0.075) for motor in motors]\n",
    "points, motor, estimated_motor, summary = results_noisy[argmax_noisy]\n",
    "points, motor, estimated_motor2, summary = results_vd_its_noisy[argmax_noisy]\n",
    "\n",
    "point_radius = 0.04\n",
    "scene = Scene(children=\n",
    "              [point_mesh(point, radius=point_radius,color=Colors.HOTPINK) for point, _,_ in points] +\\\n",
    "              [point_mesh(point, radius=point_radius,color=Colors.LIGHTSKYBLUE) for _,point,_ in points] +\\\n",
    "#               [point_mesh(point, radius=point_radius,color=Colors.GRAY) for _,_,point in points] +\\\n",
    "              [point_mesh(point.spin(estimated_motor), radius=point_radius,color=Colors.AQUAMARINE)\n",
    "               for point,_,_ in points] +\\\n",
    "              [point_mesh(point.spin(estimated_motor2), radius=point_radius,color=Colors.RED)\n",
    "               for point,_,_ in points] +\\\n",
    "              [frame_mesh(size=0.5)] +\\\n",
    "              [AmbientLight(color='#cccccc')])\n",
    "\n",
    "camera = PerspectiveCamera(position=[0, 5, 5], up=[0, 0, 1],\n",
    "                      children=[DirectionalLight(color='white', \n",
    "                                                 position=[3, 5, 1], \n",
    "                                                 intensity=0.5)])\n",
    "\n",
    "\n",
    "renderer = Renderer(camera=camera, \n",
    "                    scene=scene, \n",
    "                    controls=[TrackballControls(controlling=camera)],\n",
    "                    background = 'white',\n",
    "                    width='960',\n",
    "                    height='512')\n",
    "# display(renderer)"
   ]
  },
  {
   "cell_type": "markdown",
   "metadata": {
    "deletable": true,
    "editable": true
   },
   "source": [
    "# Estimate motors from line observations"
   ]
  },
  {
   "cell_type": "code",
   "execution_count": 98,
   "metadata": {
    "collapsed": true
   },
   "outputs": [],
   "source": [
    "def create_random_lines(motor, n_lines=10, radius=10, \n",
    "                        trs_noise_std=0.09, rot_noise_std=0.09):\n",
    "    lines = []\n",
    "    for i in range(n_lines):\n",
    "        \n",
    "        if trs_noise_std > 0.0:\n",
    "            t = vsr.Vec(*np.random.random(3)).unit() * np.random.normal(0.0,trs_noise_std,1)\n",
    "        else:\n",
    "            t = vsr.Vec(0,0,0)\n",
    "            \n",
    "        if rot_noise_std > 0.0:\n",
    "            R = vsr.Rot(vsr.Biv(*np.random.uniform(-1,1,3)).unit() * \n",
    "                            np.random.normal(0, rot_noise_std) * -0.5)\n",
    "        else:\n",
    "            R = vsr.Rot(1,0,0,0)\n",
    "        noise_motor = t.trs() * R\n",
    "        \n",
    "        p = (vsr.Vec(*np.random.uniform(-1,1,3)).unit() * np.random.uniform(0,radius))\n",
    "        \n",
    "        v = vsr.Vec(*np.random.uniform(-1,1,3)).unit()\n",
    "        \n",
    "        mp = p.trs() * vsr.Rot(1,0,0,0)\n",
    "        a = vsr.Dll(vsr.Vec(0,0,0).null(),v)\n",
    "        an = a.spin(noise_motor)\n",
    "        \n",
    "        a = a.spin(mp)\n",
    "        an = an.spin(mp)\n",
    "        \n",
    "#         a = vsr.Dll(p.null(), v)\n",
    "#         an = a.spin(noise_motor)\n",
    "\n",
    "        b = a.spin(motor)\n",
    "        bn = an.spin(motor)\n",
    "        lines.append((a,b,bn))\n",
    "    return (lines, motor)"
   ]
  },
  {
   "cell_type": "code",
   "execution_count": 114,
   "metadata": {
    "collapsed": true
   },
   "outputs": [],
   "source": [
    "def estimate_motors_lines_chordal(dataset, \n",
    "                          initial_motor = None, \n",
    "                          noisy=False,\n",
    "                         ):\n",
    "    \n",
    "    lines, motor = dataset\n",
    "    if initial_motor is None:\n",
    "        _, _, initial_motor, _ = estimate_motors_lines_daniilidis(dataset, noisy=noisy)\n",
    "#         _, _, initial_motor, _ = estimate_motors_lines_angular(dataset, noisy=noisy)\n",
    "    mes = MotorEstimationSolver(initial_motor)\n",
    "    if noisy:\n",
    "        for (a, _, bn) in lines:\n",
    "            mes.add_line_correspondences_residual_block(a,bn)\n",
    "            \n",
    "    else:\n",
    "        for (a, b, _) in lines:\n",
    "            mes.add_line_correspondences_residual_block(a,b)\n",
    "            \n",
    "    mes.set_parameterization('BIVECTOR_GENERATOR')\n",
    "    mes.linear_solver_type = 'DENSE_QR'\n",
    "#     mes.function_tolerance = 1e-12\n",
    "#     mes.gradient_tolerance = 1e-12\n",
    "#     mes.parameter_tolerance = 1e-12\n",
    "    (estimated_motor, summary, _) = mes.solve()\n",
    "    \n",
    "    \n",
    "\n",
    "    \n",
    "    return (lines, motor, estimated_motor, summary)"
   ]
  },
  {
   "cell_type": "code",
   "execution_count": 102,
   "metadata": {
    "collapsed": false
   },
   "outputs": [],
   "source": [
    "def estimate_motors_lines_projected(dataset, \n",
    "                          initial_motor = None, \n",
    "                          noisy=False,\n",
    "                         ):\n",
    "    \n",
    "    lines, motor = dataset\n",
    "    if initial_motor is None:\n",
    "        _, _, initial_motor, _ = estimate_motors_lines_daniilidis(dataset, noisy=noisy)\n",
    "#         _, _, initial_motor, _ = estimate_motors_lines_angular(dataset, noisy=noisy)\n",
    "    mes = MotorEstimationSolver(initial_motor)\n",
    "    if noisy:\n",
    "        for (a, _, bn) in lines:\n",
    "            mes.add_line_projected_correspondences_residual_block(a,bn)\n",
    "            \n",
    "    else:\n",
    "        for (a, b, _) in lines:\n",
    "            mes.add_line_projected_correspondences_residual_block(a,b)\n",
    "            \n",
    "    mes.set_parameterization('BIVECTOR_GENERATOR')\n",
    "    mes.linear_solver_type = 'DENSE_QR'\n",
    "#     mes.function_tolerance = 1e-12\n",
    "#     mes.gradient_tolerance = 1e-12\n",
    "#     mes.parameter_tolerance = 1e-12\n",
    "    (estimated_motor, summary, _) = mes.solve()\n",
    "    \n",
    "    \n",
    "\n",
    "    \n",
    "    return (lines, motor, estimated_motor, summary)"
   ]
  },
  {
   "cell_type": "code",
   "execution_count": 103,
   "metadata": {
    "collapsed": false
   },
   "outputs": [
    {
     "ename": "TypeError",
     "evalue": "add_line_projected_correspondences_residual_block(): incompatible function arguments. The following argument types are supported:\n    1. (self: motor_estimation.MotorEstimationSolver, arg0: versor_pybind11.Dll, arg1: versor_pybind11.Dll) -> bool\n\nInvoked with: <motor_estimation.MotorEstimationSolver object at 0x123d00a80>",
     "output_type": "error",
     "traceback": [
      "\u001b[0;31m---------------------------------------------------------------------------\u001b[0m",
      "\u001b[0;31mTypeError\u001b[0m                                 Traceback (most recent call last)",
      "\u001b[0;32m<ipython-input-103-cc015cb1917e>\u001b[0m in \u001b[0;36m<module>\u001b[0;34m()\u001b[0m\n\u001b[1;32m      1\u001b[0m \u001b[0mmes\u001b[0m \u001b[0;34m=\u001b[0m \u001b[0mMotorEstimationSolver\u001b[0m\u001b[0;34m(\u001b[0m\u001b[0mvsr\u001b[0m\u001b[0;34m.\u001b[0m\u001b[0mMot\u001b[0m\u001b[0;34m(\u001b[0m\u001b[0;36m1\u001b[0m\u001b[0;34m,\u001b[0m\u001b[0;36m0\u001b[0m\u001b[0;34m,\u001b[0m\u001b[0;36m0\u001b[0m\u001b[0;34m,\u001b[0m\u001b[0;36m0\u001b[0m\u001b[0;34m,\u001b[0m\u001b[0;36m0\u001b[0m\u001b[0;34m,\u001b[0m\u001b[0;36m0\u001b[0m\u001b[0;34m,\u001b[0m\u001b[0;36m0\u001b[0m\u001b[0;34m,\u001b[0m\u001b[0;36m0\u001b[0m\u001b[0;34m)\u001b[0m\u001b[0;34m)\u001b[0m\u001b[0;34m\u001b[0m\u001b[0m\n\u001b[1;32m      2\u001b[0m \u001b[0mmes\u001b[0m\u001b[0;34m.\u001b[0m\u001b[0mparameter_tolerance\u001b[0m\u001b[0;34m\u001b[0m\u001b[0m\n\u001b[0;32m----> 3\u001b[0;31m \u001b[0mmes\u001b[0m\u001b[0;34m.\u001b[0m\u001b[0madd_line_projected_correspondences_residual_block\u001b[0m\u001b[0;34m(\u001b[0m\u001b[0;34m)\u001b[0m\u001b[0;34m\u001b[0m\u001b[0m\n\u001b[0m",
      "\u001b[0;31mTypeError\u001b[0m: add_line_projected_correspondences_residual_block(): incompatible function arguments. The following argument types are supported:\n    1. (self: motor_estimation.MotorEstimationSolver, arg0: versor_pybind11.Dll, arg1: versor_pybind11.Dll) -> bool\n\nInvoked with: <motor_estimation.MotorEstimationSolver object at 0x123d00a80>"
     ]
    }
   ],
   "source": [
    "mes = MotorEstimationSolver(vsr.Mot(1,0,0,0,0,0,0,0))\n",
    "mes.parameter_tolerance\n",
    "mes.add_line_projected_correspondences_residual_block()"
   ]
  },
  {
   "cell_type": "code",
   "execution_count": 104,
   "metadata": {
    "collapsed": false
   },
   "outputs": [],
   "source": [
    "def estimate_motors_lines_angular(dataset, \n",
    "                          initial_motor = None,\n",
    "                          noisy=False):\n",
    "    lines, motor = dataset\n",
    "    if initial_motor is None:\n",
    "        initial_motor = vsr.Mot(1.0, 0.0, 0.0, 0.0, 0.0, 0.0, 0.0, 0.0)\n",
    "    mes = MotorEstimationSolver(initial_motor)\n",
    "    if noisy:\n",
    "        for (a, _, bn) in lines:\n",
    "            mes.add_line_angle_distance_residual_block(a,bn)\n",
    "    else:\n",
    "        for (a, b, _) in lines:\n",
    "                mes.add_line_angle_distance_residual_block(a,b)\n",
    "    mes.set_parameterization('BIVECTOR_GENERATOR')\n",
    "    mes.linear_solver_type = 'DENSE_QR'\n",
    "    (estimated_motor, summary, _) = mes.solve()\n",
    "    return (lines, motor, estimated_motor, summary)"
   ]
  },
  {
   "cell_type": "code",
   "execution_count": 15,
   "metadata": {
    "collapsed": true
   },
   "outputs": [],
   "source": [
    "def estimate_motors_lines_vd(dataset, \n",
    "                             initial_motor = vsr.Mot(1.0, 0.0, 0.0, 0.0, 0.0, 0.0, 0.0, 0.0), \n",
    "                             noisy=False):\n",
    "    vd = VDMotorEstimationSolver()\n",
    "    lines, motor = dataset\n",
    "    lines_a = []\n",
    "    lines_b = []\n",
    "    lines_bn = []\n",
    "    for (a,b,bn) in lines:\n",
    "        lines_a.append(a)\n",
    "        lines_b.append(b)\n",
    "        lines_bn.append(bn)\n",
    "    if noisy:\n",
    "        vd.add_dual_line_observations(lines_a, lines_bn)\n",
    "    else:\n",
    "        vd.add_dual_line_observations(lines_a, lines_b)\n",
    "    estimated_motor = vd.solve()\n",
    "    return (lines, motor, estimated_motor, [])"
   ]
  },
  {
   "cell_type": "code",
   "execution_count": 16,
   "metadata": {
    "collapsed": true,
    "editable": true
   },
   "outputs": [],
   "source": [
    "def daniilidis_motor(LAs, LBs):\n",
    "    Ds = []\n",
    "    for LA, LB in zip(LAs, LBs):\n",
    "        D = np.zeros((8,8))\n",
    "        for i in range(8):\n",
    "            ei = vsr.Mot(0,0,0,0,0,0,0,0)\n",
    "            ei[i] = 1.0\n",
    "            D[:,i] = np.array(ei * LA - LB * ei)\n",
    "        Ds.append(D[1:7,:].copy())\n",
    "\n",
    "    \n",
    "    Ds = np.array(Ds).reshape(-1,8)\n",
    "    [U, s, Vt] = np.linalg.svd(Ds)\n",
    "\n",
    "    v7 = Vt.T[:,-2].copy()\n",
    "    v8 = Vt.T[:,-1].copy()\n",
    "    \n",
    "    v7 = np.array([v7[0], v7[3], -v7[2], v7[1], -v7[7],v7[4], v7[5], v7[6]])\n",
    "    v8 = np.array([v8[0], v8[3], -v8[2], v8[1], -v8[7],v8[4], v8[5], v8[6]])\n",
    "    \n",
    "    u1 = v7[:4]\n",
    "    v1 = v7[4:]\n",
    "    u2 = v8[:4]\n",
    "    v2 = v8[4:]\n",
    "\n",
    "    a = np.inner(u1,v1)\n",
    "    b = np.inner(u1,v2) + np.inner(u2,v1)\n",
    "    c = np.inner(u2,v2)\n",
    "    [s1, s2] = np.roots([a,b,c])\n",
    "\n",
    "    val1 = (s1**2 * np.inner(u1,u1)) + (2 * s1 * np.inner(u1,u2)) + (np.inner(u2,u2))\n",
    "    val2 = (s2**2 * np.inner(u1,u1)) + (2 * s2 * np.inner(u1,u2)) + (np.inner(u2,u2))\n",
    "    \n",
    "    if val1 > val2:\n",
    "        s = s1\n",
    "        val = val1\n",
    "    else:\n",
    "        s = s2\n",
    "        val = val2\n",
    "\n",
    "    lambda2 = np.sqrt(1./val)\n",
    "    lambda1 = s * lambda2\n",
    "    \n",
    "    m_arr = lambda1 * Vt.T[:,-2] + lambda2 * Vt.T[:,-1]\n",
    "\n",
    "    return vsr.Mot(*m_arr)"
   ]
  },
  {
   "cell_type": "code",
   "execution_count": 17,
   "metadata": {
    "collapsed": true
   },
   "outputs": [],
   "source": [
    "def estimate_motors_lines_daniilidis(dataset, \n",
    "                             initial_motor = vsr.Mot(1.0, 0.0, 0.0, 0.0, 0.0, 0.0, 0.0, 0.0), \n",
    "                             noisy=False):\n",
    "    lines, motor = dataset\n",
    "    lines_a = []\n",
    "    lines_b = []\n",
    "    lines_bn = []\n",
    "    for (a,b,bn) in lines:\n",
    "        lines_a.append(a)\n",
    "        lines_b.append(b)\n",
    "        lines_bn.append(bn)\n",
    "    if noisy:\n",
    "        estimated_motor = daniilidis_motor(lines_a, lines_bn)\n",
    "    else:\n",
    "        estimated_motor = daniilidis_motor(lines_a, lines_b)\n",
    "        \n",
    "    if np.sign(estimated_motor[0]) != np.sign(motor[0]):\n",
    "        estimated_motor = estimated_motor * -1.0\n",
    "    return (lines, motor, estimated_motor, [])"
   ]
  },
  {
   "cell_type": "code",
   "execution_count": 18,
   "metadata": {
    "collapsed": true
   },
   "outputs": [],
   "source": [
    "def estimate_motors_lines_lars(dataset, noisy=False):\n",
    "    lines, motor = dataset\n",
    "    \n",
    "    def solve(L):\n",
    "        Lrr = L[:4, :4]\n",
    "        Lrq = L[:4, 4:]\n",
    "        Lqr = L[4:, :4]\n",
    "        Lqq = L[4:, 4:]\n",
    "        Lp = Lrr - np.dot(Lrq, np.dot(np.linalg.pinv(Lqq), Lqr))\n",
    "        w, v = np.linalg.eig(Lp)\n",
    "        r = v[:, np.argmin(w)]\n",
    "        q = np.dot(-np.dot(np.linalg.pinv(Lqq), Lqr), r)\n",
    "        return vsr.Mot(*np.array([r, q]).ravel())\n",
    "\n",
    "    Q = np.zeros((8,8))\n",
    "        \n",
    "    lines_a = []\n",
    "    lines_b = []\n",
    "    lines_bn = []\n",
    "    for (a,b,bn) in lines:\n",
    "        lines_a.append(vsr.CGA(a))\n",
    "        lines_b.append(vsr.CGA(b))\n",
    "        lines_bn.append(vsr.CGA(bn))\n",
    "        \n",
    "    if noisy:\n",
    "        for b,a in zip(lines_a, lines_bn):\n",
    "            D = np.zeros((32,8))\n",
    "            for i in range(8):\n",
    "                ei = vsr.Mot(0,0,0,0,0,0,0,0)\n",
    "                ei[i] = 1.0\n",
    "                ei = vsr.CGA(ei)\n",
    "                D[:,i] = np.array(a * ei - ei * b)\n",
    "            Q += np.dot(D.T,D)\n",
    "    else:\n",
    "        for b,a in zip(lines_a, lines_b):\n",
    "            D = np.zeros((32,8))\n",
    "            for i in range(8):\n",
    "                ei = vsr.Mot(0,0,0,0,0,0,0,0)\n",
    "                ei[i] = 1.0\n",
    "                ei = vsr.CGA(ei)\n",
    "                D[:,i] = np.array(a * ei - ei * b)\n",
    "            Q += np.dot(D.T,D)\n",
    "\n",
    "    estimated_motor = solve(Q)\n",
    "    \n",
    "    if np.sign(estimated_motor[0]) != np.sign(motor[0]):\n",
    "        estimated_motor = estimated_motor * -1.0\n",
    "        \n",
    "    return (lines, motor, estimated_motor, _)"
   ]
  },
  {
   "cell_type": "code",
   "execution_count": 19,
   "metadata": {
    "collapsed": false
   },
   "outputs": [],
   "source": [
    "def run_lines(n_lines=10, n_sets=10, n_motors=10, trs_noise_std=0.09, rot_noise_std=0.09,\n",
    "              noisy=False, onlyrot=True, radius=2, d_lims=(0,2), th_lims=(0,pi/2)):\n",
    "#     thlim = pi/2\n",
    "    motors = create_motors(n_motors, d_lims=d_lims, th_lims=th_lims)\n",
    "    results = []\n",
    "    results_vd = []\n",
    "    results_daniilidis = []\n",
    "    results_comm = []\n",
    "        \n",
    "    for motor in motors:\n",
    "        datasets = [create_random_lines(motor, n_lines, \n",
    "                                    rot_noise_std=rot_noise_std, \n",
    "                                    trs_noise_std=trs_noise_std,\n",
    "                                       radius=radius) \n",
    "                for n_set in range(n_sets)]\n",
    "        \n",
    "        for dataset in datasets:\n",
    "            results.append(estimate_motors_lines_chordal(dataset, noisy=noisy, \n",
    "                                                         initial_motor=vsr.Mot(1,0,0,0,\n",
    "                                                                               0,0,0,0)))\n",
    "            results_vd.append(estimate_motors_lines_vd(dataset, noisy=noisy))\n",
    "            results_daniilidis.append(estimate_motors_lines_daniilidis(dataset, noisy=noisy))\n",
    "            results_comm.append(estimate_motors_lines_angular(dataset, noisy=noisy))\n",
    "            \n",
    "\n",
    "    return (results, results_vd, results_daniilidis, results_comm)"
   ]
  },
  {
   "cell_type": "code",
   "execution_count": 20,
   "metadata": {
    "collapsed": true
   },
   "outputs": [],
   "source": [
    "def compare_rms_lines(results, results_vd, results_bds, results_comm):\n",
    "    RMS = {'Ti': {}, \"VD\": {}, 'BDS':{}, 'TiComm': {}}\n",
    "    our_mot, our_rot, our_trs = rms_motor(results)\n",
    "    Ti = RMS['Ti']\n",
    "    Ti['rot'] = our_rot\n",
    "    Ti['mot'] = our_mot\n",
    "    Ti['trs'] = our_trs\n",
    "    our_comm_mot, our_comm_rot, our_comm_trs = rms_motor(results_comm)\n",
    "    TiComm = RMS['TiComm']\n",
    "    TiComm['rot'] = our_comm_rot\n",
    "    TiComm['mot'] = our_comm_mot\n",
    "    TiComm['trs'] = our_comm_trs\n",
    "    vd_mot, vd_rot, vd_trs = rms_motor(results_vd)\n",
    "    VD = RMS['VD']\n",
    "    VD['rot'] = vd_rot\n",
    "    VD['mot'] = vd_mot\n",
    "    VD['trs'] = vd_trs\n",
    "    bds_mot, bds_rot, bds_trs = rms_motor(results_bds)\n",
    "    BDS = RMS['BDS']\n",
    "    BDS['rot'] = bds_rot\n",
    "    BDS['mot'] = bds_mot\n",
    "    BDS['trs'] = bds_trs\n",
    "    return pd.DataFrame(RMS)"
   ]
  },
  {
   "cell_type": "markdown",
   "metadata": {},
   "source": [
    "# Near the origin - Without noise"
   ]
  },
  {
   "cell_type": "code",
   "execution_count": 585,
   "metadata": {
    "collapsed": false
   },
   "outputs": [],
   "source": [
    "lines_rot_results = [run_lines(10,10,10, \n",
    "                               noisy=False,\n",
    "                                onlyrot=True, \n",
    "                                radius=2) for i in range(10)]\n",
    "rmss_lines_rot = [compare_rms_lines(*result) for result in lines_rot_results]"
   ]
  },
  {
   "cell_type": "code",
   "execution_count": 586,
   "metadata": {
    "collapsed": false
   },
   "outputs": [
    {
     "data": {
      "text/plain": [
       "<matplotlib.text.Text at 0x152e7ff60>"
      ]
     },
     "execution_count": 586,
     "metadata": {},
     "output_type": "execute_result"
    },
    {
     "data": {
      "image/png": "[encoded data removed]",
      "text/plain": [
       "<matplotlib.figure.Figure at 0x14c3132e8>"
      ]
     },
     "metadata": {},
     "output_type": "display_data"
    }
   ],
   "source": [
    "d = pd.concat(rmss_lines_rot)\n",
    "\n",
    "fig, ax = plt.subplots(2)\n",
    "\n",
    "ax0 = ax[0]\n",
    "ax0.plot(noise_levels_rot, d['Ti']['rot'].tolist(), label='Ti chordal')\n",
    "ax0.plot(noise_levels_rot, d['TiComm']['rot'].tolist(), marker='*', label='Ti angular')\n",
    "ax0.plot(noise_levels_rot, d['BDS']['rot'].tolist(), label='BDS')\n",
    "ax0.plot(noise_levels_rot, d['VD']['rot'].tolist(), label='VD')\n",
    "ax0.legend(frameon=False, loc=2)\n",
    "ax0.set_ylabel('Error in rotation [rad]')\n",
    "\n",
    "fig.subplots_adjust(hspace=.25)\n",
    "\n",
    "ax1 = ax[1]\n",
    "ax1.plot(noise_levels_rot, d['Ti']['trs'].tolist(), label='Ti chordal')\n",
    "ax1.plot(noise_levels_rot, d['BDS']['trs'].tolist(), label='BDS')\n",
    "ax1.legend(frameon=False, loc=2)\n",
    "\n",
    "ax1.set_xlabel('Gaussian mean deviation of induced noise in rotation [rad]')\n",
    "ax1.set_ylabel('Error in translation [m]')"
   ]
  },
  {
   "cell_type": "code",
   "execution_count": 505,
   "metadata": {
    "collapsed": false
   },
   "outputs": [
    {
     "data": {
      "image/png": "[encoded data removed]",
      "text/plain": [
       "<matplotlib.figure.Figure at 0x152aafe80>"
      ]
     },
     "metadata": {},
     "output_type": "display_data"
    }
   ],
   "source": [
    "fig, ax = plt.subplots(2)\n",
    "max_, median, min_ = analyze_iterations(lines_rot_results[0][0])\n",
    "ax0 = ax[0]\n",
    "ax0.semilogy(max_[2], label='max')\n",
    "ax0.semilogy(median[2], label='median')\n",
    "ax0.semilogy(min_[2], label='min')\n",
    "ax0.legend(frameon=False, loc=1)\n",
    "ax0.set_ylabel('Cost')\n",
    "ax0.set_xlabel('Iteration $k$')\n",
    "ax0.xaxis.set_major_locator(MaxNLocator(integer=True))\n",
    "\n",
    "max_, median, min_ = analyze_iterations(lines_rot_results[3][0])\n",
    "ax1 = ax[1]\n",
    "ax1.semilogy(max_[2], label='max')\n",
    "ax1.semilogy(median[2], label='median')\n",
    "ax1.semilogy(min_[2], label='min')\n",
    "ax1.legend(frameon=False, loc=1)\n",
    "ax1.set_ylabel('Cost')\n",
    "ax1.set_xlabel('Iteration $k$')\n",
    "ax1.xaxis.set_major_locator(MaxNLocator(integer=True))\n",
    "\n",
    "# plt.savefig('/Users/lars/latex/latex-phd-thesis/Figures/lines-angular-iterations-rot-noise.pdf')"
   ]
  },
  {
   "cell_type": "markdown",
   "metadata": {},
   "source": [
    "# Near the origin - constant translation noise"
   ]
  },
  {
   "cell_type": "code",
   "execution_count": 475,
   "metadata": {
    "collapsed": true
   },
   "outputs": [],
   "source": [
    "sns.set_context('paper')"
   ]
  },
  {
   "cell_type": "code",
   "execution_count": 601,
   "metadata": {
    "collapsed": false
   },
   "outputs": [],
   "source": [
    "n_noise_levels = 10\n",
    "noise_levels_rot = np.linspace(1e-6, 0.1, n_noise_levels)\n",
    "noise_levels_trs = np.linspace(1e-6, 0.01, n_noise_levels)\n",
    "lines_rot_noise_results = [run_lines(10,10,10, \n",
    "                                               rot_noise_std=noise_level_rot, \n",
    "                                               trs_noise_std=0.001, noisy=True,\n",
    "                                               onlyrot=True, \n",
    "                                               radius=2)\n",
    "              for noise_level_rot, \n",
    "                  noise_level_trs in zip(noise_levels_rot, noise_levels_trs)]\n",
    "rmss_lines_rot_noise = [compare_rms_lines(*result) for result in lines_rot_noise_results]"
   ]
  },
  {
   "cell_type": "markdown",
   "metadata": {},
   "source": [
    "## Rotation and translation plot"
   ]
  },
  {
   "cell_type": "code",
   "execution_count": 602,
   "metadata": {
    "collapsed": false,
    "scrolled": true
   },
   "outputs": [
    {
     "data": {
      "text/plain": [
       "<matplotlib.text.Text at 0x15285f748>"
      ]
     },
     "execution_count": 602,
     "metadata": {},
     "output_type": "execute_result"
    },
    {
     "data": {
      "image/png": "[encoded data removed]",
      "text/plain": [
       "<matplotlib.figure.Figure at 0x152143cf8>"
      ]
     },
     "metadata": {},
     "output_type": "display_data"
    }
   ],
   "source": [
    "d = pd.concat(rmss_lines_rot_noise)\n",
    "\n",
    "fig, ax = plt.subplots(2)\n",
    "\n",
    "ax0 = ax[0]\n",
    "ax0.plot(noise_levels_rot, d['Ti']['rot'].tolist(), label='Ti chordal')\n",
    "ax0.plot(noise_levels_rot, d['TiComm']['rot'].tolist(), marker='*', label='Ti angular')\n",
    "ax0.plot(noise_levels_rot, d['BDS']['rot'].tolist(), label='BDS')\n",
    "ax0.plot(noise_levels_rot, d['VD']['rot'].tolist(), label='VD')\n",
    "ax0.legend(frameon=False, loc=2)\n",
    "ax0.set_ylabel('Error in rotation [rad]')\n",
    "ax0.set_xlabel('Gaussian mean deviation of induced noise in rotation [rad]')\n",
    "\n",
    "fig.subplots_adjust(hspace=.33)\n",
    "\n",
    "ax1 = ax[1]\n",
    "ax1.plot(noise_levels_rot, d['Ti']['trs'].tolist(), label='Ti chordal')\n",
    "ax1.plot(noise_levels_rot, d['BDS']['trs'].tolist(), label='BDS')\n",
    "ax1.legend(frameon=False, loc=2)\n",
    "\n",
    "ax1.set_xlabel('Gaussian mean deviation of induced noise in rotation [rad]')\n",
    "ax1.set_ylabel('Error in translation [m]')\n",
    "\n",
    "# plt.savefig('/Users/lars/latex/latex-phd-thesis/Figures/lines-only-rot-noise.pdf')"
   ]
  },
  {
   "cell_type": "code",
   "execution_count": 535,
   "metadata": {
    "collapsed": false
   },
   "outputs": [],
   "source": [
    "def analyze_iterations(results):\n",
    "    summaries = [result[3] for result in results]\n",
    "    iteration_numbers = []\n",
    "    for summary in summaries:\n",
    "        iteration_numbers.append(len(pd.DataFrame(summary['iterations'])['cost']))\n",
    "        \n",
    "#     median = np.median(iteration_numbers)\n",
    "#     argmedian = np.where([iteration_numbers == median])[1][0]\n",
    "#     median_costs = pd.DataFrame(summaries[argmedian]['iterations'])['cost']\n",
    "#     median_gradients = pd.DataFrame(summaries[argmedian]['iterations'])['gradient_max_norm']\n",
    "\n",
    "    \n",
    "    argmax = np.argmax(iteration_numbers)\n",
    "    max_ = np.max(iteration_numbers)\n",
    "    max_costs = pd.DataFrame(summaries[argmax]['iterations'])['cost']\n",
    "    max_gradients = pd.DataFrame(summaries[argmax]['iterations'])['gradient_max_norm']\n",
    "\n",
    "    \n",
    "    argmin = np.argmin(iteration_numbers)\n",
    "    min_ = np.min(iteration_numbers)\n",
    "    min_costs = pd.DataFrame(summaries[argmin]['iterations'])['cost']\n",
    "    min_gradients = pd.DataFrame(summaries[argmin]['iterations'])['gradient_max_norm']\n",
    "    return ((max_, argmax, max_costs, max_gradients), \n",
    "            (min_, argmin, min_costs, min_gradients))"
   ]
  },
  {
   "cell_type": "code",
   "execution_count": 445,
   "metadata": {
    "collapsed": false
   },
   "outputs": [],
   "source": [
    "\n",
    "# max_, median, min_ = analyze_iterations(lines_rot_noise_results[3][0])"
   ]
  },
  {
   "cell_type": "code",
   "execution_count": 576,
   "metadata": {
    "collapsed": false
   },
   "outputs": [
    {
     "data": {
      "image/png": "[encoded data removed]",
      "text/plain": [
       "<matplotlib.figure.Figure at 0x130cb6860>"
      ]
     },
     "metadata": {},
     "output_type": "display_data"
    }
   ],
   "source": [
    "fig, ax = plt.subplots(2)\n",
    "max_, min_ = analyze_iterations(lines_rot_trs_noise_results[0][0])\n",
    "ax0 = ax[0]\n",
    "ax0.set_title('Chordal')\n",
    "ax0.semilogy(max_[2], label='max')\n",
    "ax0.semilogy(min_[2], label='min')\n",
    "ax0.legend(frameon=False, loc=1)\n",
    "ax0.set_ylabel('Cost')\n",
    "ax0.set_xlabel('Iteration $k$')\n",
    "ax0.xaxis.set_major_locator(MaxNLocator(integer=True))\n",
    "\n",
    "fig.subplots_adjust(hspace=0.5)\n",
    "\n",
    "max_, min_ = analyze_iterations(lines_rot_trs_noise_results[3][0])\n",
    "ax1 = ax[1]\n",
    "ax1.set_title('Angular')\n",
    "ax1.semilogy(max_[2], label='max')\n",
    "ax1.semilogy(min_[2], label='min')\n",
    "ax1.legend(frameon=False, loc=1)\n",
    "ax1.set_ylabel('Cost')\n",
    "ax1.set_xlabel('Iteration $k$')\n",
    "ax1.xaxis.set_major_locator(MaxNLocator(integer=True))\n",
    "\n",
    "# plt.savefig('/Users/lars/latex/latex-phd-thesis/Figures/lines-iterations-rot-trs-noise.pdf')"
   ]
  },
  {
   "cell_type": "markdown",
   "metadata": {},
   "source": [
    "# Near the origin - constant rotation noise"
   ]
  },
  {
   "cell_type": "code",
   "execution_count": 568,
   "metadata": {
    "collapsed": false
   },
   "outputs": [],
   "source": [
    "n_noise_levels = 10\n",
    "noise_levels_rot = np.linspace(1e-6, 0.1, n_noise_levels)\n",
    "noise_levels_trs = np.linspace(1e-6, 0.01, n_noise_levels)\n",
    "rmss_lines_trs_noise = [compare_rms_lines(*run_lines(32,32,32, \n",
    "                                               rot_noise_std=0.001, \n",
    "                                               trs_noise_std=noise_level_trs, \n",
    "                                                     noisy=True,\n",
    "                                               onlyrot=True, \n",
    "                                               radius=2)) \n",
    "              for noise_level_rot, \n",
    "                  noise_level_trs in zip(noise_levels_rot, noise_levels_trs)]"
   ]
  },
  {
   "cell_type": "markdown",
   "metadata": {},
   "source": [
    "## Rotation and translation plot"
   ]
  },
  {
   "cell_type": "code",
   "execution_count": 570,
   "metadata": {
    "collapsed": false
   },
   "outputs": [
    {
     "data": {
      "image/png": "[encoded data removed]",
      "text/plain": [
       "<matplotlib.figure.Figure at 0x1368e17f0>"
      ]
     },
     "metadata": {},
     "output_type": "display_data"
    }
   ],
   "source": [
    "d = pd.concat(rmss_lines_trs_noise)\n",
    "fig, ax = plt.subplots(2)\n",
    "ax0 = ax[0]\n",
    "ax0.plot(noise_levels_trs, d['Ti']['rot'].tolist(), label='Ti chordal')\n",
    "ax0.plot(noise_levels_trs, d['TiComm']['rot'].tolist(), marker='*', label='Ti angular')\n",
    "ax0.plot(noise_levels_trs, d['BDS']['rot'].tolist(), label='BDS')\n",
    "ax0.plot(noise_levels_trs, d['VD']['rot'].tolist(), label='VD')\n",
    "ax0.legend(frameon=False, loc=2)\n",
    "ax0.set_ylabel('Error in rotation [rad]')\n",
    "\n",
    "ax1 = ax[1]\n",
    "ax1.plot(noise_levels_trs, d['Ti']['trs'].tolist(),   label='Ti chordal')\n",
    "ax1.plot(noise_levels_trs, d['BDS']['trs'].tolist(), label='BDS')\n",
    "ax1.legend(frameon=False, loc=2)\n",
    "\n",
    "ax1.set_xlabel('Gaussian mean deviation of induced noise in rotation [m]')\n",
    "ax1.set_ylabel('Error in translation [m]')\n",
    "# plt.savefig('/Users/lars/latex/latex-phd-thesis/Figures/lines-only-trs-noise.pdf')"
   ]
  },
  {
   "cell_type": "code",
   "execution_count": 314,
   "metadata": {
    "collapsed": false
   },
   "outputs": [
    {
     "data": {
      "text/plain": [
       "0.085943669269623491"
      ]
     },
     "execution_count": 314,
     "metadata": {},
     "output_type": "execute_result"
    }
   ],
   "source": [
    "np.rad2deg(0.00150)"
   ]
  },
  {
   "cell_type": "markdown",
   "metadata": {},
   "source": [
    "# Near the origin - increasing both rotation and translation"
   ]
  },
  {
   "cell_type": "code",
   "execution_count": 571,
   "metadata": {
    "collapsed": false
   },
   "outputs": [],
   "source": [
    "n_noise_levels = 10\n",
    "noise_levels_rot = np.linspace(1e-6, 0.1, n_noise_levels)\n",
    "noise_levels_trs = np.linspace(1e-6, 0.01, n_noise_levels)\n",
    "lines_rot_trs_noise_results = [run_lines(32,32,32, \n",
    "                                               rot_noise_std=noise_level_rot, \n",
    "                                               trs_noise_std=noise_level_trs, \n",
    "                                                     noisy=True,\n",
    "                                               onlyrot=True, \n",
    "                                               radius=2)\n",
    "              for noise_level_rot, \n",
    "                  noise_level_trs in zip(noise_levels_rot, noise_levels_trs)]\n",
    "rmss_lines_rot_trs_noise = [compare_rms_lines(*result) for result in lines_rot_trs_noise_results]"
   ]
  },
  {
   "cell_type": "code",
   "execution_count": null,
   "metadata": {
    "collapsed": true
   },
   "outputs": [],
   "source": []
  },
  {
   "cell_type": "markdown",
   "metadata": {},
   "source": [
    "## Rotation and translation plot"
   ]
  },
  {
   "cell_type": "code",
   "execution_count": 574,
   "metadata": {
    "collapsed": false
   },
   "outputs": [
    {
     "data": {
      "image/png": "[encoded data removed]",
      "text/plain": [
       "<matplotlib.figure.Figure at 0x12ce1e7f0>"
      ]
     },
     "metadata": {},
     "output_type": "display_data"
    }
   ],
   "source": [
    "d = pd.concat(rmss_lines_rot_trs_noise)\n",
    "fig, ax = plt.subplots(2)\n",
    "\n",
    "ax0 = ax[0]\n",
    "ax0.plot(noise_levels_rot, d['Ti']['rot'].tolist(), label='Ti chordal')\n",
    "ax0.plot(noise_levels_rot, d['TiComm']['rot'].tolist(), marker=\"*\", label='Ti angular')\n",
    "ax0.plot(noise_levels_rot, d['BDS']['rot'].tolist(), label='BDS')\n",
    "ax0.plot(noise_levels_rot, d['VD']['rot'].tolist(), label='VD')\n",
    "ax0.legend(frameon=False, loc=2)\n",
    "ax0.set_ylabel('Error in rotation [rad]')\n",
    "ax0.set_xlabel('Gaussian mean deviation of induced noise in rotation [rad]')\n",
    "\n",
    "ax1 = ax[1]\n",
    "ax1.plot(noise_levels_trs, d['Ti']['trs'].tolist(),   label='Ti chordal')\n",
    "ax1.plot(noise_levels_trs, d['BDS']['trs'].tolist(), label='BDS')\n",
    "ax1.legend(frameon=False, loc=2)\n",
    "\n",
    "fig.subplots_adjust(hspace=.33)\n",
    "\n",
    "ax1.set_xlabel('Gaussian mean deviation of induced noise in translation [m]')\n",
    "ax1.set_ylabel('Error in translation [m]')\n",
    "# plt.savefig('/Users/lars/latex/latex-phd-thesis/Figures/lines-trs-rot-noise.pdf')"
   ]
  },
  {
   "cell_type": "markdown",
   "metadata": {},
   "source": [
    "# Far from the origin - constant translation noise"
   ]
  },
  {
   "cell_type": "code",
   "execution_count": 120,
   "metadata": {
    "collapsed": true
   },
   "outputs": [],
   "source": [
    "radius = 10"
   ]
  },
  {
   "cell_type": "code",
   "execution_count": 121,
   "metadata": {
    "collapsed": true
   },
   "outputs": [],
   "source": [
    "sns.set_context('paper')"
   ]
  },
  {
   "cell_type": "code",
   "execution_count": 122,
   "metadata": {
    "collapsed": false
   },
   "outputs": [],
   "source": [
    "n_noise_levels = 10\n",
    "noise_levels_rot = np.linspace(0.0001, 0.1, n_noise_levels)\n",
    "noise_levels_trs = np.linspace(0.0001, 0.01, n_noise_levels)\n",
    "rmss_lines_rot_noise = [compare_rms_lines(*run_lines(10,10,10, \n",
    "                                               rot_noise_std=noise_level_rot, \n",
    "                                               trs_noise_std=0.001, noisy=True,\n",
    "                                               onlyrot=True, \n",
    "                                               radius=radius)) \n",
    "              for noise_level_rot, \n",
    "                  noise_level_trs in zip(noise_levels_rot, noise_levels_trs)]\n"
   ]
  },
  {
   "cell_type": "markdown",
   "metadata": {},
   "source": [
    "## Rotation and translation plot"
   ]
  },
  {
   "cell_type": "code",
   "execution_count": 123,
   "metadata": {
    "collapsed": false,
    "scrolled": true
   },
   "outputs": [
    {
     "data": {
      "text/plain": [
       "<matplotlib.text.Text at 0x1210a3e10>"
      ]
     },
     "execution_count": 123,
     "metadata": {},
     "output_type": "execute_result"
    },
    {
     "data": {
      "image/png": "[encoded data removed]",
      "text/plain": [
       "<matplotlib.figure.Figure at 0x1210b3828>"
      ]
     },
     "metadata": {},
     "output_type": "display_data"
    }
   ],
   "source": [
    "d = pd.concat(rmss_lines_rot_noise)\n",
    "\n",
    "fig, ax = plt.subplots(2)\n",
    "\n",
    "ax0 = ax[0]\n",
    "ax0.plot(noise_levels_rot, d['Ti']['rot'].tolist(), label='Ti chordal')\n",
    "ax0.plot(noise_levels_rot, d['TiComm']['rot'].tolist(), label='Ti projected')\n",
    "ax0.plot(noise_levels_rot, d['BDS']['rot'].tolist(), label='BDS')\n",
    "ax0.plot(noise_levels_rot, d['VD']['rot'].tolist(), label='VD')\n",
    "ax0.legend(frameon=False, loc=2)\n",
    "ax0.set_ylabel('Error in rotation [rad]')\n",
    "\n",
    "ax1 = ax[1]\n",
    "ax1.plot(noise_levels_rot, d['Ti']['trs'].tolist(), label='Ti chordal')\n",
    "ax1.plot(noise_levels_rot, d['TiComm']['trs'].tolist(), label='Ti projected')\n",
    "ax1.plot(noise_levels_rot, d['BDS']['trs'].tolist(), label='BDS')\n",
    "ax1.legend(frameon=False, loc=2)\n",
    "\n",
    "ax1.set_xlabel('Gaussian mean deviation of induced noise in rotation [rad]')\n",
    "ax1.set_ylabel('Error in translation [m]')\n",
    "\n",
    "# plt.savefig('/Users/lars/latex/latex-phd-thesis/Figures/lines-far-rot-noise.pdf')"
   ]
  },
  {
   "cell_type": "markdown",
   "metadata": {},
   "source": [
    "# Far from the origin - constant rotation noise"
   ]
  },
  {
   "cell_type": "code",
   "execution_count": 109,
   "metadata": {
    "collapsed": false
   },
   "outputs": [],
   "source": [
    "n_noise_levels = 10\n",
    "noise_levels_rot = np.linspace(0.0001, 0.1, n_noise_levels)\n",
    "noise_levels_trs = np.linspace(0.0001, 0.01, n_noise_levels)\n",
    "rmss_lines_trs_noise = [compare_rms_lines(*run_lines(10,10,10, \n",
    "                                               rot_noise_std=0.001, \n",
    "                                               trs_noise_std=noise_level_trs, \n",
    "                                                     noisy=True,\n",
    "                                               onlyrot=True, \n",
    "                                               radius=radius)) \n",
    "              for noise_level_rot, \n",
    "                  noise_level_trs in zip(noise_levels_rot, noise_levels_trs)]"
   ]
  },
  {
   "cell_type": "markdown",
   "metadata": {},
   "source": [
    "## Rotation and translation plot"
   ]
  },
  {
   "cell_type": "code",
   "execution_count": 110,
   "metadata": {
    "collapsed": false
   },
   "outputs": [
    {
     "data": {
      "text/plain": [
       "<matplotlib.text.Text at 0x12004ec88>"
      ]
     },
     "execution_count": 110,
     "metadata": {},
     "output_type": "execute_result"
    },
    {
     "data": {
      "image/png": "[encoded data removed]",
      "text/plain": [
       "<matplotlib.figure.Figure at 0x11fbd1898>"
      ]
     },
     "metadata": {},
     "output_type": "display_data"
    }
   ],
   "source": [
    "d = pd.concat(rmss_lines_trs_noise)\n",
    "fig, ax = plt.subplots(2)\n",
    "ax0 = ax[0]\n",
    "ax0.plot(noise_levels_trs, d['Ti']['rot'].tolist(), label='Ti chordal')\n",
    "ax0.plot(noise_levels_trs, d['TiComm']['rot'].tolist(), label='Ti projected')\n",
    "ax0.plot(noise_levels_trs, d['BDS']['rot'].tolist(), label='BDS')\n",
    "ax0.plot(noise_levels_trs, d['VD']['rot'].tolist(), label='VD')\n",
    "ax0.legend(frameon=False, loc=2)\n",
    "ax0.set_ylabel('Error in rotation [rad]')\n",
    "\n",
    "ax1 = ax[1]\n",
    "ax1.plot(noise_levels_trs, d['Ti']['trs'].tolist(),   label='Ti chordal')\n",
    "ax1.plot(noise_levels_trs, d['TiComm']['trs'].tolist(),label='Ti projected')\n",
    "ax1.plot(noise_levels_trs, d['BDS']['trs'].tolist(), label='BDS')\n",
    "ax1.legend(frameon=False, loc=2)\n",
    "\n",
    "ax1.set_xlabel('Gaussian mean deviation of induced noise in rotation [m]')\n",
    "ax1.set_ylabel('Error in translation [m]')\n",
    "# plt.savefig('/Users/lars/latex/latex-phd-thesis/Figures/lines-far-trs-noise.pdf')"
   ]
  },
  {
   "cell_type": "markdown",
   "metadata": {},
   "source": [
    "# Far from the origin - increasing both rotation and translation"
   ]
  },
  {
   "cell_type": "code",
   "execution_count": 111,
   "metadata": {
    "collapsed": false
   },
   "outputs": [],
   "source": [
    "n_noise_levels = 10\n",
    "noise_levels_rot = np.linspace(0.0001, 0.1, n_noise_levels)\n",
    "noise_levels_trs = np.linspace(0.0001, 0.01, n_noise_levels)\n",
    "rmss_lines_rot_trs_noise = [compare_rms_lines(*run_lines(10,10,10, \n",
    "                                               rot_noise_std=noise_level_rot, \n",
    "                                               trs_noise_std=noise_level_trs, \n",
    "                                                     noisy=True,\n",
    "                                               onlyrot=True, \n",
    "                                               radius=radius,\n",
    "                                                )) \n",
    "              for noise_level_rot, \n",
    "                  noise_level_trs in zip(noise_levels_rot, noise_levels_trs)]"
   ]
  },
  {
   "cell_type": "markdown",
   "metadata": {},
   "source": [
    "## Rotation and translation plot"
   ]
  },
  {
   "cell_type": "code",
   "execution_count": 112,
   "metadata": {
    "collapsed": false
   },
   "outputs": [
    {
     "data": {
      "text/plain": [
       "<matplotlib.text.Text at 0x1200389b0>"
      ]
     },
     "execution_count": 112,
     "metadata": {},
     "output_type": "execute_result"
    },
    {
     "data": {
      "image/png": "[encoded data removed]",
      "text/plain": [
       "<matplotlib.figure.Figure at 0x11ebc9828>"
      ]
     },
     "metadata": {},
     "output_type": "display_data"
    }
   ],
   "source": [
    "d = pd.concat(rmss_lines_rot_trs_noise)\n",
    "fig, ax = plt.subplots(2)\n",
    "ax0 = ax[0]\n",
    "ax0.plot(noise_levels_rot, d['Ti']['rot'].tolist(), label='Ti chordal')\n",
    "ax0.plot(noise_levels_rot, d['TiComm']['rot'].tolist(), label='Ti commutator')\n",
    "ax0.plot(noise_levels_rot, d['BDS']['rot'].tolist(), label='BDS')\n",
    "ax0.plot(noise_levels_rot, d['VD']['rot'].tolist(), label='VD')\n",
    "ax0.legend(frameon=False, loc=2)\n",
    "ax0.set_ylabel('Error in rotation [rad]')\n",
    "ax0.set_xlabel('Gaussian mean deviation of induced noise in rotation [rad]')\n",
    "\n",
    "ax1 = ax[1]\n",
    "ax1.plot(noise_levels_trs, d['Ti']['trs'].tolist(), marker='*',  label='Ti chordal')\n",
    "ax1.plot(noise_levels_trs, d['TiComm']['trs'].tolist(),label='Ti commutator')\n",
    "ax1.plot(noise_levels_trs, d['BDS']['trs'].tolist(), label='BDS')\n",
    "ax1.legend(frameon=False, loc=2)\n",
    "\n",
    "fig.subplots_adjust(hspace=.25)\n",
    "\n",
    "ax1.set_xlabel('Gaussian mean deviation of induced noise in rotation [m]')\n",
    "ax1.set_ylabel('Error in translation [m]')\n",
    "# plt.savefig('/Users/lars/latex/latex-phd-thesis/Figures/lines-far-trs-rot-noise.pdf')"
   ]
  },
  {
   "cell_type": "markdown",
   "metadata": {},
   "source": [
    "# Translation invariance"
   ]
  },
  {
   "cell_type": "code",
   "execution_count": 699,
   "metadata": {
    "collapsed": false
   },
   "outputs": [
    {
     "name": "stdout",
     "output_type": "stream",
     "text": [
      "0.00768308362566\n",
      "0.0181444833057\n"
     ]
    }
   ],
   "source": [
    "def transform_dataset(dataset, motor):\n",
    "    lines, original_motor = dataset\n",
    "    transformed_lines = [(a.spin(motor), b.spin(motor), bn.spin(motor)) for a,b,bn in lines]\n",
    "    transformed_motor = vsr.CGA(original_motor).spin(vsr.CGA(motor)).mot()\n",
    "    return (transformed_lines, transformed_motor)\n",
    "\n",
    "angle_errors = []\n",
    "distance_errors = []\n",
    "\n",
    "for i in range(1024):\n",
    "    n_motors = 10\n",
    "    d_lims = (0,2)\n",
    "    th_lims = (0,pi/2)\n",
    "    motors = create_motors(n_motors, d_lims=d_lims, th_lims=th_lims)\n",
    "    motors2 = create_motors(n_motors, d_lims=d_lims, th_lims=th_lims)\n",
    "    dataset = create_random_lines(motors[0], 32, \n",
    "                                        rot_noise_std=0.1, \n",
    "                                        trs_noise_std=0.01,\n",
    "                                           radius=2)\n",
    "    noisy=True\n",
    "    _, m1, em1 , _ = estimate_motors_lines_daniilidis(dataset, noisy=noisy)\n",
    "    _, m2, em2 , _ = estimate_motors_lines_daniilidis(transform_dataset(dataset, motors2[0]), noisy=noisy)\n",
    "\n",
    "    em1_t = vsr.CGA(em1).spin(vsr.CGA(motors2[0])).mot()\n",
    "    M_err = em1_t * em2.rev()\n",
    "    angle = 2 * np.arccos(np.abs(M_err[0]))\n",
    "    angle = angle**2\n",
    "    distance = M_err.trs()\n",
    "    distance = np.inner(distance, distance)\n",
    "    \n",
    "    if distance < 1.0:\n",
    "        \n",
    "        angle_errors.append(angle)\n",
    "        distance_errors.append(distance)\n",
    "    \n",
    "rotmean = np.sqrt(np.sum(angle_errors) / len(angle_errors))\n",
    "trsmean = np.sqrt(np.sum(distance_errors) / len(distance_errors))\n",
    "print(rotmean)\n",
    "print(trsmean)"
   ]
  },
  {
   "cell_type": "code",
   "execution_count": 701,
   "metadata": {
    "collapsed": false
   },
   "outputs": [
    {
     "name": "stdout",
     "output_type": "stream",
     "text": [
      "0.00706403943576\n",
      "0.0171022867566\n"
     ]
    }
   ],
   "source": [
    "def transform_dataset(dataset, motor):\n",
    "    lines, original_motor = dataset\n",
    "    transformed_lines = [(a.spin(motor), b.spin(motor), bn.spin(motor)) for a,b,bn in lines]\n",
    "    transformed_motor = vsr.CGA(original_motor).spin(vsr.CGA(motor)).mot()\n",
    "    return (transformed_lines, transformed_motor)\n",
    "\n",
    "angle_errors = []\n",
    "distance_errors = []\n",
    "\n",
    "for i in range(1024):\n",
    "    n_motors = 10\n",
    "    d_lims = (0,2)\n",
    "    th_lims = (0,pi/2)\n",
    "    motors = create_motors(n_motors, d_lims=d_lims, th_lims=th_lims)\n",
    "    motors2 = create_motors(n_motors, d_lims=d_lims, th_lims=th_lims)\n",
    "    dataset = create_random_lines(motors[0], 32, \n",
    "                                        rot_noise_std=0.1, \n",
    "                                        trs_noise_std=0.01,\n",
    "                                           radius=2)\n",
    "    noisy=True\n",
    "    _, m1, em1 , _ = estimate_motors_lines_chordal(dataset, noisy=noisy)\n",
    "    _, m2, em2 , _ = estimate_motors_lines_chordal(transform_dataset(dataset, motors2[0]), noisy=noisy)\n",
    "\n",
    "    em1_t = vsr.CGA(em1).spin(vsr.CGA(motors2[0])).mot()\n",
    "    M_err = em1_t * em2.rev()\n",
    "    angle = 2 * np.arccos(np.abs(M_err[0]))\n",
    "    angle = angle**2\n",
    "    distance = M_err.trs()\n",
    "    distance = np.inner(distance, distance)\n",
    "    \n",
    "    if distance < 1.0:\n",
    "        \n",
    "        angle_errors.append(angle)\n",
    "        distance_errors.append(distance)\n",
    "    \n",
    "rotmean = np.sqrt(np.sum(angle_errors) / len(angle_errors))\n",
    "trsmean = np.sqrt(np.sum(distance_errors) / len(distance_errors))\n",
    "print(rotmean)\n",
    "print(trsmean)"
   ]
  },
  {
   "cell_type": "code",
   "execution_count": 141,
   "metadata": {
    "collapsed": false
   },
   "outputs": [],
   "source": [
    "def transform_dataset(dataset, motor):\n",
    "    lines, original_motor = dataset\n",
    "    transformed_lines = [(a.spin(motor), b.spin(motor), bn.spin(motor)) for a,b,bn in lines]\n",
    "    transformed_motor = vsr.CGA(original_motor).spin(vsr.CGA(motor)).mot()\n",
    "    return (transformed_lines, transformed_motor)\n",
    "\n",
    "n_noise_levels = 10\n",
    "noise_levels_rot = np.linspace(1e-5, 0.1, n_noise_levels)\n",
    "noise_levels_trs = np.linspace(1e-6, 0.01, n_noise_levels)\n",
    "\n",
    "def run_trs_invariance(func):\n",
    "\n",
    "    rotrmsem1t = []\n",
    "    trsrmsem1t = []\n",
    "    rotrmsem1 = []\n",
    "    trsrmsem1 = []\n",
    "    rotrmsem2 = []\n",
    "    trsrmsem2 = []\n",
    "    \n",
    "    def comp_rms(angle_errors, distance_errors):\n",
    "            rot = np.sqrt(np.sum(angle_errors) / len(angle_errors))\n",
    "            if rot is np.NaN:\n",
    "                rot = 0.0\n",
    "            trs = np.sqrt(np.sum(distance_errors) / len(distance_errors))\n",
    "            return rot, trs\n",
    "    \n",
    "    def motor_error(mot1, mot2, angle_errors, distance_errors):\n",
    "        M_err = mot1 * mot2.rev()\n",
    "        angle = 2 * np.arccos(np.abs(M_err[0]))\n",
    "        angle = angle**2\n",
    "        distance = M_err.trs()\n",
    "        distance = np.inner(distance, distance)\n",
    "        if distance < 1.0:\n",
    "            angle_errors.append(angle)\n",
    "            distance_errors.append(distance)\n",
    "\n",
    "\n",
    "    for rot_noise_level, trs_noise_level in zip(noise_levels_rot, noise_levels_trs):\n",
    "        angle_errors_em1t = []\n",
    "        distance_errors_em1t = []\n",
    "        \n",
    "        angle_errors_em1 = []\n",
    "        distance_errors_em1 = []\n",
    "        \n",
    "        angle_errors_em2 = []\n",
    "        distance_errors_em2 = []\n",
    "        \n",
    "        for i in range(100):\n",
    "            n_motors = 1\n",
    "            d_lims = (0,2)\n",
    "            th_lims = (0,pi/2)\n",
    "            motors = create_motors(n_motors, d_lims=d_lims, th_lims=th_lims)\n",
    "#             motor2 = create_motors(1, d_lims=d_lims, th_lims=th_lims)[0]\n",
    "            motor2 = (vsr.Vec(*np.random.uniform(-1,1,3)).unit() * \n",
    "                      np.random.uniform(1,2)).trs() * vsr.Rot(1,0,0,0)\n",
    "            dataset = create_random_lines(motors[0], 32, \n",
    "                                                rot_noise_std=rot_noise_level, \n",
    "                                                trs_noise_std=trs_noise_level,\n",
    "                                                   radius=2)\n",
    "            noisy=True\n",
    "            \n",
    "            _, m1, em1 , _ = func(dataset, noisy=noisy, \n",
    "                                  initial_motor=vsr.Mot(1,0,0,0,0,0,0,0))\n",
    "            _, m2, em2 , _ = func(transform_dataset(dataset, motor2), noisy=noisy, \n",
    "                                  initial_motor=vsr.Mot(1,0,0,0,0,0,0,0))\n",
    "\n",
    "            em1_t = vsr.CGA(em1).spin(vsr.CGA(motor2)).mot()\n",
    "            \n",
    "            motor_error(em1_t, em2, \n",
    "                        angle_errors_em1t, distance_errors_em1t)\n",
    "            motor_error(em1, m1, \n",
    "                        angle_errors_em1, distance_errors_em1)\n",
    "            motor_error(em2, m2, \n",
    "                        angle_errors_em2, distance_errors_em2)\n",
    "            \n",
    "        rot_em1t, trs_em1t = comp_rms(angle_errors_em1t, distance_errors_em1t)\n",
    "        rot_em1, trs_em1 = comp_rms(angle_errors_em1, distance_errors_em1)\n",
    "        rot_em2, trs_em2 = comp_rms(angle_errors_em2, distance_errors_em2)\n",
    "        \n",
    "        rotrmsem1t.append(rot_em1t)\n",
    "        trsrmsem1t.append(trs_em1t)\n",
    "        rotrmsem1.append(rot_em1)\n",
    "        trsrmsem1.append(trs_em1)\n",
    "        rotrmsem2.append(rot_em2)\n",
    "        trsrmsem2.append(trs_em2)\n",
    "        \n",
    "    return rotrmsem1t, trsrmsem1t, rotrmsem1, trsrmsem1, rotrmsem2, trsrmsem2"
   ]
  },
  {
   "cell_type": "code",
   "execution_count": 142,
   "metadata": {
    "collapsed": false
   },
   "outputs": [],
   "source": [
    "chordal_rms = run_trs_invariance(estimate_motors_lines_chordal)\n",
    "bds_rms = run_trs_invariance(estimate_motors_lines_daniilidis)"
   ]
  },
  {
   "cell_type": "code",
   "execution_count": 146,
   "metadata": {
    "collapsed": false
   },
   "outputs": [
    {
     "data": {
      "image/png": "[encoded data removed]",
      "text/plain": [
       "<matplotlib.figure.Figure at 0x1260c9c50>"
      ]
     },
     "metadata": {},
     "output_type": "display_data"
    }
   ],
   "source": [
    "planes_rot_rms = np.load('planes_rot_rms_em1t.npy')\n",
    "planes_trs_rms = np.load('planes_trs_rms_em1t.npy')\n",
    "\n",
    "fig, ax = plt.subplots(2)\n",
    "fig.subplots_adjust(hspace=.25)\n",
    "ax0 = ax[0]\n",
    "ax0.plot(noise_levels_rot, chordal_rms[0], label='Ti chordal line')\n",
    "ax0.plot(noise_levels_rot, bds_rms[0], label='BDS')\n",
    "\n",
    "# ax0.plot(noise_levels_rot, chordal_rms[2] , label='Ti em1')\n",
    "# ax0.plot(noise_levels_rot, bds_rms[2], label='BDS em1')\n",
    "\n",
    "# ax0.plot(noise_levels_rot, chordal_rms[4] , label='Ti em2')\n",
    "# ax0.plot(noise_levels_rot, bds_rms[4], label='BDS em2')\n",
    "\n",
    "ax0.legend(frameon=False, loc=2)\n",
    "ax0.set_ylabel('Difference in rotation [rad]')\n",
    "ax0.set_xlabel('Gaussian mean deviation of induced noise in rotation [rad]')\n",
    "\n",
    "ax1 = ax[1]\n",
    "ax1.plot(noise_levels_trs, chordal_rms[1] , label='Ti chordal line')\n",
    "ax1.plot(noise_levels_trs, bds_rms[1], label='BDS')\n",
    "\n",
    "# ax1.plot(noise_levels_trs, chordal_rms[3] , label='Ti em1')\n",
    "# ax1.plot(noise_levels_trs, bds_rms[3], label='BDS em1')\n",
    "\n",
    "# ax1.plot(noise_levels_trs, chordal_rms[5] , label='Ti em2')\n",
    "# ax1.plot(noise_levels_trs, bds_rms[5], label='BDS em2')\n",
    "\n",
    "\n",
    "ax1.plot(noise_levels_trs, planes_trs_rms, label='Ti chordal plane')\n",
    "\n",
    "ax1.legend(frameon=False, loc=2)\n",
    "ax1.set_xlabel('Gaussian mean deviation of induced noise in rotation [m]')\n",
    "ax1.set_ylabel('Difference in translation [m]')\n",
    "\n",
    "plt.savefig('/Users/lars/latex/latex-phd-thesis/Figures/translation-invariance.pdf')"
   ]
  },
  {
   "cell_type": "code",
   "execution_count": 74,
   "metadata": {
    "collapsed": true
   },
   "outputs": [],
   "source": [
    "def run_lines_translation_invariance(n_lines=10, n_sets=10, n_motors=10, trs_noise_std=0.09, rot_noise_std=0.09,\n",
    "              noisy=False, onlyrot=True, radius=2, d_lims=(0,2), th_lims=(0,pi)):\n",
    "\n",
    "    motors = create_motors(n_motors, d_lims=d_lims, th_lims=th_lims)\n",
    "    \n",
    "    motors2 = create_motors(n_motors, d_lims=d_lims, th_lims=th_lims)\n",
    "    \n",
    "    results = []\n",
    "    results_vd = []\n",
    "    results_daniilidis = []\n",
    "    results_comm = []\n",
    "        \n",
    "    for motor in motors:\n",
    "        datasets = [create_random_lines(motor, n_lines, \n",
    "                                    rot_noise_std=rot_noise_std, \n",
    "                                    trs_noise_std=trs_noise_std,\n",
    "                                       radius=radius) \n",
    "                for n_set in range(n_sets)]\n",
    "        \n",
    "        \n",
    "        for dataset in datasets:\n",
    "            results.append(estimate_motors_lines(dataset, noisy=noisy, onlyrot=onlyrot))\n",
    "            results_vd.append(estimate_motors_lines_vd(dataset, noisy=noisy))\n",
    "            results_daniilidis.append(estimate_motors_lines_daniilidis(dataset, noisy=noisy))\n",
    "            results_comm.append(estimate_motors_lines(dataset, noisy=noisy, onlyrot=False))\n",
    "            \n",
    "\n",
    "    return (results, results_vd, results_daniilidis, results_comm)"
   ]
  },
  {
   "cell_type": "code",
   "execution_count": 1033,
   "metadata": {
    "collapsed": false
   },
   "outputs": [],
   "source": [
    "n_noise_levels = 10\n",
    "noise_levels_rot = np.linspace(0.0001, 0.1, n_noise_levels)\n",
    "noise_levels_trs = np.linspace(0.0001, 0.01, n_noise_levels)\n",
    "rmss_lines_rot_trs_noise = [compare_rms_lines(*run_lines_translation_invariance(10,10,10, \n",
    "                                               rot_noise_std=noise_level_rot, \n",
    "                                               trs_noise_std=noise_level_trs, \n",
    "                                                     noisy=True,\n",
    "                                               onlyrot=True, \n",
    "                                               radius=radius,\n",
    "                                                )) \n",
    "              for noise_level_rot, \n",
    "                  noise_level_trs in zip(noise_levels_rot, noise_levels_trs)]"
   ]
  },
  {
   "cell_type": "code",
   "execution_count": null,
   "metadata": {
    "collapsed": true
   },
   "outputs": [],
   "source": []
  },
  {
   "cell_type": "code",
   "execution_count": null,
   "metadata": {
    "collapsed": true
   },
   "outputs": [],
   "source": []
  },
  {
   "cell_type": "code",
   "execution_count": null,
   "metadata": {
    "collapsed": true
   },
   "outputs": [],
   "source": []
  },
  {
   "cell_type": "code",
   "execution_count": null,
   "metadata": {
    "collapsed": true
   },
   "outputs": [],
   "source": []
  },
  {
   "cell_type": "code",
   "execution_count": null,
   "metadata": {
    "collapsed": true
   },
   "outputs": [],
   "source": []
  },
  {
   "cell_type": "code",
   "execution_count": null,
   "metadata": {
    "collapsed": true
   },
   "outputs": [],
   "source": []
  },
  {
   "cell_type": "code",
   "execution_count": null,
   "metadata": {
    "collapsed": true
   },
   "outputs": [],
   "source": []
  },
  {
   "cell_type": "code",
   "execution_count": 710,
   "metadata": {
    "collapsed": false
   },
   "outputs": [
    {
     "name": "stdout",
     "output_type": "stream",
     "text": [
      "Ceres Solver Report: Iterations: 3, Initial cost: 2.432972e+01, Final cost: 1.039097e+01, Termination: CONVERGENCE\n"
     ]
    }
   ],
   "source": [
    "lines, m, em, s = run_lines(32,1,1, rot_noise_std=0.3, \n",
    "          trs_noise_std=0.03, noisy=True,\n",
    "                onlyrot=True)[0][0]\n",
    "\n",
    "print(s['brief_report'])\n",
    "\n",
    "\n",
    "lines = lines[:3]\n",
    "scene = Scene(children=\n",
    "#               [line_mesh(line, color=Colors.HOTPINK) for line, _,_ in lines] +\\\n",
    "              [line_mesh(line, color=Colors.LIGHTSKYBLUE) for _,line,_ in lines] +\\\n",
    "              [line_mesh(line, color=Colors.GRAY) for _,_,line in lines] +\\\n",
    "              [line_mesh(line.spin(em), color=Colors.RED) for line,_,_ in lines] +\\\n",
    "              [frame_mesh(size=1)] +\\\n",
    "              [AmbientLight(color='#cccccc')])\n",
    "\n",
    "camera = PerspectiveCamera(position=[0, 5, 5], up=[0, 0, 1],\n",
    "                      children=[DirectionalLight(color='white', \n",
    "                                                 position=[3, 5, 1], \n",
    "                                                 intensity=0.5)])\n",
    "\n",
    "\n",
    "renderer = Renderer(camera=camera, \n",
    "                    scene=scene, \n",
    "                    controls=[TrackballControls(controlling=camera)],\n",
    "                    background = 'white',\n",
    "                    width='960',\n",
    "                    height='512')\n",
    "display(renderer)"
   ]
  },
  {
   "cell_type": "code",
   "execution_count": 584,
   "metadata": {
    "collapsed": false
   },
   "outputs": [],
   "source": [
    "rl = run_lines(10,1,1, rot_noise_std=np.deg2rad(3), \n",
    "          trs_noise_std=0.01, noisy=True,\n",
    "                onlyrot=True)"
   ]
  },
  {
   "cell_type": "code",
   "execution_count": 616,
   "metadata": {
    "collapsed": false
   },
   "outputs": [
    {
     "data": {
      "text/plain": [
       "([(Dll: [ 0.3037 0.9527 -0.0113 0.7084 0.633 2.012 ],\n",
       "   Dll: [ -0.1365 0.9582 -0.2515 0.7458 -0.4951 2.102 ],\n",
       "   Dll: [ -0.1219 0.9628 -0.2412 0.671 -0.4432 2.173 ]),\n",
       "  (Dll: [ -0.7309 -0.6243 0.2757 2.169 -2.328 -1.17 ],\n",
       "   Dll: [ -0.2754 -0.731 0.6243 1.113 -1.558 -1.612 ],\n",
       "   Dll: [ -0.2983 -0.7347 0.6093 1.077 -1.533 -1.576 ]),\n",
       "  (Dll: [ 0.4945 -0.8241 0.2763 0.2121 -0.0359 -0.05866 ],\n",
       "   Dll: [ 0.8496 -0.5055 0.1502 0.5702 -0.2379 0.04078 ],\n",
       "   Dll: [ 0.8387 -0.5248 0.1453 0.5398 -0.2373 0.05499 ]),\n",
       "  (Dll: [ -0.02596 -0.9996 0.01023 0.7419 0.002602 0.3926 ],\n",
       "   Dll: [ 0.3917 -0.9089 0.1432 -0.01977 -0.3306 0.7742 ],\n",
       "   Dll: [ 0.3779 -0.9167 0.1296 -0.03669 -0.3226 0.7952 ]),\n",
       "  (Dll: [ -0.3818 0.5124 -0.7692 -2.059 4.12 -1.382 ],\n",
       "   Dll: [ -0.7871 0.127 -0.6036 -1.476 4.416 0.419 ],\n",
       "   Dll: [ -0.7786 0.1026 -0.6191 -1.506 4.32 0.6281 ]),\n",
       "  (Dll: [ 0.1318 0.871 0.4732 2.265 1.929 4.617 ],\n",
       "   Dll: [ -0.09062 0.9594 0.267 1.302 -0.09326 4.823 ],\n",
       "   Dll: [ -0.06791 0.9456 0.3181 1.178 0.03573 5.021 ]),\n",
       "  (Dll: [ 0.5431 -0.6641 -0.5138 1.941 4.459 -3.615 ],\n",
       "   Dll: [ 0.5668 -0.56 -0.6043 3.789 3.859 0.2275 ],\n",
       "   Dll: [ 0.6023 -0.5106 -0.6136 3.709 3.989 0.3962 ]),\n",
       "  (Dll: [ -0.8317 -0.3544 0.4274 2.487 -4.907 -0.8132 ],\n",
       "   Dll: [ -0.4224 -0.4793 0.7693 1.045 -3.888 -2.508 ],\n",
       "   Dll: [ -0.4466 -0.4909 0.7481 1.014 -3.722 -2.393 ]),\n",
       "  (Dll: [ 0.465 0.3078 -0.8301 -0.6768 -6.081 -5.234 ],\n",
       "   Dll: [ -0.002315 0.2061 -0.9785 0.9802 -4.584 -6.237 ],\n",
       "   Dll: [ 0.05922 0.221 -0.9735 0.6917 -4.721 -6.245 ]),\n",
       "  (Dll: [ -0.678 -0.2542 -0.6897 0.7972 0.3663 -0.6737 ],\n",
       "   Dll: [ -0.6983 -0.642 -0.3165 -0.3444 0.2753 0.4092 ],\n",
       "   Dll: [ -0.7114 -0.642 -0.2859 -0.3276 0.3461 0.444 ])],\n",
       " Mot: [ 0.96 0.1 -0.19 -0.19 -0.23 -0.61 -0.36 -0.12 ],\n",
       " Mot: [ 0.96 0.096 -0.18 -0.19 0 0 0 0 ],\n",
       " [])"
      ]
     },
     "execution_count": 616,
     "metadata": {},
     "output_type": "execute_result"
    }
   ],
   "source": [
    "rl[1][0]"
   ]
  },
  {
   "cell_type": "code",
   "execution_count": 709,
   "metadata": {
    "collapsed": false
   },
   "outputs": [
    {
     "name": "stdout",
     "output_type": "stream",
     "text": [
      "Mot: [ 0.96 0.1 -0.19 -0.19 -0.22 -0.62 -0.36 -0.12 ]\n",
      "Mot: [ 0.96 0.096 -0.18 -0.19 0 0 0 0 ]\n",
      "Mot: [ 0.96 0.1 -0.19 -0.19 -0.22 -0.62 -0.36 -0.12 ]\n"
     ]
    }
   ],
   "source": [
    "print(rl[0][0][2])\n",
    "print(rl[1][0][2])\n",
    "print(rl[2][0][2])"
   ]
  },
  {
   "cell_type": "code",
   "execution_count": 566,
   "metadata": {
    "collapsed": false
   },
   "outputs": [
    {
     "ename": "NameError",
     "evalue": "name 'results_lines' is not defined",
     "output_type": "error",
     "traceback": [
      "\u001b[0;31m---------------------------------------------------------------------------\u001b[0m",
      "\u001b[0;31mNameError\u001b[0m                                 Traceback (most recent call last)",
      "\u001b[0;32m<ipython-input-566-ce89afb1f6df>\u001b[0m in \u001b[0;36m<module>\u001b[0;34m()\u001b[0m\n\u001b[1;32m      1\u001b[0m \u001b[0mwrong_results\u001b[0m \u001b[0;34m=\u001b[0m \u001b[0;34m[\u001b[0m\u001b[0;34m]\u001b[0m\u001b[0;34m\u001b[0m\u001b[0m\n\u001b[1;32m      2\u001b[0m \u001b[0mn1s\u001b[0m \u001b[0;34m=\u001b[0m \u001b[0;34m[\u001b[0m\u001b[0;34m]\u001b[0m\u001b[0;34m\u001b[0m\u001b[0m\n\u001b[0;32m----> 3\u001b[0;31m \u001b[0;32mfor\u001b[0m \u001b[0;34m(\u001b[0m\u001b[0m_\u001b[0m\u001b[0;34m,\u001b[0m \u001b[0mm\u001b[0m\u001b[0;34m,\u001b[0m \u001b[0mem\u001b[0m\u001b[0;34m,\u001b[0m \u001b[0m_\u001b[0m\u001b[0;34m)\u001b[0m \u001b[0;32min\u001b[0m \u001b[0mresults_lines\u001b[0m\u001b[0;34m:\u001b[0m\u001b[0;34m\u001b[0m\u001b[0m\n\u001b[0m\u001b[1;32m      4\u001b[0m     \u001b[0mnorm\u001b[0m \u001b[0;34m=\u001b[0m \u001b[0mnp\u001b[0m\u001b[0;34m.\u001b[0m\u001b[0mlinalg\u001b[0m\u001b[0;34m.\u001b[0m\u001b[0mnorm\u001b[0m\u001b[0;34m(\u001b[0m\u001b[0mm\u001b[0m \u001b[0;34m*\u001b[0m \u001b[0mem\u001b[0m\u001b[0;34m.\u001b[0m\u001b[0mrev\u001b[0m\u001b[0;34m(\u001b[0m\u001b[0;34m)\u001b[0m\u001b[0;34m)\u001b[0m\u001b[0;34m\u001b[0m\u001b[0m\n\u001b[1;32m      5\u001b[0m     \u001b[0mn1s\u001b[0m\u001b[0;34m\u001b[0m\u001b[0m\n",
      "\u001b[0;31mNameError\u001b[0m: name 'results_lines' is not defined"
     ]
    }
   ],
   "source": [
    "wrong_results = []\n",
    "n1s = []\n",
    "for (_, m, em, _) in results_lines:\n",
    "    norm = np.linalg.norm(m * em.rev())\n",
    "    n1s\n",
    "    if norm > 1.00001:\n",
    "        wrong_results.append(((m,em, norm), m.rot() * em.rot().rev()))\n",
    "print(len(wrong_results))"
   ]
  },
  {
   "cell_type": "code",
   "execution_count": 123,
   "metadata": {
    "collapsed": false
   },
   "outputs": [
    {
     "ename": "NameError",
     "evalue": "name 'wrong_results' is not defined",
     "output_type": "error",
     "traceback": [
      "\u001b[0;31m---------------------------------------------------------------------------\u001b[0m",
      "\u001b[0;31mNameError\u001b[0m                                 Traceback (most recent call last)",
      "\u001b[0;32m<ipython-input-123-a1ecb9194646>\u001b[0m in \u001b[0;36m<module>\u001b[0;34m()\u001b[0m\n\u001b[0;32m----> 1\u001b[0;31m \u001b[0mwrong_results\u001b[0m\u001b[0;34m\u001b[0m\u001b[0m\n\u001b[0m",
      "\u001b[0;31mNameError\u001b[0m: name 'wrong_results' is not defined"
     ]
    }
   ],
   "source": [
    "wrong_results"
   ]
  },
  {
   "cell_type": "code",
   "execution_count": 33,
   "metadata": {
    "collapsed": false
   },
   "outputs": [],
   "source": [
    "results, _, _ = run_lines(n_lines=100, n_sets=10, n_motors=10)\n",
    "results_noisy, _, _ = run_lines(n_lines=100, n_sets=10, n_motors=10, noisy=True)\n",
    "summaries = [result[3] for result in results_lines]\n",
    "summaries_noisy = [result[3] for result in results_noisy]\n",
    "iteration_numbers = []\n",
    "iteration_numbers_noisy = []\n",
    "for summary in summaries:\n",
    "    iteration_numbers.append(len(pd.DataFrame(summary['iterations'])['cost']))\n",
    "for summary in summaries_noisy:\n",
    "    iteration_numbers_noisy.append(len(pd.DataFrame(summary['iterations'])['cost']))"
   ]
  },
  {
   "cell_type": "code",
   "execution_count": 34,
   "metadata": {
    "collapsed": false
   },
   "outputs": [],
   "source": [
    "median = np.median(iteration_numbers)\n",
    "argmax = np.argmax(iteration_numbers)\n",
    "argmin = np.argmin(iteration_numbers)"
   ]
  },
  {
   "cell_type": "code",
   "execution_count": 36,
   "metadata": {
    "collapsed": false
   },
   "outputs": [
    {
     "data": {
      "text/plain": [
       "48"
      ]
     },
     "execution_count": 36,
     "metadata": {},
     "output_type": "execute_result"
    }
   ],
   "source": [
    "np.max(iteration_numbers)"
   ]
  },
  {
   "cell_type": "code",
   "execution_count": 1048,
   "metadata": {
    "collapsed": false
   },
   "outputs": [
    {
     "ename": "IndexError",
     "evalue": "tuple index out of range",
     "output_type": "error",
     "traceback": [
      "\u001b[0;31m---------------------------------------------------------------------------\u001b[0m",
      "\u001b[0;31mIndexError\u001b[0m                                Traceback (most recent call last)",
      "\u001b[0;32m<ipython-input-1048-0279cbaf10f4>\u001b[0m in \u001b[0;36m<module>\u001b[0;34m()\u001b[0m\n\u001b[0;32m----> 1\u001b[0;31m \u001b[0mnp\u001b[0m\u001b[0;34m.\u001b[0m\u001b[0mwhere\u001b[0m\u001b[0;34m(\u001b[0m\u001b[0miteration_numbers\u001b[0m \u001b[0;34m<=\u001b[0m \u001b[0mnp\u001b[0m\u001b[0;34m.\u001b[0m\u001b[0mfloat64\u001b[0m\u001b[0;34m(\u001b[0m\u001b[0;36m50\u001b[0m\u001b[0;34m)\u001b[0m\u001b[0;34m)\u001b[0m\u001b[0;34m[\u001b[0m\u001b[0;36m1\u001b[0m\u001b[0;34m]\u001b[0m\u001b[0;34m\u001b[0m\u001b[0m\n\u001b[0m",
      "\u001b[0;31mIndexError\u001b[0m: tuple index out of range"
     ]
    }
   ],
   "source": [
    "np.where(iteration_numbers <= np.float64(50))[1]"
   ]
  },
  {
   "cell_type": "code",
   "execution_count": 1045,
   "metadata": {
    "collapsed": false
   },
   "outputs": [
    {
     "data": {
      "text/plain": [
       "9999"
      ]
     },
     "execution_count": 1045,
     "metadata": {},
     "output_type": "execute_result"
    }
   ],
   "source": [
    "np.max(np.where([iteration_numbers < np.float64(50)])[1])"
   ]
  },
  {
   "cell_type": "code",
   "execution_count": 1021,
   "metadata": {
    "collapsed": false
   },
   "outputs": [],
   "source": [
    "median_noisy = np.median(iteration_numbers_noisy)\n",
    "argmax_noisy = np.argmax(iteration_numbers_noisy)\n",
    "argmin_noisy = np.argmin(iteration_numbers_noisy)"
   ]
  },
  {
   "cell_type": "code",
   "execution_count": 127,
   "metadata": {
    "collapsed": false
   },
   "outputs": [],
   "source": [
    "# fig, ax = plt.subplots(1)\n",
    "# ax.semilogy(pd.DataFrame(summaries[argmax]['iterations'])['cost'], label='max')\n",
    "# ax.semilogy(pd.DataFrame(summaries[argmin]['iterations'])['cost'], label='min')\n",
    "# legend = ax.legend(frameon=False)\n",
    "# # ax.xaxis.set_major_locator(MaxNLocator(integer=True))\n",
    "# plt.xlabel(r'Iteration $k$')\n",
    "# plt.ylabel(r'Cost')\n",
    "# plt.savefig('/Users/lars/latex/latex-phd-thesis/Figures/lines-cost-nonoise.pdf')"
   ]
  },
  {
   "cell_type": "code",
   "execution_count": 959,
   "metadata": {
    "collapsed": true
   },
   "outputs": [],
   "source": [
    "summaries_lines = [result[3] for result in results_lines]"
   ]
  },
  {
   "cell_type": "code",
   "execution_count": 124,
   "metadata": {
    "collapsed": false
   },
   "outputs": [],
   "source": [
    "# k = 19\n",
    "# print(summaries_lines[k]['full_report'])\n",
    "# semilogy(pd.DataFrame(summaries_lines[argmax]['iterations'])['cost'])"
   ]
  },
  {
   "cell_type": "code",
   "execution_count": null,
   "metadata": {
    "collapsed": false,
    "scrolled": true
   },
   "outputs": [],
   "source": []
  },
  {
   "cell_type": "markdown",
   "metadata": {},
   "source": [
    "# Heterogeneous Sets"
   ]
  },
  {
   "cell_type": "code",
   "execution_count": null,
   "metadata": {
    "collapsed": true
   },
   "outputs": [],
   "source": [
    "def estimate_motors_heterogenepus(dataset, \n",
    "                                  initial_motor = vsr.Mot(1.0, 0.0, 0.0, 0.0, 0.0, 0.0, 0.0, 0.0), \n",
    "                                  noisy=False):\n",
    "    planes, motor = dataset\n",
    "    mes = MotorEstimationSolver(initial_motor)\n",
    "    if noisy:\n",
    "        for (a, _, bn) in planes:\n",
    "            mes.add_dual_plane_difference_residual_block(a,bn)\n",
    "#             mes.add_dual_plane_angle_error_residual_block(a,bn)\n",
    "    else:\n",
    "        for (a, b, _) in planes:\n",
    "#             mes.add_dual_plane_angle_error_residual_block(a,b)\n",
    "            mes.add_dual_plane_difference_residual_block(a,b)\n",
    "    mes.set_parameterization('BIVECTOR_GENERATOR')\n",
    "    mes.linear_solver_type = 'DENSE_QR'\n",
    "    (estimated_motor, summary, _) = mes.solve()\n",
    "    return (planes, motor, estimated_motor, summary)"
   ]
  },
  {
   "cell_type": "code",
   "execution_count": 147,
   "metadata": {
    "collapsed": true
   },
   "outputs": [],
   "source": [
    "def run_heterogeneous(n_points=10, n_lines=10, n_planes=10, n_sets=10, n_motors=10, noise_std=0.09, points_std=0.08, noisy=False):\n",
    "    motors = create_motors(n_motors, d_lims=(-1,1), th_lims=(-pi,pi))\n",
    "    results = []\n",
    "    results_vd = []\n",
    "    for n_set in range(n_sets):\n",
    "        point_datasets = [create_random_planes(motor, n_points, noise_std=noise_std, points_std=points_std) \n",
    "                    for motor in motors]\n",
    "        line_datasets = [create_random_lines(motor, n_lines, noise_std=noise_std, points_std=points_std) \n",
    "                    for motor in motors]\n",
    "        plane_datasets = [create_random_planes(motor, n_planes, noise_std=noise_std, points_std=points_std) \n",
    "                    for motor in motors]\n",
    "        \n",
    "        for dataset in datasets:\n",
    "            results.append(estimate_motors_planes(dataset, noisy=noisy))\n",
    "    return (results, results_vd, results_daniilidis)"
   ]
  },
  {
   "cell_type": "code",
   "execution_count": 147,
   "metadata": {
    "collapsed": false
   },
   "outputs": [
    {
     "data": {
      "text/plain": [
       "0.57295779513082323"
      ]
     },
     "execution_count": 147,
     "metadata": {},
     "output_type": "execute_result"
    }
   ],
   "source": [
    "np.rad2deg(0.01)"
   ]
  },
  {
   "cell_type": "code",
   "execution_count": null,
   "metadata": {
    "collapsed": true
   },
   "outputs": [],
   "source": []
  }
 ],
 "metadata": {
  "anaconda-cloud": {},
  "kernelspec": {
   "display_name": "Python [default]",
   "language": "python",
   "name": "python3"
  },
  "language_info": {
   "codemirror_mode": {
    "name": "ipython",
    "version": 3
   },
   "file_extension": ".py",
   "mimetype": "text/x-python",
   "name": "python",
   "nbconvert_exporter": "python",
   "pygments_lexer": "ipython3",
   "version": "3.5.2"
  }
 },
 "nbformat": 4,
 "nbformat_minor": 2
}
