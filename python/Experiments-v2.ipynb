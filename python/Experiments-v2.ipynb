{
 "cells": [
  {
   "cell_type": "code",
   "execution_count": 575,
   "metadata": {
    "collapsed": false,
    "deletable": true,
    "editable": true
   },
   "outputs": [
    {
     "name": "stdout",
     "output_type": "stream",
     "text": [
      "Populating the interactive namespace from numpy and matplotlib\n"
     ]
    },
    {
     "name": "stderr",
     "output_type": "stream",
     "text": [
      "/Users/lars/anaconda3/lib/python3.5/site-packages/IPython/core/magics/pylab.py:161: UserWarning: pylab import has clobbered these variables: ['Inf']\n",
      "`%matplotlib` prevents importing * from pylab and numpy\n",
      "  \"\\n`%matplotlib` prevents importing * from pylab and numpy\"\n"
     ]
    }
   ],
   "source": [
    "from __future__ import print_function\n",
    "import sys\n",
    "sys.path.append('../build/')\n",
    "%pylab inline\n",
    "np.set_printoptions(precision=4, suppress=True)\n",
    "import versor as vsr\n",
    "import pandas as pd\n",
    "import seaborn as sns\n",
    "sns.set_style('whitegrid')\n",
    "sns.set_context('paper')\n",
    "from versor.drawing import *\n",
    "from motor_estimation import MotorEstimationSolver\n",
    "from game import VDMotorEstimationSolver\n",
    "from icp import best_fit_transform\n",
    "import pickle"
   ]
  },
  {
   "cell_type": "markdown",
   "metadata": {
    "deletable": true,
    "editable": true
   },
   "source": [
    "# Generate motors"
   ]
  },
  {
   "cell_type": "code",
   "execution_count": 576,
   "metadata": {
    "collapsed": false,
    "deletable": true,
    "editable": true
   },
   "outputs": [],
   "source": [
    "def create_motors(n_motors=10, d_lims=(0,10), th_lims=(-pi,pi)):\n",
    "    motors = [((vsr.Vec(*np.random.random(3)).unit() * np.random.uniform(*d_lims)).trs() * \n",
    "               vsr.Rot(vsr.Biv(*np.random.uniform(-1,1,3)).unit() * np.random.uniform(*th_lims) * -0.5)) \n",
    "              for i in range(n_motors)]\n",
    "    return motors"
   ]
  },
  {
   "cell_type": "code",
   "execution_count": 577,
   "metadata": {
    "collapsed": false
   },
   "outputs": [],
   "source": [
    "def create_points(motor, gaussian=False, radius=10, n_points=10, points_std=0.8, noise_std=0.09):\n",
    "    points = []\n",
    "    for i in range(n_points):\n",
    "        if gaussian:\n",
    "            a = vsr.Vec(*np.random.normal(0.0, points_std,3)).null()\n",
    "        else:\n",
    "            a = (vsr.Vec(*np.random.uniform(-1,1,3)).unit() * np.random.uniform(0,radius)).null()\n",
    "        b = a.spin(motor)\n",
    "        t = vsr.Vec(*np.random.random(3)).unit() * np.random.normal(0.0,noise_std,1)\n",
    "        noise_motor = t.trs() * vsr.Rot(1,0,0,0)\n",
    "        bn = a.spin(noise_motor).spin(motor)\n",
    "#         bn = vsr.Vec(*(np.array(a)[:3] + np.random.normal(0,noise_std,3))).null().spin(motor)\n",
    "        points.append((a,b,bn))\n",
    "\n",
    "    return (points, motor)"
   ]
  },
  {
   "cell_type": "code",
   "execution_count": 774,
   "metadata": {
    "collapsed": false
   },
   "outputs": [],
   "source": [
    "def estimate_motors_lars(dataset, noisy=False):\n",
    "    points, motor = dataset\n",
    "    \n",
    "    def solve(L):\n",
    "        Lrr = L[:4, :4]\n",
    "        Lrq = L[:4, 4:]\n",
    "        Lqr = L[4:, :4]\n",
    "        Lqq = L[4:, 4:]\n",
    "        Lp = Lrr - np.dot(Lrq, np.dot(np.linalg.pinv(Lqq), Lqr))\n",
    "        w, v = np.linalg.eig(Lp)\n",
    "        r = v[:, np.argmin(w)]\n",
    "        q = np.dot(-np.dot(np.linalg.pinv(Lqq), Lqr), r)\n",
    "        return vsr.Mot(*np.array([r, q]).ravel())\n",
    "\n",
    "    Q = np.zeros((8,8))\n",
    "    inf = vsr.CGA(*[0]*32); inf[5] = 1.0\n",
    "        \n",
    "    points_a = []\n",
    "    points_b = []\n",
    "    points_bn = []\n",
    "    for (a,b,bn) in points:\n",
    "        points_a.append(vsr.CGA(a) ^ inf)\n",
    "        points_b.append(vsr.CGA(b) ^ inf)\n",
    "        points_bn.append(vsr.CGA(bn) ^ inf)\n",
    "        \n",
    "#         points_a.append(vsr.CGA(a))\n",
    "#         points_b.append(vsr.CGA(b))\n",
    "#         points_bn.append(vsr.CGA(bn))\n",
    "        \n",
    "    if noisy:\n",
    "        for b,a in zip(points_a, points_bn):\n",
    "            D = np.zeros((32,8))\n",
    "            for i in range(8):\n",
    "                ei = vsr.Mot(0,0,0,0,0,0,0,0)\n",
    "                ei[i] = 1.0\n",
    "                ei = vsr.CGA(ei)\n",
    "                D[:,i] = np.array(a * ei - ei * b)\n",
    "            Q += np.dot(D.T,D)\n",
    "    else:\n",
    "        for b,a in zip(points_a, points_b):\n",
    "            D = np.zeros((32,8))\n",
    "            for i in range(8):\n",
    "                ei = vsr.Mot(0,0,0,0,0,0,0,0)\n",
    "                ei[i] = 1.0\n",
    "                ei = vsr.CGA(ei)\n",
    "                D[:,i] = np.array(a * ei - ei * b)\n",
    "            Q += np.dot(D.T,D)\n",
    "    converged = True\n",
    "    estimated_motor = solve(Q)\n",
    "    \n",
    "    if np.sign(estimated_motor[0]) != np.sign(motor[0]):\n",
    "        estimated_motor = estimated_motor * -1.0\n",
    "        \n",
    "    return (converged, (points, motor, estimated_motor, _))"
   ]
  },
  {
   "cell_type": "markdown",
   "metadata": {},
   "source": [
    "# Translation invariance"
   ]
  },
  {
   "cell_type": "code",
   "execution_count": 793,
   "metadata": {
    "collapsed": false
   },
   "outputs": [
    {
     "data": {
      "text/plain": [
       "1667.8167168326984"
      ]
     },
     "execution_count": 793,
     "metadata": {},
     "output_type": "execute_result"
    }
   ],
   "source": [
    "ps, motor = create_points(create_motors(1)[0])\n",
    "m2 = vsr.Vec(1,2,3).trs() * vsr.Rot(1,0,0,0)\n",
    "ds = [np.inner(np.array(a) - np.array(b),np.array(a) - np.array(b)) for a,b,bn in ps]\n",
    "np.sum(ds)"
   ]
  },
  {
   "cell_type": "code",
   "execution_count": 794,
   "metadata": {
    "collapsed": false
   },
   "outputs": [
    {
     "data": {
      "text/plain": [
       "995.31610707539778"
      ]
     },
     "execution_count": 794,
     "metadata": {},
     "output_type": "execute_result"
    }
   ],
   "source": [
    "ds = [np.inner(np.array(a.spin(m2)) - np.array(b.spin(m2)),\n",
    "               np.array(a.spin(m2)) - np.array(b.spin(m2))) for a,b,bn in ps]\n",
    "np.sum(ds)"
   ]
  },
  {
   "cell_type": "code",
   "execution_count": 580,
   "metadata": {
    "collapsed": false
   },
   "outputs": [],
   "source": [
    "def estimate_motors(dataset, \n",
    "                    noisy=False):\n",
    "    \n",
    "    points, motor = dataset\n",
    "#     if noisy:\n",
    "#         initial_motor = motor\n",
    "#     else:\n",
    "#         initial_motor = vsr.Mot(1.0, 0.0, 0.0, 0.0, 0.0, 0.0, 0.0, 0.0)\n",
    "        \n",
    "    _, d = estimate_motors_lars(dataset, noisy)\n",
    "    _, _, initial_motor, _ = d\n",
    "    \n",
    "    mes = MotorEstimationSolver(initial_motor)\n",
    "    if noisy:\n",
    "        for (a, _, bn) in points:\n",
    "            mes.add_point_correspondences_residual_block(a,bn)\n",
    "    else:\n",
    "        for (a, b, _) in points:\n",
    "            mes.add_point_correspondences_residual_block(a,b)\n",
    "#     mes.set_parameterization('BIVECTOR_GENERATOR')\n",
    "    mes.set_parameterization('POLAR_DECOMPOSITION_TANGENT')\n",
    "    mes.linear_solver_type = 'DENSE_QR'\n",
    "    mes.max_num_iterations=20\n",
    "    (estimated_motor, summary, _) = mes.solve()\n",
    "    if len(pd.DataFrame(summary['iterations'])['cost']) > 20:\n",
    "        converged = False\n",
    "    else:\n",
    "        converged = True\n",
    "    return (converged, (points, motor, estimated_motor, summary))"
   ]
  },
  {
   "cell_type": "code",
   "execution_count": 581,
   "metadata": {
    "collapsed": false
   },
   "outputs": [],
   "source": [
    "def estimate_motors_vd(dataset, \n",
    "                       initial_motor = vsr.Mot(1.0, 0.0, 0.0, 0.0, 0.0, 0.0, 0.0, 0.0), \n",
    "                       noisy=False):\n",
    "    vd = VDMotorEstimationSolver()\n",
    "    points, motor = dataset\n",
    "    points_a = []\n",
    "    points_b = []\n",
    "    points_bn = []\n",
    "    for (a,b,bn) in points:\n",
    "        points_a.append(a)\n",
    "        points_b.append(b)\n",
    "        points_bn.append(bn)\n",
    "    if noisy:\n",
    "        vd.add_point_observations(points_a, points_bn)\n",
    "    else:\n",
    "        vd.add_point_observations(points_a, points_b)\n",
    "    estimated_motor = vd.solve()\n",
    "    converged = True\n",
    "    return (converged, (points, motor, estimated_motor, []))"
   ]
  },
  {
   "cell_type": "code",
   "execution_count": 582,
   "metadata": {
    "collapsed": false
   },
   "outputs": [],
   "source": [
    "def estimate_motors_svd(dataset, \n",
    "                        initial_motor = vsr.Mot(1.0, 0.0, 0.0, 0.0, 0.0, 0.0, 0.0, 0.0), \n",
    "                        noisy=False):\n",
    "    def log(R):\n",
    "        # Rotation matrix logarithm\n",
    "        theta = np.arccos((R[0,0] + R[1,1] + R[2,2] - 1.0)/2.0)\n",
    "        return np.array([R[2,1] - R[1,2], R[0,2] - R[2,0], R[1,0] - R[0,1]]) * theta / (2*np.sin(theta))\n",
    "    points, motor = dataset\n",
    "    points_a_np = []\n",
    "    points_b_np = []\n",
    "    points_bn_np = []\n",
    "    for (a,b,bn) in points:\n",
    "        points_a_np.append(np.array(a.vec()))\n",
    "        points_b_np.append(np.array(b.vec()))\n",
    "        points_bn_np.append(np.array(bn.vec()))\n",
    "    points_a_np = np.array(points_a_np)\n",
    "    points_b_np = np.array(points_b_np)\n",
    "    points_bn_np = np.array(points_bn_np)\n",
    "    if noisy:\n",
    "        T, R, t = best_fit_transform(points_a_np, points_bn_np)\n",
    "        estimated_motor = vsr.Vec(*t).trs() * vsr.Rot(vsr.Vec(*(log(R) * 0.5)).unduale())\n",
    "    else:\n",
    "        T, R, t = best_fit_transform(points_a_np, points_b_np)\n",
    "        estimated_motor = vsr.Vec(*t).trs() * vsr.Rot(vsr.Vec(*(log(R) * 0.5)).unduale())\n",
    "    converged = True\n",
    "    return (converged, (points, motor, estimated_motor, []))  "
   ]
  },
  {
   "cell_type": "code",
   "execution_count": 583,
   "metadata": {
    "collapsed": false
   },
   "outputs": [],
   "source": [
    "motors = create_motors(1)\n",
    "datasets = [create_points(motor, n_points=3, radius=1, gaussian=False, noise_std=0.18) for motor in motors]\n",
    "converged, data = estimate_motors(datasets[0], noisy=True)\n",
    "points, motor, estimated_motor, summary = data\n",
    "points_a, points_b, points_b_noisy = points\n",
    "point_radius = 0.04\n",
    "scene = Scene(children=\n",
    "              [point_mesh(point, radius=point_radius,color=Colors.HOTPINK) for point, _,_ in points] +\\\n",
    "              [point_mesh(point, radius=point_radius,color=Colors.LIGHTSKYBLUE) for _,point,_ in points] +\\\n",
    "              [point_mesh(point, radius=point_radius,color=Colors.GRAY) for _,_,point in points] +\\\n",
    "              [point_mesh(point.spin(estimated_motor), radius=point_radius,color=Colors.RED) for point,_,_ in points] +\\\n",
    "              [frame_mesh(size=0.5)] +\\\n",
    "              [AmbientLight(color='#cccccc')])\n",
    "\n",
    "camera = PerspectiveCamera(position=[0, 5, 5], up=[0, 0, 1],\n",
    "                      children=[DirectionalLight(color='white', \n",
    "                                                 position=[3, 5, 1], \n",
    "                                                 intensity=0.5)])\n",
    "\n",
    "\n",
    "renderer = Renderer(camera=camera, \n",
    "                    scene=scene, \n",
    "                    controls=[TrackballControls(controlling=camera)],\n",
    "                    background = 'white',\n",
    "                    width='960',\n",
    "                    height='512')\n",
    "# display(renderer)"
   ]
  },
  {
   "cell_type": "markdown",
   "metadata": {},
   "source": [
    "# Estimate motors using all methods"
   ]
  },
  {
   "cell_type": "code",
   "execution_count": 603,
   "metadata": {
    "collapsed": true
   },
   "outputs": [],
   "source": [
    "def run(n_points, n_sets=10, n_motors=10, noise_std=0.09, points_std=0.08, noisy=False):\n",
    "    motors = create_motors(n_motors)\n",
    "    setofsets = [[create_points(motor, noise_std=noise_std) for i in range(n_sets)] for motor in motors]\n",
    "    results = []\n",
    "    results_vd = []\n",
    "    results_svd = []\n",
    "    \n",
    "    for set_ in setofsets:\n",
    "        for el in set_:\n",
    "            converged, _ = estimate_motors(el, noisy=noisy)\n",
    "            if converged:\n",
    "                results.append(estimate_motors_lars(el, noisy=noisy)[1])\n",
    "                results_vd.append(estimate_motors_vd(el, noisy=noisy)[1])\n",
    "                results_svd.append(estimate_motors_svd(el, noisy=noisy)[1])\n",
    "    return (results, results_vd, results_svd)  "
   ]
  },
  {
   "cell_type": "code",
   "execution_count": 604,
   "metadata": {
    "collapsed": false
   },
   "outputs": [],
   "source": [
    "def rms(results):\n",
    "    rms_dists_true = []\n",
    "    rms_dists_data = []\n",
    "    for result in results:\n",
    "        (ps, m, em, s) = result\n",
    "        dstrue = [b.vec() - a.spin(em).vec() for a,b,bn in ps]\n",
    "#         dstrue = [b.vec() - bn.vec() for a,b,bn in ps]\n",
    "        dsdata = [bn.vec() - a.spin(em).vec() for a,b,bn in ps]\n",
    "        n = len(dstrue)\n",
    "        rms_dists_true.append(np.sqrt(np.sum([np.inner(d,d) for d in dstrue]) / n)) \n",
    "        rms_dists_data.append(np.sqrt(np.sum([np.inner(d,d) for d in dsdata]) / n)) \n",
    "\n",
    "    true = np.mean(rms_dists_true), np.std(rms_dists_true)\n",
    "    data = np.mean(rms_dists_data), np.std(rms_dists_data)\n",
    "    return (true, data)"
   ]
  },
  {
   "cell_type": "code",
   "execution_count": 605,
   "metadata": {
    "collapsed": false
   },
   "outputs": [],
   "source": [
    "def rms_motor(results):\n",
    "    rms_rot = []\n",
    "    rms_mot = []\n",
    "    rms_trs = []\n",
    "    for result in results:\n",
    "        (_, m, em, _) = result\n",
    "        \n",
    "        rot = np.min([np.linalg.norm(np.array(m.rot()) - np.array(em.rot())),\n",
    "                      np.linalg.norm(np.array(m.rot()) + np.array(em.rot()))])\n",
    "        \n",
    "#         rot = (m.rot() * em.rot()).log().norm()\n",
    "        \n",
    "        trs = (m.trs() - em.trs()).norm()\n",
    "        \n",
    "        rl = m.rot()\n",
    "        erl = em.rot()\n",
    "        rerr = np.array((rl * erl.rev()).log())\n",
    "        t = m.trs()\n",
    "        et = em.trs()\n",
    "        terr = np.array(t - et)\n",
    "        \n",
    "#         mot = np.linalg.norm(m * em.rev()) - 1.0\n",
    "        \n",
    "        rms_mot.append(np.inner(rerr,rerr) + np.inner(terr,terr))\n",
    "        rms_rot.append(rot)\n",
    "        rms_trs.append(trs)\n",
    "\n",
    "    motmean = np.mean(rms_mot)\n",
    "    rotmean = np.mean(rms_rot)\n",
    "    trsmean = np.mean(rms_trs)\n",
    "    return (motmean, rotmean, trsmean)"
   ]
  },
  {
   "cell_type": "code",
   "execution_count": 606,
   "metadata": {
    "collapsed": false
   },
   "outputs": [],
   "source": [
    "def compare_rms(results, results_vd, results_svd):\n",
    "    RMS = {'Ti': {}, \"VD\": {}, 'AHB':{}}\n",
    "    our_true, our_data = rms(results)\n",
    "    Ti = RMS['Ti']\n",
    "    Ti['$\\mu_t$'], Ti['$\\sigma_t$'] = our_true\n",
    "    Ti['$\\mu_d$'], Ti['$\\sigma_d$'] = our_data\n",
    "    vd_true, vd_data = rms(results_vd)\n",
    "    VD = RMS['VD']\n",
    "    VD['$\\mu_t$'], VD['$\\sigma_t$'] = vd_true\n",
    "    VD['$\\mu_d$'], VD['$\\sigma_d$'] = vd_data\n",
    "    ahb_true, ahb_data = rms(results_svd)\n",
    "    AHB = RMS['AHB']\n",
    "    AHB['$\\mu_t$'], AHB['$\\sigma_t$'] = ahb_true\n",
    "    AHB['$\\mu_d$'], AHB['$\\sigma_d$'] = ahb_data\n",
    "\n",
    "    return pd.DataFrame(RMS)"
   ]
  },
  {
   "cell_type": "code",
   "execution_count": 754,
   "metadata": {
    "collapsed": false
   },
   "outputs": [],
   "source": [
    "def compare_rms_motor_points(results, results_vd, results_ahb):\n",
    "    RMS = {'Ti': {}, \"VD\": {}, 'AHB':{}}\n",
    "    our_mot, our_rot, our_trs = rms_motor(results)\n",
    "    Ti = RMS['Ti']\n",
    "    Ti['mot'] = our_mot\n",
    "    Ti['rot'] = our_rot\n",
    "    Ti['trs'] = our_trs\n",
    "    vd_mot, vd_rot, vd_trs = rms_motor(results_vd)\n",
    "    VD = RMS['VD']\n",
    "    VD['mot'] = vd_mot\n",
    "    VD['rot'] = vd_rot\n",
    "    VD['trs'] = vd_trs\n",
    "    ahb_mot, ahb_rot, ahb_trs = rms_motor(results_ahb)\n",
    "    AHB = RMS['AHB']\n",
    "    AHB['mot'] = ahb_mot\n",
    "    AHB['rot'] = ahb_rot\n",
    "    AHB['trs'] = ahb_trs\n",
    "    return pd.DataFrame(RMS)"
   ]
  },
  {
   "cell_type": "code",
   "execution_count": 770,
   "metadata": {
    "collapsed": false
   },
   "outputs": [],
   "source": [
    "noise_levels = np.linspace(0.1,pi,10)\n",
    "rmss = [compare_rms_motor_points(*run(10,12,10,noise_std=noise_level,noisy=True)) \n",
    "        for noise_level in noise_levels]"
   ]
  },
  {
   "cell_type": "code",
   "execution_count": 771,
   "metadata": {
    "collapsed": false
   },
   "outputs": [
    {
     "data": {
      "text/html": [
       "<div>\n",
       "<table border=\"1\" class=\"dataframe\">\n",
       "  <thead>\n",
       "    <tr style=\"text-align: right;\">\n",
       "      <th></th>\n",
       "      <th>mot</th>\n",
       "      <th>rot</th>\n",
       "      <th>trs</th>\n",
       "      <th>mot</th>\n",
       "      <th>rot</th>\n",
       "      <th>trs</th>\n",
       "      <th>mot</th>\n",
       "      <th>rot</th>\n",
       "      <th>trs</th>\n",
       "      <th>mot</th>\n",
       "      <th>...</th>\n",
       "      <th>trs</th>\n",
       "      <th>mot</th>\n",
       "      <th>rot</th>\n",
       "      <th>trs</th>\n",
       "      <th>mot</th>\n",
       "      <th>rot</th>\n",
       "      <th>trs</th>\n",
       "      <th>mot</th>\n",
       "      <th>rot</th>\n",
       "      <th>trs</th>\n",
       "    </tr>\n",
       "  </thead>\n",
       "  <tbody>\n",
       "    <tr>\n",
       "      <th>AHB</th>\n",
       "      <td>0.001347</td>\n",
       "      <td>0.003548</td>\n",
       "      <td>0.031589</td>\n",
       "      <td>0.024748</td>\n",
       "      <td>0.014908</td>\n",
       "      <td>0.133582</td>\n",
       "      <td>0.464284</td>\n",
       "      <td>0.029303</td>\n",
       "      <td>0.216942</td>\n",
       "      <td>0.671323</td>\n",
       "      <td>...</td>\n",
       "      <td>0.612625</td>\n",
       "      <td>0.737935</td>\n",
       "      <td>0.090566</td>\n",
       "      <td>0.745994</td>\n",
       "      <td>0.915388</td>\n",
       "      <td>0.089507</td>\n",
       "      <td>0.837314</td>\n",
       "      <td>1.697302</td>\n",
       "      <td>0.103912</td>\n",
       "      <td>0.928163</td>\n",
       "    </tr>\n",
       "    <tr>\n",
       "      <th>Ti</th>\n",
       "      <td>0.001347</td>\n",
       "      <td>0.003548</td>\n",
       "      <td>0.031589</td>\n",
       "      <td>0.024748</td>\n",
       "      <td>0.014908</td>\n",
       "      <td>0.133582</td>\n",
       "      <td>0.464284</td>\n",
       "      <td>0.029303</td>\n",
       "      <td>0.216942</td>\n",
       "      <td>0.671323</td>\n",
       "      <td>...</td>\n",
       "      <td>0.612625</td>\n",
       "      <td>0.737935</td>\n",
       "      <td>0.090566</td>\n",
       "      <td>0.745994</td>\n",
       "      <td>0.915388</td>\n",
       "      <td>0.089507</td>\n",
       "      <td>0.837314</td>\n",
       "      <td>1.697302</td>\n",
       "      <td>0.103912</td>\n",
       "      <td>0.928163</td>\n",
       "    </tr>\n",
       "    <tr>\n",
       "      <th>VD</th>\n",
       "      <td>3.530569</td>\n",
       "      <td>0.003548</td>\n",
       "      <td>0.031589</td>\n",
       "      <td>2.796702</td>\n",
       "      <td>0.014908</td>\n",
       "      <td>0.133582</td>\n",
       "      <td>2.882957</td>\n",
       "      <td>0.029303</td>\n",
       "      <td>0.216942</td>\n",
       "      <td>2.425018</td>\n",
       "      <td>...</td>\n",
       "      <td>0.612625</td>\n",
       "      <td>3.685133</td>\n",
       "      <td>0.090566</td>\n",
       "      <td>0.745994</td>\n",
       "      <td>3.470940</td>\n",
       "      <td>0.089507</td>\n",
       "      <td>0.837314</td>\n",
       "      <td>4.013898</td>\n",
       "      <td>0.103912</td>\n",
       "      <td>0.928163</td>\n",
       "    </tr>\n",
       "  </tbody>\n",
       "</table>\n",
       "<p>3 rows × 30 columns</p>\n",
       "</div>"
      ],
      "text/plain": [
       "          mot       rot       trs       mot       rot       trs       mot  \\\n",
       "AHB  0.001347  0.003548  0.031589  0.024748  0.014908  0.133582  0.464284   \n",
       "Ti   0.001347  0.003548  0.031589  0.024748  0.014908  0.133582  0.464284   \n",
       "VD   3.530569  0.003548  0.031589  2.796702  0.014908  0.133582  2.882957   \n",
       "\n",
       "          rot       trs       mot    ...          trs       mot       rot  \\\n",
       "AHB  0.029303  0.216942  0.671323    ...     0.612625  0.737935  0.090566   \n",
       "Ti   0.029303  0.216942  0.671323    ...     0.612625  0.737935  0.090566   \n",
       "VD   0.029303  0.216942  2.425018    ...     0.612625  3.685133  0.090566   \n",
       "\n",
       "          trs       mot       rot       trs       mot       rot       trs  \n",
       "AHB  0.745994  0.915388  0.089507  0.837314  1.697302  0.103912  0.928163  \n",
       "Ti   0.745994  0.915388  0.089507  0.837314  1.697302  0.103912  0.928163  \n",
       "VD   0.745994  3.470940  0.089507  0.837314  4.013898  0.103912  0.928163  \n",
       "\n",
       "[3 rows x 30 columns]"
      ]
     },
     "execution_count": 771,
     "metadata": {},
     "output_type": "execute_result"
    }
   ],
   "source": [
    "d = pd.concat(rmss)\n",
    "d.T"
   ]
  },
  {
   "cell_type": "code",
   "execution_count": 772,
   "metadata": {
    "collapsed": false
   },
   "outputs": [
    {
     "data": {
      "text/plain": [
       "<matplotlib.text.Text at 0x12d73fda0>"
      ]
     },
     "execution_count": 772,
     "metadata": {},
     "output_type": "execute_result"
    },
    {
     "data": {
      "image/png": "[encoded data removed]",
      "text/plain": [
       "<matplotlib.figure.Figure at 0x12c27d358>"
      ]
     },
     "metadata": {},
     "output_type": "display_data"
    }
   ],
   "source": [
    "fig, ax = plt.subplots(1)\n",
    "# ax.plot(noise_levels, noise_levels, marker='.')\n",
    "# ax.plot(noise_levels, d['Ti']['rot'], label='Ti rot')\n",
    "# ax.plot(noise_levels, d['Ti']['mot'], label='Ti mot')\n",
    "ax.plot(noise_levels, d['Ti']['trs'], label='Ti trs')\n",
    "# ax.plot(noise_levels, d['VD']['rot'], label='VD rot')\n",
    "# ax.plot(noise_levels, d['VD']['mot'], label='VD mot')\n",
    "ax.plot(noise_levels, d['VD']['trs'], label='VD trs')\n",
    "# ax.plot(noise_levels, d['AHB']['rot'], label='AHB rot')\n",
    "# ax.plot(noise_levels, d['AHB']['mot'], label='AHB mot')\n",
    "# ax.plot(noise_levels, d['AHB']['trs'], label='AHB trs')\n",
    "ax.legend(frameon=False, loc=2)\n",
    "ax.set_ylabel('Mean geometric error')\n",
    "ax.set_xlabel('Gaussian mean deviation of induced noise')\n",
    "# fig.savefig('/Users/lars/latex/latex-phd-thesis/Figures/points-est-deviation.pdf')"
   ]
  },
  {
   "cell_type": "code",
   "execution_count": 15,
   "metadata": {
    "collapsed": false
   },
   "outputs": [],
   "source": [
    "# pickle.dump(rmss, open('rmss.pickle', 'wb'))"
   ]
  },
  {
   "cell_type": "markdown",
   "metadata": {},
   "source": [
    "# Analyze iterations"
   ]
  },
  {
   "cell_type": "code",
   "execution_count": 16,
   "metadata": {
    "collapsed": false
   },
   "outputs": [
    {
     "ename": "KeyboardInterrupt",
     "evalue": "",
     "output_type": "error",
     "traceback": [
      "\u001b[0;31m---------------------------------------------------------------------------\u001b[0m",
      "\u001b[0;31mKeyboardInterrupt\u001b[0m                         Traceback (most recent call last)",
      "\u001b[0;32m<ipython-input-16-6ad2c28c3120>\u001b[0m in \u001b[0;36m<module>\u001b[0;34m()\u001b[0m\n\u001b[0;32m----> 1\u001b[0;31m \u001b[0mresults\u001b[0m\u001b[0;34m,\u001b[0m \u001b[0mresults_vd_its\u001b[0m\u001b[0;34m,\u001b[0m \u001b[0mresults_svd_its\u001b[0m \u001b[0;34m=\u001b[0m \u001b[0mrun\u001b[0m\u001b[0;34m(\u001b[0m\u001b[0mn_points\u001b[0m\u001b[0;34m=\u001b[0m\u001b[0;36m100\u001b[0m\u001b[0;34m,\u001b[0m \u001b[0mn_sets\u001b[0m\u001b[0;34m=\u001b[0m\u001b[0;36m100\u001b[0m\u001b[0;34m,\u001b[0m \u001b[0mn_motors\u001b[0m\u001b[0;34m=\u001b[0m\u001b[0;36m100\u001b[0m\u001b[0;34m)\u001b[0m\u001b[0;34m\u001b[0m\u001b[0m\n\u001b[0m\u001b[1;32m      2\u001b[0m \u001b[0mresults_noisy\u001b[0m\u001b[0;34m,\u001b[0m \u001b[0mresults_vd_its_noisy\u001b[0m\u001b[0;34m,\u001b[0m \u001b[0mresults_svd_its_noisy\u001b[0m \u001b[0;34m=\u001b[0m \u001b[0mrun\u001b[0m\u001b[0;34m(\u001b[0m\u001b[0mn_points\u001b[0m\u001b[0;34m=\u001b[0m\u001b[0;36m100\u001b[0m\u001b[0;34m,\u001b[0m \u001b[0mn_sets\u001b[0m\u001b[0;34m=\u001b[0m\u001b[0;36m100\u001b[0m\u001b[0;34m,\u001b[0m \u001b[0mn_motors\u001b[0m\u001b[0;34m=\u001b[0m\u001b[0;36m100\u001b[0m\u001b[0;34m,\u001b[0m \u001b[0mnoisy\u001b[0m\u001b[0;34m=\u001b[0m\u001b[0;32mTrue\u001b[0m\u001b[0;34m)\u001b[0m\u001b[0;34m\u001b[0m\u001b[0m\n\u001b[1;32m      3\u001b[0m \u001b[0msummaries\u001b[0m \u001b[0;34m=\u001b[0m \u001b[0;34m[\u001b[0m\u001b[0mresult\u001b[0m\u001b[0;34m[\u001b[0m\u001b[0;36m3\u001b[0m\u001b[0;34m]\u001b[0m \u001b[0;32mfor\u001b[0m \u001b[0mresult\u001b[0m \u001b[0;32min\u001b[0m \u001b[0mresults\u001b[0m\u001b[0;34m]\u001b[0m\u001b[0;34m\u001b[0m\u001b[0m\n\u001b[1;32m      4\u001b[0m \u001b[0msummaries_noisy\u001b[0m \u001b[0;34m=\u001b[0m \u001b[0;34m[\u001b[0m\u001b[0mresult\u001b[0m\u001b[0;34m[\u001b[0m\u001b[0;36m3\u001b[0m\u001b[0;34m]\u001b[0m \u001b[0;32mfor\u001b[0m \u001b[0mresult\u001b[0m \u001b[0;32min\u001b[0m \u001b[0mresults_noisy\u001b[0m\u001b[0;34m]\u001b[0m\u001b[0;34m\u001b[0m\u001b[0m\n\u001b[1;32m      5\u001b[0m \u001b[0miteration_numbers\u001b[0m \u001b[0;34m=\u001b[0m \u001b[0;34m[\u001b[0m\u001b[0;34m]\u001b[0m\u001b[0;34m\u001b[0m\u001b[0m\n",
      "\u001b[0;32m<ipython-input-8-12eb8586d806>\u001b[0m in \u001b[0;36mrun\u001b[0;34m(n_points, n_sets, n_motors, noise_std, points_std, noisy)\u001b[0m\n\u001b[1;32m      8\u001b[0m     \u001b[0;32mfor\u001b[0m \u001b[0mset_\u001b[0m \u001b[0;32min\u001b[0m \u001b[0msetofsets\u001b[0m\u001b[0;34m:\u001b[0m\u001b[0;34m\u001b[0m\u001b[0m\n\u001b[1;32m      9\u001b[0m         \u001b[0;32mfor\u001b[0m \u001b[0mel\u001b[0m \u001b[0;32min\u001b[0m \u001b[0mset_\u001b[0m\u001b[0;34m:\u001b[0m\u001b[0;34m\u001b[0m\u001b[0m\n\u001b[0;32m---> 10\u001b[0;31m             \u001b[0mconverged\u001b[0m\u001b[0;34m,\u001b[0m \u001b[0m_\u001b[0m \u001b[0;34m=\u001b[0m \u001b[0mestimate_motors\u001b[0m\u001b[0;34m(\u001b[0m\u001b[0mel\u001b[0m\u001b[0;34m,\u001b[0m \u001b[0mnoisy\u001b[0m\u001b[0;34m=\u001b[0m\u001b[0mnoisy\u001b[0m\u001b[0;34m)\u001b[0m\u001b[0;34m\u001b[0m\u001b[0m\n\u001b[0m\u001b[1;32m     11\u001b[0m             \u001b[0;32mif\u001b[0m \u001b[0mconverged\u001b[0m\u001b[0;34m:\u001b[0m\u001b[0;34m\u001b[0m\u001b[0m\n\u001b[1;32m     12\u001b[0m                 \u001b[0mresults\u001b[0m\u001b[0;34m.\u001b[0m\u001b[0mappend\u001b[0m\u001b[0;34m(\u001b[0m\u001b[0mestimate_motors\u001b[0m\u001b[0;34m(\u001b[0m\u001b[0mel\u001b[0m\u001b[0;34m,\u001b[0m \u001b[0mnoisy\u001b[0m\u001b[0;34m=\u001b[0m\u001b[0mnoisy\u001b[0m\u001b[0;34m)\u001b[0m\u001b[0;34m[\u001b[0m\u001b[0;36m1\u001b[0m\u001b[0;34m]\u001b[0m\u001b[0;34m)\u001b[0m\u001b[0;34m\u001b[0m\u001b[0m\n",
      "\u001b[0;32m<ipython-input-4-956f4c4efa11>\u001b[0m in \u001b[0;36mestimate_motors\u001b[0;34m(dataset, noisy)\u001b[0m\n\u001b[1;32m     20\u001b[0m     \u001b[0mmes\u001b[0m\u001b[0;34m.\u001b[0m\u001b[0mmax_num_iterations\u001b[0m\u001b[0;34m=\u001b[0m\u001b[0;36m20\u001b[0m\u001b[0;34m\u001b[0m\u001b[0m\n\u001b[1;32m     21\u001b[0m     \u001b[0;34m(\u001b[0m\u001b[0mestimated_motor\u001b[0m\u001b[0;34m,\u001b[0m \u001b[0msummary\u001b[0m\u001b[0;34m,\u001b[0m \u001b[0m_\u001b[0m\u001b[0;34m)\u001b[0m \u001b[0;34m=\u001b[0m \u001b[0mmes\u001b[0m\u001b[0;34m.\u001b[0m\u001b[0msolve\u001b[0m\u001b[0;34m(\u001b[0m\u001b[0;34m)\u001b[0m\u001b[0;34m\u001b[0m\u001b[0m\n\u001b[0;32m---> 22\u001b[0;31m     \u001b[0;32mif\u001b[0m \u001b[0mlen\u001b[0m\u001b[0;34m(\u001b[0m\u001b[0mpd\u001b[0m\u001b[0;34m.\u001b[0m\u001b[0mDataFrame\u001b[0m\u001b[0;34m(\u001b[0m\u001b[0msummary\u001b[0m\u001b[0;34m[\u001b[0m\u001b[0;34m'iterations'\u001b[0m\u001b[0;34m]\u001b[0m\u001b[0;34m)\u001b[0m\u001b[0;34m[\u001b[0m\u001b[0;34m'cost'\u001b[0m\u001b[0;34m]\u001b[0m\u001b[0;34m)\u001b[0m \u001b[0;34m>\u001b[0m \u001b[0;36m20\u001b[0m\u001b[0;34m:\u001b[0m\u001b[0;34m\u001b[0m\u001b[0m\n\u001b[0m\u001b[1;32m     23\u001b[0m         \u001b[0mconverged\u001b[0m \u001b[0;34m=\u001b[0m \u001b[0;32mFalse\u001b[0m\u001b[0;34m\u001b[0m\u001b[0m\n\u001b[1;32m     24\u001b[0m     \u001b[0;32melse\u001b[0m\u001b[0;34m:\u001b[0m\u001b[0;34m\u001b[0m\u001b[0m\n",
      "\u001b[0;32m/Users/lars/anaconda3/lib/python3.5/site-packages/pandas/core/frame.py\u001b[0m in \u001b[0;36m__init__\u001b[0;34m(self, data, index, columns, dtype, copy)\u001b[0m\n\u001b[1;32m    274\u001b[0m \u001b[0;34m\u001b[0m\u001b[0m\n\u001b[1;32m    275\u001b[0m                     mgr = _arrays_to_mgr(arrays, columns, index, columns,\n\u001b[0;32m--> 276\u001b[0;31m                                          dtype=dtype)\n\u001b[0m\u001b[1;32m    277\u001b[0m                 \u001b[0;32melse\u001b[0m\u001b[0;34m:\u001b[0m\u001b[0;34m\u001b[0m\u001b[0m\n\u001b[1;32m    278\u001b[0m                     mgr = self._init_ndarray(data, index, columns, dtype=dtype,\n",
      "\u001b[0;32m/Users/lars/anaconda3/lib/python3.5/site-packages/pandas/core/frame.py\u001b[0m in \u001b[0;36m_arrays_to_mgr\u001b[0;34m(arrays, arr_names, index, columns, dtype)\u001b[0m\n\u001b[1;32m   5239\u001b[0m     \u001b[0maxes\u001b[0m \u001b[0;34m=\u001b[0m \u001b[0;34m[\u001b[0m\u001b[0m_ensure_index\u001b[0m\u001b[0;34m(\u001b[0m\u001b[0mcolumns\u001b[0m\u001b[0;34m)\u001b[0m\u001b[0;34m,\u001b[0m \u001b[0m_ensure_index\u001b[0m\u001b[0;34m(\u001b[0m\u001b[0mindex\u001b[0m\u001b[0;34m)\u001b[0m\u001b[0;34m]\u001b[0m\u001b[0;34m\u001b[0m\u001b[0m\n\u001b[1;32m   5240\u001b[0m \u001b[0;34m\u001b[0m\u001b[0m\n\u001b[0;32m-> 5241\u001b[0;31m     \u001b[0;32mreturn\u001b[0m \u001b[0mcreate_block_manager_from_arrays\u001b[0m\u001b[0;34m(\u001b[0m\u001b[0marrays\u001b[0m\u001b[0;34m,\u001b[0m \u001b[0marr_names\u001b[0m\u001b[0;34m,\u001b[0m \u001b[0maxes\u001b[0m\u001b[0;34m)\u001b[0m\u001b[0;34m\u001b[0m\u001b[0m\n\u001b[0m\u001b[1;32m   5242\u001b[0m \u001b[0;34m\u001b[0m\u001b[0m\n\u001b[1;32m   5243\u001b[0m \u001b[0;34m\u001b[0m\u001b[0m\n",
      "\u001b[0;32m/Users/lars/anaconda3/lib/python3.5/site-packages/pandas/core/internals.py\u001b[0m in \u001b[0;36mcreate_block_manager_from_arrays\u001b[0;34m(arrays, names, axes)\u001b[0m\n\u001b[1;32m   3997\u001b[0m \u001b[0;34m\u001b[0m\u001b[0m\n\u001b[1;32m   3998\u001b[0m     \u001b[0;32mtry\u001b[0m\u001b[0;34m:\u001b[0m\u001b[0;34m\u001b[0m\u001b[0m\n\u001b[0;32m-> 3999\u001b[0;31m         \u001b[0mblocks\u001b[0m \u001b[0;34m=\u001b[0m \u001b[0mform_blocks\u001b[0m\u001b[0;34m(\u001b[0m\u001b[0marrays\u001b[0m\u001b[0;34m,\u001b[0m \u001b[0mnames\u001b[0m\u001b[0;34m,\u001b[0m \u001b[0maxes\u001b[0m\u001b[0;34m)\u001b[0m\u001b[0;34m\u001b[0m\u001b[0m\n\u001b[0m\u001b[1;32m   4000\u001b[0m         \u001b[0mmgr\u001b[0m \u001b[0;34m=\u001b[0m \u001b[0mBlockManager\u001b[0m\u001b[0;34m(\u001b[0m\u001b[0mblocks\u001b[0m\u001b[0;34m,\u001b[0m \u001b[0maxes\u001b[0m\u001b[0;34m)\u001b[0m\u001b[0;34m\u001b[0m\u001b[0m\n\u001b[1;32m   4001\u001b[0m         \u001b[0mmgr\u001b[0m\u001b[0;34m.\u001b[0m\u001b[0m_consolidate_inplace\u001b[0m\u001b[0;34m(\u001b[0m\u001b[0;34m)\u001b[0m\u001b[0;34m\u001b[0m\u001b[0m\n",
      "\u001b[0;32m/Users/lars/anaconda3/lib/python3.5/site-packages/pandas/core/internals.py\u001b[0m in \u001b[0;36mform_blocks\u001b[0;34m(arrays, names, axes)\u001b[0m\n\u001b[1;32m   4020\u001b[0m \u001b[0;34m\u001b[0m\u001b[0m\n\u001b[1;32m   4021\u001b[0m     \u001b[0mnames_idx\u001b[0m \u001b[0;34m=\u001b[0m \u001b[0mIndex\u001b[0m\u001b[0;34m(\u001b[0m\u001b[0mnames\u001b[0m\u001b[0;34m)\u001b[0m\u001b[0;34m\u001b[0m\u001b[0m\n\u001b[0;32m-> 4022\u001b[0;31m     \u001b[0;32mif\u001b[0m \u001b[0mnames_idx\u001b[0m\u001b[0;34m.\u001b[0m\u001b[0mequals\u001b[0m\u001b[0;34m(\u001b[0m\u001b[0maxes\u001b[0m\u001b[0;34m[\u001b[0m\u001b[0;36m0\u001b[0m\u001b[0;34m]\u001b[0m\u001b[0;34m)\u001b[0m\u001b[0;34m:\u001b[0m\u001b[0;34m\u001b[0m\u001b[0m\n\u001b[0m\u001b[1;32m   4023\u001b[0m         \u001b[0mnames_indexer\u001b[0m \u001b[0;34m=\u001b[0m \u001b[0mnp\u001b[0m\u001b[0;34m.\u001b[0m\u001b[0marange\u001b[0m\u001b[0;34m(\u001b[0m\u001b[0mlen\u001b[0m\u001b[0;34m(\u001b[0m\u001b[0mnames_idx\u001b[0m\u001b[0;34m)\u001b[0m\u001b[0;34m)\u001b[0m\u001b[0;34m\u001b[0m\u001b[0m\n\u001b[1;32m   4024\u001b[0m     \u001b[0;32melse\u001b[0m\u001b[0;34m:\u001b[0m\u001b[0;34m\u001b[0m\u001b[0m\n",
      "\u001b[0;32m/Users/lars/anaconda3/lib/python3.5/site-packages/pandas/indexes/base.py\u001b[0m in \u001b[0;36mequals\u001b[0;34m(self, other)\u001b[0m\n\u001b[1;32m   1516\u001b[0m \u001b[0;34m\u001b[0m\u001b[0m\n\u001b[1;32m   1517\u001b[0m         return array_equivalent(_values_from_object(self),\n\u001b[0;32m-> 1518\u001b[0;31m                                 _values_from_object(other))\n\u001b[0m\u001b[1;32m   1519\u001b[0m \u001b[0;34m\u001b[0m\u001b[0m\n\u001b[1;32m   1520\u001b[0m     \u001b[0;32mdef\u001b[0m \u001b[0midentical\u001b[0m\u001b[0;34m(\u001b[0m\u001b[0mself\u001b[0m\u001b[0;34m,\u001b[0m \u001b[0mother\u001b[0m\u001b[0;34m)\u001b[0m\u001b[0;34m:\u001b[0m\u001b[0;34m\u001b[0m\u001b[0m\n",
      "\u001b[0;32m/Users/lars/anaconda3/lib/python3.5/site-packages/pandas/core/common.py\u001b[0m in \u001b[0;36marray_equivalent\u001b[0;34m(left, right, strict_nan)\u001b[0m\n\u001b[1;32m    270\u001b[0m \u001b[0;34m\u001b[0m\u001b[0m\n\u001b[1;32m    271\u001b[0m \u001b[0;34m\u001b[0m\u001b[0m\n\u001b[0;32m--> 272\u001b[0;31m \u001b[0;32mdef\u001b[0m \u001b[0marray_equivalent\u001b[0m\u001b[0;34m(\u001b[0m\u001b[0mleft\u001b[0m\u001b[0;34m,\u001b[0m \u001b[0mright\u001b[0m\u001b[0;34m,\u001b[0m \u001b[0mstrict_nan\u001b[0m\u001b[0;34m=\u001b[0m\u001b[0;32mFalse\u001b[0m\u001b[0;34m)\u001b[0m\u001b[0;34m:\u001b[0m\u001b[0;34m\u001b[0m\u001b[0m\n\u001b[0m\u001b[1;32m    273\u001b[0m     \"\"\"\n\u001b[1;32m    274\u001b[0m     \u001b[0;32mTrue\u001b[0m \u001b[0;32mif\u001b[0m \u001b[0mtwo\u001b[0m \u001b[0marrays\u001b[0m\u001b[0;34m,\u001b[0m \u001b[0mleft\u001b[0m \u001b[0;32mand\u001b[0m \u001b[0mright\u001b[0m\u001b[0;34m,\u001b[0m \u001b[0mhave\u001b[0m \u001b[0mequal\u001b[0m \u001b[0mnon\u001b[0m\u001b[0;34m-\u001b[0m\u001b[0mNaN\u001b[0m \u001b[0melements\u001b[0m\u001b[0;34m,\u001b[0m \u001b[0;32mand\u001b[0m \u001b[0mNaNs\u001b[0m\u001b[0;34m\u001b[0m\u001b[0m\n",
      "\u001b[0;31mKeyboardInterrupt\u001b[0m: "
     ]
    }
   ],
   "source": [
    "results, results_vd_its, results_svd_its = run(n_points=100, n_sets=100, n_motors=100)\n",
    "results_noisy, results_vd_its_noisy, results_svd_its_noisy = run(n_points=100, n_sets=100, n_motors=100, noisy=True)\n",
    "summaries = [result[3] for result in results]\n",
    "summaries_noisy = [result[3] for result in results_noisy]\n",
    "iteration_numbers = []\n",
    "iteration_numbers_noisy = []\n",
    "for summary in summaries:\n",
    "    iteration_numbers.append(len(pd.DataFrame(summary['iterations'])['cost']))\n",
    "for summary in summaries_noisy:\n",
    "    iteration_numbers_noisy.append(len(pd.DataFrame(summary['iterations'])['cost']))"
   ]
  },
  {
   "cell_type": "code",
   "execution_count": 113,
   "metadata": {
    "collapsed": false
   },
   "outputs": [],
   "source": [
    "median = np.median(iteration_numbers)\n",
    "argmedian = np.where([iteration_numbers == median])[1]\n",
    "# print(argmedian)\n",
    "print(median)\n",
    "argmax = np.argmax(iteration_numbers)\n",
    "print(np.max(iteration_numbers))\n",
    "# print(argmax)\n",
    "argmin = np.argmin(iteration_numbers)\n",
    "# print(argmin)\n",
    "print(np.min(iteration_numbers))"
   ]
  },
  {
   "cell_type": "code",
   "execution_count": null,
   "metadata": {
    "collapsed": false
   },
   "outputs": [],
   "source": [
    "median_noisy = np.median(iteration_numbers_noisy)\n",
    "print(median_noisy)\n",
    "argmax_noisy = np.argmax(iteration_numbers_noisy)\n",
    "print(argmax_noisy)\n",
    "print(np.max(iteration_numbers_noisy))\n",
    "argmin_noisy = np.argmin(iteration_numbers_noisy)\n",
    "print(argmin_noisy)\n",
    "print(np.min(iteration_numbers_noisy))"
   ]
  },
  {
   "cell_type": "code",
   "execution_count": 114,
   "metadata": {
    "collapsed": false
   },
   "outputs": [],
   "source": [
    "_,argmedian_noisy = np.where([iteration_numbers_noisy == median_noisy])\n",
    "argmedian_noisy = argmedian_noisy[0]\n",
    "print(argmedian_noisy)"
   ]
  },
  {
   "cell_type": "code",
   "execution_count": null,
   "metadata": {
    "collapsed": false
   },
   "outputs": [],
   "source": [
    "print(results_noisy[argmax_noisy][1])\n",
    "print(results_noisy[argmax_noisy][2])"
   ]
  },
  {
   "cell_type": "code",
   "execution_count": null,
   "metadata": {
    "collapsed": false
   },
   "outputs": [],
   "source": [
    "print(results_noisy[argmedian_noisy][1])\n",
    "print(results_noisy[argmedian_noisy][2])"
   ]
  },
  {
   "cell_type": "code",
   "execution_count": null,
   "metadata": {
    "collapsed": false
   },
   "outputs": [],
   "source": [
    "print(results_vd_its_noisy[argmax_noisy][1])\n",
    "print(results_vd_its_noisy[argmax_noisy][2])"
   ]
  },
  {
   "cell_type": "code",
   "execution_count": null,
   "metadata": {
    "collapsed": false
   },
   "outputs": [],
   "source": [
    "print(results_noisy[argmedian_noisy][2])\n",
    "print(results_vd_its_noisy[argmedian_noisy][1])\n",
    "print(results_svd_its_noisy[argmedian_noisy][2])"
   ]
  },
  {
   "cell_type": "code",
   "execution_count": null,
   "metadata": {
    "collapsed": false
   },
   "outputs": [],
   "source": [
    "results_svd_its_noisy[argmax_noisy][2] * results_noisy[argmax_noisy][2].rev()"
   ]
  },
  {
   "cell_type": "code",
   "execution_count": null,
   "metadata": {
    "collapsed": false
   },
   "outputs": [],
   "source": [
    "results_svd_its_noisy[argmax_noisy][2].matrix()"
   ]
  },
  {
   "cell_type": "code",
   "execution_count": null,
   "metadata": {
    "collapsed": false
   },
   "outputs": [],
   "source": [
    "results_noisy[argmax_noisy][2].matrix()"
   ]
  },
  {
   "cell_type": "code",
   "execution_count": null,
   "metadata": {
    "collapsed": false
   },
   "outputs": [],
   "source": [
    "# motors = create_motors(1)\n",
    "# datasets = [create_points(motor, n_points=3, radius=1, gaussian=False, noise_std=0.075) for motor in motors]\n",
    "points, motor, estimated_motor, summary = results_noisy[argmax_noisy]\n",
    "points, motor, estimated_motor2, summary = results_vd_its_noisy[argmax_noisy]\n",
    "\n",
    "point_radius = 0.04\n",
    "scene = Scene(children=\n",
    "              [point_mesh(point, radius=point_radius,color=Colors.HOTPINK) for point, _,_ in points] +\\\n",
    "              [point_mesh(point, radius=point_radius,color=Colors.LIGHTSKYBLUE) for _,point,_ in points] +\\\n",
    "#               [point_mesh(point, radius=point_radius,color=Colors.GRAY) for _,_,point in points] +\\\n",
    "              [point_mesh(point.spin(estimated_motor), radius=point_radius,color=Colors.AQUAMARINE)\n",
    "               for point,_,_ in points] +\\\n",
    "              [point_mesh(point.spin(estimated_motor2), radius=point_radius,color=Colors.RED)\n",
    "               for point,_,_ in points] +\\\n",
    "              [frame_mesh(size=0.5)] +\\\n",
    "              [AmbientLight(color='#cccccc')])\n",
    "\n",
    "camera = PerspectiveCamera(position=[0, 5, 5], up=[0, 0, 1],\n",
    "                      children=[DirectionalLight(color='white', \n",
    "                                                 position=[3, 5, 1], \n",
    "                                                 intensity=0.5)])\n",
    "\n",
    "\n",
    "renderer = Renderer(camera=camera, \n",
    "                    scene=scene, \n",
    "                    controls=[TrackballControls(controlling=camera)],\n",
    "                    background = 'white',\n",
    "                    width='960',\n",
    "                    height='512')\n",
    "# display(renderer)"
   ]
  },
  {
   "cell_type": "markdown",
   "metadata": {
    "deletable": true,
    "editable": true
   },
   "source": [
    "# Estimate motors from line observations"
   ]
  },
  {
   "cell_type": "code",
   "execution_count": 436,
   "metadata": {
    "collapsed": true
   },
   "outputs": [],
   "source": [
    "def create_random_lines(motor, n_lines=10, radius=10, \n",
    "                        trs_noise_std=0.09, rot_noise_std=0.09):\n",
    "    lines = []\n",
    "    for i in range(n_lines):\n",
    "        p = (vsr.Vec(*np.random.uniform(-1,1,3)).unit() * np.random.uniform(0,radius)).null()\n",
    "        v = vsr.Vec(*np.random.uniform(-1,1,3)).unit()\n",
    "        a = vsr.Dll(p,v)\n",
    "#         a = a.spin(\n",
    "#             (vsr.Vec(*np.random.random(3)).unit() * np.random.normal(0.0,0.001,1)).trs() *\n",
    "#             vsr.Rot(vsr.Biv(*np.random.uniform(-1,1,3)).unit() * \n",
    "#                             np.random.normal(0, 0.001) * -0.5))\n",
    "        b = a.spin(motor)\n",
    "        if trs_noise_std > 0.0:\n",
    "            t = vsr.Vec(*np.random.random(3)).unit() * np.random.normal(0.0,trs_noise_std,1)\n",
    "        else:\n",
    "            t = vsr.Vec(0,0,0)\n",
    "            \n",
    "        if rot_noise_std > 0.0:\n",
    "            R = vsr.Rot(vsr.Biv(*np.random.uniform(-1,1,3)).unit() * \n",
    "                            np.random.normal(0, rot_noise_std) * -0.5)\n",
    "        else:\n",
    "            R = vsr.Rot(1,0,0,0)\n",
    "        noise_motor = t.trs() * R\n",
    "        bn = b.spin(noise_motor)\n",
    "        lines.append((a,b,bn))\n",
    "    return (lines, motor)"
   ]
  },
  {
   "cell_type": "code",
   "execution_count": 734,
   "metadata": {
    "collapsed": true
   },
   "outputs": [],
   "source": [
    "def estimate_motors_lines(dataset, \n",
    "                          initial_motor = vsr.Mot(1.0, 0.0, 0.0, 0.0, 0.0, 0.0, 0.0, 0.0), \n",
    "                          noisy=False,\n",
    "                          onlyrot=False\n",
    "                         ):\n",
    "#     lines, motor = dataset\n",
    "    \n",
    "    lines, motor, initial_motor, _ = estimate_motors_lines_daniilidis(dataset, noisy=noisy)\n",
    "    \n",
    "    mes = MotorEstimationSolver(initial_motor)\n",
    "    if noisy:\n",
    "        for (a, _, bn) in lines:\n",
    "            if onlyrot:\n",
    "                mes.add_line_correspondences_residual_block(a,bn)\n",
    "            else:\n",
    "                mes.add_line_angle_distance_residual_block(a,bn)\n",
    "    else:\n",
    "        for (a, b, _) in lines:\n",
    "            if onlyrot:\n",
    "                mes.add_line_correspondences_residual_block(a,b)\n",
    "            else:\n",
    "                mes.add_line_angle_distance_residual_block(a,b)\n",
    "    mes.set_parameterization('BIVECTOR_GENERATOR')\n",
    "    mes.linear_solver_type = 'DENSE_QR'\n",
    "    (estimated_motor, summary, _) = mes.solve()\n",
    "    \n",
    "    \n",
    "    \n",
    "\n",
    "#     print(initial_motor)\n",
    "#     print(estimated_motor)\n",
    "#     print(motor)\n",
    "#     print()\n",
    "    \n",
    "    return (lines, motor, estimated_motor, summary)"
   ]
  },
  {
   "cell_type": "code",
   "execution_count": 735,
   "metadata": {
    "collapsed": true
   },
   "outputs": [],
   "source": [
    "def estimate_motors_lines_vd(dataset, \n",
    "                             initial_motor = vsr.Mot(1.0, 0.0, 0.0, 0.0, 0.0, 0.0, 0.0, 0.0), \n",
    "                             noisy=False):\n",
    "    vd = VDMotorEstimationSolver()\n",
    "    lines, motor = dataset\n",
    "    lines_a = []\n",
    "    lines_b = []\n",
    "    lines_bn = []\n",
    "    for (a,b,bn) in lines:\n",
    "        lines_a.append(a)\n",
    "        lines_b.append(b)\n",
    "        lines_bn.append(bn)\n",
    "    if noisy:\n",
    "        vd.add_dual_line_observations(lines_a, lines_bn)\n",
    "    else:\n",
    "        vd.add_dual_line_observations(lines_a, lines_b)\n",
    "    estimated_motor = vd.solve()\n",
    "    return (lines, motor, estimated_motor, [])"
   ]
  },
  {
   "cell_type": "code",
   "execution_count": 736,
   "metadata": {
    "collapsed": true,
    "editable": true
   },
   "outputs": [],
   "source": [
    "def daniilidis_motor(LAs, LBs):\n",
    "    Ds = []\n",
    "    for LA, LB in zip(LAs, LBs):\n",
    "        D = np.zeros((8,8))\n",
    "        for i in range(8):\n",
    "            ei = vsr.Mot(0,0,0,0,0,0,0,0)\n",
    "            ei[i] = 1.0\n",
    "            D[:,i] = np.array(ei * LA - LB * ei)\n",
    "        Ds.append(D[1:7,:].copy())\n",
    "\n",
    "    \n",
    "    Ds = np.array(Ds).reshape(-1,8)\n",
    "    [U, s, Vt] = np.linalg.svd(Ds)\n",
    "\n",
    "    v7 = Vt.T[:,-2].copy()\n",
    "    v8 = Vt.T[:,-1].copy()\n",
    "    \n",
    "    v7 = np.array([v7[0], v7[3], -v7[2], v7[1], -v7[7],v7[4], v7[5], v7[6]])\n",
    "    v8 = np.array([v8[0], v8[3], -v8[2], v8[1], -v8[7],v8[4], v8[5], v8[6]])\n",
    "    \n",
    "    u1 = v7[:4]\n",
    "    v1 = v7[4:]\n",
    "    u2 = v8[:4]\n",
    "    v2 = v8[4:]\n",
    "\n",
    "    a = np.inner(u1,v1)\n",
    "    b = np.inner(u1,v2) + np.inner(u2,v1)\n",
    "    c = np.inner(u2,v2)\n",
    "    [s1, s2] = np.roots([a,b,c])\n",
    "\n",
    "    val1 = (s1**2 * np.inner(u1,u1)) + (2 * s1 * np.inner(u1,u2)) + (np.inner(u2,u2))\n",
    "    val2 = (s2**2 * np.inner(u1,u1)) + (2 * s2 * np.inner(u1,u2)) + (np.inner(u2,u2))\n",
    "    \n",
    "    if val1 > val2:\n",
    "        s = s1\n",
    "        val = val1\n",
    "    else:\n",
    "        s = s2\n",
    "        val = val2\n",
    "\n",
    "    lambda2 = np.sqrt(1./val)\n",
    "    lambda1 = s * lambda2\n",
    "    \n",
    "    m_arr = lambda1 * Vt.T[:,-2] + lambda2 * Vt.T[:,-1]\n",
    "\n",
    "    return vsr.Mot(*m_arr)"
   ]
  },
  {
   "cell_type": "code",
   "execution_count": 737,
   "metadata": {
    "collapsed": true
   },
   "outputs": [],
   "source": [
    "def estimate_motors_lines_daniilidis(dataset, \n",
    "                             initial_motor = vsr.Mot(1.0, 0.0, 0.0, 0.0, 0.0, 0.0, 0.0, 0.0), \n",
    "                             noisy=False):\n",
    "    lines, motor = dataset\n",
    "    lines_a = []\n",
    "    lines_b = []\n",
    "    lines_bn = []\n",
    "    for (a,b,bn) in lines:\n",
    "        lines_a.append(a)\n",
    "        lines_b.append(b)\n",
    "        lines_bn.append(bn)\n",
    "    if noisy:\n",
    "        estimated_motor = daniilidis_motor(lines_a, lines_bn)\n",
    "    else:\n",
    "        estimated_motor = daniilidis_motor(lines_a, lines_b)\n",
    "        \n",
    "    if np.sign(estimated_motor[0]) != np.sign(motor[0]):\n",
    "        estimated_motor = estimated_motor * -1.0\n",
    "    return (lines, motor, estimated_motor, [])"
   ]
  },
  {
   "cell_type": "code",
   "execution_count": 738,
   "metadata": {
    "collapsed": true
   },
   "outputs": [],
   "source": [
    "def estimate_motors_lines_lars(dataset, noisy=False):\n",
    "    lines, motor = dataset\n",
    "    \n",
    "    def solve(L):\n",
    "        Lrr = L[:4, :4]\n",
    "        Lrq = L[:4, 4:]\n",
    "        Lqr = L[4:, :4]\n",
    "        Lqq = L[4:, 4:]\n",
    "        Lp = Lrr - np.dot(Lrq, np.dot(np.linalg.pinv(Lqq), Lqr))\n",
    "        w, v = np.linalg.eig(Lp)\n",
    "        r = v[:, np.argmin(w)]\n",
    "        q = np.dot(-np.dot(np.linalg.pinv(Lqq), Lqr), r)\n",
    "        return vsr.Mot(*np.array([r, q]).ravel())\n",
    "\n",
    "    Q = np.zeros((8,8))\n",
    "        \n",
    "    lines_a = []\n",
    "    lines_b = []\n",
    "    lines_bn = []\n",
    "    for (a,b,bn) in lines:\n",
    "        lines_a.append(vsr.CGA(a))\n",
    "        lines_b.append(vsr.CGA(b))\n",
    "        lines_bn.append(vsr.CGA(bn))\n",
    "        \n",
    "    if noisy:\n",
    "        for b,a in zip(lines_a, lines_bn):\n",
    "            D = np.zeros((32,8))\n",
    "            for i in range(8):\n",
    "                ei = vsr.Mot(0,0,0,0,0,0,0,0)\n",
    "                ei[i] = 1.0\n",
    "                ei = vsr.CGA(ei)\n",
    "                D[:,i] = np.array(a * ei - ei * b)\n",
    "            Q += np.dot(D.T,D)\n",
    "    else:\n",
    "        for b,a in zip(lines_a, lines_b):\n",
    "            D = np.zeros((32,8))\n",
    "            for i in range(8):\n",
    "                ei = vsr.Mot(0,0,0,0,0,0,0,0)\n",
    "                ei[i] = 1.0\n",
    "                ei = vsr.CGA(ei)\n",
    "                D[:,i] = np.array(a * ei - ei * b)\n",
    "            Q += np.dot(D.T,D)\n",
    "\n",
    "    estimated_motor = solve(Q)\n",
    "    \n",
    "    if np.sign(estimated_motor[0]) != np.sign(motor[0]):\n",
    "        estimated_motor = estimated_motor * -1.0\n",
    "        \n",
    "    return (lines, motor, estimated_motor, _)"
   ]
  },
  {
   "cell_type": "code",
   "execution_count": 739,
   "metadata": {
    "collapsed": false
   },
   "outputs": [],
   "source": [
    "def run_lines(n_lines=10, n_sets=10, n_motors=10, trs_noise_std=0.09, rot_noise_std=0.09, noisy=False, onlyrot=True):\n",
    "#     thlim = pi/2\n",
    "    motors = create_motors(n_motors, d_lims=(0,1000), th_lims=(0, pi))\n",
    "    results = []\n",
    "    results_vd = []\n",
    "    results_daniilidis = []\n",
    "    for n_set in range(n_sets):\n",
    "        datasets = [create_random_lines(motor, n_lines, \n",
    "                                        rot_noise_std=rot_noise_std, \n",
    "                                        trs_noise_std=trs_noise_std) \n",
    "                    for motor in motors]\n",
    "        for dataset in datasets:\n",
    "            results.append(estimate_motors_lines(dataset, noisy=noisy, onlyrot=onlyrot))\n",
    "            results_vd.append(estimate_motors_lines_lars(dataset, noisy=noisy))\n",
    "            results_daniilidis.append(estimate_motors_lines_daniilidis(dataset, noisy=noisy))\n",
    "    return (results, results_vd, results_daniilidis)"
   ]
  },
  {
   "cell_type": "code",
   "execution_count": 740,
   "metadata": {
    "collapsed": true
   },
   "outputs": [],
   "source": [
    "def compare_rms_lines(results, results_vd, results_bds):\n",
    "    RMS = {'Ti': {}, \"VD\": {}, 'BDS':{}}\n",
    "    our_mot, our_rot, our_trs = rms_motor(results)\n",
    "    Ti = RMS['Ti']\n",
    "    Ti['rot'] = our_rot\n",
    "    Ti['mot'] = our_mot\n",
    "    Ti['trs'] = our_trs\n",
    "    vd_mot, vd_rot, vd_trs = rms_motor(results_vd)\n",
    "    VD = RMS['VD']\n",
    "    VD['rot'] = vd_rot\n",
    "    VD['mot'] = vd_mot\n",
    "    VD['trs'] = vd_trs\n",
    "    bds_mot, bds_rot, bds_trs = rms_motor(results_bds)\n",
    "    BDS = RMS['BDS']\n",
    "    BDS['rot'] = bds_rot\n",
    "    BDS['mot'] = bds_mot\n",
    "    BDS['trs'] = bds_trs\n",
    "    return pd.DataFrame(RMS)"
   ]
  },
  {
   "cell_type": "code",
   "execution_count": null,
   "metadata": {
    "collapsed": false,
    "scrolled": true
   },
   "outputs": [],
   "source": [
    "noise_levels = np.linspace(0.01,0.1,10)\n",
    "# rmss_lines = [compare_rms_lines(*run_lines(100,4,4, rot_noise_std=noise_level, \n",
    "#                                            trs_noise_std=noise_level, noisy=True)) \n",
    "#               for noise_level in noise_levels]"
   ]
  },
  {
   "cell_type": "code",
   "execution_count": 742,
   "metadata": {
    "collapsed": false
   },
   "outputs": [
    {
     "name": "stderr",
     "output_type": "stream",
     "text": [
      "/Users/lars/anaconda3/lib/python3.5/site-packages/ipykernel/__main__.py:46: ComplexWarning: Casting complex values to real discards the imaginary part\n"
     ]
    }
   ],
   "source": [
    "noise_levels = np.linspace(0.01,1,10)\n",
    "rmss_lines_rot = [compare_rms_lines(*run_lines(10,32,32, rot_noise_std=noise_level, \n",
    "                                           trs_noise_std=noise_level, noisy=True,\n",
    "                                            onlyrot=True)) \n",
    "              for noise_level in noise_levels]\n",
    "# pickle.dump(rmss_lines_rot, open('rmss_lines_rot.pickle', 'wb'))"
   ]
  },
  {
   "cell_type": "code",
   "execution_count": 758,
   "metadata": {
    "collapsed": false
   },
   "outputs": [
    {
     "data": {
      "text/plain": [
       "<matplotlib.text.Text at 0x12cd20780>"
      ]
     },
     "execution_count": 758,
     "metadata": {},
     "output_type": "execute_result"
    },
    {
     "data": {
      "image/png": "[encoded data removed]",
      "text/plain": [
       "<matplotlib.figure.Figure at 0x120ea8e80>"
      ]
     },
     "metadata": {},
     "output_type": "display_data"
    }
   ],
   "source": [
    "d = pd.concat(rmss_lines_rot)\n",
    "fig, ax = plt.subplots(1)\n",
    "\n",
    "ax.plot(noise_levels, d['Ti']['rot'].tolist(), label='Ti rot')\n",
    "ax.plot(noise_levels, d['BDS']['rot'].tolist(), label='BDS rot')\n",
    "ax.plot(noise_levels, d['VD']['rot'].tolist(), label='VD rot')\n",
    "\n",
    "# ax.plot(noise_levels, d['Ti']['trs'].tolist(), label='Ti trs')\n",
    "# ax.plot(noise_levels, d['BDS']['trs'].tolist(), label='BDS trs')\n",
    "# ax.plot(noise_levels, d['VD']['trs'].tolist(), label='VD trs')\n",
    "\n",
    "\n",
    "# ax.plot(noise_levels, d['Ti']['mot'].tolist(), label='Ti mot')\n",
    "# ax.plot(noise_levels, d['BDS']['mot'].tolist(), label='BDS mot')\n",
    "\n",
    "ax.legend(frameon=False, loc=2)\n",
    "ax.set_ylabel('Error in rotation')\n",
    "ax.set_xlabel('Gaussian mean deviation of induced noise')\n"
   ]
  },
  {
   "cell_type": "code",
   "execution_count": 762,
   "metadata": {
    "collapsed": false
   },
   "outputs": [
    {
     "data": {
      "text/plain": [
       "<matplotlib.text.Text at 0x12b793400>"
      ]
     },
     "execution_count": 762,
     "metadata": {},
     "output_type": "execute_result"
    },
    {
     "data": {
      "image/png": "[encoded data removed]",
      "text/plain": [
       "<matplotlib.figure.Figure at 0x12c7adef0>"
      ]
     },
     "metadata": {},
     "output_type": "display_data"
    }
   ],
   "source": [
    "d = pd.concat(rmss_lines_rot)\n",
    "fig, ax = plt.subplots(1)\n",
    "\n",
    "# ax.plot(noise_levels, d['Ti']['rot'].tolist(), label='Ti rot')\n",
    "# ax.plot(noise_levels, d['BDS']['rot'].tolist(), label='BDS rot')\n",
    "# ax.plot(noise_levels, d['VD']['rot'].tolist(), label='VD rot')\n",
    "\n",
    "ax.plot(noise_levels, d['Ti']['trs'].tolist(), label='Ti trs')\n",
    "ax.plot(noise_levels, d['BDS']['trs'].tolist(), label='BDS trs')\n",
    "ax.plot(noise_levels, d['VD']['trs'].tolist(), label='Ti lin trs')\n",
    "\n",
    "\n",
    "# ax.plot(noise_levels, d['Ti']['mot'].tolist(), label='Ti mot')\n",
    "# ax.plot(noise_levels, d['BDS']['mot'].tolist(), label='BDS mot')\n",
    "\n",
    "ax.legend(frameon=False, loc=2)\n",
    "ax.set_ylabel('Error in rotation')\n",
    "ax.set_xlabel('Gaussian mean deviation of induced noise')"
   ]
  },
  {
   "cell_type": "code",
   "execution_count": 667,
   "metadata": {
    "collapsed": true
   },
   "outputs": [],
   "source": [
    "pickle.dump(rmss_lines, open('rmss_lines_used.pickle', 'wb'))"
   ]
  },
  {
   "cell_type": "code",
   "execution_count": 70,
   "metadata": {
    "collapsed": false
   },
   "outputs": [],
   "source": [
    "d = pd.concat(rmss_lines)"
   ]
  },
  {
   "cell_type": "code",
   "execution_count": 76,
   "metadata": {
    "collapsed": false
   },
   "outputs": [
    {
     "data": {
      "image/png": "[encoded data removed]",
      "text/plain": [
       "<matplotlib.figure.Figure at 0x11a9148d0>"
      ]
     },
     "metadata": {},
     "output_type": "display_data"
    }
   ],
   "source": [
    "fig, ax = plt.subplots(1)\n",
    "\n",
    "ax.plot(noise_levels, d['Ti']['rot'].tolist(), label='Ti')\n",
    "ax.plot(noise_levels, d['BDS']['rot'].tolist(), label='BDS')\n",
    "ax.plot(noise_levels, d['VD']['rot'].tolist(), label='VD')\n",
    "\n",
    "# ax.plot(noise_levels, d['Ti']['trs'].tolist(), label='Ti trs')\n",
    "# ax.plot(noise_levels, d['BDS']['trs'].tolist(), label='BDS trs')\n",
    "\n",
    "# ax.plot(noise_levels, d['Ti']['mot'].tolist(), label='Ti mot')\n",
    "# ax.plot(noise_levels, d['BDS']['mot'].tolist(), label='BDS mot')\n",
    "\n",
    "ax.legend(frameon=False, loc=1)\n",
    "ax.set_ylabel('Error in rotation')\n",
    "ax.set_xlabel('Gaussian mean deviation of induced noise')\n",
    "fig.savefig('/Users/lars/latex/latex-phd-thesis/Figures/lines-rot-error.pdf')"
   ]
  },
  {
   "cell_type": "code",
   "execution_count": 78,
   "metadata": {
    "collapsed": false
   },
   "outputs": [
    {
     "data": {
      "image/png": "[encoded data removed]",
      "text/plain": [
       "<matplotlib.figure.Figure at 0x11bacf898>"
      ]
     },
     "metadata": {},
     "output_type": "display_data"
    }
   ],
   "source": [
    "fig, ax = plt.subplots(1)\n",
    "\n",
    "# ax.plot(noise_levels, d['Ti']['rot'].tolist(), label='Ti')\n",
    "# ax.plot(noise_levels, d['BDS']['rot'].tolist(), label='BDS')\n",
    "# ax.plot(noise_levels, d['VD']['rot'].tolist(), label='VD')\n",
    "\n",
    "ax.plot(noise_levels, d['Ti']['trs'].tolist(), label='Ti')\n",
    "ax.plot(noise_levels, d['BDS']['trs'].tolist(), label='BDS')\n",
    "\n",
    "# ax.plot(noise_levels, d['Ti']['mot'].tolist(), label='Ti mot')\n",
    "# ax.plot(noise_levels, d['BDS']['mot'].tolist(), label='BDS mot')\n",
    "\n",
    "ax.legend(frameon=False, loc=1)\n",
    "ax.set_ylabel('Error in translation')\n",
    "ax.set_xlabel('Gaussian mean deviation of induced noise')\n",
    "fig.savefig('/Users/lars/latex/latex-phd-thesis/Figures/lines-trs-error.pdf')"
   ]
  },
  {
   "cell_type": "code",
   "execution_count": 68,
   "metadata": {
    "collapsed": false
   },
   "outputs": [],
   "source": [
    "lines = lines[:1]\n",
    "scene = Scene(children=\n",
    "              [line_mesh(line, color=Colors.HOTPINK) for line, _,_ in lines] +\\\n",
    "              [line_mesh(line, color=Colors.LIGHTSKYBLUE) for _,line,_ in lines] +\\\n",
    "              [line_mesh(line, color=Colors.GRAY) for _,_,line in lines] +\\\n",
    "              [line_mesh(line.spin(estimated_motor), color=Colors.AQUAMARINE) for line,_,_ in lines] +\\\n",
    "#               [frame_mesh(size=0.5)] +\\\n",
    "              [AmbientLight(color='#cccccc')])\n",
    "\n",
    "camera = PerspectiveCamera(position=[0, 5, 5], up=[0, 0, 1],\n",
    "                      children=[DirectionalLight(color='white', \n",
    "                                                 position=[3, 5, 1], \n",
    "                                                 intensity=0.5)])\n",
    "\n",
    "\n",
    "renderer = Renderer(camera=camera, \n",
    "                    scene=scene, \n",
    "                    controls=[TrackballControls(controlling=camera)],\n",
    "                    background = 'white',\n",
    "                    width='960',\n",
    "                    height='512')\n",
    "# display(renderer)"
   ]
  },
  {
   "cell_type": "code",
   "execution_count": 193,
   "metadata": {
    "collapsed": false
   },
   "outputs": [
    {
     "name": "stdout",
     "output_type": "stream",
     "text": [
      "87\n"
     ]
    }
   ],
   "source": [
    "wrong_results = []\n",
    "n1s = []\n",
    "for (_, m, em, _) in results_lines:\n",
    "    norm = np.linalg.norm(m * em.rev())\n",
    "    n1s\n",
    "    if norm > 1.00001:\n",
    "        wrong_results.append(((m,em, norm), m.rot() * em.rot().rev()))\n",
    "print(len(wrong_results))"
   ]
  },
  {
   "cell_type": "code",
   "execution_count": 123,
   "metadata": {
    "collapsed": false
   },
   "outputs": [
    {
     "ename": "NameError",
     "evalue": "name 'wrong_results' is not defined",
     "output_type": "error",
     "traceback": [
      "\u001b[0;31m---------------------------------------------------------------------------\u001b[0m",
      "\u001b[0;31mNameError\u001b[0m                                 Traceback (most recent call last)",
      "\u001b[0;32m<ipython-input-123-a1ecb9194646>\u001b[0m in \u001b[0;36m<module>\u001b[0;34m()\u001b[0m\n\u001b[0;32m----> 1\u001b[0;31m \u001b[0mwrong_results\u001b[0m\u001b[0;34m\u001b[0m\u001b[0m\n\u001b[0m",
      "\u001b[0;31mNameError\u001b[0m: name 'wrong_results' is not defined"
     ]
    }
   ],
   "source": [
    "wrong_results"
   ]
  },
  {
   "cell_type": "code",
   "execution_count": 33,
   "metadata": {
    "collapsed": false
   },
   "outputs": [],
   "source": [
    "results, _, _ = run_lines(n_lines=100, n_sets=10, n_motors=10)\n",
    "results_noisy, _, _ = run_lines(n_lines=100, n_sets=10, n_motors=10, noisy=True)\n",
    "summaries = [result[3] for result in results_lines]\n",
    "summaries_noisy = [result[3] for result in results_noisy]\n",
    "iteration_numbers = []\n",
    "iteration_numbers_noisy = []\n",
    "for summary in summaries:\n",
    "    iteration_numbers.append(len(pd.DataFrame(summary['iterations'])['cost']))\n",
    "for summary in summaries_noisy:\n",
    "    iteration_numbers_noisy.append(len(pd.DataFrame(summary['iterations'])['cost']))"
   ]
  },
  {
   "cell_type": "code",
   "execution_count": 34,
   "metadata": {
    "collapsed": false
   },
   "outputs": [],
   "source": [
    "median = np.median(iteration_numbers)\n",
    "argmax = np.argmax(iteration_numbers)\n",
    "argmin = np.argmin(iteration_numbers)"
   ]
  },
  {
   "cell_type": "code",
   "execution_count": 36,
   "metadata": {
    "collapsed": false
   },
   "outputs": [
    {
     "data": {
      "text/plain": [
       "48"
      ]
     },
     "execution_count": 36,
     "metadata": {},
     "output_type": "execute_result"
    }
   ],
   "source": [
    "np.max(iteration_numbers)"
   ]
  },
  {
   "cell_type": "code",
   "execution_count": 1048,
   "metadata": {
    "collapsed": false
   },
   "outputs": [
    {
     "ename": "IndexError",
     "evalue": "tuple index out of range",
     "output_type": "error",
     "traceback": [
      "\u001b[0;31m---------------------------------------------------------------------------\u001b[0m",
      "\u001b[0;31mIndexError\u001b[0m                                Traceback (most recent call last)",
      "\u001b[0;32m<ipython-input-1048-0279cbaf10f4>\u001b[0m in \u001b[0;36m<module>\u001b[0;34m()\u001b[0m\n\u001b[0;32m----> 1\u001b[0;31m \u001b[0mnp\u001b[0m\u001b[0;34m.\u001b[0m\u001b[0mwhere\u001b[0m\u001b[0;34m(\u001b[0m\u001b[0miteration_numbers\u001b[0m \u001b[0;34m<=\u001b[0m \u001b[0mnp\u001b[0m\u001b[0;34m.\u001b[0m\u001b[0mfloat64\u001b[0m\u001b[0;34m(\u001b[0m\u001b[0;36m50\u001b[0m\u001b[0;34m)\u001b[0m\u001b[0;34m)\u001b[0m\u001b[0;34m[\u001b[0m\u001b[0;36m1\u001b[0m\u001b[0;34m]\u001b[0m\u001b[0;34m\u001b[0m\u001b[0m\n\u001b[0m",
      "\u001b[0;31mIndexError\u001b[0m: tuple index out of range"
     ]
    }
   ],
   "source": [
    "np.where(iteration_numbers <= np.float64(50))[1]"
   ]
  },
  {
   "cell_type": "code",
   "execution_count": 1045,
   "metadata": {
    "collapsed": false
   },
   "outputs": [
    {
     "data": {
      "text/plain": [
       "9999"
      ]
     },
     "execution_count": 1045,
     "metadata": {},
     "output_type": "execute_result"
    }
   ],
   "source": [
    "np.max(np.where([iteration_numbers < np.float64(50)])[1])"
   ]
  },
  {
   "cell_type": "code",
   "execution_count": 1021,
   "metadata": {
    "collapsed": false
   },
   "outputs": [],
   "source": [
    "median_noisy = np.median(iteration_numbers_noisy)\n",
    "argmax_noisy = np.argmax(iteration_numbers_noisy)\n",
    "argmin_noisy = np.argmin(iteration_numbers_noisy)"
   ]
  },
  {
   "cell_type": "code",
   "execution_count": 127,
   "metadata": {
    "collapsed": false
   },
   "outputs": [],
   "source": [
    "# fig, ax = plt.subplots(1)\n",
    "# ax.semilogy(pd.DataFrame(summaries[argmax]['iterations'])['cost'], label='max')\n",
    "# ax.semilogy(pd.DataFrame(summaries[argmin]['iterations'])['cost'], label='min')\n",
    "# legend = ax.legend(frameon=False)\n",
    "# # ax.xaxis.set_major_locator(MaxNLocator(integer=True))\n",
    "# plt.xlabel(r'Iteration $k$')\n",
    "# plt.ylabel(r'Cost')\n",
    "# plt.savefig('/Users/lars/latex/latex-phd-thesis/Figures/lines-cost-nonoise.pdf')"
   ]
  },
  {
   "cell_type": "code",
   "execution_count": 959,
   "metadata": {
    "collapsed": true
   },
   "outputs": [],
   "source": [
    "summaries_lines = [result[3] for result in results_lines]"
   ]
  },
  {
   "cell_type": "code",
   "execution_count": 124,
   "metadata": {
    "collapsed": false
   },
   "outputs": [],
   "source": [
    "# k = 19\n",
    "# print(summaries_lines[k]['full_report'])\n",
    "# semilogy(pd.DataFrame(summaries_lines[argmax]['iterations'])['cost'])"
   ]
  },
  {
   "cell_type": "code",
   "execution_count": null,
   "metadata": {
    "collapsed": false,
    "scrolled": true
   },
   "outputs": [],
   "source": []
  },
  {
   "cell_type": "markdown",
   "metadata": {},
   "source": [
    "# Heterogeneous Sets"
   ]
  },
  {
   "cell_type": "code",
   "execution_count": null,
   "metadata": {
    "collapsed": true
   },
   "outputs": [],
   "source": [
    "def estimate_motors_heterogenepus(dataset, \n",
    "                                  initial_motor = vsr.Mot(1.0, 0.0, 0.0, 0.0, 0.0, 0.0, 0.0, 0.0), \n",
    "                                  noisy=False):\n",
    "    planes, motor = dataset\n",
    "    mes = MotorEstimationSolver(initial_motor)\n",
    "    if noisy:\n",
    "        for (a, _, bn) in planes:\n",
    "            mes.add_dual_plane_difference_residual_block(a,bn)\n",
    "#             mes.add_dual_plane_angle_error_residual_block(a,bn)\n",
    "    else:\n",
    "        for (a, b, _) in planes:\n",
    "#             mes.add_dual_plane_angle_error_residual_block(a,b)\n",
    "            mes.add_dual_plane_difference_residual_block(a,b)\n",
    "    mes.set_parameterization('BIVECTOR_GENERATOR')\n",
    "    mes.linear_solver_type = 'DENSE_QR'\n",
    "    (estimated_motor, summary, _) = mes.solve()\n",
    "    return (planes, motor, estimated_motor, summary)"
   ]
  },
  {
   "cell_type": "code",
   "execution_count": 147,
   "metadata": {
    "collapsed": true
   },
   "outputs": [],
   "source": [
    "def run_heterogeneous(n_points=10, n_lines=10, n_planes=10, n_sets=10, n_motors=10, noise_std=0.09, points_std=0.08, noisy=False):\n",
    "    motors = create_motors(n_motors, d_lims=(-1,1), th_lims=(-pi,pi))\n",
    "    results = []\n",
    "    results_vd = []\n",
    "    for n_set in range(n_sets):\n",
    "        point_datasets = [create_random_planes(motor, n_points, noise_std=noise_std, points_std=points_std) \n",
    "                    for motor in motors]\n",
    "        line_datasets = [create_random_lines(motor, n_lines, noise_std=noise_std, points_std=points_std) \n",
    "                    for motor in motors]\n",
    "        plane_datasets = [create_random_planes(motor, n_planes, noise_std=noise_std, points_std=points_std) \n",
    "                    for motor in motors]\n",
    "        \n",
    "        for dataset in datasets:\n",
    "            results.append(estimate_motors_planes(dataset, noisy=noisy))\n",
    "    return (results, results_vd, results_daniilidis)"
   ]
  },
  {
   "cell_type": "code",
   "execution_count": null,
   "metadata": {
    "collapsed": true
   },
   "outputs": [],
   "source": []
  }
 ],
 "metadata": {
  "anaconda-cloud": {},
  "kernelspec": {
   "display_name": "Python [default]",
   "language": "python",
   "name": "python3"
  },
  "language_info": {
   "codemirror_mode": {
    "name": "ipython",
    "version": 3
   },
   "file_extension": ".py",
   "mimetype": "text/x-python",
   "name": "python",
   "nbconvert_exporter": "python",
   "pygments_lexer": "ipython3",
   "version": "3.5.2"
  }
 },
 "nbformat": 4,
 "nbformat_minor": 2
}
