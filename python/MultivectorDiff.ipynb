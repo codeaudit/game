{
 "cells": [
  {
   "cell_type": "code",
   "execution_count": 158,
   "metadata": {},
   "outputs": [
    {
     "name": "stdout",
     "output_type": "stream",
     "text": [
      "Populating the interactive namespace from numpy and matplotlib\n"
     ]
    }
   ],
   "source": [
    "import sys\n",
    "sys.path.append('../build/')\n",
    "%pylab inline\n",
    "np.set_printoptions(precision=4, suppress=True)\n",
    "from motor_estimation import MotorEstimationSolver\n",
    "import pandas as pd\n",
    "\n",
    "import versor as vsr"
   ]
  },
  {
   "cell_type": "code",
   "execution_count": 1709,
   "metadata": {},
   "outputs": [],
   "source": [
    "def gradi(A, B, M):\n",
    "    gi = np.zeros((6,1))\n",
    "    MAM = A.spin(M)\n",
    "    gi[0] = (MAM[0] * B[1] - MAM[1] * B[0]) * 2\n",
    "    gi[1] = (MAM[0] * B[2] - MAM[2] * B[0]) * 2\n",
    "    gi[2] = (MAM[1] * B[2] - MAM[2] * B[1]) * 2\n",
    "    gi[3] = (-MAM[0] + B[0]) * 2\n",
    "    gi[4] = (-MAM[1] + B[1]) * 2\n",
    "    gi[5] = (-MAM[2] + B[2]) * 2\n",
    "    return gi"
   ]
  },
  {
   "cell_type": "code",
   "execution_count": 1710,
   "metadata": {
    "collapsed": true
   },
   "outputs": [],
   "source": [
    "def grad(points_a, points_b, mot):\n",
    "    g = np.zeros((6,1))\n",
    "    for A, B in zip(points_a, points_b):\n",
    "        g += gradi(A,B,mot)\n",
    "    return g"
   ]
  },
  {
   "cell_type": "code",
   "execution_count": 1823,
   "metadata": {
    "collapsed": true
   },
   "outputs": [],
   "source": [
    "def Hessi(A, B, M):\n",
    "    H = np.zeros((6,6))\n",
    "    \n",
    "    MAM = A.spin(M)\n",
    "    \n",
    "    a0,a1,a2,a3,a4 = np.array(MAM)\n",
    "    b0,b1,b2,b3,b4 = np.array(B)\n",
    "    \n",
    "    H[0,0] = 4.0 * a1 * b1 + 4.0 * a0 * b0\n",
    "    H[0,1] = 2.0 * a1 * b2 + 2.0 * a2 * b1\n",
    "    H[0,2] = -2.0 * a0 * b2 - 2.0 * a2 * b0\n",
    "    H[0,3] = -2.0 * b1 - 2.0 * a1\n",
    "    H[0,4] = 2.0 * b0 + 2.0 * a0\n",
    "    H[1,0] = H[0,1]\n",
    "    H[2,0] = H[0,2]\n",
    "    H[3,0] = H[0,3]\n",
    "    H[4,0] = H[0,4]\n",
    "\n",
    "    \n",
    "    H[1,1] = 4.0 * a2 * b2 + 4.0 * a0 * b0\n",
    "    H[1,2] = 2.0 * a0 * b1 + 2.0 * a1 * b0\n",
    "    H[1,3] = -2.0 * b2 - 2.0 * a2\n",
    "    H[1,5] = 2.0 * b0 + 2.0 * a0\n",
    "    H[2,1] = H[1,2]\n",
    "    H[3,1] = H[1,3]\n",
    "    H[5,1] = H[1,5]\n",
    "    \n",
    "    H[2,2] = 4.0 * a2 * b2 + 4.0 * a1 * b1\n",
    "    H[2,4] = -2.0 * b2 - 2.0 * a2\n",
    "    H[2,5] = 2.0 * b1 + 2.0 * a1\n",
    "    H[4,2] = H[2,4]\n",
    "    H[5,2] = H[2,5]\n",
    "\n",
    "    H[3,3] = 4.0\n",
    "    H[4,4] = 4.0\n",
    "    H[5,5] = 4.0\n",
    "    \n",
    "    return H"
   ]
  },
  {
   "cell_type": "code",
   "execution_count": null,
   "metadata": {
    "collapsed": true
   },
   "outputs": [],
   "source": []
  },
  {
   "cell_type": "code",
   "execution_count": 1827,
   "metadata": {
    "collapsed": true
   },
   "outputs": [],
   "source": [
    "def Hess(points_a, points_b, mot):\n",
    "    H = np.zeros((6,6))\n",
    "    for A, B in zip(points_a, points_b):\n",
    "        H += Hessi(A,B,mot)\n",
    "    return H"
   ]
  },
  {
   "cell_type": "code",
   "execution_count": 1828,
   "metadata": {},
   "outputs": [],
   "source": [
    "def resi(A,B,M):\n",
    "    return np.array(A.spin(M) - B)[:3].reshape(3,1)"
   ]
  },
  {
   "cell_type": "code",
   "execution_count": 1829,
   "metadata": {},
   "outputs": [],
   "source": [
    "def res(points_a, points_b, mot):\n",
    "    r = np.zeros((3,1))\n",
    "    for A, B in zip(points_a, points_b):\n",
    "        r += np.array(A.spin(mot) - B)[:3].reshape(3,1)\n",
    "    return r"
   ]
  },
  {
   "cell_type": "code",
   "execution_count": 1830,
   "metadata": {
    "collapsed": true
   },
   "outputs": [],
   "source": [
    "def jaci2(a, mot):\n",
    "    j = np.zeros((3,6))\n",
    "    a = a.spin(mot)\n",
    "    \n",
    "    j[0,0] = -2 * a[1]\n",
    "    j[1,0] = 2 * a[0]\n",
    "    \n",
    "    j[0,1] = -2 * a[2]\n",
    "    j[2,1] =  2 * a[0]\n",
    "    \n",
    "    j[1,2] = -2 * a[2]\n",
    "    j[2,2] = 2 * a[1]\n",
    "    \n",
    "    j[0,3] = 2\n",
    "    j[1,4] = 2\n",
    "    j[2,5] = 2\n",
    "     \n",
    "    return j"
   ]
  },
  {
   "cell_type": "code",
   "execution_count": 1831,
   "metadata": {
    "collapsed": true
   },
   "outputs": [],
   "source": [
    "def jaci(a, mot):\n",
    "    j = np.zeros((3,6))\n",
    "    for i in range(6):\n",
    "        dll = vsr.Dll(0.0, 0.0, 0.0, 0.0, 0.0, 0.0)\n",
    "        dll[i] = 1.0\n",
    "        j[:,i] = -2.0 * np.array(dll.comm(a.spin(mot)))[:3]\n",
    "    return j"
   ]
  },
  {
   "cell_type": "code",
   "execution_count": 2047,
   "metadata": {},
   "outputs": [
    {
     "name": "stdout",
     "output_type": "stream",
     "text": [
      "[[ 60.3397  25.1148 -11.0897 -19.1137  17.5819   0.    ]\n",
      " [ 25.1148  64.7051  -2.9525 -20.9759   0.      17.5819]\n",
      " [-11.0897  -2.9525  80.3816   0.     -20.9759  19.1137]\n",
      " [-19.1137 -20.9759   0.      40.       0.       0.    ]\n",
      " [ 17.5819   0.     -20.9759   0.      40.       0.    ]\n",
      " [  0.      17.5819  19.1137   0.       0.      40.    ]]\n"
     ]
    }
   ],
   "source": [
    "print(Hess(points_a, points_b, m0))"
   ]
  },
  {
   "cell_type": "code",
   "execution_count": 2048,
   "metadata": {},
   "outputs": [
    {
     "name": "stdout",
     "output_type": "stream",
     "text": [
      "[[ 60.3397  25.1148 -11.0897 -19.1137  17.5819   0.    ]\n",
      " [ 25.1148  64.7051  -2.9525 -20.9759   0.      17.5819]\n",
      " [-11.0897  -2.9525  80.3816   0.     -20.9759  19.1137]\n",
      " [-19.1137 -20.9759   0.      40.       0.       0.    ]\n",
      " [ 17.5819   0.     -20.9759   0.      40.       0.    ]\n",
      " [  0.      17.5819  19.1137   0.       0.      40.    ]]\n"
     ]
    }
   ],
   "source": [
    "J = np.array([jaci2(a, m0) for a in points_a]).reshape(-1,6)\n",
    "print(np.dot(J.T,J))"
   ]
  },
  {
   "cell_type": "code",
   "execution_count": 1950,
   "metadata": {
    "collapsed": true
   },
   "outputs": [],
   "source": [
    "def CayleySelig(B,M):\n",
    "    Rp = vsr.Mot(1.0, B[0], B[1], B[2], 0.0, 0.0, 0.0, 0.0)\n",
    "    Rn = vsr.Mot(1.0, -B[0], -B[1], -B[2], 0.0, 0.0, 0.0, 0.0)\n",
    "    Rninv = Rn.inv()\n",
    "    eps = vsr.Mot(0,0,0,0,0,0,0,-1)\n",
    "    b = vsr.Mot(0.0, B[5], -B[4], B[3], 0.0, 0.0, 0.0, 0.0)\n",
    "    return (Rp * Rninv + eps * Rninv * b * Rninv * 2) * M\n",
    "\n",
    "def oexp(B,M):\n",
    "    n = np.sqrt(1 + B[0] * B[0] + B[1] * B[1] + B[2] * B[2])\n",
    "    s = B[0] * B[5] - B[1] * B[4] + B[2] * B[3]\n",
    "    m = vsr.Mot(1.0, B[0], B[1], B[2], B[3], B[4], B[5], s) * (1.0 / n)\n",
    "    return m * M\n",
    "\n",
    "def CayleyLi(B,M):\n",
    "    B_ = vsr.Mot(0.0, B[0], B[1], B[2], B[3], B[4], B[5], 0.0)\n",
    "    BB = B_ * B_\n",
    "    Rp = vsr.Mot(1.0, B[0], B[1], B[2], B[3], B[4], B[5], 0.0)\n",
    "    R0 = vsr.Mot(1.0 - BB[0], 0.0, 0.0, 0.0, 0.0, 0.0, 0.0, 0.0)\n",
    "    R4 = vsr.Mot(0.0, 0.0, 0.0, 0.0, 0.0, 0.0, 0.0, BB[7])\n",
    "    Rn = R0 + R4\n",
    "    Rden = R0 * R0 \n",
    "    return (Rp * Rp * Rn * Rden.inv()) * M\n",
    "\n",
    "def retr(B, M):\n",
    "    B = vsr.Dll(*B)\n",
    "    return (B * M + M).retract()\n",
    "\n",
    "def exp(B, M):\n",
    "    return vsr.Dll(*B).exp() * M\n"
   ]
  },
  {
   "cell_type": "code",
   "execution_count": 2055,
   "metadata": {},
   "outputs": [],
   "source": [
    "def update_n(points_a, points_b, mot, plus):\n",
    "    H = Hess(points_a, points_b, mot)\n",
    "    g = grad(points_a, points_b, mot)\n",
    "    B = -np.linalg.solve(H,g)\n",
    "#     print(B)\n",
    "    \n",
    "    # line search\n",
    "    alpha = 1.0\n",
    "#     beta = 0.01\n",
    "#     cost0 = costn(points_a, points_b, mot)\n",
    "#     while costn(points_a, points_b, plus(alpha * B, mot)) > cost0 + alpha * beta * np.inner(g, B)[0][0] :\n",
    "#         alpha *= 0.5\n",
    "#         if alpha < 1e-3:\n",
    "#             break\n",
    "    \n",
    "    mot = plus(alpha * B, mot)\n",
    "    \n",
    "    grad_norm = np.linalg.norm(g)\n",
    "    return mot, cost(points_a, points_b, mot), grad_norm"
   ]
  },
  {
   "cell_type": "code",
   "execution_count": 2056,
   "metadata": {
    "collapsed": true
   },
   "outputs": [],
   "source": [
    "def cost(points_a, points_b, mot):\n",
    "    r = res(points_a, points_b, mot)\n",
    "    return np.dot(r.T,r)[0][0] * 0.5"
   ]
  },
  {
   "cell_type": "code",
   "execution_count": 2057,
   "metadata": {
    "collapsed": true
   },
   "outputs": [],
   "source": [
    "def costn(points_a, points_b, mot):\n",
    "    return np.sum([(a.spin(mot) <= b) * -1.0 for a, b in zip(points_a, points_b)])"
   ]
  },
  {
   "cell_type": "code",
   "execution_count": 2058,
   "metadata": {},
   "outputs": [
    {
     "name": "stdout",
     "output_type": "stream",
     "text": [
      "16.7573502569\n",
      "9.18361814585\n"
     ]
    }
   ],
   "source": [
    "print(cost(points_a, points_b, mstart))\n",
    "print(costn(points_a, points_b, mstart))"
   ]
  },
  {
   "cell_type": "code",
   "execution_count": 2059,
   "metadata": {},
   "outputs": [],
   "source": [
    "def update_sd(points_a, points_b, mot, plus=oexp):\n",
    "    g = grad(points_a, points_b, mot)\n",
    "    B = g * -1.0\n",
    "    # line search\n",
    "    alpha = 1.0\n",
    "    beta = 0.1\n",
    "    cost0 = cost(points_a, points_b, mot)\n",
    "    while cost(points_a, points_b, plus(alpha * B, mot)) > cost0 + alpha * beta * np.inner(g, B)[0][0] :\n",
    "        alpha *= 0.5\n",
    "        if alpha < 1e-3:\n",
    "            break\n",
    "    \n",
    "    mot = plus(alpha * B, mot)\n",
    "    \n",
    "    grad_norm = np.linalg.norm(g)\n",
    "    return mot, cost(points_a, points_b, mot), grad_norm"
   ]
  },
  {
   "cell_type": "code",
   "execution_count": 2060,
   "metadata": {},
   "outputs": [],
   "source": [
    "def update_gn(points_a, points_b, mot, plus=oexp):\n",
    "    J = np.array([jaci2(a, mot) for a in points_a]).reshape(-1,6)\n",
    "    r = np.array([resi(a,b,mot) for a,b in zip(points_a, points_b)]).reshape(-1,1)    \n",
    "    g = np.dot(J.T,r)\n",
    "    H = np.dot(J.T,J)\n",
    "    B = np.linalg.solve(H,g)\n",
    "            \n",
    "    # line search\n",
    "    alpha = 1.0\n",
    "#     beta = 0.01\n",
    "#     cost0 = cost(points_a, points_b, mot)\n",
    "#     while cost(points_a, points_b, plus(alpha * B, mot)) > cost0 + alpha * beta * np.inner(g, B)[0][0] :\n",
    "#         alpha *= 0.5\n",
    "    \n",
    "#     print('alpha: {}'.format(alpha))\n",
    "    \n",
    "    mot = plus(alpha * B, mot)\n",
    "    grad_norm = np.linalg.norm(g)\n",
    "    return mot, cost(points_a, points_b, mot), grad_norm"
   ]
  },
  {
   "cell_type": "code",
   "execution_count": 2085,
   "metadata": {
    "collapsed": true
   },
   "outputs": [],
   "source": [
    "def create_motor(d_lims=(0, 1), th_lims=(0, np.pi/2)):\n",
    "    translator = (vsr.Vec(*np.random.random(3)).unit()\n",
    "                  * np.random.uniform(*d_lims)).trs()\n",
    "    rotator = vsr.Rot(vsr.Biv(*np.random.uniform(-1, 1, 3)).unit()\n",
    "                      * np.random.uniform(*th_lims) * -0.5)\n",
    "    motor = translator * rotator\n",
    "    return motor"
   ]
  },
  {
   "cell_type": "code",
   "execution_count": 2086,
   "metadata": {
    "collapsed": true
   },
   "outputs": [],
   "source": [
    "n_points=10\n",
    "\n",
    "m0 = create_motor()\n",
    "points_a = [vsr.Vec(*np.random.normal(0.0, 0.8, 3)).null() for i in range(n_points)]\n",
    "points_b = [point.spin(m0) for point in points_a]\n",
    "\n",
    "mstart = create_motor()"
   ]
  },
  {
   "cell_type": "code",
   "execution_count": 2087,
   "metadata": {},
   "outputs": [
    {
     "name": "stdout",
     "output_type": "stream",
     "text": [
      "Mot: [ 1 8.1e-06 -3.7e-05 -4.5e-05 3.6e-05 -1.4e-05 -1.2e-05 -2.2e-09 ]\n",
      "Mot: [ 0.76 -0.45 -0.38 -0.28 -0.11 -0.071 -0.16 0.099 ]\n"
     ]
    },
    {
     "data": {
      "image/png": "[encoded data removed]",
      "text/plain": [
       "<matplotlib.figure.Figure at 0x7f9a04e76518>"
      ]
     },
     "metadata": {},
     "output_type": "display_data"
    }
   ],
   "source": [
    "gnorms = []\n",
    "costs = []\n",
    "# plus = CayleySelig\n",
    "plus = oexp\n",
    "m, c, gnorm = update_sd(points_a, points_b, mstart,plus)\n",
    "costs.append(c)\n",
    "gnorms.append(gnorm)\n",
    "# for i in range(100):\n",
    "while c > 1e-6:\n",
    "    m, c, gnorm = update_sd(points_a, points_b, m, plus)\n",
    "    costs.append(c)\n",
    "    gnorms.append(gnorm)\n",
    "semilogy(costs)\n",
    "semilogy(gnorms)\n",
    "print(m0.rev() * m)\n",
    "print(m)"
   ]
  },
  {
   "cell_type": "code",
   "execution_count": 2088,
   "metadata": {},
   "outputs": [
    {
     "name": "stdout",
     "output_type": "stream",
     "text": [
      "Mot: [ 1 6.9e-17 -4.2e-17 -5.6e-17 1.3e-16 2.1e-16 4.9e-17 -2.8e-17 ]\n",
      "Mot: [ 0.76 -0.45 -0.38 -0.28 -0.11 -0.071 -0.16 0.099 ]\n"
     ]
    },
    {
     "data": {
      "image/png": "[encoded data removed]",
      "text/plain": [
       "<matplotlib.figure.Figure at 0x7f9a0734cc18>"
      ]
     },
     "metadata": {},
     "output_type": "display_data"
    }
   ],
   "source": [
    "gnorms = []\n",
    "costs = []\n",
    "plus = oexp\n",
    "m, c, gnorm = update_gn(points_a, points_b, mstart,plus)\n",
    "costs.append(c)\n",
    "gnorms.append(gnorm)\n",
    "# for i in range(10):\n",
    "while gnorm > 1e-6:\n",
    "    m, c, gnorm = update_gn(points_a, points_b, m, plus)\n",
    "\n",
    "    costs.append(c)\n",
    "    gnorms.append(gnorm)\n",
    "semilogy(costs)\n",
    "semilogy(gnorms)\n",
    "print(m0.rev() * m)\n",
    "print(m)"
   ]
  },
  {
   "cell_type": "code",
   "execution_count": 2105,
   "metadata": {},
   "outputs": [
    {
     "name": "stdout",
     "output_type": "stream",
     "text": [
      "119.070257026\n",
      "Mot: [ 2.6e-08 0.52 -0.5 0.69 0.069 0.12 -0.21 -3.9e-05 ]\n",
      "Mot: [ -0.25 0.39 -0.64 0.61 83 -14 -0.4 -1.6e+02 ]\n"
     ]
    },
    {
     "data": {
      "image/png": "[encoded data removed]",
      "text/plain": [
       "<matplotlib.figure.Figure at 0x7f9a069140b8>"
      ]
     },
     "metadata": {},
     "output_type": "display_data"
    }
   ],
   "source": [
    "n_points=10\n",
    "\n",
    "m0 = create_motor(d_lims=(0,1000), th_lims=(0,np.pi/2))\n",
    "points_a = [vsr.Vec(*np.random.normal(0.0, 0.8, 3)).null() for i in range(n_points)]\n",
    "points_b = [point.spin(m0) for point in points_a]\n",
    "\n",
    "mstart = create_motor(th_lims=(0,np.pi/2))\n",
    "costs = []\n",
    "gnorms = []\n",
    "plus = exp \n",
    "\n",
    "\n",
    "m, c, gnorm = update_n(points_a, points_b, mstart, plus)\n",
    "costs.append(c)\n",
    "gnorms.append(gnorm)\n",
    "# while gnorm > 1e-6:\n",
    "for i in range(10):\n",
    "    m, c, gnorm = update_n(points_a, points_b, m, plus)\n",
    "    costs.append(c)\n",
    "    gnorms.append(gnorm)\n",
    "semilogy(gnorms)\n",
    "semilogy(costs)\n",
    "\n",
    "print(np.rad2deg(np.arccos((mstart.rev()*m)[0])))\n",
    "\n",
    "print(m0.rev() * m)\n",
    "print(m)"
   ]
  },
  {
   "cell_type": "code",
   "execution_count": 2019,
   "metadata": {},
   "outputs": [
    {
     "name": "stdout",
     "output_type": "stream",
     "text": [
      "Mot: [ 1 -6.8e-14 -2.4e-13 5.5e-13 -1.1e-13 3.2e-13 -5.8e-13 5.6e-17 ]\n",
      "Mot: [ 0.61 -0.2 0.66 -0.39 0.13 -0.25 -0.18 0.25 ]\n"
     ]
    },
    {
     "data": {
      "text/plain": [
       "[<matplotlib.lines.Line2D at 0x7f9a0768e6d8>]"
      ]
     },
     "execution_count": 2019,
     "metadata": {},
     "output_type": "execute_result"
    },
    {
     "data": {
      "image/png": "[encoded data removed]",
      "text/plain": [
       "<matplotlib.figure.Figure at 0x7f9a05dd73c8>"
      ]
     },
     "metadata": {},
     "output_type": "display_data"
    }
   ],
   "source": [
    "mes = MotorEstimationSolver(mstart)\n",
    "for A, B in zip(points_a, points_b):\n",
    "    mes.add_point_correspondences_residual_block(A,B)\n",
    "mes.set_parameterization('BIVECTOR_GENERATOR')\n",
    "mes.linear_solver_type = 'DENSE_QR'\n",
    "# mes.minimizer_type = 'LINE_SEARCH'\n",
    "# mes.line_search_direction_type = 'STEEPEST_DESCENT'\n",
    "# mes.line_search_direction_type = 'NONLINEAR_CONJUGATE_GRADIENT'\n",
    "# mes.nonlinear_conjugate_gradient_type = 'HESTENES_STIEFEL'\n",
    "# mes.line_search_type = 'ARMIJO'\n",
    "# mes.max_num_iterations=20\n",
    "(estimated_motor, summary, _) = mes.solve()\n",
    "print(estimated_motor.rev() * m0)\n",
    "\n",
    "print(estimated_motor)\n",
    "# print(summary['full_report'])\n",
    "semilogy(pd.DataFrame(summary['iterations'])['cost'])"
   ]
  },
  {
   "cell_type": "code",
   "execution_count": null,
   "metadata": {
    "collapsed": true
   },
   "outputs": [],
   "source": []
  },
  {
   "cell_type": "code",
   "execution_count": null,
   "metadata": {
    "collapsed": true
   },
   "outputs": [],
   "source": []
  },
  {
   "cell_type": "code",
   "execution_count": null,
   "metadata": {
    "collapsed": true
   },
   "outputs": [],
   "source": []
  },
  {
   "cell_type": "code",
   "execution_count": null,
   "metadata": {
    "collapsed": true
   },
   "outputs": [],
   "source": []
  },
  {
   "cell_type": "code",
   "execution_count": null,
   "metadata": {
    "collapsed": true
   },
   "outputs": [],
   "source": []
  },
  {
   "cell_type": "code",
   "execution_count": null,
   "metadata": {
    "collapsed": true
   },
   "outputs": [],
   "source": []
  },
  {
   "cell_type": "code",
   "execution_count": null,
   "metadata": {
    "collapsed": true
   },
   "outputs": [],
   "source": []
  }
 ],
 "metadata": {
  "kernelspec": {
   "display_name": "Python 3",
   "language": "python",
   "name": "python3"
  },
  "language_info": {
   "codemirror_mode": {
    "name": "ipython",
    "version": 3
   },
   "file_extension": ".py",
   "mimetype": "text/x-python",
   "name": "python",
   "nbconvert_exporter": "python",
   "pygments_lexer": "ipython3",
   "version": "3.6.2"
  }
 },
 "nbformat": 4,
 "nbformat_minor": 2
}
