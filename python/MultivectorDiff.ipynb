{
 "cells": [
  {
   "cell_type": "code",
   "execution_count": 145,
   "metadata": {},
   "outputs": [
    {
     "name": "stdout",
     "output_type": "stream",
     "text": [
      "Populating the interactive namespace from numpy and matplotlib\n"
     ]
    },
    {
     "name": "stderr",
     "output_type": "stream",
     "text": [
      "/usr/lib/python3.6/site-packages/IPython/core/magics/pylab.py:161: UserWarning: pylab import has clobbered these variables: ['exp']\n",
      "`%matplotlib` prevents importing * from pylab and numpy\n",
      "  \"\\n`%matplotlib` prevents importing * from pylab and numpy\"\n"
     ]
    }
   ],
   "source": [
    "import sys\n",
    "sys.path.append('../build/')\n",
    "%pylab inline\n",
    "np.set_printoptions(precision=4, suppress=True)\n",
    "from motor_estimation import MotorEstimationSolver\n",
    "import pandas as pd\n",
    "import linear_solver\n",
    "import versor as vsr"
   ]
  },
  {
   "cell_type": "code",
   "execution_count": 213,
   "metadata": {},
   "outputs": [],
   "source": [
    "_epsilon = sqrt(finfo(float).eps)"
   ]
  },
  {
   "cell_type": "code",
   "execution_count": 2,
   "metadata": {},
   "outputs": [],
   "source": [
    "def gradi(A, B, M):\n",
    "    gi = np.zeros((6,1))\n",
    "    MAM = A.spin(M)\n",
    "    gi[0] = (MAM[0] * B[1] - MAM[1] * B[0]) * 2\n",
    "    gi[1] = (MAM[0] * B[2] - MAM[2] * B[0]) * 2\n",
    "    gi[2] = (MAM[1] * B[2] - MAM[2] * B[1]) * 2\n",
    "    gi[3] = (-MAM[0] + B[0]) * 2\n",
    "    gi[4] = (-MAM[1] + B[1]) * 2\n",
    "    gi[5] = (-MAM[2] + B[2]) * 2\n",
    "    return gi"
   ]
  },
  {
   "cell_type": "code",
   "execution_count": 3,
   "metadata": {
    "collapsed": true
   },
   "outputs": [],
   "source": [
    "def grad(points_a, points_b, mot):\n",
    "    g = np.zeros((6,1))\n",
    "    for A, B in zip(points_a, points_b):\n",
    "        g += gradi(A,B,mot)\n",
    "    return g"
   ]
  },
  {
   "cell_type": "code",
   "execution_count": 4,
   "metadata": {
    "collapsed": true
   },
   "outputs": [],
   "source": [
    "def Hessi(A, B, M):\n",
    "    H = np.zeros((6,6))\n",
    "    \n",
    "    MAM = A.spin(M)\n",
    "    \n",
    "    a0,a1,a2,a3,a4 = np.array(MAM)\n",
    "    b0,b1,b2,b3,b4 = np.array(B)\n",
    "    \n",
    "    H[0,0] = 4.0 * a1 * b1 + 4.0 * a0 * b0\n",
    "    H[0,1] = 2.0 * a1 * b2 + 2.0 * a2 * b1\n",
    "    H[0,2] = -2.0 * a0 * b2 - 2.0 * a2 * b0\n",
    "    H[0,3] = -2.0 * b1 - 2.0 * a1\n",
    "    H[0,4] = 2.0 * b0 + 2.0 * a0\n",
    "    H[1,0] = H[0,1]\n",
    "    H[2,0] = H[0,2]\n",
    "    H[3,0] = H[0,3]\n",
    "    H[4,0] = H[0,4]\n",
    "\n",
    "    \n",
    "    H[1,1] = 4.0 * a2 * b2 + 4.0 * a0 * b0\n",
    "    H[1,2] = 2.0 * a0 * b1 + 2.0 * a1 * b0\n",
    "    H[1,3] = -2.0 * b2 - 2.0 * a2\n",
    "    H[1,5] = 2.0 * b0 + 2.0 * a0\n",
    "    H[2,1] = H[1,2]\n",
    "    H[3,1] = H[1,3]\n",
    "    H[5,1] = H[1,5]\n",
    "    \n",
    "    H[2,2] = 4.0 * a2 * b2 + 4.0 * a1 * b1\n",
    "    H[2,4] = -2.0 * b2 - 2.0 * a2\n",
    "    H[2,5] = 2.0 * b1 + 2.0 * a1\n",
    "    H[4,2] = H[2,4]\n",
    "    H[5,2] = H[2,5]\n",
    "\n",
    "    H[3,3] = 4.0\n",
    "    H[4,4] = 4.0\n",
    "    H[5,5] = 4.0\n",
    "    \n",
    "    return H"
   ]
  },
  {
   "cell_type": "code",
   "execution_count": null,
   "metadata": {
    "collapsed": true
   },
   "outputs": [],
   "source": []
  },
  {
   "cell_type": "code",
   "execution_count": 5,
   "metadata": {
    "collapsed": true
   },
   "outputs": [],
   "source": [
    "def Hess(points_a, points_b, mot):\n",
    "    H = np.zeros((6,6))\n",
    "    for A, B in zip(points_a, points_b):\n",
    "        H += Hessi(A,B,mot)\n",
    "    return H"
   ]
  },
  {
   "cell_type": "code",
   "execution_count": 6,
   "metadata": {},
   "outputs": [],
   "source": [
    "def resi(A,B,M):\n",
    "    return np.array(A.spin(M) - B)[:3].reshape(3,1)"
   ]
  },
  {
   "cell_type": "code",
   "execution_count": 7,
   "metadata": {},
   "outputs": [],
   "source": [
    "def res(points_a, points_b, mot):\n",
    "    r = np.zeros((3,1))\n",
    "    for A, B in zip(points_a, points_b):\n",
    "        r += np.array(A.spin(mot) - B)[:3].reshape(3,1)\n",
    "    return r"
   ]
  },
  {
   "cell_type": "code",
   "execution_count": 8,
   "metadata": {
    "collapsed": true
   },
   "outputs": [],
   "source": [
    "def jaci2(a, mot):\n",
    "    j = np.zeros((3,6))\n",
    "    a = a.spin(mot)\n",
    "    \n",
    "    j[0,0] = -2 * a[1]\n",
    "    j[1,0] = 2 * a[0]\n",
    "    \n",
    "    j[0,1] = -2 * a[2]\n",
    "    j[2,1] =  2 * a[0]\n",
    "    \n",
    "    j[1,2] = -2 * a[2]\n",
    "    j[2,2] = 2 * a[1]\n",
    "    \n",
    "    j[0,3] = 2\n",
    "    j[1,4] = 2\n",
    "    j[2,5] = 2\n",
    "     \n",
    "    return j"
   ]
  },
  {
   "cell_type": "code",
   "execution_count": 9,
   "metadata": {
    "collapsed": true
   },
   "outputs": [],
   "source": [
    "def jaci(a, mot):\n",
    "    j = np.zeros((3,6))\n",
    "    for i in range(6):\n",
    "        dll = vsr.Dll(0.0, 0.0, 0.0, 0.0, 0.0, 0.0)\n",
    "        dll[i] = 1.0\n",
    "        j[:,i] = -2.0 * np.array(dll.comm(a.spin(mot)))[:3]\n",
    "    return j"
   ]
  },
  {
   "cell_type": "code",
   "execution_count": 273,
   "metadata": {
    "collapsed": true
   },
   "outputs": [],
   "source": [
    "def CayleySelig(B,M):\n",
    "    Rp = vsr.Mot(1.0, B[0], B[1], B[2], 0.0, 0.0, 0.0, 0.0)\n",
    "    Rn = vsr.Mot(1.0, -B[0], -B[1], -B[2], 0.0, 0.0, 0.0, 0.0)\n",
    "    Rninv = Rn.inv()\n",
    "    eps = vsr.Mot(0,0,0,0,0,0,0,-1)\n",
    "    b = vsr.Mot(0.0, B[5], -B[4], B[3], 0.0, 0.0, 0.0, 0.0)\n",
    "    return (Rp * Rninv + eps * Rninv * b * Rninv * 2) * M\n",
    "\n",
    "def oexp(B,M):\n",
    "    n = np.sqrt(1 + B[0] * B[0] + B[1] * B[1] + B[2] * B[2])\n",
    "    s = B[0] * B[5] - B[1] * B[4] + B[2] * B[3]\n",
    "    m = vsr.Mot(1.0, B[0], B[1], B[2], B[3], B[4], B[5], s) * (1.0 / n)\n",
    "    return m * M\n",
    "\n",
    "def CayleyLi(B,M):\n",
    "    B_ = vsr.Mot(0.0, B[0], B[1], B[2], B[3], B[4], B[5], 0.0)\n",
    "    BB = B_ * B_\n",
    "    Rp = vsr.Mot(1.0, B[0], B[1], B[2], B[3], B[4], B[5], 0.0)\n",
    "    R0 = vsr.Mot(1.0 - BB[0], 0.0, 0.0, 0.0, 0.0, 0.0, 0.0, 0.0)\n",
    "    R4 = vsr.Mot(0.0, 0.0, 0.0, 0.0, 0.0, 0.0, 0.0, BB[7])\n",
    "    Rn = R0 + R4\n",
    "    Rden = R0 * R0 \n",
    "    return (Rp * Rp * Rn * Rden.inv()) * M\n",
    "\n",
    "def retr(B, M):\n",
    "    B = vsr.Dll(*B)\n",
    "    return (B * M + M).retract()\n",
    "\n",
    "def expm(B, M):\n",
    "    return vsr.Dll(*B).exp() * M\n"
   ]
  },
  {
   "cell_type": "code",
   "execution_count": 437,
   "metadata": {},
   "outputs": [],
   "source": [
    "def update_n(points_a, points_b, mot, plus):\n",
    "    H = Hess(points_a, points_b, mot)    \n",
    "    g = grad(points_a, points_b, mot)\n",
    "\n",
    "    B = -linear_solver.solve(H,g)    \n",
    "    alpha = 0.01\n",
    "    beta = 0.9\n",
    "    eps = sqrt(finfo(float).eps)\n",
    "    stp = 1.0\n",
    "    len_p = norm(B)\n",
    "\n",
    "    derphi = np.inner(g, B)[0][0]\n",
    "    cost0 = costn(points_a, points_b, mot)\n",
    "    \n",
    "    while costn(points_a, points_b, plus(stp * B, mot)) > cost0 + alpha * stp * derphi :\n",
    "        stp *= beta\n",
    "        if stp * len_p < eps:\n",
    "            break\n",
    "    \n",
    "    mot = plus(stp * B, mot)\n",
    "    \n",
    "    grad_norm = np.linalg.norm(g)\n",
    "    return mot, costn(points_a, points_b, mot), grad_norm"
   ]
  },
  {
   "cell_type": "code",
   "execution_count": 409,
   "metadata": {
    "collapsed": true
   },
   "outputs": [],
   "source": [
    "def cost(points_a, points_b, mot):\n",
    "    r = res(points_a, points_b, mot)\n",
    "    return np.dot(r.T,r)[0][0] * 0.5"
   ]
  },
  {
   "cell_type": "code",
   "execution_count": 410,
   "metadata": {
    "collapsed": true
   },
   "outputs": [],
   "source": [
    "def costn(points_a, points_b, mot):\n",
    "    return np.sum([(a.spin(mot) <= b) * -1.0 for a, b in zip(points_a, points_b)])"
   ]
  },
  {
   "cell_type": "code",
   "execution_count": 411,
   "metadata": {},
   "outputs": [
    {
     "name": "stdout",
     "output_type": "stream",
     "text": [
      "1.64891300982\n",
      "0.594731166774\n"
     ]
    }
   ],
   "source": [
    "print(cost(points_a, points_b, mstart))\n",
    "print(costn(points_a, points_b, mstart))"
   ]
  },
  {
   "cell_type": "code",
   "execution_count": 412,
   "metadata": {},
   "outputs": [],
   "source": [
    "def update_sd(points_a, points_b, mot, plus=oexp):\n",
    "    g = grad(points_a, points_b, mot)\n",
    "    B = g * -1.0\n",
    "    # line search\n",
    "    alpha = 0.001\n",
    "    beta = 0.9\n",
    "    stp = 1.0\n",
    "    eps = sqrt(finfo(float).eps)\n",
    "    len_p = norm(B)\n",
    "    \n",
    "    cost0 = cost(points_a, points_b, mot)\n",
    "    while cost(points_a, points_b, plus(stp * B, mot)) > cost0 + alpha * stp * np.inner(g, B)[0][0] :\n",
    "        stp *= beta\n",
    "        if stp * len_p < eps:\n",
    "            break\n",
    "    \n",
    "    mot = plus(stp * B, mot)\n",
    "    \n",
    "    grad_norm = np.linalg.norm(g)\n",
    "    return mot, cost(points_a, points_b, mot), grad_norm"
   ]
  },
  {
   "cell_type": "code",
   "execution_count": 436,
   "metadata": {},
   "outputs": [],
   "source": [
    "def update_gn(points_a, points_b, mot, plus=oexp):\n",
    "    J = np.array([jaci2(a, mot) for a in points_a]).reshape(-1,6)\n",
    "    r = np.array([resi(a,b,mot) for a,b in zip(points_a, points_b)]).reshape(-1,1)    \n",
    "    g = np.dot(J.T,r)\n",
    "    H = np.dot(J.T,J)\n",
    "\n",
    "    B = np.linalg.solve(H,g)   \n",
    "    \n",
    "    alpha = 0.0001\n",
    "    beta = 0.5\n",
    "    eps = sqrt(finfo(float).eps)\n",
    "    stp = 1.0\n",
    "    len_p = norm(B)\n",
    "\n",
    "    derphi = np.inner(g, B)[0][0]\n",
    "    cost0 = cost(points_a, points_b, mot)\n",
    "    while cost(points_a, points_b, plus(stp * B, mot)) > cost0 + alpha * stp * derphi :\n",
    "        stp *= beta\n",
    "        if stp * len_p < eps:\n",
    "            break\n",
    "    \n",
    "    \n",
    "    mot = plus(stp * B, mot)\n",
    "    grad_norm = np.linalg.norm(g)\n",
    "    return mot, cost(points_a, points_b, mot), grad_norm"
   ]
  },
  {
   "cell_type": "code",
   "execution_count": 414,
   "metadata": {
    "collapsed": true
   },
   "outputs": [],
   "source": [
    "def create_motor(d_lims=(0, 1), th_lims=(0, np.pi)):\n",
    "    translator = (vsr.Vec(*np.random.random(3)).unit()\n",
    "                  * np.random.uniform(*d_lims)).trs()\n",
    "    rotator = vsr.Rot(vsr.Biv(*np.random.uniform(-1, 1, 3)).unit()\n",
    "                      * np.random.uniform(*th_lims) * -0.5)\n",
    "    motor = translator * rotator\n",
    "    return motor"
   ]
  },
  {
   "cell_type": "code",
   "execution_count": 415,
   "metadata": {
    "collapsed": true
   },
   "outputs": [],
   "source": [
    "def create_rotor(th_lims=(0, np.pi/2)):\n",
    "    translator = vsr.Trs(1,0,0,0)\n",
    "    rotator = vsr.Rot(vsr.Biv(*np.random.uniform(-1, 1, 3)).unit()\n",
    "                      * np.random.uniform(*th_lims) * -0.5)\n",
    "    motor = translator * rotator\n",
    "    return motor"
   ]
  },
  {
   "cell_type": "code",
   "execution_count": 416,
   "metadata": {},
   "outputs": [
    {
     "data": {
      "text/plain": [
       "Mot: [ 0.75 -0.43 0.3 0.41 0 0 0 0 ]"
      ]
     },
     "execution_count": 416,
     "metadata": {},
     "output_type": "execute_result"
    }
   ],
   "source": [
    "create_rotor()"
   ]
  },
  {
   "cell_type": "code",
   "execution_count": 417,
   "metadata": {
    "collapsed": true
   },
   "outputs": [],
   "source": [
    "A = np.random.random((6,6))\n",
    "b = np.random.random((6,1))"
   ]
  },
  {
   "cell_type": "code",
   "execution_count": 418,
   "metadata": {},
   "outputs": [],
   "source": [
    "#%%timeit\n",
    "#c= linear_solver.solve(A,b)"
   ]
  },
  {
   "cell_type": "code",
   "execution_count": 419,
   "metadata": {},
   "outputs": [],
   "source": [
    "#%%timeit\n",
    "#c = np.linalg.solve(A,b)"
   ]
  },
  {
   "cell_type": "code",
   "execution_count": null,
   "metadata": {
    "collapsed": true
   },
   "outputs": [],
   "source": []
  },
  {
   "cell_type": "code",
   "execution_count": 420,
   "metadata": {
    "collapsed": true
   },
   "outputs": [],
   "source": [
    "n_points=10\n",
    "\n",
    "m0 = create_motor(th_lims=(0,np.pi/6))\n",
    "points_a = [vsr.Vec(*np.random.normal(0.0, 0.8, 3)).null() for i in range(n_points)]\n",
    "points_b = [point.spin(m0) for point in points_a]\n",
    "\n",
    "mstart = create_motor()"
   ]
  },
  {
   "cell_type": "code",
   "execution_count": 421,
   "metadata": {},
   "outputs": [
    {
     "name": "stdout",
     "output_type": "stream",
     "text": [
      "Mot: [ 1 -0.0029 -0.0046 0.00054 0.0077 -0.001 -0.00017 7.2e-09 ]\n",
      "Mot: [ 1 0.02 0.012 -0.017 -0.072 -0.25 -0.38 -0.0032 ]\n"
     ]
    },
    {
     "data": {
      "image/png": "[encoded data removed]",
      "text/plain": [
       "<matplotlib.figure.Figure at 0x7f10732d4da0>"
      ]
     },
     "metadata": {},
     "output_type": "display_data"
    }
   ],
   "source": [
    "gnorms = []\n",
    "costs = []\n",
    "# plus = CayleySelig\n",
    "plus = expm\n",
    "m, c, gnorm = update_sd(points_a, points_b, mstart,plus)\n",
    "costs.append(c)\n",
    "gnorms.append(gnorm)\n",
    "for i in range(100):\n",
    "# while c > 1e-6:\n",
    "    m, c, gnorm = update_sd(points_a, points_b, m, plus)\n",
    "    costs.append(c)\n",
    "    gnorms.append(gnorm)\n",
    "semilogy(costs)\n",
    "semilogy(gnorms)\n",
    "print(m0.rev() * m)\n",
    "print(m)"
   ]
  },
  {
   "cell_type": "code",
   "execution_count": 422,
   "metadata": {},
   "outputs": [
    {
     "name": "stdout",
     "output_type": "stream",
     "text": [
      "Mot: [ 1 -1.6e-05 4.2e-05 1e-05 0.0014 -0.00063 -0.0021 7.4e-08 ]\n",
      "Mot: [ 1 0.023 0.017 -0.018 -0.076 -0.25 -0.38 -0.003 ]\n"
     ]
    },
    {
     "data": {
      "image/png": "[encoded data removed]",
      "text/plain": [
       "<matplotlib.figure.Figure at 0x7f1073a2dd68>"
      ]
     },
     "metadata": {},
     "output_type": "display_data"
    }
   ],
   "source": [
    "gnorms = []\n",
    "costs = []\n",
    "plus = CayleyLi\n",
    "m, c, gnorm = update_gn(points_a, points_b, mstart,plus)\n",
    "costs.append(c)\n",
    "gnorms.append(gnorm)\n",
    "for i in range(10):\n",
    "# while gnorm > 1e-6:\n",
    "    m, c, gnorm = update_gn(points_a, points_b, m, plus)\n",
    "    costs.append(c)\n",
    "    gnorms.append(gnorm)\n",
    "semilogy(costs)\n",
    "semilogy(gnorms)\n",
    "print(m0.rev() * m)\n",
    "print(m)"
   ]
  },
  {
   "cell_type": "code",
   "execution_count": 463,
   "metadata": {},
   "outputs": [
    {
     "name": "stdout",
     "output_type": "stream",
     "text": [
      "Mot: [ -1 3.9e-07 -4.8e-07 2.8e-07 -1e-07 -8.5e-08 1.8e-07 7.8e-18 ]\n",
      "Mot: [ -0.98 -0.063 0.026 -0.17 0.023 -0.0001 0.05 0.0074 ]\n"
     ]
    },
    {
     "data": {
      "image/png": "[encoded data removed]",
      "text/plain": [
       "<matplotlib.figure.Figure at 0x7f1073a7f3c8>"
      ]
     },
     "metadata": {},
     "output_type": "display_data"
    }
   ],
   "source": [
    "n_points=10\n",
    "\n",
    "m0 = create_motor(th_lims=(0,np.pi/6))\n",
    "points_a = [vsr.Vec(*np.random.normal(0.0, 0.8, 3)).null() for i in range(n_points)]\n",
    "points_b = [point.spin(m0) for point in points_a]\n",
    "\n",
    "mstart = create_motor()\n",
    "\n",
    "costs = []\n",
    "gnorms = []\n",
    "plus = expm\n",
    "\n",
    "m, c, gnorm = update_n(points_a, points_b, mstart, plus)\n",
    "costs.append(c)\n",
    "gnorms.append(gnorm)\n",
    "# while gnorm > 1e-6:\n",
    "for i in range(10):\n",
    "    m, c, gnorm = update_n(points_a, points_b, m, plus)\n",
    "    costs.append(c)\n",
    "    gnorms.append(gnorm)\n",
    "semilogy(gnorms)\n",
    "semilogy(costs)\n",
    "print(m0.rev() * m)\n",
    "print(m)"
   ]
  },
  {
   "cell_type": "code",
   "execution_count": 435,
   "metadata": {},
   "outputs": [
    {
     "data": {
      "text/plain": [
       "26.970888169848109"
      ]
     },
     "execution_count": 435,
     "metadata": {},
     "output_type": "execute_result"
    }
   ],
   "source": [
    "costn(points_a, points_b, m)"
   ]
  },
  {
   "cell_type": "code",
   "execution_count": null,
   "metadata": {
    "collapsed": true
   },
   "outputs": [],
   "source": []
  },
  {
   "cell_type": "code",
   "execution_count": 428,
   "metadata": {},
   "outputs": [
    {
     "data": {
      "text/plain": [
       "Mot: [ 1 0 0 -2.2e-17 6.9e-18 0 0 0 ]"
      ]
     },
     "execution_count": 428,
     "metadata": {},
     "output_type": "execute_result"
    }
   ],
   "source": [
    "m * m.rev()"
   ]
  },
  {
   "cell_type": "code",
   "execution_count": 401,
   "metadata": {},
   "outputs": [
    {
     "name": "stdout",
     "output_type": "stream",
     "text": [
      "Mot: [ 1 -3.9e-16 -5.1e-16 8.6e-16 -5.4e-16 1e-15 -2.8e-16 -6.2e-17 ]\n",
      "Mot: [ 0.35 0.085 0.73 0.58 -0.02 -0.037 -0.12 0.016 ]\n"
     ]
    },
    {
     "data": {
      "text/plain": [
       "[<matplotlib.lines.Line2D at 0x7f1073630be0>]"
      ]
     },
     "execution_count": 401,
     "metadata": {},
     "output_type": "execute_result"
    },
    {
     "data": {
      "image/png": "[encoded data removed]",
      "text/plain": [
       "<matplotlib.figure.Figure at 0x7f1073ac8908>"
      ]
     },
     "metadata": {},
     "output_type": "display_data"
    }
   ],
   "source": [
    "mes = MotorEstimationSolver(mstart)\n",
    "for A, B in zip(points_a, points_b):\n",
    "    mes.add_point_correspondences_residual_block(A,B)\n",
    "# mes.set_parameterization('BIVECTOR_GENERATOR')\n",
    "mes.set_parameterization('OUTER_EXPONENTIAL')\n",
    "mes.linear_solver_type = 'DENSE_QR'\n",
    "# mes.minimizer_type = 'LINE_SEARCH'\n",
    "# mes.line_search_direction_type = 'STEEPEST_DESCENT'\n",
    "# mes.line_search_direction_type = 'NONLINEAR_CONJUGATE_GRADIENT'\n",
    "# mes.nonlinear_conjugate_gradient_type = 'HESTENES_STIEFEL'\n",
    "# mes.line_search_type = 'ARMIJO'\n",
    "# mes.max_num_iterations=20\n",
    "(estimated_motor, summary, _) = mes.solve()\n",
    "print(estimated_motor.rev() * m0)\n",
    "\n",
    "print(estimated_motor)\n",
    "# print(summary['full_report'])\n",
    "semilogy(pd.DataFrame(summary['iterations'])['cost'])"
   ]
  },
  {
   "cell_type": "code",
   "execution_count": null,
   "metadata": {
    "collapsed": true
   },
   "outputs": [],
   "source": []
  },
  {
   "cell_type": "code",
   "execution_count": null,
   "metadata": {
    "collapsed": true
   },
   "outputs": [],
   "source": []
  },
  {
   "cell_type": "code",
   "execution_count": null,
   "metadata": {
    "collapsed": true
   },
   "outputs": [],
   "source": []
  },
  {
   "cell_type": "code",
   "execution_count": null,
   "metadata": {
    "collapsed": true
   },
   "outputs": [],
   "source": []
  },
  {
   "cell_type": "code",
   "execution_count": null,
   "metadata": {
    "collapsed": true
   },
   "outputs": [],
   "source": []
  },
  {
   "cell_type": "code",
   "execution_count": null,
   "metadata": {
    "collapsed": true
   },
   "outputs": [],
   "source": []
  },
  {
   "cell_type": "code",
   "execution_count": null,
   "metadata": {
    "collapsed": true
   },
   "outputs": [],
   "source": []
  }
 ],
 "metadata": {
  "kernelspec": {
   "display_name": "Python 3",
   "language": "python",
   "name": "python3"
  },
  "language_info": {
   "codemirror_mode": {
    "name": "ipython",
    "version": 3
   },
   "file_extension": ".py",
   "mimetype": "text/x-python",
   "name": "python",
   "nbconvert_exporter": "python",
   "pygments_lexer": "ipython3",
   "version": "3.6.2"
  }
 },
 "nbformat": 4,
 "nbformat_minor": 2
}
