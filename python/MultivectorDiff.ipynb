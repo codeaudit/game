{
 "cells": [
  {
   "cell_type": "code",
   "execution_count": 1,
   "metadata": {},
   "outputs": [
    {
     "name": "stdout",
     "output_type": "stream",
     "text": [
      "Populating the interactive namespace from numpy and matplotlib\n"
     ]
    }
   ],
   "source": [
    "import sys\n",
    "sys.path.append('../build/')\n",
    "%pylab inline\n",
    "np.set_printoptions(precision=4, suppress=True)\n",
    "from motor_estimation import MotorEstimationSolver\n",
    "import pandas as pd\n",
    "import linear_solver\n",
    "import versor as vsr"
   ]
  },
  {
   "cell_type": "code",
   "execution_count": 2,
   "metadata": {
    "collapsed": true
   },
   "outputs": [],
   "source": [
    "_epsilon = sqrt(finfo(float).eps)"
   ]
  },
  {
   "cell_type": "code",
   "execution_count": 3,
   "metadata": {
    "collapsed": true
   },
   "outputs": [],
   "source": [
    "def gradi(A, B, M):\n",
    "    gi = np.zeros((6,1))\n",
    "    MAM = A.spin(M)\n",
    "    gi[0] = (MAM[0] * B[1] - MAM[1] * B[0]) * 2\n",
    "    gi[1] = (MAM[0] * B[2] - MAM[2] * B[0]) * 2\n",
    "    gi[2] = (MAM[1] * B[2] - MAM[2] * B[1]) * 2\n",
    "    gi[3] = (-MAM[0] + B[0]) * 2\n",
    "    gi[4] = (-MAM[1] + B[1]) * 2\n",
    "    gi[5] = (-MAM[2] + B[2]) * 2\n",
    "    return gi"
   ]
  },
  {
   "cell_type": "code",
   "execution_count": 4,
   "metadata": {
    "collapsed": true
   },
   "outputs": [],
   "source": [
    "def grad(points_a, points_b, mot):\n",
    "    g = np.zeros((6,1))\n",
    "    for A, B in zip(points_a, points_b):\n",
    "        g += gradi(A,B,mot)\n",
    "    return g"
   ]
  },
  {
   "cell_type": "code",
   "execution_count": 5,
   "metadata": {
    "collapsed": true
   },
   "outputs": [],
   "source": [
    "def Hessi(A, B, M):\n",
    "    H = np.zeros((6,6))\n",
    "    \n",
    "    MAM = A.spin(M)\n",
    "    \n",
    "    a0,a1,a2,a3,a4 = np.array(MAM)\n",
    "    b0,b1,b2,b3,b4 = np.array(B)\n",
    "    \n",
    "    H[0,0] = 4.0 * a1 * b1 + 4.0 * a0 * b0\n",
    "    H[0,1] = 2.0 * a1 * b2 + 2.0 * a2 * b1\n",
    "    H[0,2] = -2.0 * a0 * b2 - 2.0 * a2 * b0\n",
    "    H[0,3] = -2.0 * b1 - 2.0 * a1\n",
    "    H[0,4] = 2.0 * b0 + 2.0 * a0\n",
    "    H[1,0] = H[0,1]\n",
    "    H[2,0] = H[0,2]\n",
    "    H[3,0] = H[0,3]\n",
    "    H[4,0] = H[0,4]\n",
    "\n",
    "    \n",
    "    H[1,1] = 4.0 * a2 * b2 + 4.0 * a0 * b0\n",
    "    H[1,2] = 2.0 * a0 * b1 + 2.0 * a1 * b0\n",
    "    H[1,3] = -2.0 * b2 - 2.0 * a2\n",
    "    H[1,5] = 2.0 * b0 + 2.0 * a0\n",
    "    H[2,1] = H[1,2]\n",
    "    H[3,1] = H[1,3]\n",
    "    H[5,1] = H[1,5]\n",
    "    \n",
    "    H[2,2] = 4.0 * a2 * b2 + 4.0 * a1 * b1\n",
    "    H[2,4] = -2.0 * b2 - 2.0 * a2\n",
    "    H[2,5] = 2.0 * b1 + 2.0 * a1\n",
    "    H[4,2] = H[2,4]\n",
    "    H[5,2] = H[2,5]\n",
    "\n",
    "    H[3,3] = 4.0\n",
    "    H[4,4] = 4.0\n",
    "    H[5,5] = 4.0\n",
    "    \n",
    "    return H"
   ]
  },
  {
   "cell_type": "code",
   "execution_count": null,
   "metadata": {
    "collapsed": true
   },
   "outputs": [],
   "source": []
  },
  {
   "cell_type": "code",
   "execution_count": 6,
   "metadata": {
    "collapsed": true
   },
   "outputs": [],
   "source": [
    "def Hess(points_a, points_b, mot):\n",
    "    H = np.zeros((6,6))\n",
    "    for A, B in zip(points_a, points_b):\n",
    "        H += Hessi(A,B,mot)\n",
    "    return H"
   ]
  },
  {
   "cell_type": "code",
   "execution_count": 7,
   "metadata": {
    "collapsed": true
   },
   "outputs": [],
   "source": [
    "def resi(A,B,M):\n",
    "    return np.array(A.spin(M) - B)[:3].reshape(3,1)"
   ]
  },
  {
   "cell_type": "code",
   "execution_count": 8,
   "metadata": {
    "collapsed": true
   },
   "outputs": [],
   "source": [
    "def res(points_a, points_b, mot):\n",
    "    r = np.zeros((3,1))\n",
    "    for A, B in zip(points_a, points_b):\n",
    "        r += np.array(A.spin(mot) - B)[:3].reshape(3,1)\n",
    "    return r"
   ]
  },
  {
   "cell_type": "code",
   "execution_count": 9,
   "metadata": {
    "collapsed": true
   },
   "outputs": [],
   "source": [
    "def jaci2(a, mot):\n",
    "    j = np.zeros((3,6))\n",
    "    a = a.spin(mot)\n",
    "    \n",
    "    j[0,0] = -2 * a[1]\n",
    "    j[1,0] = 2 * a[0]\n",
    "    \n",
    "    j[0,1] = -2 * a[2]\n",
    "    j[2,1] =  2 * a[0]\n",
    "    \n",
    "    j[1,2] = -2 * a[2]\n",
    "    j[2,2] = 2 * a[1]\n",
    "    \n",
    "    j[0,3] = 2\n",
    "    j[1,4] = 2\n",
    "    j[2,5] = 2\n",
    "     \n",
    "    return j"
   ]
  },
  {
   "cell_type": "code",
   "execution_count": 10,
   "metadata": {
    "collapsed": true
   },
   "outputs": [],
   "source": [
    "def jaci(a, mot):\n",
    "    j = np.zeros((3,6))\n",
    "    for i in range(6):\n",
    "        dll = vsr.Dll(0.0, 0.0, 0.0, 0.0, 0.0, 0.0)\n",
    "        dll[i] = 1.0\n",
    "        j[:,i] = -2.0 * np.array(dll.comm(a.spin(mot)))[:3]\n",
    "    return j"
   ]
  },
  {
   "cell_type": "code",
   "execution_count": 11,
   "metadata": {
    "collapsed": true
   },
   "outputs": [],
   "source": [
    "def CayleySelig(B,M):\n",
    "    Rp = vsr.Mot(1.0, B[0], B[1], B[2], 0.0, 0.0, 0.0, 0.0)\n",
    "    Rn = vsr.Mot(1.0, -B[0], -B[1], -B[2], 0.0, 0.0, 0.0, 0.0)\n",
    "    Rninv = Rn.inv()\n",
    "    eps = vsr.Mot(0,0,0,0,0,0,0,-1)\n",
    "    b = vsr.Mot(0.0, B[5], -B[4], B[3], 0.0, 0.0, 0.0, 0.0)\n",
    "    return (Rp * Rninv + eps * Rninv * b * Rninv * 2) * M\n",
    "\n",
    "def oexp(B,M):\n",
    "    n = np.sqrt(1 + B[0] * B[0] + B[1] * B[1] + B[2] * B[2])\n",
    "    s = B[0] * B[5] - B[1] * B[4] + B[2] * B[3]\n",
    "    m = vsr.Mot(1.0, B[0], B[1], B[2], B[3], B[4], B[5], s) * (1.0 / n)\n",
    "    return m * M\n",
    "\n",
    "def CayleyLi(B,M):\n",
    "    B_ = vsr.Mot(0.0, B[0], B[1], B[2], B[3], B[4], B[5], 0.0)\n",
    "    BB = B_ * B_\n",
    "    Rp = vsr.Mot(1.0, B[0], B[1], B[2], B[3], B[4], B[5], 0.0)\n",
    "    R0 = vsr.Mot(1.0 - BB[0], 0.0, 0.0, 0.0, 0.0, 0.0, 0.0, 0.0)\n",
    "    R4 = vsr.Mot(0.0, 0.0, 0.0, 0.0, 0.0, 0.0, 0.0, BB[7])\n",
    "    Rn = R0 + R4\n",
    "    Rden = R0 * R0 \n",
    "    return (Rp * Rp * Rn * Rden.inv()) * M\n",
    "\n",
    "def retr(B, M):\n",
    "    B = vsr.Dll(*B)\n",
    "    return (B * M + M).retract()\n",
    "\n",
    "def expm(B, M):\n",
    "    return vsr.Dll(*B).exp() * M\n"
   ]
  },
  {
   "cell_type": "code",
   "execution_count": 12,
   "metadata": {
    "collapsed": true
   },
   "outputs": [],
   "source": [
    "def update_n(points_a, points_b, mot, plus):\n",
    "    H = Hess(points_a, points_b, mot)    \n",
    "    g = grad(points_a, points_b, mot)\n",
    "\n",
    "    B = -linear_solver.solve(H,g)   \n",
    "        \n",
    "    th = vsr.Biv(*B[:3]).norm()\n",
    "    if th > pi:\n",
    "        print('th')\n",
    "#         B /= th\n",
    "#         th = th - pi\n",
    "#         B *= -th\n",
    "    \n",
    "    \n",
    "    \n",
    "    alpha = 0.01\n",
    "    beta = 0.9\n",
    "    eps = sqrt(finfo(float).eps)\n",
    "    stp = 1.0\n",
    "    len_p = norm(B)\n",
    "\n",
    "    derphi = np.inner(g, B)[0][0]\n",
    "    cost0 = costn(points_a, points_b, mot)\n",
    "    \n",
    "#     while costn(points_a, points_b, plus(stp * B, mot)) > cost0 + alpha * stp * derphi :\n",
    "#         stp *= beta\n",
    "#         if stp * len_p < eps:\n",
    "#             break\n",
    "    \n",
    "    mot = plus(stp * B, mot)\n",
    "    \n",
    "    grad_norm = np.linalg.norm(g)\n",
    "    return mot, costn(points_a, points_b, mot), grad_norm"
   ]
  },
  {
   "cell_type": "code",
   "execution_count": 13,
   "metadata": {
    "collapsed": true
   },
   "outputs": [],
   "source": [
    "def cost(points_a, points_b, mot):\n",
    "    r = res(points_a, points_b, mot)\n",
    "    return np.dot(r.T,r)[0][0] * 0.5"
   ]
  },
  {
   "cell_type": "code",
   "execution_count": 14,
   "metadata": {
    "collapsed": true
   },
   "outputs": [],
   "source": [
    "def costn(points_a, points_b, mot):\n",
    "    return np.sum([(a.spin(mot) <= b) * -1.0 for a, b in zip(points_a, points_b)])"
   ]
  },
  {
   "cell_type": "code",
   "execution_count": 15,
   "metadata": {
    "collapsed": true
   },
   "outputs": [],
   "source": [
    "def update_sd(points_a, points_b, mot, plus=oexp):\n",
    "    g = grad(points_a, points_b, mot)\n",
    "    B = g * -1.0\n",
    "    # line search\n",
    "    alpha = 0.001\n",
    "    beta = 0.9\n",
    "    stp = 1.0\n",
    "    eps = sqrt(finfo(float).eps)\n",
    "    len_p = norm(B)\n",
    "    \n",
    "    cost0 = cost(points_a, points_b, mot)\n",
    "    while cost(points_a, points_b, plus(stp * B, mot)) > cost0 + alpha * stp * np.inner(g, B)[0][0] :\n",
    "        stp *= beta\n",
    "        if stp * len_p < eps:\n",
    "            break\n",
    "    \n",
    "    mot = plus(stp * B, mot)\n",
    "    \n",
    "    grad_norm = np.linalg.norm(g)\n",
    "    return mot, cost(points_a, points_b, mot), grad_norm"
   ]
  },
  {
   "cell_type": "code",
   "execution_count": 16,
   "metadata": {
    "collapsed": true
   },
   "outputs": [],
   "source": [
    "def update_gn(points_a, points_b, mot, plus=oexp):\n",
    "    J = np.array([jaci2(a, mot) for a in points_a]).reshape(-1,6)\n",
    "    r = np.array([resi(a,b,mot) for a,b in zip(points_a, points_b)]).reshape(-1,1)    \n",
    "    g = np.dot(J.T,r)\n",
    "    H = np.dot(J.T,J)\n",
    "\n",
    "    B = np.linalg.solve(H,g)   \n",
    "\n",
    "    \n",
    "    alpha = 0.0001\n",
    "    beta = 0.5\n",
    "    eps = sqrt(finfo(float).eps)\n",
    "    stp = 1.0\n",
    "    len_p = norm(B)\n",
    "\n",
    "    derphi = np.inner(g, B)[0][0]\n",
    "    cost0 = cost(points_a, points_b, mot)\n",
    "    while cost(points_a, points_b, plus(stp * B, mot)) > cost0 + alpha * stp * derphi :\n",
    "        stp *= beta\n",
    "        if stp * len_p < eps:\n",
    "            break\n",
    "    \n",
    "    \n",
    "    mot = plus(stp * B, mot)\n",
    "    grad_norm = np.linalg.norm(g)\n",
    "    return mot, cost(points_a, points_b, mot), grad_norm"
   ]
  },
  {
   "cell_type": "code",
   "execution_count": 17,
   "metadata": {
    "collapsed": true
   },
   "outputs": [],
   "source": [
    "def create_motor(d_lims=(0, 1), th_lims=(0, np.pi)):\n",
    "    translator = (vsr.Vec(*np.random.random(3)).unit()\n",
    "                  * np.random.uniform(*d_lims)).trs()\n",
    "    rotator = vsr.Rot(vsr.Biv(*np.random.uniform(-1, 1, 3)).unit()\n",
    "                      * np.random.uniform(*th_lims) * -0.5)\n",
    "    motor = translator * rotator\n",
    "    return motor"
   ]
  },
  {
   "cell_type": "code",
   "execution_count": 42,
   "metadata": {
    "collapsed": true
   },
   "outputs": [],
   "source": [
    "def create_rotor(th_lims=(0, np.pi/2)):\n",
    "    translator = vsr.Trs(1,0,0,0)\n",
    "    rotator = vsr.Rot(vsr.Biv(*np.random.uniform(-1, 1, 3)).unit()\n",
    "                      * np.random.uniform(*th_lims) * -0.5)\n",
    "    motor = translator * rotator\n",
    "    return motor"
   ]
  },
  {
   "cell_type": "code",
   "execution_count": 20,
   "metadata": {
    "collapsed": true
   },
   "outputs": [],
   "source": [
    "A = np.random.random((6,6))\n",
    "b = np.random.random((6,1))"
   ]
  },
  {
   "cell_type": "code",
   "execution_count": 174,
   "metadata": {
    "collapsed": true
   },
   "outputs": [],
   "source": [
    "#%%timeit\n",
    "#c= linear_solver.solve(A,b)"
   ]
  },
  {
   "cell_type": "code",
   "execution_count": 175,
   "metadata": {
    "collapsed": true
   },
   "outputs": [],
   "source": [
    "#%%timeit\n",
    "#c = np.linalg.solve(A,b)"
   ]
  },
  {
   "cell_type": "code",
   "execution_count": null,
   "metadata": {
    "collapsed": true
   },
   "outputs": [],
   "source": []
  },
  {
   "cell_type": "code",
   "execution_count": 114,
   "metadata": {
    "collapsed": true
   },
   "outputs": [],
   "source": [
    "n_points=10\n",
    "\n",
    "m0 = create_motor(th_lims=(0,np.pi/3))\n",
    "points_a = [vsr.Vec(*np.random.normal(0.0, 0.8, 3)).null() for i in range(n_points)]\n",
    "points_b = [point.spin(m0) for point in points_a]\n",
    "\n",
    "mstart = create_motor()\n",
    "mstart = vsr.Mot(1,0,0,0,0,0,0,0)"
   ]
  },
  {
   "cell_type": "code",
   "execution_count": 115,
   "metadata": {},
   "outputs": [
    {
     "name": "stdout",
     "output_type": "stream",
     "text": [
      "Mot: [ -1 5e-05 7.2e-06 9.7e-06 -1.2e-05 5.1e-06 3.2e-06 -7.8e-18 ]\n",
      "Mot: [ -0.9 0.15 0.29 -0.28 0.019 0.011 0.015 0.0071 ]\n"
     ]
    },
    {
     "data": {
      "image/png": "[encoded data removed]",
      "text/plain": [
       "<matplotlib.figure.Figure at 0x7f75682b94e0>"
      ]
     },
     "metadata": {},
     "output_type": "display_data"
    }
   ],
   "source": [
    "gnorms = []\n",
    "costs = []\n",
    "# plus = CayleySelig\n",
    "plus = expm\n",
    "m, c, gnorm = update_sd(points_a, points_b, mstart,plus)\n",
    "costs.append(c)\n",
    "gnorms.append(gnorm)\n",
    "for i in range(100):\n",
    "# while c > 1e-6:\n",
    "    m, c, gnorm = update_sd(points_a, points_b, m, plus)\n",
    "    costs.append(c)\n",
    "    gnorms.append(gnorm)\n",
    "semilogy(costs)\n",
    "semilogy(gnorms)\n",
    "print(m0.rev() * m)\n",
    "print(m)"
   ]
  },
  {
   "cell_type": "code",
   "execution_count": 116,
   "metadata": {},
   "outputs": [
    {
     "name": "stdout",
     "output_type": "stream",
     "text": [
      "Mot: [ 1 0 -6.9e-18 0 2.8e-17 -3e-17 -2.7e-17 -2.6e-18 ]\n",
      "Mot: [ 0.9 -0.15 -0.29 0.28 -0.019 -0.011 -0.015 -0.0071 ]\n"
     ]
    },
    {
     "data": {
      "image/png": "[encoded data removed]",
      "text/plain": [
       "<matplotlib.figure.Figure at 0x7f75682acf60>"
      ]
     },
     "metadata": {},
     "output_type": "display_data"
    }
   ],
   "source": [
    "gnorms = []\n",
    "costs = []\n",
    "plus = oexp\n",
    "m, c, gnorm = update_gn(points_a, points_b, mstart,plus)\n",
    "costs.append(c)\n",
    "gnorms.append(gnorm)\n",
    "for i in range(10):\n",
    "# while gnorm > 1e-6:\n",
    "    m, c, gnorm = update_gn(points_a, points_b, m, plus)\n",
    "    costs.append(c)\n",
    "    gnorms.append(gnorm)\n",
    "semilogy(costs)\n",
    "semilogy(gnorms)\n",
    "print(m0.rev() * m)\n",
    "print(m)"
   ]
  },
  {
   "cell_type": "code",
   "execution_count": 125,
   "metadata": {},
   "outputs": [
    {
     "name": "stdout",
     "output_type": "stream",
     "text": [
      "th\n",
      "th\n",
      "th\n",
      "th\n",
      "th\n",
      "th\n",
      "th\n",
      "th\n",
      "th\n",
      "th\n",
      "th\n",
      "th\n",
      "th\n",
      "th\n",
      "th\n",
      "th\n",
      "th\n",
      "th\n",
      "th\n",
      "th\n",
      "th\n",
      "th\n"
     ]
    },
    {
     "ename": "KeyboardInterrupt",
     "evalue": "",
     "output_type": "error",
     "traceback": [
      "\u001b[0;31m---------------------------------------------------------------------------\u001b[0m",
      "\u001b[0;31mKeyboardInterrupt\u001b[0m                         Traceback (most recent call last)",
      "\u001b[0;32m<ipython-input-125-7384f7fa0905>\u001b[0m in \u001b[0;36m<module>\u001b[0;34m()\u001b[0m\n\u001b[1;32m      9\u001b[0m \u001b[0;32mwhile\u001b[0m \u001b[0mgnorm\u001b[0m \u001b[0;34m>\u001b[0m \u001b[0;36m1e-3\u001b[0m\u001b[0;34m:\u001b[0m\u001b[0;34m\u001b[0m\u001b[0m\n\u001b[1;32m     10\u001b[0m \u001b[0;31m# for i in range(10):\u001b[0m\u001b[0;34m\u001b[0m\u001b[0;34m\u001b[0m\u001b[0m\n\u001b[0;32m---> 11\u001b[0;31m     \u001b[0mm\u001b[0m\u001b[0;34m,\u001b[0m \u001b[0mc\u001b[0m\u001b[0;34m,\u001b[0m \u001b[0mgnorm\u001b[0m \u001b[0;34m=\u001b[0m \u001b[0mupdate_n\u001b[0m\u001b[0;34m(\u001b[0m\u001b[0mpoints_a\u001b[0m\u001b[0;34m,\u001b[0m \u001b[0mpoints_b\u001b[0m\u001b[0;34m,\u001b[0m \u001b[0mm\u001b[0m\u001b[0;34m,\u001b[0m \u001b[0mplus\u001b[0m\u001b[0;34m)\u001b[0m\u001b[0;34m\u001b[0m\u001b[0m\n\u001b[0m\u001b[1;32m     12\u001b[0m     \u001b[0mcosts\u001b[0m\u001b[0;34m.\u001b[0m\u001b[0mappend\u001b[0m\u001b[0;34m(\u001b[0m\u001b[0mc\u001b[0m\u001b[0;34m)\u001b[0m\u001b[0;34m\u001b[0m\u001b[0m\n\u001b[1;32m     13\u001b[0m     \u001b[0mgnorms\u001b[0m\u001b[0;34m.\u001b[0m\u001b[0mappend\u001b[0m\u001b[0;34m(\u001b[0m\u001b[0mgnorm\u001b[0m\u001b[0;34m)\u001b[0m\u001b[0;34m\u001b[0m\u001b[0m\n",
      "\u001b[0;32m<ipython-input-12-bb465c242d4e>\u001b[0m in \u001b[0;36mupdate_n\u001b[0;34m(points_a, points_b, mot, plus)\u001b[0m\n\u001b[1;32m      1\u001b[0m \u001b[0;32mdef\u001b[0m \u001b[0mupdate_n\u001b[0m\u001b[0;34m(\u001b[0m\u001b[0mpoints_a\u001b[0m\u001b[0;34m,\u001b[0m \u001b[0mpoints_b\u001b[0m\u001b[0;34m,\u001b[0m \u001b[0mmot\u001b[0m\u001b[0;34m,\u001b[0m \u001b[0mplus\u001b[0m\u001b[0;34m)\u001b[0m\u001b[0;34m:\u001b[0m\u001b[0;34m\u001b[0m\u001b[0m\n\u001b[1;32m      2\u001b[0m     \u001b[0mH\u001b[0m \u001b[0;34m=\u001b[0m \u001b[0mHess\u001b[0m\u001b[0;34m(\u001b[0m\u001b[0mpoints_a\u001b[0m\u001b[0;34m,\u001b[0m \u001b[0mpoints_b\u001b[0m\u001b[0;34m,\u001b[0m \u001b[0mmot\u001b[0m\u001b[0;34m)\u001b[0m\u001b[0;34m\u001b[0m\u001b[0m\n\u001b[0;32m----> 3\u001b[0;31m     \u001b[0mg\u001b[0m \u001b[0;34m=\u001b[0m \u001b[0mgrad\u001b[0m\u001b[0;34m(\u001b[0m\u001b[0mpoints_a\u001b[0m\u001b[0;34m,\u001b[0m \u001b[0mpoints_b\u001b[0m\u001b[0;34m,\u001b[0m \u001b[0mmot\u001b[0m\u001b[0;34m)\u001b[0m\u001b[0;34m\u001b[0m\u001b[0m\n\u001b[0m\u001b[1;32m      4\u001b[0m \u001b[0;34m\u001b[0m\u001b[0m\n\u001b[1;32m      5\u001b[0m     \u001b[0mB\u001b[0m \u001b[0;34m=\u001b[0m \u001b[0;34m-\u001b[0m\u001b[0mlinear_solver\u001b[0m\u001b[0;34m.\u001b[0m\u001b[0msolve\u001b[0m\u001b[0;34m(\u001b[0m\u001b[0mH\u001b[0m\u001b[0;34m,\u001b[0m\u001b[0mg\u001b[0m\u001b[0;34m)\u001b[0m\u001b[0;34m\u001b[0m\u001b[0m\n",
      "\u001b[0;32m<ipython-input-4-eda1b161d07a>\u001b[0m in \u001b[0;36mgrad\u001b[0;34m(points_a, points_b, mot)\u001b[0m\n\u001b[1;32m      2\u001b[0m     \u001b[0mg\u001b[0m \u001b[0;34m=\u001b[0m \u001b[0mnp\u001b[0m\u001b[0;34m.\u001b[0m\u001b[0mzeros\u001b[0m\u001b[0;34m(\u001b[0m\u001b[0;34m(\u001b[0m\u001b[0;36m6\u001b[0m\u001b[0;34m,\u001b[0m\u001b[0;36m1\u001b[0m\u001b[0;34m)\u001b[0m\u001b[0;34m)\u001b[0m\u001b[0;34m\u001b[0m\u001b[0m\n\u001b[1;32m      3\u001b[0m     \u001b[0;32mfor\u001b[0m \u001b[0mA\u001b[0m\u001b[0;34m,\u001b[0m \u001b[0mB\u001b[0m \u001b[0;32min\u001b[0m \u001b[0mzip\u001b[0m\u001b[0;34m(\u001b[0m\u001b[0mpoints_a\u001b[0m\u001b[0;34m,\u001b[0m \u001b[0mpoints_b\u001b[0m\u001b[0;34m)\u001b[0m\u001b[0;34m:\u001b[0m\u001b[0;34m\u001b[0m\u001b[0m\n\u001b[0;32m----> 4\u001b[0;31m         \u001b[0mg\u001b[0m \u001b[0;34m+=\u001b[0m \u001b[0mgradi\u001b[0m\u001b[0;34m(\u001b[0m\u001b[0mA\u001b[0m\u001b[0;34m,\u001b[0m\u001b[0mB\u001b[0m\u001b[0;34m,\u001b[0m\u001b[0mmot\u001b[0m\u001b[0;34m)\u001b[0m\u001b[0;34m\u001b[0m\u001b[0m\n\u001b[0m\u001b[1;32m      5\u001b[0m     \u001b[0;32mreturn\u001b[0m \u001b[0mg\u001b[0m\u001b[0;34m\u001b[0m\u001b[0m\n",
      "\u001b[0;32m<ipython-input-3-78d61e8b5d46>\u001b[0m in \u001b[0;36mgradi\u001b[0;34m(A, B, M)\u001b[0m\n\u001b[1;32m      2\u001b[0m     \u001b[0mgi\u001b[0m \u001b[0;34m=\u001b[0m \u001b[0mnp\u001b[0m\u001b[0;34m.\u001b[0m\u001b[0mzeros\u001b[0m\u001b[0;34m(\u001b[0m\u001b[0;34m(\u001b[0m\u001b[0;36m6\u001b[0m\u001b[0;34m,\u001b[0m\u001b[0;36m1\u001b[0m\u001b[0;34m)\u001b[0m\u001b[0;34m)\u001b[0m\u001b[0;34m\u001b[0m\u001b[0m\n\u001b[1;32m      3\u001b[0m     \u001b[0mMAM\u001b[0m \u001b[0;34m=\u001b[0m \u001b[0mA\u001b[0m\u001b[0;34m.\u001b[0m\u001b[0mspin\u001b[0m\u001b[0;34m(\u001b[0m\u001b[0mM\u001b[0m\u001b[0;34m)\u001b[0m\u001b[0;34m\u001b[0m\u001b[0m\n\u001b[0;32m----> 4\u001b[0;31m     \u001b[0mgi\u001b[0m\u001b[0;34m[\u001b[0m\u001b[0;36m0\u001b[0m\u001b[0;34m]\u001b[0m \u001b[0;34m=\u001b[0m \u001b[0;34m(\u001b[0m\u001b[0mMAM\u001b[0m\u001b[0;34m[\u001b[0m\u001b[0;36m0\u001b[0m\u001b[0;34m]\u001b[0m \u001b[0;34m*\u001b[0m \u001b[0mB\u001b[0m\u001b[0;34m[\u001b[0m\u001b[0;36m1\u001b[0m\u001b[0;34m]\u001b[0m \u001b[0;34m-\u001b[0m \u001b[0mMAM\u001b[0m\u001b[0;34m[\u001b[0m\u001b[0;36m1\u001b[0m\u001b[0;34m]\u001b[0m \u001b[0;34m*\u001b[0m \u001b[0mB\u001b[0m\u001b[0;34m[\u001b[0m\u001b[0;36m0\u001b[0m\u001b[0;34m]\u001b[0m\u001b[0;34m)\u001b[0m \u001b[0;34m*\u001b[0m \u001b[0;36m2\u001b[0m\u001b[0;34m\u001b[0m\u001b[0m\n\u001b[0m\u001b[1;32m      5\u001b[0m     \u001b[0mgi\u001b[0m\u001b[0;34m[\u001b[0m\u001b[0;36m1\u001b[0m\u001b[0;34m]\u001b[0m \u001b[0;34m=\u001b[0m \u001b[0;34m(\u001b[0m\u001b[0mMAM\u001b[0m\u001b[0;34m[\u001b[0m\u001b[0;36m0\u001b[0m\u001b[0;34m]\u001b[0m \u001b[0;34m*\u001b[0m \u001b[0mB\u001b[0m\u001b[0;34m[\u001b[0m\u001b[0;36m2\u001b[0m\u001b[0;34m]\u001b[0m \u001b[0;34m-\u001b[0m \u001b[0mMAM\u001b[0m\u001b[0;34m[\u001b[0m\u001b[0;36m2\u001b[0m\u001b[0;34m]\u001b[0m \u001b[0;34m*\u001b[0m \u001b[0mB\u001b[0m\u001b[0;34m[\u001b[0m\u001b[0;36m0\u001b[0m\u001b[0;34m]\u001b[0m\u001b[0;34m)\u001b[0m \u001b[0;34m*\u001b[0m \u001b[0;36m2\u001b[0m\u001b[0;34m\u001b[0m\u001b[0m\n\u001b[1;32m      6\u001b[0m     \u001b[0mgi\u001b[0m\u001b[0;34m[\u001b[0m\u001b[0;36m2\u001b[0m\u001b[0;34m]\u001b[0m \u001b[0;34m=\u001b[0m \u001b[0;34m(\u001b[0m\u001b[0mMAM\u001b[0m\u001b[0;34m[\u001b[0m\u001b[0;36m1\u001b[0m\u001b[0;34m]\u001b[0m \u001b[0;34m*\u001b[0m \u001b[0mB\u001b[0m\u001b[0;34m[\u001b[0m\u001b[0;36m2\u001b[0m\u001b[0;34m]\u001b[0m \u001b[0;34m-\u001b[0m \u001b[0mMAM\u001b[0m\u001b[0;34m[\u001b[0m\u001b[0;36m2\u001b[0m\u001b[0;34m]\u001b[0m \u001b[0;34m*\u001b[0m \u001b[0mB\u001b[0m\u001b[0;34m[\u001b[0m\u001b[0;36m1\u001b[0m\u001b[0;34m]\u001b[0m\u001b[0;34m)\u001b[0m \u001b[0;34m*\u001b[0m \u001b[0;36m2\u001b[0m\u001b[0;34m\u001b[0m\u001b[0m\n",
      "\u001b[0;31mKeyboardInterrupt\u001b[0m: "
     ]
    }
   ],
   "source": [
    "costs = []\n",
    "gnorms = []\n",
    "# plus = expm\n",
    "plus = oexp\n",
    "plus = CayleyLi\n",
    "m, c, gnorm = update_n(points_a, points_b, mstart, plus)\n",
    "costs.append(c)\n",
    "gnorms.append(gnorm)\n",
    "while gnorm > 1e-3:\n",
    "# for i in range(10):\n",
    "    m, c, gnorm = update_n(points_a, points_b, m, plus)\n",
    "    costs.append(c)\n",
    "    gnorms.append(gnorm)\n",
    "semilogy(gnorms)\n",
    "semilogy(costs)\n",
    "print(m0.rev() * m)\n",
    "print(m)"
   ]
  },
  {
   "cell_type": "code",
   "execution_count": 122,
   "metadata": {},
   "outputs": [
    {
     "name": "stdout",
     "output_type": "stream",
     "text": [
      "Mot: [ 1 -5.2e-13 4e-13 -1.4e-14 3.9e-12 -1.2e-12 -1.4e-12 -8.7e-19 ]\n",
      "Mot: [ 0.9 -0.15 -0.29 0.28 -0.019 -0.011 -0.015 -0.0071 ]\n"
     ]
    },
    {
     "data": {
      "text/plain": [
       "[<matplotlib.lines.Line2D at 0x7f75683c8c18>]"
      ]
     },
     "execution_count": 122,
     "metadata": {},
     "output_type": "execute_result"
    },
    {
     "data": {
      "image/png": "[encoded data removed]",
      "text/plain": [
       "<matplotlib.figure.Figure at 0x7f75683948d0>"
      ]
     },
     "metadata": {},
     "output_type": "display_data"
    }
   ],
   "source": [
    "mes = MotorEstimationSolver(mstart)\n",
    "for A, B in zip(points_a, points_b):\n",
    "    mes.add_point_correspondences_residual_block(A,B)\n",
    "# mes.set_parameterization('BIVECTOR_GENERATOR')\n",
    "mes.set_parameterization('OUTER_EXPONENTIAL')\n",
    "mes.linear_solver_type = 'DENSE_QR'\n",
    "# mes.minimizer_type = 'LINE_SEARCH'\n",
    "# mes.line_search_direction_type = 'STEEPEST_DESCENT'\n",
    "# mes.line_search_direction_type = 'NONLINEAR_CONJUGATE_GRADIENT'\n",
    "# mes.nonlinear_conjugate_gradient_type = 'HESTENES_STIEFEL'\n",
    "# mes.line_search_type = 'ARMIJO'\n",
    "# mes.max_num_iterations=20\n",
    "(estimated_motor, summary, _) = mes.solve()\n",
    "print(estimated_motor.rev() * m0)\n",
    "\n",
    "print(estimated_motor)\n",
    "# print(summary['full_report'])\n",
    "semilogy(pd.DataFrame(summary['iterations'])['cost'])"
   ]
  },
  {
   "cell_type": "code",
   "execution_count": null,
   "metadata": {
    "collapsed": true
   },
   "outputs": [],
   "source": []
  },
  {
   "cell_type": "code",
   "execution_count": null,
   "metadata": {
    "collapsed": true
   },
   "outputs": [],
   "source": []
  },
  {
   "cell_type": "code",
   "execution_count": null,
   "metadata": {
    "collapsed": true
   },
   "outputs": [],
   "source": []
  },
  {
   "cell_type": "code",
   "execution_count": null,
   "metadata": {
    "collapsed": true
   },
   "outputs": [],
   "source": []
  },
  {
   "cell_type": "code",
   "execution_count": null,
   "metadata": {
    "collapsed": true
   },
   "outputs": [],
   "source": []
  },
  {
   "cell_type": "code",
   "execution_count": null,
   "metadata": {
    "collapsed": true
   },
   "outputs": [],
   "source": []
  },
  {
   "cell_type": "code",
   "execution_count": null,
   "metadata": {
    "collapsed": true
   },
   "outputs": [],
   "source": []
  }
 ],
 "metadata": {
  "kernelspec": {
   "display_name": "Python 3",
   "language": "python",
   "name": "python3"
  },
  "language_info": {
   "codemirror_mode": {
    "name": "ipython",
    "version": 3
   },
   "file_extension": ".py",
   "mimetype": "text/x-python",
   "name": "python",
   "nbconvert_exporter": "python",
   "pygments_lexer": "ipython3",
   "version": "3.6.2"
  }
 },
 "nbformat": 4,
 "nbformat_minor": 2
}
