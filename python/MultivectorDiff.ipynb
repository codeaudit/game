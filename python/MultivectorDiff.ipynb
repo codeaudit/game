{
 "cells": [
  {
   "cell_type": "code",
   "execution_count": 158,
   "metadata": {},
   "outputs": [
    {
     "name": "stdout",
     "output_type": "stream",
     "text": [
      "Populating the interactive namespace from numpy and matplotlib\n"
     ]
    }
   ],
   "source": [
    "import sys\n",
    "sys.path.append('../build/')\n",
    "%pylab inline\n",
    "np.set_printoptions(precision=4, suppress=True)\n",
    "from motor_estimation import MotorEstimationSolver\n",
    "import pandas as pd\n",
    "\n",
    "import versor as vsr"
   ]
  },
  {
   "cell_type": "code",
   "execution_count": null,
   "metadata": {
    "collapsed": true
   },
   "outputs": [],
   "source": []
  },
  {
   "cell_type": "code",
   "execution_count": 159,
   "metadata": {},
   "outputs": [],
   "source": [
    "M = vsr.CGA(vsr.Vec(1,2,3).trs() * vsr.Rot(vsr.Biv(1,1,1).unit() * (np.pi/6)))\n",
    "A = vsr.CGA(vsr.Vec(1,1,1).null())\n",
    "B = A.spin(M)"
   ]
  },
  {
   "cell_type": "code",
   "execution_count": 160,
   "metadata": {
    "collapsed": true
   },
   "outputs": [],
   "source": [
    "M0 = vsr.CGA(vsr.Mot(1,0,0,0,0,0,0,0))"
   ]
  },
  {
   "cell_type": "code",
   "execution_count": 161,
   "metadata": {
    "collapsed": true
   },
   "outputs": [],
   "source": [
    "def project(Y, M):\n",
    "    YM2 = Y * M\n",
    "    YM2[0] = 0.0\n",
    "    YM2[26] = 0.0\n",
    "    YM2[27] = 0.0\n",
    "    YM2[28] = 0.0\n",
    "    YM2[29] = 0.0\n",
    "    YM2[30] = 0.0\n",
    "    return vsr.CGA(vsr.MotRec(YM2 * M.rev()))"
   ]
  },
  {
   "cell_type": "code",
   "execution_count": 162,
   "metadata": {},
   "outputs": [
    {
     "data": {
      "text/plain": [
       "CGA: [ 2.7 0 0 0 0 0 0.67 0 7.3 0 0 0 3.3 0 -4.7 2.7 0 0 0 0 0 0 0 0 0 0 0 8 0.67 0 7.3 0 ]"
      ]
     },
     "execution_count": 162,
     "metadata": {},
     "output_type": "execute_result"
    }
   ],
   "source": [
    "(vsr.CGA(vsr.Dll(0,0,0,0,1,0)).rev() * project((M0.rev() * A * B),M0)) * 2.0"
   ]
  },
  {
   "cell_type": "code",
   "execution_count": 163,
   "metadata": {},
   "outputs": [
    {
     "data": {
      "text/plain": [
       "-7.999999999999998"
      ]
     },
     "execution_count": 163,
     "metadata": {},
     "output_type": "execute_result"
    }
   ],
   "source": [
    "Y = A * M0.rev() * B\n",
    "(vsr.CGA(vsr.Dll(0,1,0,0,0,0)) * M0 * project(Y,M0) * 2.0)[0]"
   ]
  },
  {
   "cell_type": "code",
   "execution_count": 873,
   "metadata": {},
   "outputs": [],
   "source": [
    "def gradi(A, B, M):\n",
    "    gi = np.zeros((6,1))\n",
    "    MAM = A.spin(M)\n",
    "    gi[0] = (MAM[1] * B[0] - MAM[0] * B[1]) * 2\n",
    "    gi[1] = (MAM[2] * B[0] - MAM[0] * B[2]) * 2\n",
    "    gi[2] = (MAM[2] * B[1] - MAM[1] * B[2]) * 2\n",
    "    gi[3] = (MAM[0] - B[0]) * 2\n",
    "    gi[4] = (MAM[1] - B[1]) * 2\n",
    "    gi[5] = (MAM[2] - B[2]) * 2\n",
    "    return gi"
   ]
  },
  {
   "cell_type": "code",
   "execution_count": 874,
   "metadata": {
    "collapsed": true
   },
   "outputs": [],
   "source": [
    "def grad(points_a, points_b, mot):\n",
    "    g = np.zeros((6,1))\n",
    "    for A, B in zip(points_a, points_b):\n",
    "        g += gradi(A,B,mot)\n",
    "    return g"
   ]
  },
  {
   "cell_type": "code",
   "execution_count": 875,
   "metadata": {
    "collapsed": true
   },
   "outputs": [],
   "source": [
    "def Hessi(A, B, M):\n",
    "    H = np.zeros((6,6))\n",
    "\n",
    "    MAM = A.spin(M)\n",
    "\n",
    "    H[0,0] = (MAM[0] * B[0] + MAM[1] * B[1] ) * -4.0\n",
    "    H[0,1] = MAM[1] * B[2] * -4\n",
    "    H[0,2] = MAM[0] * B[2] * 4\n",
    "    H[0,3] = MAM[1] * 4\n",
    "    H[0,4] = MAM[0] * -4\n",
    "    H[1,0] = H[0,1]\n",
    "    H[2,0] = H[0,2]\n",
    "    H[3,0] = H[0,3]\n",
    "    H[4,0] = H[0,4]\n",
    "\n",
    "    H[1,1] = (MAM[0] * B[0] + MAM[2] * B[2] ) * -4.0\n",
    "    H[1,2] = MAM[0] * B[1] * -4.0\n",
    "    H[1,3] = MAM[2] * 4.0\n",
    "    H[1,5] = MAM[0] * -4.0\n",
    "    H[2,1] = H[1,2]\n",
    "    H[3,1] = H[1,3]\n",
    "    H[5,1] = H[1,5]\n",
    "\n",
    "    H[2,2] = (MAM[1] * B[1] + MAM[2] * B[2] ) * -4.0\n",
    "    H[2,4] = MAM[2] * 4.0\n",
    "    H[2,5] = MAM[1] * -4.0\n",
    "\n",
    "    H[4,2] = H[2,4]\n",
    "    H[5,2] = H[2,5]\n",
    "\n",
    "    H[3,3] = -4.0\n",
    "    H[4,4] = -4.0\n",
    "    H[5,5] = -4.0\n",
    "    \n",
    "    return H"
   ]
  },
  {
   "cell_type": "code",
   "execution_count": 906,
   "metadata": {
    "collapsed": true
   },
   "outputs": [],
   "source": [
    "def Hess(points_a, points_b, mot):\n",
    "    H = np.zeros((6,6))\n",
    "    for A, B in zip(points_a, points_b):\n",
    "        H += Hessi(A,B,mot)\n",
    "    return H*-1"
   ]
  },
  {
   "cell_type": "code",
   "execution_count": 907,
   "metadata": {
    "collapsed": true
   },
   "outputs": [],
   "source": [
    "def HessPolarization(points_a, points_b, mot):\n",
    "    def Hi(E,A,B,M):\n",
    "        return E.comm(E.comm(A.spin(M))) * B\n",
    "    H = np.zeros((6,6))\n",
    "    for a, b in zip(points_a, points_b):\n",
    "        a = vsr.CGA(a)\n",
    "        b = vsr.CGA(b)\n",
    "        M = vsr.CGA(mot)\n",
    "\n",
    "#         E12 = vsr.CGA(vsr.Dll(1,0,0,0,0,0)) * M\n",
    "#         E13 = vsr.CGA(vsr.Dll(0,1,0,0,0,0)) * M\n",
    "#         E23 = vsr.CGA(vsr.Dll(0,0,1,0,0,0)) * M\n",
    "#         E1i = vsr.CGA(vsr.Dll(0,0,0,1,0,0)) * M\n",
    "#         E2i = vsr.CGA(vsr.Dll(0,0,0,0,1,0)) * M\n",
    "#         E3i = vsr.CGA(vsr.Dll(0,0,0,0,0,1)) * M\n",
    "#         E12[0] = E12[27] = 0\n",
    "#         E13[0] = E13[27] = 0\n",
    "#         E23[0] = E23[27] = 0\n",
    "#         E1i[0] = E1i[27] = 0\n",
    "#         E2i[0] = E2i[27] = 0\n",
    "#         E3i[0] = E3i[27] = 0\n",
    "        E12 = vsr.CGA(vsr.Dll(1,0,0,0,0,0))\n",
    "        E13 = vsr.CGA(vsr.Dll(0,1,0,0,0,0)) \n",
    "        E23 = vsr.CGA(vsr.Dll(0,0,1,0,0,0)) \n",
    "        E1i = vsr.CGA(vsr.Dll(0,0,0,1,0,0)) \n",
    "        E2i = vsr.CGA(vsr.Dll(0,0,0,0,1,0)) \n",
    "        E3i = vsr.CGA(vsr.Dll(0,0,0,0,0,1)) \n",
    "        \n",
    "        H12 = Hi(E12,a,b,M) \n",
    "        H13 = Hi(E13,a,b,M)  \n",
    "        H23 = Hi(E23,a,b,M)  \n",
    "        H1i = Hi(E1i,a,b,M)\n",
    "        H2i = Hi(E2i,a,b,M)\n",
    "        H3i = Hi(E3i,a,b,M)\n",
    "\n",
    "        H1213 = (Hi(E12+E13,a,b,M) - Hi(E12-E13,a,b,M)) * 0.25\n",
    "        H1223 = (Hi(E12+E23,a,b,M) - Hi(E12-E23,a,b,M)) * 0.25\n",
    "        H121i = (Hi(E12+E1i,a,b,M) - Hi(E12-E1i,a,b,M)) * 0.25\n",
    "        H122i = (Hi(E12+E2i,a,b,M) - Hi(E12-E2i,a,b,M)) * 0.25\n",
    "        H123i = (Hi(E12+E3i,a,b,M) - Hi(E12-E3i,a,b,M)) * 0.25 \n",
    "\n",
    "        H1323 = (Hi(E13+E23,a,b,M) - Hi(E13-E23,a,b,M)) * 0.25\n",
    "        H131i = (Hi(E13+E1i,a,b,M) - Hi(E13-E1i,a,b,M)) * 0.25\n",
    "        H132i = (Hi(E13+E2i,a,b,M) - Hi(E13-E2i,a,b,M)) * 0.25\n",
    "        H133i = (Hi(E13+E3i,a,b,M) - Hi(E13-E3i,a,b,M)) * 0.25\n",
    "\n",
    "        H231i = (Hi(E23+E1i,a,b,M) - Hi(E23-E1i,a,b,M)) * 0.25\n",
    "        H232i = (Hi(E23+E2i,a,b,M) - Hi(E23-E2i,a,b,M)) * 0.25\n",
    "        H233i = (Hi(E23+E3i,a,b,M) - Hi(E23-E3i,a,b,M)) * 0.25\n",
    "\n",
    "        H1i2i = (Hi(E1i+E2i,a,b,M) - Hi(E1i-E2i,a,b,M)) * 0.25\n",
    "        H1i3i = (Hi(E1i+E3i,a,b,M) - Hi(E1i-E3i,a,b,M)) * 0.25\n",
    "\n",
    "        H2i3i = (Hi(E2i+E3i,a,b,M) - Hi(E2i-E3i,a,b,M)) * 0.25\n",
    "\n",
    "        Hk = np.zeros((6,6))\n",
    "        Hk[0,0] = H12[0]\n",
    "        Hk[1,1] = H13[0]\n",
    "        Hk[2,2] = H23[0]\n",
    "        Hk[3,3] = H1i[0]\n",
    "        Hk[4,4] = H2i[0]\n",
    "        Hk[5,5] = H3i[0]\n",
    "        Hk[0,1] = Hk[1,0] = H1213[0]\n",
    "        Hk[0,2] = Hk[2,0] = H1223[0]\n",
    "        Hk[0,3] = Hk[3,0] = H121i[0]\n",
    "        Hk[0,4] = Hk[4,0] = H122i[0]\n",
    "        Hk[0,5] = Hk[5,0] = H123i[0]\n",
    "\n",
    "        Hk[1,2] = Hk[2,1] = H1323[0]\n",
    "        Hk[1,3] = Hk[3,1] = H131i[0]\n",
    "        Hk[1,4] = Hk[4,1] = H132i[0]\n",
    "        Hk[1,5] = Hk[5,1] = H133i[0]\n",
    "\n",
    "        Hk[2,3] = Hk[3,2] = H231i[0]\n",
    "        Hk[2,4] = Hk[4,2] = H232i[0]\n",
    "        Hk[2,5] = Hk[5,2] = H233i[0]\n",
    "\n",
    "        Hk[3,4] = Hk[4,3] = H1i2i[0]\n",
    "        Hk[3,5] = Hk[5,3] = H1i3i[0]\n",
    "\n",
    "        Hk[4,5] = Hk[5,4] = H2i3i[0]\n",
    "        \n",
    "        H += Hk\n",
    "\n",
    "    return H * -4"
   ]
  },
  {
   "cell_type": "code",
   "execution_count": 908,
   "metadata": {},
   "outputs": [
    {
     "name": "stdout",
     "output_type": "stream",
     "text": [
      "[[ -5.0942  -7.4496 -10.5648  -2.841   10.3762  -0.    ]\n",
      " [ -7.4496  -7.2618   5.0041  -2.8929  -0.      10.3762]\n",
      " [-10.5648   5.0041 -14.8798  -0.      -2.8929   2.841 ]\n",
      " [ -2.841   -2.8929  -0.      40.      -0.      -0.    ]\n",
      " [ 10.3762  -0.      -2.8929  -0.      40.      -0.    ]\n",
      " [ -0.      10.3762   2.841   -0.      -0.      40.    ]]\n"
     ]
    }
   ],
   "source": [
    "print(HessPolarization(points_a, points_b, mstart))"
   ]
  },
  {
   "cell_type": "code",
   "execution_count": 909,
   "metadata": {},
   "outputs": [
    {
     "name": "stdout",
     "output_type": "stream",
     "text": [
      "[[ -5.0942  -0.0186 -11.4022   8.0252   4.1908  -0.    ]\n",
      " [ -0.0186  -7.2618  14.8745  -6.8812  -0.       4.1908]\n",
      " [-11.4022  14.8745 -14.8798  -0.      -6.8812  -8.0252]\n",
      " [  8.0252  -6.8812  -0.      40.      -0.      -0.    ]\n",
      " [  4.1908  -0.      -6.8812  -0.      40.      -0.    ]\n",
      " [ -0.       4.1908  -8.0252  -0.      -0.      40.    ]]\n"
     ]
    }
   ],
   "source": [
    "print(Hess(points_a, points_b, mstart))"
   ]
  },
  {
   "cell_type": "code",
   "execution_count": 910,
   "metadata": {},
   "outputs": [
    {
     "name": "stdout",
     "output_type": "stream",
     "text": [
      "[[ 19.28     0.252    9.6249   8.0252   4.1908   0.    ]\n",
      " [  0.252   33.3003  -2.7898  -6.8812   0.       4.1908]\n",
      " [  9.6249  -2.7898  23.2333   0.      -6.8812  -8.0252]\n",
      " [  8.0252  -6.8812   0.      40.       0.       0.    ]\n",
      " [  4.1908   0.      -6.8812   0.      40.       0.    ]\n",
      " [  0.       4.1908  -8.0252   0.       0.      40.    ]]\n"
     ]
    }
   ],
   "source": [
    "J = np.array([jaci(a, mstart) for a in points_a]).reshape(-1,6)\n",
    "H = np.dot(J.T,J)\n",
    "print(H)\n",
    "# B = np.linalg.solve(H,g)"
   ]
  },
  {
   "cell_type": "code",
   "execution_count": 880,
   "metadata": {},
   "outputs": [],
   "source": [
    "def resi(A,B,M):\n",
    "    return np.array(A.spin(M) - B)[:3].reshape(3,1)"
   ]
  },
  {
   "cell_type": "code",
   "execution_count": 881,
   "metadata": {},
   "outputs": [],
   "source": [
    "def res(points_a, points_b, mot):\n",
    "    r = np.zeros((3,1))\n",
    "    for A, B in zip(points_a, points_b):\n",
    "        r += np.array(A.spin(mot) - B)[:3].reshape(3,1)\n",
    "    return r"
   ]
  },
  {
   "cell_type": "code",
   "execution_count": 882,
   "metadata": {
    "collapsed": true
   },
   "outputs": [],
   "source": [
    "def jaci(a, mot):\n",
    "    j = np.zeros((3,6))\n",
    "    for i in range(6):\n",
    "        dll = vsr.Dll(0.0, 0.0, 0.0, 0.0, 0.0, 0.0)\n",
    "        dll[i] = 1.0\n",
    "        j[:,i] = -2.0 * np.array(dll.comm(a.spin(mot)))[:3]\n",
    "    return j"
   ]
  },
  {
   "cell_type": "code",
   "execution_count": 883,
   "metadata": {},
   "outputs": [],
   "source": [
    "M0 = vsr.Mot(1,0,0,0,0,0,0,0)\n",
    "M = vsr.Vec(1,2,3).trs() * vsr.Rot(vsr.Biv(1,1,1).unit() * (np.pi/6))"
   ]
  },
  {
   "cell_type": "code",
   "execution_count": null,
   "metadata": {},
   "outputs": [],
   "source": []
  },
  {
   "cell_type": "code",
   "execution_count": 892,
   "metadata": {},
   "outputs": [],
   "source": [
    "def update_n(points_a, points_b, mot, plus):\n",
    "    H = Hess(points_a, points_b, mot)\n",
    "    \n",
    "#     print(np.linalg.eigvals(H).all() > 0.0)\n",
    "\n",
    "    g = grad(points_a, points_b, mot)\n",
    "    print(g.flatten())\n",
    "    r = res(points_a, points_b, mot)\n",
    "    B = np.linalg.solve(H,-g)\n",
    "    \n",
    "    # line search\n",
    "    alpha = 1.0\n",
    "    beta = 0.01\n",
    "    cost0 = cost(points_a, points_b, mot)\n",
    "    while cost(points_a, points_b, plus(alpha * B, mot)) > cost0 + alpha * beta * np.inner(g, B)[0][0] :\n",
    "        alpha *= 0.5\n",
    "    \n",
    "#     print('alpha: {}'.format(alpha))\n",
    "    \n",
    "    mot = plus(alpha * B, mot)\n",
    "    grad_norm = np.linalg.norm(g)\n",
    "    return mot, cost(points_a, points_b, mot), grad_norm"
   ]
  },
  {
   "cell_type": "code",
   "execution_count": 893,
   "metadata": {
    "collapsed": true
   },
   "outputs": [],
   "source": [
    "def CayleySelig(B,M):\n",
    "    Rp = vsr.Mot(1.0, B[0], B[1], B[2], 0.0, 0.0, 0.0, 0.0)\n",
    "    Rn = vsr.Mot(1.0, -B[0], -B[1], -B[2], 0.0, 0.0, 0.0, 0.0)\n",
    "    Rninv = Rn.inv()\n",
    "    eps = vsr.Mot(0,0,0,0,0,0,0,-1)\n",
    "    b = vsr.Mot(0.0, B[5], -B[4], B[3], 0.0, 0.0, 0.0, 0.0)\n",
    "    return (Rp * Rninv + eps * Rninv * b * Rninv * 2) * M\n",
    "\n",
    "def oexp(B,M):\n",
    "    n = np.sqrt(1 + B[0] * B[0] + B[1] * B[1] + B[2] * B[2])\n",
    "    s = B[0] * B[5] - B[1] * B[4] + B[2] * B[3]\n",
    "    m = vsr.Mot(1.0, B[0], B[1], B[2], B[3], B[4], B[5], s) * (1.0 / n)\n",
    "    return m * M\n",
    "\n",
    "def CayleyLi(B,M):\n",
    "    B_ = vsr.Mot(0.0, B[0], B[1], B[2], B[3], B[4], B[5], 0.0)\n",
    "    BB = B_ * B_\n",
    "    Rp = vsr.Mot(1.0, B[0], B[1], B[2], B[3], B[4], B[5], 0.0)\n",
    "    R0 = vsr.Mot(1.0 - BB[0], 0.0, 0.0, 0.0, 0.0, 0.0, 0.0, 0.0)\n",
    "    R4 = vsr.Mot(0.0, 0.0, 0.0, 0.0, 0.0, 0.0, 0.0, BB[7])\n",
    "    Rn = R0 + R4\n",
    "    Rden = R0 * R0 \n",
    "    return (Rp * Rp * Rn * Rden.inv()) * M\n",
    "\n",
    "def retr(B, M):\n",
    "    B = vsr.Dll(*B)\n",
    "    return (B * M + M).retract()\n",
    "\n",
    "def exp(B, M):\n",
    "    return vsr.Dll(*B).exp() * M\n"
   ]
  },
  {
   "cell_type": "code",
   "execution_count": 886,
   "metadata": {
    "collapsed": true
   },
   "outputs": [],
   "source": [
    "def cost(points_a, points_b, mot):\n",
    "    r = res(points_a, points_b, mot)\n",
    "    return np.dot(r.T,r)[0][0] * 0.5"
   ]
  },
  {
   "cell_type": "code",
   "execution_count": 887,
   "metadata": {},
   "outputs": [],
   "source": [
    "def update_gn(points_a, points_b, mot, plus=oexp):\n",
    "    J = np.array([jaci(a, mot) for a in points_a]).reshape(-1,6)\n",
    "    r = np.array([resi(a,b,mot) for a,b in zip(points_a, points_b)]).reshape(-1,1)    \n",
    "    g = np.dot(J.T,r)\n",
    "    print(g.flatten())\n",
    "    H = np.dot(J.T,J)\n",
    "    B = np.linalg.solve(H,g)\n",
    "            \n",
    "    # line search\n",
    "    alpha = 1.0\n",
    "    beta = 0.01\n",
    "    cost0 = cost(points_a, points_b, mot)\n",
    "    while cost(points_a, points_b, plus(alpha * B, mot)) > cost0 + alpha * beta * np.inner(g, B)[0][0] :\n",
    "        alpha *= 0.5\n",
    "    \n",
    "#     print('alpha: {}'.format(alpha))\n",
    "    \n",
    "    mot = plus(alpha * B, mot)\n",
    "    grad_norm = np.linalg.norm(g)\n",
    "    return mot, cost(points_a, points_b, mot), grad_norm"
   ]
  },
  {
   "cell_type": "code",
   "execution_count": 888,
   "metadata": {
    "collapsed": true
   },
   "outputs": [],
   "source": [
    "def create_motor(d_lims=(0, 1), th_lims=(0, np.pi)):\n",
    "    translator = (vsr.Vec(*np.random.random(3)).unit()\n",
    "                  * np.random.uniform(*d_lims)).trs()\n",
    "    rotator = vsr.Rot(vsr.Biv(*np.random.uniform(-1, 1, 3)).unit()\n",
    "                      * np.random.uniform(*th_lims) * -0.5)\n",
    "    motor = translator * rotator\n",
    "    return motor"
   ]
  },
  {
   "cell_type": "code",
   "execution_count": 901,
   "metadata": {
    "collapsed": true
   },
   "outputs": [],
   "source": [
    "n_points=10\n",
    "\n",
    "m0 = create_motor()\n",
    "points_a = [vsr.Vec(*np.random.normal(0.0, 0.8, 3)).null() for i in range(n_points)]\n",
    "points_b = [point.spin(m0) for point in points_a]\n",
    "\n",
    "mstart = create_motor()"
   ]
  },
  {
   "cell_type": "code",
   "execution_count": 890,
   "metadata": {},
   "outputs": [
    {
     "name": "stdout",
     "output_type": "stream",
     "text": [
      "[ 26.0227  11.1898   9.7777 -13.3721 -14.9908  -7.1632]\n",
      "[-11.2622  17.3668  12.9066 -13.5102 -15.4722  -1.7071]\n",
      "[  1.9044   2.9855   8.6296 -10.8103  -9.2791   8.4942]\n",
      "[-0.0151 -3.766  -1.9652 -0.854  -1.0813 -1.7031]\n",
      "[ 1.9523  2.0069  0.2282  0.6374 -0.2933 -0.9261]\n",
      "[ 0.1386 -0.6775  0.3863 -0.2285 -0.0552 -0.2905]\n",
      "[-0.0005  0.0171 -0.0278  0.0207 -0.0109 -0.0171]\n",
      "[-0.0001 -0.0001  0.     -0.0001  0.     -0.0001]\n",
      "[ 0.  0.  0.  0. -0. -0.]\n",
      "[ 0. -0. -0.  0. -0.  0.]\n",
      "[ 0. -0. -0.  0.  0.  0.]\n",
      "Mot: [ 6.9e-18 -0.98 -0.13 -0.15 -0.48 0.072 0.085 2.8e-16 ]\n",
      "Mot: [ 0.13 0.97 -0.0087 0.21 0.52 -0.044 -0.11 0.015 ]\n"
     ]
    },
    {
     "data": {
      "image/png": "[encoded data removed]",
      "text/plain": [
       "<matplotlib.figure.Figure at 0x7f9a066c1e10>"
      ]
     },
     "metadata": {},
     "output_type": "display_data"
    }
   ],
   "source": [
    "costs = []\n",
    "gnorms = []\n",
    "plus = oexp\n",
    "m, c, gnorm = update_n(points_a, points_b, mstart, plus)\n",
    "costs.append(c)\n",
    "gnorms.append(gnorm)\n",
    "for i in range(10):\n",
    "    m, c, gnorm = update_n(points_a, points_b, m, plus)\n",
    "    costs.append(c)\n",
    "    gnorms.append(gnorm)\n",
    "semilogy(costs)\n",
    "print(m.rev() * m0)\n",
    "print(m)"
   ]
  },
  {
   "cell_type": "code",
   "execution_count": 891,
   "metadata": {},
   "outputs": [
    {
     "name": "stdout",
     "output_type": "stream",
     "text": [
      "[ 26.0227  11.1898   9.7777 -13.3721 -14.9908  -7.1632]\n",
      "[ 5.1497  2.2259  3.4949  3.9085 -6.666  -4.4639]\n",
      "[ 0.2463 -0.4151 -2.1037  3.0437  0.6187 -0.4694]\n",
      "[-0.0924  0.0169 -0.079   0.0836  0.1678  0.3804]\n",
      "[ 0.0004  0.0007 -0.0018 -0.0009  0.0023 -0.0008]\n",
      "[-0. -0. -0.  0.  0. -0.]\n",
      "[-0. -0.  0.  0. -0.  0.]\n",
      "[ 0. -0. -0. -0.  0. -0.]\n",
      "[ 0. -0.  0.  0. -0. -0.]\n",
      "[-0. -0. -0.  0. -0.  0.]\n",
      "[-0. -0. -0.  0. -0.  0.]\n",
      "Mot: [ 1 2.9e-17 3.5e-18 1.4e-17 1.4e-17 7.1e-17 1e-16 2.8e-17 ]\n",
      "Mot: [ 0.98 -0.16 0.035 0.12 -0.049 -0.038 -0.055 0.0044 ]\n"
     ]
    },
    {
     "data": {
      "image/png": "[encoded data removed]",
      "text/plain": [
       "<matplotlib.figure.Figure at 0x7f9a071732b0>"
      ]
     },
     "metadata": {},
     "output_type": "display_data"
    }
   ],
   "source": [
    "errs = []\n",
    "gnorms = []\n",
    "plus = oexp\n",
    "m, c, gnorm = update_gn(points_a, points_b, mstart,plus)\n",
    "errs.append(c)\n",
    "gnorms.append(gnorm)\n",
    "for i in range(10):\n",
    "# while gnorm > 1e-6:\n",
    "    m, c, gnorm = update_gn(points_a, points_b, m, plus)\n",
    "    \n",
    "    errs.append(c)\n",
    "    gnorms.append(gnorm)\n",
    "# semilogy(costs)\n",
    "semilogy(gnorms)\n",
    "print(m0.rev() * m)\n",
    "print(m)"
   ]
  },
  {
   "cell_type": "code",
   "execution_count": 829,
   "metadata": {},
   "outputs": [
    {
     "name": "stdout",
     "output_type": "stream",
     "text": [
      "Mot: [ 1 0.0039 0.0016 -0.0021 -0.093 -0.085 -0.2 -0.00048 ]\n",
      "Mot: [ 1 5.3e-15 2.6e-14 5e-14 4.5e-14 4.8e-14 -7.9e-14 -1.7e-18 ]\n"
     ]
    },
    {
     "data": {
      "text/plain": [
       "[<matplotlib.lines.Line2D at 0x7f9a0c1022e8>]"
      ]
     },
     "execution_count": 829,
     "metadata": {},
     "output_type": "execute_result"
    },
    {
     "data": {
      "image/png": "[encoded data removed]",
      "text/plain": [
       "<matplotlib.figure.Figure at 0x7f9a06cc0518>"
      ]
     },
     "metadata": {},
     "output_type": "display_data"
    }
   ],
   "source": [
    "mes = MotorEstimationSolver(mstart)\n",
    "for A, B in zip(points_a, points_b):\n",
    "    mes.add_point_correspondences_residual_block(A,B)\n",
    "mes.set_parameterization('BIVECTOR_GENERATOR')\n",
    "mes.linear_solver_type = 'DENSE_QR'\n",
    "# mes.minimizer_type = 'LINE_SEARCH'\n",
    "# mes.line_search_direction_type = 'STEEPEST_DESCENT'\n",
    "# mes.line_search_direction_type = 'NONLINEAR_CONJUGATE_GRADIENT'\n",
    "# mes.nonlinear_conjugate_gradient_type = 'HESTENES_STIEFEL'\n",
    "# mes.line_search_type = 'ARMIJO'\n",
    "# mes.max_num_iterations=20\n",
    "(estimated_motor, summary, _) = mes.solve()\n",
    "print(estimated_motor)\n",
    "print(estimated_motor.rev() * m0)\n",
    "# print(summary['full_report'])\n",
    "semilogy(pd.DataFrame(summary['iterations'])['cost'])"
   ]
  },
  {
   "cell_type": "code",
   "execution_count": null,
   "metadata": {
    "collapsed": true
   },
   "outputs": [],
   "source": []
  },
  {
   "cell_type": "code",
   "execution_count": null,
   "metadata": {
    "collapsed": true
   },
   "outputs": [],
   "source": []
  },
  {
   "cell_type": "code",
   "execution_count": null,
   "metadata": {
    "collapsed": true
   },
   "outputs": [],
   "source": []
  },
  {
   "cell_type": "code",
   "execution_count": null,
   "metadata": {
    "collapsed": true
   },
   "outputs": [],
   "source": []
  },
  {
   "cell_type": "code",
   "execution_count": null,
   "metadata": {
    "collapsed": true
   },
   "outputs": [],
   "source": []
  },
  {
   "cell_type": "code",
   "execution_count": null,
   "metadata": {
    "collapsed": true
   },
   "outputs": [],
   "source": []
  },
  {
   "cell_type": "code",
   "execution_count": null,
   "metadata": {
    "collapsed": true
   },
   "outputs": [],
   "source": []
  }
 ],
 "metadata": {
  "kernelspec": {
   "display_name": "Python 3",
   "language": "python",
   "name": "python3"
  },
  "language_info": {
   "codemirror_mode": {
    "name": "ipython",
    "version": 3
   },
   "file_extension": ".py",
   "mimetype": "text/x-python",
   "name": "python",
   "nbconvert_exporter": "python",
   "pygments_lexer": "ipython3",
   "version": "3.6.2"
  }
 },
 "nbformat": 4,
 "nbformat_minor": 2
}
