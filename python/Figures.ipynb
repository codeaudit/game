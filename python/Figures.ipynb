{
 "cells": [
  {
   "cell_type": "code",
   "execution_count": 1,
   "metadata": {
    "collapsed": true
   },
   "outputs": [],
   "source": [
    "from __future__ import print_function"
   ]
  },
  {
   "cell_type": "code",
   "execution_count": 2,
   "metadata": {
    "collapsed": true
   },
   "outputs": [],
   "source": [
    "import sys\n",
    "sys.path.append('../build/')"
   ]
  },
  {
   "cell_type": "code",
   "execution_count": 3,
   "metadata": {
    "collapsed": false
   },
   "outputs": [
    {
     "name": "stdout",
     "output_type": "stream",
     "text": [
      "Populating the interactive namespace from numpy and matplotlib\n"
     ]
    }
   ],
   "source": [
    "%pylab inline\n",
    "np.set_printoptions(precision=4, suppress=True)"
   ]
  },
  {
   "cell_type": "code",
   "execution_count": 4,
   "metadata": {
    "collapsed": false
   },
   "outputs": [],
   "source": [
    "import versor as vsr\n",
    "from versor.drawing import *"
   ]
  },
  {
   "cell_type": "code",
   "execution_count": 5,
   "metadata": {
    "collapsed": true
   },
   "outputs": [],
   "source": [
    "from IPython.display import display\n",
    "from ipywidgets import HTML, Text, interact, widgets\n",
    "from traitlets import link, dlink"
   ]
  },
  {
   "cell_type": "code",
   "execution_count": 6,
   "metadata": {
    "collapsed": false
   },
   "outputs": [],
   "source": [
    "def rgb2hex(r, g, b):\n",
    "    return \"#{0:02x}{1:02x}{2:02x}\".format(r, g, b)"
   ]
  },
  {
   "cell_type": "markdown",
   "metadata": {},
   "source": [
    "# Figures"
   ]
  },
  {
   "cell_type": "markdown",
   "metadata": {},
   "source": [
    "## Reciprocal frame"
   ]
  },
  {
   "cell_type": "code",
   "execution_count": 7,
   "metadata": {
    "collapsed": false
   },
   "outputs": [
    {
     "name": "stdout",
     "output_type": "stream",
     "text": [
      "Tri: [ -0.67 ]\n",
      "Vec: [ 0.67 -0.67 0 ]\n",
      "[ 0.5 -1.   0. ]\n"
     ]
    }
   ],
   "source": [
    "R = vsr.Biv(pi/6.,0,0).exp()\n",
    "a1 = vsr.Vec(0.5,-1,0)\n",
    "a2 = vsr.Vec(1.,1.,0)\n",
    "a3 = vsr.Vec(-1,-1,1)\n",
    "\n",
    "A = (a1 ^ a2 ^ a3)\n",
    "\n",
    "print(A.inv())\n",
    "\n",
    "ra1 = (a2 ^ a3) <= A.inv()\n",
    "ra2 = (a3 ^ a1) <= A.inv()\n",
    "ra3 = (a1 ^ a2) <= A.inv()\n",
    "\n",
    "print(ra1)\n",
    "\n",
    "b = 1 * a1 + 2. * a2 + 1. * a3\n",
    "# print(b)\n",
    "coords = np.array([(b <= ra1),(b <= ra2), (b <= ra3)])\n",
    "# print(np.array([(b <= ra1),(b <= ra2), (b <= ra3)]))\n",
    "print(coords[0] * a1)\n",
    "\n",
    "scene = Scene(children=[\n",
    "#         frame_mesh(),\n",
    "        vector_mesh(a1, color='red', arrow=True),\n",
    "        vector_mesh(a2, color='green', arrow=True),\n",
    "        vector_mesh(a3, color='blue', arrow=True),\n",
    "        vector_mesh(a1, position=a2, color='gray'),\n",
    "        vector_mesh(a1, position=a3, color='gray'),\n",
    "        vector_mesh(a1, position=a3+a2, color='gray'),\n",
    "        vector_mesh(a2, position=a1, color='gray'),\n",
    "        vector_mesh(a2, position=a3, color='gray'),\n",
    "        vector_mesh(a2, position=a3+a1, color='gray'),\n",
    "        vector_mesh(a3, position=a1, color='gray'),\n",
    "        vector_mesh(a3, position=a2, color='gray'),\n",
    "        vector_mesh(a3, position=a1+a2, color='gray'),\n",
    "        vector_mesh(ra1, color='hotpink', arrow=True),\n",
    "        vector_mesh(ra2, color='lightgreen', arrow=True),\n",
    "        vector_mesh(ra3, color='lightskyblue', arrow=True),\n",
    "#         vector_mesh((coords[0] * a1), position=b, color='gray'),\n",
    "#         vector_mesh(b-a1, position=a1),\n",
    "#         vector_mesh(b-ra1, position=ra1),\n",
    "#         vector_mesh(b),\n",
    "\n",
    "        AmbientLight(color='#cccccc')])\n",
    "camera = PerspectiveCamera(position=[3, -3, 3])\n",
    "renderer = Renderer(camera=camera, \n",
    "                    scene=scene, \n",
    "                    controls=[TrackballControls(controlling=camera)],\n",
    "                    background = 'white')\n",
    "renderer.width = '1024'\n",
    "renderer.height = '768'\n",
    "\n",
    "display(renderer)"
   ]
  },
  {
   "cell_type": "markdown",
   "metadata": {},
   "source": [
    "## Duality"
   ]
  },
  {
   "cell_type": "code",
   "execution_count": 8,
   "metadata": {
    "collapsed": false
   },
   "outputs": [],
   "source": [
    "B = vsr.Biv(1,0,0)\n",
    "a = B.duale()\n",
    "\n",
    "scene = Scene(children=[\n",
    "        frame_mesh(),\n",
    "        vector_mesh(a,color='blue', arrow=True),\n",
    "        bivector_mesh(B,as_plane=False,color='hotpink'),\n",
    "#         DirectionalLight(color='#ccaabb', position=[1,1,1]),\n",
    "        AmbientLight(color='#cccccc')])\n",
    "camera = PerspectiveCamera(position=[3, -3, 3])\n",
    "renderer = Renderer(camera=camera, \n",
    "                    scene=scene, \n",
    "                    controls=[TrackballControls(controlling=camera)],\n",
    "                    background = 'white')\n",
    "# renderer.width = '1024'\n",
    "# renderer.height = '768'\n",
    "\n",
    "display(renderer)"
   ]
  },
  {
   "cell_type": "markdown",
   "metadata": {},
   "source": [
    "## Projection and Rejection"
   ]
  },
  {
   "cell_type": "code",
   "execution_count": 9,
   "metadata": {
    "collapsed": false
   },
   "outputs": [],
   "source": [
    "a = vsr.Vec(1,1,1)\n",
    "B = vsr.Biv(1,0,0)\n",
    "c = a.project_onto(B)\n",
    "d = a.reject_from(B)\n",
    "\n",
    "scene = Scene(children=[\n",
    "        frame_mesh(),\n",
    "        vector_mesh(a,color='gray', arrow=True),\n",
    "        vector_mesh(c,color='gray'),\n",
    "        vector_mesh(d,position=np.array(c).tolist(),color='gray'),\n",
    "        bivector_mesh(B,color='hotpink'),\n",
    "#         DirectionalLight(color='#ccaabb', position=[1,1,1]),\n",
    "        AmbientLight(color='#cccccc')])\n",
    "camera = PerspectiveCamera(position=[3, -3, 3])\n",
    "renderer = Renderer(camera=camera, \n",
    "                    scene=scene, \n",
    "                    controls=[TrackballControls(controlling=camera)],\n",
    "                    background = 'white')\n",
    "# renderer.width = '1024'\n",
    "# renderer.height = '768'\n",
    "display(renderer)"
   ]
  },
  {
   "cell_type": "markdown",
   "metadata": {},
   "source": [
    "## Reflection"
   ]
  },
  {
   "cell_type": "code",
   "execution_count": 10,
   "metadata": {
    "collapsed": false
   },
   "outputs": [],
   "source": [
    "a = vsr.Vec(1,0,1)\n",
    "B = vsr.Biv(2,0,0)\n",
    "n = B.duale().unit()\n",
    "a_reflected = a.reflect_in_line(n)\n",
    "a_reflected2 = a.reflect_in_plane(n)\n",
    "\n",
    "children = [\n",
    "    frame_mesh(),\n",
    "    vector_mesh(a,color='black', arrow=True),\n",
    "    vector_mesh(a_reflected,color='black', arrow=True),\n",
    "    vector_mesh(a_reflected2,color='black', arrow=True),\n",
    "#     vector_mesh(n,color='black', arrow=True),\n",
    "    bivector_mesh(B, as_plane=True,color='hotpink')]\n",
    "\n",
    "children[-1].material.transparent = True\n",
    "children[-1].material.opacity = 0.75\n",
    "\n",
    "\n",
    "def show(children):\n",
    "    scene = Scene(children= children + [AmbientLight(color='#cccccc')])\n",
    "    camera = PerspectiveCamera(position=[1, -3, 0])\n",
    "    renderer = Renderer(camera=camera, \n",
    "                        scene=scene, \n",
    "                        controls=[TrackballControls(controlling=camera)],\n",
    "                        background = 'white')\n",
    "    return renderer\n",
    "display(show(children))"
   ]
  },
  {
   "cell_type": "markdown",
   "metadata": {},
   "source": [
    "## Rotation"
   ]
  },
  {
   "cell_type": "code",
   "execution_count": 11,
   "metadata": {
    "collapsed": false
   },
   "outputs": [],
   "source": [
    "n1 = vsr.Vec(0,1,0).unit()\n",
    "n2 = n1.spin(vsr.Biv(-np.deg2rad(30) / 2,0,0).exp())\n",
    "B = n1 ^ n2\n",
    "R = n1 * n2\n",
    "a = vsr.Vec(1,0,1).unit()\n",
    "a_rot = a.reflect_in_line(n2).reflect_in_line(n1)\n",
    "\n",
    "B_mesh = bivector_mesh(B,color='gray')\n",
    "B_mesh.material.opacity = 0.9\n",
    "B_mesh.material.transparent = True\n",
    "\n",
    "scene = Scene(children=[\n",
    "#         frame_mesh(),\n",
    "        vector_mesh(n1,color='yellow'),\n",
    "        vector_mesh(n2,color='cyan'),\n",
    "        vector_mesh(a, color='hotpink'),\n",
    "        vector_mesh(a.reflect_in_line(n2)),\n",
    "        vector_mesh(a_rot, color='black'),\n",
    "#         bivector_mesh(n1.unduale(),color='yellow'),\n",
    "#         bivector_mesh(n2.unduale(),color='cyan'),\n",
    "        B_mesh,\n",
    "        AmbientLight(color='#cccccc')])\n",
    "\n",
    "camera = PerspectiveCamera(position=[3, -3, 3])\n",
    "renderer = Renderer(camera=camera, \n",
    "                    scene=scene, \n",
    "                    controls=[TrackballControls(controlling=camera)],\n",
    "                    background = 'white')\n",
    "# renderer.width = '1024'\n",
    "# renderer.height = '768'\n",
    "display(renderer)"
   ]
  },
  {
   "cell_type": "markdown",
   "metadata": {
    "collapsed": false
   },
   "source": [
    "# Conformal Geometric Algebra"
   ]
  },
  {
   "cell_type": "code",
   "execution_count": 12,
   "metadata": {
    "collapsed": false
   },
   "outputs": [],
   "source": [
    "p1 = vsr.Vec(1,0,1).null()\n",
    "p2 = vsr.Vec(0,1,1).null()\n",
    "\n",
    "scene = Scene(children=[\n",
    "        frame_mesh(),\n",
    "        point_mesh(p1,color='lightskyblue'),\n",
    "        vector_mesh(p1.vec(),color='lightslategray', arrow=True),\n",
    "        point_mesh(p2,color='lightskyblue'),\n",
    "        vector_mesh(p2.vec(),color='lightslategray', arrow=True),\n",
    "\n",
    "        AmbientLight(color='#cccccc')])\n",
    "\n",
    "camera = PerspectiveCamera(position=[3, -3, 3])\n",
    "renderer = Renderer(camera=camera, \n",
    "                    scene=scene, \n",
    "                    controls=[TrackballControls(controlling=camera)],\n",
    "                    background = 'white')\n",
    "# renderer.width = '1024'\n",
    "# renderer.height = '768'\n",
    "display(renderer)"
   ]
  },
  {
   "cell_type": "code",
   "execution_count": 13,
   "metadata": {
    "collapsed": false
   },
   "outputs": [],
   "source": [
    "# p1 = vsr.Vec(1,0,1).null()\n",
    "p2 = vsr.Vec(0,1,1).null()\n",
    "p3 = vsr.Vec(1,1,1).null()\n",
    "p4 = vsr.Vec(0,0,1.5).null()\n",
    "pln = vsr.Pln(p2, p3, p4).dual()\n",
    "\n",
    "\n",
    "scene = Scene(children=[\n",
    "        frame_mesh(),\n",
    "        point_mesh(p2,color='lightskyblue'),\n",
    "        vector_mesh(p2.vec(),color='lightskyblue', arrow=True),\n",
    "\n",
    "        point_mesh(p3,color='lightskyblue'),\n",
    "        point_mesh(p4,color='lightskyblue'),\n",
    "        plane_mesh(pln, width=3, height=3, color='hotpink'),\n",
    "\n",
    "        AmbientLight(color='#cccccc')])\n",
    "\n",
    "camera = PerspectiveCamera(position=[3, -3, 3])\n",
    "renderer = Renderer(camera=camera, \n",
    "                    scene=scene, \n",
    "                    controls=[TrackballControls(controlling=camera)],\n",
    "                    background = 'white')\n",
    "renderer.width = '1024'\n",
    "renderer.height = '768'\n",
    "display(renderer)"
   ]
  },
  {
   "cell_type": "code",
   "execution_count": 14,
   "metadata": {
    "collapsed": false
   },
   "outputs": [],
   "source": [
    "p1 = vsr.Vec(1,0,1).null()\n",
    "p2 = vsr.Vec(0,1,1).null()\n",
    "\n",
    "ni = CGA((*[0]*32))\n",
    "ni[5] = 1\n",
    "\n",
    "pln = vsr.Pln(p2, p3, p4).dual()\n",
    "\n",
    "scene = Scene(children=[\n",
    "        frame_mesh(),\n",
    "        point_mesh(p1,color='lightskyblue'),\n",
    "        point_mesh(p2,color='lightskyblue'),\n",
    "        vector_mesh((p2.vec() - p1.vec()), position=p1),\n",
    "\n",
    "        AmbientLight(color='#cccccc')])\n",
    "\n",
    "camera = PerspectiveCamera(position=[3, -3, 3])\n",
    "renderer = Renderer(camera=camera, \n",
    "                    scene=scene, \n",
    "                    controls=[TrackballControls(controlling=camera)],\n",
    "                    background = 'white')\n",
    "renderer.width = '1024'\n",
    "renderer.height = '768'\n",
    "display(renderer)"
   ]
  },
  {
   "cell_type": "code",
   "execution_count": 15,
   "metadata": {
    "collapsed": false
   },
   "outputs": [
    {
     "name": "stdout",
     "output_type": "stream",
     "text": [
      "Vec: [ 0 0.6 1.2 ]\n"
     ]
    }
   ],
   "source": [
    "# p1 = vsr.Vec(1,0,1).null()\n",
    "p2 = vsr.Vec(0,1,1).null()\n",
    "p3 = vsr.Vec(1,1,1).null()\n",
    "p4 = vsr.Vec(0,0,1.5).null()\n",
    "pln = vsr.Pln(p2, p3, p4).dual().unit()\n",
    "\n",
    "loc = pln.loc(vsr.Vec(0,0,0).null()).vec()\n",
    "n = loc - vsr.Vec(0,0,0)\n",
    "print(n)\n",
    "\n",
    "\n",
    "scene = Scene(children=[\n",
    "        frame_mesh(),\n",
    "#         point_mesh(loc,color='lightskyblue'),\n",
    "        plane_mesh(pln, width=3, height=3, color='hotpink'),\n",
    "        vector_mesh(n),\n",
    "        vector_mesh(n,position=loc,arrow=True),\n",
    "        AmbientLight(color='#cccccc')])\n",
    "\n",
    "camera = PerspectiveCamera(position=[3, -3, 3])\n",
    "renderer = Renderer(camera=camera, \n",
    "                    scene=scene, \n",
    "                    controls=[TrackballControls(controlling=camera)],\n",
    "                    background = 'white')\n",
    "renderer.width = '1024'\n",
    "renderer.height = '768'\n",
    "display(renderer)"
   ]
  },
  {
   "cell_type": "code",
   "execution_count": 16,
   "metadata": {
    "collapsed": false
   },
   "outputs": [
    {
     "data": {
      "text/plain": [
       "Vec: [ 0 0.6 1.2 ]"
      ]
     },
     "execution_count": 16,
     "metadata": {},
     "output_type": "execute_result"
    }
   ],
   "source": [
    "n"
   ]
  },
  {
   "cell_type": "markdown",
   "metadata": {},
   "source": [
    "### Circle"
   ]
  },
  {
   "cell_type": "code",
   "execution_count": 17,
   "metadata": {
    "collapsed": false
   },
   "outputs": [
    {
     "name": "stdout",
     "output_type": "stream",
     "text": [
      "(Dls: [ 0.5 0.1646 0.5792 1 -0.2562 ], Dls: [ 0.5 0.8354 1.921 1 1.756 ])\n"
     ]
    }
   ],
   "source": [
    "# p1 = vsr.Vec(1,0,1).null()\n",
    "p2 = vsr.Vec(0,1,1).null()\n",
    "p3 = vsr.Vec(1,1,1).null()\n",
    "p4 = vsr.Vec(0,0,1.5).null()\n",
    "cir = vsr.Cir(p2, p3, p4)\n",
    "\n",
    "pp = cir.dual()\n",
    "a,b = pp.split()\n",
    "print(pp.split())\n",
    "\n",
    "scene = Scene(children=[\n",
    "        frame_mesh(),\n",
    "        point_mesh(p2,color='lightskyblue'),\n",
    "        point_mesh(p3,color='lightskyblue'),\n",
    "        point_mesh(p4,color='lightskyblue'),\n",
    "        \n",
    "        point_mesh(a,color='red'),\n",
    "        point_mesh(b,color='green'),\n",
    "        \n",
    "#         circle_mesh(cir, color='coral'),\n",
    "        \n",
    "        circle_mesh((a ^ b).dual(), color='red'),\n",
    "        \n",
    "        \n",
    "\n",
    "        AmbientLight(color='#cccccc')])\n",
    "\n",
    "camera = PerspectiveCamera(position=[3, -3, 3], up=[0,0,1])\n",
    "renderer = Renderer(camera=camera, \n",
    "                    scene=scene, \n",
    "                    controls=[TrackballControls(controlling=camera)],\n",
    "                    background = 'white')\n",
    "renderer.width = '1024'\n",
    "renderer.height = '768'\n",
    "display(renderer)"
   ]
  },
  {
   "cell_type": "code",
   "execution_count": 18,
   "metadata": {
    "collapsed": false
   },
   "outputs": [
    {
     "data": {
      "text/plain": [
       "0.7499999999999999"
      ]
     },
     "execution_count": 18,
     "metadata": {},
     "output_type": "execute_result"
    }
   ],
   "source": [
    "(a ^ b).dual().radius()"
   ]
  },
  {
   "cell_type": "code",
   "execution_count": 19,
   "metadata": {
    "collapsed": false
   },
   "outputs": [
    {
     "name": "stdout",
     "output_type": "stream",
     "text": [
      "(Dls: [ 0.5 0.1646 0.5792 1 -0.2562 ], Dls: [ 0.5 0.8354 1.921 1 1.756 ])\n"
     ]
    }
   ],
   "source": [
    "p2 = vsr.Vec(0,1,1).null()\n",
    "p3 = vsr.Vec(1,1,1).null()\n",
    "p4 = vsr.Vec(0,0,1.5).null()\n",
    "cir = vsr.Cir(p2, p3, p4)\n",
    "\n",
    "pp = cir.dual()\n",
    "a,b = pp.split()\n",
    "print(pp.split())"
   ]
  },
  {
   "cell_type": "markdown",
   "metadata": {},
   "source": [
    "### Direct Line"
   ]
  },
  {
   "cell_type": "code",
   "execution_count": 20,
   "metadata": {
    "collapsed": false
   },
   "outputs": [
    {
     "name": "stdout",
     "output_type": "stream",
     "text": [
      "Dll: [ 0 -0.7071 0.7071 -0.7071 0.7071 0.7071 ]\n"
     ]
    }
   ],
   "source": [
    "p1 = vsr.Vec(1,0,1).null()\n",
    "p2 = vsr.Vec(2,1,1).null()\n",
    "l = vsr.Dll(p1,p2).unit()\n",
    "print(l)\n",
    "dlp = vsr.Dlp(l.dir().vec().unit(), 0)\n",
    "\n",
    "ld = vsr.Vec(*np.array(l)[3:])\n",
    "\n",
    "l_dir = l.dir().vec().unit()\n",
    "\n",
    "l_loc = l.loc(vsr.Vec(0,0,0).null()).vec()\n",
    "\n",
    "d = l_loc <= l_dir.unduale()\n",
    "\n",
    "vertices = [[0,0,0], \n",
    "            np.array(p1.vec()).tolist(),\n",
    "            np.array(p2.vec()).tolist(),\n",
    "            np.array(p2.vec() - p1.vec()).tolist() \n",
    "           ]\n",
    "faces= [[1,2,3],[1,4,3]]\n",
    "\n",
    "scene = Scene(children=[\n",
    "        frame_mesh(),\n",
    "        point_mesh(p1,color='#ff00ff'),\n",
    "        vector_mesh(p1.vec(),color='#ff00ff'),\n",
    "#         plane_mesh(dlp, color='plum'),\n",
    "        Mesh(geometry=PlainGeometry(vertices=vertices, faces=faces),\n",
    "             material=LambertMaterial(color='palegreen',\n",
    "                                      transparent=True,\n",
    "                                      opacity=0.75)),\n",
    "        \n",
    "        point_mesh(p2,color='#00ffff'),\n",
    "#         vector_mesh(l_dir,position=p1,color='#ffff00', arrow=True),\n",
    "#         bivector_mesh(l.biv(), color='#ffff00'),\n",
    "#         bivector_mesh(p1.vec() ^ p2.vec(), color='coral', as_plane=True),\n",
    "#         vector_mesh(l.drv().vec(), color='coral'),\n",
    "#         point_mesh(l.meet(dlp), color='red'),\n",
    "\n",
    "        line_mesh(l, length=100),\n",
    "        \n",
    "        AmbientLight(color='#cccccc')])\n",
    "\n",
    "camera = PerspectiveCamera(position=[-3, 3, 3], up=[0, 0, 1],\n",
    "                      children=[DirectionalLight(color='white', \n",
    "                                                 position=[3, 5, 1], \n",
    "                                                 intensity=0.5)])\n",
    "\n",
    "renderer = Renderer(camera=camera, \n",
    "                    scene=scene, \n",
    "                    controls=[TrackballControls(controlling=camera)],\n",
    "                    background = 'white')\n",
    "renderer.width = '1024'\n",
    "renderer.height = '768'\n",
    "display(renderer)"
   ]
  },
  {
   "cell_type": "markdown",
   "metadata": {},
   "source": [
    "### Dual Line"
   ]
  },
  {
   "cell_type": "code",
   "execution_count": 21,
   "metadata": {
    "collapsed": false
   },
   "outputs": [
    {
     "name": "stdout",
     "output_type": "stream",
     "text": [
      "Dll: [ 0 -0.7071 0.7071 -0.7071 0.7071 0.7071 ]\n"
     ]
    }
   ],
   "source": [
    "p1 = vsr.Vec(1,0,1).null()\n",
    "p2 = vsr.Vec(2,1,1).null()\n",
    "l = vsr.Dll(p1,p2).unit()\n",
    "print(l)\n",
    "dlp = vsr.Dlp(l.dir().vec().unit(), 0)\n",
    "\n",
    "ld = vsr.Vec(*np.array(l)[3:])\n",
    "\n",
    "l_dir = l.dir().vec().unit()\n",
    "\n",
    "l_loc = l.loc(vsr.Vec(0,0,0).null()).vec()\n",
    "\n",
    "d = l_loc <= l_dir.unduale()\n",
    "\n",
    "vertices = [[0,0,0], \n",
    "            np.array(p1.vec()).tolist(),\n",
    "            np.array(p2.vec()).tolist(),\n",
    "            np.array(p2.vec() - p1.vec()).tolist() \n",
    "           ]\n",
    "faces= [[1,2,3],[1,4,3]]\n",
    "\n",
    "scene = Scene(children=[\n",
    "        frame_mesh(),\n",
    "#         point_mesh(p1,color='#ff00ff'),\n",
    "        vector_mesh(p1.vec(),color='black', arrow=True),\n",
    "#         plane_mesh(dlp, color='plum'),\n",
    "#         Mesh(geometry=PlainGeometry(vertices=vertices, faces=faces),\n",
    "#              material=LambertMaterial(color='palegreen',\n",
    "#                                       transparent=True,\n",
    "#                                       opacity=0.75)),\n",
    "        \n",
    "#         point_mesh(p2,color='#00ffff'),\n",
    "#         vector_mesh(l_dir,position=p1,color='#ffff00', arrow=True),\n",
    "        bivector_mesh(l.biv(), color='gray'),\n",
    "#         bivector_mesh(p1.vec() ^ p2.vec(), color='coral', as_plane=True),\n",
    "        vector_mesh(l.drv().vec(), color='deepskyblue'),\n",
    "#         point_mesh(l.meet(dlp), color='red'),\n",
    "\n",
    "        line_mesh(l),\n",
    "        \n",
    "        AmbientLight(color='#cccccc')])\n",
    "\n",
    "camera = PerspectiveCamera(position=[-3, 3, 3], up=[0, 0, 1],\n",
    "                      children=[DirectionalLight(color='white', \n",
    "                                                 position=[3, 5, 1], \n",
    "                                                 intensity=0.5)])\n",
    "renderer = Renderer(camera=camera, \n",
    "                    scene=scene, \n",
    "                    controls=[TrackballControls(controlling=camera)],\n",
    "                    background = 'white')\n",
    "renderer.width = '1024'\n",
    "renderer.height = '768'\n",
    "display(renderer)"
   ]
  },
  {
   "cell_type": "markdown",
   "metadata": {},
   "source": [
    "### Tangent vector"
   ]
  },
  {
   "cell_type": "code",
   "execution_count": 22,
   "metadata": {
    "collapsed": false
   },
   "outputs": [
    {
     "name": "stdout",
     "output_type": "stream",
     "text": [
      "Dll: [ 0 -0.7071 0.7071 -0.7071 0.7071 0.7071 ]\n"
     ]
    }
   ],
   "source": [
    "p1 = vsr.Vec(1,0,1).null()\n",
    "p2 = vsr.Vec(2,1,1).null()\n",
    "l = vsr.Dll(p1,p2).unit()\n",
    "print(l)\n",
    "dlp = vsr.Dlp(l.dir().vec().unit(), 0)\n",
    "\n",
    "ld = vsr.Vec(*np.array(l)[3:])\n",
    "\n",
    "l_dir = l.dir().vec().unit()\n",
    "\n",
    "l_loc = l.loc(vsr.Vec(0,0,0).null()).vec()\n",
    "\n",
    "d = l_loc <= l_dir.unduale()\n",
    "\n",
    "vertices = [[0,0,0], \n",
    "            np.array(p1.vec()).tolist(),\n",
    "            np.array(p2.vec()).tolist(),\n",
    "            np.array(p2.vec() - p1.vec()).tolist() \n",
    "           ]\n",
    "faces= [[1,2,3],[1,4,3]]\n",
    "\n",
    "scene = Scene(children=[\n",
    "        frame_mesh(),\n",
    "        point_mesh(p1,color='#ff00ff'),\n",
    "        vector_mesh(p1.vec(),color='#ff00ff'),\n",
    "        vector_mesh((p2.vec() - p1.vec()).unit(), position=p1.vec(), arrow=True),\n",
    "        vector_mesh((p2.vec() - p1.vec()).unit(), arrow=True),\n",
    "\n",
    "        \n",
    "        AmbientLight(color='#cccccc')])\n",
    "\n",
    "camera = PerspectiveCamera(position=[3, -3, 3])\n",
    "renderer = Renderer(camera=camera, \n",
    "                    scene=scene, \n",
    "                    controls=[TrackballControls(controlling=camera)],\n",
    "                    background = 'white')\n",
    "renderer.width = '1024'\n",
    "renderer.height = '768'\n",
    "display(renderer)"
   ]
  },
  {
   "cell_type": "markdown",
   "metadata": {},
   "source": [
    "### Carrier flats"
   ]
  },
  {
   "cell_type": "code",
   "execution_count": 23,
   "metadata": {
    "collapsed": false
   },
   "outputs": [],
   "source": [
    "# p1 = vsr.Vec(1,0,1).null()\n",
    "p2 = vsr.Vec(0,1,1).null()\n",
    "p3 = vsr.Vec(1,1,1).null()\n",
    "p4 = vsr.Vec(0,0,1.5).null()\n",
    "cir = vsr.Cir(p2, p3, p4)\n",
    "pln = vsr.Pln(p2,p3,p4)\n",
    "\n",
    "\n",
    "scene = Scene(children=[\n",
    "        frame_mesh(),\n",
    "#         point_mesh(p2,color='lightskyblue'),\n",
    "#         point_mesh(p3,color='lightskyblue'),\n",
    "#         point_mesh(p4,color='lightskyblue'),\n",
    "        circle_mesh(cir, color='black'),\n",
    "        plane_mesh(pln, width=3, height=3, color='lightskyblue'),\n",
    "\n",
    "        AmbientLight(color='#cccccc')])\n",
    "\n",
    "camera = PerspectiveCamera(position=[3, -3, 3])\n",
    "renderer = Renderer(camera=camera, \n",
    "                    scene=scene, \n",
    "                    controls=[TrackballControls(controlling=camera)],\n",
    "                    background = 'white')\n",
    "renderer.width = '1024'\n",
    "renderer.height = '768'\n",
    "display(renderer)"
   ]
  },
  {
   "cell_type": "markdown",
   "metadata": {},
   "source": [
    "### Transformations"
   ]
  },
  {
   "cell_type": "markdown",
   "metadata": {},
   "source": [
    "#### Transformations"
   ]
  },
  {
   "cell_type": "code",
   "execution_count": 24,
   "metadata": {
    "collapsed": false
   },
   "outputs": [],
   "source": [
    "\n",
    "normal = vsr.Vec(1,1,1).unit()\n",
    "pao = vsr.Vec(1,0,0).null()\n",
    "pln1 = vsr.Dlp(normal,1.)\n",
    "pln2 = vsr.Dlp(normal,1.75)\n",
    "\n",
    "p1 = pao.reflect_in_plane(pln1)\n",
    "p2 = p1.reflect_in_plane(pln2)\n",
    "\n",
    "scene = Scene(children=[\n",
    "        frame_mesh(),\n",
    "        plane_mesh(pln1, color='hotpink', width=2., height=2.),\n",
    "        plane_mesh(pln2, color='hotpink', width=2., height=2.),\n",
    "        \n",
    "        point_mesh(pao, color='lightskyblue'),\n",
    "        point_mesh(p1, color='lightskyblue'),\n",
    "        point_mesh(p2, color='lightskyblue'),\n",
    "\n",
    "#         point_mesh(pao.spin(T)),\n",
    "        \n",
    "        AmbientLight(color='#cccccc')])\n",
    "\n",
    "camera = PerspectiveCamera(position=[3, -3, 3])\n",
    "renderer = Renderer(camera=camera, \n",
    "                    scene=scene, \n",
    "                    controls=[TrackballControls(controlling=camera)],\n",
    "                    background = 'white')\n",
    "# renderer.width = '1024'\n",
    "# renderer.height = '768'\n",
    "display(renderer)"
   ]
  },
  {
   "cell_type": "markdown",
   "metadata": {},
   "source": [
    "#### General Rotations"
   ]
  },
  {
   "cell_type": "code",
   "execution_count": 25,
   "metadata": {
    "collapsed": false
   },
   "outputs": [
    {
     "name": "stdout",
     "output_type": "stream",
     "text": [
      "Mot: [ 0.87 0 0 0.5 0 0.5 -0.5 0 ]\n"
     ]
    }
   ],
   "source": [
    "t = vsr.Vec(0,1,1)\n",
    "T = t.trs()\n",
    "R = vsr.Biv(0,0,-pi/6).exp()\n",
    "B = R.log().unit()\n",
    "G = T * R * T.rev()\n",
    "print(G)\n",
    "\n",
    "p = vsr.Vec(1,1,2).null()\n",
    "ptrsrev = p.spin(T.rev())\n",
    "prottrsrev = ptrsrev.spin(R)\n",
    "pfinal = prottrsrev.spin(T)\n",
    "\n",
    "line = G.log().unit()\n",
    "\n",
    "v1 = p.vec() - line.loc(p).vec() \n",
    "v2 = pfinal.vec() - line.loc(p).vec()\n",
    "\n",
    "scene = Scene(children=[\n",
    "        frame_mesh(),\n",
    "        vector_mesh(t,color='black', arrow=True),\n",
    "        point_mesh(p, color='yellow'),\n",
    "        point_mesh(ptrsrev, color='orange'),\n",
    "        point_mesh(prottrsrev, color='hotpink'),\n",
    "        point_mesh(p.spin(G), color='deepskyblue'),\n",
    "        line_mesh(line, length=100),\n",
    "        vector_mesh((t <= B), color='deepskyblue'),\n",
    "        \n",
    "        AmbientLight(color='#cccccc')])\n",
    "\n",
    "camera = PerspectiveCamera(position=[3, -3, 3])\n",
    "renderer = Renderer(camera=camera, \n",
    "                    scene=scene, \n",
    "                    controls=[TrackballControls(controlling=camera)],\n",
    "                    background = 'white')\n",
    "renderer.width = '1024'\n",
    "renderer.height = '768'\n",
    "display(renderer)"
   ]
  },
  {
   "cell_type": "markdown",
   "metadata": {},
   "source": [
    "####  Motor and Screws"
   ]
  },
  {
   "cell_type": "code",
   "execution_count": 26,
   "metadata": {
    "collapsed": false
   },
   "outputs": [
    {
     "name": "stdout",
     "output_type": "stream",
     "text": [
      "Mot: [ 0.87 0 0 0.5 0 0.5 -0.5 0 ]\n"
     ]
    }
   ],
   "source": [
    "t = vsr.Vec(0,1,1)\n",
    "T = t.trs()\n",
    "R = vsr.Biv(0,0,-pi/6).exp()\n",
    "B = R.log().unit()\n",
    "G = T * R * T.rev()\n",
    "print(G)\n",
    "\n",
    "p = vsr.Vec(1,1,2).null()\n",
    "ptrsrev = p.spin(T.rev())\n",
    "prottrsrev = ptrsrev.spin(R)\n",
    "ptrt = prottrsrev.spin(T)\n",
    "\n",
    "tpar = R.log().unit()\n",
    "Tpar = tpar.duale().trs()\n",
    "pfinal = ptrt.spin(Tpar)\n",
    "\n",
    "w = pfinal.vec() - ptrt.vec()\n",
    "\n",
    "line = G.log().unit()\n",
    "\n",
    "pc = line.loc(p).vec() \n",
    "v1 = p.vec() - pc \n",
    "v2 = ptrt.vec() - pc\n",
    "\n",
    "m1 = vsr.Vec(1,1,1).trs() * vsr.Biv(0,0,-pi/6).exp()\n",
    "m1log = m1.log().unit()\n",
    "m2 = Tpar*vsr.Rot(1,0,0,0) * G\n",
    "m2log = m2.log().unit()\n",
    "\n",
    "mi = m2log.ratio(m1log,0.2)\n",
    "\n",
    "\n",
    "scene = Scene(children=[\n",
    "        frame_mesh(),\n",
    "        vector_mesh(t,color='gray', arrow=True),\n",
    "        point_mesh(p, color='darkturquoise'),\n",
    "        point_mesh(ptrt, color='deepskyblue'),\n",
    "        point_mesh(pfinal, color='dodgerblue'),\n",
    "        vector_mesh(w, position=ptrt.vec(), color='gray', arrow=True),\n",
    "        bivector_mesh(B, color='lightpink'),\n",
    "        line_mesh(line, length=100),\n",
    "        \n",
    "        vector_mesh(v1, position=pc, color='gray'),\n",
    "        vector_mesh(v2, position=pc, color='gray'),\n",
    "        AmbientLight(color='#cccccc')])\n",
    "\n",
    "camera = PerspectiveCamera(position=[3, -3, 3])\n",
    "renderer = Renderer(camera=camera, \n",
    "                    scene=scene, \n",
    "                    controls=[TrackballControls(controlling=camera)],\n",
    "                    background = 'white')\n",
    "renderer.width = '1024'\n",
    "renderer.height = '768'\n",
    "display(renderer)"
   ]
  },
  {
   "cell_type": "code",
   "execution_count": 27,
   "metadata": {
    "collapsed": false
   },
   "outputs": [
    {
     "data": {
      "text/plain": [
       "Mot: [ 1 0 0 0 0 0.037 -0.14 0 ]"
      ]
     },
     "execution_count": 27,
     "metadata": {},
     "output_type": "execute_result"
    }
   ],
   "source": [
    "mi = m1log.ratio(m2log,0.2)\n",
    "mi"
   ]
  },
  {
   "cell_type": "code",
   "execution_count": 28,
   "metadata": {
    "collapsed": false
   },
   "outputs": [
    {
     "data": {
      "text/plain": [
       "Dls: [ 1 1.2 1.2 1 1.94 ]"
      ]
     },
     "execution_count": 28,
     "metadata": {},
     "output_type": "execute_result"
    }
   ],
   "source": [
    "vsr.Vec(0,0,0).null().spin(m1 * mi)"
   ]
  },
  {
   "cell_type": "code",
   "execution_count": 29,
   "metadata": {
    "collapsed": false
   },
   "outputs": [
    {
     "data": {
      "text/plain": [
       "Mot: [ 0.87 0 0 0.5 -0.43 0.5 -0.5 -0.25 ]"
      ]
     },
     "execution_count": 29,
     "metadata": {},
     "output_type": "execute_result"
    }
   ],
   "source": [
    "m2"
   ]
  },
  {
   "cell_type": "code",
   "execution_count": 30,
   "metadata": {
    "collapsed": false
   },
   "outputs": [
    {
     "data": {
      "text/plain": [
       "Mot: [ 0.87 -0 -0 -0.5 0.43 -0.5 0.5 -0.25 ]"
      ]
     },
     "execution_count": 30,
     "metadata": {},
     "output_type": "execute_result"
    }
   ],
   "source": [
    "m2.rev()"
   ]
  },
  {
   "cell_type": "code",
   "execution_count": 31,
   "metadata": {
    "collapsed": false
   },
   "outputs": [
    {
     "data": {
      "text/plain": [
       "Dll: [ 0 0 0.5236 -0.5 -0.1917 -0.7152 ]"
      ]
     },
     "execution_count": 31,
     "metadata": {},
     "output_type": "execute_result"
    }
   ],
   "source": [
    "m1.log()"
   ]
  },
  {
   "cell_type": "code",
   "execution_count": 32,
   "metadata": {
    "collapsed": false
   },
   "outputs": [
    {
     "data": {
      "text/plain": [
       "Dll: [ 0 0 0.5236 -0.5 0.5236 -0.5236 ]"
      ]
     },
     "execution_count": 32,
     "metadata": {},
     "output_type": "execute_result"
    }
   ],
   "source": [
    "m2.log()"
   ]
  },
  {
   "cell_type": "code",
   "execution_count": 33,
   "metadata": {
    "collapsed": false
   },
   "outputs": [
    {
     "name": "stdout",
     "output_type": "stream",
     "text": [
      "Dls: [ 1.677 0.677 0.677 1 2.552 ]\n"
     ]
    }
   ],
   "source": [
    "print(pln2.loc(pao))"
   ]
  },
  {
   "cell_type": "code",
   "execution_count": 34,
   "metadata": {
    "collapsed": false
   },
   "outputs": [],
   "source": [
    "\n",
    "l1 = vsr.Dll(vsr.Vec(0,0,1).null(), vsr.Vec(1,1,1).null()).unit()\n",
    "l = vsr.Dll(vsr.Vec(0,0.,1).null(), vsr.Vec(1,0,1).null()).unit()\n",
    "\n",
    "p1 = vsr.Vec(0,0,0).null().reflect_in_line(l1.inv())\n",
    "p2 = vsr.Vec(0,0,0).null().reflect_in_line(l1.inv()).reflect_in_line(l)\n",
    "\n",
    "mot = l.ratio(l1,1.0)\n",
    "pao = vsr.Vec(0,0,0).null()\n",
    "\n",
    "scene = Scene(children=[\n",
    "        frame_mesh(),\n",
    "\n",
    "        point_mesh(p1, color='magenta'),\n",
    "        point_mesh(p2, color='cyan'),\n",
    "        line_mesh(l1, color='red', length=100),\n",
    "\n",
    "        line_mesh(l1.inv(), color='magenta', length=100),\n",
    "        line_mesh(l, color='cyan', length=100),\n",
    "#         line_mesh( color='cyan', length=100),\n",
    "        Line(geometry=PlainGeometry(vertices=[[0,0,0], np.array(p1.vec()).tolist()],\n",
    "                                   colors = ['magenta', 'magenta']), \n",
    "            material=LineBasicMaterial(linewidth=1,\n",
    "                                       vertexColors='VertexColors'), \n",
    "            type='LinePieces'),\n",
    "        Line(geometry=PlainGeometry(vertices=[np.array(p1.vec()).tolist(), np.array(p2.vec()).tolist()],\n",
    "                                   colors = ['cyan', 'cyan']), \n",
    "            material=LineBasicMaterial(linewidth=1,\n",
    "                                       vertexColors='VertexColors'), \n",
    "            type='LinePieces'),\n",
    "        \n",
    "        point_mesh(pao.spin(mot), color='hotpink'),\n",
    "        line_mesh(l.spin(mot)),\n",
    "        \n",
    "        AmbientLight(color='#cccccc')])\n",
    "\n",
    "camera = PerspectiveCamera(position=[3, -3, 3])\n",
    "renderer = Renderer(camera=camera, \n",
    "                    scene=scene, \n",
    "                    controls=[TrackballControls(controlling=camera)],\n",
    "                    background = 'white')\n",
    "# renderer.width = '1024'\n",
    "# renderer.height = '768'\n",
    "display(renderer)"
   ]
  },
  {
   "cell_type": "code",
   "execution_count": 35,
   "metadata": {
    "collapsed": false
   },
   "outputs": [
    {
     "name": "stdout",
     "output_type": "stream",
     "text": [
      "Pnt: [ 0 0 0 1 0 ]\n"
     ]
    }
   ],
   "source": [
    "print(p2)"
   ]
  },
  {
   "cell_type": "code",
   "execution_count": 36,
   "metadata": {
    "collapsed": false
   },
   "outputs": [
    {
     "name": "stdout",
     "output_type": "stream",
     "text": [
      "Pnt: [ 0 0 0 1 0 ]\n"
     ]
    }
   ],
   "source": [
    "print(p2)"
   ]
  },
  {
   "cell_type": "code",
   "execution_count": 37,
   "metadata": {
    "collapsed": false
   },
   "outputs": [
    {
     "ename": "TypeError",
     "evalue": "unsupported operand type(s) for /: 'versor_pybind11.Dll' and 'float'",
     "output_type": "error",
     "traceback": [
      "\u001b[0;31m---------------------------------------------------------------------------\u001b[0m",
      "\u001b[0;31mTypeError\u001b[0m                                 Traceback (most recent call last)",
      "\u001b[0;32m<ipython-input-37-3a7a93cb4ac9>\u001b[0m in \u001b[0;36m<module>\u001b[0;34m()\u001b[0m\n\u001b[0;32m----> 1\u001b[0;31m \u001b[0mM\u001b[0m \u001b[0;34m=\u001b[0m \u001b[0;34m(\u001b[0m\u001b[0;34m(\u001b[0m\u001b[0ml\u001b[0m \u001b[0;34m*\u001b[0m \u001b[0ml1\u001b[0m\u001b[0;34m.\u001b[0m\u001b[0minv\u001b[0m\u001b[0;34m(\u001b[0m\u001b[0;34m)\u001b[0m\u001b[0;34m)\u001b[0m\u001b[0;34m.\u001b[0m\u001b[0mlog\u001b[0m\u001b[0;34m(\u001b[0m\u001b[0;34m)\u001b[0m \u001b[0;34m/\u001b[0m \u001b[0;36m2.\u001b[0m\u001b[0;34m)\u001b[0m\u001b[0;34m.\u001b[0m\u001b[0mexp\u001b[0m\u001b[0;34m(\u001b[0m\u001b[0;34m)\u001b[0m\u001b[0;34m\u001b[0m\u001b[0m\n\u001b[0m\u001b[1;32m      2\u001b[0m \u001b[0mprint\u001b[0m\u001b[0;34m(\u001b[0m\u001b[0mM\u001b[0m\u001b[0;34m)\u001b[0m\u001b[0;34m\u001b[0m\u001b[0m\n",
      "\u001b[0;31mTypeError\u001b[0m: unsupported operand type(s) for /: 'versor_pybind11.Dll' and 'float'"
     ]
    }
   ],
   "source": [
    "M = ((l * l1.inv()).log() / 2.).exp()\n",
    "print(M)"
   ]
  },
  {
   "cell_type": "code",
   "execution_count": 38,
   "metadata": {
    "collapsed": false
   },
   "outputs": [
    {
     "name": "stdout",
     "output_type": "stream",
     "text": [
      "Pnt: [ 0 0 0 1 0 ]\n"
     ]
    }
   ],
   "source": [
    "print(vsr.Vec(0,0,0).null().spin(l * l1.inv()))"
   ]
  },
  {
   "cell_type": "code",
   "execution_count": 39,
   "metadata": {
    "collapsed": false
   },
   "outputs": [
    {
     "name": "stdout",
     "output_type": "stream",
     "text": [
      "Pnt: [ 0 0 0 1 0 ]\n"
     ]
    }
   ],
   "source": [
    "print(vsr.Vec(0,0,0).null().reflect_in_line(l1.inv()).reflect_in_line(l))"
   ]
  },
  {
   "cell_type": "markdown",
   "metadata": {},
   "source": [
    "### Lines"
   ]
  },
  {
   "cell_type": "code",
   "execution_count": 40,
   "metadata": {
    "collapsed": false
   },
   "outputs": [
    {
     "name": "stdout",
     "output_type": "stream",
     "text": [
      "Dll: [ 0.7071 0 0 0 -0.7071 0.7071 ]\n",
      "Vec: [ 0 0 1 ]\n"
     ]
    }
   ],
   "source": [
    "p1 = vsr.Vec(1,0,1).null()\n",
    "p2 = vsr.Vec(2,1,1).null()\n",
    "\n",
    "l1 = vsr.Dll(vsr.Vec(0,0,0).null(), vsr.Vec(1,0,0).null()).unit()\n",
    "# l = vsr.Dll(vsr.Vec(0,0.,1).null(), vsr.Vec(1,0,1).null()).unit()\n",
    "\n",
    "l = vsr.Dll(p1,p2).unit()\n",
    "l_dir = l.dir().vec().unit()\n",
    "l_loc = l.loc(vsr.Vec(0,0,0).null()).vec()\n",
    "\n",
    "l2 = l - l1\n",
    "l3 = l.comm(l1)\n",
    "print(l3)\n",
    "\n",
    "m1 = l1.ratio(l,0.1)\n",
    "# print(l)\n",
    "# print(l1.spin(m1))\n",
    "# ms = [m1]\n",
    "# for i in range(9):\n",
    "#     m1 = m1 * m1\n",
    "#     ms.append(m1)\n",
    "    \n",
    "# print(ms)\n",
    "    \n",
    "\n",
    "# line_meshes = [line_mesh(l) for ] \n",
    "\n",
    "m = ((l * l1.inv()).log() * 0.5 ).exp()\n",
    "w = m.trs().reject_from(m.rot().log().unit())\n",
    "v = m.trs().project_onto(m.rot().log().unit())\n",
    "print(w)\n",
    "\n",
    "d = l_loc <= l_dir.unduale()\n",
    "\n",
    "scene = Scene(children=[\n",
    "        frame_mesh(),\n",
    "#         line_mesh(l1.spin(m1)),\n",
    "#         line_mesh(l1.spin(m1 * m1)),\n",
    "#         line_mesh(l1.spin(m1 * m1 * m1)),\n",
    "#         line_mesh(l1.spin(m1 * m1 * m1 * m1)),\n",
    "#         line_mesh(l1.spin(m1 * m1 * m1 * m1 * m1)),\n",
    "#         line_mesh(l1.spin(m1 * m1 * m1 * m1 * m1)),\n",
    "#         line_mesh(l1.spin(m1 * m1 * m1 * m1 * m1 * m1 )),\n",
    "#         line_mesh(l1.spin(m1 * m1 * m1 * m1 * m1 * m1 * m1)),\n",
    "#         line_mesh(l1.spin(m1 * m1 * m1 * m1 * m1 * m1 * m1 * m1)),\n",
    "#         line_mesh(l1.spin(m1 * m1 * m1 * m1 * m1 * m1 * m1 * m1 * m1)),\n",
    "#         line_mesh(l1.spin(m1 * m1 * m1 * m1 * m1 * m1 * m1 * m1 * m1 * m1)),\n",
    "        \n",
    "#         point_mesh(vsr.Vec(0,0,1), color='blue'),\n",
    "#         point_mesh(vsr.Vec(1,0,1), color='red'),\n",
    "        line_mesh(l, color='steelblue', length=100),\n",
    "        line_mesh(l1, color='slategray', length=100),\n",
    "#         point_mesh(l_loc, color=rgb2hex(255,56,0)),\n",
    "#         point_mesh(vsr.Vec(0,0,0),color='#ffff00'),\n",
    "#         point_mesh(p1,color='#ff00ff'),\n",
    "#         vector_mesh(w, position=v),\n",
    "#         vector_mesh(v),\n",
    "        \n",
    "        # l2 = l - l1\n",
    "#         line_mesh(l2, color='hotpink', length=100),\n",
    "        \n",
    "        # l3 = l x l2 commutator\n",
    "        line_mesh(l3, color='lightgreen', length=100),\n",
    "\n",
    "\n",
    "#         vector_mesh(p1.vec(),color='#ff00ff'),\n",
    "#         vector_mesh(l_dir,positil = l1.trs(vsr.Vec(0,0,1))on=p1,color='#ff00ff', arrow=True),\n",
    "\n",
    "\n",
    "        \n",
    "        AmbientLight(color='#cccccc')])\n",
    "\n",
    "camera = PerspectiveCamera(position=[3, -3, 3])\n",
    "renderer = Renderer(camera=camera, \n",
    "                    scene=scene, \n",
    "                    controls=[TrackballControls(controlling=camera)],\n",
    "                    background = 'white')\n",
    "renderer.width = '1024'\n",
    "renderer.height = '768'\n",
    "display(renderer)"
   ]
  },
  {
   "cell_type": "code",
   "execution_count": 41,
   "metadata": {
    "collapsed": false
   },
   "outputs": [
    {
     "name": "stdout",
     "output_type": "stream",
     "text": [
      "Dll: [ 0.7071 0 0 0 -0.7071 0.7071 ]\n"
     ]
    }
   ],
   "source": [
    "print(l3)"
   ]
  },
  {
   "cell_type": "code",
   "execution_count": 61,
   "metadata": {
    "collapsed": false
   },
   "outputs": [
    {
     "name": "stdout",
     "output_type": "stream",
     "text": [
      "Dll: [ 0 -0.7071 0.7071 -0.7071 0.7071 0.7071 ]\n",
      "Dll: [ 0 0 1 0 0 0 ]\n",
      "Dll: [ 0 -0.7071 -0.2929 -0.7071 0.7071 0.7071 ]\n"
     ]
    }
   ],
   "source": [
    "print(l)\n",
    "print(l1)\n",
    "print(l2)"
   ]
  },
  {
   "cell_type": "code",
   "execution_count": 62,
   "metadata": {
    "collapsed": false
   },
   "outputs": [
    {
     "name": "stdout",
     "output_type": "stream",
     "text": [
      "Mot: [ 0.92 -0.38 0 0 -5.2e-18 0.38 -0.46 0.19 ]\n"
     ]
    }
   ],
   "source": [
    "print(m1 * m1 * m1 * m1 * m1 * m1 * m1 * m1 * m1 * m1)"
   ]
  },
  {
   "cell_type": "code",
   "execution_count": 63,
   "metadata": {
    "collapsed": false
   },
   "outputs": [
    {
     "ename": "TypeError",
     "evalue": "__init__(): incompatible constructor arguments. The following argument types are supported:\n    1. versor_pybind11.Dll(arg0: float, arg1: float, arg2: float, arg3: float, arg4: float, arg5: float)\n    2. versor_pybind11.Dll(arg0: versor_pybind11.Pnt, arg1: versor_pybind11.Pnt)\n    3. versor_pybind11.Dll(arg0: versor_pybind11.Pnt, arg1: versor_pybind11.Vec)\n\nInvoked with: Vec: [ 0 0 0 ], Vec: [ 1 0 0 ]",
     "output_type": "error",
     "traceback": [
      "\u001b[0;31m---------------------------------------------------------------------------\u001b[0m",
      "\u001b[0;31mTypeError\u001b[0m                                 Traceback (most recent call last)",
      "\u001b[0;32m<ipython-input-63-d22dad0cf1cf>\u001b[0m in \u001b[0;36m<module>\u001b[0;34m()\u001b[0m\n\u001b[0;32m----> 1\u001b[0;31m \u001b[0ml1\u001b[0m \u001b[0;34m=\u001b[0m \u001b[0mvsr\u001b[0m\u001b[0;34m.\u001b[0m\u001b[0mDll\u001b[0m\u001b[0;34m(\u001b[0m\u001b[0mvsr\u001b[0m\u001b[0;34m.\u001b[0m\u001b[0mVec\u001b[0m\u001b[0;34m(\u001b[0m\u001b[0;36m0\u001b[0m\u001b[0;34m,\u001b[0m\u001b[0;36m0\u001b[0m\u001b[0;34m,\u001b[0m\u001b[0;36m0\u001b[0m\u001b[0;34m)\u001b[0m\u001b[0;34m,\u001b[0m \u001b[0mvsr\u001b[0m\u001b[0;34m.\u001b[0m\u001b[0mVec\u001b[0m\u001b[0;34m(\u001b[0m\u001b[0;36m1\u001b[0m\u001b[0;34m,\u001b[0m\u001b[0;36m0\u001b[0m\u001b[0;34m,\u001b[0m\u001b[0;36m0\u001b[0m\u001b[0;34m)\u001b[0m\u001b[0;34m)\u001b[0m\u001b[0;34m.\u001b[0m\u001b[0munit\u001b[0m\u001b[0;34m(\u001b[0m\u001b[0;34m)\u001b[0m\u001b[0;34m\u001b[0m\u001b[0m\n\u001b[0m\u001b[1;32m      2\u001b[0m \u001b[0ml2\u001b[0m \u001b[0;34m=\u001b[0m \u001b[0mvsr\u001b[0m\u001b[0;34m.\u001b[0m\u001b[0mDll\u001b[0m\u001b[0;34m(\u001b[0m\u001b[0mvsr\u001b[0m\u001b[0;34m.\u001b[0m\u001b[0mVec\u001b[0m\u001b[0;34m(\u001b[0m\u001b[0;36m0\u001b[0m\u001b[0;34m,\u001b[0m\u001b[0;34m-\u001b[0m\u001b[0;36m1\u001b[0m\u001b[0;34m,\u001b[0m\u001b[0;36m1\u001b[0m\u001b[0;34m)\u001b[0m\u001b[0;34m,\u001b[0m \u001b[0mvsr\u001b[0m\u001b[0;34m.\u001b[0m\u001b[0mVec\u001b[0m\u001b[0;34m(\u001b[0m\u001b[0;36m1\u001b[0m\u001b[0;34m,\u001b[0m\u001b[0;34m-\u001b[0m\u001b[0;36m1\u001b[0m\u001b[0;34m,\u001b[0m\u001b[0;36m1\u001b[0m\u001b[0;34m)\u001b[0m\u001b[0;34m)\u001b[0m\u001b[0;34m.\u001b[0m\u001b[0munit\u001b[0m\u001b[0;34m(\u001b[0m\u001b[0;34m)\u001b[0m\u001b[0;34m\u001b[0m\u001b[0m\n\u001b[1;32m      3\u001b[0m \u001b[0mpao\u001b[0m \u001b[0;34m=\u001b[0m \u001b[0mvsr\u001b[0m\u001b[0;34m.\u001b[0m\u001b[0mVec\u001b[0m\u001b[0;34m(\u001b[0m\u001b[0;36m0\u001b[0m\u001b[0;34m,\u001b[0m\u001b[0;36m0\u001b[0m\u001b[0;34m,\u001b[0m\u001b[0;36m0\u001b[0m\u001b[0;34m)\u001b[0m\u001b[0;34m.\u001b[0m\u001b[0mnull\u001b[0m\u001b[0;34m(\u001b[0m\u001b[0;34m)\u001b[0m\u001b[0;34m\u001b[0m\u001b[0m\n\u001b[1;32m      4\u001b[0m \u001b[0;34m\u001b[0m\u001b[0m\n\u001b[1;32m      5\u001b[0m \u001b[0ml3\u001b[0m \u001b[0;34m=\u001b[0m \u001b[0ml2\u001b[0m \u001b[0;34m-\u001b[0m \u001b[0ml1\u001b[0m\u001b[0;34m\u001b[0m\u001b[0m\n",
      "\u001b[0;31mTypeError\u001b[0m: __init__(): incompatible constructor arguments. The following argument types are supported:\n    1. versor_pybind11.Dll(arg0: float, arg1: float, arg2: float, arg3: float, arg4: float, arg5: float)\n    2. versor_pybind11.Dll(arg0: versor_pybind11.Pnt, arg1: versor_pybind11.Pnt)\n    3. versor_pybind11.Dll(arg0: versor_pybind11.Pnt, arg1: versor_pybind11.Vec)\n\nInvoked with: Vec: [ 0 0 0 ], Vec: [ 1 0 0 ]"
     ]
    }
   ],
   "source": [
    "l1 = vsr.Dll(vsr.Vec(0,0,0), vsr.Vec(1,0,0)).unit()\n",
    "l2 = vsr.Dll(vsr.Vec(0,-1,1), vsr.Vec(1,-1,1)).unit()\n",
    "pao = vsr.Vec(0,0,0).null()\n",
    "\n",
    "l3 = l2 - l1\n",
    "l4 = l2.comm(l1)\n",
    "\n",
    "scene = Scene(children=[\n",
    "        frame_mesh(),\n",
    "        line_mesh(l1, color='#ffff00'),\n",
    "        point_mesh(pao),\n",
    "        vector_mesh(pao.vec()),\n",
    "        \n",
    "        line_mesh(l2, color='#ffff00'),\n",
    "        \n",
    "        line_mesh(l3, color='powderblue'), \n",
    "        line_mesh(l4, color='deeppink'),\n",
    "\n",
    "        vector_mesh(l_dir, position=l_loc, color=rgb2hex(255,0,123), arrow=True),\n",
    "        bivector_mesh((l_loc ^ l_dir), color = 'salmon'),\n",
    "\n",
    "        \n",
    "        AmbientLight(color='#cccccc')])\n",
    "\n",
    "camera = PerspectiveCamera(position=[3, -3, 3])\n",
    "renderer = Renderer(camera=camera, \n",
    "                    scene=scene, \n",
    "                    controls=[TrackballControls(controlling=camera)],\n",
    "                    background = 'gray')\n",
    "# renderer.width = '1024'\n",
    "# renderer.height = '768'\n",
    "display(renderer)"
   ]
  },
  {
   "cell_type": "code",
   "execution_count": 64,
   "metadata": {
    "collapsed": false
   },
   "outputs": [
    {
     "name": "stdout",
     "output_type": "stream",
     "text": [
      "Dll: [ 0 0 1 0 0 0 ]\n",
      "Dll: [ 0 -0.7071 -0.2929 -0.7071 0.7071 0.7071 ]\n",
      "Dll: [ 0.7071 0 0 0 -0.7071 0.7071 ]\n"
     ]
    },
    {
     "ename": "NameError",
     "evalue": "name 'l4' is not defined",
     "output_type": "error",
     "traceback": [
      "\u001b[0;31m---------------------------------------------------------------------------\u001b[0m",
      "\u001b[0;31mNameError\u001b[0m                                 Traceback (most recent call last)",
      "\u001b[0;32m<ipython-input-64-f771dec12f14>\u001b[0m in \u001b[0;36m<module>\u001b[0;34m()\u001b[0m\n\u001b[1;32m      2\u001b[0m \u001b[0mprint\u001b[0m\u001b[0;34m(\u001b[0m\u001b[0ml2\u001b[0m\u001b[0;34m)\u001b[0m\u001b[0;34m\u001b[0m\u001b[0m\n\u001b[1;32m      3\u001b[0m \u001b[0mprint\u001b[0m\u001b[0;34m(\u001b[0m\u001b[0ml3\u001b[0m\u001b[0;34m)\u001b[0m\u001b[0;34m\u001b[0m\u001b[0m\n\u001b[0;32m----> 4\u001b[0;31m \u001b[0mprint\u001b[0m\u001b[0;34m(\u001b[0m\u001b[0ml4\u001b[0m\u001b[0;34m)\u001b[0m\u001b[0;34m\u001b[0m\u001b[0m\n\u001b[0m",
      "\u001b[0;31mNameError\u001b[0m: name 'l4' is not defined"
     ]
    }
   ],
   "source": [
    "print(l1)\n",
    "print(l2)\n",
    "print(l3)\n",
    "print(l4)"
   ]
  },
  {
   "cell_type": "code",
   "execution_count": 65,
   "metadata": {
    "collapsed": false
   },
   "outputs": [
    {
     "ename": "TypeError",
     "evalue": "unsupported operand type(s) for /: 'versor_pybind11.Biv' and 'float'",
     "output_type": "error",
     "traceback": [
      "\u001b[0;31m---------------------------------------------------------------------------\u001b[0m",
      "\u001b[0;31mTypeError\u001b[0m                                 Traceback (most recent call last)",
      "\u001b[0;32m<ipython-input-65-64ccd27b07e5>\u001b[0m in \u001b[0;36m<module>\u001b[0;34m()\u001b[0m\n\u001b[0;32m----> 1\u001b[0;31m \u001b[0mmotor\u001b[0m \u001b[0;34m=\u001b[0m \u001b[0mvsr\u001b[0m\u001b[0;34m.\u001b[0m\u001b[0mVec\u001b[0m\u001b[0;34m(\u001b[0m\u001b[0;36m1\u001b[0m\u001b[0;34m,\u001b[0m\u001b[0;36m1\u001b[0m\u001b[0;34m,\u001b[0m\u001b[0;36m1\u001b[0m\u001b[0;34m)\u001b[0m\u001b[0;34m.\u001b[0m\u001b[0mtrs\u001b[0m\u001b[0;34m(\u001b[0m\u001b[0;34m)\u001b[0m \u001b[0;34m*\u001b[0m \u001b[0mvsr\u001b[0m\u001b[0;34m.\u001b[0m\u001b[0mRot\u001b[0m\u001b[0;34m(\u001b[0m\u001b[0mvsr\u001b[0m\u001b[0;34m.\u001b[0m\u001b[0mBiv\u001b[0m\u001b[0;34m(\u001b[0m\u001b[0;36m0\u001b[0m\u001b[0;34m,\u001b[0m\u001b[0;36m1\u001b[0m\u001b[0;34m,\u001b[0m\u001b[0;36m0\u001b[0m\u001b[0;34m)\u001b[0m \u001b[0;34m*\u001b[0m \u001b[0mnp\u001b[0m\u001b[0;34m.\u001b[0m\u001b[0mpi\u001b[0m\u001b[0;34m/\u001b[0m\u001b[0;36m6.0\u001b[0m\u001b[0;34m)\u001b[0m\u001b[0;34m\u001b[0m\u001b[0m\n\u001b[0m\u001b[1;32m      2\u001b[0m \u001b[0mprint\u001b[0m\u001b[0;34m(\u001b[0m\u001b[0mmotor\u001b[0m\u001b[0;34m)\u001b[0m\u001b[0;34m\u001b[0m\u001b[0m\n\u001b[1;32m      3\u001b[0m \u001b[0mprint\u001b[0m\u001b[0;34m(\u001b[0m\u001b[0mmotor\u001b[0m\u001b[0;34m.\u001b[0m\u001b[0mtrs\u001b[0m\u001b[0;34m(\u001b[0m\u001b[0;34m)\u001b[0m\u001b[0;34m)\u001b[0m\u001b[0;34m\u001b[0m\u001b[0m\n\u001b[1;32m      4\u001b[0m \u001b[0mprint\u001b[0m\u001b[0;34m(\u001b[0m\u001b[0mmotor\u001b[0m\u001b[0;34m.\u001b[0m\u001b[0mrot\u001b[0m\u001b[0;34m(\u001b[0m\u001b[0;34m)\u001b[0m\u001b[0;34m)\u001b[0m\u001b[0;34m\u001b[0m\u001b[0m\n",
      "\u001b[0;31mTypeError\u001b[0m: unsupported operand type(s) for /: 'versor_pybind11.Biv' and 'float'"
     ]
    }
   ],
   "source": [
    "motor = vsr.Vec(1,1,1).trs() * vsr.Rot(vsr.Biv(0,1,0) * np.pi/6.0)\n",
    "print(motor)\n",
    "print(motor.trs())\n",
    "print(motor.rot())"
   ]
  },
  {
   "cell_type": "code",
   "execution_count": 66,
   "metadata": {
    "collapsed": false
   },
   "outputs": [],
   "source": [
    "make_text?"
   ]
  },
  {
   "cell_type": "code",
   "execution_count": 67,
   "metadata": {
    "collapsed": false
   },
   "outputs": [],
   "source": [
    "@interact(x=10,y=10,z=10)\n",
    "def position_camera(x,y,z):\n",
    "    camera.position = [x,y,z]"
   ]
  },
  {
   "cell_type": "code",
   "execution_count": 39,
   "metadata": {
    "collapsed": false
   },
   "outputs": [],
   "source": [
    "class Sphere(object):\n",
    "    def __init__(self):\n",
    "        pass\n",
    "    def update(vsr_sph):\n",
    "        r, p, q = vsr_sph.rpo()\n",
    "        \n",
    "def make_sphere():\n",
    "    return Mesh(geometry = SphereGeometry(),\n",
    "                material= BasicMaterial(color='red'))\n",
    "\n",
    "def make_circle():\n",
    "    return Mesh(geometry = RingGeometry(thetaSegments=64), \n",
    "              material= BasicMaterial(color='black'))\n",
    "\n",
    "class Game(object):\n",
    "    class Circle(vsr.Cir, Mesh):\n",
    "        def __init__(self):\n",
    "            self._color = 'black'\n",
    "            super(Mesh, self).__init__(geometry = RingGeometry(thetaSegments=64), \n",
    "                          material= BasicMaterial(color=self._color))\n",
    "            \n",
    "        @property\n",
    "        def mesh(self):\n",
    "            return self._mesh\n",
    "        \n",
    "        def update_mesh(self):\n",
    "            (r, p, q) = self.rpo()\n",
    "            self.geometry.innerRadius = r\n",
    "            self.geometry.outerRadius = r + 0.1\n",
    "            self.position = p\n",
    "            self.quaternion = q\n",
    "        "
   ]
  },
  {
   "cell_type": "markdown",
   "metadata": {},
   "source": [
    "## Rotation"
   ]
  },
  {
   "cell_type": "code",
   "execution_count": 40,
   "metadata": {
    "collapsed": false
   },
   "outputs": [
    {
     "ename": "AttributeError",
     "evalue": "'Vec' object has no attribute 'reflect'",
     "output_type": "error",
     "traceback": [
      "\u001b[1;31m---------------------------------------------------------------------------\u001b[0m",
      "\u001b[1;31mAttributeError\u001b[0m                            Traceback (most recent call last)",
      "\u001b[1;32m<ipython-input-40-e7c73f6cac12>\u001b[0m in \u001b[0;36m<module>\u001b[1;34m()\u001b[0m\n\u001b[0;32m      9\u001b[0m \u001b[1;33m\u001b[0m\u001b[0m\n\u001b[0;32m     10\u001b[0m \u001b[0ma\u001b[0m \u001b[1;33m=\u001b[0m \u001b[0mvsr\u001b[0m\u001b[1;33m.\u001b[0m\u001b[0mVec\u001b[0m\u001b[1;33m(\u001b[0m\u001b[1;36m1\u001b[0m\u001b[1;33m,\u001b[0m\u001b[1;36m0\u001b[0m\u001b[1;33m,\u001b[0m\u001b[1;36m1\u001b[0m\u001b[1;33m)\u001b[0m\u001b[1;33m\u001b[0m\u001b[0m\n\u001b[1;32m---> 11\u001b[1;33m \u001b[0ma_rot\u001b[0m \u001b[1;33m=\u001b[0m \u001b[0ma\u001b[0m\u001b[1;33m.\u001b[0m\u001b[0mreflect\u001b[0m\u001b[1;33m(\u001b[0m\u001b[0mn2\u001b[0m\u001b[1;33m)\u001b[0m\u001b[1;33m.\u001b[0m\u001b[0mreflect\u001b[0m\u001b[1;33m(\u001b[0m\u001b[0mn1\u001b[0m\u001b[1;33m)\u001b[0m\u001b[1;33m\u001b[0m\u001b[0m\n\u001b[0m\u001b[0;32m     12\u001b[0m \u001b[1;32mprint\u001b[0m\u001b[1;33m(\u001b[0m\u001b[0ma_rot\u001b[0m\u001b[1;33m)\u001b[0m\u001b[1;33m\u001b[0m\u001b[0m\n\u001b[0;32m     13\u001b[0m \u001b[1;32mprint\u001b[0m\u001b[1;33m(\u001b[0m\u001b[0ma\u001b[0m\u001b[1;33m.\u001b[0m\u001b[0mspin\u001b[0m\u001b[1;33m(\u001b[0m\u001b[0mR\u001b[0m\u001b[1;33m)\u001b[0m\u001b[1;33m)\u001b[0m\u001b[1;33m\u001b[0m\u001b[0m\n",
      "\u001b[1;31mAttributeError\u001b[0m: 'Vec' object has no attribute 'reflect'"
     ]
    }
   ],
   "source": [
    "\n",
    "n1 = vsr.Vec(0,1,0).unit()\n",
    "# n2 = vsr.Vec(-1,1,0).unit()\n",
    "n2 = n1.spin(vsr.Biv(-np.deg2rad(30),0,0).exp())\n",
    "\n",
    "B = n1 ^ n2\n",
    "\n",
    "R = n1 * n2\n",
    "\n",
    "a = vsr.Vec(1,0,1)\n",
    "a_rot = a.reflect(n2).reflect(n1)\n",
    "print(a_rot)\n",
    "print(a.spin(R))\n",
    "\n",
    "\n",
    "scene = Scene(children=[\n",
    "        frame_mesh(),\n",
    "        vector_mesh(n1,color='yellow'),\n",
    "        vector_mesh(n2,color='cyan'),\n",
    "        vector_mesh(a, color='hotpink'),\n",
    "        vector_mesh(a.reflect(n2)),\n",
    "        vector_mesh(a_rot, color='black'),\n",
    "#         bivector_mesh(n1.unduale(),color='yellow'),\n",
    "#         bivector_mesh(n2.unduale(),color='cyan'),\n",
    "        bivector_mesh(B,color='gray'),\n",
    "        AmbientLight(color='#cccccc')])\n",
    "\n",
    "camera = PerspectiveCamera(position=[3, -3, 3])\n",
    "renderer = Renderer(camera=camera, \n",
    "                    scene=scene, \n",
    "                    controls=[TrackballControls(controlling=camera)],\n",
    "                    background = 'white')\n",
    "# renderer.width = '1024'\n",
    "# renderer.height = '768'\n",
    "display(renderer)"
   ]
  },
  {
   "cell_type": "code",
   "execution_count": null,
   "metadata": {
    "collapsed": false
   },
   "outputs": [],
   "source": [
    "vsr.Vec(1,0,0).spin(R)"
   ]
  },
  {
   "cell_type": "code",
   "execution_count": null,
   "metadata": {
    "collapsed": false
   },
   "outputs": [],
   "source": [
    "2 * np.rad2deg(np.arccos(R[0]))"
   ]
  },
  {
   "cell_type": "code",
   "execution_count": null,
   "metadata": {
    "collapsed": false
   },
   "outputs": [],
   "source": [
    "sph1 = vsr.Sph(vsr.Vec(0.7,0,0).null(), 1.5)\n",
    "sph2 = vsr.Sph(vsr.Vec(-0.5,0,0).null(), 1.)\n",
    "cir = sph1.meet(sph2)\n",
    "r = cir.rot()\n",
    "\n",
    "sphere1 = Mesh(geometry = SphereGeometry(radius=sph1.radius(),\n",
    "                                        widthSegments=64,\n",
    "                                        heightSegments=64), \n",
    "              material= BasicMaterial(color='red'),\n",
    "              position=np.array(sph1.pnt())[:3].tolist())\n",
    "\n",
    "sphere2 = Mesh(geometry = SphereGeometry(radius=sph2.radius(),\n",
    "                                        widthSegments=64,\n",
    "                                        heightSegments=64), \n",
    "              material= BasicMaterial(color='blue', wireframe=False),\n",
    "              position=np.array(sph2.pnt())[:3].tolist())\n",
    "\n",
    "circle = Mesh(geometry = RingGeometry(innerRadius=cir.radius(),\n",
    "                                                outerRadius=cir.radius()+0.05,\n",
    "                                                thetaSegments=64), \n",
    "              material= BasicMaterial(color='black'),\n",
    "              position=np.array(cir.pnt())[:3].tolist(),\n",
    "              quaternion = cir.rot().quat().tolist())\n",
    "\n",
    "\n",
    "\n",
    "scene = Scene(children=[sphere1, sphere2, circle])\n",
    "c = PerspectiveCamera(position=[10, 5, 10])\n",
    "renderer = Renderer(camera=c, scene = scene, controls=[TrackballControls(controlling=c)],\n",
    "                    background = 'white')\n",
    "display(renderer)\n",
    "@interact(circlecolor=('hotpink', 'gray', 'black'),\n",
    "         sphere1color=('hotpink', 'gray', 'black'),\n",
    "         sphere2color=('hotpink', 'gray', 'black'))\n",
    "def set_radius(circlecolor, sphere1color, sphere2color):\n",
    "    sphere1.material.color = sphere1color\n",
    "    sphere2.material.color = sphere2color\n",
    "    circle.material.color = circlecolor"
   ]
  },
  {
   "cell_type": "code",
   "execution_count": null,
   "metadata": {
    "collapsed": false
   },
   "outputs": [],
   "source": [
    "%%javascript\n",
    "console.log('hallo')\n",
    "Jupyter.notebook.get_selected_cell()"
   ]
  },
  {
   "cell_type": "code",
   "execution_count": null,
   "metadata": {
    "collapsed": false
   },
   "outputs": [],
   "source": [
    "cir = vsr.Sph(vsr.Vec(0,0,0).null(), 3).meet(vsr.Sph(vsr.Vec(1,0,0).null(), 3))\n",
    "print(cir.rpo())\n",
    "radius, position, quat = cir.rpo()"
   ]
  },
  {
   "cell_type": "code",
   "execution_count": null,
   "metadata": {
    "collapsed": true
   },
   "outputs": [],
   "source": []
  },
  {
   "cell_type": "code",
   "execution_count": null,
   "metadata": {
    "collapsed": true
   },
   "outputs": [],
   "source": []
  }
 ],
 "metadata": {
  "anaconda-cloud": {},
  "kernelspec": {
   "display_name": "Python [default]",
   "language": "python",
   "name": "python3"
  },
  "language_info": {
   "codemirror_mode": {
    "name": "ipython",
    "version": 3
   },
   "file_extension": ".py",
   "mimetype": "text/x-python",
   "name": "python",
   "nbconvert_exporter": "python",
   "pygments_lexer": "ipython3",
   "version": "3.5.2"
  },
  "widgets": {
   "state": {
    "19a8429ab6654e14a12fbc73bf2e7e5d": {
     "views": [
      {
       "cell_index": 37
      }
     ]
    },
    "19e7f022f2814dbfa6052ad7551c1a3b": {
     "views": [
      {
       "cell_index": 20
      }
     ]
    },
    "25aaaf149208443cb5a5a51b036ae362": {
     "views": [
      {
       "cell_index": 8
      }
     ]
    },
    "33fcb2cf879b4ba892c00f5cb9584048": {
     "views": [
      {
       "cell_index": 49
      }
     ]
    },
    "4c45e66dec584b51b41c3c352c6afb0d": {
     "views": [
      {
       "cell_index": 34
      }
     ]
    },
    "5f887d95b9eb4c27a5a23ba815ff2a9d": {
     "views": [
      {
       "cell_index": 12
      }
     ]
    },
    "6c3632a8d157438384f28ce838eea0b5": {
     "views": [
      {
       "cell_index": 19
      }
     ]
    },
    "7327ecae7e3240e58488bd6071d27548": {
     "views": [
      {
       "cell_index": 24
      }
     ]
    },
    "7a694c79369b441d98a9e00e077a4542": {
     "views": [
      {
       "cell_index": 28
      }
     ]
    },
    "7d42aa7ea2a04d6cbad668e28354524b": {
     "views": [
      {
       "cell_index": 14
      }
     ]
    },
    "924cee51fab5479ab2d0dc1055e4cc66": {
     "views": [
      {
       "cell_index": 41
      }
     ]
    },
    "9b6bf03c271f4d93ad711e893dee43c9": {
     "views": [
      {
       "cell_index": 21
      }
     ]
    },
    "b42f821a25d3448295cff4506346a9a3": {
     "views": [
      {
       "cell_index": 39
      }
     ]
    },
    "bce242de3140407fb31ca926f84a088b": {
     "views": [
      {
       "cell_index": 10
      }
     ]
    },
    "c7e5f4a98e29416abd6f6457276137be": {
     "views": [
      {
       "cell_index": 32
      }
     ]
    },
    "d38631148be04698804699c9f2db6dbb": {
     "views": [
      {
       "cell_index": 18
      }
     ]
    },
    "eb54618d15e04c088caf7dac582b0c63": {
     "views": [
      {
       "cell_index": 30
      }
     ]
    },
    "fb31ecab934542e2a76ed85cb3dbb841": {
     "views": [
      {
       "cell_index": 56
      }
     ]
    },
    "fb515953236647b7ac5d65241ec3a9e5": {
     "views": [
      {
       "cell_index": 16
      }
     ]
    }
   },
   "version": "1.2.0"
  }
 },
 "nbformat": 4,
 "nbformat_minor": 0
}
